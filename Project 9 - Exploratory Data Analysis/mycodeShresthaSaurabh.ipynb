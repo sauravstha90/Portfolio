{
 "cells": [
  {
   "cell_type": "code",
   "execution_count": 2,
   "metadata": {},
   "outputs": [
    {
     "data": {
      "text/plain": [
       "'\\n    Dataset Name: Olympic\\n    Dataset Description: The dataset used  a list of all the medal winners in the Summer Olympics \\n    from 1976 Montreal to 2008 Beijing. It includes each and every medal awarded within the period.\\n    \\n'"
      ]
     },
     "execution_count": 2,
     "metadata": {},
     "output_type": "execute_result"
    }
   ],
   "source": [
    "\"\"\"\n",
    "    Dataset Name: Olympic\n",
    "    Dataset Description: The dataset used  a list of all the medal winners in the Summer Olympics \n",
    "    from 1976 Montreal to 2008 Beijing. It includes each and every medal awarded within the period.\n",
    "    \n",
    "\"\"\""
   ]
  },
  {
   "cell_type": "code",
   "execution_count": 185,
   "metadata": {},
   "outputs": [],
   "source": [
    "# importing necessary packages for the project\n",
    "import pandas as pd\n",
    "import matplotlib\n",
    "import thinkplot\n",
    "import numpy as np\n",
    "import thinkstats2\n",
    "import random\n",
    "from __future__ import print_function, division\n",
    "from scipy import stats\n",
    "import statsmodels.api as sm\n",
    "import statsmodels.formula.api as smf\n",
    "\n",
    "%matplotlib inline\n",
    "\n",
    "\n",
    "\n"
   ]
  },
  {
   "cell_type": "code",
   "execution_count": 186,
   "metadata": {},
   "outputs": [],
   "source": [
    "# reading excel file\n",
    "olympic_data = pd.read_excel(\"C:/Users/Saurabh/Desktop/Olympic.xlsx\")"
   ]
  },
  {
   "cell_type": "code",
   "execution_count": 187,
   "metadata": {},
   "outputs": [
    {
     "data": {
      "text/html": [
       "<div>\n",
       "<style scoped>\n",
       "    .dataframe tbody tr th:only-of-type {\n",
       "        vertical-align: middle;\n",
       "    }\n",
       "\n",
       "    .dataframe tbody tr th {\n",
       "        vertical-align: top;\n",
       "    }\n",
       "\n",
       "    .dataframe thead th {\n",
       "        text-align: right;\n",
       "    }\n",
       "</style>\n",
       "<table border=\"1\" class=\"dataframe\">\n",
       "  <thead>\n",
       "    <tr style=\"text-align: right;\">\n",
       "      <th></th>\n",
       "      <th>City</th>\n",
       "      <th>Year</th>\n",
       "      <th>Sport</th>\n",
       "      <th>Discipline</th>\n",
       "      <th>Event</th>\n",
       "      <th>Athlete</th>\n",
       "      <th>Gender</th>\n",
       "      <th>Country_Code</th>\n",
       "      <th>Country</th>\n",
       "      <th>Event_gender</th>\n",
       "      <th>Medal</th>\n",
       "    </tr>\n",
       "  </thead>\n",
       "  <tbody>\n",
       "    <tr>\n",
       "      <th>0</th>\n",
       "      <td>Montreal</td>\n",
       "      <td>1976.0</td>\n",
       "      <td>Aquatics</td>\n",
       "      <td>Diving</td>\n",
       "      <td>3m springboard</td>\n",
       "      <td>KÖHLER, Christa</td>\n",
       "      <td>Women</td>\n",
       "      <td>GDR</td>\n",
       "      <td>East Germany</td>\n",
       "      <td>W</td>\n",
       "      <td>Silver</td>\n",
       "    </tr>\n",
       "    <tr>\n",
       "      <th>1</th>\n",
       "      <td>Montreal</td>\n",
       "      <td>1976.0</td>\n",
       "      <td>Aquatics</td>\n",
       "      <td>Diving</td>\n",
       "      <td>3m springboard</td>\n",
       "      <td>KOSENKOV, Aleksandr</td>\n",
       "      <td>Men</td>\n",
       "      <td>URS</td>\n",
       "      <td>Soviet Union</td>\n",
       "      <td>M</td>\n",
       "      <td>Bronze</td>\n",
       "    </tr>\n",
       "    <tr>\n",
       "      <th>2</th>\n",
       "      <td>Montreal</td>\n",
       "      <td>1976.0</td>\n",
       "      <td>Aquatics</td>\n",
       "      <td>Diving</td>\n",
       "      <td>3m springboard</td>\n",
       "      <td>BOGGS, Philip George</td>\n",
       "      <td>Men</td>\n",
       "      <td>USA</td>\n",
       "      <td>United States</td>\n",
       "      <td>M</td>\n",
       "      <td>Gold</td>\n",
       "    </tr>\n",
       "    <tr>\n",
       "      <th>3</th>\n",
       "      <td>Montreal</td>\n",
       "      <td>1976.0</td>\n",
       "      <td>Aquatics</td>\n",
       "      <td>Diving</td>\n",
       "      <td>3m springboard</td>\n",
       "      <td>CAGNOTTO, Giorgio Franco</td>\n",
       "      <td>Men</td>\n",
       "      <td>ITA</td>\n",
       "      <td>Italy</td>\n",
       "      <td>M</td>\n",
       "      <td>Silver</td>\n",
       "    </tr>\n",
       "    <tr>\n",
       "      <th>4</th>\n",
       "      <td>Montreal</td>\n",
       "      <td>1976.0</td>\n",
       "      <td>Aquatics</td>\n",
       "      <td>Diving</td>\n",
       "      <td>10m platform</td>\n",
       "      <td>WILSON, Deborah Keplar</td>\n",
       "      <td>Women</td>\n",
       "      <td>USA</td>\n",
       "      <td>United States</td>\n",
       "      <td>W</td>\n",
       "      <td>Bronze</td>\n",
       "    </tr>\n",
       "    <tr>\n",
       "      <th>5</th>\n",
       "      <td>Montreal</td>\n",
       "      <td>1976.0</td>\n",
       "      <td>Aquatics</td>\n",
       "      <td>Diving</td>\n",
       "      <td>10m platform</td>\n",
       "      <td>LOUGANIS, Gregory</td>\n",
       "      <td>Men</td>\n",
       "      <td>USA</td>\n",
       "      <td>United States</td>\n",
       "      <td>M</td>\n",
       "      <td>Silver</td>\n",
       "    </tr>\n",
       "    <tr>\n",
       "      <th>6</th>\n",
       "      <td>Montreal</td>\n",
       "      <td>1976.0</td>\n",
       "      <td>Aquatics</td>\n",
       "      <td>Diving</td>\n",
       "      <td>10m platform</td>\n",
       "      <td>VAYTSEKHOVSKAYA, Elena</td>\n",
       "      <td>Women</td>\n",
       "      <td>URS</td>\n",
       "      <td>Soviet Union</td>\n",
       "      <td>W</td>\n",
       "      <td>Gold</td>\n",
       "    </tr>\n",
       "    <tr>\n",
       "      <th>7</th>\n",
       "      <td>Montreal</td>\n",
       "      <td>1976.0</td>\n",
       "      <td>Aquatics</td>\n",
       "      <td>Diving</td>\n",
       "      <td>3m springboard</td>\n",
       "      <td>POTTER-MCINGVALE, Cynthia</td>\n",
       "      <td>Women</td>\n",
       "      <td>USA</td>\n",
       "      <td>United States</td>\n",
       "      <td>W</td>\n",
       "      <td>Bronze</td>\n",
       "    </tr>\n",
       "    <tr>\n",
       "      <th>8</th>\n",
       "      <td>Montreal</td>\n",
       "      <td>1976.0</td>\n",
       "      <td>Aquatics</td>\n",
       "      <td>Diving</td>\n",
       "      <td>10m platform</td>\n",
       "      <td>DIBIASI, Klaus</td>\n",
       "      <td>Men</td>\n",
       "      <td>ITA</td>\n",
       "      <td>Italy</td>\n",
       "      <td>M</td>\n",
       "      <td>Gold</td>\n",
       "    </tr>\n",
       "    <tr>\n",
       "      <th>9</th>\n",
       "      <td>Montreal</td>\n",
       "      <td>1976.0</td>\n",
       "      <td>Aquatics</td>\n",
       "      <td>Diving</td>\n",
       "      <td>10m platform</td>\n",
       "      <td>ALEINIK, Vladimir</td>\n",
       "      <td>Men</td>\n",
       "      <td>URS</td>\n",
       "      <td>Soviet Union</td>\n",
       "      <td>M</td>\n",
       "      <td>Bronze</td>\n",
       "    </tr>\n",
       "  </tbody>\n",
       "</table>\n",
       "</div>"
      ],
      "text/plain": [
       "       City    Year     Sport Discipline           Event  \\\n",
       "0  Montreal  1976.0  Aquatics     Diving  3m springboard   \n",
       "1  Montreal  1976.0  Aquatics     Diving  3m springboard   \n",
       "2  Montreal  1976.0  Aquatics     Diving  3m springboard   \n",
       "3  Montreal  1976.0  Aquatics     Diving  3m springboard   \n",
       "4  Montreal  1976.0  Aquatics     Diving    10m platform   \n",
       "5  Montreal  1976.0  Aquatics     Diving    10m platform   \n",
       "6  Montreal  1976.0  Aquatics     Diving    10m platform   \n",
       "7  Montreal  1976.0  Aquatics     Diving  3m springboard   \n",
       "8  Montreal  1976.0  Aquatics     Diving    10m platform   \n",
       "9  Montreal  1976.0  Aquatics     Diving    10m platform   \n",
       "\n",
       "                     Athlete Gender Country_Code        Country Event_gender  \\\n",
       "0            KÖHLER, Christa  Women          GDR   East Germany            W   \n",
       "1        KOSENKOV, Aleksandr    Men          URS   Soviet Union            M   \n",
       "2       BOGGS, Philip George    Men          USA  United States            M   \n",
       "3   CAGNOTTO, Giorgio Franco    Men          ITA          Italy            M   \n",
       "4     WILSON, Deborah Keplar  Women          USA  United States            W   \n",
       "5          LOUGANIS, Gregory    Men          USA  United States            M   \n",
       "6     VAYTSEKHOVSKAYA, Elena  Women          URS   Soviet Union            W   \n",
       "7  POTTER-MCINGVALE, Cynthia  Women          USA  United States            W   \n",
       "8             DIBIASI, Klaus    Men          ITA          Italy            M   \n",
       "9          ALEINIK, Vladimir    Men          URS   Soviet Union            M   \n",
       "\n",
       "    Medal  \n",
       "0  Silver  \n",
       "1  Bronze  \n",
       "2    Gold  \n",
       "3  Silver  \n",
       "4  Bronze  \n",
       "5  Silver  \n",
       "6    Gold  \n",
       "7  Bronze  \n",
       "8    Gold  \n",
       "9  Bronze  "
      ]
     },
     "execution_count": 187,
     "metadata": {},
     "output_type": "execute_result"
    }
   ],
   "source": [
    "olympic_data.head(10)"
   ]
  },
  {
   "cell_type": "code",
   "execution_count": 188,
   "metadata": {},
   "outputs": [
    {
     "data": {
      "image/png": "[encoded data removed]",
      "text/plain": [
       "<Figure size 432x288 with 1 Axes>"
      ]
     },
     "metadata": {
      "needs_background": "light"
     },
     "output_type": "display_data"
    },
    {
     "data": {
      "text/plain": [
       "<Figure size 576x432 with 0 Axes>"
      ]
     },
     "metadata": {},
     "output_type": "display_data"
    }
   ],
   "source": [
    "# Total games played in each successive event. It increases every event until 2004.\n",
    "hist = thinkstats2.Hist(olympic_data.Year, label='Year')\n",
    "thinkplot.Hist(hist)\n",
    "thinkplot.Show(title = \"Total Games Played Each Olympic\", xlabel='Year', ylabel='frequency')"
   ]
  },
  {
   "cell_type": "code",
   "execution_count": 285,
   "metadata": {},
   "outputs": [
    {
     "data": {
      "image/png": "[encoded data removed]",
      "text/plain": [
       "<Figure size 432x288 with 1 Axes>"
      ]
     },
     "metadata": {
      "needs_background": "light"
     },
     "output_type": "display_data"
    },
    {
     "data": {
      "text/plain": [
       "<Figure size 576x432 with 0 Axes>"
      ]
     },
     "metadata": {},
     "output_type": "display_data"
    }
   ],
   "source": [
    "# total medals from the summer olympics\n",
    "\n",
    "hist = thinkstats2.Hist(olympic_data.City, label='Games Played')\n",
    "thinkplot.Hist(hist)\n",
    "thinkplot.Show(title = \"City vs total events\", xlabel='City', ylabel='frequency', axis=[0,6, 0, 2300], legend= True)"
   ]
  },
  {
   "cell_type": "code",
   "execution_count": 189,
   "metadata": {},
   "outputs": [
    {
     "data": {
      "image/png": "[encoded data removed]",
      "text/plain": [
       "<Figure size 432x288 with 1 Axes>"
      ]
     },
     "metadata": {
      "needs_background": "light"
     },
     "output_type": "display_data"
    },
    {
     "data": {
      "text/plain": [
       "<Figure size 576x432 with 0 Axes>"
      ]
     },
     "metadata": {},
     "output_type": "display_data"
    }
   ],
   "source": [
    "# Histogram of Men vs Women Participants in the Summer Olympic\n",
    "\n",
    "hist = thinkstats2.Hist(olympic_data.Gender, label='gender')\n",
    "thinkplot.Hist(hist)\n",
    "thinkplot.Show(title = \"Men vs Women Participants\", xlabel='Gender', ylabel='frequency')\n",
    "\n"
   ]
  },
  {
   "cell_type": "code",
   "execution_count": 190,
   "metadata": {},
   "outputs": [
    {
     "data": {
      "image/png": "[encoded data removed]",
      "text/plain": [
       "<Figure size 432x288 with 1 Axes>"
      ]
     },
     "metadata": {
      "needs_background": "light"
     },
     "output_type": "display_data"
    },
    {
     "data": {
      "text/plain": [
       "<Figure size 576x432 with 0 Axes>"
      ]
     },
     "metadata": {},
     "output_type": "display_data"
    }
   ],
   "source": [
    "hist = thinkstats2.Hist(olympic_data.Medal, label='total medal')\n",
    "thinkplot.Hist(hist)\n",
    "thinkplot.Show(title = \"Medal(Gold, Silver and Bronze)\", xlabel='Medal', ylabel='frequency')\n"
   ]
  },
  {
   "cell_type": "code",
   "execution_count": 286,
   "metadata": {},
   "outputs": [],
   "source": [
    "us_women = ['Women', 'United States']\n",
    "filter_gender = olympic_data[(olympic_data['Gender'].isin(us_women)) & olympic_data['Country'].isin(us_women)]"
   ]
  },
  {
   "cell_type": "code",
   "execution_count": 192,
   "metadata": {},
   "outputs": [
    {
     "data": {
      "image/png": "[encoded data removed]",
      "text/plain": [
       "<Figure size 432x288 with 1 Axes>"
      ]
     },
     "metadata": {
      "needs_background": "light"
     },
     "output_type": "display_data"
    },
    {
     "name": "stdout",
     "output_type": "stream",
     "text": [
      "There is increase in women participation with successive event\n"
     ]
    },
    {
     "data": {
      "text/plain": [
       "<Figure size 576x432 with 0 Axes>"
      ]
     },
     "metadata": {},
     "output_type": "display_data"
    }
   ],
   "source": [
    "filter_gender.plot.hist()\n",
    "thinkplot.Show(title = \"Women Participants from United States\", xlabel='Year', ylabel='Total Count')\n",
    "print(\"There is increase in women participation with successive event\")"
   ]
  },
  {
   "cell_type": "code",
   "execution_count": 294,
   "metadata": {},
   "outputs": [
    {
     "data": {
      "text/html": [
       "<div>\n",
       "<style scoped>\n",
       "    .dataframe tbody tr th:only-of-type {\n",
       "        vertical-align: middle;\n",
       "    }\n",
       "\n",
       "    .dataframe tbody tr th {\n",
       "        vertical-align: top;\n",
       "    }\n",
       "\n",
       "    .dataframe thead th {\n",
       "        text-align: right;\n",
       "    }\n",
       "</style>\n",
       "<table border=\"1\" class=\"dataframe\">\n",
       "  <thead>\n",
       "    <tr style=\"text-align: right;\">\n",
       "      <th></th>\n",
       "      <th>City</th>\n",
       "      <th>Year</th>\n",
       "      <th>Sport</th>\n",
       "      <th>Discipline</th>\n",
       "      <th>Event</th>\n",
       "      <th>Athlete</th>\n",
       "      <th>Gender</th>\n",
       "      <th>Country_Code</th>\n",
       "      <th>Country</th>\n",
       "      <th>Event_gender</th>\n",
       "      <th>Medal</th>\n",
       "      <th>Before_USSR_Collapse</th>\n",
       "    </tr>\n",
       "  </thead>\n",
       "  <tbody>\n",
       "    <tr>\n",
       "      <th>4</th>\n",
       "      <td>Montreal</td>\n",
       "      <td>1976.0</td>\n",
       "      <td>Aquatics</td>\n",
       "      <td>Diving</td>\n",
       "      <td>10m platform</td>\n",
       "      <td>WILSON, Deborah Keplar</td>\n",
       "      <td>Women</td>\n",
       "      <td>USA</td>\n",
       "      <td>United States</td>\n",
       "      <td>W</td>\n",
       "      <td>Bronze</td>\n",
       "      <td>True</td>\n",
       "    </tr>\n",
       "    <tr>\n",
       "      <th>7</th>\n",
       "      <td>Montreal</td>\n",
       "      <td>1976.0</td>\n",
       "      <td>Aquatics</td>\n",
       "      <td>Diving</td>\n",
       "      <td>3m springboard</td>\n",
       "      <td>POTTER-MCINGVALE, Cynthia</td>\n",
       "      <td>Women</td>\n",
       "      <td>USA</td>\n",
       "      <td>United States</td>\n",
       "      <td>W</td>\n",
       "      <td>Bronze</td>\n",
       "      <td>True</td>\n",
       "    </tr>\n",
       "    <tr>\n",
       "      <th>11</th>\n",
       "      <td>Montreal</td>\n",
       "      <td>1976.0</td>\n",
       "      <td>Aquatics</td>\n",
       "      <td>Diving</td>\n",
       "      <td>3m springboard</td>\n",
       "      <td>CHANDLER, Jennifer Kay</td>\n",
       "      <td>Women</td>\n",
       "      <td>USA</td>\n",
       "      <td>United States</td>\n",
       "      <td>W</td>\n",
       "      <td>Gold</td>\n",
       "      <td>True</td>\n",
       "    </tr>\n",
       "    <tr>\n",
       "      <th>12</th>\n",
       "      <td>Montreal</td>\n",
       "      <td>1976.0</td>\n",
       "      <td>Aquatics</td>\n",
       "      <td>Swimming</td>\n",
       "      <td>4x100m freestyle relay</td>\n",
       "      <td>BABASHOFF, Shirley Farber</td>\n",
       "      <td>Women</td>\n",
       "      <td>USA</td>\n",
       "      <td>United States</td>\n",
       "      <td>W</td>\n",
       "      <td>Gold</td>\n",
       "      <td>True</td>\n",
       "    </tr>\n",
       "    <tr>\n",
       "      <th>18</th>\n",
       "      <td>Montreal</td>\n",
       "      <td>1976.0</td>\n",
       "      <td>Aquatics</td>\n",
       "      <td>Swimming</td>\n",
       "      <td>800m freestyle</td>\n",
       "      <td>BABASHOFF, Shirley Farber</td>\n",
       "      <td>Women</td>\n",
       "      <td>USA</td>\n",
       "      <td>United States</td>\n",
       "      <td>W</td>\n",
       "      <td>Silver</td>\n",
       "      <td>True</td>\n",
       "    </tr>\n",
       "    <tr>\n",
       "      <th>41</th>\n",
       "      <td>Montreal</td>\n",
       "      <td>1976.0</td>\n",
       "      <td>Aquatics</td>\n",
       "      <td>Swimming</td>\n",
       "      <td>800m freestyle</td>\n",
       "      <td>WEINBERG, Wendy Elizabeth</td>\n",
       "      <td>Women</td>\n",
       "      <td>USA</td>\n",
       "      <td>United States</td>\n",
       "      <td>W</td>\n",
       "      <td>Bronze</td>\n",
       "      <td>True</td>\n",
       "    </tr>\n",
       "    <tr>\n",
       "      <th>47</th>\n",
       "      <td>Montreal</td>\n",
       "      <td>1976.0</td>\n",
       "      <td>Aquatics</td>\n",
       "      <td>Swimming</td>\n",
       "      <td>4x100m medley relay</td>\n",
       "      <td>WRIGHT, Camille</td>\n",
       "      <td>Women</td>\n",
       "      <td>USA</td>\n",
       "      <td>United States</td>\n",
       "      <td>W</td>\n",
       "      <td>Silver</td>\n",
       "      <td>True</td>\n",
       "    </tr>\n",
       "    <tr>\n",
       "      <th>51</th>\n",
       "      <td>Montreal</td>\n",
       "      <td>1976.0</td>\n",
       "      <td>Aquatics</td>\n",
       "      <td>Swimming</td>\n",
       "      <td>4x100m freestyle relay</td>\n",
       "      <td>PEYTON, Kim Marie</td>\n",
       "      <td>Women</td>\n",
       "      <td>USA</td>\n",
       "      <td>United States</td>\n",
       "      <td>W</td>\n",
       "      <td>Gold</td>\n",
       "      <td>True</td>\n",
       "    </tr>\n",
       "    <tr>\n",
       "      <th>61</th>\n",
       "      <td>Montreal</td>\n",
       "      <td>1976.0</td>\n",
       "      <td>Aquatics</td>\n",
       "      <td>Swimming</td>\n",
       "      <td>100m butterfly</td>\n",
       "      <td>BOGLIOLI, Wendy Lansbach</td>\n",
       "      <td>Women</td>\n",
       "      <td>USA</td>\n",
       "      <td>United States</td>\n",
       "      <td>W</td>\n",
       "      <td>Bronze</td>\n",
       "      <td>True</td>\n",
       "    </tr>\n",
       "    <tr>\n",
       "      <th>88</th>\n",
       "      <td>Montreal</td>\n",
       "      <td>1976.0</td>\n",
       "      <td>Aquatics</td>\n",
       "      <td>Swimming</td>\n",
       "      <td>4x100m freestyle relay</td>\n",
       "      <td>BOGLIOLI, Wendy Lansbach</td>\n",
       "      <td>Women</td>\n",
       "      <td>USA</td>\n",
       "      <td>United States</td>\n",
       "      <td>W</td>\n",
       "      <td>Gold</td>\n",
       "      <td>True</td>\n",
       "    </tr>\n",
       "  </tbody>\n",
       "</table>\n",
       "</div>"
      ],
      "text/plain": [
       "        City    Year     Sport Discipline                   Event  \\\n",
       "4   Montreal  1976.0  Aquatics     Diving            10m platform   \n",
       "7   Montreal  1976.0  Aquatics     Diving          3m springboard   \n",
       "11  Montreal  1976.0  Aquatics     Diving          3m springboard   \n",
       "12  Montreal  1976.0  Aquatics   Swimming  4x100m freestyle relay   \n",
       "18  Montreal  1976.0  Aquatics   Swimming          800m freestyle   \n",
       "41  Montreal  1976.0  Aquatics   Swimming          800m freestyle   \n",
       "47  Montreal  1976.0  Aquatics   Swimming     4x100m medley relay   \n",
       "51  Montreal  1976.0  Aquatics   Swimming  4x100m freestyle relay   \n",
       "61  Montreal  1976.0  Aquatics   Swimming          100m butterfly   \n",
       "88  Montreal  1976.0  Aquatics   Swimming  4x100m freestyle relay   \n",
       "\n",
       "                      Athlete Gender Country_Code        Country Event_gender  \\\n",
       "4      WILSON, Deborah Keplar  Women          USA  United States            W   \n",
       "7   POTTER-MCINGVALE, Cynthia  Women          USA  United States            W   \n",
       "11     CHANDLER, Jennifer Kay  Women          USA  United States            W   \n",
       "12  BABASHOFF, Shirley Farber  Women          USA  United States            W   \n",
       "18  BABASHOFF, Shirley Farber  Women          USA  United States            W   \n",
       "41  WEINBERG, Wendy Elizabeth  Women          USA  United States            W   \n",
       "47            WRIGHT, Camille  Women          USA  United States            W   \n",
       "51          PEYTON, Kim Marie  Women          USA  United States            W   \n",
       "61   BOGLIOLI, Wendy Lansbach  Women          USA  United States            W   \n",
       "88   BOGLIOLI, Wendy Lansbach  Women          USA  United States            W   \n",
       "\n",
       "     Medal  Before_USSR_Collapse  \n",
       "4   Bronze                  True  \n",
       "7   Bronze                  True  \n",
       "11    Gold                  True  \n",
       "12    Gold                  True  \n",
       "18  Silver                  True  \n",
       "41  Bronze                  True  \n",
       "47  Silver                  True  \n",
       "51    Gold                  True  \n",
       "61  Bronze                  True  \n",
       "88    Gold                  True  "
      ]
     },
     "execution_count": 294,
     "metadata": {},
     "output_type": "execute_result"
    }
   ],
   "source": [
    "# us women in united states frequency in olympic\n",
    "us_women = ['Women', 'United States']\n",
    "filter_gender = olympic_data[(olympic_data['Gender'].isin(us_women)) & olympic_data['Country'].isin(us_women)]\n",
    "filter_gender.head(10)"
   ]
  },
  {
   "cell_type": "code",
   "execution_count": null,
   "metadata": {},
   "outputs": [],
   "source": []
  },
  {
   "cell_type": "code",
   "execution_count": 195,
   "metadata": {},
   "outputs": [
    {
     "data": {
      "text/html": [
       "<div>\n",
       "<style scoped>\n",
       "    .dataframe tbody tr th:only-of-type {\n",
       "        vertical-align: middle;\n",
       "    }\n",
       "\n",
       "    .dataframe tbody tr th {\n",
       "        vertical-align: top;\n",
       "    }\n",
       "\n",
       "    .dataframe thead th {\n",
       "        text-align: right;\n",
       "    }\n",
       "</style>\n",
       "<table border=\"1\" class=\"dataframe\">\n",
       "  <thead>\n",
       "    <tr style=\"text-align: right;\">\n",
       "      <th></th>\n",
       "      <th>country</th>\n",
       "      <th>medal_gold</th>\n",
       "      <th>medal_silver</th>\n",
       "      <th>medal_bronze</th>\n",
       "      <th>medal_total</th>\n",
       "    </tr>\n",
       "  </thead>\n",
       "  <tbody>\n",
       "    <tr>\n",
       "      <th>2</th>\n",
       "      <td>United States</td>\n",
       "      <td>928</td>\n",
       "      <td>583</td>\n",
       "      <td>481</td>\n",
       "      <td>1992</td>\n",
       "    </tr>\n",
       "    <tr>\n",
       "      <th>1</th>\n",
       "      <td>Soviet Union</td>\n",
       "      <td>439</td>\n",
       "      <td>285</td>\n",
       "      <td>297</td>\n",
       "      <td>1021</td>\n",
       "    </tr>\n",
       "    <tr>\n",
       "      <th>5</th>\n",
       "      <td>Australia</td>\n",
       "      <td>216</td>\n",
       "      <td>270</td>\n",
       "      <td>312</td>\n",
       "      <td>798</td>\n",
       "    </tr>\n",
       "    <tr>\n",
       "      <th>78</th>\n",
       "      <td>Germany</td>\n",
       "      <td>237</td>\n",
       "      <td>176</td>\n",
       "      <td>278</td>\n",
       "      <td>691</td>\n",
       "    </tr>\n",
       "    <tr>\n",
       "      <th>51</th>\n",
       "      <td>China</td>\n",
       "      <td>234</td>\n",
       "      <td>252</td>\n",
       "      <td>193</td>\n",
       "      <td>679</td>\n",
       "    </tr>\n",
       "    <tr>\n",
       "      <th>...</th>\n",
       "      <td>...</td>\n",
       "      <td>...</td>\n",
       "      <td>...</td>\n",
       "      <td>...</td>\n",
       "      <td>...</td>\n",
       "    </tr>\n",
       "    <tr>\n",
       "      <th>70</th>\n",
       "      <td>Djibouti</td>\n",
       "      <td>0</td>\n",
       "      <td>0</td>\n",
       "      <td>1</td>\n",
       "      <td>1</td>\n",
       "    </tr>\n",
       "    <tr>\n",
       "      <th>74</th>\n",
       "      <td>Virgin Islands*</td>\n",
       "      <td>0</td>\n",
       "      <td>1</td>\n",
       "      <td>0</td>\n",
       "      <td>1</td>\n",
       "    </tr>\n",
       "    <tr>\n",
       "      <th>73</th>\n",
       "      <td>Netherlands Antilles*</td>\n",
       "      <td>0</td>\n",
       "      <td>1</td>\n",
       "      <td>0</td>\n",
       "      <td>1</td>\n",
       "    </tr>\n",
       "    <tr>\n",
       "      <th>127</th>\n",
       "      <td>Afghanistan</td>\n",
       "      <td>0</td>\n",
       "      <td>0</td>\n",
       "      <td>1</td>\n",
       "      <td>1</td>\n",
       "    </tr>\n",
       "    <tr>\n",
       "      <th>35</th>\n",
       "      <td>NaN</td>\n",
       "      <td>0</td>\n",
       "      <td>0</td>\n",
       "      <td>0</td>\n",
       "      <td>0</td>\n",
       "    </tr>\n",
       "  </tbody>\n",
       "</table>\n",
       "<p>128 rows × 5 columns</p>\n",
       "</div>"
      ],
      "text/plain": [
       "                   country  medal_gold  medal_silver  medal_bronze  \\\n",
       "2            United States         928           583           481   \n",
       "1             Soviet Union         439           285           297   \n",
       "5                Australia         216           270           312   \n",
       "78                 Germany         237           176           278   \n",
       "51                   China         234           252           193   \n",
       "..                     ...         ...           ...           ...   \n",
       "70                Djibouti           0             0             1   \n",
       "74         Virgin Islands*           0             1             0   \n",
       "73   Netherlands Antilles*           0             1             0   \n",
       "127            Afghanistan           0             0             1   \n",
       "35                     NaN           0             0             0   \n",
       "\n",
       "     medal_total  \n",
       "2           1992  \n",
       "1           1021  \n",
       "5            798  \n",
       "78           691  \n",
       "51           679  \n",
       "..           ...  \n",
       "70             1  \n",
       "74             1  \n",
       "73             1  \n",
       "127            1  \n",
       "35             0  \n",
       "\n",
       "[128 rows x 5 columns]"
      ]
     },
     "execution_count": 195,
     "metadata": {},
     "output_type": "execute_result"
    }
   ],
   "source": [
    "# New dataframe based on medals won(gold, silver, bronze and total) by each country.\n",
    "olympic_data1 = pd.get_dummies(olympic_data, columns = ['Medal'])\n",
    "country_list = list(olympic_data1['Country'].unique())\n",
    "medal_gold = []\n",
    "medal_silver = []\n",
    "medal_bronze = []\n",
    "for i in country_list:\n",
    "    x = olympic_data1[olympic_data1[\"Country\"] == i]\n",
    "    gold = x.Medal_Gold.sum()\n",
    "    medal_gold.append(gold)\n",
    "    silver = x.Medal_Silver.sum()\n",
    "    medal_silver.append(silver)\n",
    "    bronze = x.Medal_Bronze.sum()\n",
    "    medal_bronze.append(bronze)\n",
    "\n",
    "medal = pd.DataFrame({\"country\": country_list,\n",
    "    \"medal_gold\": medal_gold, 'medal_silver': medal_silver,\n",
    "    'medal_bronze': medal_bronze}) \n",
    "medal['medal_total'] = medal.medal_gold + medal.medal_silver + medal.medal_bronze\n",
    "medal = medal.sort_values(by=\"medal_total\", ascending=False)\n",
    "medal"
   ]
  },
  {
   "cell_type": "code",
   "execution_count": 196,
   "metadata": {},
   "outputs": [
    {
     "data": {
      "text/plain": [
       "(39.390625,\n",
       " 4.0,\n",
       " 0    0\n",
       " dtype: int64,\n",
       " 103.56619355200033)"
      ]
     },
     "execution_count": 196,
     "metadata": {},
     "output_type": "execute_result"
    }
   ],
   "source": [
    "# mean, media, mode and standard deviation of gold medal in the olympic\n",
    "mean = medal.medal_gold.mean()\n",
    "median = medal.medal_gold.median()\n",
    "mode = medal.medal_gold.mode()\n",
    "std = medal.medal_gold.std()\n",
    "mean, median, mode, std"
   ]
  },
  {
   "cell_type": "code",
   "execution_count": 197,
   "metadata": {},
   "outputs": [
    {
     "data": {
      "text/plain": [
       "(39.1875,\n",
       " 4.5,\n",
       " 0    1\n",
       " dtype: int64,\n",
       " 78.87154412359976)"
      ]
     },
     "execution_count": 197,
     "metadata": {},
     "output_type": "execute_result"
    }
   ],
   "source": [
    "# mean, media, mode and standard deviation of silver medal in the olympic\n",
    "mean = medal.medal_silver.mean()\n",
    "median = medal.medal_silver.median()\n",
    "mode = medal.medal_silver.mode()\n",
    "std = medal.medal_silver.std()\n",
    "mean, median, mode, std"
   ]
  },
  {
   "cell_type": "code",
   "execution_count": 288,
   "metadata": {},
   "outputs": [
    {
     "data": {
      "text/plain": [
       "(41.078125,\n",
       " 7.0,\n",
       " 0    1\n",
       " dtype: int64,\n",
       " 77.06716667384275)"
      ]
     },
     "execution_count": 288,
     "metadata": {},
     "output_type": "execute_result"
    }
   ],
   "source": [
    "# mean, media, mode and standard deviation of bronze medal\n",
    "mean = medal.medal_bronze.mean()\n",
    "median = medal.medal_bronze.median()\n",
    "mode = medal.medal_bronze.mode()\n",
    "std = medal.medal_bronze.std()\n",
    "mean, median, mode, std"
   ]
  },
  {
   "cell_type": "code",
   "execution_count": 260,
   "metadata": {},
   "outputs": [],
   "source": [
    "# pmf of bronze and gold medal\n",
    "bronze_pmf = thinkstats2.Pmf(medal.medal_bronze, label='Bronze')\n",
    "gold_pmf = thinkstats2.Pmf(medal.medal_gold, label='Gold')"
   ]
  },
  {
   "cell_type": "code",
   "execution_count": 268,
   "metadata": {},
   "outputs": [
    {
     "data": {
      "image/png": "[encoded data removed]",
      "text/plain": [
       "<Figure size 432x288 with 1 Axes>"
      ]
     },
     "metadata": {
      "needs_background": "light"
     },
     "output_type": "display_data"
    },
    {
     "data": {
      "text/plain": [
       "<Figure size 576x432 with 0 Axes>"
      ]
     },
     "metadata": {},
     "output_type": "display_data"
    }
   ],
   "source": [
    "# plotting bronze and gold medal pmf\n",
    "thinkplot.PrePlot(2)\n",
    "thinkplot.SubPlot(2)\n",
    "thinkplot.Pmfs([bronze_pmf, gold_pmf])\n",
    "thinkplot.Show(xlabel='medal',\n",
    "               ylabel= 'pmf',\n",
    "              axis = [0,25,0,.10])"
   ]
  },
  {
   "cell_type": "markdown",
   "metadata": {},
   "source": [
    "# correlation of medal\n",
    "correlation = medal.corr()\n",
    "correlation"
   ]
  },
  {
   "cell_type": "code",
   "execution_count": null,
   "metadata": {},
   "outputs": [],
   "source": []
  },
  {
   "cell_type": "code",
   "execution_count": 289,
   "metadata": {
    "scrolled": true
   },
   "outputs": [
    {
     "data": {
      "image/png": "[encoded data removed]",
      "text/plain": [
       "<Figure size 432x288 with 1 Axes>"
      ]
     },
     "metadata": {
      "needs_background": "light"
     },
     "output_type": "display_data"
    },
    {
     "data": {
      "text/plain": [
       "<Figure size 576x432 with 0 Axes>"
      ]
     },
     "metadata": {},
     "output_type": "display_data"
    }
   ],
   "source": [
    "\n",
    "#Making a CDF of the variable \"medal total\". It shows how lowest and highest nations total medal count.\n",
    "cdf = thinkstats2.Cdf(medal.medal_total, label = \"medal count\")\n",
    "thinkplot.Cdf(cdf)\n",
    "thinkplot.Show(title = 'Total medal by countries histogram ',xlabel = 'Total Medal', ylabel = 'CDF')"
   ]
  },
  {
   "cell_type": "code",
   "execution_count": 201,
   "metadata": {},
   "outputs": [
    {
     "data": {
      "text/plain": [
       "0.984375"
      ]
     },
     "execution_count": 201,
     "metadata": {},
     "output_type": "execute_result"
    }
   ],
   "source": [
    "cdf.Prob(1000)\n",
    "# 98% of the countries has won more than 1000 medals from 1976 till 2008."
   ]
  },
  {
   "cell_type": "code",
   "execution_count": 290,
   "metadata": {},
   "outputs": [
    {
     "data": {
      "image/png": "[encoded data removed]",
      "text/plain": [
       "<Figure size 432x288 with 1 Axes>"
      ]
     },
     "metadata": {
      "needs_background": "light"
     },
     "output_type": "display_data"
    },
    {
     "data": {
      "text/plain": [
       "<Figure size 576x432 with 0 Axes>"
      ]
     },
     "metadata": {},
     "output_type": "display_data"
    }
   ],
   "source": [
    "# Analytical distribution - complimentary cdf of total medal\n",
    "thinkplot.Cdf(cdf,complement=True)\n",
    "thinkplot.Show(title = \"CCDF on log-y scale\", xlabel='Total Medal',\n",
    "              ylabel='CCDF',\n",
    "              yscale='log')\n",
    "# With the argument complement=True, thinkplot.Cdf computes the complementary CDF before plotting. \n",
    "# And with yscale=’log’, thinkplot.Show sets the y axis to a log‐ arithmic scale.\n",
    "\n"
   ]
  },
  {
   "cell_type": "code",
   "execution_count": 203,
   "metadata": {
    "scrolled": true
   },
   "outputs": [
    {
     "data": {
      "image/png": "[encoded data removed]",
      "text/plain": [
       "<Figure size 432x288 with 1 Axes>"
      ]
     },
     "metadata": {
      "needs_background": "light"
     },
     "output_type": "display_data"
    },
    {
     "data": {
      "text/plain": [
       "<Figure size 576x432 with 0 Axes>"
      ]
     },
     "metadata": {},
     "output_type": "display_data"
    }
   ],
   "source": [
    "# Scatterplot of gold medal with silver medal\n",
    "thinkplot.Scatter(medal.medal_gold, medal.medal_total)\n",
    "thinkplot.Show(xlabel = 'medal_gold', ylabel = 'total medal')"
   ]
  },
  {
   "cell_type": "code",
   "execution_count": 204,
   "metadata": {},
   "outputs": [
    {
     "data": {
      "image/png": "[encoded data removed]",
      "text/plain": [
       "<Figure size 432x288 with 1 Axes>"
      ]
     },
     "metadata": {
      "needs_background": "light"
     },
     "output_type": "display_data"
    },
    {
     "data": {
      "text/plain": [
       "<Figure size 576x432 with 0 Axes>"
      ]
     },
     "metadata": {},
     "output_type": "display_data"
    }
   ],
   "source": [
    "thinkplot.Scatter(medal.medal_total, medal_silver)\n",
    "thinkplot.Show(title = \"Total medal vs Silver medal\", xlabel = 'Total medal', ylabel = 'Silver medal')\n",
    "#scatterplot of silver medal with total medal"
   ]
  },
  {
   "cell_type": "code",
   "execution_count": 205,
   "metadata": {},
   "outputs": [
    {
     "data": {
      "image/png": "[encoded data removed]",
      "text/plain": [
       "<Figure size 432x288 with 1 Axes>"
      ]
     },
     "metadata": {
      "needs_background": "light"
     },
     "output_type": "display_data"
    },
    {
     "data": {
      "text/plain": [
       "<Figure size 576x432 with 0 Axes>"
      ]
     },
     "metadata": {},
     "output_type": "display_data"
    }
   ],
   "source": [
    "thinkplot.Scatter(medal.medal_total, medal.medal_gold)\n",
    "thinkplot.Show(title = \"Total medal vs Gold medal\", xlabel = 'Total Medal', ylabel = 'Gold Medal')"
   ]
  },
  {
   "cell_type": "code",
   "execution_count": 206,
   "metadata": {},
   "outputs": [
    {
     "data": {
      "image/png": "[encoded data removed]",
      "text/plain": [
       "<Figure size 432x288 with 1 Axes>"
      ]
     },
     "metadata": {
      "needs_background": "light"
     },
     "output_type": "display_data"
    },
    {
     "data": {
      "text/plain": [
       "<Figure size 576x432 with 0 Axes>"
      ]
     },
     "metadata": {},
     "output_type": "display_data"
    }
   ],
   "source": [
    "thinkplot.Scatter(medal.medal_total, medal_gold, alpha = 1)\n",
    "thinkplot.Show(xlabel='Total Medal',\n",
    "               ylabel='Gold Medal',\n",
    "               axis=[0,500 , 0, 300],\n",
    "               legend = False)\n",
    "# Based on the Scatterplot many gold medal lied around 1-50 frequency"
   ]
  },
  {
   "cell_type": "code",
   "execution_count": 292,
   "metadata": {},
   "outputs": [
    {
     "data": {
      "image/png": "[encoded data removed]",
      "text/plain": [
       "<Figure size 432x288 with 1 Axes>"
      ]
     },
     "metadata": {
      "needs_background": "light"
     },
     "output_type": "display_data"
    },
    {
     "data": {
      "text/plain": [
       "<Figure size 576x432 with 0 Axes>"
      ]
     },
     "metadata": {},
     "output_type": "display_data"
    }
   ],
   "source": [
    "# Scatterplot comparing two variables\n",
    "thinkplot.Scatter(medal.medal_gold, medal_bronze, alpha = 1)\n",
    "thinkplot.Show(title = \"Total Gold vs Total Bronze\", xlabel='Gold Medal',\n",
    "               ylabel='Bronze Medal',\n",
    "               axis=[0,500 , 0, 300],\n",
    "               legend = False)\n"
   ]
  },
  {
   "cell_type": "code",
   "execution_count": 293,
   "metadata": {},
   "outputs": [
    {
     "data": {
      "image/png": "[encoded data removed]",
      "text/plain": [
       "<Figure size 432x288 with 1 Axes>"
      ]
     },
     "metadata": {
      "needs_background": "light"
     },
     "output_type": "display_data"
    },
    {
     "data": {
      "text/plain": [
       "<Figure size 576x432 with 0 Axes>"
      ]
     },
     "metadata": {},
     "output_type": "display_data"
    }
   ],
   "source": [
    "# Scatterplot using pearsons correlation in 2 scatterplots. One is medal total vs medal gold.\n",
    "\n",
    "thinkplot.scatter(medal.medal_total, medal.medal_gold)\n",
    "thinkplot.show(title = \"Total Medal vs Total Gold\", xlabel = 'Total Medal', \n",
    "              ylabel= 'Total gold')"
   ]
  },
  {
   "cell_type": "code",
   "execution_count": 209,
   "metadata": {},
   "outputs": [
    {
     "name": "stdout",
     "output_type": "stream",
     "text": [
      "Pearson Correlation Coefficient 0.9734\n"
     ]
    }
   ],
   "source": [
    "medal_co=medal['medal_total']\n",
    "Total_gold=medal['medal_gold']\n",
    "stats.pearsonr_coefficient, ptsefgp_value=stats.pearsonr(medal_co, Total_gold)\n",
    "print ('Pearson Correlation Coefficient %0.4f' % (stats.pearsonr_coefficient))\n",
    "# There is a strong correlation between total medal won and total gold won by countries. Higher total medal means the country are likely\n",
    "# to have won higher gold medal"
   ]
  },
  {
   "cell_type": "code",
   "execution_count": 291,
   "metadata": {},
   "outputs": [
    {
     "data": {
      "image/png": "[encoded data removed]",
      "text/plain": [
       "<Figure size 432x288 with 1 Axes>"
      ]
     },
     "metadata": {
      "needs_background": "light"
     },
     "output_type": "display_data"
    },
    {
     "data": {
      "text/plain": [
       "<Figure size 576x432 with 0 Axes>"
      ]
     },
     "metadata": {},
     "output_type": "display_data"
    }
   ],
   "source": [
    "thinkplot.scatter(medal.medal_total, medal.medal_bronze)\n",
    "thinkplot.show(title = 'Total Medal vs Total Gold', xlabel = 'Total Medal', \n",
    "              ylabel= 'Total gold')"
   ]
  },
  {
   "cell_type": "code",
   "execution_count": 211,
   "metadata": {},
   "outputs": [
    {
     "name": "stdout",
     "output_type": "stream",
     "text": [
      "Pearson Correlation Coefficient 0.9684\n"
     ]
    }
   ],
   "source": [
    "medal_tot=medal['medal_total']\n",
    "Total_bronze=medal['medal_bronze']\n",
    "stats.pearsonr_coefficient, ptsefgp_value=stats.pearsonr(medal_tot, Total_bronze)\n",
    "print ('Pearson Correlation Coefficient %0.4f' % (stats.pearsonr_coefficient))\n",
    "# there is 97$ chance of those who countries with higher gold medal are likely to have won total medal in higher number."
   ]
  },
  {
   "cell_type": "code",
   "execution_count": 212,
   "metadata": {},
   "outputs": [
    {
     "name": "stdout",
     "output_type": "stream",
     "text": [
      "SpearmanrResult(correlation=0.9414983330964615, pvalue=2.295468891991432e-61)\n"
     ]
    }
   ],
   "source": [
    "# Hypothesis Testing between medal total and medal bronze from the summer olympics\n",
    "\n",
    "pvalue = stats.spearmanr(Total_bronze, medal_tot)\n",
    "print(pvalue)\n",
    "# The p-value is less <0.05 which makes it seem there is correlation between both"
   ]
  },
  {
   "cell_type": "code",
   "execution_count": 216,
   "metadata": {},
   "outputs": [],
   "source": [
    "# linear regression model to conduct regressional analysis using 1 dependent and 1 explanatory variable\n",
    "results = smf.ols('medal_total ~ medal_silver', data=medal).fit()"
   ]
  },
  {
   "cell_type": "code",
   "execution_count": 215,
   "metadata": {},
   "outputs": [
    {
     "data": {
      "text/html": [
       "<table class=\"simpletable\">\n",
       "<caption>OLS Regression Results</caption>\n",
       "<tr>\n",
       "  <th>Dep. Variable:</th>       <td>medal_total</td>   <th>  R-squared:         </th> <td>   0.972</td>\n",
       "</tr>\n",
       "<tr>\n",
       "  <th>Model:</th>                   <td>OLS</td>       <th>  Adj. R-squared:    </th> <td>   0.971</td>\n",
       "</tr>\n",
       "<tr>\n",
       "  <th>Method:</th>             <td>Least Squares</td>  <th>  F-statistic:       </th> <td>   4308.</td>\n",
       "</tr>\n",
       "<tr>\n",
       "  <th>Date:</th>             <td>Sat, 05 Jun 2021</td> <th>  Prob (F-statistic):</th> <td>2.70e-99</td>\n",
       "</tr>\n",
       "<tr>\n",
       "  <th>Time:</th>                 <td>22:01:31</td>     <th>  Log-Likelihood:    </th> <td> -661.60</td>\n",
       "</tr>\n",
       "<tr>\n",
       "  <th>No. Observations:</th>      <td>   128</td>      <th>  AIC:               </th> <td>   1327.</td>\n",
       "</tr>\n",
       "<tr>\n",
       "  <th>Df Residuals:</th>          <td>   126</td>      <th>  BIC:               </th> <td>   1333.</td>\n",
       "</tr>\n",
       "<tr>\n",
       "  <th>Df Model:</th>              <td>     1</td>      <th>                     </th>     <td> </td>   \n",
       "</tr>\n",
       "<tr>\n",
       "  <th>Covariance Type:</th>      <td>nonrobust</td>    <th>                     </th>     <td> </td>   \n",
       "</tr>\n",
       "</table>\n",
       "<table class=\"simpletable\">\n",
       "<tr>\n",
       "        <td></td>          <th>coef</th>     <th>std err</th>      <th>t</th>      <th>P>|t|</th>  <th>[0.025</th>    <th>0.975]</th>  \n",
       "</tr>\n",
       "<tr>\n",
       "  <th>Intercept</th>    <td>   -4.3416</td> <td>    4.232</td> <td>   -1.026</td> <td> 0.307</td> <td>  -12.717</td> <td>    4.034</td>\n",
       "</tr>\n",
       "<tr>\n",
       "  <th>medal_silver</th> <td>    3.1642</td> <td>    0.048</td> <td>   65.637</td> <td> 0.000</td> <td>    3.069</td> <td>    3.260</td>\n",
       "</tr>\n",
       "</table>\n",
       "<table class=\"simpletable\">\n",
       "<tr>\n",
       "  <th>Omnibus:</th>       <td>35.190</td> <th>  Durbin-Watson:     </th> <td>   1.560</td>\n",
       "</tr>\n",
       "<tr>\n",
       "  <th>Prob(Omnibus):</th> <td> 0.000</td> <th>  Jarque-Bera (JB):  </th> <td> 225.060</td>\n",
       "</tr>\n",
       "<tr>\n",
       "  <th>Skew:</th>          <td>-0.672</td> <th>  Prob(JB):          </th> <td>1.35e-49</td>\n",
       "</tr>\n",
       "<tr>\n",
       "  <th>Kurtosis:</th>      <td> 9.355</td> <th>  Cond. No.          </th> <td>    98.1</td>\n",
       "</tr>\n",
       "</table><br/><br/>Notes:<br/>[1] Standard Errors assume that the covariance matrix of the errors is correctly specified."
      ],
      "text/plain": [
       "<class 'statsmodels.iolib.summary.Summary'>\n",
       "\"\"\"\n",
       "                            OLS Regression Results                            \n",
       "==============================================================================\n",
       "Dep. Variable:            medal_total   R-squared:                       0.972\n",
       "Model:                            OLS   Adj. R-squared:                  0.971\n",
       "Method:                 Least Squares   F-statistic:                     4308.\n",
       "Date:                Sat, 05 Jun 2021   Prob (F-statistic):           2.70e-99\n",
       "Time:                        22:01:31   Log-Likelihood:                -661.60\n",
       "No. Observations:                 128   AIC:                             1327.\n",
       "Df Residuals:                     126   BIC:                             1333.\n",
       "Df Model:                           1                                         \n",
       "Covariance Type:            nonrobust                                         \n",
       "================================================================================\n",
       "                   coef    std err          t      P>|t|      [0.025      0.975]\n",
       "--------------------------------------------------------------------------------\n",
       "Intercept       -4.3416      4.232     -1.026      0.307     -12.717       4.034\n",
       "medal_silver     3.1642      0.048     65.637      0.000       3.069       3.260\n",
       "==============================================================================\n",
       "Omnibus:                       35.190   Durbin-Watson:                   1.560\n",
       "Prob(Omnibus):                  0.000   Jarque-Bera (JB):              225.060\n",
       "Skew:                          -0.672   Prob(JB):                     1.35e-49\n",
       "Kurtosis:                       9.355   Cond. No.                         98.1\n",
       "==============================================================================\n",
       "\n",
       "Notes:\n",
       "[1] Standard Errors assume that the covariance matrix of the errors is correctly specified.\n",
       "\"\"\""
      ]
     },
     "execution_count": 215,
     "metadata": {},
     "output_type": "execute_result"
    }
   ],
   "source": [
    "results.summary()"
   ]
  },
  {
   "cell_type": "code",
   "execution_count": null,
   "metadata": {},
   "outputs": [],
   "source": []
  },
  {
   "cell_type": "code",
   "execution_count": null,
   "metadata": {},
   "outputs": [],
   "source": []
  },
  {
   "cell_type": "code",
   "execution_count": null,
   "metadata": {},
   "outputs": [],
   "source": []
  },
  {
   "cell_type": "code",
   "execution_count": null,
   "metadata": {},
   "outputs": [],
   "source": []
  },
  {
   "cell_type": "code",
   "execution_count": null,
   "metadata": {},
   "outputs": [],
   "source": []
  },
  {
   "cell_type": "code",
   "execution_count": null,
   "metadata": {},
   "outputs": [],
   "source": []
  },
  {
   "cell_type": "code",
   "execution_count": null,
   "metadata": {},
   "outputs": [],
   "source": []
  },
  {
   "cell_type": "code",
   "execution_count": null,
   "metadata": {},
   "outputs": [],
   "source": []
  },
  {
   "cell_type": "code",
   "execution_count": null,
   "metadata": {},
   "outputs": [],
   "source": []
  }
 ],
 "metadata": {
  "kernelspec": {
   "display_name": "Python 3",
   "language": "python",
   "name": "python3"
  },
  "language_info": {
   "codemirror_mode": {
    "name": "ipython",
    "version": 3
   },
   "file_extension": ".py",
   "mimetype": "text/x-python",
   "name": "python",
   "nbconvert_exporter": "python",
   "pygments_lexer": "ipython3",
   "version": "3.6.10"
  }
 },
 "nbformat": 4,
 "nbformat_minor": 4
}
