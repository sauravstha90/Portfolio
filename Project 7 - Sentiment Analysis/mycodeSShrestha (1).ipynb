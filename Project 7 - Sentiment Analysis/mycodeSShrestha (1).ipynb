{
 "cells": [
  {
   "cell_type": "code",
   "execution_count": 41,
   "metadata": {},
   "outputs": [],
   "source": [
    "# import libraries\n",
    "\n",
    "import pandas as pd\n",
    "from sklearn.feature_extraction.text import CountVectorizer\n",
    "import numpy as np"
   ]
  },
  {
   "cell_type": "code",
   "execution_count": 42,
   "metadata": {},
   "outputs": [
    {
     "data": {
      "text/html": [
       "<div>\n",
       "<style scoped>\n",
       "    .dataframe tbody tr th:only-of-type {\n",
       "        vertical-align: middle;\n",
       "    }\n",
       "\n",
       "    .dataframe tbody tr th {\n",
       "        vertical-align: top;\n",
       "    }\n",
       "\n",
       "    .dataframe thead th {\n",
       "        text-align: right;\n",
       "    }\n",
       "</style>\n",
       "<table border=\"1\" class=\"dataframe\">\n",
       "  <thead>\n",
       "    <tr style=\"text-align: right;\">\n",
       "      <th></th>\n",
       "      <th>Day of Week</th>\n",
       "      <th>comments</th>\n",
       "    </tr>\n",
       "  </thead>\n",
       "  <tbody>\n",
       "    <tr>\n",
       "      <th>0</th>\n",
       "      <td>Monday</td>\n",
       "      <td>Hello, how are you?</td>\n",
       "    </tr>\n",
       "    <tr>\n",
       "      <th>1</th>\n",
       "      <td>Tuesday</td>\n",
       "      <td>Today is a good day!</td>\n",
       "    </tr>\n",
       "    <tr>\n",
       "      <th>2</th>\n",
       "      <td>Wednesday</td>\n",
       "      <td>It's my birthday so it's a really special day!</td>\n",
       "    </tr>\n",
       "    <tr>\n",
       "      <th>3</th>\n",
       "      <td>Thursday</td>\n",
       "      <td>Today is neither a good day or a bad day!</td>\n",
       "    </tr>\n",
       "    <tr>\n",
       "      <th>4</th>\n",
       "      <td>Friday</td>\n",
       "      <td>I'm having a bad day.</td>\n",
       "    </tr>\n",
       "    <tr>\n",
       "      <th>5</th>\n",
       "      <td>Saturday</td>\n",
       "      <td>There' s nothing special happening today.</td>\n",
       "    </tr>\n",
       "    <tr>\n",
       "      <th>6</th>\n",
       "      <td>Sunday</td>\n",
       "      <td>Today is a SUPER good day!</td>\n",
       "    </tr>\n",
       "  </tbody>\n",
       "</table>\n",
       "</div>"
      ],
      "text/plain": [
       "  Day of Week                                        comments\n",
       "0      Monday                             Hello, how are you?\n",
       "1     Tuesday                            Today is a good day!\n",
       "2   Wednesday  It's my birthday so it's a really special day!\n",
       "3    Thursday       Today is neither a good day or a bad day!\n",
       "4      Friday                           I'm having a bad day.\n",
       "5    Saturday       There' s nothing special happening today.\n",
       "6      Sunday                      Today is a SUPER good day!"
      ]
     },
     "execution_count": 42,
     "metadata": {},
     "output_type": "execute_result"
    }
   ],
   "source": [
    "# load the dataset\n",
    "\n",
    "d_frame = pd.read_csv('DailyComments.csv')\n",
    "d_frame"
   ]
  },
  {
   "cell_type": "code",
   "execution_count": 43,
   "metadata": {},
   "outputs": [],
   "source": [
    "# take the comment column for scheme implementation\n",
    "\n",
    "corpus = d_frame['comments']"
   ]
  },
  {
   "cell_type": "code",
   "execution_count": 44,
   "metadata": {},
   "outputs": [
    {
     "name": "stdout",
     "output_type": "stream",
     "text": [
      "vectorized words\n",
      "['are', 'bad', 'birthday', 'day', 'good', 'happening', 'having', 'hello', 'how', 'is', 'it', 'my', 'neither', 'nothing', 'or', 'really', 'so', 'special', 'super', 'there', 'today', 'you']\n",
      "Identify Feature Words - Matrix View\n",
      "\n",
      "[[1 0 0 0 0 0 0 1 1 0 0 0 0 0 0 0 0 0 0 0 0 1]\n",
      " [0 0 0 1 1 0 0 0 0 1 0 0 0 0 0 0 0 0 0 0 1 0]\n",
      " [0 0 1 1 0 0 0 0 0 0 2 1 0 0 0 1 1 1 0 0 0 0]\n",
      " [0 1 0 2 1 0 0 0 0 1 0 0 1 0 1 0 0 0 0 0 1 0]\n",
      " [0 1 0 1 0 0 1 0 0 0 0 0 0 0 0 0 0 0 0 0 0 0]\n",
      " [0 0 0 0 0 1 0 0 0 0 0 0 0 1 0 0 0 1 0 1 1 0]\n",
      " [0 0 0 1 1 0 0 0 0 1 0 0 0 0 0 0 0 0 1 0 1 0]]\n"
     ]
    }
   ],
   "source": [
    "# Apply count vectorizer transformer\n",
    "\n",
    "vectorizer = CountVectorizer()\n",
    "X = vectorizer.fit_transform(corpus)\n",
    "print(\"vectorized words\")\n",
    "print(vectorizer.get_feature_names())\n",
    "print(\"Identify Feature Words - Matrix View\")\n",
    "print(\"\")\n",
    "print( X.toarray())\n"
   ]
  },
  {
   "cell_type": "code",
   "execution_count": 45,
   "metadata": {},
   "outputs": [],
   "source": [
    "df = pd.DataFrame({'text':corpus})"
   ]
  },
  {
   "cell_type": "code",
   "execution_count": 46,
   "metadata": {},
   "outputs": [
    {
     "name": "stdout",
     "output_type": "stream",
     "text": [
      "                                             text  positive2  positive3  \\\n",
      "0                             Hello, how are you?          0          1   \n",
      "1                            Today is a good day!          0          0   \n",
      "2  It's my birthday so it's a really special day!          1          0   \n",
      "3       Today is neither a good day or a bad day!          0          0   \n",
      "4                           I'm having a bad day.          0          0   \n",
      "5       There' s nothing special happening today.          1          0   \n",
      "6                      Today is a SUPER good day!          0          0   \n",
      "\n",
      "   positive4  negative1  negative2  negative3  TotScore  \n",
      "0          0          0          0          0         1  \n",
      "1          1          0          0          0         1  \n",
      "2          0          0          0          0         1  \n",
      "3          1          1          0          1        -1  \n",
      "4          0          1          0          0        -1  \n",
      "5          0          0          1          0         0  \n",
      "6          1          0          0          0         1  \n",
      "\n",
      "Overall Score:   2\n"
     ]
    }
   ],
   "source": [
    "#check for positive words and negative words\n",
    "\n",
    "df['positive2']= df.text.str.count('special')\n",
    "df['positive3'] = df.text.str.count('Hello')\n",
    "df['positive4'] = df.text.str.count('good')\n",
    "df['negative1'] = df.text.str.count('bad')\n",
    "df['negative2'] = df.text.str.count('nothing')\n",
    "df['negative3'] = df.text.str.count('neither')\n",
    "\n",
    "df['TotScore'] =  df.positive2 + df.positive3 + df.positive4 - df.negative1 - df.negative2 - df.negative3\n",
    "\n",
    "\n",
    "print(df)\n",
    "\n",
    "Z = sum(df['TotScore'])\n",
    "print(\"\")\n",
    "print(\"Overall Score:  \",Z)"
   ]
  },
  {
   "cell_type": "code",
   "execution_count": 47,
   "metadata": {},
   "outputs": [
    {
     "data": {
      "text/html": [
       "<div>\n",
       "<style scoped>\n",
       "    .dataframe tbody tr th:only-of-type {\n",
       "        vertical-align: middle;\n",
       "    }\n",
       "\n",
       "    .dataframe tbody tr th {\n",
       "        vertical-align: top;\n",
       "    }\n",
       "\n",
       "    .dataframe thead th {\n",
       "        text-align: right;\n",
       "    }\n",
       "</style>\n",
       "<table border=\"1\" class=\"dataframe\">\n",
       "  <thead>\n",
       "    <tr style=\"text-align: right;\">\n",
       "      <th></th>\n",
       "      <th>id</th>\n",
       "      <th>Tweets</th>\n",
       "    </tr>\n",
       "  </thead>\n",
       "  <tbody>\n",
       "    <tr>\n",
       "      <th>0</th>\n",
       "      <td>31963</td>\n",
       "      <td>i am thankful for freedom of speech.</td>\n",
       "    </tr>\n",
       "    <tr>\n",
       "      <th>1</th>\n",
       "      <td>31964</td>\n",
       "      <td>i wish kpop aists never come in my country for...</td>\n",
       "    </tr>\n",
       "    <tr>\n",
       "      <th>2</th>\n",
       "      <td>31965</td>\n",
       "      <td>now people judge you by colour and english acc...</td>\n",
       "    </tr>\n",
       "    <tr>\n",
       "      <th>3</th>\n",
       "      <td>31966</td>\n",
       "      <td>have no idea who she is but what a stupid comm...</td>\n",
       "    </tr>\n",
       "    <tr>\n",
       "      <th>4</th>\n",
       "      <td>31967</td>\n",
       "      <td>Admitted to Brown University, YAY!</td>\n",
       "    </tr>\n",
       "    <tr>\n",
       "      <th>5</th>\n",
       "      <td>31968</td>\n",
       "      <td>Happy b'day to simeo.</td>\n",
       "    </tr>\n",
       "    <tr>\n",
       "      <th>6</th>\n",
       "      <td>31969</td>\n",
       "      <td>Love to dance, hate to sing.</td>\n",
       "    </tr>\n",
       "  </tbody>\n",
       "</table>\n",
       "</div>"
      ],
      "text/plain": [
       "      id                                             Tweets\n",
       "0  31963          i am thankful for freedom of speech.     \n",
       "1  31964  i wish kpop aists never come in my country for...\n",
       "2  31965  now people judge you by colour and english acc...\n",
       "3  31966  have no idea who she is but what a stupid comm...\n",
       "4  31967                 Admitted to Brown University, YAY!\n",
       "5  31968                              Happy b'day to simeo.\n",
       "6  31969                       Love to dance, hate to sing."
      ]
     },
     "execution_count": 47,
     "metadata": {},
     "output_type": "execute_result"
    }
   ],
   "source": [
    "# Extra credit\n",
    "\n",
    "new_df = pd.read_excel('tweet.xlsx')\n",
    "new_df"
   ]
  },
  {
   "cell_type": "code",
   "execution_count": 48,
   "metadata": {},
   "outputs": [
    {
     "data": {
      "text/plain": [
       "0            i am thankful for freedom of speech.     \n",
       "1    i wish kpop aists never come in my country for...\n",
       "2    now people judge you by colour and english acc...\n",
       "3    have no idea who she is but what a stupid comm...\n",
       "4                   Admitted to Brown University, YAY!\n",
       "5                                Happy b'day to simeo.\n",
       "6                         Love to dance, hate to sing.\n",
       "Name: Tweets, dtype: object"
      ]
     },
     "execution_count": 48,
     "metadata": {},
     "output_type": "execute_result"
    }
   ],
   "source": [
    "# using Tweets column\n",
    "\n",
    "col_tweet = new_df['Tweets']\n",
    "col_tweet"
   ]
  },
  {
   "cell_type": "code",
   "execution_count": 49,
   "metadata": {},
   "outputs": [
    {
     "name": "stdout",
     "output_type": "stream",
     "text": [
      "vectorized words\n",
      "['able', 'accent', 'admitted', 'aists', 'all', 'am', 'and', 'at', 'be', 'broke', 'brown', 'but', 'by', 'colour', 'come', 'comment', 'country', 'dance', 'day', 'death', 'english', 'for', 'freedom', 'happy', 'hate', 'have', 'idea', 'in', 'inviting', 'is', 'judge', 'kpop', 'love', 'make', 'my', 'never', 'no', 'not', 'now', 'of', 'people', 'perform', 'ppl', 'response', 'see', 'she', 'sideshow', 'simeo', 'sing', 'speech', 'stupid', 'thankful', 'them', 'to', 'university', 'was', 'what', 'who', 'wish', 'won', 'yay', 'you']\n",
      "Identify Feature Words - Matrix View\n",
      "\n",
      "[[0 0 0 0 0 1 0 0 0 0 0 0 0 0 0 0 0 0 0 0 0 1 1 0 0 0 0 0 0 0 0 0 0 0 0 0\n",
      "  0 0 0 1 0 0 0 0 0 0 0 0 0 1 0 1 0 0 0 0 0 0 0 0 0 0]\n",
      " [1 0 0 1 1 0 0 1 1 1 0 0 0 0 1 0 1 0 0 0 0 1 0 0 0 0 0 1 0 0 0 2 0 0 1 1\n",
      "  0 0 0 0 0 1 1 0 1 0 0 0 0 0 0 0 1 1 0 0 0 0 1 1 0 0]\n",
      " [0 1 0 0 0 0 1 0 0 0 0 0 1 1 0 0 0 0 0 0 1 0 0 0 0 0 0 0 0 0 1 0 0 0 0 0\n",
      "  0 0 1 0 1 0 0 0 0 0 0 0 0 0 0 0 0 0 0 0 0 0 0 0 0 1]\n",
      " [0 0 0 0 0 0 0 0 0 0 0 1 0 0 0 1 0 0 0 1 0 0 0 0 0 1 1 0 1 2 0 0 0 1 0 0\n",
      "  1 1 0 0 0 0 0 1 0 2 1 0 0 0 1 0 0 1 0 1 1 1 0 0 0 0]\n",
      " [0 0 1 0 0 0 0 0 0 0 1 0 0 0 0 0 0 0 0 0 0 0 0 0 0 0 0 0 0 0 0 0 0 0 0 0\n",
      "  0 0 0 0 0 0 0 0 0 0 0 0 0 0 0 0 0 1 1 0 0 0 0 0 1 0]\n",
      " [0 0 0 0 0 0 0 0 0 0 0 0 0 0 0 0 0 0 1 0 0 0 0 1 0 0 0 0 0 0 0 0 0 0 0 0\n",
      "  0 0 0 0 0 0 0 0 0 0 0 1 0 0 0 0 0 1 0 0 0 0 0 0 0 0]\n",
      " [0 0 0 0 0 0 0 0 0 0 0 0 0 0 0 0 0 1 0 0 0 0 0 0 1 0 0 0 0 0 0 0 1 0 0 0\n",
      "  0 0 0 0 0 0 0 0 0 0 0 0 1 0 0 0 0 2 0 0 0 0 0 0 0 0]]\n"
     ]
    }
   ],
   "source": [
    "# Apply count vectorizer transformer\n",
    "\n",
    "vectorizer = CountVectorizer()\n",
    "X = vectorizer.fit_transform(col_tweet)\n",
    "print(\"vectorized words\")\n",
    "print(vectorizer.get_feature_names())\n",
    "print(\"Identify Feature Words - Matrix View\")\n",
    "print(\"\")\n",
    "print( X.toarray())"
   ]
  },
  {
   "cell_type": "code",
   "execution_count": 50,
   "metadata": {},
   "outputs": [
    {
     "name": "stdout",
     "output_type": "stream",
     "text": [
      "                                                text  positive1  positive2  \\\n",
      "0          i am thankful for freedom of speech.               1          0   \n",
      "1  i wish kpop aists never come in my country for...          0          0   \n",
      "2  now people judge you by colour and english acc...          0          0   \n",
      "3  have no idea who she is but what a stupid comm...          0          0   \n",
      "4                 Admitted to Brown University, YAY!          0          1   \n",
      "5                              Happy b'day to simeo.          0          0   \n",
      "6                       Love to dance, hate to sing.          0          0   \n",
      "\n",
      "   positive3  positive4  negative1  negative2  negative3  negative4  TotScore  \n",
      "0          0          0          0          0          0          0         1  \n",
      "1          0          0          1          0          0          0        -1  \n",
      "2          0          0          0          0          0          1        -1  \n",
      "3          0          0          0          0          1          0        -1  \n",
      "4          0          0          0          0          0          0         1  \n",
      "5          0          1          0          0          0          0         1  \n",
      "6          1          0          0          0          0          0         1  \n",
      "\n",
      "Overall Score:   1\n"
     ]
    }
   ],
   "source": [
    "# Implement scheme for categorizing positive and negative tweets\n",
    "\n",
    "df = pd.DataFrame({'text':col_tweet})\n",
    "df['positive1'] = df.text.str.count('thankful')\n",
    "df['positive2']= df.text.str.count('Admitted')\n",
    "df['positive3'] = df.text.str.count('Love')\n",
    "df['positive4'] = df.text.str.count('Happy')\n",
    "df['negative1'] = df.text.str.count('broke')\n",
    "df['negative2'] = df.text.str.count('nothing')\n",
    "df['negative3'] = df.text.str.count('stupid')\n",
    "df['negative4'] = df.text.str.count('judge')\n",
    "df['TotScore'] = df.positive1 + df.positive2 + df.positive3 + df.positive4 - df.negative1 - df.negative2 - df.negative3- df.negative4\n",
    "\n",
    "\n",
    "print(df)\n",
    "\n",
    "Z = sum(df['TotScore'])\n",
    "print(\"\")\n",
    "print(\"Overall Score:  \",Z)"
   ]
  },
  {
   "cell_type": "code",
   "execution_count": null,
   "metadata": {},
   "outputs": [],
   "source": []
  }
 ],
 "metadata": {
  "kernelspec": {
   "display_name": "Python 3",
   "language": "python",
   "name": "python3"
  },
  "language_info": {
   "codemirror_mode": {
    "name": "ipython",
    "version": 3
   },
   "file_extension": ".py",
   "mimetype": "text/x-python",
   "name": "python",
   "nbconvert_exporter": "python",
   "pygments_lexer": "ipython3",
   "version": "3.6.10"
  }
 },
 "nbformat": 4,
 "nbformat_minor": 4
}
