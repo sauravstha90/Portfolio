{
 "cells": [
  {
   "cell_type": "markdown",
   "metadata": {
    "papermill": {
     "duration": 0.171082,
     "end_time": "2020-12-10T12:47:39.399836",
     "exception": false,
     "start_time": "2020-12-10T12:47:39.228754",
     "status": "completed"
    },
    "tags": []
   },
   "source": [
    "# <a id='0'> Dataset Introduction</a>\n",
    "The data set includes data from a direct marketer who sells his products only via direct mail. He sends catalogs with product characteristics to customers who then order directly from the catalogs. The marketer has developed customer records to learn what makes some customers spend more than others."
   ]
  },
  {
   "cell_type": "markdown",
   "metadata": {
    "papermill": {
     "duration": 0.171552,
     "end_time": "2020-12-10T12:47:39.742375",
     "exception": false,
     "start_time": "2020-12-10T12:47:39.570823",
     "status": "completed"
    },
    "tags": []
   },
   "source": [
    "# <a id='1'> 1.Importing Libraries</a>"
   ]
  },
  {
   "cell_type": "code",
   "execution_count": 1,
   "metadata": {
    "_cell_guid": "b1076dfc-b9ad-4769-8c92-a6c4dae69d19",
    "_uuid": "8f2839f25d086af736a60e9eeb907d3b93b6e0e5",
    "execution": {
     "iopub.execute_input": "2020-12-10T12:47:38.686681Z",
     "iopub.status.busy": "2020-12-10T12:47:38.685876Z",
     "iopub.status.idle": "2020-12-10T12:47:38.708314Z",
     "shell.execute_reply": "2020-12-10T12:47:38.707417Z"
    },
    "papermill": {
     "duration": 0.205108,
     "end_time": "2020-12-10T12:47:38.708487",
     "exception": false,
     "start_time": "2020-12-10T12:47:38.503379",
     "status": "completed"
    },
    "tags": []
   },
   "outputs": [
    {
     "name": "stdout",
     "output_type": "stream",
     "text": [
      "/kaggle/input/direct-marketing/DirectMarketing.csv\n"
     ]
    }
   ],
   "source": [
    "#load dependecies\n",
    "\n",
    "import numpy as np \n",
    "import pandas as pd \n",
    "\n",
    "import os\n",
    "for dirname, _, filenames in os.walk('/kaggle/input'):\n",
    "    for filename in filenames:\n",
    "        print(os.path.join(dirname, filename))\n",
    "\n"
   ]
  },
  {
   "cell_type": "code",
   "execution_count": 2,
   "metadata": {
    "execution": {
     "iopub.execute_input": "2020-12-10T12:47:40.096214Z",
     "iopub.status.busy": "2020-12-10T12:47:40.095412Z",
     "iopub.status.idle": "2020-12-10T12:47:42.232616Z",
     "shell.execute_reply": "2020-12-10T12:47:42.231849Z"
    },
    "papermill": {
     "duration": 2.3181,
     "end_time": "2020-12-10T12:47:42.232781",
     "exception": false,
     "start_time": "2020-12-10T12:47:39.914681",
     "status": "completed"
    },
    "tags": []
   },
   "outputs": [],
   "source": [
    "import numpy as np \n",
    "import pandas as pd\n",
    "\n",
    "import seaborn as sns \n",
    "import matplotlib.pyplot as plt\n",
    "# Plotly Libraris\n",
    "import plotly.express as px\n",
    "import plotly.graph_objects as go\n",
    "\n",
    "from plotly.subplots import make_subplots\n",
    "\n",
    "import warnings\n",
    "warnings.filterwarnings(\"ignore\")"
   ]
  },
  {
   "cell_type": "code",
   "execution_count": 3,
   "metadata": {
    "execution": {
     "iopub.execute_input": "2020-12-10T12:47:42.927430Z",
     "iopub.status.busy": "2020-12-10T12:47:42.926684Z",
     "iopub.status.idle": "2020-12-10T12:47:43.007044Z",
     "shell.execute_reply": "2020-12-10T12:47:43.006067Z"
    },
    "papermill": {
     "duration": 0.258724,
     "end_time": "2020-12-10T12:47:43.007255",
     "exception": false,
     "start_time": "2020-12-10T12:47:42.748531",
     "status": "completed"
    },
    "tags": []
   },
   "outputs": [
    {
     "data": {
      "text/html": [
       "<div>\n",
       "<style scoped>\n",
       "    .dataframe tbody tr th:only-of-type {\n",
       "        vertical-align: middle;\n",
       "    }\n",
       "\n",
       "    .dataframe tbody tr th {\n",
       "        vertical-align: top;\n",
       "    }\n",
       "\n",
       "    .dataframe thead th {\n",
       "        text-align: right;\n",
       "    }\n",
       "</style>\n",
       "<table border=\"1\" class=\"dataframe\">\n",
       "  <thead>\n",
       "    <tr style=\"text-align: right;\">\n",
       "      <th></th>\n",
       "      <th>Age</th>\n",
       "      <th>Gender</th>\n",
       "      <th>OwnHome</th>\n",
       "      <th>Married</th>\n",
       "      <th>Location</th>\n",
       "      <th>Salary</th>\n",
       "      <th>Children</th>\n",
       "      <th>History</th>\n",
       "      <th>Catalogs</th>\n",
       "      <th>AmountSpent</th>\n",
       "    </tr>\n",
       "  </thead>\n",
       "  <tbody>\n",
       "    <tr>\n",
       "      <th>0</th>\n",
       "      <td>Old</td>\n",
       "      <td>Female</td>\n",
       "      <td>Own</td>\n",
       "      <td>Single</td>\n",
       "      <td>Far</td>\n",
       "      <td>47500</td>\n",
       "      <td>0</td>\n",
       "      <td>High</td>\n",
       "      <td>6</td>\n",
       "      <td>755</td>\n",
       "    </tr>\n",
       "    <tr>\n",
       "      <th>1</th>\n",
       "      <td>Middle</td>\n",
       "      <td>Male</td>\n",
       "      <td>Rent</td>\n",
       "      <td>Single</td>\n",
       "      <td>Close</td>\n",
       "      <td>63600</td>\n",
       "      <td>0</td>\n",
       "      <td>High</td>\n",
       "      <td>6</td>\n",
       "      <td>1318</td>\n",
       "    </tr>\n",
       "    <tr>\n",
       "      <th>2</th>\n",
       "      <td>Young</td>\n",
       "      <td>Female</td>\n",
       "      <td>Rent</td>\n",
       "      <td>Single</td>\n",
       "      <td>Close</td>\n",
       "      <td>13500</td>\n",
       "      <td>0</td>\n",
       "      <td>Low</td>\n",
       "      <td>18</td>\n",
       "      <td>296</td>\n",
       "    </tr>\n",
       "    <tr>\n",
       "      <th>3</th>\n",
       "      <td>Middle</td>\n",
       "      <td>Male</td>\n",
       "      <td>Own</td>\n",
       "      <td>Married</td>\n",
       "      <td>Close</td>\n",
       "      <td>85600</td>\n",
       "      <td>1</td>\n",
       "      <td>High</td>\n",
       "      <td>18</td>\n",
       "      <td>2436</td>\n",
       "    </tr>\n",
       "    <tr>\n",
       "      <th>4</th>\n",
       "      <td>Middle</td>\n",
       "      <td>Female</td>\n",
       "      <td>Own</td>\n",
       "      <td>Single</td>\n",
       "      <td>Close</td>\n",
       "      <td>68400</td>\n",
       "      <td>0</td>\n",
       "      <td>High</td>\n",
       "      <td>12</td>\n",
       "      <td>1304</td>\n",
       "    </tr>\n",
       "    <tr>\n",
       "      <th>5</th>\n",
       "      <td>Young</td>\n",
       "      <td>Male</td>\n",
       "      <td>Own</td>\n",
       "      <td>Married</td>\n",
       "      <td>Close</td>\n",
       "      <td>30400</td>\n",
       "      <td>0</td>\n",
       "      <td>Low</td>\n",
       "      <td>6</td>\n",
       "      <td>495</td>\n",
       "    </tr>\n",
       "    <tr>\n",
       "      <th>6</th>\n",
       "      <td>Middle</td>\n",
       "      <td>Female</td>\n",
       "      <td>Rent</td>\n",
       "      <td>Single</td>\n",
       "      <td>Close</td>\n",
       "      <td>48100</td>\n",
       "      <td>0</td>\n",
       "      <td>Medium</td>\n",
       "      <td>12</td>\n",
       "      <td>782</td>\n",
       "    </tr>\n",
       "    <tr>\n",
       "      <th>7</th>\n",
       "      <td>Middle</td>\n",
       "      <td>Male</td>\n",
       "      <td>Own</td>\n",
       "      <td>Single</td>\n",
       "      <td>Close</td>\n",
       "      <td>68400</td>\n",
       "      <td>0</td>\n",
       "      <td>High</td>\n",
       "      <td>18</td>\n",
       "      <td>1155</td>\n",
       "    </tr>\n",
       "    <tr>\n",
       "      <th>8</th>\n",
       "      <td>Middle</td>\n",
       "      <td>Female</td>\n",
       "      <td>Own</td>\n",
       "      <td>Married</td>\n",
       "      <td>Close</td>\n",
       "      <td>51900</td>\n",
       "      <td>3</td>\n",
       "      <td>Low</td>\n",
       "      <td>6</td>\n",
       "      <td>158</td>\n",
       "    </tr>\n",
       "    <tr>\n",
       "      <th>9</th>\n",
       "      <td>Old</td>\n",
       "      <td>Male</td>\n",
       "      <td>Own</td>\n",
       "      <td>Married</td>\n",
       "      <td>Far</td>\n",
       "      <td>80700</td>\n",
       "      <td>0</td>\n",
       "      <td>NaN</td>\n",
       "      <td>18</td>\n",
       "      <td>3034</td>\n",
       "    </tr>\n",
       "    <tr>\n",
       "      <th>10</th>\n",
       "      <td>Young</td>\n",
       "      <td>Male</td>\n",
       "      <td>Rent</td>\n",
       "      <td>Married</td>\n",
       "      <td>Close</td>\n",
       "      <td>43700</td>\n",
       "      <td>1</td>\n",
       "      <td>NaN</td>\n",
       "      <td>12</td>\n",
       "      <td>927</td>\n",
       "    </tr>\n",
       "    <tr>\n",
       "      <th>11</th>\n",
       "      <td>Middle</td>\n",
       "      <td>Male</td>\n",
       "      <td>Own</td>\n",
       "      <td>Married</td>\n",
       "      <td>Far</td>\n",
       "      <td>111800</td>\n",
       "      <td>3</td>\n",
       "      <td>High</td>\n",
       "      <td>18</td>\n",
       "      <td>2065</td>\n",
       "    </tr>\n",
       "    <tr>\n",
       "      <th>12</th>\n",
       "      <td>Middle</td>\n",
       "      <td>Female</td>\n",
       "      <td>Own</td>\n",
       "      <td>Married</td>\n",
       "      <td>Close</td>\n",
       "      <td>44100</td>\n",
       "      <td>1</td>\n",
       "      <td>Medium</td>\n",
       "      <td>24</td>\n",
       "      <td>704</td>\n",
       "    </tr>\n",
       "    <tr>\n",
       "      <th>13</th>\n",
       "      <td>Middle</td>\n",
       "      <td>Male</td>\n",
       "      <td>Own</td>\n",
       "      <td>Married</td>\n",
       "      <td>Close</td>\n",
       "      <td>111400</td>\n",
       "      <td>0</td>\n",
       "      <td>High</td>\n",
       "      <td>12</td>\n",
       "      <td>2136</td>\n",
       "    </tr>\n",
       "    <tr>\n",
       "      <th>14</th>\n",
       "      <td>Old</td>\n",
       "      <td>Female</td>\n",
       "      <td>Own</td>\n",
       "      <td>Married</td>\n",
       "      <td>Far</td>\n",
       "      <td>110000</td>\n",
       "      <td>0</td>\n",
       "      <td>High</td>\n",
       "      <td>24</td>\n",
       "      <td>5564</td>\n",
       "    </tr>\n",
       "    <tr>\n",
       "      <th>15</th>\n",
       "      <td>Middle</td>\n",
       "      <td>Female</td>\n",
       "      <td>Own</td>\n",
       "      <td>Married</td>\n",
       "      <td>Far</td>\n",
       "      <td>83100</td>\n",
       "      <td>1</td>\n",
       "      <td>NaN</td>\n",
       "      <td>12</td>\n",
       "      <td>2766</td>\n",
       "    </tr>\n",
       "    <tr>\n",
       "      <th>16</th>\n",
       "      <td>Old</td>\n",
       "      <td>Female</td>\n",
       "      <td>Own</td>\n",
       "      <td>Married</td>\n",
       "      <td>Close</td>\n",
       "      <td>82800</td>\n",
       "      <td>0</td>\n",
       "      <td>High</td>\n",
       "      <td>24</td>\n",
       "      <td>3010</td>\n",
       "    </tr>\n",
       "    <tr>\n",
       "      <th>17</th>\n",
       "      <td>Middle</td>\n",
       "      <td>Male</td>\n",
       "      <td>Own</td>\n",
       "      <td>Married</td>\n",
       "      <td>Close</td>\n",
       "      <td>90100</td>\n",
       "      <td>0</td>\n",
       "      <td>High</td>\n",
       "      <td>18</td>\n",
       "      <td>1956</td>\n",
       "    </tr>\n",
       "    <tr>\n",
       "      <th>18</th>\n",
       "      <td>Middle</td>\n",
       "      <td>Male</td>\n",
       "      <td>Rent</td>\n",
       "      <td>Single</td>\n",
       "      <td>Close</td>\n",
       "      <td>38600</td>\n",
       "      <td>1</td>\n",
       "      <td>Low</td>\n",
       "      <td>18</td>\n",
       "      <td>542</td>\n",
       "    </tr>\n",
       "    <tr>\n",
       "      <th>19</th>\n",
       "      <td>Old</td>\n",
       "      <td>Female</td>\n",
       "      <td>Rent</td>\n",
       "      <td>Single</td>\n",
       "      <td>Far</td>\n",
       "      <td>14000</td>\n",
       "      <td>0</td>\n",
       "      <td>Low</td>\n",
       "      <td>12</td>\n",
       "      <td>410</td>\n",
       "    </tr>\n",
       "    <tr>\n",
       "      <th>20</th>\n",
       "      <td>Young</td>\n",
       "      <td>Female</td>\n",
       "      <td>Rent</td>\n",
       "      <td>Single</td>\n",
       "      <td>Far</td>\n",
       "      <td>14300</td>\n",
       "      <td>2</td>\n",
       "      <td>Low</td>\n",
       "      <td>6</td>\n",
       "      <td>194</td>\n",
       "    </tr>\n",
       "    <tr>\n",
       "      <th>21</th>\n",
       "      <td>Young</td>\n",
       "      <td>Male</td>\n",
       "      <td>Rent</td>\n",
       "      <td>Married</td>\n",
       "      <td>Close</td>\n",
       "      <td>49800</td>\n",
       "      <td>0</td>\n",
       "      <td>Medium</td>\n",
       "      <td>12</td>\n",
       "      <td>827</td>\n",
       "    </tr>\n",
       "    <tr>\n",
       "      <th>22</th>\n",
       "      <td>Old</td>\n",
       "      <td>Female</td>\n",
       "      <td>Rent</td>\n",
       "      <td>Married</td>\n",
       "      <td>Far</td>\n",
       "      <td>60200</td>\n",
       "      <td>0</td>\n",
       "      <td>High</td>\n",
       "      <td>18</td>\n",
       "      <td>2328</td>\n",
       "    </tr>\n",
       "    <tr>\n",
       "      <th>23</th>\n",
       "      <td>Young</td>\n",
       "      <td>Male</td>\n",
       "      <td>Rent</td>\n",
       "      <td>Married</td>\n",
       "      <td>Far</td>\n",
       "      <td>43500</td>\n",
       "      <td>1</td>\n",
       "      <td>Medium</td>\n",
       "      <td>12</td>\n",
       "      <td>808</td>\n",
       "    </tr>\n",
       "    <tr>\n",
       "      <th>24</th>\n",
       "      <td>Young</td>\n",
       "      <td>Female</td>\n",
       "      <td>Rent</td>\n",
       "      <td>Married</td>\n",
       "      <td>Close</td>\n",
       "      <td>41700</td>\n",
       "      <td>1</td>\n",
       "      <td>NaN</td>\n",
       "      <td>6</td>\n",
       "      <td>521</td>\n",
       "    </tr>\n",
       "  </tbody>\n",
       "</table>\n",
       "</div>"
      ],
      "text/plain": [
       "       Age  Gender OwnHome  Married Location  Salary  Children History  \\\n",
       "0      Old  Female     Own   Single      Far   47500         0    High   \n",
       "1   Middle    Male    Rent   Single    Close   63600         0    High   \n",
       "2    Young  Female    Rent   Single    Close   13500         0     Low   \n",
       "3   Middle    Male     Own  Married    Close   85600         1    High   \n",
       "4   Middle  Female     Own   Single    Close   68400         0    High   \n",
       "5    Young    Male     Own  Married    Close   30400         0     Low   \n",
       "6   Middle  Female    Rent   Single    Close   48100         0  Medium   \n",
       "7   Middle    Male     Own   Single    Close   68400         0    High   \n",
       "8   Middle  Female     Own  Married    Close   51900         3     Low   \n",
       "9      Old    Male     Own  Married      Far   80700         0     NaN   \n",
       "10   Young    Male    Rent  Married    Close   43700         1     NaN   \n",
       "11  Middle    Male     Own  Married      Far  111800         3    High   \n",
       "12  Middle  Female     Own  Married    Close   44100         1  Medium   \n",
       "13  Middle    Male     Own  Married    Close  111400         0    High   \n",
       "14     Old  Female     Own  Married      Far  110000         0    High   \n",
       "15  Middle  Female     Own  Married      Far   83100         1     NaN   \n",
       "16     Old  Female     Own  Married    Close   82800         0    High   \n",
       "17  Middle    Male     Own  Married    Close   90100         0    High   \n",
       "18  Middle    Male    Rent   Single    Close   38600         1     Low   \n",
       "19     Old  Female    Rent   Single      Far   14000         0     Low   \n",
       "20   Young  Female    Rent   Single      Far   14300         2     Low   \n",
       "21   Young    Male    Rent  Married    Close   49800         0  Medium   \n",
       "22     Old  Female    Rent  Married      Far   60200         0    High   \n",
       "23   Young    Male    Rent  Married      Far   43500         1  Medium   \n",
       "24   Young  Female    Rent  Married    Close   41700         1     NaN   \n",
       "\n",
       "    Catalogs  AmountSpent  \n",
       "0          6          755  \n",
       "1          6         1318  \n",
       "2         18          296  \n",
       "3         18         2436  \n",
       "4         12         1304  \n",
       "5          6          495  \n",
       "6         12          782  \n",
       "7         18         1155  \n",
       "8          6          158  \n",
       "9         18         3034  \n",
       "10        12          927  \n",
       "11        18         2065  \n",
       "12        24          704  \n",
       "13        12         2136  \n",
       "14        24         5564  \n",
       "15        12         2766  \n",
       "16        24         3010  \n",
       "17        18         1956  \n",
       "18        18          542  \n",
       "19        12          410  \n",
       "20         6          194  \n",
       "21        12          827  \n",
       "22        18         2328  \n",
       "23        12          808  \n",
       "24         6          521  "
      ]
     },
     "execution_count": 3,
     "metadata": {},
     "output_type": "execute_result"
    }
   ],
   "source": [
    "Direct_Marketing=pd.read_csv(\"/kaggle/input/direct-marketing/DirectMarketing.csv\")\n",
    "df=Direct_Marketing.copy()\n",
    "df.head(25)"
   ]
  },
  {
   "cell_type": "markdown",
   "metadata": {
    "papermill": {
     "duration": 0.174046,
     "end_time": "2020-12-10T12:47:43.387846",
     "exception": false,
     "start_time": "2020-12-10T12:47:43.213800",
     "status": "completed"
    },
    "tags": []
   },
   "source": [
    " # <a id='3'> 3.Exploratory Data Analysis</a>\n"
   ]
  },
  {
   "cell_type": "code",
   "execution_count": 4,
   "metadata": {
    "execution": {
     "iopub.execute_input": "2020-12-10T12:47:43.751989Z",
     "iopub.status.busy": "2020-12-10T12:47:43.751014Z",
     "iopub.status.idle": "2020-12-10T12:47:43.754704Z",
     "shell.execute_reply": "2020-12-10T12:47:43.755535Z"
    },
    "papermill": {
     "duration": 0.194847,
     "end_time": "2020-12-10T12:47:43.755746",
     "exception": false,
     "start_time": "2020-12-10T12:47:43.560899",
     "status": "completed"
    },
    "tags": []
   },
   "outputs": [
    {
     "name": "stdout",
     "output_type": "stream",
     "text": [
      "<class 'pandas.core.frame.DataFrame'>\n",
      "RangeIndex: 1000 entries, 0 to 999\n",
      "Data columns (total 10 columns):\n",
      " #   Column       Non-Null Count  Dtype \n",
      "---  ------       --------------  ----- \n",
      " 0   Age          1000 non-null   object\n",
      " 1   Gender       1000 non-null   object\n",
      " 2   OwnHome      1000 non-null   object\n",
      " 3   Married      1000 non-null   object\n",
      " 4   Location     1000 non-null   object\n",
      " 5   Salary       1000 non-null   int64 \n",
      " 6   Children     1000 non-null   int64 \n",
      " 7   History      697 non-null    object\n",
      " 8   Catalogs     1000 non-null   int64 \n",
      " 9   AmountSpent  1000 non-null   int64 \n",
      "dtypes: int64(4), object(6)\n",
      "memory usage: 78.2+ KB\n"
     ]
    }
   ],
   "source": [
    "df.info()"
   ]
  },
  {
   "cell_type": "markdown",
   "metadata": {
    "papermill": {
     "duration": 0.174137,
     "end_time": "2020-12-10T12:47:44.105362",
     "exception": false,
     "start_time": "2020-12-10T12:47:43.931225",
     "status": "completed"
    },
    "tags": []
   },
   "source": [
    "\n",
    "* Data has only object and integer values.\n",
    "* Variable column has not missing values."
   ]
  },
  {
   "cell_type": "code",
   "execution_count": 5,
   "metadata": {
    "execution": {
     "iopub.execute_input": "2020-12-10T12:47:44.461468Z",
     "iopub.status.busy": "2020-12-10T12:47:44.460361Z",
     "iopub.status.idle": "2020-12-10T12:47:44.464945Z",
     "shell.execute_reply": "2020-12-10T12:47:44.464356Z"
    },
    "papermill": {
     "duration": 0.186096,
     "end_time": "2020-12-10T12:47:44.465079",
     "exception": false,
     "start_time": "2020-12-10T12:47:44.278983",
     "status": "completed"
    },
    "tags": []
   },
   "outputs": [
    {
     "data": {
      "text/plain": [
       "Age            object\n",
       "Gender         object\n",
       "OwnHome        object\n",
       "Married        object\n",
       "Location       object\n",
       "Salary          int64\n",
       "Children        int64\n",
       "History        object\n",
       "Catalogs        int64\n",
       "AmountSpent     int64\n",
       "dtype: object"
      ]
     },
     "execution_count": 5,
     "metadata": {},
     "output_type": "execute_result"
    }
   ],
   "source": [
    "# Columns Types\n",
    "df.dtypes"
   ]
  },
  {
   "cell_type": "code",
   "execution_count": 6,
   "metadata": {
    "execution": {
     "iopub.execute_input": "2020-12-10T12:47:44.820762Z",
     "iopub.status.busy": "2020-12-10T12:47:44.819603Z",
     "iopub.status.idle": "2020-12-10T12:47:44.823968Z",
     "shell.execute_reply": "2020-12-10T12:47:44.824555Z"
    },
    "papermill": {
     "duration": 0.184464,
     "end_time": "2020-12-10T12:47:44.824739",
     "exception": false,
     "start_time": "2020-12-10T12:47:44.640275",
     "status": "completed"
    },
    "tags": []
   },
   "outputs": [
    {
     "data": {
      "text/plain": [
       "(1000, 10)"
      ]
     },
     "execution_count": 6,
     "metadata": {},
     "output_type": "execute_result"
    }
   ],
   "source": [
    "# Size Of Data Set\n",
    "df.shape"
   ]
  },
  {
   "cell_type": "markdown",
   "metadata": {
    "papermill": {
     "duration": 0.176561,
     "end_time": "2020-12-10T12:47:45.177317",
     "exception": false,
     "start_time": "2020-12-10T12:47:45.000756",
     "status": "completed"
    },
    "tags": []
   },
   "source": [
    "* Dataset comprises of 1000 observations and 10 characteristics."
   ]
  },
  {
   "cell_type": "code",
   "execution_count": 7,
   "metadata": {
    "execution": {
     "iopub.execute_input": "2020-12-10T12:47:45.534204Z",
     "iopub.status.busy": "2020-12-10T12:47:45.533393Z",
     "iopub.status.idle": "2020-12-10T12:47:45.565638Z",
     "shell.execute_reply": "2020-12-10T12:47:45.566292Z"
    },
    "papermill": {
     "duration": 0.215115,
     "end_time": "2020-12-10T12:47:45.566454",
     "exception": false,
     "start_time": "2020-12-10T12:47:45.351339",
     "status": "completed"
    },
    "tags": []
   },
   "outputs": [
    {
     "data": {
      "text/html": [
       "<div>\n",
       "<style scoped>\n",
       "    .dataframe tbody tr th:only-of-type {\n",
       "        vertical-align: middle;\n",
       "    }\n",
       "\n",
       "    .dataframe tbody tr th {\n",
       "        vertical-align: top;\n",
       "    }\n",
       "\n",
       "    .dataframe thead th {\n",
       "        text-align: right;\n",
       "    }\n",
       "</style>\n",
       "<table border=\"1\" class=\"dataframe\">\n",
       "  <thead>\n",
       "    <tr style=\"text-align: right;\">\n",
       "      <th></th>\n",
       "      <th>Age</th>\n",
       "      <th>Gender</th>\n",
       "      <th>OwnHome</th>\n",
       "      <th>Married</th>\n",
       "      <th>Location</th>\n",
       "      <th>Salary</th>\n",
       "      <th>Children</th>\n",
       "      <th>History</th>\n",
       "      <th>Catalogs</th>\n",
       "      <th>AmountSpent</th>\n",
       "    </tr>\n",
       "  </thead>\n",
       "  <tbody>\n",
       "  </tbody>\n",
       "</table>\n",
       "</div>"
      ],
      "text/plain": [
       "Empty DataFrame\n",
       "Columns: [Age, Gender, OwnHome, Married, Location, Salary, Children, History, Catalogs, AmountSpent]\n",
       "Index: []"
      ]
     },
     "execution_count": 7,
     "metadata": {},
     "output_type": "execute_result"
    }
   ],
   "source": [
    "# Duplicated data\n",
    "df[df.duplicated() == True]"
   ]
  },
  {
   "cell_type": "markdown",
   "metadata": {
    "papermill": {
     "duration": 0.175422,
     "end_time": "2020-12-10T12:47:45.917778",
     "exception": false,
     "start_time": "2020-12-10T12:47:45.742356",
     "status": "completed"
    },
    "tags": []
   },
   "source": [
    "* We don't have duplicated data"
   ]
  },
  {
   "cell_type": "code",
   "execution_count": 8,
   "metadata": {
    "execution": {
     "iopub.execute_input": "2020-12-10T12:47:46.281141Z",
     "iopub.status.busy": "2020-12-10T12:47:46.280340Z",
     "iopub.status.idle": "2020-12-10T12:47:46.288071Z",
     "shell.execute_reply": "2020-12-10T12:47:46.287317Z"
    },
    "papermill": {
     "duration": 0.193945,
     "end_time": "2020-12-10T12:47:46.288208",
     "exception": false,
     "start_time": "2020-12-10T12:47:46.094263",
     "status": "completed"
    },
    "tags": []
   },
   "outputs": [
    {
     "data": {
      "text/plain": [
       "{'Age': ['Old', 'Middle', 'Young'],\n",
       " 'Gender': ['Female', 'Male'],\n",
       " 'OwnHome': ['Own', 'Rent'],\n",
       " 'Married': ['Single', 'Married'],\n",
       " 'Location': ['Far', 'Close'],\n",
       " 'History': ['High', 'Low', 'Medium', nan]}"
      ]
     },
     "execution_count": 8,
     "metadata": {},
     "output_type": "execute_result"
    }
   ],
   "source": [
    "# Unique Value\n",
    "{column: list(df[column].unique()) for column in df.select_dtypes('object').columns}"
   ]
  },
  {
   "cell_type": "markdown",
   "metadata": {
    "papermill": {
     "duration": 0.174117,
     "end_time": "2020-12-10T12:47:46.638317",
     "exception": false,
     "start_time": "2020-12-10T12:47:46.464200",
     "status": "completed"
    },
    "tags": []
   },
   "source": [
    "## <a id='4'> 3.1 Missing Value</a>"
   ]
  },
  {
   "cell_type": "code",
   "execution_count": 9,
   "metadata": {
    "execution": {
     "iopub.execute_input": "2020-12-10T12:47:47.048632Z",
     "iopub.status.busy": "2020-12-10T12:47:47.047375Z",
     "iopub.status.idle": "2020-12-10T12:47:47.051967Z",
     "shell.execute_reply": "2020-12-10T12:47:47.052497Z"
    },
    "papermill": {
     "duration": 0.23788,
     "end_time": "2020-12-10T12:47:47.052684",
     "exception": false,
     "start_time": "2020-12-10T12:47:46.814804",
     "status": "completed"
    },
    "tags": []
   },
   "outputs": [
    {
     "data": {
      "text/plain": [
       "True"
      ]
     },
     "execution_count": 9,
     "metadata": {},
     "output_type": "execute_result"
    }
   ],
   "source": [
    "df.isnull().values.any()"
   ]
  },
  {
   "cell_type": "code",
   "execution_count": 10,
   "metadata": {
    "execution": {
     "iopub.execute_input": "2020-12-10T12:47:47.419946Z",
     "iopub.status.busy": "2020-12-10T12:47:47.419013Z",
     "iopub.status.idle": "2020-12-10T12:47:47.423127Z",
     "shell.execute_reply": "2020-12-10T12:47:47.422377Z"
    },
    "papermill": {
     "duration": 0.189707,
     "end_time": "2020-12-10T12:47:47.423254",
     "exception": false,
     "start_time": "2020-12-10T12:47:47.233547",
     "status": "completed"
    },
    "tags": []
   },
   "outputs": [
    {
     "data": {
      "text/plain": [
       "Age              0\n",
       "Gender           0\n",
       "OwnHome          0\n",
       "Married          0\n",
       "Location         0\n",
       "Salary           0\n",
       "Children         0\n",
       "History        303\n",
       "Catalogs         0\n",
       "AmountSpent      0\n",
       "dtype: int64"
      ]
     },
     "execution_count": 10,
     "metadata": {},
     "output_type": "execute_result"
    }
   ],
   "source": [
    "df.isnull().sum()"
   ]
  },
  {
   "cell_type": "code",
   "execution_count": 11,
   "metadata": {
    "execution": {
     "iopub.execute_input": "2020-12-10T12:47:47.802352Z",
     "iopub.status.busy": "2020-12-10T12:47:47.801549Z",
     "iopub.status.idle": "2020-12-10T12:47:47.806104Z",
     "shell.execute_reply": "2020-12-10T12:47:47.806621Z"
    },
    "papermill": {
     "duration": 0.204104,
     "end_time": "2020-12-10T12:47:47.806802",
     "exception": false,
     "start_time": "2020-12-10T12:47:47.602698",
     "status": "completed"
    },
    "tags": []
   },
   "outputs": [
    {
     "data": {
      "text/html": [
       "<div>\n",
       "<style scoped>\n",
       "    .dataframe tbody tr th:only-of-type {\n",
       "        vertical-align: middle;\n",
       "    }\n",
       "\n",
       "    .dataframe tbody tr th {\n",
       "        vertical-align: top;\n",
       "    }\n",
       "\n",
       "    .dataframe thead th {\n",
       "        text-align: right;\n",
       "    }\n",
       "</style>\n",
       "<table border=\"1\" class=\"dataframe\">\n",
       "  <thead>\n",
       "    <tr style=\"text-align: right;\">\n",
       "      <th></th>\n",
       "      <th>Total</th>\n",
       "      <th>Percent</th>\n",
       "    </tr>\n",
       "  </thead>\n",
       "  <tbody>\n",
       "    <tr>\n",
       "      <th>History</th>\n",
       "      <td>303</td>\n",
       "      <td>30.3</td>\n",
       "    </tr>\n",
       "    <tr>\n",
       "      <th>AmountSpent</th>\n",
       "      <td>0</td>\n",
       "      <td>0.0</td>\n",
       "    </tr>\n",
       "    <tr>\n",
       "      <th>Catalogs</th>\n",
       "      <td>0</td>\n",
       "      <td>0.0</td>\n",
       "    </tr>\n",
       "    <tr>\n",
       "      <th>Children</th>\n",
       "      <td>0</td>\n",
       "      <td>0.0</td>\n",
       "    </tr>\n",
       "    <tr>\n",
       "      <th>Salary</th>\n",
       "      <td>0</td>\n",
       "      <td>0.0</td>\n",
       "    </tr>\n",
       "    <tr>\n",
       "      <th>Location</th>\n",
       "      <td>0</td>\n",
       "      <td>0.0</td>\n",
       "    </tr>\n",
       "    <tr>\n",
       "      <th>Married</th>\n",
       "      <td>0</td>\n",
       "      <td>0.0</td>\n",
       "    </tr>\n",
       "    <tr>\n",
       "      <th>OwnHome</th>\n",
       "      <td>0</td>\n",
       "      <td>0.0</td>\n",
       "    </tr>\n",
       "    <tr>\n",
       "      <th>Gender</th>\n",
       "      <td>0</td>\n",
       "      <td>0.0</td>\n",
       "    </tr>\n",
       "    <tr>\n",
       "      <th>Age</th>\n",
       "      <td>0</td>\n",
       "      <td>0.0</td>\n",
       "    </tr>\n",
       "  </tbody>\n",
       "</table>\n",
       "</div>"
      ],
      "text/plain": [
       "             Total  Percent\n",
       "History        303     30.3\n",
       "AmountSpent      0      0.0\n",
       "Catalogs         0      0.0\n",
       "Children         0      0.0\n",
       "Salary           0      0.0\n",
       "Location         0      0.0\n",
       "Married          0      0.0\n",
       "OwnHome          0      0.0\n",
       "Gender           0      0.0\n",
       "Age              0      0.0"
      ]
     },
     "execution_count": 11,
     "metadata": {},
     "output_type": "execute_result"
    }
   ],
   "source": [
    "def missing_data(data):\n",
    "    total = data.isnull().sum().sort_values(ascending = False)\n",
    "    percent = (data.isnull().sum()/data.isnull().count()*100).sort_values(ascending = False)\n",
    "    return pd.concat([total, percent], axis=1, keys=['Total', 'Percent'])\n",
    "missing_data(df)"
   ]
  },
  {
   "cell_type": "markdown",
   "metadata": {
    "papermill": {
     "duration": 0.180954,
     "end_time": "2020-12-10T12:47:50.697837",
     "exception": false,
     "start_time": "2020-12-10T12:47:50.516883",
     "status": "completed"
    },
    "tags": []
   },
   "source": [
    "## <a id='7'> 4.Data Analysis </a>"
   ]
  },
  {
   "cell_type": "markdown",
   "metadata": {
    "papermill": {
     "duration": 0.185503,
     "end_time": "2020-12-10T12:47:53.165690",
     "exception": false,
     "start_time": "2020-12-10T12:47:52.980187",
     "status": "completed"
    },
    "tags": []
   },
   "source": [
    "* How much is the average salary,amount spent by age?"
   ]
  },
  {
   "cell_type": "code",
   "execution_count": 20,
   "metadata": {
    "execution": {
     "iopub.execute_input": "2020-12-10T12:47:54.928001Z",
     "iopub.status.busy": "2020-12-10T12:47:54.927165Z",
     "iopub.status.idle": "2020-12-10T12:47:56.617206Z",
     "shell.execute_reply": "2020-12-10T12:47:56.616544Z"
    },
    "papermill": {
     "duration": 1.883081,
     "end_time": "2020-12-10T12:47:56.617343",
     "exception": false,
     "start_time": "2020-12-10T12:47:54.734262",
     "status": "completed"
    },
    "tags": []
   },
   "outputs": [
    {
     "data": {
      "text/html": [
       "<div>                            <div id=\"39d92d0d-fc25-4462-9cdd-3eae6de3e6d3\" class=\"plotly-graph-div\" style=\"height:525px; width:100%;\"></div>            <script type=\"text/javascript\">                require([\"plotly\"], function(Plotly) {                    window.PLOTLYENV=window.PLOTLYENV || {};                                    if (document.getElementById(\"39d92d0d-fc25-4462-9cdd-3eae6de3e6d3\")) {                    Plotly.newPlot(                        \"39d92d0d-fc25-4462-9cdd-3eae6de3e6d3\",                        [{\"hovertemplate\": \"Age=Old<br>Salary=%{x}<br>AmountSpent=%{y}<extra></extra>\", \"legendgroup\": \"Old\", \"marker\": {\"color\": \"#636efa\", \"symbol\": \"circle\"}, \"mode\": \"markers\", \"name\": \"Old\", \"orientation\": \"v\", \"showlegend\": true, \"type\": \"scatter\", \"x\": [47500, 80700, 110000, 82800, 14000, 60200, 39700, 41600, 20100, 81500, 111500, 69800, 14600, 62600, 11400, 134500, 75500, 33600, 91800, 70700, 106600, 56300, 58300, 59700, 52500, 100100, 21400, 114800, 67900, 42600, 51200, 84800, 28500, 73100, 45700, 28900, 35000, 46900, 64600, 80000, 23600, 62200, 97000, 71200, 15000, 33000, 74400, 33200, 107400, 66300, 29000, 14600, 65300, 90200, 62000, 103300, 43300, 51900, 54600, 55500, 42800, 30900, 84300, 53400, 26800, 78800, 15400, 88400, 74800, 24000, 66300, 69100, 39600, 123000, 64600, 56600, 37000, 22800, 10100, 54600, 62300, 74900, 73300, 41300, 32700, 35200, 17900, 74700, 60000, 108900, 84100, 78900, 36100, 17300, 118800, 20400, 17600, 58700, 72900, 21200, 32400, 24400, 72200, 22000, 45900, 95900, 51400, 38200, 65900, 12800, 12600, 23800, 20600, 54700, 39900, 61000, 38700, 89000, 13900, 81800, 41700, 51000, 58200, 37500, 22800, 102700, 81400, 90500, 15100, 23800, 52200, 40100, 84500, 34500, 79300, 30300, 86500, 42500, 28300, 41900, 70400, 74500, 34500, 83700, 42800, 65500, 33600, 21500, 68600, 112800, 124900, 14900, 35900, 39500, 85300, 110700, 44400, 19700, 52000, 25900, 11000, 65900, 96200, 26700, 61000, 90600, 12700, 71800, 29200, 40600, 50500, 16300, 49200, 32500, 69400, 118000, 59300, 22400, 116100, 40200, 74900, 62800, 76900, 77600, 128700, 49600, 57900, 66200, 168800, 25500, 23400, 37000, 22600, 37300, 77300, 70900, 71300, 71800, 43600, 33000, 66200, 63200, 112900, 11700, 44800], \"xaxis\": \"x\", \"y\": [755, 3034, 5564, 3010, 410, 2328, 573, 982, 576, 3655, 2510, 2764, 468, 565, 258, 4558, 741, 805, 2452, 2150, 1877, 873, 1472, 1857, 2038, 3104, 498, 3596, 2925, 1790, 1293, 2624, 621, 1582, 724, 830, 473, 703, 1298, 1985, 161, 1583, 2599, 638, 378, 979, 2479, 1037, 1485, 2243, 482, 385, 1443, 2183, 3293, 3378, 1584, 1148, 2163, 858, 922, 862, 2842, 886, 435, 3398, 297, 3632, 1968, 357, 1088, 1477, 610, 3671, 2206, 1607, 632, 452, 93, 1246, 2644, 1474, 1694, 1985, 1252, 827, 446, 1699, 966, 1841, 2710, 2233, 438, 166, 2176, 513, 224, 1479, 753, 242, 515, 491, 3069, 736, 1645, 2585, 694, 526, 1436, 230, 164, 438, 201, 1404, 619, 1850, 1506, 1487, 191, 919, 1398, 1025, 981, 1578, 258, 2381, 3001, 863, 348, 428, 669, 1384, 1557, 802, 2047, 1062, 2690, 918, 933, 654, 2610, 1413, 639, 1582, 685, 1931, 573, 445, 1342, 1861, 4109, 275, 962, 1006, 2523, 2458, 886, 535, 2545, 582, 195, 777, 1457, 1120, 975, 3167, 65, 1946, 556, 690, 642, 317, 1078, 883, 2419, 581, 929, 947, 2975, 1197, 1804, 1403, 3230, 2004, 3995, 770, 1693, 1024, 1512, 636, 348, 850, 865, 673, 1853, 1685, 1543, 1389, 1047, 700, 2057, 1507, 6217, 540, 1417], \"yaxis\": \"y\"}, {\"hovertemplate\": \"<b>OLS trendline</b><br>AmountSpent = 0.0264089 * Salary + -56.4342<br>R<sup>2</sup>=0.580527<br><br>Age=Old<br>Salary=%{x}<br>AmountSpent=%{y} <b>(trend)</b><extra></extra>\", \"legendgroup\": \"Old\", \"marker\": {\"color\": \"#636efa\", \"symbol\": \"circle\"}, \"mode\": \"lines\", \"name\": \"Old\", \"showlegend\": false, \"type\": \"scatter\", \"x\": [10100, 11000, 11400, 11700, 12600, 12700, 12800, 13900, 14000, 14600, 14600, 14900, 15000, 15100, 15400, 16300, 17300, 17600, 17900, 19700, 20100, 20400, 20600, 21200, 21400, 21500, 22000, 22400, 22600, 22800, 22800, 23400, 23600, 23800, 23800, 24000, 24400, 25500, 25900, 26700, 26800, 28300, 28500, 28900, 29000, 29200, 30300, 30900, 32400, 32500, 32700, 33000, 33000, 33200, 33600, 33600, 34500, 34500, 35000, 35200, 35900, 36100, 37000, 37000, 37300, 37500, 38200, 38700, 39500, 39600, 39700, 39900, 40100, 40200, 40600, 41300, 41600, 41700, 41900, 42500, 42600, 42800, 42800, 43300, 43600, 44400, 44800, 45700, 45900, 46900, 47500, 49200, 49600, 50500, 51000, 51200, 51400, 51900, 52000, 52200, 52500, 53400, 54600, 54600, 54700, 55500, 56300, 56600, 57900, 58200, 58300, 58700, 59300, 59700, 60000, 60200, 61000, 61000, 62000, 62200, 62300, 62600, 62800, 63200, 64600, 64600, 65300, 65500, 65900, 65900, 66200, 66200, 66300, 66300, 67900, 68600, 69100, 69400, 69800, 70400, 70700, 70900, 71200, 71300, 71800, 71800, 72200, 72900, 73100, 73300, 74400, 74500, 74700, 74800, 74900, 74900, 75500, 76900, 77300, 77600, 78800, 78900, 79300, 80000, 80700, 81400, 81500, 81800, 82800, 83700, 84100, 84300, 84500, 84800, 85300, 86500, 88400, 89000, 90200, 90500, 90600, 91800, 95900, 96200, 97000, 100100, 102700, 103300, 106600, 107400, 108900, 110000, 110700, 111500, 112800, 112900, 114800, 116100, 118000, 118800, 123000, 124900, 128700, 134500, 168800], \"xaxis\": \"x\", \"y\": [210.29582078843112, 234.06384451815165, 244.62741062024963, 252.55008519682315, 276.3181089265437, 278.9590004520682, 281.59989197759273, 310.64969875836226, 313.2905902838868, 329.1359394370338, 329.1359394370338, 337.0586140136073, 339.6995055391318, 342.3403970646563, 350.2630716412298, 374.03109537095037, 400.44001062619543, 408.36268520276894, 416.28535977934246, 463.82140723878354, 474.3849733408815, 482.30764791745503, 487.5894309685041, 503.4347801216511, 508.71656317270015, 511.3574546982246, 524.5619123258472, 535.1254784279452, 540.4072614789942, 545.6890445300431, 545.6890445300431, 561.5343936831902, 566.8161767342392, 572.0979597852883, 572.0979597852883, 577.3797428363372, 587.9433089384353, 616.9931157192048, 627.5566818213028, 648.6838140254988, 651.3247055510234, 690.938078433891, 696.2198614849399, 706.783427587038, 709.4243191125624, 714.7061021636115, 743.755908944381, 759.601258097528, 799.2146309803956, 801.8555225059201, 807.1373055569691, 815.0599801335426, 815.0599801335426, 820.3417631845916, 830.9053292866896, 830.9053292866896, 854.6733530164101, 854.6733530164101, 867.8778106440327, 873.1595936950818, 891.6458343737532, 896.9276174248023, 920.6956411545228, 920.6956411545228, 928.6183157310963, 933.9000987821454, 952.3863394608169, 965.5907970884394, 986.7179292926354, 989.3588208181599, 991.9997123436843, 997.2814953947335, 1002.5632784457824, 1005.2041699713069, 1015.767736073405, 1034.2539767520766, 1042.1766513286502, 1044.8175428541747, 1050.0993259052236, 1065.9446750583706, 1068.5855665838951, 1073.8673496349443, 1073.8673496349443, 1087.0718072625666, 1094.9944818391402, 1116.1216140433362, 1126.6851801454343, 1150.4532038751547, 1155.7349869262039, 1182.1439021814488, 1197.9892513345958, 1242.8844072685124, 1253.4479733706105, 1277.2159971003312, 1290.4204547279535, 1295.7022377790026, 1300.9840208300516, 1314.1884784576741, 1316.8293699831986, 1322.1111530342475, 1330.0338276108212, 1353.8018513405416, 1385.4925496468356, 1385.4925496468356, 1388.1334411723603, 1409.2605733765563, 1430.3877055807523, 1438.3103801573259, 1472.6419699891444, 1480.5646445657178, 1483.2055360912425, 1493.7691021933404, 1509.6144513464874, 1520.1780174485855, 1528.1006920251589, 1533.382475076208, 1554.509607280404, 1554.509607280404, 1580.9185225356491, 1586.200305586698, 1588.8411971122225, 1596.7638716887961, 1602.045654739845, 1612.6092208419432, 1649.5817021992862, 1649.5817021992862, 1668.0679428779576, 1673.3497259290068, 1683.9132920311047, 1683.9132920311047, 1691.8359666076783, 1691.8359666076783, 1694.4768581332028, 1694.4768581332028, 1736.731122541595, 1755.2173632202664, 1768.421820847889, 1776.3444954244624, 1786.9080615265605, 1802.7534106797075, 1810.6760852562809, 1815.95786830733, 1823.8805428839034, 1826.521434409428, 1839.7258920370505, 1839.7258920370505, 1850.2894581391486, 1868.77569881782, 1874.057481868869, 1879.3392649199182, 1908.3890717006877, 1911.0299632262122, 1916.3117462772611, 1918.9526378027856, 1921.59352932831, 1921.59352932831, 1937.438878481457, 1974.4113598388003, 1984.9749259408982, 1992.8976005174718, 2024.5882988237659, 2027.2291903492905, 2037.7927564513884, 2056.27899713006, 2074.7652378087314, 2093.251478487403, 2095.8923700129276, 2103.8150445895008, 2130.223959844746, 2153.9919835744668, 2164.5555496765646, 2169.8373327276136, 2175.1191157786625, 2183.041790355236, 2196.2462479828587, 2227.9369462891527, 2278.1138852741183, 2293.959234427265, 2325.649932733559, 2333.5726073101328, 2336.2134988356574, 2367.9041971419515, 2476.180749688456, 2484.1034242650294, 2505.2305564692256, 2587.098193760485, 2655.761373424122, 2671.6067225772695, 2758.756142919578, 2779.883275123774, 2819.496648006642, 2848.546454787411, 2867.0326954660827, 2888.159827670279, 2922.491417502097, 2925.132309027622, 2975.3092480125874, 3009.640837844406, 3059.8177768293717, 3080.9449090335675, 3191.862353105597, 3242.0392920905624, 3342.3931700604935, 3495.564878540915, 4401.39067179582], \"yaxis\": \"y\"}, {\"hovertemplate\": \"Age=Middle<br>Salary=%{x}<br>AmountSpent=%{y}<extra></extra>\", \"legendgroup\": \"Middle\", \"marker\": {\"color\": \"#EF553B\", \"symbol\": \"circle\"}, \"mode\": \"markers\", \"name\": \"Middle\", \"orientation\": \"v\", \"showlegend\": true, \"type\": \"scatter\", \"x\": [63600, 85600, 68400, 48100, 68400, 51900, 111800, 44100, 111400, 83100, 90100, 38600, 92300, 62800, 72900, 66900, 72200, 87700, 104100, 67700, 27000, 64100, 47000, 64000, 96800, 76200, 49600, 77700, 126500, 83300, 90500, 87200, 105300, 56000, 46600, 60300, 42300, 62700, 72500, 51300, 72300, 90400, 71500, 57600, 84300, 48800, 74700, 127000, 47200, 48700, 39000, 67300, 110400, 81200, 87100, 42200, 59000, 52700, 90700, 79600, 96400, 46600, 104900, 70200, 51900, 66800, 105300, 44200, 35200, 113000, 63300, 93400, 45400, 53700, 103700, 81700, 53700, 109800, 64200, 41400, 49100, 113600, 52900, 59600, 39700, 88200, 122100, 140000, 60300, 60200, 81200, 84800, 123600, 77800, 48700, 39000, 118300, 91000, 35300, 113800, 113400, 100100, 83900, 77000, 72900, 54700, 56900, 68700, 61500, 101700, 120800, 53300, 42800, 98400, 51200, 109200, 64000, 68700, 79900, 120000, 54400, 84200, 100800, 56700, 43200, 114100, 96100, 97200, 82400, 108200, 81800, 76100, 82100, 47500, 72200, 107600, 109900, 65400, 80600, 42700, 68200, 65900, 59700, 102800, 34700, 50600, 106700, 53900, 118600, 130700, 118300, 63500, 55900, 53900, 96900, 55800, 96700, 40200, 61800, 102500, 48900, 60300, 73700, 43700, 63300, 82500, 80800, 88100, 124800, 53300, 70200, 82400, 97900, 86900, 45100, 41800, 73000, 118500, 65300, 66300, 103900, 71900, 86100, 96300, 96300, 46700, 53700, 108300, 70000, 47900, 40500, 75800, 48600, 34600, 74500, 61400, 76400, 59100, 73800, 113300, 118400, 92300, 43500, 97500, 42500, 82800, 35600, 96900, 93500, 97300, 63000, 44600, 45100, 97400, 49200, 45000, 87200, 49900, 66900, 47600, 47900, 59400, 32700, 34200, 96600, 126300, 108100, 43300, 50100, 68800, 25700, 83700, 50500, 45800, 60500, 69900, 97100, 72200, 62500, 105500, 46100, 48400, 45600, 35200, 60200, 53900, 70400, 61600, 88700, 88600, 79500, 81400, 43300, 76700, 123000, 56300, 70000, 48100, 63700, 53900, 79400, 52400, 95100, 119800, 76700, 67600, 61500, 62200, 66500, 72100, 55600, 140700, 90300, 98400, 102400, 50500, 42000, 95800, 39900, 97500, 63000, 45500, 50700, 84700, 36900, 83100, 88700, 68900, 70900, 55900, 80800, 100600, 98900, 64300, 75600, 66600, 45600, 92900, 77100, 55900, 84100, 85600, 96300, 60500, 35800, 106100, 50000, 59900, 62800, 70000, 97400, 107400, 38400, 54200, 60200, 64800, 55600, 89500, 87000, 31200, 55500, 58600, 82200, 65400, 74400, 43900, 97600, 41300, 102400, 100000, 43300, 65800, 49700, 82300, 41200, 51900, 85500, 111900, 40400, 82400, 57800, 64600, 43100, 44500, 102300, 52600, 37800, 71600, 54700, 58600, 53800, 131500, 52200, 52100, 38700, 44100, 79200, 55100, 107300, 66500, 26200, 72200, 36700, 60200, 106400, 118800, 39500, 45900, 28200, 74600, 122700, 75500, 62900, 46600, 79700, 45900, 55600, 53300, 72200, 35100, 72000, 82400, 68500, 86400, 53800, 135700, 83500, 84200, 79900, 35300, 63700, 65800, 108100, 107300, 79500, 95900, 45200, 98500, 42700, 49700, 43000, 27200, 76600, 117500, 77600, 92400, 95800, 74500, 117700, 64100, 46500, 130600, 74400, 65400, 49100, 93700, 49000, 96500, 55600, 99600, 79900, 48100, 61300, 72600, 51100, 76800, 60200, 59100, 49500, 109600, 93000, 64300, 75400, 96100, 88600, 102600, 43700, 70500, 54200, 25300, 46600, 82700, 83000, 109800, 64400, 46300, 67900, 88500, 99200, 84100, 47000, 65800, 52800, 96500, 63500, 60400, 102700, 100100, 54400, 105600, 60100, 87400, 117900, 48800, 67900, 88000, 94200, 40200, 72200, 55200, 44600, 58400, 67800, 52600, 97600, 102500, 52300, 65400, 63800, 36700, 63200, 43100, 44800, 38200, 40700, 36400, 39100, 43800, 73200, 79000, 75200, 83600, 56200, 99300, 108000, 84900, 93000, 82000, 36900, 33200, 96800, 32100, 102700, 123800, 101700, 99200, 40500, 79000], \"xaxis\": \"x\", \"y\": [1318, 2436, 1304, 782, 1155, 158, 2065, 704, 2136, 2766, 1956, 542, 655, 707, 2075, 769, 2082, 2446, 2636, 2226, 183, 1595, 584, 410, 3082, 2437, 844, 983, 2000, 2574, 1116, 3604, 3360, 530, 906, 1263, 1051, 704, 2595, 1424, 4182, 2924, 964, 1006, 1648, 1647, 704, 1821, 1587, 528, 643, 1513, 1093, 1856, 1688, 1753, 3044, 855, 2265, 1575, 1822, 1153, 450, 1702, 1492, 2098, 3505, 2524, 607, 1554, 633, 3079, 1203, 235, 2339, 879, 1081, 4279, 1642, 223, 474, 3237, 2316, 1217, 238, 2749, 2408, 4894, 701, 1365, 2693, 1826, 1892, 1813, 1457, 292, 2681, 708, 1093, 3273, 1790, 3491, 1721, 2104, 252, 848, 1857, 1699, 1162, 2551, 5830, 1720, 759, 3305, 1257, 1102, 1552, 2763, 1165, 1926, 342, 1654, 1789, 536, 917, 1976, 316, 1634, 2035, 635, 1838, 719, 1308, 847, 2492, 1512, 870, 938, 2840, 827, 818, 1081, 1422, 2238, 1615, 713, 607, 735, 1553, 2070, 2502, 2321, 2555, 1186, 1420, 821, 1231, 881, 1156, 2464, 915, 2091, 1274, 950, 679, 859, 2444, 1078, 2537, 508, 1583, 657, 2149, 2230, 448, 301, 490, 3063, 193, 544, 2666, 1846, 1255, 1081, 3916, 983, 1194, 2224, 1227, 662, 622, 1830, 1583, 748, 1481, 1575, 881, 1426, 3120, 5151, 3941, 2141, 500, 2837, 798, 1544, 865, 1159, 1426, 3048, 1910, 236, 794, 880, 210, 902, 1274, 1631, 1220, 801, 1090, 1699, 273, 523, 1437, 1888, 2632, 326, 1071, 1658, 173, 3344, 1029, 712, 409, 2101, 1473, 715, 921, 1781, 418, 992, 1388, 233, 2304, 2177, 1127, 1666, 2448, 2563, 1763, 1014, 1021, 1431, 5878, 321, 1974, 1640, 364, 1060, 200, 857, 809, 2090, 534, 1172, 968, 2119, 286, 3052, 1786, 1001, 1944, 1414, 1237, 940, 232, 678, 586, 1280, 2107, 1624, 157, 2705, 371, 586, 2693, 2784, 794, 964, 1598, 2838, 3126, 1325, 1541, 1177, 1322, 1705, 568, 909, 2362, 3380, 1909, 340, 1355, 472, 1079, 613, 177, 785, 213, 1821, 188, 1405, 1364, 574, 984, 5209, 1594, 1087, 427, 624, 1517, 836, 1152, 358, 1162, 932, 2466, 2247, 716, 1017, 613, 580, 841, 1162, 895, 2340, 630, 2122, 1149, 2935, 1444, 1175, 2438, 1307, 1185, 1198, 1355, 989, 1803, 2840, 1909, 1668, 1009, 1659, 1905, 826, 1194, 1181, 381, 1811, 1218, 1748, 1757, 2631, 412, 716, 224, 705, 4984, 2450, 2561, 546, 3384, 416, 1553, 1598, 3278, 421, 1475, 1779, 1500, 1713, 843, 2746, 2098, 954, 1041, 1369, 1351, 578, 1133, 1566, 1651, 3168, 699, 2034, 541, 2844, 225, 243, 2904, 927, 858, 2191, 2581, 824, 2104, 1332, 829, 3442, 1893, 2290, 934, 1521, 1523, 1364, 952, 871, 295, 961, 1241, 1999, 1984, 1061, 1955, 580, 1195, 2318, 2644, 661, 2723, 1588, 212, 2546, 1344, 2145, 757, 451, 158, 1753, 726, 2258, 1913, 1138, 1418, 1104, 2796, 1352, 963, 869, 926, 3780, 1023, 791, 1473, 1597, 1150, 304, 1430, 2729, 1760, 1271, 356, 524, 1211, 1634, 1042, 1714, 966, 829, 680, 1773, 2902, 548, 2034, 2296, 1622, 529, 1932, 1224, 666, 1476, 232, 506, 1001, 606, 2177, 2279, 2702, 538, 1546, 1504, 1849, 3072, 1046, 1800, 514, 320, 2299, 405, 3785, 3537, 941, 5503, 1073, 671], \"yaxis\": \"y\"}, {\"hovertemplate\": \"<b>OLS trendline</b><br>AmountSpent = 0.0210153 * Salary + -12.1766<br>R<sup>2</sup>=0.294065<br><br>Age=Middle<br>Salary=%{x}<br>AmountSpent=%{y} <b>(trend)</b><extra></extra>\", \"legendgroup\": \"Middle\", \"marker\": {\"color\": \"#EF553B\", \"symbol\": \"circle\"}, \"mode\": \"lines\", \"name\": \"Middle\", \"showlegend\": false, \"type\": \"scatter\", \"x\": [25300, 25700, 26200, 27000, 27200, 28200, 31200, 32100, 32700, 33200, 34200, 34600, 34700, 35100, 35200, 35200, 35300, 35300, 35600, 35800, 36400, 36700, 36700, 36900, 36900, 37800, 38200, 38400, 38600, 38700, 39000, 39000, 39100, 39500, 39700, 39900, 40200, 40200, 40400, 40500, 40500, 40700, 41200, 41300, 41400, 41800, 42000, 42200, 42300, 42500, 42700, 42700, 42800, 43000, 43100, 43100, 43200, 43300, 43300, 43300, 43500, 43700, 43700, 43800, 43900, 44100, 44100, 44200, 44500, 44600, 44600, 44800, 45000, 45100, 45100, 45200, 45400, 45500, 45600, 45600, 45800, 45900, 45900, 46100, 46300, 46500, 46600, 46600, 46600, 46600, 46700, 47000, 47000, 47200, 47500, 47600, 47900, 47900, 48100, 48100, 48100, 48400, 48600, 48700, 48700, 48800, 48800, 48900, 49000, 49100, 49100, 49200, 49500, 49600, 49700, 49700, 49900, 50000, 50100, 50500, 50500, 50600, 50700, 51100, 51200, 51300, 51900, 51900, 51900, 52100, 52200, 52300, 52400, 52600, 52600, 52700, 52800, 52900, 53300, 53300, 53300, 53700, 53700, 53700, 53800, 53800, 53900, 53900, 53900, 53900, 54200, 54200, 54400, 54400, 54700, 54700, 55100, 55200, 55500, 55600, 55600, 55600, 55600, 55800, 55900, 55900, 55900, 56000, 56200, 56300, 56700, 56900, 57600, 57800, 58400, 58600, 58600, 59000, 59100, 59100, 59400, 59600, 59700, 59900, 60100, 60200, 60200, 60200, 60200, 60200, 60300, 60300, 60300, 60400, 60500, 60500, 61300, 61400, 61500, 61500, 61600, 61800, 62200, 62500, 62700, 62800, 62800, 62900, 63000, 63000, 63200, 63300, 63300, 63500, 63500, 63600, 63700, 63700, 63800, 64000, 64000, 64100, 64100, 64200, 64300, 64300, 64400, 64600, 64800, 65300, 65400, 65400, 65400, 65400, 65800, 65800, 65800, 65900, 66300, 66500, 66500, 66600, 66800, 66900, 66900, 67300, 67600, 67700, 67800, 67900, 67900, 68200, 68400, 68400, 68500, 68700, 68700, 68800, 68900, 69900, 70000, 70000, 70000, 70200, 70200, 70400, 70500, 70900, 71500, 71600, 71900, 72000, 72100, 72200, 72200, 72200, 72200, 72200, 72200, 72300, 72500, 72600, 72900, 72900, 73000, 73200, 73700, 73800, 74400, 74400, 74500, 74500, 74600, 74700, 75200, 75400, 75500, 75600, 75800, 76100, 76200, 76400, 76600, 76700, 76700, 76800, 77000, 77100, 77600, 77700, 77800, 79000, 79000, 79200, 79400, 79500, 79500, 79600, 79700, 79900, 79900, 79900, 80600, 80800, 80800, 81200, 81200, 81400, 81700, 81800, 82000, 82100, 82200, 82300, 82400, 82400, 82400, 82400, 82500, 82700, 82800, 83000, 83100, 83100, 83300, 83500, 83600, 83700, 83900, 84100, 84100, 84200, 84200, 84300, 84700, 84800, 84900, 85500, 85600, 85600, 86100, 86400, 86900, 87000, 87100, 87200, 87200, 87400, 87700, 88000, 88100, 88200, 88500, 88600, 88600, 88700, 88700, 89500, 90100, 90300, 90400, 90500, 90700, 91000, 92300, 92300, 92400, 92900, 93000, 93000, 93400, 93500, 93700, 94200, 95100, 95800, 95800, 95900, 96100, 96100, 96300, 96300, 96300, 96400, 96500, 96500, 96600, 96700, 96800, 96800, 96900, 96900, 97100, 97200, 97300, 97400, 97400, 97500, 97500, 97600, 97600, 97900, 98400, 98400, 98500, 98900, 99200, 99200, 99300, 99600, 100000, 100100, 100100, 100600, 100800, 101700, 101700, 102300, 102400, 102400, 102500, 102500, 102600, 102700, 102700, 102800, 103700, 103900, 104100, 104900, 105300, 105300, 105500, 105600, 106100, 106400, 106700, 107300, 107300, 107400, 107600, 108000, 108100, 108100, 108200, 108300, 109200, 109600, 109800, 109800, 109900, 110400, 111400, 111800, 111900, 113000, 113300, 113400, 113600, 113800, 114100, 117500, 117700, 117900, 118300, 118300, 118400, 118500, 118600, 118800, 119800, 120000, 120800, 122100, 122700, 123000, 123600, 123800, 124800, 126300, 126500, 127000, 130600, 130700, 131500, 135700, 140000, 140700], \"xaxis\": \"x\", \"y\": [519.510700094477, 527.9168236362362, 538.4244780634353, 555.2367251469539, 559.4397869178334, 580.4550957722316, 643.5010223354261, 662.4148003043845, 675.0239856170233, 685.5316400442224, 706.5469488986206, 714.9530724403799, 717.0546033258196, 725.4607268675788, 727.5622577530187, 727.5622577530187, 729.6637886384585, 729.6637886384585, 735.9683812947779, 740.1714430656576, 752.7806283782965, 759.085221034616, 759.085221034616, 763.2882828054956, 763.2882828054956, 782.2020607744539, 790.6081843162132, 794.8112460870927, 799.0143078579724, 801.1158387434123, 807.4204313997317, 807.4204313997317, 809.5219622851715, 817.9280858269308, 822.1311475978104, 826.33420936869, 832.6388020250095, 832.6388020250095, 836.8418637958891, 838.9433946813289, 838.9433946813289, 843.1464564522086, 853.6541108794077, 855.7556417648474, 857.8571726502872, 866.2632961920465, 870.4663579629262, 874.6694197338057, 876.7709506192456, 880.9740123901253, 885.1770741610048, 885.1770741610048, 887.2786050464447, 891.4816668173243, 893.5831977027641, 893.5831977027641, 895.6847285882039, 897.7862594736438, 897.7862594736438, 897.7862594736438, 901.9893212445234, 906.192383015403, 906.192383015403, 908.2939139008428, 910.3954447862826, 914.5985065571623, 914.5985065571623, 916.700037442602, 923.0046300989216, 925.1061609843614, 925.1061609843614, 929.309222755241, 933.5122845261207, 935.6138154115604, 935.6138154115604, 937.7153462970002, 941.9184080678799, 944.0199389533196, 946.1214698387595, 946.1214698387595, 950.3245316096392, 952.4260624950789, 952.4260624950789, 956.6291242659586, 960.8321860368382, 965.0352478077178, 967.1367786931577, 967.1367786931577, 967.1367786931577, 967.1367786931577, 969.2383095785974, 975.5429022349169, 975.5429022349169, 979.7459640057965, 986.050556662116, 988.1520875475558, 994.4566802038753, 994.4566802038753, 998.6597419747549, 998.6597419747549, 998.6597419747549, 1004.9643346310743, 1009.167396401954, 1011.2689272873938, 1011.2689272873938, 1013.3704581728335, 1013.3704581728335, 1015.4719890582734, 1017.5735199437132, 1019.6750508291531, 1019.6750508291531, 1021.7765817145929, 1028.081174370912, 1030.182705256352, 1032.2842361417918, 1032.2842361417918, 1036.4872979126715, 1038.5888287981113, 1040.6903596835512, 1049.0964832253103, 1049.0964832253103, 1051.1980141107501, 1053.29954499619, 1061.7056685379491, 1063.807199423389, 1065.9087303088288, 1078.5179156214676, 1078.5179156214676, 1078.5179156214676, 1082.7209773923473, 1084.8225082777872, 1086.924039163227, 1089.0255700486669, 1093.2286318195465, 1093.2286318195465, 1095.3301627049864, 1097.431693590426, 1099.5332244758658, 1107.9393480176252, 1107.9393480176252, 1107.9393480176252, 1116.3454715593844, 1116.3454715593844, 1116.3454715593844, 1118.4470024448242, 1118.4470024448242, 1120.548533330264, 1120.548533330264, 1120.548533330264, 1120.548533330264, 1126.8531259865836, 1126.8531259865836, 1131.056187757463, 1131.056187757463, 1137.3607804137825, 1137.3607804137825, 1145.766903955542, 1147.8684348409815, 1154.173027497301, 1156.274558382741, 1156.274558382741, 1156.274558382741, 1156.274558382741, 1160.4776201536206, 1162.5791510390604, 1162.5791510390604, 1162.5791510390604, 1164.6806819245003, 1168.8837436953797, 1170.9852745808196, 1179.391398122579, 1183.5944598934584, 1198.3051760915373, 1202.5082378624168, 1215.1174231750558, 1219.3204849459353, 1219.3204849459353, 1227.7266084876946, 1229.8281393731345, 1229.8281393731345, 1236.1327320294538, 1240.3357938003335, 1242.4373246857733, 1246.640386456653, 1250.8434482275327, 1252.9449791129723, 1252.9449791129723, 1252.9449791129723, 1252.9449791129723, 1252.9449791129723, 1255.0465099984121, 1255.0465099984121, 1255.0465099984121, 1257.148040883852, 1259.2495717692918, 1259.2495717692918, 1276.0618188528103, 1278.1633497382502, 1280.26488062369, 1280.26488062369, 1282.3664115091299, 1286.5694732800096, 1294.9755968217687, 1301.2801894780882, 1305.4832512489677, 1307.5847821344075, 1307.5847821344075, 1309.6863130198474, 1311.7878439052872, 1311.7878439052872, 1315.990905676167, 1318.0924365616067, 1318.0924365616067, 1322.2954983324862, 1322.2954983324862, 1324.397029217926, 1326.498560103366, 1326.498560103366, 1328.6000909888057, 1332.8031527596854, 1332.8031527596854, 1334.9046836451253, 1334.9046836451253, 1337.006214530565, 1339.107745416005, 1339.107745416005, 1341.2092763014446, 1345.4123380723242, 1349.615399843204, 1360.123054270403, 1362.2245851558428, 1362.2245851558428, 1362.2245851558428, 1362.2245851558428, 1370.6307086976021, 1370.6307086976021, 1370.6307086976021, 1372.732239583042, 1381.1383631248011, 1385.3414248956808, 1385.3414248956808, 1387.4429557811206, 1391.6460175520003, 1393.74754843744, 1393.74754843744, 1402.1536719791993, 1408.4582646355188, 1410.5597955209585, 1412.6613264063983, 1414.7628572918381, 1414.7628572918381, 1421.0674499481577, 1425.2705117190374, 1425.2705117190374, 1427.372042604477, 1431.5751043753567, 1431.5751043753567, 1433.6766352607965, 1435.7781661462363, 1456.7934750006345, 1458.8950058860744, 1458.8950058860744, 1458.8950058860744, 1463.0980676569538, 1463.0980676569538, 1467.3011294278335, 1469.4026603132734, 1477.8087838550327, 1490.4179691676716, 1492.5195000531114, 1498.8240927094307, 1500.9256235948706, 1503.0271544803104, 1505.1286853657502, 1505.1286853657502, 1505.1286853657502, 1505.1286853657502, 1505.1286853657502, 1505.1286853657502, 1507.23021625119, 1511.4332780220698, 1513.5348089075096, 1519.839401563829, 1519.839401563829, 1521.9409324492688, 1526.1439942201484, 1536.6516486473474, 1538.7531795327873, 1551.362364845426, 1551.362364845426, 1553.463895730866, 1553.463895730866, 1555.5654266163058, 1557.6669575017456, 1568.1746119289446, 1572.3776736998243, 1574.4792045852641, 1576.580735470704, 1580.7837972415837, 1587.088389897903, 1589.1899207833428, 1593.3929825542225, 1597.5960443251022, 1599.697575210542, 1599.697575210542, 1601.7991060959816, 1606.0021678668613, 1608.1036987523012, 1618.6113531795004, 1620.71288406494, 1622.8144149503798, 1648.0327855756577, 1648.0327855756577, 1652.2358473465374, 1656.4389091174169, 1658.5404400028567, 1658.5404400028567, 1660.6419708882966, 1662.7435017737364, 1666.946563544616, 1666.946563544616, 1666.946563544616, 1681.6572797426948, 1685.8603415135744, 1685.8603415135744, 1694.2664650553336, 1694.2664650553336, 1698.4695268262133, 1704.7741194825328, 1706.8756503679724, 1711.078712138852, 1713.180243024292, 1715.2817739097318, 1717.3833047951716, 1719.4848356806115, 1719.4848356806115, 1719.4848356806115, 1719.4848356806115, 1721.5863665660513, 1725.7894283369308, 1727.8909592223706, 1732.0940209932503, 1734.1955518786901, 1734.1955518786901, 1738.3986136495698, 1742.6016754204493, 1744.7032063058891, 1746.804737191329, 1751.0077989622087, 1755.2108607330883, 1755.2108607330883, 1757.3123916185282, 1757.3123916185282, 1759.4139225039678, 1767.8200460457272, 1769.921576931167, 1772.0231078166069, 1784.6322931292457, 1786.7338240146855, 1786.7338240146855, 1797.2414784418845, 1803.546071098204, 1814.053725525403, 1816.1552564108429, 1818.2567872962827, 1820.3583181817226, 1820.3583181817226, 1824.5613799526022, 1830.8659726089215, 1837.170565265241, 1839.272096150681, 1841.3736270361208, 1847.67821969244, 1849.77975057788, 1849.77975057788, 1851.8812814633197, 1851.8812814633197, 1868.6935285468383, 1881.302713859477, 1885.5057756303568, 1887.6073065157966, 1889.7088374012365, 1893.9118991721161, 1900.2164918284354, 1927.5363933391532, 1927.5363933391532, 1929.637924224593, 1940.145578651792, 1942.2471095372318, 1942.2471095372318, 1950.653233078991, 1952.7547639644308, 1956.9578257353105, 1967.4654801625097, 1986.3792581314679, 2001.0899743295467, 2001.0899743295467, 2003.1915052149864, 2007.394566985866, 2007.394566985866, 2011.5976287567457, 2011.5976287567457, 2011.5976287567457, 2013.6991596421856, 2015.8006905276254, 2015.8006905276254, 2017.9022214130653, 2020.0037522985049, 2022.1052831839447, 2022.1052831839447, 2024.2068140693846, 2024.2068140693846, 2028.4098758402642, 2030.511406725704, 2032.612937611144, 2034.7144684965838, 2034.7144684965838, 2036.8159993820234, 2036.8159993820234, 2038.9175302674632, 2038.9175302674632, 2045.2221229237828, 2055.729777350982, 2055.729777350982, 2057.831308236422, 2066.237431778181, 2072.5420244345005, 2072.5420244345005, 2074.6435553199403, 2080.94814797626, 2089.3542715180192, 2091.455802403459, 2091.455802403459, 2101.963456830658, 2106.1665186015375, 2125.080296570496, 2125.080296570496, 2137.6894818831347, 2139.7910127685745, 2139.7910127685745, 2141.8925436540144, 2141.8925436540144, 2143.9940745394542, 2146.095605424894, 2146.095605424894, 2148.197136310334, 2167.1109142792925, 2171.3139760501717, 2175.5170378210514, 2192.32928490457, 2200.7354084463295, 2200.7354084463295, 2204.9384702172088, 2207.0400011026486, 2217.547655529848, 2223.8522481861673, 2230.156840842487, 2242.7660261551255, 2242.7660261551255, 2244.8675570405653, 2249.070618811445, 2257.4767423532044, 2259.578273238644, 2259.578273238644, 2261.679804124084, 2263.781335009524, 2282.695112978482, 2291.1012365202414, 2295.304298291121, 2295.304298291121, 2297.405829176561, 2307.9134836037597, 2328.928792458158, 2337.3349159999175, 2339.4364468853573, 2362.553286625195, 2368.8578792815147, 2370.9594101669545, 2375.162471937834, 2379.3655337087134, 2385.670126365033, 2457.1221764699867, 2461.3252382408664, 2465.528300011746, 2473.9344235535054, 2473.9344235535054, 2476.0359544389453, 2478.137485324385, 2480.239016209825, 2484.442077980704, 2505.4573868351026, 2509.6604486059823, 2526.4726956895006, 2553.792597200218, 2566.401782512857, 2572.7063751691767, 2585.3155604818157, 2589.518622252695, 2610.5339311070934, 2642.0568943886906, 2646.2599561595703, 2656.767610586769, 2732.4227224626025, 2734.5242533480423, 2751.336500431561, 2839.600797620033, 2929.9666256939454, 2944.677341892024], \"yaxis\": \"y\"}, {\"hovertemplate\": \"Age=Young<br>Salary=%{x}<br>AmountSpent=%{y}<extra></extra>\", \"legendgroup\": \"Young\", \"marker\": {\"color\": \"#00cc96\", \"symbol\": \"circle\"}, \"mode\": \"markers\", \"name\": \"Young\", \"orientation\": \"v\", \"showlegend\": true, \"type\": \"scatter\", \"x\": [13500, 30400, 43700, 14300, 49800, 43500, 41700, 21700, 58900, 67800, 33700, 25900, 15600, 66700, 13200, 15600, 14400, 15000, 60600, 24400, 22100, 32400, 20400, 12900, 16300, 27400, 21100, 21700, 20900, 27900, 14800, 25800, 12000, 13800, 14800, 10400, 16100, 19100, 21400, 68000, 17400, 14600, 10800, 11400, 34300, 16400, 17000, 11900, 14300, 21000, 51900, 60100, 61700, 45800, 40000, 27100, 10200, 12500, 16900, 13600, 80700, 40900, 26700, 19300, 20200, 17300, 42300, 11400, 14000, 29600, 20300, 53600, 70900, 23200, 41400, 63200, 13900, 13800, 14500, 21300, 19800, 26100, 15900, 12700, 13400, 76200, 12000, 14200, 31300, 32700, 19000, 14500, 36700, 39600, 67300, 25500, 46300, 27800, 25600, 25900, 22000, 16700, 40900, 41500, 20900, 69700, 41600, 27000, 10200, 33200, 31900, 23000, 10200, 12100, 36600, 33400, 13300, 11700, 52600, 14600, 18400, 25000, 55100, 17800, 19700, 11200, 30100, 21900, 36900, 21900, 11500, 21900, 14200, 23200, 13100, 23100, 31600, 33400, 17300, 25100, 17800, 27100, 60300, 12000, 36900, 11000, 18900, 36500, 79400, 21200, 23500, 56900, 16900, 56300, 18800, 26600, 14600, 15100, 20800, 15000, 17700, 17800, 13800, 15200, 15800, 21600, 31900, 17900, 14400, 41500, 22200, 71200, 53700, 18200, 73600, 73000, 29600, 64300, 27500, 19800, 17600, 13400, 47200, 18000, 13500, 18400, 13600, 14200, 18700, 28900, 13300, 21400, 21700, 23200, 12500, 13700, 55900, 13700, 63300, 51600, 55000, 20300, 16300, 12500, 10600, 27200, 27900, 29200, 12400, 10900, 13200, 61000, 39700, 20100, 20300, 54500, 37200, 22900, 55500, 12800, 17600, 14100, 22600, 10200, 41000, 14800, 42000, 21900, 37100, 14200, 19400, 24000, 25700, 23100, 41600, 62200, 14100, 36500, 17700, 33200, 20700, 21300, 17900, 15500, 13000, 12600, 32600, 12900, 12400, 54200, 10600, 76400, 19500, 17200, 47300, 32000, 44700, 69700, 15900, 23200, 18200, 17000, 42400, 17300, 27600, 25100, 19100, 14400, 36600, 31500, 29200, 15300, 17500, 28400, 20000, 19600, 13200, 14900, 18400, 15400, 25300, 25300, 45500, 49300, 17600, 19400, 53600], \"xaxis\": \"x\", \"y\": [296, 495, 927, 194, 827, 808, 521, 774, 1215, 1084, 614, 449, 136, 1310, 358, 468, 615, 38, 307, 220, 280, 920, 867, 107, 470, 278, 470, 708, 550, 1184, 209, 451, 344, 127, 436, 189, 202, 176, 326, 3688, 332, 143, 123, 312, 1297, 218, 581, 143, 458, 646, 780, 1594, 1161, 489, 613, 437, 213, 202, 247, 183, 202, 962, 459, 308, 500, 381, 856, 186, 229, 774, 450, 1560, 690, 770, 643, 1512, 570, 363, 222, 677, 991, 494, 503, 87, 143, 979, 264, 400, 357, 1276, 428, 183, 731, 1085, 1212, 139, 1357, 408, 426, 242, 472, 108, 576, 1314, 296, 584, 1690, 1012, 333, 607, 616, 79, 199, 90, 587, 617, 236, 193, 1052, 307, 303, 264, 1439, 292, 330, 106, 530, 192, 1480, 276, 157, 576, 250, 788, 314, 466, 476, 567, 345, 592, 216, 268, 1252, 140, 721, 393, 184, 1140, 1175, 417, 371, 687, 281, 1608, 170, 245, 47, 274, 260, 341, 268, 589, 368, 324, 147, 491, 860, 62, 223, 1213, 275, 392, 2491, 322, 647, 1534, 583, 239, 571, 209, 245, 424, 1272, 303, 160, 662, 349, 192, 289, 905, 184, 414, 387, 504, 422, 163, 788, 414, 1408, 1082, 1162, 304, 360, 206, 114, 446, 576, 737, 205, 407, 227, 1611, 1011, 271, 180, 1001, 247, 814, 216, 365, 163, 153, 521, 362, 768, 376, 105, 486, 653, 197, 563, 362, 907, 457, 1634, 1348, 328, 747, 742, 1639, 550, 329, 395, 210, 43, 241, 172, 167, 229, 486, 517, 2216, 571, 329, 640, 1320, 502, 1432, 406, 534, 401, 659, 1166, 411, 893, 421, 403, 390, 833, 269, 636, 645, 472, 182, 182, 395, 512, 422, 319, 172, 591, 510, 754, 1692, 273, 384, 973], \"yaxis\": \"y\"}, {\"hovertemplate\": \"<b>OLS trendline</b><br>AmountSpent = 0.018189 * Salary + 54.5041<br>R<sup>2</sup>=0.455313<br><br>Age=Young<br>Salary=%{x}<br>AmountSpent=%{y} <b>(trend)</b><extra></extra>\", \"legendgroup\": \"Young\", \"marker\": {\"color\": \"#00cc96\", \"symbol\": \"circle\"}, \"mode\": \"lines\", \"name\": \"Young\", \"showlegend\": false, \"type\": \"scatter\", \"x\": [10200, 10200, 10200, 10200, 10400, 10600, 10600, 10800, 10900, 11000, 11200, 11400, 11400, 11500, 11700, 11900, 12000, 12000, 12000, 12100, 12400, 12400, 12500, 12500, 12500, 12600, 12700, 12800, 12900, 12900, 13000, 13100, 13200, 13200, 13200, 13300, 13300, 13400, 13400, 13500, 13500, 13600, 13600, 13700, 13700, 13800, 13800, 13800, 13900, 14000, 14100, 14100, 14200, 14200, 14200, 14200, 14300, 14300, 14400, 14400, 14400, 14500, 14500, 14600, 14600, 14600, 14800, 14800, 14800, 14900, 15000, 15000, 15100, 15200, 15300, 15400, 15500, 15600, 15600, 15800, 15900, 15900, 16100, 16300, 16300, 16400, 16700, 16900, 16900, 17000, 17000, 17200, 17300, 17300, 17300, 17400, 17500, 17600, 17600, 17600, 17700, 17700, 17800, 17800, 17800, 17900, 17900, 18000, 18200, 18200, 18400, 18400, 18400, 18700, 18800, 18900, 19000, 19100, 19100, 19300, 19400, 19400, 19500, 19600, 19700, 19800, 19800, 20000, 20100, 20200, 20300, 20300, 20300, 20400, 20700, 20800, 20900, 20900, 21000, 21100, 21200, 21300, 21300, 21400, 21400, 21600, 21700, 21700, 21700, 21900, 21900, 21900, 21900, 22000, 22100, 22200, 22600, 22900, 23000, 23100, 23100, 23200, 23200, 23200, 23200, 23500, 24000, 24400, 25000, 25100, 25100, 25300, 25300, 25500, 25600, 25700, 25800, 25900, 25900, 26100, 26600, 26700, 27000, 27100, 27100, 27200, 27400, 27500, 27600, 27800, 27900, 27900, 28400, 28900, 29200, 29200, 29600, 29600, 30100, 30400, 31300, 31500, 31600, 31900, 31900, 32000, 32400, 32600, 32700, 33200, 33200, 33400, 33400, 33700, 34300, 36500, 36500, 36600, 36600, 36700, 36900, 36900, 37100, 37200, 39600, 39700, 40000, 40900, 40900, 41000, 41400, 41500, 41500, 41600, 41600, 41700, 42000, 42300, 42400, 43500, 43700, 44700, 45500, 45800, 46300, 47200, 47300, 49300, 49800, 51600, 51900, 52600, 53600, 53600, 53700, 54200, 54500, 55000, 55100, 55500, 55900, 56300, 56900, 58900, 60100, 60300, 60600, 61000, 61700, 62200, 63200, 63300, 64300, 66700, 67300, 67800, 68000, 69700, 69700, 70900, 71200, 73000, 73600, 76200, 76400, 79400, 80700], \"xaxis\": \"x\", \"y\": [240.0315457891187, 240.0315457891187, 240.0315457891187, 240.0315457891187, 243.66933955711244, 247.3071333251062, 247.3071333251062, 250.94492709309995, 252.76382397709682, 254.58272086109372, 258.22051462908746, 261.8583083970812, 261.8583083970812, 263.6772052810781, 267.31499904907184, 270.9527928170656, 272.7716897010625, 272.7716897010625, 272.7716897010625, 274.5905865850594, 280.04727723704997, 280.04727723704997, 281.86617412104687, 281.86617412104687, 281.86617412104687, 283.68507100504377, 285.5039678890406, 287.3228647730375, 289.14176165703435, 289.14176165703435, 290.96065854103125, 292.77955542502815, 294.598452309025, 294.598452309025, 294.598452309025, 296.4173491930219, 296.4173491930219, 298.23624607701873, 298.23624607701873, 300.05514296101563, 300.05514296101563, 301.87403984501253, 301.87403984501253, 303.6929367290094, 303.6929367290094, 305.5118336130063, 305.5118336130063, 305.5118336130063, 307.3307304970031, 309.149627381, 310.96852426499686, 310.96852426499686, 312.78742114899376, 312.78742114899376, 312.78742114899376, 312.78742114899376, 314.6063180329906, 314.6063180329906, 316.4252149169875, 316.4252149169875, 316.4252149169875, 318.2441118009844, 318.2441118009844, 320.06300868498124, 320.06300868498124, 320.06300868498124, 323.700802452975, 323.700802452975, 323.700802452975, 325.5196993369719, 327.3385962209688, 327.3385962209688, 329.1574931049656, 330.9763899889625, 332.79528687295937, 334.61418375695627, 336.43308064095316, 338.25197752495, 338.25197752495, 341.88977129294375, 343.70866817694065, 343.70866817694065, 347.3464619449344, 350.98425571292813, 350.98425571292813, 352.80315259692503, 358.2598432489157, 361.8976370169094, 361.8976370169094, 363.7165339009063, 363.7165339009063, 367.35432766890005, 369.1732245528969, 369.1732245528969, 369.1732245528969, 370.9921214368938, 372.8110183208907, 374.62991520488754, 374.62991520488754, 374.62991520488754, 376.44881208888444, 376.44881208888444, 378.2677089728813, 378.2677089728813, 378.2677089728813, 380.0866058568782, 380.0866058568782, 381.9055027408751, 385.5432965088688, 385.5432965088688, 389.18109027686256, 389.18109027686256, 389.18109027686256, 394.6377809288532, 396.45667781285005, 398.27557469684695, 400.09447158084384, 401.9133684648407, 401.9133684648407, 405.55116223283443, 407.3700591168313, 407.3700591168313, 409.1889560008282, 411.00785288482507, 412.82674976882197, 414.6456466528188, 414.6456466528188, 418.2834404208126, 420.10233730480945, 421.92123418880635, 423.7401310728032, 423.7401310728032, 423.7401310728032, 425.5590279568001, 431.01571860879073, 432.8346154927876, 434.6535123767845, 434.6535123767845, 436.4724092607814, 438.2913061447782, 440.1102030287751, 441.92909991277196, 441.92909991277196, 443.74799679676886, 443.74799679676886, 447.3857905647626, 449.2046874487595, 449.2046874487595, 449.2046874487595, 452.84248121675324, 452.84248121675324, 452.84248121675324, 452.84248121675324, 454.66137810075014, 456.480274984747, 458.2991718687439, 465.57475940473137, 471.031450056722, 472.8503469407189, 474.66924382471575, 474.66924382471575, 476.48814070871265, 476.48814070871265, 476.48814070871265, 476.48814070871265, 481.9448313607033, 491.0393157806876, 498.31490331667516, 509.2282846206564, 511.0471815046533, 511.0471815046533, 514.6849752726471, 514.6849752726471, 518.3227690406408, 520.1416659246377, 521.9605628086346, 523.7794596926315, 525.5983565766284, 525.5983565766284, 529.236150344622, 538.3306347646064, 540.1495316486033, 545.6062223005939, 547.4251191845908, 547.4251191845908, 549.2440160685877, 552.8818098365815, 554.7007067205783, 556.5196036045752, 560.157397372569, 561.9762942565659, 561.9762942565659, 571.0707786765503, 580.1652630965347, 585.6219537485252, 585.6219537485252, 592.8975412845127, 592.8975412845127, 601.9920257044971, 607.4487163564878, 623.8187883124597, 627.4565820804535, 629.2754789644503, 634.732169616441, 634.732169616441, 636.5510665004379, 643.8266540364253, 647.464447804419, 649.2833446884159, 658.3778291084003, 658.3778291084003, 662.0156228763941, 662.0156228763941, 667.4723135283847, 678.385694832366, 718.4014262802973, 718.4014262802973, 720.2203231642941, 720.2203231642941, 722.039220048291, 725.6770138162848, 725.6770138162848, 729.3148075842785, 731.1337044682754, 774.7872296842004, 776.6061265681973, 782.062817220188, 798.4328891761598, 798.4328891761598, 800.2517860601567, 807.5273735961442, 809.3462704801411, 809.3462704801411, 811.1651673641379, 811.1651673641379, 812.9840642481348, 818.4407549001255, 823.8974455521161, 825.716342436113, 845.7242081600787, 849.3620019280723, 867.5509707680411, 882.1021458400162, 887.5588364920068, 896.6533209119912, 913.023392867963, 914.8422897519599, 951.2202274318975, 960.3147118518818, 993.0548557638256, 998.5115464158163, 1011.2438246037943, 1029.432793443763, 1029.432793443763, 1031.25169032776, 1040.3461747477443, 1045.8028653997349, 1054.8973498197192, 1056.7162467037163, 1063.9918342397036, 1071.2674217756912, 1078.5430093116788, 1089.45639061566, 1125.8343282955975, 1147.66109090356, 1151.2988846715539, 1156.7555753235445, 1164.031162859532, 1176.76344104751, 1185.8579254674944, 1204.0468943074632, 1205.8657911914602, 1224.054760031429, 1267.7082852473538, 1278.6216665513352, 1287.7161509713196, 1291.3539447393134, 1322.2751917672601, 1322.2751917672601, 1344.1019543752227, 1349.5586450272133, 1382.2987889391572, 1393.2121702431384, 1440.5034892270571, 1444.141282995051, 1498.7081895149572, 1522.3538490069166], \"yaxis\": \"y\"}],                        {\"legend\": {\"title\": {\"text\": \"Age\"}, \"tracegroupgap\": 0}, \"margin\": {\"t\": 60}, \"template\": {\"data\": {\"bar\": [{\"error_x\": {\"color\": \"#2a3f5f\"}, \"error_y\": {\"color\": \"#2a3f5f\"}, \"marker\": {\"line\": {\"color\": \"#E5ECF6\", \"width\": 0.5}}, \"type\": \"bar\"}], \"barpolar\": [{\"marker\": {\"line\": {\"color\": \"#E5ECF6\", \"width\": 0.5}}, \"type\": \"barpolar\"}], \"carpet\": [{\"aaxis\": {\"endlinecolor\": \"#2a3f5f\", \"gridcolor\": \"white\", \"linecolor\": \"white\", \"minorgridcolor\": \"white\", \"startlinecolor\": \"#2a3f5f\"}, \"baxis\": {\"endlinecolor\": \"#2a3f5f\", \"gridcolor\": \"white\", \"linecolor\": \"white\", \"minorgridcolor\": \"white\", \"startlinecolor\": \"#2a3f5f\"}, \"type\": \"carpet\"}], \"choropleth\": [{\"colorbar\": {\"outlinewidth\": 0, \"ticks\": \"\"}, \"type\": \"choropleth\"}], \"contour\": [{\"colorbar\": {\"outlinewidth\": 0, \"ticks\": \"\"}, \"colorscale\": [[0.0, \"#0d0887\"], [0.1111111111111111, \"#46039f\"], [0.2222222222222222, \"#7201a8\"], [0.3333333333333333, \"#9c179e\"], [0.4444444444444444, \"#bd3786\"], [0.5555555555555556, \"#d8576b\"], [0.6666666666666666, \"#ed7953\"], [0.7777777777777778, \"#fb9f3a\"], [0.8888888888888888, \"#fdca26\"], [1.0, \"#f0f921\"]], \"type\": \"contour\"}], \"contourcarpet\": [{\"colorbar\": {\"outlinewidth\": 0, \"ticks\": \"\"}, \"type\": \"contourcarpet\"}], \"heatmap\": [{\"colorbar\": {\"outlinewidth\": 0, \"ticks\": \"\"}, \"colorscale\": [[0.0, \"#0d0887\"], [0.1111111111111111, \"#46039f\"], [0.2222222222222222, \"#7201a8\"], [0.3333333333333333, \"#9c179e\"], [0.4444444444444444, \"#bd3786\"], [0.5555555555555556, \"#d8576b\"], [0.6666666666666666, \"#ed7953\"], [0.7777777777777778, \"#fb9f3a\"], [0.8888888888888888, \"#fdca26\"], [1.0, \"#f0f921\"]], \"type\": \"heatmap\"}], \"heatmapgl\": [{\"colorbar\": {\"outlinewidth\": 0, \"ticks\": \"\"}, \"colorscale\": [[0.0, \"#0d0887\"], [0.1111111111111111, \"#46039f\"], [0.2222222222222222, \"#7201a8\"], [0.3333333333333333, \"#9c179e\"], [0.4444444444444444, \"#bd3786\"], [0.5555555555555556, \"#d8576b\"], [0.6666666666666666, \"#ed7953\"], [0.7777777777777778, \"#fb9f3a\"], [0.8888888888888888, \"#fdca26\"], [1.0, \"#f0f921\"]], \"type\": \"heatmapgl\"}], \"histogram\": [{\"marker\": {\"colorbar\": {\"outlinewidth\": 0, \"ticks\": \"\"}}, \"type\": \"histogram\"}], \"histogram2d\": [{\"colorbar\": {\"outlinewidth\": 0, \"ticks\": \"\"}, \"colorscale\": [[0.0, \"#0d0887\"], [0.1111111111111111, \"#46039f\"], [0.2222222222222222, \"#7201a8\"], [0.3333333333333333, \"#9c179e\"], [0.4444444444444444, \"#bd3786\"], [0.5555555555555556, \"#d8576b\"], [0.6666666666666666, \"#ed7953\"], [0.7777777777777778, \"#fb9f3a\"], [0.8888888888888888, \"#fdca26\"], [1.0, \"#f0f921\"]], \"type\": \"histogram2d\"}], \"histogram2dcontour\": [{\"colorbar\": {\"outlinewidth\": 0, \"ticks\": \"\"}, \"colorscale\": [[0.0, \"#0d0887\"], [0.1111111111111111, \"#46039f\"], [0.2222222222222222, \"#7201a8\"], [0.3333333333333333, \"#9c179e\"], [0.4444444444444444, \"#bd3786\"], [0.5555555555555556, \"#d8576b\"], [0.6666666666666666, \"#ed7953\"], [0.7777777777777778, \"#fb9f3a\"], [0.8888888888888888, \"#fdca26\"], [1.0, \"#f0f921\"]], \"type\": \"histogram2dcontour\"}], \"mesh3d\": [{\"colorbar\": {\"outlinewidth\": 0, \"ticks\": \"\"}, \"type\": \"mesh3d\"}], \"parcoords\": [{\"line\": {\"colorbar\": {\"outlinewidth\": 0, \"ticks\": \"\"}}, \"type\": \"parcoords\"}], \"pie\": [{\"automargin\": true, \"type\": \"pie\"}], \"scatter\": [{\"marker\": {\"colorbar\": {\"outlinewidth\": 0, \"ticks\": \"\"}}, \"type\": \"scatter\"}], \"scatter3d\": [{\"line\": {\"colorbar\": {\"outlinewidth\": 0, \"ticks\": \"\"}}, \"marker\": {\"colorbar\": {\"outlinewidth\": 0, \"ticks\": \"\"}}, \"type\": \"scatter3d\"}], \"scattercarpet\": [{\"marker\": {\"colorbar\": {\"outlinewidth\": 0, \"ticks\": \"\"}}, \"type\": \"scattercarpet\"}], \"scattergeo\": [{\"marker\": {\"colorbar\": {\"outlinewidth\": 0, \"ticks\": \"\"}}, \"type\": \"scattergeo\"}], \"scattergl\": [{\"marker\": {\"colorbar\": {\"outlinewidth\": 0, \"ticks\": \"\"}}, \"type\": \"scattergl\"}], \"scattermapbox\": [{\"marker\": {\"colorbar\": {\"outlinewidth\": 0, \"ticks\": \"\"}}, \"type\": \"scattermapbox\"}], \"scatterpolar\": [{\"marker\": {\"colorbar\": {\"outlinewidth\": 0, \"ticks\": \"\"}}, \"type\": \"scatterpolar\"}], \"scatterpolargl\": [{\"marker\": {\"colorbar\": {\"outlinewidth\": 0, \"ticks\": \"\"}}, \"type\": \"scatterpolargl\"}], \"scatterternary\": [{\"marker\": {\"colorbar\": {\"outlinewidth\": 0, \"ticks\": \"\"}}, \"type\": \"scatterternary\"}], \"surface\": [{\"colorbar\": {\"outlinewidth\": 0, \"ticks\": \"\"}, \"colorscale\": [[0.0, \"#0d0887\"], [0.1111111111111111, \"#46039f\"], [0.2222222222222222, \"#7201a8\"], [0.3333333333333333, \"#9c179e\"], [0.4444444444444444, \"#bd3786\"], [0.5555555555555556, \"#d8576b\"], [0.6666666666666666, \"#ed7953\"], [0.7777777777777778, \"#fb9f3a\"], [0.8888888888888888, \"#fdca26\"], [1.0, \"#f0f921\"]], \"type\": \"surface\"}], \"table\": [{\"cells\": {\"fill\": {\"color\": \"#EBF0F8\"}, \"line\": {\"color\": \"white\"}}, \"header\": {\"fill\": {\"color\": \"#C8D4E3\"}, \"line\": {\"color\": \"white\"}}, \"type\": \"table\"}]}, \"layout\": {\"annotationdefaults\": {\"arrowcolor\": \"#2a3f5f\", \"arrowhead\": 0, \"arrowwidth\": 1}, \"coloraxis\": {\"colorbar\": {\"outlinewidth\": 0, \"ticks\": \"\"}}, \"colorscale\": {\"diverging\": [[0, \"#8e0152\"], [0.1, \"#c51b7d\"], [0.2, \"#de77ae\"], [0.3, \"#f1b6da\"], [0.4, \"#fde0ef\"], [0.5, \"#f7f7f7\"], [0.6, \"#e6f5d0\"], [0.7, \"#b8e186\"], [0.8, \"#7fbc41\"], [0.9, \"#4d9221\"], [1, \"#276419\"]], \"sequential\": [[0.0, \"#0d0887\"], [0.1111111111111111, \"#46039f\"], [0.2222222222222222, \"#7201a8\"], [0.3333333333333333, \"#9c179e\"], [0.4444444444444444, \"#bd3786\"], [0.5555555555555556, \"#d8576b\"], [0.6666666666666666, \"#ed7953\"], [0.7777777777777778, \"#fb9f3a\"], [0.8888888888888888, \"#fdca26\"], [1.0, \"#f0f921\"]], \"sequentialminus\": [[0.0, \"#0d0887\"], [0.1111111111111111, \"#46039f\"], [0.2222222222222222, \"#7201a8\"], [0.3333333333333333, \"#9c179e\"], [0.4444444444444444, \"#bd3786\"], [0.5555555555555556, \"#d8576b\"], [0.6666666666666666, \"#ed7953\"], [0.7777777777777778, \"#fb9f3a\"], [0.8888888888888888, \"#fdca26\"], [1.0, \"#f0f921\"]]}, \"colorway\": [\"#636efa\", \"#EF553B\", \"#00cc96\", \"#ab63fa\", \"#FFA15A\", \"#19d3f3\", \"#FF6692\", \"#B6E880\", \"#FF97FF\", \"#FECB52\"], \"font\": {\"color\": \"#2a3f5f\"}, \"geo\": {\"bgcolor\": \"white\", \"lakecolor\": \"white\", \"landcolor\": \"#E5ECF6\", \"showlakes\": true, \"showland\": true, \"subunitcolor\": \"white\"}, \"hoverlabel\": {\"align\": \"left\"}, \"hovermode\": \"closest\", \"mapbox\": {\"style\": \"light\"}, \"paper_bgcolor\": \"white\", \"plot_bgcolor\": \"#E5ECF6\", \"polar\": {\"angularaxis\": {\"gridcolor\": \"white\", \"linecolor\": \"white\", \"ticks\": \"\"}, \"bgcolor\": \"#E5ECF6\", \"radialaxis\": {\"gridcolor\": \"white\", \"linecolor\": \"white\", \"ticks\": \"\"}}, \"scene\": {\"xaxis\": {\"backgroundcolor\": \"#E5ECF6\", \"gridcolor\": \"white\", \"gridwidth\": 2, \"linecolor\": \"white\", \"showbackground\": true, \"ticks\": \"\", \"zerolinecolor\": \"white\"}, \"yaxis\": {\"backgroundcolor\": \"#E5ECF6\", \"gridcolor\": \"white\", \"gridwidth\": 2, \"linecolor\": \"white\", \"showbackground\": true, \"ticks\": \"\", \"zerolinecolor\": \"white\"}, \"zaxis\": {\"backgroundcolor\": \"#E5ECF6\", \"gridcolor\": \"white\", \"gridwidth\": 2, \"linecolor\": \"white\", \"showbackground\": true, \"ticks\": \"\", \"zerolinecolor\": \"white\"}}, \"shapedefaults\": {\"line\": {\"color\": \"#2a3f5f\"}}, \"ternary\": {\"aaxis\": {\"gridcolor\": \"white\", \"linecolor\": \"white\", \"ticks\": \"\"}, \"baxis\": {\"gridcolor\": \"white\", \"linecolor\": \"white\", \"ticks\": \"\"}, \"bgcolor\": \"#E5ECF6\", \"caxis\": {\"gridcolor\": \"white\", \"linecolor\": \"white\", \"ticks\": \"\"}}, \"title\": {\"x\": 0.05}, \"xaxis\": {\"automargin\": true, \"gridcolor\": \"white\", \"linecolor\": \"white\", \"ticks\": \"\", \"title\": {\"standoff\": 15}, \"zerolinecolor\": \"white\", \"zerolinewidth\": 2}, \"yaxis\": {\"automargin\": true, \"gridcolor\": \"white\", \"linecolor\": \"white\", \"ticks\": \"\", \"title\": {\"standoff\": 15}, \"zerolinecolor\": \"white\", \"zerolinewidth\": 2}}}, \"title\": {\"text\": \"Age With Salary Vs Amount Spent \", \"x\": 0.5}, \"xaxis\": {\"anchor\": \"y\", \"domain\": [0.0, 1.0], \"title\": {\"text\": \"Salary\"}}, \"yaxis\": {\"anchor\": \"x\", \"domain\": [0.0, 1.0], \"title\": {\"text\": \"Amount Spent\"}}},                        {\"responsive\": true}                    ).then(function(){\n",
       "                            \n",
       "var gd = document.getElementById('39d92d0d-fc25-4462-9cdd-3eae6de3e6d3');\n",
       "var x = new MutationObserver(function (mutations, observer) {{\n",
       "        var display = window.getComputedStyle(gd).display;\n",
       "        if (!display || display === 'none') {{\n",
       "            console.log([gd, 'removed!']);\n",
       "            Plotly.purge(gd);\n",
       "            observer.disconnect();\n",
       "        }}\n",
       "}});\n",
       "\n",
       "// Listen for the removal of the full notebook cells\n",
       "var notebookContainer = gd.closest('#notebook-container');\n",
       "if (notebookContainer) {{\n",
       "    x.observe(notebookContainer, {childList: true});\n",
       "}}\n",
       "\n",
       "// Listen for the clearing of the current output cell\n",
       "var outputEl = gd.closest('.output');\n",
       "if (outputEl) {{\n",
       "    x.observe(outputEl, {childList: true});\n",
       "}}\n",
       "\n",
       "                        })                };                });            </script>        </div>"
      ]
     },
     "metadata": {},
     "output_type": "display_data"
    }
   ],
   "source": [
    "# Scatter plot - Category\n",
    "\n",
    "fig = px.scatter(df, x='Salary', y='AmountSpent',trendline=\"ols\",\n",
    "                 color='Age') # Added color to basic scatter\n",
    "fig.update_layout(title='Age With Salary Vs Amount Spent ',xaxis_title=\"Salary\",yaxis_title=\"Amount Spent\",title_x=0.5)\n",
    "fig.show()"
   ]
  },
  {
   "cell_type": "markdown",
   "metadata": {
    "papermill": {
     "duration": 0.187084,
     "end_time": "2020-12-10T12:47:57.373822",
     "exception": false,
     "start_time": "2020-12-10T12:47:57.186738",
     "status": "completed"
    },
    "tags": []
   },
   "source": [
    "## <a id='9'> 4.2 Gender </a>\n",
    "* How is the gender distribution ?"
   ]
  },
  {
   "cell_type": "code",
   "execution_count": 21,
   "metadata": {
    "execution": {
     "iopub.execute_input": "2020-12-10T12:47:57.765083Z",
     "iopub.status.busy": "2020-12-10T12:47:57.764118Z",
     "iopub.status.idle": "2020-12-10T12:47:57.768083Z",
     "shell.execute_reply": "2020-12-10T12:47:57.768601Z"
    },
    "papermill": {
     "duration": 0.20625,
     "end_time": "2020-12-10T12:47:57.768782",
     "exception": false,
     "start_time": "2020-12-10T12:47:57.562532",
     "status": "completed"
    },
    "tags": []
   },
   "outputs": [
    {
     "data": {
      "text/html": [
       "<div>\n",
       "<style scoped>\n",
       "    .dataframe tbody tr th:only-of-type {\n",
       "        vertical-align: middle;\n",
       "    }\n",
       "\n",
       "    .dataframe tbody tr th {\n",
       "        vertical-align: top;\n",
       "    }\n",
       "\n",
       "    .dataframe thead th {\n",
       "        text-align: right;\n",
       "    }\n",
       "</style>\n",
       "<table border=\"1\" class=\"dataframe\">\n",
       "  <thead>\n",
       "    <tr style=\"text-align: right;\">\n",
       "      <th></th>\n",
       "      <th>Gender</th>\n",
       "      <th>count</th>\n",
       "    </tr>\n",
       "  </thead>\n",
       "  <tbody>\n",
       "    <tr>\n",
       "      <th>0</th>\n",
       "      <td>Female</td>\n",
       "      <td>506</td>\n",
       "    </tr>\n",
       "    <tr>\n",
       "      <th>1</th>\n",
       "      <td>Male</td>\n",
       "      <td>494</td>\n",
       "    </tr>\n",
       "  </tbody>\n",
       "</table>\n",
       "</div>"
      ],
      "text/plain": [
       "   Gender  count\n",
       "0  Female    506\n",
       "1    Male    494"
      ]
     },
     "execution_count": 21,
     "metadata": {},
     "output_type": "execute_result"
    }
   ],
   "source": [
    "df_Gender=df['Gender'].value_counts().to_frame().reset_index().rename(columns={'index':'Gender','Gender':'count'})\n",
    "df_Gender"
   ]
  },
  {
   "cell_type": "markdown",
   "metadata": {
    "papermill": {
     "duration": 0.190718,
     "end_time": "2020-12-10T12:47:58.150532",
     "exception": false,
     "start_time": "2020-12-10T12:47:57.959814",
     "status": "completed"
    },
    "tags": []
   },
   "source": [
    "* Gender distribution is balanced"
   ]
  },
  {
   "cell_type": "code",
   "execution_count": 22,
   "metadata": {
    "execution": {
     "iopub.execute_input": "2020-12-10T12:47:58.581944Z",
     "iopub.status.busy": "2020-12-10T12:47:58.580888Z",
     "iopub.status.idle": "2020-12-10T12:47:58.589050Z",
     "shell.execute_reply": "2020-12-10T12:47:58.588262Z"
    },
    "papermill": {
     "duration": 0.242815,
     "end_time": "2020-12-10T12:47:58.589194",
     "exception": false,
     "start_time": "2020-12-10T12:47:58.346379",
     "status": "completed"
    },
    "tags": []
   },
   "outputs": [
    {
     "data": {
      "text/html": [
       "<div>                            <div id=\"a0d7ffd0-6876-4786-9117-bb54edfb99be\" class=\"plotly-graph-div\" style=\"height:525px; width:100%;\"></div>            <script type=\"text/javascript\">                require([\"plotly\"], function(Plotly) {                    window.PLOTLYENV=window.PLOTLYENV || {};                                    if (document.getElementById(\"a0d7ffd0-6876-4786-9117-bb54edfb99be\")) {                    Plotly.newPlot(                        \"a0d7ffd0-6876-4786-9117-bb54edfb99be\",                        [{\"marker\": {\"color\": [506, 494], \"colorscale\": [[0.0, \"#440154\"], [0.1111111111111111, \"#482878\"], [0.2222222222222222, \"#3e4989\"], [0.3333333333333333, \"#31688e\"], [0.4444444444444444, \"#26828e\"], [0.5555555555555556, \"#1f9e89\"], [0.6666666666666666, \"#35b779\"], [0.7777777777777778, \"#6ece58\"], [0.8888888888888888, \"#b5de2b\"], [1.0, \"#fde725\"]]}, \"text\": [506.0, 494.0], \"textposition\": \"outside\", \"type\": \"bar\", \"x\": [\"Female\", \"Male\"], \"y\": [506, 494]}],                        {\"template\": {\"data\": {\"bar\": [{\"error_x\": {\"color\": \"#2a3f5f\"}, \"error_y\": {\"color\": \"#2a3f5f\"}, \"marker\": {\"line\": {\"color\": \"#E5ECF6\", \"width\": 0.5}}, \"type\": \"bar\"}], \"barpolar\": [{\"marker\": {\"line\": {\"color\": \"#E5ECF6\", \"width\": 0.5}}, \"type\": \"barpolar\"}], \"carpet\": [{\"aaxis\": {\"endlinecolor\": \"#2a3f5f\", \"gridcolor\": \"white\", \"linecolor\": \"white\", \"minorgridcolor\": \"white\", \"startlinecolor\": \"#2a3f5f\"}, \"baxis\": {\"endlinecolor\": \"#2a3f5f\", \"gridcolor\": \"white\", \"linecolor\": \"white\", \"minorgridcolor\": \"white\", \"startlinecolor\": \"#2a3f5f\"}, \"type\": \"carpet\"}], \"choropleth\": [{\"colorbar\": {\"outlinewidth\": 0, \"ticks\": \"\"}, \"type\": \"choropleth\"}], \"contour\": [{\"colorbar\": {\"outlinewidth\": 0, \"ticks\": \"\"}, \"colorscale\": [[0.0, \"#0d0887\"], [0.1111111111111111, \"#46039f\"], [0.2222222222222222, \"#7201a8\"], [0.3333333333333333, \"#9c179e\"], [0.4444444444444444, \"#bd3786\"], [0.5555555555555556, \"#d8576b\"], [0.6666666666666666, \"#ed7953\"], [0.7777777777777778, \"#fb9f3a\"], [0.8888888888888888, \"#fdca26\"], [1.0, \"#f0f921\"]], \"type\": \"contour\"}], \"contourcarpet\": [{\"colorbar\": {\"outlinewidth\": 0, \"ticks\": \"\"}, \"type\": \"contourcarpet\"}], \"heatmap\": [{\"colorbar\": {\"outlinewidth\": 0, \"ticks\": \"\"}, \"colorscale\": [[0.0, \"#0d0887\"], [0.1111111111111111, \"#46039f\"], [0.2222222222222222, \"#7201a8\"], [0.3333333333333333, \"#9c179e\"], [0.4444444444444444, \"#bd3786\"], [0.5555555555555556, \"#d8576b\"], [0.6666666666666666, \"#ed7953\"], [0.7777777777777778, \"#fb9f3a\"], [0.8888888888888888, \"#fdca26\"], [1.0, \"#f0f921\"]], \"type\": \"heatmap\"}], \"heatmapgl\": [{\"colorbar\": {\"outlinewidth\": 0, \"ticks\": \"\"}, \"colorscale\": [[0.0, \"#0d0887\"], [0.1111111111111111, \"#46039f\"], [0.2222222222222222, \"#7201a8\"], [0.3333333333333333, \"#9c179e\"], [0.4444444444444444, \"#bd3786\"], [0.5555555555555556, \"#d8576b\"], [0.6666666666666666, \"#ed7953\"], [0.7777777777777778, \"#fb9f3a\"], [0.8888888888888888, \"#fdca26\"], [1.0, \"#f0f921\"]], \"type\": \"heatmapgl\"}], \"histogram\": [{\"marker\": {\"colorbar\": {\"outlinewidth\": 0, \"ticks\": \"\"}}, \"type\": \"histogram\"}], \"histogram2d\": [{\"colorbar\": {\"outlinewidth\": 0, \"ticks\": \"\"}, \"colorscale\": [[0.0, \"#0d0887\"], [0.1111111111111111, \"#46039f\"], [0.2222222222222222, \"#7201a8\"], [0.3333333333333333, \"#9c179e\"], [0.4444444444444444, \"#bd3786\"], [0.5555555555555556, \"#d8576b\"], [0.6666666666666666, \"#ed7953\"], [0.7777777777777778, \"#fb9f3a\"], [0.8888888888888888, \"#fdca26\"], [1.0, \"#f0f921\"]], \"type\": \"histogram2d\"}], \"histogram2dcontour\": [{\"colorbar\": {\"outlinewidth\": 0, \"ticks\": \"\"}, \"colorscale\": [[0.0, \"#0d0887\"], [0.1111111111111111, \"#46039f\"], [0.2222222222222222, \"#7201a8\"], [0.3333333333333333, \"#9c179e\"], [0.4444444444444444, \"#bd3786\"], [0.5555555555555556, \"#d8576b\"], [0.6666666666666666, \"#ed7953\"], [0.7777777777777778, \"#fb9f3a\"], [0.8888888888888888, \"#fdca26\"], [1.0, \"#f0f921\"]], \"type\": \"histogram2dcontour\"}], \"mesh3d\": [{\"colorbar\": {\"outlinewidth\": 0, \"ticks\": \"\"}, \"type\": \"mesh3d\"}], \"parcoords\": [{\"line\": {\"colorbar\": {\"outlinewidth\": 0, \"ticks\": \"\"}}, \"type\": \"parcoords\"}], \"pie\": [{\"automargin\": true, \"type\": \"pie\"}], \"scatter\": [{\"marker\": {\"colorbar\": {\"outlinewidth\": 0, \"ticks\": \"\"}}, \"type\": \"scatter\"}], \"scatter3d\": [{\"line\": {\"colorbar\": {\"outlinewidth\": 0, \"ticks\": \"\"}}, \"marker\": {\"colorbar\": {\"outlinewidth\": 0, \"ticks\": \"\"}}, \"type\": \"scatter3d\"}], \"scattercarpet\": [{\"marker\": {\"colorbar\": {\"outlinewidth\": 0, \"ticks\": \"\"}}, \"type\": \"scattercarpet\"}], \"scattergeo\": [{\"marker\": {\"colorbar\": {\"outlinewidth\": 0, \"ticks\": \"\"}}, \"type\": \"scattergeo\"}], \"scattergl\": [{\"marker\": {\"colorbar\": {\"outlinewidth\": 0, \"ticks\": \"\"}}, \"type\": \"scattergl\"}], \"scattermapbox\": [{\"marker\": {\"colorbar\": {\"outlinewidth\": 0, \"ticks\": \"\"}}, \"type\": \"scattermapbox\"}], \"scatterpolar\": [{\"marker\": {\"colorbar\": {\"outlinewidth\": 0, \"ticks\": \"\"}}, \"type\": \"scatterpolar\"}], \"scatterpolargl\": [{\"marker\": {\"colorbar\": {\"outlinewidth\": 0, \"ticks\": \"\"}}, \"type\": \"scatterpolargl\"}], \"scatterternary\": [{\"marker\": {\"colorbar\": {\"outlinewidth\": 0, \"ticks\": \"\"}}, \"type\": \"scatterternary\"}], \"surface\": [{\"colorbar\": {\"outlinewidth\": 0, \"ticks\": \"\"}, \"colorscale\": [[0.0, \"#0d0887\"], [0.1111111111111111, \"#46039f\"], [0.2222222222222222, \"#7201a8\"], [0.3333333333333333, \"#9c179e\"], [0.4444444444444444, \"#bd3786\"], [0.5555555555555556, \"#d8576b\"], [0.6666666666666666, \"#ed7953\"], [0.7777777777777778, \"#fb9f3a\"], [0.8888888888888888, \"#fdca26\"], [1.0, \"#f0f921\"]], \"type\": \"surface\"}], \"table\": [{\"cells\": {\"fill\": {\"color\": \"#EBF0F8\"}, \"line\": {\"color\": \"white\"}}, \"header\": {\"fill\": {\"color\": \"#C8D4E3\"}, \"line\": {\"color\": \"white\"}}, \"type\": \"table\"}]}, \"layout\": {\"annotationdefaults\": {\"arrowcolor\": \"#2a3f5f\", \"arrowhead\": 0, \"arrowwidth\": 1}, \"coloraxis\": {\"colorbar\": {\"outlinewidth\": 0, \"ticks\": \"\"}}, \"colorscale\": {\"diverging\": [[0, \"#8e0152\"], [0.1, \"#c51b7d\"], [0.2, \"#de77ae\"], [0.3, \"#f1b6da\"], [0.4, \"#fde0ef\"], [0.5, \"#f7f7f7\"], [0.6, \"#e6f5d0\"], [0.7, \"#b8e186\"], [0.8, \"#7fbc41\"], [0.9, \"#4d9221\"], [1, \"#276419\"]], \"sequential\": [[0.0, \"#0d0887\"], [0.1111111111111111, \"#46039f\"], [0.2222222222222222, \"#7201a8\"], [0.3333333333333333, \"#9c179e\"], [0.4444444444444444, \"#bd3786\"], [0.5555555555555556, \"#d8576b\"], [0.6666666666666666, \"#ed7953\"], [0.7777777777777778, \"#fb9f3a\"], [0.8888888888888888, \"#fdca26\"], [1.0, \"#f0f921\"]], \"sequentialminus\": [[0.0, \"#0d0887\"], [0.1111111111111111, \"#46039f\"], [0.2222222222222222, \"#7201a8\"], [0.3333333333333333, \"#9c179e\"], [0.4444444444444444, \"#bd3786\"], [0.5555555555555556, \"#d8576b\"], [0.6666666666666666, \"#ed7953\"], [0.7777777777777778, \"#fb9f3a\"], [0.8888888888888888, \"#fdca26\"], [1.0, \"#f0f921\"]]}, \"colorway\": [\"#636efa\", \"#EF553B\", \"#00cc96\", \"#ab63fa\", \"#FFA15A\", \"#19d3f3\", \"#FF6692\", \"#B6E880\", \"#FF97FF\", \"#FECB52\"], \"font\": {\"color\": \"#2a3f5f\"}, \"geo\": {\"bgcolor\": \"white\", \"lakecolor\": \"white\", \"landcolor\": \"#E5ECF6\", \"showlakes\": true, \"showland\": true, \"subunitcolor\": \"white\"}, \"hoverlabel\": {\"align\": \"left\"}, \"hovermode\": \"closest\", \"mapbox\": {\"style\": \"light\"}, \"paper_bgcolor\": \"white\", \"plot_bgcolor\": \"#E5ECF6\", \"polar\": {\"angularaxis\": {\"gridcolor\": \"white\", \"linecolor\": \"white\", \"ticks\": \"\"}, \"bgcolor\": \"#E5ECF6\", \"radialaxis\": {\"gridcolor\": \"white\", \"linecolor\": \"white\", \"ticks\": \"\"}}, \"scene\": {\"xaxis\": {\"backgroundcolor\": \"#E5ECF6\", \"gridcolor\": \"white\", \"gridwidth\": 2, \"linecolor\": \"white\", \"showbackground\": true, \"ticks\": \"\", \"zerolinecolor\": \"white\"}, \"yaxis\": {\"backgroundcolor\": \"#E5ECF6\", \"gridcolor\": \"white\", \"gridwidth\": 2, \"linecolor\": \"white\", \"showbackground\": true, \"ticks\": \"\", \"zerolinecolor\": \"white\"}, \"zaxis\": {\"backgroundcolor\": \"#E5ECF6\", \"gridcolor\": \"white\", \"gridwidth\": 2, \"linecolor\": \"white\", \"showbackground\": true, \"ticks\": \"\", \"zerolinecolor\": \"white\"}}, \"shapedefaults\": {\"line\": {\"color\": \"#2a3f5f\"}}, \"ternary\": {\"aaxis\": {\"gridcolor\": \"white\", \"linecolor\": \"white\", \"ticks\": \"\"}, \"baxis\": {\"gridcolor\": \"white\", \"linecolor\": \"white\", \"ticks\": \"\"}, \"bgcolor\": \"#E5ECF6\", \"caxis\": {\"gridcolor\": \"white\", \"linecolor\": \"white\", \"ticks\": \"\"}}, \"title\": {\"x\": 0.05}, \"xaxis\": {\"automargin\": true, \"gridcolor\": \"white\", \"linecolor\": \"white\", \"ticks\": \"\", \"title\": {\"standoff\": 15}, \"zerolinecolor\": \"white\", \"zerolinewidth\": 2}, \"yaxis\": {\"automargin\": true, \"gridcolor\": \"white\", \"linecolor\": \"white\", \"ticks\": \"\", \"title\": {\"standoff\": 15}, \"zerolinecolor\": \"white\", \"zerolinewidth\": 2}}}, \"title\": {\"text\": \"Gender Distribution\", \"x\": 0.5}, \"xaxis\": {\"title\": {\"text\": \"Gender\"}}, \"yaxis\": {\"title\": {\"text\": \"Count \"}}},                        {\"responsive\": true}                    ).then(function(){\n",
       "                            \n",
       "var gd = document.getElementById('a0d7ffd0-6876-4786-9117-bb54edfb99be');\n",
       "var x = new MutationObserver(function (mutations, observer) {{\n",
       "        var display = window.getComputedStyle(gd).display;\n",
       "        if (!display || display === 'none') {{\n",
       "            console.log([gd, 'removed!']);\n",
       "            Plotly.purge(gd);\n",
       "            observer.disconnect();\n",
       "        }}\n",
       "}});\n",
       "\n",
       "// Listen for the removal of the full notebook cells\n",
       "var notebookContainer = gd.closest('#notebook-container');\n",
       "if (notebookContainer) {{\n",
       "    x.observe(notebookContainer, {childList: true});\n",
       "}}\n",
       "\n",
       "// Listen for the clearing of the current output cell\n",
       "var outputEl = gd.closest('.output');\n",
       "if (outputEl) {{\n",
       "    x.observe(outputEl, {childList: true});\n",
       "}}\n",
       "\n",
       "                        })                };                });            </script>        </div>"
      ]
     },
     "metadata": {},
     "output_type": "display_data"
    }
   ],
   "source": [
    "fig = go.Figure(go.Bar(\n",
    "    x=df_Gender['Gender'],y=df_Gender['count'],\n",
    "    marker={'color': df_Gender['count'], \n",
    "    'colorscale': 'Viridis'},  \n",
    "    text=df_Gender['count'],\n",
    "    textposition = \"outside\",\n",
    "))\n",
    "fig.update_layout(title_text='Gender Distribution',xaxis_title=\"Gender\",yaxis_title=\"Count \",title_x=0.5)\n",
    "fig.show()"
   ]
  },
  {
   "cell_type": "markdown",
   "metadata": {
    "papermill": {
     "duration": 0.192509,
     "end_time": "2020-12-10T12:47:58.979331",
     "exception": false,
     "start_time": "2020-12-10T12:47:58.786822",
     "status": "completed"
    },
    "tags": []
   },
   "source": [
    "* How much is the average salary,amount spent by Gender"
   ]
  },
  {
   "cell_type": "markdown",
   "metadata": {
    "papermill": {
     "duration": 0.231566,
     "end_time": "2020-12-10T12:47:59.863663",
     "exception": false,
     "start_time": "2020-12-10T12:47:59.632097",
     "status": "completed"
    },
    "tags": []
   },
   "source": [
    "* Men earn more and spend more"
   ]
  },
  {
   "cell_type": "code",
   "execution_count": 24,
   "metadata": {
    "execution": {
     "iopub.execute_input": "2020-12-10T12:48:00.270622Z",
     "iopub.status.busy": "2020-12-10T12:48:00.257858Z",
     "iopub.status.idle": "2020-12-10T12:48:00.363297Z",
     "shell.execute_reply": "2020-12-10T12:48:00.364002Z"
    },
    "papermill": {
     "duration": 0.308073,
     "end_time": "2020-12-10T12:48:00.364182",
     "exception": false,
     "start_time": "2020-12-10T12:48:00.056109",
     "status": "completed"
    },
    "tags": []
   },
   "outputs": [
    {
     "data": {
      "text/html": [
       "<div>                            <div id=\"d63c7d9c-18f1-43d5-ab52-c5071a340658\" class=\"plotly-graph-div\" style=\"height:525px; width:100%;\"></div>            <script type=\"text/javascript\">                require([\"plotly\"], function(Plotly) {                    window.PLOTLYENV=window.PLOTLYENV || {};                                    if (document.getElementById(\"d63c7d9c-18f1-43d5-ab52-c5071a340658\")) {                    Plotly.newPlot(                        \"d63c7d9c-18f1-43d5-ab52-c5071a340658\",                        [{\"hovertemplate\": \"Gender=Female<br>Salary=%{x}<br>AmountSpent=%{y}<extra></extra>\", \"legendgroup\": \"Female\", \"marker\": {\"color\": \"#636efa\", \"symbol\": \"circle\"}, \"mode\": \"markers\", \"name\": \"Female\", \"orientation\": \"v\", \"showlegend\": true, \"type\": \"scatter\", \"x\": [47500, 13500, 68400, 48100, 51900, 44100, 110000, 83100, 82800, 14000, 14300, 60200, 41700, 92300, 72900, 66900, 39700, 87700, 27000, 64100, 41600, 20100, 96800, 81500, 49600, 111500, 83300, 90500, 87200, 105300, 56000, 46600, 33700, 25900, 15600, 14600, 62600, 13200, 51300, 15600, 90400, 60600, 24400, 22100, 74700, 32400, 11400, 48700, 12900, 67300, 33600, 16300, 110400, 21100, 21700, 42200, 52700, 91800, 27900, 70700, 46600, 104900, 14800, 12000, 66800, 13800, 44200, 35200, 16100, 93400, 52500, 45400, 21400, 53700, 68000, 14600, 100100, 10800, 81700, 21400, 114800, 67900, 11400, 16400, 109800, 41400, 49100, 42600, 11900, 14300, 39700, 88200, 84800, 28500, 51900, 28900, 60100, 84800, 35000, 61700, 46900, 123600, 48700, 39000, 40000, 118300, 27100, 91000, 35300, 10200, 12500, 64600, 16900, 13600, 80000, 72900, 40900, 26700, 23600, 19300, 61500, 101700, 120800, 17300, 42300, 42800, 51200, 11400, 14000, 97000, 29600, 15000, 74400, 33200, 70900, 23200, 63200, 79900, 54400, 13800, 14500, 14600, 100800, 19800, 15900, 12700, 114100, 13400, 76200, 12000, 103300, 47500, 31300, 32700, 107600, 65400, 43300, 51900, 80600, 42700, 14500, 68200, 102800, 34700, 25500, 27800, 130700, 118300, 25600, 30900, 25900, 22000, 96700, 40200, 16700, 40900, 69700, 48900, 27000, 43700, 63300, 33200, 78800, 53300, 23000, 82400, 97900, 88400, 86900, 45100, 73000, 66300, 71900, 10200, 24000, 46700, 53700, 12100, 33400, 47900, 40500, 13300, 75800, 48600, 39600, 11700, 64600, 34600, 37000, 18400, 22800, 10100, 59100, 19700, 30100, 43500, 35600, 36900, 93500, 11500, 21900, 74900, 23200, 32700, 35200, 13100, 23100, 47600, 47900, 32700, 126300, 108100, 43300, 17900, 74700, 68800, 25700, 17300, 60500, 84100, 72200, 78900, 62500, 17800, 105500, 46100, 12000, 48400, 35200, 53900, 36100, 11000, 88600, 18900, 17300, 81400, 43300, 79400, 63700, 118800, 79400, 20400, 17600, 76700, 72900, 21200, 62200, 24400, 72200, 16900, 22000, 18800, 26600, 72100, 14600, 15100, 15000, 50500, 42000, 38200, 39900, 21600, 65900, 97500, 31900, 45500, 12800, 12600, 17900, 14400, 23800, 36900, 20600, 54700, 22200, 70900, 80800, 39900, 71200, 61000, 75600, 53700, 89000, 18200, 73600, 45600, 13900, 27500, 41700, 51000, 47200, 35800, 58200, 13500, 59900, 18400, 13600, 97400, 37500, 22800, 14200, 28900, 13300, 21700, 12500, 31200, 13700, 58600, 55900, 13700, 81400, 90500, 82200, 43900, 20300, 16300, 15100, 12500, 10600, 41300, 27200, 27900, 43300, 49700, 82300, 51900, 85500, 12400, 111900, 40400, 13200, 52200, 43100, 40100, 61000, 79300, 30300, 20100, 42500, 52600, 37800, 20300, 131500, 12800, 17600, 28300, 14100, 44100, 22600, 70400, 66500, 41000, 26200, 60200, 83700, 42000, 21900, 37100, 28200, 14200, 46600, 42800, 33600, 55600, 24000, 21500, 68600, 23100, 53300, 112800, 72200, 14900, 68500, 35900, 36500, 86400, 39500, 110700, 33200, 53800, 135700, 20700, 84200, 79900, 19700, 35300, 25900, 11000, 65900, 108100, 79500, 95900, 96200, 43000, 15500, 27200, 26700, 76600, 12600, 12700, 77600, 92400, 71800, 32600, 29200, 12900, 64100, 46500, 12400, 40600, 54200, 10600, 76400, 93700, 96500, 79900, 50500, 16300, 49200, 72600, 17200, 32500, 49500, 47300, 32000, 44700, 69400, 118000, 88600, 22400, 25300, 15900, 46600, 82700, 17000, 42400, 17300, 109800, 64400, 27600, 25100, 46300, 74900, 62800, 77600, 19100, 128700, 14400, 47000, 36600, 65800, 63500, 57900, 60100, 67900, 29200, 55200, 44600, 67800, 25500, 20000, 102500, 52300, 13200, 22600, 37300, 36700, 44800, 70900, 38200, 18400, 40700, 36400, 75200, 25300, 43600, 56200, 84900, 82000, 33000, 36900, 33200, 32100, 11700, 99200, 19400], \"xaxis\": \"x\", \"y\": [755, 296, 1304, 782, 158, 704, 5564, 2766, 3010, 410, 194, 2328, 521, 655, 2075, 769, 573, 2446, 183, 1595, 982, 576, 3082, 3655, 844, 2510, 2574, 1116, 3604, 3360, 530, 906, 614, 449, 136, 468, 565, 358, 1424, 468, 2924, 307, 220, 280, 704, 920, 258, 528, 107, 1513, 805, 470, 1093, 470, 708, 1753, 855, 2452, 1184, 2150, 1153, 450, 209, 344, 2098, 127, 2524, 607, 202, 3079, 2038, 1203, 326, 235, 3688, 143, 3104, 123, 879, 498, 3596, 2925, 312, 218, 4279, 223, 474, 1790, 143, 458, 238, 2749, 2624, 621, 780, 830, 1594, 1826, 473, 1161, 703, 1892, 1457, 292, 613, 2681, 437, 708, 1093, 213, 202, 1298, 247, 183, 1985, 252, 962, 459, 161, 308, 1162, 2551, 5830, 381, 856, 759, 1257, 186, 229, 2599, 774, 378, 2479, 1037, 690, 770, 1512, 1165, 342, 363, 222, 385, 1789, 991, 503, 87, 1976, 143, 979, 264, 3378, 847, 357, 1276, 1512, 938, 1584, 1148, 2840, 827, 183, 818, 2238, 1615, 139, 408, 2070, 2502, 426, 862, 242, 472, 1231, 881, 108, 576, 584, 915, 1012, 950, 679, 607, 3398, 508, 79, 657, 2149, 3632, 2230, 448, 490, 544, 1846, 199, 357, 983, 1194, 90, 617, 662, 622, 236, 1830, 1583, 610, 193, 2206, 748, 632, 303, 452, 93, 1426, 330, 530, 500, 865, 1480, 1426, 157, 576, 1474, 788, 1252, 827, 314, 466, 801, 1090, 273, 1888, 2632, 326, 446, 1699, 1658, 173, 345, 409, 2710, 715, 2233, 921, 216, 1781, 418, 140, 992, 233, 2177, 438, 393, 2563, 184, 166, 1014, 1021, 1175, 364, 2176, 200, 513, 224, 534, 753, 242, 2119, 491, 3069, 281, 736, 170, 245, 3052, 47, 274, 341, 940, 232, 526, 586, 491, 1436, 1280, 860, 1624, 230, 164, 62, 223, 438, 371, 201, 1404, 275, 794, 1598, 619, 392, 1850, 1541, 2491, 1487, 322, 647, 1322, 191, 571, 1398, 1025, 1272, 1355, 981, 160, 613, 662, 349, 213, 1578, 258, 192, 905, 184, 387, 422, 1087, 163, 624, 788, 414, 3001, 863, 1517, 358, 304, 360, 348, 206, 114, 932, 446, 576, 716, 613, 580, 1162, 895, 205, 2340, 630, 227, 669, 1444, 1384, 1611, 2047, 1062, 271, 918, 1307, 1185, 180, 2840, 365, 163, 933, 153, 1659, 521, 2610, 1181, 768, 381, 1748, 1582, 105, 486, 653, 224, 197, 546, 685, 573, 1553, 362, 445, 1342, 457, 1598, 1861, 3278, 275, 1500, 962, 747, 1713, 1006, 2458, 1639, 843, 2746, 550, 954, 1041, 535, 1369, 582, 195, 777, 1133, 1651, 3168, 1457, 225, 210, 243, 1120, 2904, 241, 65, 858, 2191, 1946, 172, 556, 167, 1332, 829, 229, 690, 486, 517, 2216, 1521, 1364, 295, 642, 317, 1078, 1999, 329, 883, 1195, 640, 1320, 502, 2419, 581, 212, 947, 451, 406, 158, 1753, 659, 1166, 411, 2258, 1913, 893, 421, 1138, 1804, 1403, 2004, 403, 3995, 390, 963, 833, 869, 1023, 1693, 1430, 356, 636, 1714, 966, 680, 636, 182, 548, 2034, 512, 865, 673, 529, 666, 1685, 1476, 319, 232, 506, 2702, 510, 1047, 1546, 3072, 1800, 700, 514, 320, 405, 540, 5503, 384], \"yaxis\": \"y\"}, {\"hovertemplate\": \"<b>OLS trendline</b><br>AmountSpent = 0.0223505 * Salary + -51.8977<br>R<sup>2</sup>=0.525540<br><br>Gender=Female<br>Salary=%{x}<br>AmountSpent=%{y} <b>(trend)</b><extra></extra>\", \"legendgroup\": \"Female\", \"marker\": {\"color\": \"#636efa\", \"symbol\": \"circle\"}, \"mode\": \"lines\", \"name\": \"Female\", \"showlegend\": false, \"type\": \"scatter\", \"x\": [10100, 10200, 10200, 10600, 10600, 10800, 11000, 11000, 11400, 11400, 11400, 11500, 11700, 11700, 11900, 12000, 12000, 12000, 12100, 12400, 12400, 12500, 12500, 12500, 12600, 12600, 12700, 12700, 12800, 12800, 12900, 12900, 13100, 13200, 13200, 13200, 13300, 13300, 13400, 13500, 13500, 13600, 13600, 13700, 13700, 13800, 13800, 13900, 14000, 14000, 14100, 14200, 14200, 14300, 14300, 14400, 14400, 14500, 14500, 14600, 14600, 14600, 14600, 14800, 14900, 15000, 15000, 15100, 15100, 15500, 15600, 15600, 15900, 15900, 16100, 16300, 16300, 16300, 16400, 16700, 16900, 16900, 17000, 17200, 17300, 17300, 17300, 17300, 17600, 17600, 17800, 17900, 17900, 18200, 18400, 18400, 18400, 18800, 18900, 19100, 19300, 19400, 19700, 19700, 19800, 20000, 20100, 20100, 20300, 20300, 20400, 20600, 20700, 21100, 21200, 21400, 21400, 21500, 21600, 21700, 21700, 21900, 21900, 22000, 22000, 22100, 22200, 22400, 22600, 22600, 22800, 22800, 23000, 23100, 23100, 23200, 23200, 23600, 23800, 24000, 24000, 24400, 24400, 25100, 25300, 25300, 25500, 25500, 25600, 25700, 25900, 25900, 25900, 26200, 26600, 26700, 26700, 27000, 27000, 27100, 27200, 27200, 27500, 27600, 27800, 27900, 27900, 28200, 28300, 28500, 28900, 28900, 29200, 29200, 29600, 30100, 30300, 30900, 31200, 31300, 31900, 32000, 32100, 32400, 32500, 32600, 32700, 32700, 32700, 33000, 33200, 33200, 33200, 33200, 33400, 33600, 33600, 33700, 34600, 34700, 35000, 35200, 35200, 35200, 35300, 35300, 35600, 35800, 35900, 36100, 36400, 36500, 36600, 36700, 36900, 36900, 36900, 37000, 37100, 37300, 37500, 37800, 38200, 38200, 39000, 39500, 39600, 39700, 39700, 39900, 39900, 40000, 40100, 40200, 40400, 40500, 40600, 40700, 40900, 40900, 41000, 41300, 41400, 41600, 41700, 41700, 42000, 42000, 42200, 42300, 42400, 42500, 42600, 42700, 42800, 42800, 43000, 43100, 43300, 43300, 43300, 43300, 43500, 43600, 43700, 43900, 44100, 44100, 44200, 44600, 44700, 44800, 45100, 45400, 45500, 45600, 46100, 46300, 46500, 46600, 46600, 46600, 46600, 46700, 46900, 47000, 47200, 47300, 47500, 47500, 47600, 47900, 47900, 48100, 48400, 48600, 48700, 48700, 48900, 49100, 49200, 49500, 49600, 49700, 50500, 50500, 51000, 51200, 51300, 51900, 51900, 51900, 51900, 52200, 52300, 52500, 52600, 52700, 53300, 53300, 53700, 53700, 53700, 53800, 53900, 54200, 54400, 54700, 55200, 55600, 55900, 56000, 56200, 57900, 58200, 58600, 59100, 59900, 60100, 60100, 60200, 60200, 60500, 60600, 61000, 61000, 61500, 61700, 62200, 62500, 62600, 62800, 63200, 63300, 63500, 63700, 64100, 64100, 64400, 64600, 64600, 65400, 65800, 65900, 65900, 66300, 66500, 66800, 66900, 67300, 67800, 67900, 67900, 68000, 68200, 68400, 68500, 68600, 68800, 69400, 69700, 70400, 70700, 70900, 70900, 70900, 71200, 71800, 71900, 72100, 72200, 72200, 72200, 72600, 72900, 72900, 72900, 73000, 73600, 74400, 74700, 74700, 74900, 74900, 75200, 75600, 75800, 76200, 76400, 76600, 76700, 77600, 77600, 78800, 78900, 79300, 79400, 79400, 79500, 79900, 79900, 79900, 80000, 80600, 80800, 81400, 81400, 81500, 81700, 82000, 82200, 82300, 82400, 82700, 82800, 83100, 83300, 83700, 84100, 84200, 84800, 84800, 84900, 85500, 86400, 86900, 87200, 87700, 88200, 88400, 88600, 88600, 89000, 90400, 90500, 90500, 91000, 91800, 92300, 92400, 93400, 93500, 93700, 95900, 96200, 96500, 96700, 96800, 97000, 97400, 97500, 97900, 99200, 100100, 100800, 101700, 102500, 102800, 103300, 104900, 105300, 105500, 107600, 108100, 108100, 109800, 109800, 110000, 110400, 110700, 111500, 111900, 112800, 114100, 114800, 118000, 118300, 118300, 118800, 120800, 123600, 126300, 128700, 130700, 131500, 135700], \"xaxis\": \"x\", \"y\": [173.84254523172, 176.07759719497602, 176.07759719497602, 185.017805048, 185.017805048, 189.48790897451204, 193.95801290102406, 193.95801290102406, 202.89822075404805, 202.89822075404805, 202.89822075404805, 205.13327271730407, 209.6033766438161, 209.6033766438161, 214.07348057032806, 216.30853253358407, 216.30853253358407, 216.30853253358407, 218.54358449684008, 225.24874038660812, 225.24874038660812, 227.48379234986413, 227.48379234986413, 227.48379234986413, 229.71884431312014, 229.71884431312014, 231.9538962763761, 231.9538962763761, 234.1889482396321, 234.1889482396321, 236.42400020288812, 236.42400020288812, 240.89410412940015, 243.12915609265616, 243.12915609265616, 243.12915609265616, 245.36420805591217, 245.36420805591217, 247.59926001916818, 249.83431198242414, 249.83431198242414, 252.06936394568015, 252.06936394568015, 254.30441590893616, 254.30441590893616, 256.5394678721922, 256.5394678721922, 258.7745198354482, 261.0095717987042, 261.0095717987042, 263.2446237619602, 265.4796757252162, 265.4796757252162, 267.7147276884722, 267.7147276884722, 269.9497796517282, 269.9497796517282, 272.1848316149842, 272.1848316149842, 274.4198835782402, 274.4198835782402, 274.4198835782402, 274.4198835782402, 278.88998750475224, 281.12503946800825, 283.36009143126427, 283.36009143126427, 285.5951433945202, 285.5951433945202, 294.53535124754427, 296.7704032108003, 296.7704032108003, 303.4755591005683, 303.4755591005683, 307.9456630270803, 312.4157669535923, 312.4157669535923, 312.4157669535923, 314.6508189168483, 321.35597480661636, 325.8260787331283, 325.8260787331283, 328.06113069638434, 332.53123462289636, 334.7662865861524, 334.7662865861524, 334.7662865861524, 334.7662865861524, 341.47144247592036, 341.47144247592036, 345.9415464024324, 348.1765983656884, 348.1765983656884, 354.8817542554564, 359.3518581819684, 359.3518581819684, 359.3518581819684, 368.29206603499244, 370.52711799824846, 374.9972219247605, 379.46732585127245, 381.70237781452846, 388.4075337042965, 388.4075337042965, 390.6425856675525, 395.1126895940645, 397.3477415573205, 397.3477415573205, 401.8178454838325, 401.8178454838325, 404.0528974470885, 408.52300137360055, 410.75805333685656, 419.69826118988055, 421.93331315313657, 426.4034170796486, 426.4034170796486, 428.6384690429046, 430.8735210061606, 433.10857296941657, 433.10857296941657, 437.5786768959286, 437.5786768959286, 439.8137288591846, 439.8137288591846, 442.0487808224406, 444.28383278569663, 448.75393671220866, 453.2240406387206, 453.2240406387206, 457.69414456523265, 457.69414456523265, 462.1642484917447, 464.3993004550006, 464.3993004550006, 466.6343524182567, 466.6343524182567, 475.57456027128075, 480.04466419779266, 484.5147681243047, 484.5147681243047, 493.45497597732873, 493.45497597732873, 509.10033972012076, 513.5704436466328, 513.5704436466328, 518.0405475731449, 518.0405475731449, 520.2755995364008, 522.5106514996569, 526.9807554261689, 526.9807554261689, 526.9807554261689, 533.6859113159369, 542.6261191689609, 544.8611711322169, 544.8611711322169, 551.5663270219849, 551.5663270219849, 553.801378985241, 556.0364309484969, 556.0364309484969, 562.741586838265, 564.976638801521, 569.446742728033, 571.6817946912889, 571.6817946912889, 578.386950581057, 580.622002544313, 585.092106470825, 594.032314323849, 594.032314323849, 600.737470213617, 600.737470213617, 609.6776780666411, 620.8529378829211, 625.3230418094331, 638.7333535889692, 645.4385094787372, 647.6735614419931, 661.0838732215292, 663.3189251847851, 665.5539771480412, 672.2591330378092, 674.4941850010653, 676.7292369643212, 678.9642889275772, 678.9642889275772, 678.9642889275772, 685.6694448173453, 690.1395487438573, 690.1395487438573, 690.1395487438573, 690.1395487438573, 694.6096526703693, 699.0797565968812, 699.0797565968812, 701.3148085601373, 721.4302762294413, 723.6653281926973, 730.3704840824654, 734.8405880089773, 734.8405880089773, 734.8405880089773, 737.0756399722334, 737.0756399722334, 743.7807958620014, 748.2508997885134, 750.4859517517694, 754.9560556782814, 761.6612115680495, 763.8962635313054, 766.1313154945615, 768.3663674578174, 772.8364713843295, 772.8364713843295, 772.8364713843295, 775.0715233475854, 777.3065753108415, 781.7766792373535, 786.2467831638655, 792.9519390536335, 801.8921469066576, 801.8921469066576, 819.7725626127055, 830.9478224289855, 833.1828743922416, 835.4179263554976, 835.4179263554976, 839.8880302820096, 839.8880302820096, 842.1230822452656, 844.3581342085216, 846.5931861717776, 851.0632900982896, 853.2983420615457, 855.5333940248016, 857.7684459880577, 862.2385499145696, 862.2385499145696, 864.4736018778257, 871.1787577675937, 873.4138097308497, 877.8839136573617, 880.1189656206177, 880.1189656206177, 886.8241215103857, 886.8241215103857, 891.2942254368977, 893.5292774001538, 895.7643293634097, 897.9993813266657, 900.2344332899218, 902.4694852531777, 904.7045372164338, 904.7045372164338, 909.1746411429458, 911.4096931062018, 915.8797970327138, 915.8797970327138, 915.8797970327138, 915.8797970327138, 920.3499009592258, 922.5849529224818, 924.8200048857378, 929.2901088122499, 933.7602127387618, 933.7602127387618, 935.9952647020178, 944.9354725550419, 947.1705245182978, 949.4055764815539, 956.1107323713219, 962.8158882610899, 965.0509402243459, 967.2859921876019, 978.4612520038819, 982.931355930394, 987.401459856906, 989.6365118201619, 989.6365118201619, 989.6365118201619, 989.6365118201619, 991.8715637834179, 996.34166770993, 998.576719673186, 1003.0468235996981, 1005.281875562954, 1009.751979489466, 1009.751979489466, 1011.9870314527219, 1018.69218734249, 1018.69218734249, 1023.1622912690021, 1029.86744715877, 1034.337551085282, 1036.572603048538, 1036.572603048538, 1041.04270697505, 1045.512810901562, 1047.747862864818, 1054.453018754586, 1056.688070717842, 1058.923122681098, 1076.803538387146, 1076.803538387146, 1087.978798203426, 1092.448902129938, 1094.6839540931942, 1108.0942658727301, 1108.0942658727301, 1108.0942658727301, 1108.0942658727301, 1114.7994217624982, 1117.0344737257542, 1121.504577652266, 1123.739629615522, 1125.9746815787782, 1139.3849933583142, 1139.3849933583142, 1148.3252012113383, 1148.3252012113383, 1148.3252012113383, 1150.5602531745942, 1152.7953051378502, 1159.5004610276183, 1163.9705649541302, 1170.6757208438983, 1181.8509806601783, 1190.7911885132023, 1197.4963444029704, 1199.7313963662264, 1204.2015002927383, 1242.1973836680904, 1248.9025395578585, 1257.8427474108826, 1269.0180072271626, 1286.8984229332104, 1291.3685268597226, 1291.3685268597226, 1293.6035788229785, 1293.6035788229785, 1300.3087347127466, 1302.5437866760026, 1311.4839945290266, 1311.4839945290266, 1322.6592543453066, 1327.1293582718185, 1338.3046180880986, 1345.0097739778666, 1347.2448259411226, 1351.7149298676347, 1360.6551377206588, 1362.8901896839147, 1367.3602936104267, 1371.8303975369388, 1380.7706053899628, 1380.7706053899628, 1387.4757612797307, 1391.9458652062428, 1391.9458652062428, 1409.8262809122907, 1418.7664887653148, 1421.001540728571, 1421.001540728571, 1429.9417485815948, 1434.411852508107, 1441.117008397875, 1443.352060361131, 1452.292268214155, 1463.467528030435, 1465.702579993691, 1465.702579993691, 1467.937631956947, 1472.407735883459, 1476.877839809971, 1479.112891773227, 1481.3479437364829, 1485.818047662995, 1499.228359442531, 1505.933515332299, 1521.578879075091, 1528.284034964859, 1532.7541388913712, 1532.7541388913712, 1532.7541388913712, 1539.459294781139, 1552.8696065606753, 1555.1046585239312, 1559.5747624504431, 1561.809814413699, 1561.809814413699, 1561.809814413699, 1570.7500222667231, 1577.4551781564912, 1577.4551781564912, 1577.4551781564912, 1579.6902301197472, 1593.1005418992831, 1610.9809576053312, 1617.6861134950993, 1617.6861134950993, 1622.1562174216112, 1622.1562174216112, 1628.8613733113793, 1637.8015811644034, 1642.2716850909153, 1651.2118929439393, 1655.6819968704515, 1660.1521007969634, 1662.3871527602194, 1682.5026204295234, 1682.5026204295234, 1709.3232439885956, 1711.5582959518515, 1720.4985038048756, 1722.7335557681315, 1722.7335557681315, 1724.9686077313875, 1733.9088155844115, 1733.9088155844115, 1733.9088155844115, 1736.1438675476675, 1749.5541793272037, 1754.0242832537156, 1767.4345950332518, 1767.4345950332518, 1769.6696469965077, 1774.1397509230196, 1780.8449068127877, 1785.3150107392996, 1787.5500627025558, 1789.7851146658118, 1796.4902705555796, 1798.7253225188358, 1805.4304784086037, 1809.9005823351158, 1818.8407901881399, 1827.7809980411637, 1830.0160500044199, 1843.4263617839558, 1843.4263617839558, 1845.6614137472118, 1859.071725526748, 1879.187193196052, 1890.362453012332, 1897.0676089021, 1908.24286871838, 1919.41812853466, 1923.888232461172, 1928.358336387684, 1928.358336387684, 1937.298544240708, 1968.589271726292, 1970.8243236895482, 1970.8243236895482, 1981.9995835058282, 1999.8799992118763, 2011.0552590281561, 2013.290310991412, 2035.640830623972, 2037.8758825872285, 2042.3459865137404, 2091.5171297053726, 2098.222285595141, 2104.9274414849087, 2109.3975454114207, 2111.6325973746766, 2116.1027013011885, 2125.042909154213, 2127.2779611174687, 2136.2181689704926, 2165.273844492821, 2185.389312162125, 2201.034675904917, 2221.150143574221, 2239.030559280269, 2245.735715170037, 2256.910974986317, 2292.671806398413, 2301.612014251437, 2306.0821181779493, 2353.0182094063252, 2364.1934692226055, 2364.1934692226055, 2402.189352597957, 2402.189352597957, 2406.6594565244695, 2415.5996643774934, 2422.304820267261, 2440.1852359733093, 2449.1254438263336, 2469.2409114956376, 2498.2965870179655, 2513.9419507607577, 2585.4636135849496, 2592.168769474718, 2592.168769474718, 2603.3440292909977, 2648.0450685561177, 2710.6265235272863, 2770.9729265351984, 2824.6141736533423, 2869.3152129184623, 2887.1956286245104, 2981.067811081263], \"yaxis\": \"y\"}, {\"hovertemplate\": \"Gender=Male<br>Salary=%{x}<br>AmountSpent=%{y}<extra></extra>\", \"legendgroup\": \"Male\", \"marker\": {\"color\": \"#EF553B\", \"symbol\": \"circle\"}, \"mode\": \"markers\", \"name\": \"Male\", \"orientation\": \"v\", \"showlegend\": true, \"type\": \"scatter\", \"x\": [63600, 85600, 30400, 68400, 80700, 43700, 111800, 111400, 90100, 38600, 49800, 43500, 62800, 21700, 72200, 104100, 67700, 47000, 64000, 76200, 77700, 58900, 126500, 69800, 60300, 67800, 42300, 62700, 66700, 72500, 72300, 71500, 14400, 15000, 57600, 84300, 48800, 127000, 47200, 20400, 39000, 134500, 75500, 27400, 81200, 87100, 59000, 20900, 90700, 79600, 96400, 106600, 56300, 58300, 70200, 59700, 25800, 51900, 105300, 14800, 10400, 113000, 63300, 19100, 17400, 103700, 53700, 34300, 64200, 17000, 113600, 52900, 21000, 59600, 51200, 122100, 140000, 60300, 60200, 81200, 73100, 45700, 45800, 77800, 113800, 113400, 100100, 83900, 77000, 80700, 54700, 56900, 68700, 20200, 53300, 98400, 62200, 109200, 71200, 64000, 33000, 20300, 68700, 53600, 41400, 107400, 13900, 120000, 66300, 84200, 21300, 29000, 65300, 56700, 90200, 26100, 43200, 96100, 97200, 82400, 62000, 108200, 81800, 76100, 82100, 14200, 72200, 109900, 19000, 36700, 54600, 65900, 39600, 67300, 59700, 50600, 106700, 53900, 46300, 55500, 118600, 42800, 63500, 55900, 53900, 84300, 53400, 96900, 55800, 26800, 41500, 20900, 61800, 102500, 60300, 41600, 73700, 10200, 82500, 80800, 88100, 124800, 31900, 15400, 70200, 41800, 74800, 118500, 65300, 103900, 86100, 96300, 96300, 108300, 36600, 66300, 70000, 69100, 52600, 14600, 123000, 74500, 56600, 25000, 61400, 76400, 55100, 17800, 73800, 113300, 118400, 92300, 11200, 97500, 54600, 42500, 82800, 62300, 21900, 96900, 97300, 21900, 63000, 44600, 45100, 14200, 73300, 41300, 97400, 49200, 45000, 87200, 49900, 66900, 59400, 34200, 96600, 31600, 50100, 60000, 33400, 83700, 50500, 45800, 108900, 25100, 69900, 97100, 27100, 60300, 45600, 60200, 70400, 36900, 61600, 88700, 79500, 36500, 76700, 123000, 56300, 70000, 48100, 21200, 53900, 52400, 23500, 56900, 95100, 119800, 58700, 67600, 61500, 32400, 66500, 56300, 55600, 45900, 140700, 90300, 95900, 20800, 98400, 17700, 102400, 17800, 13800, 95800, 15200, 15800, 51400, 63000, 50700, 84700, 41500, 83100, 88700, 68900, 55900, 100600, 38700, 98900, 64300, 66600, 73000, 29600, 92900, 64300, 77100, 81800, 55900, 19800, 17600, 84100, 85600, 13400, 96300, 60500, 106100, 18000, 50000, 62800, 70000, 18700, 107400, 38400, 54200, 102700, 60200, 21400, 23200, 64800, 55600, 89500, 87000, 55500, 65400, 74400, 63300, 51600, 55000, 97600, 102400, 23800, 100000, 65800, 41200, 29200, 10900, 82400, 57800, 64600, 84500, 34500, 44500, 39700, 86500, 102300, 71600, 54500, 54700, 58600, 53800, 52200, 37200, 22900, 55500, 41900, 52100, 38700, 79200, 55100, 107300, 10200, 72200, 36700, 74500, 34500, 14800, 106400, 118800, 39500, 45900, 74600, 122700, 75500, 62900, 19400, 79700, 45900, 65500, 25700, 124900, 35100, 72000, 82400, 41600, 62200, 14100, 85300, 17700, 44400, 83500, 52000, 21300, 63700, 65800, 107300, 45200, 98500, 17900, 42700, 49700, 13000, 61000, 117500, 90600, 95800, 74500, 117700, 130600, 74400, 65400, 49100, 49000, 55600, 99600, 48100, 61300, 19500, 51100, 76800, 60200, 59100, 109600, 93000, 64300, 75400, 96100, 69700, 59300, 102600, 43700, 70500, 54200, 116100, 23200, 18200, 83000, 40200, 67900, 88500, 99200, 76900, 84100, 49600, 52800, 96500, 60400, 102700, 100100, 54400, 105600, 31500, 87400, 117900, 48800, 66200, 88000, 94200, 15300, 17500, 168800, 40200, 28400, 72200, 58400, 52600, 97600, 23400, 65400, 19600, 37000, 63800, 14900, 63200, 77300, 43100, 71300, 15400, 39100, 43800, 25300, 71800, 73200, 79000, 83600, 45500, 99300, 108000, 93000, 49300, 66200, 96800, 63200, 112900, 102700, 123800, 101700, 17600, 40500, 44800, 79000, 53600], \"xaxis\": \"x\", \"y\": [1318, 2436, 495, 1155, 3034, 927, 2065, 2136, 1956, 542, 827, 808, 707, 774, 2082, 2636, 2226, 584, 410, 2437, 983, 1215, 2000, 2764, 1263, 1084, 1051, 704, 1310, 2595, 4182, 964, 615, 38, 1006, 1648, 1647, 1821, 1587, 867, 643, 4558, 741, 278, 1856, 1688, 3044, 550, 2265, 1575, 1822, 1877, 873, 1472, 1702, 1857, 451, 1492, 3505, 436, 189, 1554, 633, 176, 332, 2339, 1081, 1297, 1642, 581, 3237, 2316, 646, 1217, 1293, 2408, 4894, 701, 1365, 2693, 1582, 724, 489, 1813, 3273, 1790, 3491, 1721, 2104, 202, 848, 1857, 1699, 500, 1720, 3305, 1583, 1102, 638, 1552, 979, 450, 2763, 1560, 643, 1485, 570, 1926, 2243, 1654, 677, 482, 1443, 536, 2183, 494, 917, 316, 1634, 2035, 3293, 635, 1838, 719, 1308, 400, 2492, 870, 428, 731, 2163, 1081, 1085, 1212, 1422, 713, 607, 735, 1357, 858, 1553, 922, 2321, 2555, 1186, 2842, 886, 1420, 821, 435, 1314, 296, 1156, 2464, 2091, 1690, 1274, 333, 859, 2444, 1078, 2537, 616, 297, 1583, 301, 1968, 3063, 193, 2666, 1255, 1081, 3916, 2224, 587, 1088, 1227, 1477, 1052, 307, 3671, 1481, 1607, 264, 1575, 881, 1439, 292, 3120, 5151, 3941, 2141, 106, 2837, 1246, 798, 1544, 2644, 192, 1159, 3048, 276, 1910, 236, 794, 250, 1694, 1985, 880, 210, 902, 1274, 1631, 1220, 1699, 523, 1437, 476, 1071, 966, 567, 3344, 1029, 712, 1841, 592, 2101, 1473, 268, 1252, 1388, 2304, 1127, 721, 1666, 2448, 1763, 1140, 1431, 5878, 321, 1974, 1640, 417, 1060, 857, 371, 687, 809, 2090, 1479, 1172, 968, 515, 286, 1608, 1786, 1645, 1001, 1944, 2585, 260, 1414, 268, 1237, 589, 368, 678, 324, 147, 694, 2107, 157, 2705, 1213, 586, 2693, 2784, 964, 2838, 1506, 3126, 1325, 1177, 1534, 583, 1705, 239, 568, 919, 909, 209, 245, 2362, 3380, 424, 1909, 340, 472, 303, 1079, 177, 785, 289, 1821, 188, 1405, 2381, 1364, 414, 504, 574, 984, 5209, 1594, 427, 836, 1152, 1408, 1082, 1162, 1162, 2466, 428, 2247, 1017, 841, 737, 407, 2122, 1149, 2935, 1557, 802, 1175, 1011, 2690, 2438, 1198, 1001, 1355, 989, 1803, 1909, 247, 814, 216, 654, 1668, 1009, 1905, 826, 1194, 362, 1811, 1218, 1413, 639, 376, 1757, 2631, 412, 716, 705, 4984, 2450, 2561, 563, 3384, 416, 1931, 907, 4109, 421, 1475, 1779, 1634, 1348, 328, 2523, 742, 886, 2098, 2545, 329, 1351, 578, 1566, 699, 2034, 395, 541, 2844, 43, 975, 927, 3167, 2581, 824, 2104, 3442, 1893, 2290, 934, 1523, 952, 871, 961, 1241, 571, 1984, 1061, 1955, 580, 2318, 2644, 661, 2723, 1588, 1432, 929, 2546, 1344, 2145, 757, 2975, 534, 401, 726, 1197, 1418, 1104, 2796, 3230, 1352, 770, 926, 3780, 791, 1473, 1597, 1150, 304, 269, 2729, 1760, 1271, 1024, 524, 1211, 645, 472, 1512, 1634, 182, 1042, 829, 1773, 2902, 348, 2296, 395, 850, 1622, 422, 1932, 1853, 1224, 1543, 172, 1001, 606, 591, 1389, 2177, 2279, 538, 754, 1504, 1849, 1046, 1692, 2057, 2299, 1507, 6217, 3785, 3537, 941, 273, 1073, 1417, 671, 973], \"yaxis\": \"y\"}, {\"hovertemplate\": \"<b>OLS trendline</b><br>AmountSpent = 0.0212297 * Salary + 49.8502<br>R<sup>2</sup>=0.417285<br><br>Gender=Male<br>Salary=%{x}<br>AmountSpent=%{y} <b>(trend)</b><extra></extra>\", \"legendgroup\": \"Male\", \"marker\": {\"color\": \"#EF553B\", \"symbol\": \"circle\"}, \"mode\": \"lines\", \"name\": \"Male\", \"showlegend\": false, \"type\": \"scatter\", \"x\": [10200, 10200, 10400, 10900, 11200, 13000, 13400, 13800, 13900, 14100, 14200, 14200, 14400, 14600, 14800, 14800, 14900, 15000, 15200, 15300, 15400, 15400, 15800, 17000, 17400, 17500, 17600, 17600, 17700, 17700, 17800, 17800, 17900, 18000, 18200, 18700, 19000, 19100, 19400, 19500, 19600, 19800, 20200, 20300, 20400, 20800, 20900, 20900, 21000, 21200, 21300, 21300, 21400, 21700, 21900, 21900, 22900, 23200, 23200, 23400, 23500, 23800, 25000, 25100, 25300, 25700, 25800, 26100, 26800, 27100, 27400, 28400, 29000, 29200, 29600, 30400, 31500, 31600, 31900, 32400, 33000, 33400, 34200, 34300, 34500, 34500, 35100, 36500, 36600, 36700, 36700, 36900, 37000, 37200, 38400, 38600, 38700, 38700, 39000, 39100, 39500, 39600, 39700, 40200, 40200, 40500, 41200, 41300, 41400, 41500, 41500, 41600, 41600, 41800, 41900, 42300, 42500, 42700, 42800, 43100, 43200, 43500, 43700, 43700, 43800, 44400, 44500, 44600, 44800, 45000, 45100, 45200, 45500, 45600, 45700, 45800, 45800, 45900, 45900, 45900, 46300, 47000, 47200, 48100, 48100, 48800, 48800, 49000, 49100, 49200, 49300, 49600, 49700, 49800, 49900, 50000, 50100, 50500, 50600, 50700, 51100, 51200, 51400, 51600, 51900, 52000, 52100, 52200, 52400, 52600, 52600, 52800, 52900, 53300, 53400, 53600, 53600, 53700, 53800, 53900, 53900, 53900, 54200, 54200, 54400, 54500, 54600, 54600, 54700, 54700, 55000, 55100, 55100, 55500, 55500, 55500, 55600, 55600, 55600, 55800, 55900, 55900, 55900, 56300, 56300, 56300, 56600, 56700, 56900, 56900, 57600, 57800, 58300, 58400, 58600, 58700, 58900, 59000, 59100, 59300, 59400, 59600, 59700, 59700, 60000, 60200, 60200, 60200, 60200, 60300, 60300, 60300, 60300, 60400, 60500, 61000, 61300, 61400, 61500, 61600, 61800, 62000, 62200, 62200, 62300, 62700, 62800, 62800, 62900, 63000, 63000, 63200, 63200, 63300, 63300, 63500, 63600, 63700, 63800, 64000, 64000, 64200, 64300, 64300, 64300, 64600, 64800, 65300, 65300, 65400, 65400, 65400, 65500, 65800, 65800, 65900, 66200, 66200, 66300, 66300, 66500, 66600, 66700, 66900, 67300, 67600, 67700, 67800, 67900, 68400, 68700, 68700, 68900, 69100, 69700, 69800, 69900, 70000, 70000, 70000, 70200, 70200, 70400, 70500, 71200, 71300, 71500, 71600, 71800, 72000, 72200, 72200, 72200, 72200, 72300, 72500, 73000, 73100, 73200, 73300, 73700, 73800, 74400, 74400, 74500, 74500, 74500, 74600, 74800, 75400, 75500, 75500, 76100, 76200, 76400, 76700, 76800, 76900, 77000, 77100, 77300, 77700, 77800, 79000, 79000, 79200, 79500, 79600, 79700, 80700, 80700, 80800, 81200, 81200, 81800, 81800, 82100, 82400, 82400, 82400, 82500, 82800, 83000, 83100, 83500, 83600, 83700, 83900, 84100, 84100, 84200, 84300, 84300, 84500, 84700, 85300, 85600, 85600, 86100, 86500, 87000, 87100, 87200, 87400, 88000, 88100, 88500, 88700, 88700, 89500, 90100, 90200, 90300, 90600, 90700, 92300, 92900, 93000, 93000, 94200, 95100, 95800, 95800, 95900, 96100, 96100, 96300, 96300, 96300, 96400, 96500, 96600, 96800, 96900, 96900, 97100, 97200, 97300, 97400, 97500, 97600, 97600, 98400, 98400, 98500, 98900, 99200, 99300, 99600, 100000, 100100, 100100, 100600, 101700, 102300, 102400, 102400, 102500, 102600, 102700, 102700, 102700, 103700, 103900, 104100, 105300, 105600, 106100, 106400, 106600, 106700, 107300, 107300, 107400, 107400, 108000, 108200, 108300, 108900, 109200, 109600, 109900, 111400, 111800, 112900, 113000, 113300, 113400, 113600, 113800, 116100, 117500, 117700, 117900, 118400, 118500, 118600, 118800, 119800, 120000, 122100, 122700, 123000, 123000, 123800, 124800, 124900, 126500, 127000, 130600, 134500, 140000, 140700, 168800], \"xaxis\": \"x\", \"y\": [266.3933986209777, 266.3933986209777, 270.6393439306896, 281.2542072049695, 287.6231251695374, 325.83663295694487, 334.32852357636875, 342.82041419579264, 344.9433868506486, 349.18933216036055, 351.3123048152165, 351.3123048152165, 355.55825012492846, 359.8041954346404, 364.05014074435235, 364.05014074435235, 366.1731133992083, 368.2960860540643, 372.54203136377623, 374.6650040186322, 376.7879766734882, 376.7879766734882, 385.27986729291206, 410.7555391511837, 419.24742977060765, 421.3704024254636, 423.4933750803196, 423.4933750803196, 425.61634773517557, 425.61634773517557, 427.73932039003154, 427.73932039003154, 429.8622930448875, 431.9852656997435, 436.2312110094554, 446.8460742837353, 453.2149922483032, 455.33796490315916, 461.7068828677271, 463.82985552258305, 465.952828177439, 470.19877348715096, 478.69066410657484, 480.8136367614308, 482.9366094162868, 491.42850003571067, 493.55147269056664, 493.55147269056664, 495.6744453454226, 499.92039065513455, 502.0433633099905, 502.0433633099905, 504.1663359648465, 510.5352539294144, 514.7811992391263, 514.7811992391263, 536.010925787686, 542.3798437522539, 542.3798437522539, 546.6257890619659, 548.7487617168218, 555.1176796813897, 580.5933515396614, 582.7163241945174, 586.9622695042293, 595.4541601236532, 597.5771327785092, 603.9460507430771, 618.8068593270689, 625.1757772916368, 631.5446952562047, 652.7744218047644, 665.5122577339002, 669.7582030436122, 678.2500936630361, 695.2338749018838, 718.5865741052995, 720.7095467601555, 727.0784647247234, 737.6933279990033, 750.4311639281391, 758.923054547563, 775.9068357864109, 778.0298084412668, 782.2757537509788, 782.2757537509788, 795.0135896801146, 824.7352068480982, 826.8581795029542, 828.9811521578101, 828.9811521578101, 833.2270974675221, 835.350070122378, 839.59601543209, 865.0716872903616, 869.3176326000736, 871.4406052549296, 871.4406052549296, 877.8095232194975, 879.9324958743534, 888.4243864937773, 890.5473591486333, 892.6703318034893, 903.2851950777691, 903.2851950777691, 909.654113042337, 924.5149216263288, 926.6378942811848, 928.7608669360408, 930.8838395908967, 930.8838395908967, 933.0068122457527, 933.0068122457527, 937.2527575554647, 939.3757302103206, 947.8676208297445, 952.1135661394565, 956.3595114491684, 958.4824841040244, 964.8514020685923, 966.9743747234482, 973.3432926880162, 977.5892379977281, 977.5892379977281, 979.7122106525841, 992.4500465817199, 994.5730192365759, 996.6959918914318, 1000.9419372011438, 1005.1878825108557, 1007.3108551657117, 1009.4338278205677, 1015.8027457851356, 1017.9257184399916, 1020.0486910948475, 1022.1716637497035, 1022.1716637497035, 1024.2946364045595, 1024.2946364045595, 1024.2946364045595, 1032.7865270239834, 1047.6473356079753, 1051.8932809176872, 1071.0000348113908, 1071.0000348113908, 1085.8608433953827, 1085.8608433953827, 1090.1067887050947, 1092.2297613599508, 1094.3527340148066, 1096.4757066696627, 1102.8446246342305, 1104.9675972890866, 1107.0905699439425, 1109.2135425987985, 1111.3365152536544, 1113.4594879085105, 1121.9513785279344, 1124.0743511827902, 1126.1973238376463, 1134.6892144570702, 1136.812187111926, 1141.058132421638, 1145.30407773135, 1151.672995695918, 1153.7959683507738, 1155.91894100563, 1158.0419136604858, 1162.2878589701977, 1166.5338042799096, 1166.5338042799096, 1170.7797495896216, 1172.9027222444777, 1181.3946128639016, 1183.5175855187574, 1187.7635308284694, 1187.7635308284694, 1189.8865034833254, 1192.0094761381813, 1194.1324487930374, 1194.1324487930374, 1194.1324487930374, 1200.5013667576052, 1200.5013667576052, 1204.7473120673171, 1206.8702847221732, 1208.993257377029, 1208.993257377029, 1211.1162300318852, 1211.1162300318852, 1217.485147996453, 1219.608120651309, 1219.608120651309, 1228.100011270733, 1228.100011270733, 1228.100011270733, 1230.2229839255888, 1230.2229839255888, 1230.2229839255888, 1234.4689292353007, 1236.5919018901568, 1236.5919018901568, 1236.5919018901568, 1245.0837925095807, 1245.0837925095807, 1245.0837925095807, 1251.4527104741485, 1253.5756831290046, 1257.8216284387165, 1257.8216284387165, 1272.6824370227082, 1276.9283823324201, 1287.5432456067, 1289.666218261556, 1293.912163571268, 1296.035136226124, 1300.281081535836, 1302.4040541906918, 1304.5270268455479, 1308.7729721552598, 1310.8959448101157, 1315.1418901198276, 1317.2648627746837, 1317.2648627746837, 1323.6337807392515, 1327.8797260489634, 1327.8797260489634, 1327.8797260489634, 1327.8797260489634, 1330.0026987038195, 1330.0026987038195, 1330.0026987038195, 1330.0026987038195, 1332.1256713586754, 1334.2486440135315, 1344.8635072878112, 1351.2324252523792, 1353.355397907235, 1355.4783705620912, 1357.601343216947, 1361.847288526659, 1366.093233836371, 1370.3391791460829, 1370.3391791460829, 1372.462151800939, 1380.9540424203628, 1383.0770150752187, 1383.0770150752187, 1385.1999877300748, 1387.3229603849306, 1387.3229603849306, 1391.5689056946426, 1391.5689056946426, 1393.6918783494987, 1393.6918783494987, 1397.9378236592106, 1400.0607963140665, 1402.1837689689225, 1404.3067416237784, 1408.5526869334903, 1408.5526869334903, 1412.7986322432023, 1414.9216048980584, 1414.9216048980584, 1414.9216048980584, 1421.2905228626262, 1425.5364681723381, 1436.151331446618, 1436.151331446618, 1438.274304101474, 1438.274304101474, 1438.274304101474, 1440.39727675633, 1446.7661947208978, 1446.7661947208978, 1448.889167375754, 1455.2580853403217, 1455.2580853403217, 1457.3810579951778, 1457.3810579951778, 1461.6270033048897, 1463.7499759597456, 1465.8729486146017, 1470.1188939243136, 1478.6107845437375, 1484.9797025083053, 1487.1026751631614, 1489.2256478180173, 1491.3486204728733, 1501.9634837471533, 1508.332401711721, 1508.332401711721, 1512.578347021433, 1516.824292331145, 1529.5621282602808, 1531.685100915137, 1533.8080735699928, 1535.9310462248488, 1535.9310462248488, 1535.9310462248488, 1540.1769915345608, 1540.1769915345608, 1544.4229368442727, 1546.5459094991286, 1561.4067180831205, 1563.5296907379764, 1567.7756360476883, 1569.8986087025444, 1574.1445540122563, 1578.3904993219683, 1582.6364446316802, 1582.6364446316802, 1582.6364446316802, 1582.6364446316802, 1584.759417286536, 1589.005362596248, 1599.620225870528, 1601.7431985253838, 1603.86617118024, 1605.9891438350958, 1614.4810344545197, 1616.6040071093757, 1629.3418430385116, 1629.3418430385116, 1631.4648156933674, 1631.4648156933674, 1631.4648156933674, 1633.5877883482235, 1637.8337336579355, 1650.5715695870713, 1652.6945422419271, 1652.6945422419271, 1665.432378171063, 1667.555350825919, 1671.801296135631, 1678.1702141001988, 1680.2931867550549, 1682.4161594099107, 1684.5391320647668, 1686.6621047196227, 1690.9080500293346, 1699.3999406487585, 1701.5229133036146, 1726.9985851618862, 1726.9985851618862, 1731.2445304715982, 1737.613448436166, 1739.736421091022, 1741.859393745878, 1763.0891202944376, 1763.0891202944376, 1765.2120929492937, 1773.7039835687176, 1773.7039835687176, 1786.4418194978534, 1786.4418194978534, 1792.8107374624212, 1799.1796554269893, 1799.1796554269893, 1799.1796554269893, 1801.3026280818451, 1807.6715460464131, 1811.917491356125, 1814.040464010981, 1822.5323546304048, 1824.655327285261, 1826.7782999401168, 1831.0242452498287, 1835.2701905595407, 1835.2701905595407, 1837.3931632143967, 1839.5161358692526, 1839.5161358692526, 1843.7620811789645, 1848.0080264886765, 1860.7458624178123, 1867.1147803823803, 1867.1147803823803, 1877.72964365666, 1886.221534276084, 1896.836397550364, 1898.9593702052198, 1901.0823428600759, 1905.3282881697878, 1918.0661240989236, 1920.1890967537795, 1928.6809873732034, 1932.9269326829153, 1932.9269326829153, 1949.910713921763, 1962.648549850899, 1964.771522505755, 1966.8944951606109, 1973.2634131251789, 1975.3863857800347, 2009.3539482577305, 2022.0917841868663, 2024.2147568417222, 2024.2147568417222, 2049.690428699994, 2068.7971825936975, 2083.6579911776894, 2083.6579911776894, 2085.7809638325452, 2090.0269091422574, 2090.0269091422574, 2094.272854451969, 2094.272854451969, 2094.272854451969, 2096.395827106825, 2098.518799761681, 2100.641772416537, 2104.887717726249, 2107.0106903811047, 2107.0106903811047, 2111.256635690817, 2113.3796083456728, 2115.5025810005286, 2117.625553655385, 2119.748526310241, 2121.8714989650966, 2121.8714989650966, 2138.8552802039444, 2138.8552802039444, 2140.9782528588003, 2149.470143478224, 2155.839061442792, 2157.962034097648, 2164.330952062216, 2172.82284268164, 2174.945815336496, 2174.945815336496, 2185.560678610776, 2208.9133778141913, 2221.6512137433274, 2223.7741863981832, 2223.7741863981832, 2225.897159053039, 2228.0201317078954, 2230.1431043627513, 2230.1431043627513, 2230.1431043627513, 2251.3728309113108, 2255.618776221023, 2259.8647215307346, 2285.3403933890063, 2291.7093113535743, 2302.324174627854, 2308.693092592422, 2312.9390379021343, 2315.06201055699, 2327.7998464861257, 2327.7998464861257, 2329.922819140982, 2329.922819140982, 2342.6606550701176, 2346.90660037983, 2349.0295730346857, 2361.7674089638213, 2368.1363269283893, 2376.628217547813, 2382.997135512381, 2414.841725335221, 2423.3336159546448, 2446.68631515806, 2448.8092878129164, 2455.178205777484, 2457.3011784323403, 2461.547123742052, 2465.793069051764, 2514.6214401134516, 2544.343057281435, 2548.589002591147, 2552.834947900859, 2563.4498111751386, 2565.572783829995, 2567.695756484851, 2571.9417017945625, 2593.1714283431224, 2597.417373652834, 2641.99979940481, 2654.7376353339455, 2661.1065532985135, 2661.1065532985135, 2678.0903345373613, 2699.3200610859208, 2701.443033740777, 2735.4105962184726, 2746.0254594927524, 2822.4524750675673, 2905.2484086069503, 3022.011904624029, 3036.8727132080203, 3633.4280292225485], \"yaxis\": \"y\"}],                        {\"legend\": {\"title\": {\"text\": \"Gender\"}, \"tracegroupgap\": 0}, \"margin\": {\"t\": 60}, \"template\": {\"data\": {\"bar\": [{\"error_x\": {\"color\": \"#2a3f5f\"}, \"error_y\": {\"color\": \"#2a3f5f\"}, \"marker\": {\"line\": {\"color\": \"#E5ECF6\", \"width\": 0.5}}, \"type\": \"bar\"}], \"barpolar\": [{\"marker\": {\"line\": {\"color\": \"#E5ECF6\", \"width\": 0.5}}, \"type\": \"barpolar\"}], \"carpet\": [{\"aaxis\": {\"endlinecolor\": \"#2a3f5f\", \"gridcolor\": \"white\", \"linecolor\": \"white\", \"minorgridcolor\": \"white\", \"startlinecolor\": \"#2a3f5f\"}, \"baxis\": {\"endlinecolor\": \"#2a3f5f\", \"gridcolor\": \"white\", \"linecolor\": \"white\", \"minorgridcolor\": \"white\", \"startlinecolor\": \"#2a3f5f\"}, \"type\": \"carpet\"}], \"choropleth\": [{\"colorbar\": {\"outlinewidth\": 0, \"ticks\": \"\"}, \"type\": \"choropleth\"}], \"contour\": [{\"colorbar\": {\"outlinewidth\": 0, \"ticks\": \"\"}, \"colorscale\": [[0.0, \"#0d0887\"], [0.1111111111111111, \"#46039f\"], [0.2222222222222222, \"#7201a8\"], [0.3333333333333333, \"#9c179e\"], [0.4444444444444444, \"#bd3786\"], [0.5555555555555556, \"#d8576b\"], [0.6666666666666666, \"#ed7953\"], [0.7777777777777778, \"#fb9f3a\"], [0.8888888888888888, \"#fdca26\"], [1.0, \"#f0f921\"]], \"type\": \"contour\"}], \"contourcarpet\": [{\"colorbar\": {\"outlinewidth\": 0, \"ticks\": \"\"}, \"type\": \"contourcarpet\"}], \"heatmap\": [{\"colorbar\": {\"outlinewidth\": 0, \"ticks\": \"\"}, \"colorscale\": [[0.0, \"#0d0887\"], [0.1111111111111111, \"#46039f\"], [0.2222222222222222, \"#7201a8\"], [0.3333333333333333, \"#9c179e\"], [0.4444444444444444, \"#bd3786\"], [0.5555555555555556, \"#d8576b\"], [0.6666666666666666, \"#ed7953\"], [0.7777777777777778, \"#fb9f3a\"], [0.8888888888888888, \"#fdca26\"], [1.0, \"#f0f921\"]], \"type\": \"heatmap\"}], \"heatmapgl\": [{\"colorbar\": {\"outlinewidth\": 0, \"ticks\": \"\"}, \"colorscale\": [[0.0, \"#0d0887\"], [0.1111111111111111, \"#46039f\"], [0.2222222222222222, \"#7201a8\"], [0.3333333333333333, \"#9c179e\"], [0.4444444444444444, \"#bd3786\"], [0.5555555555555556, \"#d8576b\"], [0.6666666666666666, \"#ed7953\"], [0.7777777777777778, \"#fb9f3a\"], [0.8888888888888888, \"#fdca26\"], [1.0, \"#f0f921\"]], \"type\": \"heatmapgl\"}], \"histogram\": [{\"marker\": {\"colorbar\": {\"outlinewidth\": 0, \"ticks\": \"\"}}, \"type\": \"histogram\"}], \"histogram2d\": [{\"colorbar\": {\"outlinewidth\": 0, \"ticks\": \"\"}, \"colorscale\": [[0.0, \"#0d0887\"], [0.1111111111111111, \"#46039f\"], [0.2222222222222222, \"#7201a8\"], [0.3333333333333333, \"#9c179e\"], [0.4444444444444444, \"#bd3786\"], [0.5555555555555556, \"#d8576b\"], [0.6666666666666666, \"#ed7953\"], [0.7777777777777778, \"#fb9f3a\"], [0.8888888888888888, \"#fdca26\"], [1.0, \"#f0f921\"]], \"type\": \"histogram2d\"}], \"histogram2dcontour\": [{\"colorbar\": {\"outlinewidth\": 0, \"ticks\": \"\"}, \"colorscale\": [[0.0, \"#0d0887\"], [0.1111111111111111, \"#46039f\"], [0.2222222222222222, \"#7201a8\"], [0.3333333333333333, \"#9c179e\"], [0.4444444444444444, \"#bd3786\"], [0.5555555555555556, \"#d8576b\"], [0.6666666666666666, \"#ed7953\"], [0.7777777777777778, \"#fb9f3a\"], [0.8888888888888888, \"#fdca26\"], [1.0, \"#f0f921\"]], \"type\": \"histogram2dcontour\"}], \"mesh3d\": [{\"colorbar\": {\"outlinewidth\": 0, \"ticks\": \"\"}, \"type\": \"mesh3d\"}], \"parcoords\": [{\"line\": {\"colorbar\": {\"outlinewidth\": 0, \"ticks\": \"\"}}, \"type\": \"parcoords\"}], \"pie\": [{\"automargin\": true, \"type\": \"pie\"}], \"scatter\": [{\"marker\": {\"colorbar\": {\"outlinewidth\": 0, \"ticks\": \"\"}}, \"type\": \"scatter\"}], \"scatter3d\": [{\"line\": {\"colorbar\": {\"outlinewidth\": 0, \"ticks\": \"\"}}, \"marker\": {\"colorbar\": {\"outlinewidth\": 0, \"ticks\": \"\"}}, \"type\": \"scatter3d\"}], \"scattercarpet\": [{\"marker\": {\"colorbar\": {\"outlinewidth\": 0, \"ticks\": \"\"}}, \"type\": \"scattercarpet\"}], \"scattergeo\": [{\"marker\": {\"colorbar\": {\"outlinewidth\": 0, \"ticks\": \"\"}}, \"type\": \"scattergeo\"}], \"scattergl\": [{\"marker\": {\"colorbar\": {\"outlinewidth\": 0, \"ticks\": \"\"}}, \"type\": \"scattergl\"}], \"scattermapbox\": [{\"marker\": {\"colorbar\": {\"outlinewidth\": 0, \"ticks\": \"\"}}, \"type\": \"scattermapbox\"}], \"scatterpolar\": [{\"marker\": {\"colorbar\": {\"outlinewidth\": 0, \"ticks\": \"\"}}, \"type\": \"scatterpolar\"}], \"scatterpolargl\": [{\"marker\": {\"colorbar\": {\"outlinewidth\": 0, \"ticks\": \"\"}}, \"type\": \"scatterpolargl\"}], \"scatterternary\": [{\"marker\": {\"colorbar\": {\"outlinewidth\": 0, \"ticks\": \"\"}}, \"type\": \"scatterternary\"}], \"surface\": [{\"colorbar\": {\"outlinewidth\": 0, \"ticks\": \"\"}, \"colorscale\": [[0.0, \"#0d0887\"], [0.1111111111111111, \"#46039f\"], [0.2222222222222222, \"#7201a8\"], [0.3333333333333333, \"#9c179e\"], [0.4444444444444444, \"#bd3786\"], [0.5555555555555556, \"#d8576b\"], [0.6666666666666666, \"#ed7953\"], [0.7777777777777778, \"#fb9f3a\"], [0.8888888888888888, \"#fdca26\"], [1.0, \"#f0f921\"]], \"type\": \"surface\"}], \"table\": [{\"cells\": {\"fill\": {\"color\": \"#EBF0F8\"}, \"line\": {\"color\": \"white\"}}, \"header\": {\"fill\": {\"color\": \"#C8D4E3\"}, \"line\": {\"color\": \"white\"}}, \"type\": \"table\"}]}, \"layout\": {\"annotationdefaults\": {\"arrowcolor\": \"#2a3f5f\", \"arrowhead\": 0, \"arrowwidth\": 1}, \"coloraxis\": {\"colorbar\": {\"outlinewidth\": 0, \"ticks\": \"\"}}, \"colorscale\": {\"diverging\": [[0, \"#8e0152\"], [0.1, \"#c51b7d\"], [0.2, \"#de77ae\"], [0.3, \"#f1b6da\"], [0.4, \"#fde0ef\"], [0.5, \"#f7f7f7\"], [0.6, \"#e6f5d0\"], [0.7, \"#b8e186\"], [0.8, \"#7fbc41\"], [0.9, \"#4d9221\"], [1, \"#276419\"]], \"sequential\": [[0.0, \"#0d0887\"], [0.1111111111111111, \"#46039f\"], [0.2222222222222222, \"#7201a8\"], [0.3333333333333333, \"#9c179e\"], [0.4444444444444444, \"#bd3786\"], [0.5555555555555556, \"#d8576b\"], [0.6666666666666666, \"#ed7953\"], [0.7777777777777778, \"#fb9f3a\"], [0.8888888888888888, \"#fdca26\"], [1.0, \"#f0f921\"]], \"sequentialminus\": [[0.0, \"#0d0887\"], [0.1111111111111111, \"#46039f\"], [0.2222222222222222, \"#7201a8\"], [0.3333333333333333, \"#9c179e\"], [0.4444444444444444, \"#bd3786\"], [0.5555555555555556, \"#d8576b\"], [0.6666666666666666, \"#ed7953\"], [0.7777777777777778, \"#fb9f3a\"], [0.8888888888888888, \"#fdca26\"], [1.0, \"#f0f921\"]]}, \"colorway\": [\"#636efa\", \"#EF553B\", \"#00cc96\", \"#ab63fa\", \"#FFA15A\", \"#19d3f3\", \"#FF6692\", \"#B6E880\", \"#FF97FF\", \"#FECB52\"], \"font\": {\"color\": \"#2a3f5f\"}, \"geo\": {\"bgcolor\": \"white\", \"lakecolor\": \"white\", \"landcolor\": \"#E5ECF6\", \"showlakes\": true, \"showland\": true, \"subunitcolor\": \"white\"}, \"hoverlabel\": {\"align\": \"left\"}, \"hovermode\": \"closest\", \"mapbox\": {\"style\": \"light\"}, \"paper_bgcolor\": \"white\", \"plot_bgcolor\": \"#E5ECF6\", \"polar\": {\"angularaxis\": {\"gridcolor\": \"white\", \"linecolor\": \"white\", \"ticks\": \"\"}, \"bgcolor\": \"#E5ECF6\", \"radialaxis\": {\"gridcolor\": \"white\", \"linecolor\": \"white\", \"ticks\": \"\"}}, \"scene\": {\"xaxis\": {\"backgroundcolor\": \"#E5ECF6\", \"gridcolor\": \"white\", \"gridwidth\": 2, \"linecolor\": \"white\", \"showbackground\": true, \"ticks\": \"\", \"zerolinecolor\": \"white\"}, \"yaxis\": {\"backgroundcolor\": \"#E5ECF6\", \"gridcolor\": \"white\", \"gridwidth\": 2, \"linecolor\": \"white\", \"showbackground\": true, \"ticks\": \"\", \"zerolinecolor\": \"white\"}, \"zaxis\": {\"backgroundcolor\": \"#E5ECF6\", \"gridcolor\": \"white\", \"gridwidth\": 2, \"linecolor\": \"white\", \"showbackground\": true, \"ticks\": \"\", \"zerolinecolor\": \"white\"}}, \"shapedefaults\": {\"line\": {\"color\": \"#2a3f5f\"}}, \"ternary\": {\"aaxis\": {\"gridcolor\": \"white\", \"linecolor\": \"white\", \"ticks\": \"\"}, \"baxis\": {\"gridcolor\": \"white\", \"linecolor\": \"white\", \"ticks\": \"\"}, \"bgcolor\": \"#E5ECF6\", \"caxis\": {\"gridcolor\": \"white\", \"linecolor\": \"white\", \"ticks\": \"\"}}, \"title\": {\"x\": 0.05}, \"xaxis\": {\"automargin\": true, \"gridcolor\": \"white\", \"linecolor\": \"white\", \"ticks\": \"\", \"title\": {\"standoff\": 15}, \"zerolinecolor\": \"white\", \"zerolinewidth\": 2}, \"yaxis\": {\"automargin\": true, \"gridcolor\": \"white\", \"linecolor\": \"white\", \"ticks\": \"\", \"title\": {\"standoff\": 15}, \"zerolinecolor\": \"white\", \"zerolinewidth\": 2}}}, \"title\": {\"text\": \"Gender With Salary Vs Amount Spent \", \"x\": 0.5}, \"xaxis\": {\"anchor\": \"y\", \"domain\": [0.0, 1.0], \"title\": {\"text\": \"Salary\"}}, \"yaxis\": {\"anchor\": \"x\", \"domain\": [0.0, 1.0], \"title\": {\"text\": \"Amount Spent\"}}},                        {\"responsive\": true}                    ).then(function(){\n",
       "                            \n",
       "var gd = document.getElementById('d63c7d9c-18f1-43d5-ab52-c5071a340658');\n",
       "var x = new MutationObserver(function (mutations, observer) {{\n",
       "        var display = window.getComputedStyle(gd).display;\n",
       "        if (!display || display === 'none') {{\n",
       "            console.log([gd, 'removed!']);\n",
       "            Plotly.purge(gd);\n",
       "            observer.disconnect();\n",
       "        }}\n",
       "}});\n",
       "\n",
       "// Listen for the removal of the full notebook cells\n",
       "var notebookContainer = gd.closest('#notebook-container');\n",
       "if (notebookContainer) {{\n",
       "    x.observe(notebookContainer, {childList: true});\n",
       "}}\n",
       "\n",
       "// Listen for the clearing of the current output cell\n",
       "var outputEl = gd.closest('.output');\n",
       "if (outputEl) {{\n",
       "    x.observe(outputEl, {childList: true});\n",
       "}}\n",
       "\n",
       "                        })                };                });            </script>        </div>"
      ]
     },
     "metadata": {},
     "output_type": "display_data"
    }
   ],
   "source": [
    "# Scatter plot - Category\n",
    "\n",
    "fig = px.scatter(df, x='Salary', y='AmountSpent',trendline=\"ols\",\n",
    "                 color='Gender') # Added color to basic scatter\n",
    "fig.update_layout(title='Gender With Salary Vs Amount Spent ',xaxis_title=\"Salary\",yaxis_title=\"Amount Spent\",title_x=0.5)\n",
    "fig.show()"
   ]
  },
  {
   "cell_type": "markdown",
   "metadata": {
    "papermill": {
     "duration": 0.1928,
     "end_time": "2020-12-10T12:48:00.753927",
     "exception": false,
     "start_time": "2020-12-10T12:48:00.561127",
     "status": "completed"
    },
    "tags": []
   },
   "source": [
    "* How is the age distribution by gender?"
   ]
  },
  {
   "cell_type": "code",
   "execution_count": 25,
   "metadata": {
    "execution": {
     "iopub.execute_input": "2020-12-10T12:48:01.151528Z",
     "iopub.status.busy": "2020-12-10T12:48:01.150703Z",
     "iopub.status.idle": "2020-12-10T12:48:01.166761Z",
     "shell.execute_reply": "2020-12-10T12:48:01.166056Z"
    },
    "papermill": {
     "duration": 0.219825,
     "end_time": "2020-12-10T12:48:01.166900",
     "exception": false,
     "start_time": "2020-12-10T12:48:00.947075",
     "status": "completed"
    },
    "tags": []
   },
   "outputs": [
    {
     "data": {
      "text/html": [
       "<div>\n",
       "<style scoped>\n",
       "    .dataframe tbody tr th:only-of-type {\n",
       "        vertical-align: middle;\n",
       "    }\n",
       "\n",
       "    .dataframe tbody tr th {\n",
       "        vertical-align: top;\n",
       "    }\n",
       "\n",
       "    .dataframe thead th {\n",
       "        text-align: right;\n",
       "    }\n",
       "</style>\n",
       "<table border=\"1\" class=\"dataframe\">\n",
       "  <thead>\n",
       "    <tr style=\"text-align: right;\">\n",
       "      <th></th>\n",
       "      <th>Gender</th>\n",
       "      <th>Age</th>\n",
       "      <th>count</th>\n",
       "    </tr>\n",
       "  </thead>\n",
       "  <tbody>\n",
       "    <tr>\n",
       "      <th>0</th>\n",
       "      <td>Female</td>\n",
       "      <td>Middle</td>\n",
       "      <td>206</td>\n",
       "    </tr>\n",
       "    <tr>\n",
       "      <th>1</th>\n",
       "      <td>Female</td>\n",
       "      <td>Old</td>\n",
       "      <td>129</td>\n",
       "    </tr>\n",
       "    <tr>\n",
       "      <th>2</th>\n",
       "      <td>Female</td>\n",
       "      <td>Young</td>\n",
       "      <td>171</td>\n",
       "    </tr>\n",
       "    <tr>\n",
       "      <th>3</th>\n",
       "      <td>Male</td>\n",
       "      <td>Middle</td>\n",
       "      <td>302</td>\n",
       "    </tr>\n",
       "    <tr>\n",
       "      <th>4</th>\n",
       "      <td>Male</td>\n",
       "      <td>Old</td>\n",
       "      <td>76</td>\n",
       "    </tr>\n",
       "    <tr>\n",
       "      <th>5</th>\n",
       "      <td>Male</td>\n",
       "      <td>Young</td>\n",
       "      <td>116</td>\n",
       "    </tr>\n",
       "  </tbody>\n",
       "</table>\n",
       "</div>"
      ],
      "text/plain": [
       "   Gender     Age  count\n",
       "0  Female  Middle    206\n",
       "1  Female     Old    129\n",
       "2  Female   Young    171\n",
       "3    Male  Middle    302\n",
       "4    Male     Old     76\n",
       "5    Male   Young    116"
      ]
     },
     "execution_count": 25,
     "metadata": {},
     "output_type": "execute_result"
    }
   ],
   "source": [
    "df_G_and_A=df.groupby(by =['Gender','Age'])['Married'].count().to_frame().reset_index().rename(columns={'Gender':'Gender','Age':'Age','Married':'count'})\n",
    "df_G_and_A"
   ]
  },
  {
   "cell_type": "markdown",
   "metadata": {
    "papermill": {
     "duration": 0.200845,
     "end_time": "2020-12-10T12:48:01.561464",
     "exception": false,
     "start_time": "2020-12-10T12:48:01.360619",
     "status": "completed"
    },
    "tags": []
   },
   "source": [
    "* The highest number of customers is middle age men\n",
    "* Lowest number of customers older men"
   ]
  },
  {
   "cell_type": "code",
   "execution_count": 26,
   "metadata": {
    "execution": {
     "iopub.execute_input": "2020-12-10T12:48:01.968323Z",
     "iopub.status.busy": "2020-12-10T12:48:01.967200Z",
     "iopub.status.idle": "2020-12-10T12:48:02.064117Z",
     "shell.execute_reply": "2020-12-10T12:48:02.063490Z"
    },
    "papermill": {
     "duration": 0.301974,
     "end_time": "2020-12-10T12:48:02.064257",
     "exception": false,
     "start_time": "2020-12-10T12:48:01.762283",
     "status": "completed"
    },
    "tags": []
   },
   "outputs": [
    {
     "data": {
      "text/html": [
       "<div>                            <div id=\"a093ea51-b44f-4a0e-97f4-2e300d73b926\" class=\"plotly-graph-div\" style=\"height:525px; width:100%;\"></div>            <script type=\"text/javascript\">                require([\"plotly\"], function(Plotly) {                    window.PLOTLYENV=window.PLOTLYENV || {};                                    if (document.getElementById(\"a093ea51-b44f-4a0e-97f4-2e300d73b926\")) {                    Plotly.newPlot(                        \"a093ea51-b44f-4a0e-97f4-2e300d73b926\",                        [{\"alignmentgroup\": \"True\", \"hovertemplate\": \"Gender=Female<br>Age=%{x}<br>count=%{y}<extra></extra>\", \"legendgroup\": \"Female\", \"marker\": {\"color\": \"#636efa\"}, \"name\": \"Female\", \"offsetgroup\": \"Female\", \"orientation\": \"v\", \"showlegend\": true, \"textposition\": \"auto\", \"type\": \"bar\", \"x\": [\"Middle\", \"Old\", \"Young\"], \"xaxis\": \"x\", \"y\": [206, 129, 171], \"yaxis\": \"y\"}, {\"alignmentgroup\": \"True\", \"hovertemplate\": \"Gender=Male<br>Age=%{x}<br>count=%{y}<extra></extra>\", \"legendgroup\": \"Male\", \"marker\": {\"color\": \"#EF553B\"}, \"name\": \"Male\", \"offsetgroup\": \"Male\", \"orientation\": \"v\", \"showlegend\": true, \"textposition\": \"auto\", \"type\": \"bar\", \"x\": [\"Middle\", \"Old\", \"Young\"], \"xaxis\": \"x\", \"y\": [302, 76, 116], \"yaxis\": \"y\"}],                        {\"barmode\": \"group\", \"legend\": {\"title\": {\"text\": \"Gender\"}, \"tracegroupgap\": 0}, \"margin\": {\"t\": 60}, \"template\": {\"data\": {\"bar\": [{\"error_x\": {\"color\": \"#2a3f5f\"}, \"error_y\": {\"color\": \"#2a3f5f\"}, \"marker\": {\"line\": {\"color\": \"#E5ECF6\", \"width\": 0.5}}, \"type\": \"bar\"}], \"barpolar\": [{\"marker\": {\"line\": {\"color\": \"#E5ECF6\", \"width\": 0.5}}, \"type\": \"barpolar\"}], \"carpet\": [{\"aaxis\": {\"endlinecolor\": \"#2a3f5f\", \"gridcolor\": \"white\", \"linecolor\": \"white\", \"minorgridcolor\": \"white\", \"startlinecolor\": \"#2a3f5f\"}, \"baxis\": {\"endlinecolor\": \"#2a3f5f\", \"gridcolor\": \"white\", \"linecolor\": \"white\", \"minorgridcolor\": \"white\", \"startlinecolor\": \"#2a3f5f\"}, \"type\": \"carpet\"}], \"choropleth\": [{\"colorbar\": {\"outlinewidth\": 0, \"ticks\": \"\"}, \"type\": \"choropleth\"}], \"contour\": [{\"colorbar\": {\"outlinewidth\": 0, \"ticks\": \"\"}, \"colorscale\": [[0.0, \"#0d0887\"], [0.1111111111111111, \"#46039f\"], [0.2222222222222222, \"#7201a8\"], [0.3333333333333333, \"#9c179e\"], [0.4444444444444444, \"#bd3786\"], [0.5555555555555556, \"#d8576b\"], [0.6666666666666666, \"#ed7953\"], [0.7777777777777778, \"#fb9f3a\"], [0.8888888888888888, \"#fdca26\"], [1.0, \"#f0f921\"]], \"type\": \"contour\"}], \"contourcarpet\": [{\"colorbar\": {\"outlinewidth\": 0, \"ticks\": \"\"}, \"type\": \"contourcarpet\"}], \"heatmap\": [{\"colorbar\": {\"outlinewidth\": 0, \"ticks\": \"\"}, \"colorscale\": [[0.0, \"#0d0887\"], [0.1111111111111111, \"#46039f\"], [0.2222222222222222, \"#7201a8\"], [0.3333333333333333, \"#9c179e\"], [0.4444444444444444, \"#bd3786\"], [0.5555555555555556, \"#d8576b\"], [0.6666666666666666, \"#ed7953\"], [0.7777777777777778, \"#fb9f3a\"], [0.8888888888888888, \"#fdca26\"], [1.0, \"#f0f921\"]], \"type\": \"heatmap\"}], \"heatmapgl\": [{\"colorbar\": {\"outlinewidth\": 0, \"ticks\": \"\"}, \"colorscale\": [[0.0, \"#0d0887\"], [0.1111111111111111, \"#46039f\"], [0.2222222222222222, \"#7201a8\"], [0.3333333333333333, \"#9c179e\"], [0.4444444444444444, \"#bd3786\"], [0.5555555555555556, \"#d8576b\"], [0.6666666666666666, \"#ed7953\"], [0.7777777777777778, \"#fb9f3a\"], [0.8888888888888888, \"#fdca26\"], [1.0, \"#f0f921\"]], \"type\": \"heatmapgl\"}], \"histogram\": [{\"marker\": {\"colorbar\": {\"outlinewidth\": 0, \"ticks\": \"\"}}, \"type\": \"histogram\"}], \"histogram2d\": [{\"colorbar\": {\"outlinewidth\": 0, \"ticks\": \"\"}, \"colorscale\": [[0.0, \"#0d0887\"], [0.1111111111111111, \"#46039f\"], [0.2222222222222222, \"#7201a8\"], [0.3333333333333333, \"#9c179e\"], [0.4444444444444444, \"#bd3786\"], [0.5555555555555556, \"#d8576b\"], [0.6666666666666666, \"#ed7953\"], [0.7777777777777778, \"#fb9f3a\"], [0.8888888888888888, \"#fdca26\"], [1.0, \"#f0f921\"]], \"type\": \"histogram2d\"}], \"histogram2dcontour\": [{\"colorbar\": {\"outlinewidth\": 0, \"ticks\": \"\"}, \"colorscale\": [[0.0, \"#0d0887\"], [0.1111111111111111, \"#46039f\"], [0.2222222222222222, \"#7201a8\"], [0.3333333333333333, \"#9c179e\"], [0.4444444444444444, \"#bd3786\"], [0.5555555555555556, \"#d8576b\"], [0.6666666666666666, \"#ed7953\"], [0.7777777777777778, \"#fb9f3a\"], [0.8888888888888888, \"#fdca26\"], [1.0, \"#f0f921\"]], \"type\": \"histogram2dcontour\"}], \"mesh3d\": [{\"colorbar\": {\"outlinewidth\": 0, \"ticks\": \"\"}, \"type\": \"mesh3d\"}], \"parcoords\": [{\"line\": {\"colorbar\": {\"outlinewidth\": 0, \"ticks\": \"\"}}, \"type\": \"parcoords\"}], \"pie\": [{\"automargin\": true, \"type\": \"pie\"}], \"scatter\": [{\"marker\": {\"colorbar\": {\"outlinewidth\": 0, \"ticks\": \"\"}}, \"type\": \"scatter\"}], \"scatter3d\": [{\"line\": {\"colorbar\": {\"outlinewidth\": 0, \"ticks\": \"\"}}, \"marker\": {\"colorbar\": {\"outlinewidth\": 0, \"ticks\": \"\"}}, \"type\": \"scatter3d\"}], \"scattercarpet\": [{\"marker\": {\"colorbar\": {\"outlinewidth\": 0, \"ticks\": \"\"}}, \"type\": \"scattercarpet\"}], \"scattergeo\": [{\"marker\": {\"colorbar\": {\"outlinewidth\": 0, \"ticks\": \"\"}}, \"type\": \"scattergeo\"}], \"scattergl\": [{\"marker\": {\"colorbar\": {\"outlinewidth\": 0, \"ticks\": \"\"}}, \"type\": \"scattergl\"}], \"scattermapbox\": [{\"marker\": {\"colorbar\": {\"outlinewidth\": 0, \"ticks\": \"\"}}, \"type\": \"scattermapbox\"}], \"scatterpolar\": [{\"marker\": {\"colorbar\": {\"outlinewidth\": 0, \"ticks\": \"\"}}, \"type\": \"scatterpolar\"}], \"scatterpolargl\": [{\"marker\": {\"colorbar\": {\"outlinewidth\": 0, \"ticks\": \"\"}}, \"type\": \"scatterpolargl\"}], \"scatterternary\": [{\"marker\": {\"colorbar\": {\"outlinewidth\": 0, \"ticks\": \"\"}}, \"type\": \"scatterternary\"}], \"surface\": [{\"colorbar\": {\"outlinewidth\": 0, \"ticks\": \"\"}, \"colorscale\": [[0.0, \"#0d0887\"], [0.1111111111111111, \"#46039f\"], [0.2222222222222222, \"#7201a8\"], [0.3333333333333333, \"#9c179e\"], [0.4444444444444444, \"#bd3786\"], [0.5555555555555556, \"#d8576b\"], [0.6666666666666666, \"#ed7953\"], [0.7777777777777778, \"#fb9f3a\"], [0.8888888888888888, \"#fdca26\"], [1.0, \"#f0f921\"]], \"type\": \"surface\"}], \"table\": [{\"cells\": {\"fill\": {\"color\": \"#EBF0F8\"}, \"line\": {\"color\": \"white\"}}, \"header\": {\"fill\": {\"color\": \"#C8D4E3\"}, \"line\": {\"color\": \"white\"}}, \"type\": \"table\"}]}, \"layout\": {\"annotationdefaults\": {\"arrowcolor\": \"#2a3f5f\", \"arrowhead\": 0, \"arrowwidth\": 1}, \"coloraxis\": {\"colorbar\": {\"outlinewidth\": 0, \"ticks\": \"\"}}, \"colorscale\": {\"diverging\": [[0, \"#8e0152\"], [0.1, \"#c51b7d\"], [0.2, \"#de77ae\"], [0.3, \"#f1b6da\"], [0.4, \"#fde0ef\"], [0.5, \"#f7f7f7\"], [0.6, \"#e6f5d0\"], [0.7, \"#b8e186\"], [0.8, \"#7fbc41\"], [0.9, \"#4d9221\"], [1, \"#276419\"]], \"sequential\": [[0.0, \"#0d0887\"], [0.1111111111111111, \"#46039f\"], [0.2222222222222222, \"#7201a8\"], [0.3333333333333333, \"#9c179e\"], [0.4444444444444444, \"#bd3786\"], [0.5555555555555556, \"#d8576b\"], [0.6666666666666666, \"#ed7953\"], [0.7777777777777778, \"#fb9f3a\"], [0.8888888888888888, \"#fdca26\"], [1.0, \"#f0f921\"]], \"sequentialminus\": [[0.0, \"#0d0887\"], [0.1111111111111111, \"#46039f\"], [0.2222222222222222, \"#7201a8\"], [0.3333333333333333, \"#9c179e\"], [0.4444444444444444, \"#bd3786\"], [0.5555555555555556, \"#d8576b\"], [0.6666666666666666, \"#ed7953\"], [0.7777777777777778, \"#fb9f3a\"], [0.8888888888888888, \"#fdca26\"], [1.0, \"#f0f921\"]]}, \"colorway\": [\"#636efa\", \"#EF553B\", \"#00cc96\", \"#ab63fa\", \"#FFA15A\", \"#19d3f3\", \"#FF6692\", \"#B6E880\", \"#FF97FF\", \"#FECB52\"], \"font\": {\"color\": \"#2a3f5f\"}, \"geo\": {\"bgcolor\": \"white\", \"lakecolor\": \"white\", \"landcolor\": \"#E5ECF6\", \"showlakes\": true, \"showland\": true, \"subunitcolor\": \"white\"}, \"hoverlabel\": {\"align\": \"left\"}, \"hovermode\": \"closest\", \"mapbox\": {\"style\": \"light\"}, \"paper_bgcolor\": \"white\", \"plot_bgcolor\": \"#E5ECF6\", \"polar\": {\"angularaxis\": {\"gridcolor\": \"white\", \"linecolor\": \"white\", \"ticks\": \"\"}, \"bgcolor\": \"#E5ECF6\", \"radialaxis\": {\"gridcolor\": \"white\", \"linecolor\": \"white\", \"ticks\": \"\"}}, \"scene\": {\"xaxis\": {\"backgroundcolor\": \"#E5ECF6\", \"gridcolor\": \"white\", \"gridwidth\": 2, \"linecolor\": \"white\", \"showbackground\": true, \"ticks\": \"\", \"zerolinecolor\": \"white\"}, \"yaxis\": {\"backgroundcolor\": \"#E5ECF6\", \"gridcolor\": \"white\", \"gridwidth\": 2, \"linecolor\": \"white\", \"showbackground\": true, \"ticks\": \"\", \"zerolinecolor\": \"white\"}, \"zaxis\": {\"backgroundcolor\": \"#E5ECF6\", \"gridcolor\": \"white\", \"gridwidth\": 2, \"linecolor\": \"white\", \"showbackground\": true, \"ticks\": \"\", \"zerolinecolor\": \"white\"}}, \"shapedefaults\": {\"line\": {\"color\": \"#2a3f5f\"}}, \"ternary\": {\"aaxis\": {\"gridcolor\": \"white\", \"linecolor\": \"white\", \"ticks\": \"\"}, \"baxis\": {\"gridcolor\": \"white\", \"linecolor\": \"white\", \"ticks\": \"\"}, \"bgcolor\": \"#E5ECF6\", \"caxis\": {\"gridcolor\": \"white\", \"linecolor\": \"white\", \"ticks\": \"\"}}, \"title\": {\"x\": 0.05}, \"xaxis\": {\"automargin\": true, \"gridcolor\": \"white\", \"linecolor\": \"white\", \"ticks\": \"\", \"title\": {\"standoff\": 15}, \"zerolinecolor\": \"white\", \"zerolinewidth\": 2}, \"yaxis\": {\"automargin\": true, \"gridcolor\": \"white\", \"linecolor\": \"white\", \"ticks\": \"\", \"title\": {\"standoff\": 15}, \"zerolinecolor\": \"white\", \"zerolinewidth\": 2}}}, \"title\": {\"text\": \"Age Count With Gender\", \"x\": 0.5}, \"xaxis\": {\"anchor\": \"y\", \"domain\": [0.0, 1.0], \"title\": {\"text\": \"Age\"}}, \"yaxis\": {\"anchor\": \"x\", \"domain\": [0.0, 1.0], \"title\": {\"text\": \"Count\"}}},                        {\"responsive\": true}                    ).then(function(){\n",
       "                            \n",
       "var gd = document.getElementById('a093ea51-b44f-4a0e-97f4-2e300d73b926');\n",
       "var x = new MutationObserver(function (mutations, observer) {{\n",
       "        var display = window.getComputedStyle(gd).display;\n",
       "        if (!display || display === 'none') {{\n",
       "            console.log([gd, 'removed!']);\n",
       "            Plotly.purge(gd);\n",
       "            observer.disconnect();\n",
       "        }}\n",
       "}});\n",
       "\n",
       "// Listen for the removal of the full notebook cells\n",
       "var notebookContainer = gd.closest('#notebook-container');\n",
       "if (notebookContainer) {{\n",
       "    x.observe(notebookContainer, {childList: true});\n",
       "}}\n",
       "\n",
       "// Listen for the clearing of the current output cell\n",
       "var outputEl = gd.closest('.output');\n",
       "if (outputEl) {{\n",
       "    x.observe(outputEl, {childList: true});\n",
       "}}\n",
       "\n",
       "                        })                };                });            </script>        </div>"
      ]
     },
     "metadata": {},
     "output_type": "display_data"
    }
   ],
   "source": [
    "df_G_and_A=df.groupby(by =['Gender','Age'])['Married'].count().to_frame().reset_index().rename(columns={'Gender':'Gender','Age':'Age','Married':'count'})\n",
    "\n",
    "fig = px.bar(df_G_and_A, x=\"Age\", y=\"count\",color=\"Gender\",barmode=\"group\",\n",
    "             \n",
    "             )\n",
    "fig.update_layout(title_text='Age Count With Gender',title_x=0.5,yaxis_title=\"Count\",\n",
    "                 )\n",
    "fig.show()"
   ]
  },
  {
   "cell_type": "markdown",
   "metadata": {
    "papermill": {
     "duration": 0.193392,
     "end_time": "2020-12-10T12:48:02.453487",
     "exception": false,
     "start_time": "2020-12-10T12:48:02.260095",
     "status": "completed"
    },
    "tags": []
   },
   "source": [
    "* How much is the average(min,max) spending amount of customers by gender,age?\n"
   ]
  },
  {
   "cell_type": "code",
   "execution_count": 27,
   "metadata": {
    "execution": {
     "iopub.execute_input": "2020-12-10T12:48:02.853782Z",
     "iopub.status.busy": "2020-12-10T12:48:02.851234Z",
     "iopub.status.idle": "2020-12-10T12:48:02.868223Z",
     "shell.execute_reply": "2020-12-10T12:48:02.867515Z"
    },
    "papermill": {
     "duration": 0.220525,
     "end_time": "2020-12-10T12:48:02.868349",
     "exception": false,
     "start_time": "2020-12-10T12:48:02.647824",
     "status": "completed"
    },
    "tags": []
   },
   "outputs": [
    {
     "data": {
      "text/html": [
       "<div>\n",
       "<style scoped>\n",
       "    .dataframe tbody tr th:only-of-type {\n",
       "        vertical-align: middle;\n",
       "    }\n",
       "\n",
       "    .dataframe tbody tr th {\n",
       "        vertical-align: top;\n",
       "    }\n",
       "\n",
       "    .dataframe thead th {\n",
       "        text-align: right;\n",
       "    }\n",
       "</style>\n",
       "<table border=\"1\" class=\"dataframe\">\n",
       "  <thead>\n",
       "    <tr style=\"text-align: right;\">\n",
       "      <th></th>\n",
       "      <th>Gender</th>\n",
       "      <th>Age</th>\n",
       "      <th>AVG_AmountSpent</th>\n",
       "    </tr>\n",
       "  </thead>\n",
       "  <tbody>\n",
       "    <tr>\n",
       "      <th>0</th>\n",
       "      <td>Female</td>\n",
       "      <td>Middle</td>\n",
       "      <td>1301.34</td>\n",
       "    </tr>\n",
       "    <tr>\n",
       "      <th>1</th>\n",
       "      <td>Female</td>\n",
       "      <td>Old</td>\n",
       "      <td>1279.31</td>\n",
       "    </tr>\n",
       "    <tr>\n",
       "      <th>2</th>\n",
       "      <td>Female</td>\n",
       "      <td>Young</td>\n",
       "      <td>501.26</td>\n",
       "    </tr>\n",
       "    <tr>\n",
       "      <th>3</th>\n",
       "      <td>Male</td>\n",
       "      <td>Middle</td>\n",
       "      <td>1638.35</td>\n",
       "    </tr>\n",
       "    <tr>\n",
       "      <th>4</th>\n",
       "      <td>Male</td>\n",
       "      <td>Old</td>\n",
       "      <td>1691.51</td>\n",
       "    </tr>\n",
       "    <tr>\n",
       "      <th>5</th>\n",
       "      <td>Male</td>\n",
       "      <td>Young</td>\n",
       "      <td>643.19</td>\n",
       "    </tr>\n",
       "  </tbody>\n",
       "</table>\n",
       "</div>"
      ],
      "text/plain": [
       "   Gender     Age  AVG_AmountSpent\n",
       "0  Female  Middle          1301.34\n",
       "1  Female     Old          1279.31\n",
       "2  Female   Young           501.26\n",
       "3    Male  Middle          1638.35\n",
       "4    Male     Old          1691.51\n",
       "5    Male   Young           643.19"
      ]
     },
     "execution_count": 27,
     "metadata": {},
     "output_type": "execute_result"
    }
   ],
   "source": [
    "df_G_and_A=df.groupby(by =['Gender','Age'])['AmountSpent'].mean().to_frame().reset_index().rename(columns={'AmountSpent':'AVG_AmountSpent'})\n",
    "df_G_and_A[\"AVG_AmountSpent\"]=df_G_and_A[\"AVG_AmountSpent\"].map(lambda x:round(x,2))\n",
    "df_G_and_A"
   ]
  },
  {
   "cell_type": "markdown",
   "metadata": {
    "papermill": {
     "duration": 0.195085,
     "end_time": "2020-12-10T12:48:03.259090",
     "exception": false,
     "start_time": "2020-12-10T12:48:03.064005",
     "status": "completed"
    },
    "tags": []
   },
   "source": [
    "Highest average spending:**Male**\t**Old** 1691 <br>\n",
    "Lowest average spending: **Female**\t**Young** 501 <br>"
   ]
  },
  {
   "cell_type": "code",
   "execution_count": 28,
   "metadata": {
    "execution": {
     "iopub.execute_input": "2020-12-10T12:48:03.664168Z",
     "iopub.status.busy": "2020-12-10T12:48:03.663273Z",
     "iopub.status.idle": "2020-12-10T12:48:03.752355Z",
     "shell.execute_reply": "2020-12-10T12:48:03.751728Z"
    },
    "papermill": {
     "duration": 0.297724,
     "end_time": "2020-12-10T12:48:03.752490",
     "exception": false,
     "start_time": "2020-12-10T12:48:03.454766",
     "status": "completed"
    },
    "tags": []
   },
   "outputs": [
    {
     "data": {
      "text/html": [
       "<div>                            <div id=\"0a839870-1f0f-48bf-88bc-eaa30b101e67\" class=\"plotly-graph-div\" style=\"height:525px; width:100%;\"></div>            <script type=\"text/javascript\">                require([\"plotly\"], function(Plotly) {                    window.PLOTLYENV=window.PLOTLYENV || {};                                    if (document.getElementById(\"0a839870-1f0f-48bf-88bc-eaa30b101e67\")) {                    Plotly.newPlot(                        \"0a839870-1f0f-48bf-88bc-eaa30b101e67\",                        [{\"alignmentgroup\": \"True\", \"hovertemplate\": \"Gender=Female<br>Age=%{x}<br>AVG_AmountSpent=%{y}<extra></extra>\", \"legendgroup\": \"Female\", \"marker\": {\"color\": \"#636efa\"}, \"name\": \"Female\", \"offsetgroup\": \"Female\", \"orientation\": \"v\", \"showlegend\": true, \"textposition\": \"auto\", \"type\": \"bar\", \"x\": [\"Middle\", \"Old\", \"Young\"], \"xaxis\": \"x\", \"y\": [1301.34, 1279.31, 501.26], \"yaxis\": \"y\"}, {\"alignmentgroup\": \"True\", \"hovertemplate\": \"Gender=Male<br>Age=%{x}<br>AVG_AmountSpent=%{y}<extra></extra>\", \"legendgroup\": \"Male\", \"marker\": {\"color\": \"#EF553B\"}, \"name\": \"Male\", \"offsetgroup\": \"Male\", \"orientation\": \"v\", \"showlegend\": true, \"textposition\": \"auto\", \"type\": \"bar\", \"x\": [\"Middle\", \"Old\", \"Young\"], \"xaxis\": \"x\", \"y\": [1638.35, 1691.51, 643.19], \"yaxis\": \"y\"}],                        {\"barmode\": \"group\", \"legend\": {\"title\": {\"text\": \"Gender\"}, \"tracegroupgap\": 0}, \"margin\": {\"t\": 60}, \"template\": {\"data\": {\"bar\": [{\"error_x\": {\"color\": \"#2a3f5f\"}, \"error_y\": {\"color\": \"#2a3f5f\"}, \"marker\": {\"line\": {\"color\": \"#E5ECF6\", \"width\": 0.5}}, \"type\": \"bar\"}], \"barpolar\": [{\"marker\": {\"line\": {\"color\": \"#E5ECF6\", \"width\": 0.5}}, \"type\": \"barpolar\"}], \"carpet\": [{\"aaxis\": {\"endlinecolor\": \"#2a3f5f\", \"gridcolor\": \"white\", \"linecolor\": \"white\", \"minorgridcolor\": \"white\", \"startlinecolor\": \"#2a3f5f\"}, \"baxis\": {\"endlinecolor\": \"#2a3f5f\", \"gridcolor\": \"white\", \"linecolor\": \"white\", \"minorgridcolor\": \"white\", \"startlinecolor\": \"#2a3f5f\"}, \"type\": \"carpet\"}], \"choropleth\": [{\"colorbar\": {\"outlinewidth\": 0, \"ticks\": \"\"}, \"type\": \"choropleth\"}], \"contour\": [{\"colorbar\": {\"outlinewidth\": 0, \"ticks\": \"\"}, \"colorscale\": [[0.0, \"#0d0887\"], [0.1111111111111111, \"#46039f\"], [0.2222222222222222, \"#7201a8\"], [0.3333333333333333, \"#9c179e\"], [0.4444444444444444, \"#bd3786\"], [0.5555555555555556, \"#d8576b\"], [0.6666666666666666, \"#ed7953\"], [0.7777777777777778, \"#fb9f3a\"], [0.8888888888888888, \"#fdca26\"], [1.0, \"#f0f921\"]], \"type\": \"contour\"}], \"contourcarpet\": [{\"colorbar\": {\"outlinewidth\": 0, \"ticks\": \"\"}, \"type\": \"contourcarpet\"}], \"heatmap\": [{\"colorbar\": {\"outlinewidth\": 0, \"ticks\": \"\"}, \"colorscale\": [[0.0, \"#0d0887\"], [0.1111111111111111, \"#46039f\"], [0.2222222222222222, \"#7201a8\"], [0.3333333333333333, \"#9c179e\"], [0.4444444444444444, \"#bd3786\"], [0.5555555555555556, \"#d8576b\"], [0.6666666666666666, \"#ed7953\"], [0.7777777777777778, \"#fb9f3a\"], [0.8888888888888888, \"#fdca26\"], [1.0, \"#f0f921\"]], \"type\": \"heatmap\"}], \"heatmapgl\": [{\"colorbar\": {\"outlinewidth\": 0, \"ticks\": \"\"}, \"colorscale\": [[0.0, \"#0d0887\"], [0.1111111111111111, \"#46039f\"], [0.2222222222222222, \"#7201a8\"], [0.3333333333333333, \"#9c179e\"], [0.4444444444444444, \"#bd3786\"], [0.5555555555555556, \"#d8576b\"], [0.6666666666666666, \"#ed7953\"], [0.7777777777777778, \"#fb9f3a\"], [0.8888888888888888, \"#fdca26\"], [1.0, \"#f0f921\"]], \"type\": \"heatmapgl\"}], \"histogram\": [{\"marker\": {\"colorbar\": {\"outlinewidth\": 0, \"ticks\": \"\"}}, \"type\": \"histogram\"}], \"histogram2d\": [{\"colorbar\": {\"outlinewidth\": 0, \"ticks\": \"\"}, \"colorscale\": [[0.0, \"#0d0887\"], [0.1111111111111111, \"#46039f\"], [0.2222222222222222, \"#7201a8\"], [0.3333333333333333, \"#9c179e\"], [0.4444444444444444, \"#bd3786\"], [0.5555555555555556, \"#d8576b\"], [0.6666666666666666, \"#ed7953\"], [0.7777777777777778, \"#fb9f3a\"], [0.8888888888888888, \"#fdca26\"], [1.0, \"#f0f921\"]], \"type\": \"histogram2d\"}], \"histogram2dcontour\": [{\"colorbar\": {\"outlinewidth\": 0, \"ticks\": \"\"}, \"colorscale\": [[0.0, \"#0d0887\"], [0.1111111111111111, \"#46039f\"], [0.2222222222222222, \"#7201a8\"], [0.3333333333333333, \"#9c179e\"], [0.4444444444444444, \"#bd3786\"], [0.5555555555555556, \"#d8576b\"], [0.6666666666666666, \"#ed7953\"], [0.7777777777777778, \"#fb9f3a\"], [0.8888888888888888, \"#fdca26\"], [1.0, \"#f0f921\"]], \"type\": \"histogram2dcontour\"}], \"mesh3d\": [{\"colorbar\": {\"outlinewidth\": 0, \"ticks\": \"\"}, \"type\": \"mesh3d\"}], \"parcoords\": [{\"line\": {\"colorbar\": {\"outlinewidth\": 0, \"ticks\": \"\"}}, \"type\": \"parcoords\"}], \"pie\": [{\"automargin\": true, \"type\": \"pie\"}], \"scatter\": [{\"marker\": {\"colorbar\": {\"outlinewidth\": 0, \"ticks\": \"\"}}, \"type\": \"scatter\"}], \"scatter3d\": [{\"line\": {\"colorbar\": {\"outlinewidth\": 0, \"ticks\": \"\"}}, \"marker\": {\"colorbar\": {\"outlinewidth\": 0, \"ticks\": \"\"}}, \"type\": \"scatter3d\"}], \"scattercarpet\": [{\"marker\": {\"colorbar\": {\"outlinewidth\": 0, \"ticks\": \"\"}}, \"type\": \"scattercarpet\"}], \"scattergeo\": [{\"marker\": {\"colorbar\": {\"outlinewidth\": 0, \"ticks\": \"\"}}, \"type\": \"scattergeo\"}], \"scattergl\": [{\"marker\": {\"colorbar\": {\"outlinewidth\": 0, \"ticks\": \"\"}}, \"type\": \"scattergl\"}], \"scattermapbox\": [{\"marker\": {\"colorbar\": {\"outlinewidth\": 0, \"ticks\": \"\"}}, \"type\": \"scattermapbox\"}], \"scatterpolar\": [{\"marker\": {\"colorbar\": {\"outlinewidth\": 0, \"ticks\": \"\"}}, \"type\": \"scatterpolar\"}], \"scatterpolargl\": [{\"marker\": {\"colorbar\": {\"outlinewidth\": 0, \"ticks\": \"\"}}, \"type\": \"scatterpolargl\"}], \"scatterternary\": [{\"marker\": {\"colorbar\": {\"outlinewidth\": 0, \"ticks\": \"\"}}, \"type\": \"scatterternary\"}], \"surface\": [{\"colorbar\": {\"outlinewidth\": 0, \"ticks\": \"\"}, \"colorscale\": [[0.0, \"#0d0887\"], [0.1111111111111111, \"#46039f\"], [0.2222222222222222, \"#7201a8\"], [0.3333333333333333, \"#9c179e\"], [0.4444444444444444, \"#bd3786\"], [0.5555555555555556, \"#d8576b\"], [0.6666666666666666, \"#ed7953\"], [0.7777777777777778, \"#fb9f3a\"], [0.8888888888888888, \"#fdca26\"], [1.0, \"#f0f921\"]], \"type\": \"surface\"}], \"table\": [{\"cells\": {\"fill\": {\"color\": \"#EBF0F8\"}, \"line\": {\"color\": \"white\"}}, \"header\": {\"fill\": {\"color\": \"#C8D4E3\"}, \"line\": {\"color\": \"white\"}}, \"type\": \"table\"}]}, \"layout\": {\"annotationdefaults\": {\"arrowcolor\": \"#2a3f5f\", \"arrowhead\": 0, \"arrowwidth\": 1}, \"coloraxis\": {\"colorbar\": {\"outlinewidth\": 0, \"ticks\": \"\"}}, \"colorscale\": {\"diverging\": [[0, \"#8e0152\"], [0.1, \"#c51b7d\"], [0.2, \"#de77ae\"], [0.3, \"#f1b6da\"], [0.4, \"#fde0ef\"], [0.5, \"#f7f7f7\"], [0.6, \"#e6f5d0\"], [0.7, \"#b8e186\"], [0.8, \"#7fbc41\"], [0.9, \"#4d9221\"], [1, \"#276419\"]], \"sequential\": [[0.0, \"#0d0887\"], [0.1111111111111111, \"#46039f\"], [0.2222222222222222, \"#7201a8\"], [0.3333333333333333, \"#9c179e\"], [0.4444444444444444, \"#bd3786\"], [0.5555555555555556, \"#d8576b\"], [0.6666666666666666, \"#ed7953\"], [0.7777777777777778, \"#fb9f3a\"], [0.8888888888888888, \"#fdca26\"], [1.0, \"#f0f921\"]], \"sequentialminus\": [[0.0, \"#0d0887\"], [0.1111111111111111, \"#46039f\"], [0.2222222222222222, \"#7201a8\"], [0.3333333333333333, \"#9c179e\"], [0.4444444444444444, \"#bd3786\"], [0.5555555555555556, \"#d8576b\"], [0.6666666666666666, \"#ed7953\"], [0.7777777777777778, \"#fb9f3a\"], [0.8888888888888888, \"#fdca26\"], [1.0, \"#f0f921\"]]}, \"colorway\": [\"#636efa\", \"#EF553B\", \"#00cc96\", \"#ab63fa\", \"#FFA15A\", \"#19d3f3\", \"#FF6692\", \"#B6E880\", \"#FF97FF\", \"#FECB52\"], \"font\": {\"color\": \"#2a3f5f\"}, \"geo\": {\"bgcolor\": \"white\", \"lakecolor\": \"white\", \"landcolor\": \"#E5ECF6\", \"showlakes\": true, \"showland\": true, \"subunitcolor\": \"white\"}, \"hoverlabel\": {\"align\": \"left\"}, \"hovermode\": \"closest\", \"mapbox\": {\"style\": \"light\"}, \"paper_bgcolor\": \"white\", \"plot_bgcolor\": \"#E5ECF6\", \"polar\": {\"angularaxis\": {\"gridcolor\": \"white\", \"linecolor\": \"white\", \"ticks\": \"\"}, \"bgcolor\": \"#E5ECF6\", \"radialaxis\": {\"gridcolor\": \"white\", \"linecolor\": \"white\", \"ticks\": \"\"}}, \"scene\": {\"xaxis\": {\"backgroundcolor\": \"#E5ECF6\", \"gridcolor\": \"white\", \"gridwidth\": 2, \"linecolor\": \"white\", \"showbackground\": true, \"ticks\": \"\", \"zerolinecolor\": \"white\"}, \"yaxis\": {\"backgroundcolor\": \"#E5ECF6\", \"gridcolor\": \"white\", \"gridwidth\": 2, \"linecolor\": \"white\", \"showbackground\": true, \"ticks\": \"\", \"zerolinecolor\": \"white\"}, \"zaxis\": {\"backgroundcolor\": \"#E5ECF6\", \"gridcolor\": \"white\", \"gridwidth\": 2, \"linecolor\": \"white\", \"showbackground\": true, \"ticks\": \"\", \"zerolinecolor\": \"white\"}}, \"shapedefaults\": {\"line\": {\"color\": \"#2a3f5f\"}}, \"ternary\": {\"aaxis\": {\"gridcolor\": \"white\", \"linecolor\": \"white\", \"ticks\": \"\"}, \"baxis\": {\"gridcolor\": \"white\", \"linecolor\": \"white\", \"ticks\": \"\"}, \"bgcolor\": \"#E5ECF6\", \"caxis\": {\"gridcolor\": \"white\", \"linecolor\": \"white\", \"ticks\": \"\"}}, \"title\": {\"x\": 0.05}, \"xaxis\": {\"automargin\": true, \"gridcolor\": \"white\", \"linecolor\": \"white\", \"ticks\": \"\", \"title\": {\"standoff\": 15}, \"zerolinecolor\": \"white\", \"zerolinewidth\": 2}, \"yaxis\": {\"automargin\": true, \"gridcolor\": \"white\", \"linecolor\": \"white\", \"ticks\": \"\", \"title\": {\"standoff\": 15}, \"zerolinecolor\": \"white\", \"zerolinewidth\": 2}}}, \"title\": {\"text\": \"Age Amount Spent With Gender,Age\", \"x\": 0.5}, \"xaxis\": {\"anchor\": \"y\", \"domain\": [0.0, 1.0], \"title\": {\"text\": \"Age\"}}, \"yaxis\": {\"anchor\": \"x\", \"domain\": [0.0, 1.0], \"title\": {\"text\": \"Amount Spent\"}}},                        {\"responsive\": true}                    ).then(function(){\n",
       "                            \n",
       "var gd = document.getElementById('0a839870-1f0f-48bf-88bc-eaa30b101e67');\n",
       "var x = new MutationObserver(function (mutations, observer) {{\n",
       "        var display = window.getComputedStyle(gd).display;\n",
       "        if (!display || display === 'none') {{\n",
       "            console.log([gd, 'removed!']);\n",
       "            Plotly.purge(gd);\n",
       "            observer.disconnect();\n",
       "        }}\n",
       "}});\n",
       "\n",
       "// Listen for the removal of the full notebook cells\n",
       "var notebookContainer = gd.closest('#notebook-container');\n",
       "if (notebookContainer) {{\n",
       "    x.observe(notebookContainer, {childList: true});\n",
       "}}\n",
       "\n",
       "// Listen for the clearing of the current output cell\n",
       "var outputEl = gd.closest('.output');\n",
       "if (outputEl) {{\n",
       "    x.observe(outputEl, {childList: true});\n",
       "}}\n",
       "\n",
       "                        })                };                });            </script>        </div>"
      ]
     },
     "metadata": {},
     "output_type": "display_data"
    }
   ],
   "source": [
    "df_G_and_A=df.groupby(by =['Gender','Age'])['AmountSpent'].mean().to_frame().reset_index().rename(columns={'AmountSpent':'AVG_AmountSpent'})\n",
    "df_G_and_A[\"AVG_AmountSpent\"]=df_G_and_A[\"AVG_AmountSpent\"].map(lambda x:round(x,2))\n",
    "\n",
    "fig = px.bar(df_G_and_A, x=\"Age\", y=\"AVG_AmountSpent\",color=\"Gender\",barmode=\"group\",\n",
    "             \n",
    "             )\n",
    "fig.update_layout(title_text='Age Amount Spent With Gender,Age',title_x=0.5,yaxis_title=\"Amount Spent\",\n",
    "                 )\n",
    "fig.show()"
   ]
  },
  {
   "cell_type": "markdown",
   "metadata": {
    "papermill": {
     "duration": 0.198099,
     "end_time": "2020-12-10T12:48:04.147998",
     "exception": false,
     "start_time": "2020-12-10T12:48:03.949899",
     "status": "completed"
    },
    "tags": []
   },
   "source": [
    "* What is the average spending of customers by gender and age?"
   ]
  },
  {
   "cell_type": "code",
   "execution_count": 29,
   "metadata": {
    "execution": {
     "iopub.execute_input": "2020-12-10T12:48:04.547505Z",
     "iopub.status.busy": "2020-12-10T12:48:04.546628Z",
     "iopub.status.idle": "2020-12-10T12:48:04.566308Z",
     "shell.execute_reply": "2020-12-10T12:48:04.565535Z"
    },
    "papermill": {
     "duration": 0.221853,
     "end_time": "2020-12-10T12:48:04.566432",
     "exception": false,
     "start_time": "2020-12-10T12:48:04.344579",
     "status": "completed"
    },
    "tags": []
   },
   "outputs": [
    {
     "data": {
      "text/html": [
       "<div>\n",
       "<style scoped>\n",
       "    .dataframe tbody tr th:only-of-type {\n",
       "        vertical-align: middle;\n",
       "    }\n",
       "\n",
       "    .dataframe tbody tr th {\n",
       "        vertical-align: top;\n",
       "    }\n",
       "\n",
       "    .dataframe thead th {\n",
       "        text-align: right;\n",
       "    }\n",
       "</style>\n",
       "<table border=\"1\" class=\"dataframe\">\n",
       "  <thead>\n",
       "    <tr style=\"text-align: right;\">\n",
       "      <th></th>\n",
       "      <th></th>\n",
       "      <th>min</th>\n",
       "      <th>mean</th>\n",
       "      <th>max</th>\n",
       "    </tr>\n",
       "    <tr>\n",
       "      <th>Age</th>\n",
       "      <th>Gender</th>\n",
       "      <th></th>\n",
       "      <th></th>\n",
       "      <th></th>\n",
       "    </tr>\n",
       "  </thead>\n",
       "  <tbody>\n",
       "    <tr>\n",
       "      <th rowspan=\"2\" valign=\"top\">Middle</th>\n",
       "      <th>Female</th>\n",
       "      <td>158</td>\n",
       "      <td>1301.339806</td>\n",
       "      <td>5830</td>\n",
       "    </tr>\n",
       "    <tr>\n",
       "      <th>Male</th>\n",
       "      <td>157</td>\n",
       "      <td>1638.354305</td>\n",
       "      <td>5878</td>\n",
       "    </tr>\n",
       "    <tr>\n",
       "      <th rowspan=\"2\" valign=\"top\">Old</th>\n",
       "      <th>Female</th>\n",
       "      <td>65</td>\n",
       "      <td>1279.310078</td>\n",
       "      <td>5564</td>\n",
       "    </tr>\n",
       "    <tr>\n",
       "      <th>Male</th>\n",
       "      <td>297</td>\n",
       "      <td>1691.513158</td>\n",
       "      <td>6217</td>\n",
       "    </tr>\n",
       "    <tr>\n",
       "      <th rowspan=\"2\" valign=\"top\">Young</th>\n",
       "      <th>Female</th>\n",
       "      <td>47</td>\n",
       "      <td>501.257310</td>\n",
       "      <td>3688</td>\n",
       "    </tr>\n",
       "    <tr>\n",
       "      <th>Male</th>\n",
       "      <td>38</td>\n",
       "      <td>643.189655</td>\n",
       "      <td>1692</td>\n",
       "    </tr>\n",
       "  </tbody>\n",
       "</table>\n",
       "</div>"
      ],
      "text/plain": [
       "               min         mean   max\n",
       "Age    Gender                        \n",
       "Middle Female  158  1301.339806  5830\n",
       "       Male    157  1638.354305  5878\n",
       "Old    Female   65  1279.310078  5564\n",
       "       Male    297  1691.513158  6217\n",
       "Young  Female   47   501.257310  3688\n",
       "       Male     38   643.189655  1692"
      ]
     },
     "execution_count": 29,
     "metadata": {},
     "output_type": "execute_result"
    }
   ],
   "source": [
    "df_age_gender_agg=df.groupby(by=[\"Age\",\"Gender\"])['AmountSpent'].agg([\"min\",\"mean\",\"max\"])\n",
    "df_age_gender_agg"
   ]
  },
  {
   "cell_type": "code",
   "execution_count": 30,
   "metadata": {
    "execution": {
     "iopub.execute_input": "2020-12-10T12:48:04.980678Z",
     "iopub.status.busy": "2020-12-10T12:48:04.979847Z",
     "iopub.status.idle": "2020-12-10T12:48:05.033207Z",
     "shell.execute_reply": "2020-12-10T12:48:05.032430Z"
    },
    "papermill": {
     "duration": 0.267611,
     "end_time": "2020-12-10T12:48:05.033345",
     "exception": false,
     "start_time": "2020-12-10T12:48:04.765734",
     "status": "completed"
    },
    "tags": []
   },
   "outputs": [
    {
     "data": {
      "text/html": [
       "<div>\n",
       "<style scoped>\n",
       "    .dataframe tbody tr th:only-of-type {\n",
       "        vertical-align: middle;\n",
       "    }\n",
       "\n",
       "    .dataframe tbody tr th {\n",
       "        vertical-align: top;\n",
       "    }\n",
       "\n",
       "    .dataframe thead th {\n",
       "        text-align: right;\n",
       "    }\n",
       "</style>\n",
       "<table border=\"1\" class=\"dataframe\">\n",
       "  <thead>\n",
       "    <tr style=\"text-align: right;\">\n",
       "      <th></th>\n",
       "      <th>AVG_AmountSpent</th>\n",
       "      <th>Max_AmountSpent</th>\n",
       "      <th>Min_AmountSpent</th>\n",
       "      <th>Count</th>\n",
       "      <th>Gender_Age</th>\n",
       "    </tr>\n",
       "  </thead>\n",
       "  <tbody>\n",
       "    <tr>\n",
       "      <th>0</th>\n",
       "      <td>1301.34</td>\n",
       "      <td>5830</td>\n",
       "      <td>158</td>\n",
       "      <td>206</td>\n",
       "      <td>Female Middle</td>\n",
       "    </tr>\n",
       "    <tr>\n",
       "      <th>1</th>\n",
       "      <td>1279.31</td>\n",
       "      <td>5564</td>\n",
       "      <td>65</td>\n",
       "      <td>129</td>\n",
       "      <td>Female Old</td>\n",
       "    </tr>\n",
       "    <tr>\n",
       "      <th>2</th>\n",
       "      <td>501.26</td>\n",
       "      <td>3688</td>\n",
       "      <td>47</td>\n",
       "      <td>171</td>\n",
       "      <td>Female Young</td>\n",
       "    </tr>\n",
       "    <tr>\n",
       "      <th>3</th>\n",
       "      <td>1638.35</td>\n",
       "      <td>5878</td>\n",
       "      <td>157</td>\n",
       "      <td>302</td>\n",
       "      <td>Male Middle</td>\n",
       "    </tr>\n",
       "    <tr>\n",
       "      <th>4</th>\n",
       "      <td>1691.51</td>\n",
       "      <td>6217</td>\n",
       "      <td>297</td>\n",
       "      <td>76</td>\n",
       "      <td>Male Old</td>\n",
       "    </tr>\n",
       "    <tr>\n",
       "      <th>5</th>\n",
       "      <td>643.19</td>\n",
       "      <td>1692</td>\n",
       "      <td>38</td>\n",
       "      <td>116</td>\n",
       "      <td>Male Young</td>\n",
       "    </tr>\n",
       "  </tbody>\n",
       "</table>\n",
       "</div>"
      ],
      "text/plain": [
       "   AVG_AmountSpent  Max_AmountSpent  Min_AmountSpent  Count     Gender_Age\n",
       "0          1301.34             5830              158    206  Female Middle\n",
       "1          1279.31             5564               65    129     Female Old\n",
       "2           501.26             3688               47    171   Female Young\n",
       "3          1638.35             5878              157    302    Male Middle\n",
       "4          1691.51             6217              297     76       Male Old\n",
       "5           643.19             1692               38    116     Male Young"
      ]
     },
     "execution_count": 30,
     "metadata": {},
     "output_type": "execute_result"
    }
   ],
   "source": [
    "df_G_and_A_AVG=df.groupby(by =['Gender','Age'])['AmountSpent'].mean().to_frame().reset_index().rename(columns={'Gender':'Gender','Age':'Age','AmountSpent':'AVG_AmountSpent'})\n",
    "df_G_and_A_Max=df.groupby(by =['Gender','Age'])['AmountSpent'].max().to_frame().reset_index().rename(columns={'Gender':'Gender1','Age':'Age1','AmountSpent':'Max_AmountSpent'})\n",
    "df_G_and_A_Min=df.groupby(by =['Gender','Age'])['AmountSpent'].min().to_frame().reset_index().rename(columns={'Gender':'Gender2','Age':'Age2','AmountSpent':'Min_AmountSpent'})\n",
    "df_G_and_A_Count=df.groupby(by =['Gender','Age'])['AmountSpent'].count().to_frame().reset_index().rename(columns={'Gender':'Gender3','Age':'Age3','AmountSpent':'Count'})\n",
    "result = pd.concat([df_G_and_A_AVG, df_G_and_A_Max,df_G_and_A_Min,df_G_and_A_Count], axis=1)\n",
    "result.drop(['Gender1','Gender2','Gender3','Age1','Age2','Age3'],inplace=True,axis=1)\n",
    "result[\"AVG_AmountSpent\"]=result[\"AVG_AmountSpent\"].map(lambda x:round(x,2))\n",
    "result[\"Gender_Age\"]=result[\"Gender\"]+\" \"+result[\"Age\"]\n",
    "result.drop(['Gender','Age'],inplace=True,axis=1)\n",
    "result"
   ]
  },
  {
   "cell_type": "code",
   "execution_count": 31,
   "metadata": {
    "execution": {
     "iopub.execute_input": "2020-12-10T12:48:05.482316Z",
     "iopub.status.busy": "2020-12-10T12:48:05.481101Z",
     "iopub.status.idle": "2020-12-10T12:48:05.590940Z",
     "shell.execute_reply": "2020-12-10T12:48:05.590264Z"
    },
    "papermill": {
     "duration": 0.336672,
     "end_time": "2020-12-10T12:48:05.591061",
     "exception": false,
     "start_time": "2020-12-10T12:48:05.254389",
     "status": "completed"
    },
    "tags": []
   },
   "outputs": [
    {
     "data": {
      "text/html": [
       "<div>                            <div id=\"49fe5782-82ad-4e12-8bd9-f223576d2a76\" class=\"plotly-graph-div\" style=\"height:525px; width:100%;\"></div>            <script type=\"text/javascript\">                require([\"plotly\"], function(Plotly) {                    window.PLOTLYENV=window.PLOTLYENV || {};                                    if (document.getElementById(\"49fe5782-82ad-4e12-8bd9-f223576d2a76\")) {                    Plotly.newPlot(                        \"49fe5782-82ad-4e12-8bd9-f223576d2a76\",                        [{\"marker\": {\"color\": [1301.34, 1279.31, 501.26, 1638.35, 1691.51, 643.19], \"colorscale\": [[0.0, \"rgb(61, 89, 65)\"], [0.16666666666666666, \"rgb(119, 136, 104)\"], [0.3333333333333333, \"rgb(181, 185, 145)\"], [0.5, \"rgb(246, 237, 189)\"], [0.6666666666666666, \"rgb(237, 187, 138)\"], [0.8333333333333334, \"rgb(222, 138, 90)\"], [1.0, \"rgb(202, 86, 44)\"]]}, \"name\": \"Mean\", \"text\": [1301.34, 1279.31, 501.26, 1638.35, 1691.51, 643.19], \"textposition\": \"inside\", \"type\": \"bar\", \"x\": [\"Female Middle\", \"Female Old\", \"Female Young\", \"Male Middle\", \"Male Old\", \"Male Young\"], \"xaxis\": \"x\", \"y\": [1301.34, 1279.31, 501.26, 1638.35, 1691.51, 643.19], \"yaxis\": \"y\"}, {\"marker\": {\"color\": [158, 65, 47, 157, 297, 38], \"colorscale\": [[0.0, \"rgb(61, 89, 65)\"], [0.16666666666666666, \"rgb(119, 136, 104)\"], [0.3333333333333333, \"rgb(181, 185, 145)\"], [0.5, \"rgb(246, 237, 189)\"], [0.6666666666666666, \"rgb(237, 187, 138)\"], [0.8333333333333334, \"rgb(222, 138, 90)\"], [1.0, \"rgb(202, 86, 44)\"]]}, \"name\": \"Min\", \"text\": [158.0, 65.0, 47.0, 157.0, 297.0, 38.0], \"textposition\": \"inside\", \"type\": \"bar\", \"x\": [\"Female Middle\", \"Female Old\", \"Female Young\", \"Male Middle\", \"Male Old\", \"Male Young\"], \"xaxis\": \"x2\", \"y\": [158, 65, 47, 157, 297, 38], \"yaxis\": \"y2\"}, {\"marker\": {\"color\": [5830, 5564, 3688, 5878, 6217, 1692], \"colorscale\": [[0.0, \"rgb(61, 89, 65)\"], [0.16666666666666666, \"rgb(119, 136, 104)\"], [0.3333333333333333, \"rgb(181, 185, 145)\"], [0.5, \"rgb(246, 237, 189)\"], [0.6666666666666666, \"rgb(237, 187, 138)\"], [0.8333333333333334, \"rgb(222, 138, 90)\"], [1.0, \"rgb(202, 86, 44)\"]]}, \"name\": \"Max\", \"text\": [5830.0, 5564.0, 3688.0, 5878.0, 6217.0, 1692.0], \"textposition\": \"inside\", \"type\": \"bar\", \"x\": [\"Female Middle\", \"Female Old\", \"Female Young\", \"Male Middle\", \"Male Old\", \"Male Young\"], \"xaxis\": \"x3\", \"y\": [5830, 5564, 3688, 5878, 6217, 1692], \"yaxis\": \"y3\"}, {\"marker\": {\"color\": [206, 129, 171, 302, 76, 116], \"colorscale\": [[0.0, \"rgb(61, 89, 65)\"], [0.16666666666666666, \"rgb(119, 136, 104)\"], [0.3333333333333333, \"rgb(181, 185, 145)\"], [0.5, \"rgb(246, 237, 189)\"], [0.6666666666666666, \"rgb(237, 187, 138)\"], [0.8333333333333334, \"rgb(222, 138, 90)\"], [1.0, \"rgb(202, 86, 44)\"]]}, \"name\": \"Count\", \"text\": [206.0, 129.0, 171.0, 302.0, 76.0, 116.0], \"textposition\": \"inside\", \"type\": \"bar\", \"x\": [\"Female Middle\", \"Female Old\", \"Female Young\", \"Male Middle\", \"Male Old\", \"Male Young\"], \"xaxis\": \"x4\", \"y\": [206, 129, 171, 302, 76, 116], \"yaxis\": \"y4\"}],                        {\"annotations\": [{\"font\": {\"size\": 16}, \"showarrow\": false, \"text\": \" Mean Amount Spent\", \"x\": 0.5, \"xanchor\": \"center\", \"xref\": \"paper\", \"y\": 1.0, \"yanchor\": \"bottom\", \"yref\": \"paper\"}, {\"font\": {\"size\": 16}, \"showarrow\": false, \"text\": \" Min Amount Spent\", \"x\": 0.5, \"xanchor\": \"center\", \"xref\": \"paper\", \"y\": 0.71875, \"yanchor\": \"bottom\", \"yref\": \"paper\"}, {\"font\": {\"size\": 16}, \"showarrow\": false, \"text\": \" Max Amount Spent\", \"x\": 0.5, \"xanchor\": \"center\", \"xref\": \"paper\", \"y\": 0.4375, \"yanchor\": \"bottom\", \"yref\": \"paper\"}, {\"font\": {\"size\": 16}, \"showarrow\": false, \"text\": \" Count \", \"x\": 0.5, \"xanchor\": \"center\", \"xref\": \"paper\", \"y\": 0.15625, \"yanchor\": \"bottom\", \"yref\": \"paper\"}], \"template\": {\"data\": {\"bar\": [{\"error_x\": {\"color\": \"#2a3f5f\"}, \"error_y\": {\"color\": \"#2a3f5f\"}, \"marker\": {\"line\": {\"color\": \"#E5ECF6\", \"width\": 0.5}}, \"type\": \"bar\"}], \"barpolar\": [{\"marker\": {\"line\": {\"color\": \"#E5ECF6\", \"width\": 0.5}}, \"type\": \"barpolar\"}], \"carpet\": [{\"aaxis\": {\"endlinecolor\": \"#2a3f5f\", \"gridcolor\": \"white\", \"linecolor\": \"white\", \"minorgridcolor\": \"white\", \"startlinecolor\": \"#2a3f5f\"}, \"baxis\": {\"endlinecolor\": \"#2a3f5f\", \"gridcolor\": \"white\", \"linecolor\": \"white\", \"minorgridcolor\": \"white\", \"startlinecolor\": \"#2a3f5f\"}, \"type\": \"carpet\"}], \"choropleth\": [{\"colorbar\": {\"outlinewidth\": 0, \"ticks\": \"\"}, \"type\": \"choropleth\"}], \"contour\": [{\"colorbar\": {\"outlinewidth\": 0, \"ticks\": \"\"}, \"colorscale\": [[0.0, \"#0d0887\"], [0.1111111111111111, \"#46039f\"], [0.2222222222222222, \"#7201a8\"], [0.3333333333333333, \"#9c179e\"], [0.4444444444444444, \"#bd3786\"], [0.5555555555555556, \"#d8576b\"], [0.6666666666666666, \"#ed7953\"], [0.7777777777777778, \"#fb9f3a\"], [0.8888888888888888, \"#fdca26\"], [1.0, \"#f0f921\"]], \"type\": \"contour\"}], \"contourcarpet\": [{\"colorbar\": {\"outlinewidth\": 0, \"ticks\": \"\"}, \"type\": \"contourcarpet\"}], \"heatmap\": [{\"colorbar\": {\"outlinewidth\": 0, \"ticks\": \"\"}, \"colorscale\": [[0.0, \"#0d0887\"], [0.1111111111111111, \"#46039f\"], [0.2222222222222222, \"#7201a8\"], [0.3333333333333333, \"#9c179e\"], [0.4444444444444444, \"#bd3786\"], [0.5555555555555556, \"#d8576b\"], [0.6666666666666666, \"#ed7953\"], [0.7777777777777778, \"#fb9f3a\"], [0.8888888888888888, \"#fdca26\"], [1.0, \"#f0f921\"]], \"type\": \"heatmap\"}], \"heatmapgl\": [{\"colorbar\": {\"outlinewidth\": 0, \"ticks\": \"\"}, \"colorscale\": [[0.0, \"#0d0887\"], [0.1111111111111111, \"#46039f\"], [0.2222222222222222, \"#7201a8\"], [0.3333333333333333, \"#9c179e\"], [0.4444444444444444, \"#bd3786\"], [0.5555555555555556, \"#d8576b\"], [0.6666666666666666, \"#ed7953\"], [0.7777777777777778, \"#fb9f3a\"], [0.8888888888888888, \"#fdca26\"], [1.0, \"#f0f921\"]], \"type\": \"heatmapgl\"}], \"histogram\": [{\"marker\": {\"colorbar\": {\"outlinewidth\": 0, \"ticks\": \"\"}}, \"type\": \"histogram\"}], \"histogram2d\": [{\"colorbar\": {\"outlinewidth\": 0, \"ticks\": \"\"}, \"colorscale\": [[0.0, \"#0d0887\"], [0.1111111111111111, \"#46039f\"], [0.2222222222222222, \"#7201a8\"], [0.3333333333333333, \"#9c179e\"], [0.4444444444444444, \"#bd3786\"], [0.5555555555555556, \"#d8576b\"], [0.6666666666666666, \"#ed7953\"], [0.7777777777777778, \"#fb9f3a\"], [0.8888888888888888, \"#fdca26\"], [1.0, \"#f0f921\"]], \"type\": \"histogram2d\"}], \"histogram2dcontour\": [{\"colorbar\": {\"outlinewidth\": 0, \"ticks\": \"\"}, \"colorscale\": [[0.0, \"#0d0887\"], [0.1111111111111111, \"#46039f\"], [0.2222222222222222, \"#7201a8\"], [0.3333333333333333, \"#9c179e\"], [0.4444444444444444, \"#bd3786\"], [0.5555555555555556, \"#d8576b\"], [0.6666666666666666, \"#ed7953\"], [0.7777777777777778, \"#fb9f3a\"], [0.8888888888888888, \"#fdca26\"], [1.0, \"#f0f921\"]], \"type\": \"histogram2dcontour\"}], \"mesh3d\": [{\"colorbar\": {\"outlinewidth\": 0, \"ticks\": \"\"}, \"type\": \"mesh3d\"}], \"parcoords\": [{\"line\": {\"colorbar\": {\"outlinewidth\": 0, \"ticks\": \"\"}}, \"type\": \"parcoords\"}], \"pie\": [{\"automargin\": true, \"type\": \"pie\"}], \"scatter\": [{\"marker\": {\"colorbar\": {\"outlinewidth\": 0, \"ticks\": \"\"}}, \"type\": \"scatter\"}], \"scatter3d\": [{\"line\": {\"colorbar\": {\"outlinewidth\": 0, \"ticks\": \"\"}}, \"marker\": {\"colorbar\": {\"outlinewidth\": 0, \"ticks\": \"\"}}, \"type\": \"scatter3d\"}], \"scattercarpet\": [{\"marker\": {\"colorbar\": {\"outlinewidth\": 0, \"ticks\": \"\"}}, \"type\": \"scattercarpet\"}], \"scattergeo\": [{\"marker\": {\"colorbar\": {\"outlinewidth\": 0, \"ticks\": \"\"}}, \"type\": \"scattergeo\"}], \"scattergl\": [{\"marker\": {\"colorbar\": {\"outlinewidth\": 0, \"ticks\": \"\"}}, \"type\": \"scattergl\"}], \"scattermapbox\": [{\"marker\": {\"colorbar\": {\"outlinewidth\": 0, \"ticks\": \"\"}}, \"type\": \"scattermapbox\"}], \"scatterpolar\": [{\"marker\": {\"colorbar\": {\"outlinewidth\": 0, \"ticks\": \"\"}}, \"type\": \"scatterpolar\"}], \"scatterpolargl\": [{\"marker\": {\"colorbar\": {\"outlinewidth\": 0, \"ticks\": \"\"}}, \"type\": \"scatterpolargl\"}], \"scatterternary\": [{\"marker\": {\"colorbar\": {\"outlinewidth\": 0, \"ticks\": \"\"}}, \"type\": \"scatterternary\"}], \"surface\": [{\"colorbar\": {\"outlinewidth\": 0, \"ticks\": \"\"}, \"colorscale\": [[0.0, \"#0d0887\"], [0.1111111111111111, \"#46039f\"], [0.2222222222222222, \"#7201a8\"], [0.3333333333333333, \"#9c179e\"], [0.4444444444444444, \"#bd3786\"], [0.5555555555555556, \"#d8576b\"], [0.6666666666666666, \"#ed7953\"], [0.7777777777777778, \"#fb9f3a\"], [0.8888888888888888, \"#fdca26\"], [1.0, \"#f0f921\"]], \"type\": \"surface\"}], \"table\": [{\"cells\": {\"fill\": {\"color\": \"#EBF0F8\"}, \"line\": {\"color\": \"white\"}}, \"header\": {\"fill\": {\"color\": \"#C8D4E3\"}, \"line\": {\"color\": \"white\"}}, \"type\": \"table\"}]}, \"layout\": {\"annotationdefaults\": {\"arrowcolor\": \"#2a3f5f\", \"arrowhead\": 0, \"arrowwidth\": 1}, \"coloraxis\": {\"colorbar\": {\"outlinewidth\": 0, \"ticks\": \"\"}}, \"colorscale\": {\"diverging\": [[0, \"#8e0152\"], [0.1, \"#c51b7d\"], [0.2, \"#de77ae\"], [0.3, \"#f1b6da\"], [0.4, \"#fde0ef\"], [0.5, \"#f7f7f7\"], [0.6, \"#e6f5d0\"], [0.7, \"#b8e186\"], [0.8, \"#7fbc41\"], [0.9, \"#4d9221\"], [1, \"#276419\"]], \"sequential\": [[0.0, \"#0d0887\"], [0.1111111111111111, \"#46039f\"], [0.2222222222222222, \"#7201a8\"], [0.3333333333333333, \"#9c179e\"], [0.4444444444444444, \"#bd3786\"], [0.5555555555555556, \"#d8576b\"], [0.6666666666666666, \"#ed7953\"], [0.7777777777777778, \"#fb9f3a\"], [0.8888888888888888, \"#fdca26\"], [1.0, \"#f0f921\"]], \"sequentialminus\": [[0.0, \"#0d0887\"], [0.1111111111111111, \"#46039f\"], [0.2222222222222222, \"#7201a8\"], [0.3333333333333333, \"#9c179e\"], [0.4444444444444444, \"#bd3786\"], [0.5555555555555556, \"#d8576b\"], [0.6666666666666666, \"#ed7953\"], [0.7777777777777778, \"#fb9f3a\"], [0.8888888888888888, \"#fdca26\"], [1.0, \"#f0f921\"]]}, \"colorway\": [\"#636efa\", \"#EF553B\", \"#00cc96\", \"#ab63fa\", \"#FFA15A\", \"#19d3f3\", \"#FF6692\", \"#B6E880\", \"#FF97FF\", \"#FECB52\"], \"font\": {\"color\": \"#2a3f5f\"}, \"geo\": {\"bgcolor\": \"white\", \"lakecolor\": \"white\", \"landcolor\": \"#E5ECF6\", \"showlakes\": true, \"showland\": true, \"subunitcolor\": \"white\"}, \"hoverlabel\": {\"align\": \"left\"}, \"hovermode\": \"closest\", \"mapbox\": {\"style\": \"light\"}, \"paper_bgcolor\": \"white\", \"plot_bgcolor\": \"#E5ECF6\", \"polar\": {\"angularaxis\": {\"gridcolor\": \"white\", \"linecolor\": \"white\", \"ticks\": \"\"}, \"bgcolor\": \"#E5ECF6\", \"radialaxis\": {\"gridcolor\": \"white\", \"linecolor\": \"white\", \"ticks\": \"\"}}, \"scene\": {\"xaxis\": {\"backgroundcolor\": \"#E5ECF6\", \"gridcolor\": \"white\", \"gridwidth\": 2, \"linecolor\": \"white\", \"showbackground\": true, \"ticks\": \"\", \"zerolinecolor\": \"white\"}, \"yaxis\": {\"backgroundcolor\": \"#E5ECF6\", \"gridcolor\": \"white\", \"gridwidth\": 2, \"linecolor\": \"white\", \"showbackground\": true, \"ticks\": \"\", \"zerolinecolor\": \"white\"}, \"zaxis\": {\"backgroundcolor\": \"#E5ECF6\", \"gridcolor\": \"white\", \"gridwidth\": 2, \"linecolor\": \"white\", \"showbackground\": true, \"ticks\": \"\", \"zerolinecolor\": \"white\"}}, \"shapedefaults\": {\"line\": {\"color\": \"#2a3f5f\"}}, \"ternary\": {\"aaxis\": {\"gridcolor\": \"white\", \"linecolor\": \"white\", \"ticks\": \"\"}, \"baxis\": {\"gridcolor\": \"white\", \"linecolor\": \"white\", \"ticks\": \"\"}, \"bgcolor\": \"#E5ECF6\", \"caxis\": {\"gridcolor\": \"white\", \"linecolor\": \"white\", \"ticks\": \"\"}}, \"title\": {\"x\": 0.05}, \"xaxis\": {\"automargin\": true, \"gridcolor\": \"white\", \"linecolor\": \"white\", \"ticks\": \"\", \"title\": {\"standoff\": 15}, \"zerolinecolor\": \"white\", \"zerolinewidth\": 2}, \"yaxis\": {\"automargin\": true, \"gridcolor\": \"white\", \"linecolor\": \"white\", \"ticks\": \"\", \"title\": {\"standoff\": 15}, \"zerolinecolor\": \"white\", \"zerolinewidth\": 2}}}, \"title\": {\"text\": \"Gender Age With Amount Spent\", \"x\": 0.5}, \"xaxis\": {\"anchor\": \"y\", \"domain\": [0.0, 1.0], \"tickangle\": 0}, \"xaxis2\": {\"anchor\": \"y2\", \"domain\": [0.0, 1.0], \"tickangle\": 0}, \"xaxis3\": {\"anchor\": \"y3\", \"domain\": [0.0, 1.0], \"tickangle\": 0}, \"xaxis4\": {\"anchor\": \"y4\", \"domain\": [0.0, 1.0], \"tickangle\": 0}, \"yaxis\": {\"anchor\": \"x\", \"domain\": [0.84375, 1.0]}, \"yaxis2\": {\"anchor\": \"x2\", \"domain\": [0.5625, 0.71875]}, \"yaxis3\": {\"anchor\": \"x3\", \"domain\": [0.28125, 0.4375]}, \"yaxis4\": {\"anchor\": \"x4\", \"domain\": [0.0, 0.15625]}},                        {\"responsive\": true}                    ).then(function(){\n",
       "                            \n",
       "var gd = document.getElementById('49fe5782-82ad-4e12-8bd9-f223576d2a76');\n",
       "var x = new MutationObserver(function (mutations, observer) {{\n",
       "        var display = window.getComputedStyle(gd).display;\n",
       "        if (!display || display === 'none') {{\n",
       "            console.log([gd, 'removed!']);\n",
       "            Plotly.purge(gd);\n",
       "            observer.disconnect();\n",
       "        }}\n",
       "}});\n",
       "\n",
       "// Listen for the removal of the full notebook cells\n",
       "var notebookContainer = gd.closest('#notebook-container');\n",
       "if (notebookContainer) {{\n",
       "    x.observe(notebookContainer, {childList: true});\n",
       "}}\n",
       "\n",
       "// Listen for the clearing of the current output cell\n",
       "var outputEl = gd.closest('.output');\n",
       "if (outputEl) {{\n",
       "    x.observe(outputEl, {childList: true});\n",
       "}}\n",
       "\n",
       "                        })                };                });            </script>        </div>"
      ]
     },
     "metadata": {},
     "output_type": "display_data"
    }
   ],
   "source": [
    "df_G_and_A_AVG=df.groupby(by =['Gender','Age'])['AmountSpent'].mean().to_frame().reset_index().rename(columns={'Gender':'Gender','Age':'Age','AmountSpent':'AVG_AmountSpent'})\n",
    "df_G_and_A_Max=df.groupby(by =['Gender','Age'])['AmountSpent'].max().to_frame().reset_index().rename(columns={'Gender':'Gender1','Age':'Age1','AmountSpent':'Max_AmountSpent'})\n",
    "df_G_and_A_Min=df.groupby(by =['Gender','Age'])['AmountSpent'].min().to_frame().reset_index().rename(columns={'Gender':'Gender2','Age':'Age2','AmountSpent':'Min_AmountSpent'})\n",
    "df_G_and_A_Count=df.groupby(by =['Gender','Age'])['AmountSpent'].count().to_frame().reset_index().rename(columns={'Gender':'Gender3','Age':'Age3','AmountSpent':'Count'})\n",
    "result = pd.concat([df_G_and_A_AVG, df_G_and_A_Max,df_G_and_A_Min,df_G_and_A_Count], axis=1)\n",
    "result.drop(['Gender1','Gender2','Gender3','Age1','Age2','Age3'],inplace=True,axis=1)\n",
    "result[\"AVG_AmountSpent\"]=result[\"AVG_AmountSpent\"].map(lambda x:round(x,2))\n",
    "result[\"Gender_Age\"]=result[\"Gender\"]+\" \"+result[\"Age\"]\n",
    "result.drop(['Gender','Age'],inplace=True,axis=1)\n",
    "\n",
    "fig = make_subplots(rows=4, cols=1,\n",
    "                   subplot_titles=(\" Mean Amount Spent\",\n",
    "                                   \" Min Amount Spent\",\n",
    "                                   \" Max Amount Spent\",\n",
    "                                   \" Count \"))  # Subplot titles\n",
    "\n",
    "fig.add_trace(go.Bar(\n",
    "    x=result['Gender_Age'],y=result['AVG_AmountSpent'],\n",
    "    name=\"Mean\",\n",
    "    marker={'color': result['AVG_AmountSpent'], \n",
    "    'colorscale': 'fall'},  \n",
    "    text=result['AVG_AmountSpent'],\n",
    "    textposition = \"inside\"),\n",
    "    row=1, col=1         \n",
    ")\n",
    "fig.add_trace(go.Bar(\n",
    "    x=result['Gender_Age'],y=result['Min_AmountSpent'],\n",
    "    name=\"Min\",\n",
    "    marker={'color': result['Min_AmountSpent'], \n",
    "    'colorscale': 'fall'},  \n",
    "    text=result['Min_AmountSpent'],\n",
    "    textposition = \"inside\"),\n",
    "    row=2, col=1         \n",
    ")\n",
    "fig.add_trace(go.Bar(\n",
    "    x=result['Gender_Age'],y=result['Max_AmountSpent'],\n",
    "    name=\"Max\",\n",
    "    marker={'color': result['Max_AmountSpent'], \n",
    "    'colorscale': 'fall'},  \n",
    "    text=result['Max_AmountSpent'],\n",
    "    textposition = \"inside\"),\n",
    "    row=3, col=1           \n",
    ")\n",
    "fig.add_trace(go.Bar(\n",
    "    x=result['Gender_Age'],y=result['Count'],\n",
    "    name=\"Count\",\n",
    "    marker={'color': result['Count'], \n",
    "    'colorscale': 'fall'},  \n",
    "    text=result['Count'],\n",
    "    textposition = \"inside\"),\n",
    "    row=4, col=1           \n",
    ")\n",
    "fig.update_layout(title = \"Gender Age With Amount Spent\",title_x=0.5)\n",
    "fig.update_xaxes(\n",
    "        tickangle = 0,\n",
    "        )\n",
    "fig.show()"
   ]
  },
  {
   "cell_type": "markdown",
   "metadata": {
    "papermill": {
     "duration": 0.201015,
     "end_time": "2020-12-10T12:48:05.992052",
     "exception": false,
     "start_time": "2020-12-10T12:48:05.791037",
     "status": "completed"
    },
    "tags": []
   },
   "source": [
    "* What are the customers' average income by gender,age?"
   ]
  },
  {
   "cell_type": "code",
   "execution_count": 32,
   "metadata": {
    "execution": {
     "iopub.execute_input": "2020-12-10T12:48:06.399112Z",
     "iopub.status.busy": "2020-12-10T12:48:06.398279Z",
     "iopub.status.idle": "2020-12-10T12:48:06.413717Z",
     "shell.execute_reply": "2020-12-10T12:48:06.413114Z"
    },
    "papermill": {
     "duration": 0.22133,
     "end_time": "2020-12-10T12:48:06.413854",
     "exception": false,
     "start_time": "2020-12-10T12:48:06.192524",
     "status": "completed"
    },
    "tags": []
   },
   "outputs": [
    {
     "data": {
      "text/html": [
       "<div>\n",
       "<style scoped>\n",
       "    .dataframe tbody tr th:only-of-type {\n",
       "        vertical-align: middle;\n",
       "    }\n",
       "\n",
       "    .dataframe tbody tr th {\n",
       "        vertical-align: top;\n",
       "    }\n",
       "\n",
       "    .dataframe thead th {\n",
       "        text-align: right;\n",
       "    }\n",
       "</style>\n",
       "<table border=\"1\" class=\"dataframe\">\n",
       "  <thead>\n",
       "    <tr style=\"text-align: right;\">\n",
       "      <th></th>\n",
       "      <th></th>\n",
       "      <th>min</th>\n",
       "      <th>mean</th>\n",
       "      <th>max</th>\n",
       "    </tr>\n",
       "    <tr>\n",
       "      <th>Age</th>\n",
       "      <th>Gender</th>\n",
       "      <th></th>\n",
       "      <th></th>\n",
       "      <th></th>\n",
       "    </tr>\n",
       "  </thead>\n",
       "  <tbody>\n",
       "    <tr>\n",
       "      <th rowspan=\"2\" valign=\"top\">Middle</th>\n",
       "      <th>Female</th>\n",
       "      <td>25300</td>\n",
       "      <td>65787.864078</td>\n",
       "      <td>135700</td>\n",
       "    </tr>\n",
       "    <tr>\n",
       "      <th>Male</th>\n",
       "      <td>34200</td>\n",
       "      <td>76298.675497</td>\n",
       "      <td>140700</td>\n",
       "    </tr>\n",
       "    <tr>\n",
       "      <th rowspan=\"2\" valign=\"top\">Old</th>\n",
       "      <th>Female</th>\n",
       "      <td>10100</td>\n",
       "      <td>50213.953488</td>\n",
       "      <td>128700</td>\n",
       "    </tr>\n",
       "    <tr>\n",
       "      <th>Male</th>\n",
       "      <td>15400</td>\n",
       "      <td>66807.894737</td>\n",
       "      <td>168800</td>\n",
       "    </tr>\n",
       "    <tr>\n",
       "      <th rowspan=\"2\" valign=\"top\">Young</th>\n",
       "      <th>Female</th>\n",
       "      <td>10200</td>\n",
       "      <td>25485.380117</td>\n",
       "      <td>79400</td>\n",
       "    </tr>\n",
       "    <tr>\n",
       "      <th>Male</th>\n",
       "      <td>10200</td>\n",
       "      <td>31003.448276</td>\n",
       "      <td>80700</td>\n",
       "    </tr>\n",
       "  </tbody>\n",
       "</table>\n",
       "</div>"
      ],
      "text/plain": [
       "                 min          mean     max\n",
       "Age    Gender                             \n",
       "Middle Female  25300  65787.864078  135700\n",
       "       Male    34200  76298.675497  140700\n",
       "Old    Female  10100  50213.953488  128700\n",
       "       Male    15400  66807.894737  168800\n",
       "Young  Female  10200  25485.380117   79400\n",
       "       Male    10200  31003.448276   80700"
      ]
     },
     "execution_count": 32,
     "metadata": {},
     "output_type": "execute_result"
    }
   ],
   "source": [
    "df_age_gender_agg=df.groupby(by=[\"Age\",\"Gender\"])['Salary'].agg([\"min\",\"mean\",\"max\"])\n",
    "df_age_gender_agg"
   ]
  },
  {
   "cell_type": "code",
   "execution_count": 33,
   "metadata": {
    "execution": {
     "iopub.execute_input": "2020-12-10T12:48:06.834218Z",
     "iopub.status.busy": "2020-12-10T12:48:06.823516Z",
     "iopub.status.idle": "2020-12-10T12:48:06.950827Z",
     "shell.execute_reply": "2020-12-10T12:48:06.950163Z"
    },
    "papermill": {
     "duration": 0.336299,
     "end_time": "2020-12-10T12:48:06.950970",
     "exception": false,
     "start_time": "2020-12-10T12:48:06.614671",
     "status": "completed"
    },
    "tags": []
   },
   "outputs": [
    {
     "data": {
      "text/html": [
       "<div>                            <div id=\"78935636-0940-443d-bbcc-b33313d54358\" class=\"plotly-graph-div\" style=\"height:525px; width:100%;\"></div>            <script type=\"text/javascript\">                require([\"plotly\"], function(Plotly) {                    window.PLOTLYENV=window.PLOTLYENV || {};                                    if (document.getElementById(\"78935636-0940-443d-bbcc-b33313d54358\")) {                    Plotly.newPlot(                        \"78935636-0940-443d-bbcc-b33313d54358\",                        [{\"marker\": {\"color\": [65787.86, 50213.95, 25485.38, 76298.68, 66807.89, 31003.45], \"colorscale\": [[0.0, \"rgb(61, 89, 65)\"], [0.16666666666666666, \"rgb(119, 136, 104)\"], [0.3333333333333333, \"rgb(181, 185, 145)\"], [0.5, \"rgb(246, 237, 189)\"], [0.6666666666666666, \"rgb(237, 187, 138)\"], [0.8333333333333334, \"rgb(222, 138, 90)\"], [1.0, \"rgb(202, 86, 44)\"]]}, \"name\": \"Mean\", \"text\": [65787.86, 50213.95, 25485.38, 76298.68, 66807.89, 31003.45], \"textposition\": \"inside\", \"type\": \"bar\", \"x\": [\"Female Middle\", \"Female Old\", \"Female Young\", \"Male Middle\", \"Male Old\", \"Male Young\"], \"xaxis\": \"x\", \"y\": [65787.86, 50213.95, 25485.38, 76298.68, 66807.89, 31003.45], \"yaxis\": \"y\"}, {\"marker\": {\"color\": [25300, 10100, 10200, 34200, 15400, 10200], \"colorscale\": [[0.0, \"rgb(61, 89, 65)\"], [0.16666666666666666, \"rgb(119, 136, 104)\"], [0.3333333333333333, \"rgb(181, 185, 145)\"], [0.5, \"rgb(246, 237, 189)\"], [0.6666666666666666, \"rgb(237, 187, 138)\"], [0.8333333333333334, \"rgb(222, 138, 90)\"], [1.0, \"rgb(202, 86, 44)\"]]}, \"name\": \"Min\", \"text\": [25300.0, 10100.0, 10200.0, 34200.0, 15400.0, 10200.0], \"textposition\": \"inside\", \"type\": \"bar\", \"x\": [\"Female Middle\", \"Female Old\", \"Female Young\", \"Male Middle\", \"Male Old\", \"Male Young\"], \"xaxis\": \"x2\", \"y\": [25300, 10100, 10200, 34200, 15400, 10200], \"yaxis\": \"y2\"}, {\"marker\": {\"color\": [135700, 128700, 79400, 140700, 168800, 80700], \"colorscale\": [[0.0, \"rgb(61, 89, 65)\"], [0.16666666666666666, \"rgb(119, 136, 104)\"], [0.3333333333333333, \"rgb(181, 185, 145)\"], [0.5, \"rgb(246, 237, 189)\"], [0.6666666666666666, \"rgb(237, 187, 138)\"], [0.8333333333333334, \"rgb(222, 138, 90)\"], [1.0, \"rgb(202, 86, 44)\"]]}, \"name\": \"Max\", \"text\": [135700.0, 128700.0, 79400.0, 140700.0, 168800.0, 80700.0], \"textposition\": \"inside\", \"type\": \"bar\", \"x\": [\"Female Middle\", \"Female Old\", \"Female Young\", \"Male Middle\", \"Male Old\", \"Male Young\"], \"xaxis\": \"x3\", \"y\": [135700, 128700, 79400, 140700, 168800, 80700], \"yaxis\": \"y3\"}, {\"marker\": {\"color\": [206, 129, 171, 302, 76, 116], \"colorscale\": [[0.0, \"rgb(61, 89, 65)\"], [0.16666666666666666, \"rgb(119, 136, 104)\"], [0.3333333333333333, \"rgb(181, 185, 145)\"], [0.5, \"rgb(246, 237, 189)\"], [0.6666666666666666, \"rgb(237, 187, 138)\"], [0.8333333333333334, \"rgb(222, 138, 90)\"], [1.0, \"rgb(202, 86, 44)\"]]}, \"name\": \"Count\", \"text\": [206.0, 129.0, 171.0, 302.0, 76.0, 116.0], \"textposition\": \"inside\", \"type\": \"bar\", \"x\": [\"Female Middle\", \"Female Old\", \"Female Young\", \"Male Middle\", \"Male Old\", \"Male Young\"], \"xaxis\": \"x4\", \"y\": [206, 129, 171, 302, 76, 116], \"yaxis\": \"y4\"}],                        {\"annotations\": [{\"font\": {\"size\": 16}, \"showarrow\": false, \"text\": \" Mean Salary\", \"x\": 0.5, \"xanchor\": \"center\", \"xref\": \"paper\", \"y\": 1.0, \"yanchor\": \"bottom\", \"yref\": \"paper\"}, {\"font\": {\"size\": 16}, \"showarrow\": false, \"text\": \" Min Salary\", \"x\": 0.5, \"xanchor\": \"center\", \"xref\": \"paper\", \"y\": 0.71875, \"yanchor\": \"bottom\", \"yref\": \"paper\"}, {\"font\": {\"size\": 16}, \"showarrow\": false, \"text\": \" Max Salary\", \"x\": 0.5, \"xanchor\": \"center\", \"xref\": \"paper\", \"y\": 0.4375, \"yanchor\": \"bottom\", \"yref\": \"paper\"}, {\"font\": {\"size\": 16}, \"showarrow\": false, \"text\": \" Count \", \"x\": 0.5, \"xanchor\": \"center\", \"xref\": \"paper\", \"y\": 0.15625, \"yanchor\": \"bottom\", \"yref\": \"paper\"}], \"template\": {\"data\": {\"bar\": [{\"error_x\": {\"color\": \"#2a3f5f\"}, \"error_y\": {\"color\": \"#2a3f5f\"}, \"marker\": {\"line\": {\"color\": \"#E5ECF6\", \"width\": 0.5}}, \"type\": \"bar\"}], \"barpolar\": [{\"marker\": {\"line\": {\"color\": \"#E5ECF6\", \"width\": 0.5}}, \"type\": \"barpolar\"}], \"carpet\": [{\"aaxis\": {\"endlinecolor\": \"#2a3f5f\", \"gridcolor\": \"white\", \"linecolor\": \"white\", \"minorgridcolor\": \"white\", \"startlinecolor\": \"#2a3f5f\"}, \"baxis\": {\"endlinecolor\": \"#2a3f5f\", \"gridcolor\": \"white\", \"linecolor\": \"white\", \"minorgridcolor\": \"white\", \"startlinecolor\": \"#2a3f5f\"}, \"type\": \"carpet\"}], \"choropleth\": [{\"colorbar\": {\"outlinewidth\": 0, \"ticks\": \"\"}, \"type\": \"choropleth\"}], \"contour\": [{\"colorbar\": {\"outlinewidth\": 0, \"ticks\": \"\"}, \"colorscale\": [[0.0, \"#0d0887\"], [0.1111111111111111, \"#46039f\"], [0.2222222222222222, \"#7201a8\"], [0.3333333333333333, \"#9c179e\"], [0.4444444444444444, \"#bd3786\"], [0.5555555555555556, \"#d8576b\"], [0.6666666666666666, \"#ed7953\"], [0.7777777777777778, \"#fb9f3a\"], [0.8888888888888888, \"#fdca26\"], [1.0, \"#f0f921\"]], \"type\": \"contour\"}], \"contourcarpet\": [{\"colorbar\": {\"outlinewidth\": 0, \"ticks\": \"\"}, \"type\": \"contourcarpet\"}], \"heatmap\": [{\"colorbar\": {\"outlinewidth\": 0, \"ticks\": \"\"}, \"colorscale\": [[0.0, \"#0d0887\"], [0.1111111111111111, \"#46039f\"], [0.2222222222222222, \"#7201a8\"], [0.3333333333333333, \"#9c179e\"], [0.4444444444444444, \"#bd3786\"], [0.5555555555555556, \"#d8576b\"], [0.6666666666666666, \"#ed7953\"], [0.7777777777777778, \"#fb9f3a\"], [0.8888888888888888, \"#fdca26\"], [1.0, \"#f0f921\"]], \"type\": \"heatmap\"}], \"heatmapgl\": [{\"colorbar\": {\"outlinewidth\": 0, \"ticks\": \"\"}, \"colorscale\": [[0.0, \"#0d0887\"], [0.1111111111111111, \"#46039f\"], [0.2222222222222222, \"#7201a8\"], [0.3333333333333333, \"#9c179e\"], [0.4444444444444444, \"#bd3786\"], [0.5555555555555556, \"#d8576b\"], [0.6666666666666666, \"#ed7953\"], [0.7777777777777778, \"#fb9f3a\"], [0.8888888888888888, \"#fdca26\"], [1.0, \"#f0f921\"]], \"type\": \"heatmapgl\"}], \"histogram\": [{\"marker\": {\"colorbar\": {\"outlinewidth\": 0, \"ticks\": \"\"}}, \"type\": \"histogram\"}], \"histogram2d\": [{\"colorbar\": {\"outlinewidth\": 0, \"ticks\": \"\"}, \"colorscale\": [[0.0, \"#0d0887\"], [0.1111111111111111, \"#46039f\"], [0.2222222222222222, \"#7201a8\"], [0.3333333333333333, \"#9c179e\"], [0.4444444444444444, \"#bd3786\"], [0.5555555555555556, \"#d8576b\"], [0.6666666666666666, \"#ed7953\"], [0.7777777777777778, \"#fb9f3a\"], [0.8888888888888888, \"#fdca26\"], [1.0, \"#f0f921\"]], \"type\": \"histogram2d\"}], \"histogram2dcontour\": [{\"colorbar\": {\"outlinewidth\": 0, \"ticks\": \"\"}, \"colorscale\": [[0.0, \"#0d0887\"], [0.1111111111111111, \"#46039f\"], [0.2222222222222222, \"#7201a8\"], [0.3333333333333333, \"#9c179e\"], [0.4444444444444444, \"#bd3786\"], [0.5555555555555556, \"#d8576b\"], [0.6666666666666666, \"#ed7953\"], [0.7777777777777778, \"#fb9f3a\"], [0.8888888888888888, \"#fdca26\"], [1.0, \"#f0f921\"]], \"type\": \"histogram2dcontour\"}], \"mesh3d\": [{\"colorbar\": {\"outlinewidth\": 0, \"ticks\": \"\"}, \"type\": \"mesh3d\"}], \"parcoords\": [{\"line\": {\"colorbar\": {\"outlinewidth\": 0, \"ticks\": \"\"}}, \"type\": \"parcoords\"}], \"pie\": [{\"automargin\": true, \"type\": \"pie\"}], \"scatter\": [{\"marker\": {\"colorbar\": {\"outlinewidth\": 0, \"ticks\": \"\"}}, \"type\": \"scatter\"}], \"scatter3d\": [{\"line\": {\"colorbar\": {\"outlinewidth\": 0, \"ticks\": \"\"}}, \"marker\": {\"colorbar\": {\"outlinewidth\": 0, \"ticks\": \"\"}}, \"type\": \"scatter3d\"}], \"scattercarpet\": [{\"marker\": {\"colorbar\": {\"outlinewidth\": 0, \"ticks\": \"\"}}, \"type\": \"scattercarpet\"}], \"scattergeo\": [{\"marker\": {\"colorbar\": {\"outlinewidth\": 0, \"ticks\": \"\"}}, \"type\": \"scattergeo\"}], \"scattergl\": [{\"marker\": {\"colorbar\": {\"outlinewidth\": 0, \"ticks\": \"\"}}, \"type\": \"scattergl\"}], \"scattermapbox\": [{\"marker\": {\"colorbar\": {\"outlinewidth\": 0, \"ticks\": \"\"}}, \"type\": \"scattermapbox\"}], \"scatterpolar\": [{\"marker\": {\"colorbar\": {\"outlinewidth\": 0, \"ticks\": \"\"}}, \"type\": \"scatterpolar\"}], \"scatterpolargl\": [{\"marker\": {\"colorbar\": {\"outlinewidth\": 0, \"ticks\": \"\"}}, \"type\": \"scatterpolargl\"}], \"scatterternary\": [{\"marker\": {\"colorbar\": {\"outlinewidth\": 0, \"ticks\": \"\"}}, \"type\": \"scatterternary\"}], \"surface\": [{\"colorbar\": {\"outlinewidth\": 0, \"ticks\": \"\"}, \"colorscale\": [[0.0, \"#0d0887\"], [0.1111111111111111, \"#46039f\"], [0.2222222222222222, \"#7201a8\"], [0.3333333333333333, \"#9c179e\"], [0.4444444444444444, \"#bd3786\"], [0.5555555555555556, \"#d8576b\"], [0.6666666666666666, \"#ed7953\"], [0.7777777777777778, \"#fb9f3a\"], [0.8888888888888888, \"#fdca26\"], [1.0, \"#f0f921\"]], \"type\": \"surface\"}], \"table\": [{\"cells\": {\"fill\": {\"color\": \"#EBF0F8\"}, \"line\": {\"color\": \"white\"}}, \"header\": {\"fill\": {\"color\": \"#C8D4E3\"}, \"line\": {\"color\": \"white\"}}, \"type\": \"table\"}]}, \"layout\": {\"annotationdefaults\": {\"arrowcolor\": \"#2a3f5f\", \"arrowhead\": 0, \"arrowwidth\": 1}, \"coloraxis\": {\"colorbar\": {\"outlinewidth\": 0, \"ticks\": \"\"}}, \"colorscale\": {\"diverging\": [[0, \"#8e0152\"], [0.1, \"#c51b7d\"], [0.2, \"#de77ae\"], [0.3, \"#f1b6da\"], [0.4, \"#fde0ef\"], [0.5, \"#f7f7f7\"], [0.6, \"#e6f5d0\"], [0.7, \"#b8e186\"], [0.8, \"#7fbc41\"], [0.9, \"#4d9221\"], [1, \"#276419\"]], \"sequential\": [[0.0, \"#0d0887\"], [0.1111111111111111, \"#46039f\"], [0.2222222222222222, \"#7201a8\"], [0.3333333333333333, \"#9c179e\"], [0.4444444444444444, \"#bd3786\"], [0.5555555555555556, \"#d8576b\"], [0.6666666666666666, \"#ed7953\"], [0.7777777777777778, \"#fb9f3a\"], [0.8888888888888888, \"#fdca26\"], [1.0, \"#f0f921\"]], \"sequentialminus\": [[0.0, \"#0d0887\"], [0.1111111111111111, \"#46039f\"], [0.2222222222222222, \"#7201a8\"], [0.3333333333333333, \"#9c179e\"], [0.4444444444444444, \"#bd3786\"], [0.5555555555555556, \"#d8576b\"], [0.6666666666666666, \"#ed7953\"], [0.7777777777777778, \"#fb9f3a\"], [0.8888888888888888, \"#fdca26\"], [1.0, \"#f0f921\"]]}, \"colorway\": [\"#636efa\", \"#EF553B\", \"#00cc96\", \"#ab63fa\", \"#FFA15A\", \"#19d3f3\", \"#FF6692\", \"#B6E880\", \"#FF97FF\", \"#FECB52\"], \"font\": {\"color\": \"#2a3f5f\"}, \"geo\": {\"bgcolor\": \"white\", \"lakecolor\": \"white\", \"landcolor\": \"#E5ECF6\", \"showlakes\": true, \"showland\": true, \"subunitcolor\": \"white\"}, \"hoverlabel\": {\"align\": \"left\"}, \"hovermode\": \"closest\", \"mapbox\": {\"style\": \"light\"}, \"paper_bgcolor\": \"white\", \"plot_bgcolor\": \"#E5ECF6\", \"polar\": {\"angularaxis\": {\"gridcolor\": \"white\", \"linecolor\": \"white\", \"ticks\": \"\"}, \"bgcolor\": \"#E5ECF6\", \"radialaxis\": {\"gridcolor\": \"white\", \"linecolor\": \"white\", \"ticks\": \"\"}}, \"scene\": {\"xaxis\": {\"backgroundcolor\": \"#E5ECF6\", \"gridcolor\": \"white\", \"gridwidth\": 2, \"linecolor\": \"white\", \"showbackground\": true, \"ticks\": \"\", \"zerolinecolor\": \"white\"}, \"yaxis\": {\"backgroundcolor\": \"#E5ECF6\", \"gridcolor\": \"white\", \"gridwidth\": 2, \"linecolor\": \"white\", \"showbackground\": true, \"ticks\": \"\", \"zerolinecolor\": \"white\"}, \"zaxis\": {\"backgroundcolor\": \"#E5ECF6\", \"gridcolor\": \"white\", \"gridwidth\": 2, \"linecolor\": \"white\", \"showbackground\": true, \"ticks\": \"\", \"zerolinecolor\": \"white\"}}, \"shapedefaults\": {\"line\": {\"color\": \"#2a3f5f\"}}, \"ternary\": {\"aaxis\": {\"gridcolor\": \"white\", \"linecolor\": \"white\", \"ticks\": \"\"}, \"baxis\": {\"gridcolor\": \"white\", \"linecolor\": \"white\", \"ticks\": \"\"}, \"bgcolor\": \"#E5ECF6\", \"caxis\": {\"gridcolor\": \"white\", \"linecolor\": \"white\", \"ticks\": \"\"}}, \"title\": {\"x\": 0.05}, \"xaxis\": {\"automargin\": true, \"gridcolor\": \"white\", \"linecolor\": \"white\", \"ticks\": \"\", \"title\": {\"standoff\": 15}, \"zerolinecolor\": \"white\", \"zerolinewidth\": 2}, \"yaxis\": {\"automargin\": true, \"gridcolor\": \"white\", \"linecolor\": \"white\", \"ticks\": \"\", \"title\": {\"standoff\": 15}, \"zerolinecolor\": \"white\", \"zerolinewidth\": 2}}}, \"title\": {\"text\": \"Gender Age With Salary\", \"x\": 0.5}, \"xaxis\": {\"anchor\": \"y\", \"domain\": [0.0, 1.0], \"tickangle\": 0}, \"xaxis2\": {\"anchor\": \"y2\", \"domain\": [0.0, 1.0], \"tickangle\": 0}, \"xaxis3\": {\"anchor\": \"y3\", \"domain\": [0.0, 1.0], \"tickangle\": 0}, \"xaxis4\": {\"anchor\": \"y4\", \"domain\": [0.0, 1.0], \"tickangle\": 0}, \"yaxis\": {\"anchor\": \"x\", \"domain\": [0.84375, 1.0]}, \"yaxis2\": {\"anchor\": \"x2\", \"domain\": [0.5625, 0.71875]}, \"yaxis3\": {\"anchor\": \"x3\", \"domain\": [0.28125, 0.4375]}, \"yaxis4\": {\"anchor\": \"x4\", \"domain\": [0.0, 0.15625]}},                        {\"responsive\": true}                    ).then(function(){\n",
       "                            \n",
       "var gd = document.getElementById('78935636-0940-443d-bbcc-b33313d54358');\n",
       "var x = new MutationObserver(function (mutations, observer) {{\n",
       "        var display = window.getComputedStyle(gd).display;\n",
       "        if (!display || display === 'none') {{\n",
       "            console.log([gd, 'removed!']);\n",
       "            Plotly.purge(gd);\n",
       "            observer.disconnect();\n",
       "        }}\n",
       "}});\n",
       "\n",
       "// Listen for the removal of the full notebook cells\n",
       "var notebookContainer = gd.closest('#notebook-container');\n",
       "if (notebookContainer) {{\n",
       "    x.observe(notebookContainer, {childList: true});\n",
       "}}\n",
       "\n",
       "// Listen for the clearing of the current output cell\n",
       "var outputEl = gd.closest('.output');\n",
       "if (outputEl) {{\n",
       "    x.observe(outputEl, {childList: true});\n",
       "}}\n",
       "\n",
       "                        })                };                });            </script>        </div>"
      ]
     },
     "metadata": {},
     "output_type": "display_data"
    }
   ],
   "source": [
    "df_G_and_A_AVG=df.groupby(by =['Gender','Age'])['Salary'].mean().to_frame().reset_index().rename(columns={'Gender':'Gender','Age':'Age','Salary':'AVG_Salary'})\n",
    "df_G_and_A_Max=df.groupby(by =['Gender','Age'])['Salary'].max().to_frame().reset_index().rename(columns={'Gender':'Gender1','Age':'Age1','Salary':'Max_Salary'})\n",
    "df_G_and_A_Min=df.groupby(by =['Gender','Age'])['Salary'].min().to_frame().reset_index().rename(columns={'Gender':'Gender2','Age':'Age2','Salary':'Min_Salary'})\n",
    "df_G_and_A_Count=df.groupby(by =['Gender','Age'])['Salary'].count().to_frame().reset_index().rename(columns={'Gender':'Gender3','Age':'Age3','Salary':'Count'})\n",
    "result = pd.concat([df_G_and_A_AVG, df_G_and_A_Max,df_G_and_A_Min,df_G_and_A_Count], axis=1)\n",
    "result.drop(['Gender1','Gender2','Gender3','Age1','Age2','Age3'],inplace=True,axis=1)\n",
    "result[\"AVG_Salary\"]=result[\"AVG_Salary\"].map(lambda x:round(x,2))\n",
    "result[\"Gender_Age\"]=result[\"Gender\"]+\" \"+result[\"Age\"]\n",
    "result.drop(['Gender','Age'],inplace=True,axis=1)\n",
    "\n",
    "\n",
    "fig = make_subplots(rows=4, cols=1,\n",
    "                   subplot_titles=(\" Mean Salary\",\n",
    "                                   \" Min Salary\",\n",
    "                                   \" Max Salary\",\n",
    "                                   \" Count \"))  # Subplot titles\n",
    "\n",
    "fig.add_trace(go.Bar(\n",
    "    x=result['Gender_Age'],y=result['AVG_Salary'],\n",
    "    name=\"Mean\",\n",
    "    marker={'color': result['AVG_Salary'], \n",
    "    'colorscale': 'fall'},  \n",
    "    text=result['AVG_Salary'],\n",
    "    textposition = \"inside\"),\n",
    "    row=1, col=1         \n",
    ")\n",
    "fig.add_trace(go.Bar(\n",
    "    x=result['Gender_Age'],y=result['Min_Salary'],\n",
    "    name=\"Min\",\n",
    "    marker={'color': result['Min_Salary'], \n",
    "    'colorscale': 'fall'},  \n",
    "    text=result['Min_Salary'],\n",
    "    textposition = \"inside\"),\n",
    "    row=2, col=1         \n",
    ")\n",
    "fig.add_trace(go.Bar(\n",
    "    x=result['Gender_Age'],y=result['Max_Salary'],\n",
    "    name=\"Max\",\n",
    "    marker={'color': result['Max_Salary'], \n",
    "    'colorscale': 'fall'},  \n",
    "    text=result['Max_Salary'],\n",
    "    textposition = \"inside\"),\n",
    "    row=3, col=1           \n",
    ")\n",
    "fig.add_trace(go.Bar(\n",
    "    x=result['Gender_Age'],y=result['Count'],\n",
    "    name=\"Count\",\n",
    "    marker={'color': result['Count'], \n",
    "    'colorscale': 'fall'},  \n",
    "    text=result['Count'],\n",
    "    textposition = \"inside\"),\n",
    "    row=4, col=1           \n",
    ")\n",
    "fig.update_layout(title = \"Gender Age With Salary\",title_x=0.5)\n",
    "fig.update_xaxes(\n",
    "        tickangle = 0,\n",
    "        )\n",
    "fig.show()"
   ]
  },
  {
   "cell_type": "markdown",
   "metadata": {
    "papermill": {
     "duration": 0.201398,
     "end_time": "2020-12-10T12:48:07.356002",
     "exception": false,
     "start_time": "2020-12-10T12:48:07.154604",
     "status": "completed"
    },
    "tags": []
   },
   "source": [
    "## Summary\n",
    "* Gender distribution is balanced\n",
    "* Men earn more and spend more\n",
    "\n",
    "* The highest number of customers is middle age men\n",
    "* Lowest number of customers older men\n",
    "\n",
    "* Highest average spending:Male Old 1691\n",
    "* Lowest average spending: Female Young 501\n",
    "\n",
    "* Highest average Salary:Male Middle 76.3 k\n",
    "* Lowest average Salary: Female Young 25.5 k"
   ]
  },
  {
   "cell_type": "code",
   "execution_count": 38,
   "metadata": {
    "execution": {
     "iopub.execute_input": "2020-12-10T12:48:11.294250Z",
     "iopub.status.busy": "2020-12-10T12:48:11.293315Z",
     "iopub.status.idle": "2020-12-10T12:48:11.390622Z",
     "shell.execute_reply": "2020-12-10T12:48:11.391252Z"
    },
    "papermill": {
     "duration": 0.322054,
     "end_time": "2020-12-10T12:48:11.391407",
     "exception": false,
     "start_time": "2020-12-10T12:48:11.069353",
     "status": "completed"
    },
    "tags": []
   },
   "outputs": [
    {
     "data": {
      "text/html": [
       "<div>                            <div id=\"93d64d79-59dc-4dd0-b975-27b5aaa65c41\" class=\"plotly-graph-div\" style=\"height:525px; width:100%;\"></div>            <script type=\"text/javascript\">                require([\"plotly\"], function(Plotly) {                    window.PLOTLYENV=window.PLOTLYENV || {};                                    if (document.getElementById(\"93d64d79-59dc-4dd0-b975-27b5aaa65c41\")) {                    Plotly.newPlot(                        \"93d64d79-59dc-4dd0-b975-27b5aaa65c41\",                        [{\"hovertemplate\": \"OwnHome=Own<br>Salary=%{x}<br>AmountSpent=%{y}<extra></extra>\", \"legendgroup\": \"Own\", \"marker\": {\"color\": \"#636efa\", \"symbol\": \"circle\"}, \"mode\": \"markers\", \"name\": \"Own\", \"orientation\": \"v\", \"showlegend\": true, \"type\": \"scatter\", \"x\": [47500, 85600, 68400, 30400, 68400, 51900, 80700, 111800, 44100, 111400, 110000, 83100, 82800, 90100, 92300, 62800, 104100, 27000, 64100, 41600, 64000, 96800, 49600, 111500, 77700, 58900, 126500, 83300, 90500, 87200, 105300, 56000, 60300, 33700, 62700, 25900, 15600, 14600, 62600, 72500, 51300, 72300, 90400, 71500, 57600, 84300, 24400, 74700, 11400, 127000, 48700, 134500, 75500, 33600, 110400, 81200, 52700, 20900, 90700, 91800, 27900, 70700, 79600, 46600, 106600, 58300, 70200, 59700, 66800, 105300, 44200, 35200, 113000, 63300, 93400, 21400, 53700, 68000, 100100, 103700, 81700, 114800, 67900, 53700, 109800, 64200, 49100, 42600, 113600, 52900, 59600, 51200, 88200, 122100, 140000, 28500, 60200, 81200, 73100, 45700, 84800, 35000, 123600, 77800, 48700, 27100, 35300, 64600, 113800, 113400, 100100, 80000, 83900, 77000, 54700, 68700, 101700, 98400, 51200, 62200, 109200, 29600, 71200, 33000, 74400, 33200, 70900, 41400, 107400, 120000, 54400, 84200, 65300, 100800, 56700, 96100, 97200, 82400, 62000, 108200, 76200, 76100, 82100, 103300, 47500, 72200, 107600, 109900, 65400, 43300, 51900, 80600, 68200, 54600, 65900, 39600, 59700, 102800, 50600, 55500, 27800, 118600, 130700, 118300, 30900, 55900, 53900, 84300, 53400, 96900, 26800, 102500, 48900, 60300, 73700, 63300, 33200, 78800, 82500, 80800, 88100, 31900, 53300, 15400, 70200, 82400, 97900, 86900, 45100, 74800, 118500, 65300, 103900, 71900, 86100, 96300, 96300, 24000, 66300, 33400, 70000, 47900, 69100, 39600, 123000, 34600, 74500, 56600, 61400, 76400, 55100, 22800, 10100, 59100, 73800, 113300, 118400, 92300, 43500, 97500, 54600, 82800, 62300, 96900, 97300, 44600, 74900, 73300, 41300, 32700, 35200, 97400, 49200, 45000, 87200, 49900, 66900, 47600, 47900, 59400, 96600, 126300, 108100, 50100, 74700, 33400, 83700, 45800, 108900, 84100, 69900, 97100, 72200, 78900, 62500, 105500, 46100, 48400, 35200, 70400, 36100, 61600, 88700, 88600, 17300, 43300, 76700, 123000, 56300, 70000, 48100, 63700, 118800, 79400, 17600, 95100, 119800, 58700, 76700, 67600, 61500, 72900, 62200, 24400, 66500, 22000, 55600, 45900, 15100, 140700, 90300, 95900, 98400, 102400, 95800, 51400, 21600, 65900, 97500, 31900, 12800, 12600, 23800, 84700, 20600, 83100, 88700, 54700, 68900, 70900, 55900, 80800, 100600, 39900, 61000, 38700, 98900, 64300, 75600, 66600, 89000, 73000, 29600, 77100, 27500, 51000, 85600, 96300, 60500, 35800, 58200, 59900, 37500, 22800, 107400, 102700, 60200, 64800, 89500, 87000, 55500, 55900, 81400, 90500, 82200, 65400, 74400, 43900, 20300, 16300, 97600, 41300, 27200, 102400, 27900, 100000, 65800, 49700, 51900, 85500, 111900, 82400, 52200, 43100, 40100, 84500, 79300, 30300, 86500, 102300, 52600, 71600, 131500, 28300, 41900, 79200, 70400, 107300, 41000, 74500, 60200, 83700, 106400, 21900, 122700, 75500, 62900, 79700, 45900, 42800, 65500, 55600, 21500, 112800, 124900, 72200, 82400, 68500, 62200, 35900, 86400, 85300, 110700, 53800, 52000, 63700, 25900, 108100, 107300, 98500, 96200, 42700, 49700, 26700, 61000, 76600, 117500, 90600, 12700, 77600, 95800, 32600, 74500, 64100, 130600, 74400, 40600, 65400, 96500, 55600, 99600, 79900, 16300, 49200, 48100, 61300, 72600, 76800, 60200, 32500, 109600, 32000, 44700, 69400, 64300, 75400, 96100, 118000, 59300, 102600, 22400, 54200, 25300, 116100, 46600, 23200, 82700, 83000, 42400, 40200, 109800, 64400, 46300, 74900, 67900, 99200, 62800, 76900, 84100, 77600, 128700, 65800, 96500, 102700, 100100, 57900, 31500, 117900, 48800, 67900, 168800, 55200, 58400, 67800, 25500, 23400, 102500, 52300, 37000, 37300, 36700, 63200, 77300, 71300, 39100, 73200, 79000, 43600, 83600, 56200, 99300, 108000, 84900, 93000, 82000, 33000, 36900, 96800, 63200, 112900, 102700, 123800, 101700, 99200, 44800, 79000], \"xaxis\": \"x\", \"y\": [755, 2436, 1304, 495, 1155, 158, 3034, 2065, 704, 2136, 5564, 2766, 3010, 1956, 655, 707, 2636, 183, 1595, 982, 410, 3082, 844, 2510, 983, 1215, 2000, 2574, 1116, 3604, 3360, 530, 1263, 614, 704, 449, 136, 468, 565, 2595, 1424, 4182, 2924, 964, 1006, 1648, 220, 704, 258, 1821, 528, 4558, 741, 805, 1093, 1856, 855, 550, 2265, 2452, 1184, 2150, 1575, 1153, 1877, 1472, 1702, 1857, 2098, 3505, 2524, 607, 1554, 633, 3079, 326, 235, 3688, 3104, 2339, 879, 3596, 2925, 1081, 4279, 1642, 474, 1790, 3237, 2316, 1217, 1293, 2749, 2408, 4894, 621, 1365, 2693, 1582, 724, 1826, 473, 1892, 1813, 1457, 437, 1093, 1298, 3273, 1790, 3491, 1985, 1721, 2104, 848, 1699, 2551, 3305, 1257, 1583, 1102, 774, 638, 979, 2479, 1037, 690, 643, 1485, 1926, 342, 1654, 1443, 1789, 536, 316, 1634, 2035, 3293, 635, 979, 719, 1308, 3378, 847, 2492, 1512, 870, 938, 1584, 1148, 2840, 818, 2163, 1081, 1085, 1422, 2238, 713, 858, 408, 1553, 2070, 2502, 862, 2555, 1186, 2842, 886, 1420, 435, 2464, 915, 2091, 1274, 679, 607, 3398, 859, 2444, 1078, 616, 508, 297, 1583, 657, 2149, 2230, 448, 1968, 3063, 193, 2666, 1846, 1255, 1081, 3916, 357, 1088, 617, 1227, 662, 1477, 610, 3671, 748, 1481, 1607, 1575, 881, 1439, 452, 93, 1426, 3120, 5151, 3941, 2141, 500, 2837, 1246, 1544, 2644, 1159, 3048, 236, 1474, 1694, 1985, 1252, 827, 880, 210, 902, 1274, 1631, 1220, 801, 1090, 1699, 1437, 1888, 2632, 1071, 1699, 567, 3344, 712, 1841, 2710, 2101, 1473, 715, 2233, 921, 1781, 418, 992, 233, 1127, 438, 1666, 2448, 2563, 166, 1021, 1431, 5878, 321, 1974, 1640, 364, 2176, 200, 224, 809, 2090, 1479, 534, 1172, 968, 753, 2119, 491, 286, 736, 1786, 1645, 274, 1001, 1944, 2585, 1414, 1237, 678, 694, 491, 1436, 1280, 860, 230, 164, 438, 2705, 201, 586, 2693, 1404, 2784, 794, 964, 1598, 2838, 619, 1850, 1506, 3126, 1325, 1541, 1177, 1487, 1534, 583, 568, 571, 1025, 3380, 1909, 340, 1355, 981, 613, 1578, 258, 1821, 2381, 1364, 574, 5209, 1594, 427, 788, 3001, 863, 1517, 836, 1152, 358, 304, 360, 1162, 932, 446, 2466, 576, 2247, 1017, 613, 1162, 895, 2340, 2122, 669, 1444, 1384, 1557, 2047, 1062, 2690, 2438, 1307, 1198, 2840, 933, 654, 1905, 2610, 1194, 768, 1413, 1748, 1582, 1757, 486, 4984, 2450, 2561, 3384, 416, 685, 1931, 1553, 445, 1861, 4109, 3278, 1779, 1500, 1348, 962, 1713, 2523, 2458, 843, 2545, 1351, 582, 1133, 1566, 2034, 1457, 541, 2844, 1120, 975, 2904, 927, 3167, 65, 858, 2581, 172, 824, 1332, 3442, 1893, 690, 2290, 1364, 952, 871, 295, 317, 1078, 961, 1241, 1999, 1061, 1955, 883, 2318, 1320, 502, 2419, 661, 2723, 1588, 581, 929, 2546, 947, 757, 451, 2975, 158, 534, 1753, 726, 1166, 1197, 2258, 1913, 1138, 1804, 1418, 2796, 1403, 3230, 1352, 2004, 3995, 869, 3780, 1473, 1597, 1693, 269, 1760, 1271, 356, 1512, 1714, 829, 680, 636, 348, 548, 2034, 850, 673, 529, 1932, 1853, 1543, 1001, 2177, 2279, 1047, 538, 1546, 1504, 1849, 3072, 1046, 1800, 700, 514, 2299, 1507, 6217, 3785, 3537, 941, 5503, 1417, 671], \"yaxis\": \"y\"}, {\"hovertemplate\": \"<b>OLS trendline</b><br>AmountSpent = 0.022335 * Salary + -14.9268<br>R<sup>2</sup>=0.382910<br><br>OwnHome=Own<br>Salary=%{x}<br>AmountSpent=%{y} <b>(trend)</b><extra></extra>\", \"legendgroup\": \"Own\", \"marker\": {\"color\": \"#636efa\", \"symbol\": \"circle\"}, \"mode\": \"lines\", \"name\": \"Own\", \"showlegend\": false, \"type\": \"scatter\", \"x\": [10100, 11400, 12600, 12700, 12800, 14600, 15100, 15400, 15600, 16300, 16300, 17300, 17600, 20300, 20600, 20900, 21400, 21500, 21600, 21900, 22000, 22400, 22800, 22800, 23200, 23400, 23800, 24000, 24400, 24400, 25300, 25500, 25900, 25900, 26700, 26800, 27000, 27100, 27200, 27500, 27800, 27900, 27900, 28300, 28500, 29600, 29600, 30300, 30400, 30900, 31500, 31900, 31900, 32000, 32500, 32600, 32700, 33000, 33000, 33200, 33200, 33400, 33400, 33600, 33700, 34600, 35000, 35200, 35200, 35200, 35300, 35800, 35900, 36100, 36700, 36900, 37000, 37300, 37500, 38700, 39100, 39600, 39600, 39900, 40100, 40200, 40600, 41000, 41300, 41300, 41400, 41600, 41900, 42400, 42600, 42700, 42800, 43100, 43300, 43300, 43500, 43600, 43900, 44100, 44200, 44600, 44700, 44800, 45000, 45100, 45700, 45800, 45900, 45900, 46100, 46300, 46600, 46600, 47500, 47500, 47600, 47900, 47900, 48100, 48100, 48400, 48700, 48700, 48800, 48900, 49100, 49200, 49200, 49600, 49700, 49700, 49900, 50100, 50600, 51000, 51200, 51200, 51300, 51400, 51900, 51900, 51900, 52000, 52200, 52300, 52600, 52700, 52900, 53300, 53400, 53700, 53700, 53800, 53900, 54200, 54400, 54600, 54600, 54700, 54700, 55100, 55200, 55500, 55500, 55600, 55600, 55600, 55900, 55900, 55900, 56000, 56200, 56300, 56600, 56700, 57600, 57900, 58200, 58300, 58400, 58700, 58900, 59100, 59300, 59400, 59600, 59700, 59700, 59900, 60200, 60200, 60200, 60200, 60300, 60300, 60500, 61000, 61000, 61300, 61400, 61500, 61600, 62000, 62200, 62200, 62200, 62300, 62500, 62600, 62700, 62800, 62800, 62900, 63200, 63200, 63300, 63300, 63700, 63700, 64000, 64100, 64100, 64200, 64300, 64300, 64400, 64600, 64800, 65300, 65300, 65400, 65400, 65400, 65500, 65800, 65800, 65900, 65900, 66300, 66500, 66600, 66800, 66900, 67600, 67800, 67900, 67900, 67900, 68000, 68200, 68400, 68400, 68500, 68700, 68900, 69100, 69400, 69900, 70000, 70000, 70200, 70200, 70400, 70400, 70700, 70900, 70900, 71200, 71300, 71500, 71600, 71900, 72200, 72200, 72200, 72300, 72500, 72600, 72900, 73000, 73100, 73200, 73300, 73700, 73800, 74400, 74400, 74400, 74500, 74500, 74500, 74700, 74700, 74800, 74900, 74900, 75400, 75500, 75500, 75600, 76100, 76200, 76400, 76600, 76700, 76700, 76800, 76900, 77000, 77100, 77300, 77600, 77600, 77700, 77800, 78800, 78900, 79000, 79000, 79200, 79300, 79400, 79600, 79700, 79900, 80000, 80600, 80700, 80800, 80800, 81200, 81200, 81400, 81700, 82000, 82100, 82200, 82400, 82400, 82400, 82400, 82500, 82700, 82800, 82800, 83000, 83100, 83100, 83300, 83600, 83700, 83700, 83900, 84100, 84100, 84200, 84300, 84300, 84500, 84700, 84800, 84900, 85300, 85500, 85600, 85600, 86100, 86400, 86500, 86900, 87000, 87200, 87200, 88100, 88200, 88600, 88700, 88700, 89000, 89500, 90100, 90300, 90400, 90500, 90500, 90600, 90700, 91800, 92300, 92300, 93000, 93400, 95100, 95800, 95800, 95900, 96100, 96100, 96200, 96300, 96300, 96300, 96500, 96500, 96600, 96800, 96800, 96900, 96900, 97100, 97200, 97300, 97400, 97500, 97500, 97600, 97900, 98400, 98400, 98500, 98900, 99200, 99200, 99300, 99600, 100000, 100100, 100100, 100100, 100600, 100800, 101700, 101700, 102300, 102400, 102400, 102500, 102500, 102600, 102700, 102700, 102700, 102800, 103300, 103700, 103900, 104100, 105300, 105300, 105500, 106400, 106600, 107300, 107300, 107400, 107400, 107600, 108000, 108100, 108100, 108200, 108900, 109200, 109600, 109800, 109800, 109900, 110000, 110400, 110700, 111400, 111500, 111800, 111900, 112800, 112900, 113000, 113300, 113400, 113600, 113800, 114800, 116100, 117500, 117900, 118000, 118300, 118400, 118500, 118600, 118800, 119800, 120000, 122100, 122700, 123000, 123000, 123600, 123800, 124900, 126300, 126500, 127000, 128700, 130600, 130700, 131500, 134500, 140000, 140700, 168800], \"xaxis\": \"x\", \"y\": [210.6569346512657, 239.69246063192216, 266.4944846140666, 268.72798661257866, 270.9614886110907, 311.16452458430734, 322.33203457686756, 329.03254057240366, 333.4995445694277, 349.134058559012, 349.134058559012, 371.46907854413234, 378.16958453966845, 438.47413849949345, 445.17464449502955, 451.87515049056566, 463.0426604831258, 465.27616248163787, 467.5096644801499, 474.210170475686, 476.4436724741981, 485.3776804682462, 494.31168846229434, 494.31168846229434, 503.24569645634244, 507.71270045336655, 516.6467084474148, 521.1137124444388, 530.047720438487, 530.047720438487, 550.1492384250953, 554.6162424221193, 563.5502504161675, 563.5502504161675, 581.4182664042638, 583.6517684027758, 588.1187723997999, 590.3522743983119, 592.5857763968239, 599.28628239236, 605.9867883878961, 608.2202903864082, 608.2202903864082, 617.1542983804563, 621.6213023774804, 646.1898243611129, 646.1898243611129, 661.8243383506971, 664.0578403492091, 675.2253503417693, 688.6263623328415, 697.5603703268897, 697.5603703268897, 699.7938723254017, 710.9613823179619, 713.1948843164739, 715.4283863149859, 722.128892310522, 722.128892310522, 726.5958963075461, 726.5958963075461, 731.0629003045702, 731.0629003045702, 735.5299043015943, 737.7634063001063, 757.8649242867147, 766.7989322807628, 771.2659362777869, 771.2659362777869, 771.2659362777869, 773.4994382762989, 784.6669482688591, 786.9004502673712, 791.3674542643952, 804.7684662554674, 809.2354702524915, 811.4689722510035, 818.1694782465396, 822.6364822435637, 849.4385062257081, 858.3725142197563, 869.5400242123164, 869.5400242123164, 876.2405302078525, 880.7075342048767, 882.9410362033886, 891.8750441974369, 900.809052191485, 907.5095581870211, 907.5095581870211, 909.7430601855332, 914.2100641825572, 920.9105701780933, 932.0780801706535, 936.5450841676776, 938.7785861661896, 941.0120881647016, 947.7125941602378, 952.1795981572618, 952.1795981572618, 956.6466021542859, 958.8801041527979, 965.580610148334, 970.0476141453581, 972.2811161438701, 981.2151241379183, 983.4486261364303, 985.6821281349423, 990.1491321319664, 992.3826341304784, 1005.7836461215508, 1008.0171481200628, 1010.2506501185748, 1010.2506501185748, 1014.7176541155987, 1019.184658112623, 1025.885164108159, 1025.885164108159, 1045.9866820947673, 1045.9866820947673, 1048.2201840932794, 1054.9206900888155, 1054.9206900888155, 1059.3876940858395, 1059.3876940858395, 1066.0882000813756, 1072.7887060769117, 1072.7887060769117, 1075.0222080754238, 1077.2557100739357, 1081.72271407096, 1083.9562160694718, 1083.9562160694718, 1092.89022406352, 1095.1237260620321, 1095.1237260620321, 1099.590730059056, 1104.05773405608, 1115.2252440486404, 1124.1592520426884, 1128.6262560397126, 1128.6262560397126, 1130.8597580382245, 1133.0932600367366, 1144.260770029297, 1144.260770029297, 1144.260770029297, 1146.4942720278088, 1150.961276024833, 1153.194778023345, 1159.895284018881, 1162.1287860173932, 1166.5957900144172, 1175.5297980084654, 1177.7633000069775, 1184.4638060025136, 1184.4638060025136, 1186.6973080010255, 1188.9308099995376, 1195.6313159950737, 1200.0983199920977, 1204.565323989122, 1204.565323989122, 1206.7988259876338, 1206.7988259876338, 1215.732833981682, 1217.9663359801941, 1224.6668419757302, 1224.6668419757302, 1226.900343974242, 1226.900343974242, 1226.900343974242, 1233.6008499697782, 1233.6008499697782, 1233.6008499697782, 1235.8343519682903, 1240.3013559653143, 1242.5348579638264, 1249.2353639593625, 1251.4688659578746, 1271.570383944483, 1278.270889940019, 1284.9713959355552, 1287.2048979340673, 1289.4383999325792, 1296.1389059281153, 1300.6059099251395, 1305.0729139221635, 1309.5399179191875, 1311.7734199176996, 1316.2404239147236, 1318.4739259132357, 1318.4739259132357, 1322.9409299102597, 1329.6414359057958, 1329.6414359057958, 1329.6414359057958, 1329.6414359057958, 1331.874937904308, 1331.874937904308, 1336.341941901332, 1347.5094518938922, 1347.5094518938922, 1354.2099578894283, 1356.4434598879404, 1358.6769618864523, 1360.9104638849644, 1369.8444718790126, 1374.3114758760366, 1374.3114758760366, 1374.3114758760366, 1376.5449778745487, 1381.0119818715727, 1383.2454838700849, 1385.4789858685967, 1387.7124878671088, 1387.7124878671088, 1389.945989865621, 1396.646495861157, 1396.646495861157, 1398.879997859669, 1398.879997859669, 1407.8140058537172, 1407.8140058537172, 1414.5145118492533, 1416.7480138477654, 1416.7480138477654, 1418.9815158462773, 1421.2150178447894, 1421.2150178447894, 1423.4485198433015, 1427.9155238403255, 1432.3825278373495, 1443.5500378299098, 1443.5500378299098, 1445.7835398284217, 1445.7835398284217, 1445.7835398284217, 1448.0170418269338, 1454.71754782247, 1454.71754782247, 1456.951049820982, 1456.951049820982, 1465.8850578150302, 1470.3520618120542, 1472.5855638105663, 1477.0525678075903, 1479.2860698061024, 1494.9205837956865, 1499.3875877927107, 1501.6210897912226, 1501.6210897912226, 1501.6210897912226, 1503.8545917897347, 1508.3215957867587, 1512.788599783783, 1512.788599783783, 1515.0221017822948, 1519.489105779319, 1523.956109776343, 1528.423113773367, 1535.1236197689032, 1546.2911297614635, 1548.5246317599754, 1548.5246317599754, 1552.9916357569996, 1552.9916357569996, 1557.4586397540236, 1557.4586397540236, 1564.1591457495597, 1568.6261497465837, 1568.6261497465837, 1575.32665574212, 1577.560157740632, 1582.0271617376561, 1584.260663736168, 1590.961169731704, 1597.6616757272402, 1597.6616757272402, 1597.6616757272402, 1599.8951777257523, 1604.3621817227763, 1606.5956837212884, 1613.2961897168245, 1615.5296917153366, 1617.7631937138485, 1619.9966957123606, 1622.2301977108727, 1631.1642057049207, 1633.3977077034328, 1646.798719694505, 1646.798719694505, 1646.798719694505, 1649.0322216930172, 1649.0322216930172, 1649.0322216930172, 1653.4992256900412, 1653.4992256900412, 1655.7327276885533, 1657.9662296870652, 1657.9662296870652, 1669.1337396796255, 1671.3672416781374, 1671.3672416781374, 1673.6007436766495, 1684.7682536692098, 1687.0017556677217, 1691.468759664746, 1695.93576366177, 1698.169265660282, 1698.169265660282, 1700.402767658794, 1702.636269657306, 1704.869771655818, 1707.10327365433, 1711.5702776513542, 1718.2707836468903, 1718.2707836468903, 1720.5042856454022, 1722.7377876439143, 1745.0728076290347, 1747.3063096275466, 1749.5398116260587, 1749.5398116260587, 1754.0068156230827, 1756.2403176215948, 1758.473819620107, 1762.940823617131, 1765.174325615643, 1769.641329612667, 1771.8748316111792, 1785.2758436022514, 1787.5093456007633, 1789.7428475992754, 1789.7428475992754, 1798.6768555933236, 1798.6768555933236, 1803.1438595903476, 1809.8443655858837, 1816.5448715814198, 1818.778373579932, 1821.011875578444, 1825.478879575468, 1825.478879575468, 1825.478879575468, 1825.478879575468, 1827.71238157398, 1832.179385571004, 1834.4128875695162, 1834.4128875695162, 1838.8798915665402, 1841.1133935650523, 1841.1133935650523, 1845.5803975620763, 1852.2809035576124, 1854.5144055561245, 1854.5144055561245, 1858.9814095531485, 1863.4484135501725, 1863.4484135501725, 1865.6819155486846, 1867.9154175471967, 1867.9154175471967, 1872.3824215442207, 1876.8494255412447, 1879.0829275397568, 1881.316429538269, 1890.250437532317, 1894.7174415293412, 1896.950943527853, 1896.950943527853, 1908.1184535204134, 1914.8189595159495, 1917.0524615144616, 1925.9864695085096, 1928.2199715070217, 1932.6869755040457, 1932.6869755040457, 1952.788493490654, 1955.021995489166, 1963.9560034832143, 1966.1895054817262, 1966.1895054817262, 1972.8900114772623, 1984.0575214698226, 1997.4585334608948, 2001.9255374579188, 2004.159039456431, 2006.3925414549428, 2006.3925414549428, 2008.626043453455, 2010.859545451967, 2035.4280674355994, 2046.5955774281595, 2046.5955774281595, 2062.230091417744, 2071.1640994117924, 2109.133633386497, 2124.7681473760813, 2124.7681473760813, 2127.001649374593, 2131.468653371617, 2131.468653371617, 2133.7021553701293, 2135.9356573686414, 2135.9356573686414, 2135.9356573686414, 2140.402661365665, 2140.402661365665, 2142.6361633641773, 2147.1031673612015, 2147.1031673612015, 2149.3366693597136, 2149.3366693597136, 2153.8036733567374, 2156.0371753552495, 2158.2706773537616, 2160.5041793522737, 2162.737681350786, 2162.737681350786, 2164.971183349298, 2171.671689344834, 2182.839199337394, 2182.839199337394, 2185.072701335906, 2194.0067093299544, 2200.7072153254903, 2200.7072153254903, 2202.9407173240024, 2209.6412233195383, 2218.5752313135868, 2220.808733312099, 2220.808733312099, 2220.808733312099, 2231.976243304659, 2236.4432473016827, 2256.5447652882913, 2256.5447652882913, 2269.9457772793635, 2272.1792792778756, 2272.1792792778756, 2274.4127812763877, 2274.4127812763877, 2276.6462832748994, 2278.8797852734115, 2278.8797852734115, 2278.8797852734115, 2281.1132872719236, 2292.2807972644837, 2301.214805258532, 2305.681809255556, 2310.14881325258, 2336.9508372347245, 2336.9508372347245, 2341.4178412317488, 2361.519359218357, 2365.986363215381, 2381.6208772049654, 2381.6208772049654, 2383.8543792034775, 2383.8543792034775, 2388.3213832005013, 2397.2553911945497, 2399.488893193062, 2399.488893193062, 2401.7223951915735, 2417.356909181158, 2424.057415176694, 2432.991423170742, 2437.4584271677663, 2437.4584271677663, 2439.6919291662784, 2441.92543116479, 2450.8594391588385, 2457.5599451543744, 2473.1944591439587, 2475.427961142471, 2482.1284671380067, 2484.361969136519, 2504.4634871231274, 2506.6969891216395, 2508.9304911201516, 2515.6309971156875, 2517.8644991141996, 2522.331503111224, 2526.7985071082476, 2549.1335270933682, 2578.1690530740243, 2609.438081053193, 2618.3720890472414, 2620.605591045753, 2627.3060970412894, 2629.5395990398015, 2631.7731010383136, 2634.0066030368253, 2638.4736070338495, 2660.8086270189697, 2665.275631015994, 2712.179172984747, 2725.580184975819, 2732.280690971355, 2732.280690971355, 2745.681702962427, 2750.1487069594514, 2774.7172289430837, 2805.9862569222523, 2810.453260919276, 2821.6207709118366, 2859.590304886541, 2902.02684285827, 2904.260344856782, 2922.128360844878, 2989.133420800239, 3111.976030718401, 3127.6105447079854, 3755.2246062898676], \"yaxis\": \"y\"}, {\"hovertemplate\": \"OwnHome=Rent<br>Salary=%{x}<br>AmountSpent=%{y}<extra></extra>\", \"legendgroup\": \"Rent\", \"marker\": {\"color\": \"#EF553B\", \"symbol\": \"circle\"}, \"mode\": \"markers\", \"name\": \"Rent\", \"orientation\": \"v\", \"showlegend\": true, \"type\": \"scatter\", \"x\": [63600, 13500, 48100, 43700, 38600, 14000, 14300, 49800, 60200, 43500, 41700, 72900, 66900, 21700, 39700, 72200, 87700, 67700, 47000, 20100, 76200, 81500, 46600, 69800, 67800, 42300, 66700, 13200, 15600, 14400, 15000, 60600, 22100, 48800, 32400, 47200, 20400, 39000, 12900, 67300, 16300, 27400, 21100, 87100, 21700, 42200, 59000, 96400, 104900, 56300, 14800, 25800, 12000, 51900, 13800, 14800, 10400, 16100, 19100, 52500, 45400, 17400, 14600, 10800, 21400, 11400, 34300, 16400, 17000, 41400, 11900, 14300, 21000, 39700, 84800, 60300, 51900, 28900, 60100, 61700, 46900, 45800, 39000, 40000, 118300, 91000, 10200, 12500, 16900, 13600, 72900, 80700, 40900, 26700, 23600, 56900, 19300, 20200, 61500, 120800, 17300, 42300, 53300, 42800, 11400, 14000, 97000, 15000, 64000, 20300, 68700, 53600, 23200, 63200, 13900, 79900, 66300, 13800, 14500, 21300, 29000, 14600, 19800, 90200, 26100, 15900, 12700, 43200, 114100, 13400, 81800, 12000, 14200, 31300, 32700, 42700, 19000, 14500, 36700, 67300, 34700, 106700, 53900, 25500, 46300, 42800, 25600, 63500, 55800, 25900, 22000, 96700, 40200, 16700, 40900, 41500, 20900, 69700, 61800, 41600, 27000, 43700, 10200, 124800, 23000, 88400, 41800, 73000, 66300, 10200, 46700, 53700, 108300, 12100, 36600, 40500, 13300, 75800, 48600, 11700, 52600, 14600, 64600, 37000, 18400, 25000, 17800, 19700, 11200, 30100, 42500, 21900, 35600, 36900, 93500, 21900, 63000, 11500, 21900, 45100, 14200, 23200, 13100, 23100, 32700, 34200, 31600, 43300, 17900, 60000, 68800, 25700, 50500, 17300, 60500, 25100, 17800, 27100, 60300, 12000, 45600, 60200, 53900, 36900, 11000, 79500, 18900, 81400, 36500, 79400, 21200, 53900, 20400, 52400, 23500, 56900, 21200, 32400, 72200, 16900, 56300, 18800, 26600, 72100, 14600, 20800, 15000, 17700, 17800, 13800, 50500, 42000, 15200, 15800, 38200, 39900, 63000, 45500, 50700, 17900, 14400, 36900, 41500, 22200, 71200, 53700, 18200, 73600, 45600, 92900, 13900, 64300, 81800, 41700, 55900, 19800, 17600, 84100, 13400, 47200, 106100, 18000, 50000, 13500, 18400, 62800, 70000, 13600, 97400, 14200, 18700, 28900, 38400, 54200, 13300, 21400, 21700, 23200, 55600, 12500, 31200, 13700, 58600, 13700, 63300, 51600, 55000, 15100, 12500, 10600, 23800, 43300, 82300, 41200, 29200, 12400, 40400, 10900, 13200, 57800, 64600, 34500, 61000, 44500, 39700, 20100, 42500, 37800, 20300, 54500, 54700, 58600, 53800, 52200, 37200, 22900, 55500, 12800, 17600, 14100, 52100, 38700, 44100, 22600, 55100, 66500, 10200, 26200, 72200, 36700, 34500, 14800, 42000, 118800, 39500, 45900, 37100, 28200, 74600, 14200, 19400, 46600, 33600, 24000, 25700, 68600, 23100, 53300, 35100, 14900, 72000, 41600, 14100, 36500, 39500, 17700, 33200, 44400, 135700, 20700, 83500, 84200, 79900, 19700, 35300, 21300, 65800, 11000, 65900, 79500, 95900, 45200, 17900, 43000, 15500, 13000, 27200, 12600, 92400, 71800, 29200, 12900, 117700, 46500, 12400, 54200, 49100, 10600, 76400, 93700, 49000, 50500, 19500, 17200, 51100, 59100, 49500, 47300, 93000, 69700, 88600, 43700, 70500, 15900, 18200, 17000, 17300, 27600, 25100, 88500, 19100, 14400, 49600, 47000, 36600, 52800, 63500, 60400, 54400, 105600, 60100, 87400, 66200, 88000, 94200, 29200, 15300, 17500, 40200, 28400, 72200, 44600, 20000, 52600, 97600, 65400, 19600, 13200, 63800, 22600, 14900, 43100, 44800, 70900, 38200, 18400, 40700, 36400, 15400, 43800, 25300, 71800, 75200, 25300, 45500, 33200, 49300, 66200, 32100, 11700, 17600, 19400, 40500, 53600], \"xaxis\": \"x\", \"y\": [1318, 296, 782, 927, 542, 410, 194, 827, 2328, 808, 521, 2075, 769, 774, 573, 2082, 2446, 2226, 584, 576, 2437, 3655, 906, 2764, 1084, 1051, 1310, 358, 468, 615, 38, 307, 280, 1647, 920, 1587, 867, 643, 107, 1513, 470, 278, 470, 1688, 708, 1753, 3044, 1822, 450, 873, 209, 451, 344, 1492, 127, 436, 189, 202, 176, 2038, 1203, 332, 143, 123, 498, 312, 1297, 218, 581, 223, 143, 458, 646, 238, 2624, 701, 780, 830, 1594, 1161, 703, 489, 292, 613, 2681, 708, 213, 202, 247, 183, 252, 202, 962, 459, 161, 1857, 308, 500, 1162, 5830, 381, 856, 1720, 759, 186, 229, 2599, 378, 1552, 450, 2763, 1560, 770, 1512, 570, 1165, 2243, 363, 222, 677, 482, 385, 991, 2183, 494, 503, 87, 917, 1976, 143, 1838, 264, 400, 357, 1276, 827, 428, 183, 731, 1212, 1615, 607, 735, 139, 1357, 922, 426, 2321, 821, 242, 472, 1231, 881, 108, 576, 1314, 296, 584, 1156, 1690, 1012, 950, 333, 2537, 79, 3632, 301, 490, 544, 199, 983, 1194, 2224, 90, 587, 622, 236, 1830, 1583, 193, 1052, 307, 2206, 632, 303, 264, 292, 330, 106, 530, 798, 192, 865, 1480, 1426, 276, 1910, 157, 576, 794, 250, 788, 314, 466, 273, 523, 476, 326, 446, 966, 1658, 173, 1029, 345, 409, 592, 216, 268, 1252, 140, 1388, 2304, 2177, 721, 393, 1763, 184, 1014, 1140, 1175, 417, 1060, 513, 857, 371, 687, 242, 515, 3069, 281, 1608, 170, 245, 3052, 47, 260, 341, 268, 589, 368, 940, 232, 324, 147, 526, 586, 2107, 1624, 157, 62, 223, 371, 1213, 275, 392, 2491, 322, 647, 1322, 1705, 191, 239, 919, 1398, 909, 209, 245, 2362, 424, 1272, 472, 303, 1079, 160, 662, 177, 785, 349, 213, 192, 289, 905, 188, 1405, 184, 414, 387, 504, 984, 422, 1087, 163, 624, 414, 1408, 1082, 1162, 348, 206, 114, 428, 716, 580, 841, 737, 205, 630, 407, 227, 1149, 2935, 802, 1611, 1175, 1011, 271, 918, 1185, 180, 1001, 1355, 989, 1803, 1909, 247, 814, 216, 365, 163, 153, 1668, 1009, 1659, 521, 826, 1181, 362, 381, 1811, 1218, 639, 376, 105, 2631, 412, 716, 653, 224, 705, 197, 563, 546, 573, 362, 907, 1342, 457, 1598, 421, 275, 1475, 1634, 328, 747, 1006, 742, 1639, 886, 2746, 550, 2098, 954, 1041, 535, 1369, 329, 578, 195, 777, 1651, 3168, 699, 395, 225, 210, 43, 243, 241, 2191, 1946, 556, 167, 2104, 829, 229, 486, 934, 517, 2216, 1521, 1523, 642, 571, 329, 1984, 580, 1195, 640, 2644, 1432, 212, 1344, 2145, 406, 401, 659, 411, 893, 421, 1104, 403, 390, 770, 963, 833, 926, 1023, 791, 1150, 304, 1430, 2729, 1024, 524, 1211, 636, 645, 472, 1634, 182, 1042, 966, 182, 1773, 2902, 2296, 395, 512, 1622, 865, 422, 1224, 666, 1685, 1476, 319, 232, 506, 172, 606, 591, 1389, 2702, 510, 754, 320, 1692, 2057, 405, 540, 273, 384, 1073, 973], \"yaxis\": \"y\"}, {\"hovertemplate\": \"<b>OLS trendline</b><br>AmountSpent = 0.0202545 * Salary + 27.3267<br>R<sup>2</sup>=0.496991<br><br>OwnHome=Rent<br>Salary=%{x}<br>AmountSpent=%{y} <b>(trend)</b><extra></extra>\", \"legendgroup\": \"Rent\", \"marker\": {\"color\": \"#EF553B\", \"symbol\": \"circle\"}, \"mode\": \"lines\", \"name\": \"Rent\", \"showlegend\": false, \"type\": \"scatter\", \"x\": [10200, 10200, 10200, 10200, 10400, 10600, 10600, 10800, 10900, 11000, 11000, 11200, 11400, 11400, 11500, 11700, 11700, 11900, 12000, 12000, 12000, 12100, 12400, 12400, 12500, 12500, 12500, 12600, 12700, 12800, 12900, 12900, 13000, 13100, 13200, 13200, 13200, 13300, 13300, 13400, 13400, 13500, 13500, 13600, 13600, 13700, 13700, 13800, 13800, 13800, 13900, 13900, 14000, 14000, 14100, 14100, 14200, 14200, 14200, 14200, 14300, 14300, 14400, 14400, 14400, 14500, 14500, 14600, 14600, 14600, 14600, 14800, 14800, 14800, 14900, 14900, 15000, 15000, 15000, 15100, 15200, 15300, 15400, 15500, 15600, 15800, 15900, 15900, 16100, 16300, 16400, 16700, 16900, 16900, 17000, 17000, 17200, 17300, 17300, 17300, 17400, 17500, 17600, 17600, 17600, 17700, 17700, 17800, 17800, 17800, 17900, 17900, 17900, 18000, 18200, 18200, 18400, 18400, 18400, 18700, 18800, 18900, 19000, 19100, 19100, 19300, 19400, 19400, 19500, 19600, 19700, 19700, 19800, 19800, 20000, 20100, 20100, 20200, 20300, 20300, 20400, 20400, 20700, 20800, 20900, 21000, 21100, 21200, 21200, 21300, 21300, 21400, 21400, 21700, 21700, 21700, 21900, 21900, 21900, 22000, 22100, 22200, 22600, 22600, 22900, 23000, 23100, 23100, 23200, 23200, 23200, 23500, 23600, 23800, 24000, 25000, 25100, 25100, 25300, 25300, 25500, 25600, 25700, 25700, 25800, 25900, 26100, 26200, 26600, 26700, 27000, 27100, 27200, 27400, 27600, 28200, 28400, 28900, 28900, 29000, 29200, 29200, 29200, 30100, 31200, 31300, 31600, 32100, 32400, 32400, 32700, 32700, 33200, 33200, 33600, 34200, 34300, 34500, 34500, 34700, 35100, 35300, 35600, 36400, 36500, 36500, 36600, 36600, 36700, 36700, 36900, 36900, 36900, 37000, 37100, 37200, 37800, 38200, 38200, 38400, 38600, 38700, 39000, 39000, 39500, 39500, 39700, 39700, 39700, 39900, 40000, 40200, 40200, 40400, 40500, 40500, 40700, 40900, 40900, 41200, 41400, 41500, 41500, 41600, 41600, 41700, 41700, 41800, 42000, 42000, 42200, 42300, 42300, 42500, 42500, 42700, 42800, 42800, 43000, 43100, 43200, 43300, 43300, 43500, 43700, 43700, 43700, 43800, 44100, 44400, 44500, 44600, 44800, 45100, 45200, 45400, 45500, 45500, 45600, 45600, 45800, 45900, 46300, 46500, 46600, 46600, 46700, 46900, 47000, 47000, 47200, 47200, 47300, 48100, 48600, 48800, 49000, 49100, 49300, 49500, 49600, 49800, 50000, 50500, 50500, 50500, 50700, 51100, 51600, 51900, 51900, 52100, 52200, 52400, 52500, 52600, 52600, 52800, 53300, 53300, 53600, 53600, 53700, 53700, 53800, 53900, 53900, 53900, 54200, 54200, 54400, 54500, 54700, 55000, 55100, 55500, 55600, 55800, 55900, 56300, 56300, 56900, 56900, 57800, 58600, 58600, 59000, 59100, 60000, 60100, 60100, 60200, 60200, 60300, 60300, 60400, 60500, 60600, 61000, 61500, 61700, 61800, 62800, 63000, 63000, 63200, 63300, 63500, 63500, 63600, 63800, 64000, 64300, 64600, 64600, 65400, 65800, 65900, 66200, 66200, 66300, 66300, 66500, 66700, 66900, 67300, 67300, 67700, 67800, 68600, 68700, 68800, 69700, 69700, 69800, 70000, 70500, 70900, 71200, 71800, 71800, 72000, 72100, 72200, 72200, 72200, 72200, 72900, 72900, 73000, 73600, 74600, 75200, 75800, 76200, 76400, 79400, 79500, 79500, 79900, 79900, 80700, 81400, 81500, 81800, 81800, 82300, 83500, 84100, 84200, 84800, 87100, 87400, 87700, 88000, 88400, 88500, 88600, 90200, 91000, 92400, 92900, 93000, 93500, 93700, 94200, 95900, 96400, 96700, 97000, 97400, 97600, 104900, 105600, 106100, 106700, 108300, 114100, 117700, 118300, 118800, 120800, 124800, 135700], \"xaxis\": \"x\", \"y\": [233.92274185713163, 233.92274185713163, 233.92274185713163, 233.92274185713163, 237.97364476705738, 242.02454767698316, 242.02454767698316, 246.07545058690891, 248.1009020418718, 250.12635349683467, 250.12635349683467, 254.17725640676042, 258.2281593166862, 258.2281593166862, 260.25361077164905, 264.3045136815748, 264.3045136815748, 268.35541659150056, 270.38086804646343, 270.38086804646343, 270.38086804646343, 272.4063195014263, 278.48267386631494, 278.48267386631494, 280.5081253212778, 280.5081253212778, 280.5081253212778, 282.5335767762407, 284.5590282312036, 286.5844796861665, 288.6099311411294, 288.6099311411294, 290.63538259609226, 292.66083405105513, 294.686285506018, 294.686285506018, 294.686285506018, 296.7117369609809, 296.7117369609809, 298.73718841594376, 298.73718841594376, 300.76263987090664, 300.76263987090664, 302.7880913258695, 302.7880913258695, 304.8135427808324, 304.8135427808324, 306.83899423579527, 306.83899423579527, 306.83899423579527, 308.86444569075815, 308.86444569075815, 310.889897145721, 310.889897145721, 312.9153486006839, 312.9153486006839, 314.9408000556468, 314.9408000556468, 314.9408000556468, 314.9408000556468, 316.96625151060965, 316.96625151060965, 318.9917029655726, 318.9917029655726, 318.9917029655726, 321.01715442053546, 321.01715442053546, 323.04260587549834, 323.04260587549834, 323.04260587549834, 323.04260587549834, 327.0935087854241, 327.0935087854241, 327.0935087854241, 329.11896024038697, 329.11896024038697, 331.14441169534985, 331.14441169534985, 331.14441169534985, 333.1698631503127, 335.1953146052756, 337.2207660602385, 339.24621751520135, 341.2716689701642, 343.2971204251271, 347.34802333505286, 349.37347479001573, 349.37347479001573, 353.4243776999415, 357.47528060986724, 359.5007320648301, 365.5770864297188, 369.62798933964456, 369.62798933964456, 371.65344079460743, 371.65344079460743, 375.7043437045332, 377.72979515949606, 377.72979515949606, 377.72979515949606, 379.75524661445894, 381.7806980694218, 383.8061495243847, 383.8061495243847, 383.8061495243847, 385.83160097934757, 385.83160097934757, 387.85705243431045, 387.85705243431045, 387.85705243431045, 389.8825038892733, 389.8825038892733, 389.8825038892733, 391.9079553442362, 395.95885825416195, 395.95885825416195, 400.0097611640877, 400.0097611640877, 400.0097611640877, 406.08611552897634, 408.1115669839392, 410.13701843890215, 412.162469893865, 414.1879213488279, 414.1879213488279, 418.23882425875365, 420.26427571371653, 420.26427571371653, 422.2897271686794, 424.3151786236423, 426.34063007860516, 426.34063007860516, 428.36608153356804, 428.36608153356804, 432.4169844434938, 434.44243589845667, 434.44243589845667, 436.46788735341954, 438.4933388083824, 438.4933388083824, 440.5187902633453, 440.5187902633453, 446.5951446282339, 448.6205960831968, 450.6460475381597, 452.67149899312255, 454.6969504480855, 456.72240190304836, 456.72240190304836, 458.74785335801124, 458.74785335801124, 460.7733048129741, 460.7733048129741, 466.84965917786275, 466.84965917786275, 466.84965917786275, 470.9005620877885, 470.9005620877885, 470.9005620877885, 472.9260135427514, 474.95146499771425, 476.97691645267713, 485.07872227252864, 485.07872227252864, 491.15507663741727, 493.18052809238014, 495.205979547343, 495.205979547343, 497.2314310023059, 497.2314310023059, 497.2314310023059, 503.3077853671946, 505.33323682215746, 509.3841397320832, 513.435042642009, 533.6895571916377, 535.7150086466006, 535.7150086466006, 539.7659115565264, 539.7659115565264, 543.8168144664521, 545.842265921415, 547.8677173763779, 547.8677173763779, 549.8931688313407, 551.9186202863036, 555.9695231962294, 557.9949746511923, 566.0967804710438, 568.1222319260066, 574.1985862908953, 576.2240377458581, 578.249489200821, 582.3003921107468, 586.3512950206725, 598.5040037504498, 602.5549066603755, 612.68216393519, 612.68216393519, 614.7076153901529, 618.7585183000787, 618.7585183000787, 618.7585183000787, 636.9875813947446, 659.2675473993362, 661.2929988542991, 667.3693532191877, 677.4966104940021, 683.5729648588907, 683.5729648588907, 689.6493192237793, 689.6493192237793, 699.7765764985937, 699.7765764985937, 707.8783823184453, 720.0310910482226, 722.0565425031855, 726.1074454131112, 726.1074454131112, 730.158348323037, 738.2601541428885, 742.3110570528142, 748.3874114177029, 764.5910230574059, 766.6164745123688, 766.6164745123688, 768.6419259673316, 768.6419259673316, 770.6673774222945, 770.6673774222945, 774.7182803322203, 774.7182803322203, 774.7182803322203, 776.7437317871832, 778.769183242146, 780.7946346971089, 792.9473434268863, 801.0491492467378, 801.0491492467378, 805.1000521566635, 809.1509550665893, 811.1764065215522, 817.2527608864408, 817.2527608864408, 827.3800181612552, 827.3800181612552, 831.4309210711809, 831.4309210711809, 831.4309210711809, 835.4818239811067, 837.5072754360696, 841.5581783459953, 841.5581783459953, 845.6090812559211, 847.634532710884, 847.634532710884, 851.6854356208097, 855.7363385307355, 855.7363385307355, 861.8126928956241, 865.8635958055498, 867.8890472605127, 867.8890472605127, 869.9144987154756, 869.9144987154756, 871.9399501704385, 871.9399501704385, 873.9654016254013, 878.0163045353271, 878.0163045353271, 882.067207445253, 884.0926589002158, 884.0926589002158, 888.1435618101416, 888.1435618101416, 892.1944647200673, 894.2199161750302, 894.2199161750302, 898.270819084956, 900.2962705399189, 902.3217219948817, 904.3471734498446, 904.3471734498446, 908.3980763597704, 912.4489792696961, 912.4489792696961, 912.4489792696961, 914.474430724659, 920.5507850895476, 926.6271394544362, 928.6525909093991, 930.678042364362, 934.7289452742878, 940.8052996391764, 942.8307510941393, 946.881654004065, 948.9071054590279, 948.9071054590279, 950.9325569139908, 950.9325569139908, 954.9834598239165, 957.0089112788794, 965.1107170987309, 969.1616200086568, 971.1870714636196, 971.1870714636196, 973.2125229185825, 977.2634258285083, 979.2888772834712, 979.2888772834712, 983.3397801933969, 983.3397801933969, 985.3652316483598, 1001.5688432880628, 1011.6961005628772, 1015.7470034728029, 1019.7979063827287, 1021.8233578376916, 1025.8742607476174, 1029.9251636575432, 1031.950615112506, 1036.0015180224318, 1040.0524209323576, 1050.179678207172, 1050.179678207172, 1050.179678207172, 1054.2305811170977, 1062.3323869369492, 1072.4596442117636, 1078.5359985766522, 1078.5359985766522, 1082.586901486578, 1084.6123529415408, 1088.6632558514666, 1090.6887073064295, 1092.7141587613924, 1092.7141587613924, 1096.765061671318, 1106.8923189461325, 1106.8923189461325, 1112.9686733110211, 1112.9686733110211, 1114.994124765984, 1114.994124765984, 1117.0195762209469, 1119.0450276759098, 1119.0450276759098, 1119.0450276759098, 1125.1213820407984, 1125.1213820407984, 1129.1722849507241, 1131.197736405687, 1135.2486393156128, 1141.3249936805014, 1143.3504451354643, 1151.4522509553158, 1153.4777024102787, 1157.5286053202044, 1159.5540567751673, 1167.6558625950188, 1167.6558625950188, 1179.808571324796, 1179.808571324796, 1198.0376344194622, 1214.2412460591652, 1214.2412460591652, 1222.3430518790167, 1224.3685033339796, 1242.5975664286455, 1244.6230178836083, 1244.6230178836083, 1246.6484693385712, 1246.6484693385712, 1248.673920793534, 1248.673920793534, 1250.699372248497, 1252.7248237034598, 1254.7502751584227, 1262.8520809782742, 1272.9793382530886, 1277.0302411630144, 1279.0556926179772, 1299.310207167606, 1303.3611100775317, 1303.3611100775317, 1307.4120129874575, 1309.4374644424204, 1313.4883673523461, 1313.4883673523461, 1315.513818807309, 1319.5647217172348, 1323.6156246271605, 1329.6919789920491, 1335.7683333569378, 1335.7683333569378, 1351.9719449966408, 1360.0737508164923, 1362.0992022714552, 1368.1755566363438, 1368.1755566363438, 1370.2010080913067, 1370.2010080913067, 1374.2519110012327, 1378.3028139111584, 1382.3537168210842, 1390.4555226409357, 1390.4555226409357, 1398.5573284607872, 1400.58277991575, 1416.786391555453, 1418.811843010416, 1420.8372944653788, 1439.0663575600447, 1439.0663575600447, 1441.0918090150076, 1445.1427119249333, 1455.2699691997477, 1463.3717750195992, 1469.4481293844879, 1481.6008381142651, 1481.6008381142651, 1485.6517410241909, 1487.6771924791537, 1489.7026439341166, 1489.7026439341166, 1489.7026439341166, 1489.7026439341166, 1503.8808041188568, 1503.8808041188568, 1505.9062555738196, 1518.058964303597, 1538.3134788532257, 1550.466187583003, 1562.6188963127804, 1570.720702132632, 1574.7716050425577, 1635.535148691444, 1637.5606001464068, 1637.5606001464068, 1645.6624059662583, 1645.6624059662583, 1661.8660176059614, 1676.0441777907015, 1678.0696292456644, 1684.145983610553, 1684.145983610553, 1694.2732408853674, 1718.578658344922, 1730.7313670746992, 1732.7568185296623, 1744.9095272594395, 1791.4949107235857, 1797.5712650884743, 1803.647619453363, 1809.7239738182516, 1817.825779638103, 1819.851231093066, 1821.8766825480288, 1854.2839058274349, 1870.4875174671379, 1898.8438378366181, 1908.9710951114325, 1910.9965465663956, 1921.12380384121, 1925.1747067511358, 1935.3019640259502, 1969.734638760319, 1979.8618960351334, 1985.938250400022, 1992.0146047649107, 2000.1164105847622, 2004.167313494688, 2152.025269706978, 2166.2034298917183, 2176.3306871665327, 2188.48339589631, 2220.890619175716, 2338.366803563563, 2411.283055942227, 2423.435764672004, 2433.5630219468185, 2474.072051046076, 2555.090109244591, 2775.864317835545], \"yaxis\": \"y\"}],                        {\"legend\": {\"title\": {\"text\": \"OwnHome\"}, \"tracegroupgap\": 0}, \"margin\": {\"t\": 60}, \"template\": {\"data\": {\"bar\": [{\"error_x\": {\"color\": \"#2a3f5f\"}, \"error_y\": {\"color\": \"#2a3f5f\"}, \"marker\": {\"line\": {\"color\": \"#E5ECF6\", \"width\": 0.5}}, \"type\": \"bar\"}], \"barpolar\": [{\"marker\": {\"line\": {\"color\": \"#E5ECF6\", \"width\": 0.5}}, \"type\": \"barpolar\"}], \"carpet\": [{\"aaxis\": {\"endlinecolor\": \"#2a3f5f\", \"gridcolor\": \"white\", \"linecolor\": \"white\", \"minorgridcolor\": \"white\", \"startlinecolor\": \"#2a3f5f\"}, \"baxis\": {\"endlinecolor\": \"#2a3f5f\", \"gridcolor\": \"white\", \"linecolor\": \"white\", \"minorgridcolor\": \"white\", \"startlinecolor\": \"#2a3f5f\"}, \"type\": \"carpet\"}], \"choropleth\": [{\"colorbar\": {\"outlinewidth\": 0, \"ticks\": \"\"}, \"type\": \"choropleth\"}], \"contour\": [{\"colorbar\": {\"outlinewidth\": 0, \"ticks\": \"\"}, \"colorscale\": [[0.0, \"#0d0887\"], [0.1111111111111111, \"#46039f\"], [0.2222222222222222, \"#7201a8\"], [0.3333333333333333, \"#9c179e\"], [0.4444444444444444, \"#bd3786\"], [0.5555555555555556, \"#d8576b\"], [0.6666666666666666, \"#ed7953\"], [0.7777777777777778, \"#fb9f3a\"], [0.8888888888888888, \"#fdca26\"], [1.0, \"#f0f921\"]], \"type\": \"contour\"}], \"contourcarpet\": [{\"colorbar\": {\"outlinewidth\": 0, \"ticks\": \"\"}, \"type\": \"contourcarpet\"}], \"heatmap\": [{\"colorbar\": {\"outlinewidth\": 0, \"ticks\": \"\"}, \"colorscale\": [[0.0, \"#0d0887\"], [0.1111111111111111, \"#46039f\"], [0.2222222222222222, \"#7201a8\"], [0.3333333333333333, \"#9c179e\"], [0.4444444444444444, \"#bd3786\"], [0.5555555555555556, \"#d8576b\"], [0.6666666666666666, \"#ed7953\"], [0.7777777777777778, \"#fb9f3a\"], [0.8888888888888888, \"#fdca26\"], [1.0, \"#f0f921\"]], \"type\": \"heatmap\"}], \"heatmapgl\": [{\"colorbar\": {\"outlinewidth\": 0, \"ticks\": \"\"}, \"colorscale\": [[0.0, \"#0d0887\"], [0.1111111111111111, \"#46039f\"], [0.2222222222222222, \"#7201a8\"], [0.3333333333333333, \"#9c179e\"], [0.4444444444444444, \"#bd3786\"], [0.5555555555555556, \"#d8576b\"], [0.6666666666666666, \"#ed7953\"], [0.7777777777777778, \"#fb9f3a\"], [0.8888888888888888, \"#fdca26\"], [1.0, \"#f0f921\"]], \"type\": \"heatmapgl\"}], \"histogram\": [{\"marker\": {\"colorbar\": {\"outlinewidth\": 0, \"ticks\": \"\"}}, \"type\": \"histogram\"}], \"histogram2d\": [{\"colorbar\": {\"outlinewidth\": 0, \"ticks\": \"\"}, \"colorscale\": [[0.0, \"#0d0887\"], [0.1111111111111111, \"#46039f\"], [0.2222222222222222, \"#7201a8\"], [0.3333333333333333, \"#9c179e\"], [0.4444444444444444, \"#bd3786\"], [0.5555555555555556, \"#d8576b\"], [0.6666666666666666, \"#ed7953\"], [0.7777777777777778, \"#fb9f3a\"], [0.8888888888888888, \"#fdca26\"], [1.0, \"#f0f921\"]], \"type\": \"histogram2d\"}], \"histogram2dcontour\": [{\"colorbar\": {\"outlinewidth\": 0, \"ticks\": \"\"}, \"colorscale\": [[0.0, \"#0d0887\"], [0.1111111111111111, \"#46039f\"], [0.2222222222222222, \"#7201a8\"], [0.3333333333333333, \"#9c179e\"], [0.4444444444444444, \"#bd3786\"], [0.5555555555555556, \"#d8576b\"], [0.6666666666666666, \"#ed7953\"], [0.7777777777777778, \"#fb9f3a\"], [0.8888888888888888, \"#fdca26\"], [1.0, \"#f0f921\"]], \"type\": \"histogram2dcontour\"}], \"mesh3d\": [{\"colorbar\": {\"outlinewidth\": 0, \"ticks\": \"\"}, \"type\": \"mesh3d\"}], \"parcoords\": [{\"line\": {\"colorbar\": {\"outlinewidth\": 0, \"ticks\": \"\"}}, \"type\": \"parcoords\"}], \"pie\": [{\"automargin\": true, \"type\": \"pie\"}], \"scatter\": [{\"marker\": {\"colorbar\": {\"outlinewidth\": 0, \"ticks\": \"\"}}, \"type\": \"scatter\"}], \"scatter3d\": [{\"line\": {\"colorbar\": {\"outlinewidth\": 0, \"ticks\": \"\"}}, \"marker\": {\"colorbar\": {\"outlinewidth\": 0, \"ticks\": \"\"}}, \"type\": \"scatter3d\"}], \"scattercarpet\": [{\"marker\": {\"colorbar\": {\"outlinewidth\": 0, \"ticks\": \"\"}}, \"type\": \"scattercarpet\"}], \"scattergeo\": [{\"marker\": {\"colorbar\": {\"outlinewidth\": 0, \"ticks\": \"\"}}, \"type\": \"scattergeo\"}], \"scattergl\": [{\"marker\": {\"colorbar\": {\"outlinewidth\": 0, \"ticks\": \"\"}}, \"type\": \"scattergl\"}], \"scattermapbox\": [{\"marker\": {\"colorbar\": {\"outlinewidth\": 0, \"ticks\": \"\"}}, \"type\": \"scattermapbox\"}], \"scatterpolar\": [{\"marker\": {\"colorbar\": {\"outlinewidth\": 0, \"ticks\": \"\"}}, \"type\": \"scatterpolar\"}], \"scatterpolargl\": [{\"marker\": {\"colorbar\": {\"outlinewidth\": 0, \"ticks\": \"\"}}, \"type\": \"scatterpolargl\"}], \"scatterternary\": [{\"marker\": {\"colorbar\": {\"outlinewidth\": 0, \"ticks\": \"\"}}, \"type\": \"scatterternary\"}], \"surface\": [{\"colorbar\": {\"outlinewidth\": 0, \"ticks\": \"\"}, \"colorscale\": [[0.0, \"#0d0887\"], [0.1111111111111111, \"#46039f\"], [0.2222222222222222, \"#7201a8\"], [0.3333333333333333, \"#9c179e\"], [0.4444444444444444, \"#bd3786\"], [0.5555555555555556, \"#d8576b\"], [0.6666666666666666, \"#ed7953\"], [0.7777777777777778, \"#fb9f3a\"], [0.8888888888888888, \"#fdca26\"], [1.0, \"#f0f921\"]], \"type\": \"surface\"}], \"table\": [{\"cells\": {\"fill\": {\"color\": \"#EBF0F8\"}, \"line\": {\"color\": \"white\"}}, \"header\": {\"fill\": {\"color\": \"#C8D4E3\"}, \"line\": {\"color\": \"white\"}}, \"type\": \"table\"}]}, \"layout\": {\"annotationdefaults\": {\"arrowcolor\": \"#2a3f5f\", \"arrowhead\": 0, \"arrowwidth\": 1}, \"coloraxis\": {\"colorbar\": {\"outlinewidth\": 0, \"ticks\": \"\"}}, \"colorscale\": {\"diverging\": [[0, \"#8e0152\"], [0.1, \"#c51b7d\"], [0.2, \"#de77ae\"], [0.3, \"#f1b6da\"], [0.4, \"#fde0ef\"], [0.5, \"#f7f7f7\"], [0.6, \"#e6f5d0\"], [0.7, \"#b8e186\"], [0.8, \"#7fbc41\"], [0.9, \"#4d9221\"], [1, \"#276419\"]], \"sequential\": [[0.0, \"#0d0887\"], [0.1111111111111111, \"#46039f\"], [0.2222222222222222, \"#7201a8\"], [0.3333333333333333, \"#9c179e\"], [0.4444444444444444, \"#bd3786\"], [0.5555555555555556, \"#d8576b\"], [0.6666666666666666, \"#ed7953\"], [0.7777777777777778, \"#fb9f3a\"], [0.8888888888888888, \"#fdca26\"], [1.0, \"#f0f921\"]], \"sequentialminus\": [[0.0, \"#0d0887\"], [0.1111111111111111, \"#46039f\"], [0.2222222222222222, \"#7201a8\"], [0.3333333333333333, \"#9c179e\"], [0.4444444444444444, \"#bd3786\"], [0.5555555555555556, \"#d8576b\"], [0.6666666666666666, \"#ed7953\"], [0.7777777777777778, \"#fb9f3a\"], [0.8888888888888888, \"#fdca26\"], [1.0, \"#f0f921\"]]}, \"colorway\": [\"#636efa\", \"#EF553B\", \"#00cc96\", \"#ab63fa\", \"#FFA15A\", \"#19d3f3\", \"#FF6692\", \"#B6E880\", \"#FF97FF\", \"#FECB52\"], \"font\": {\"color\": \"#2a3f5f\"}, \"geo\": {\"bgcolor\": \"white\", \"lakecolor\": \"white\", \"landcolor\": \"#E5ECF6\", \"showlakes\": true, \"showland\": true, \"subunitcolor\": \"white\"}, \"hoverlabel\": {\"align\": \"left\"}, \"hovermode\": \"closest\", \"mapbox\": {\"style\": \"light\"}, \"paper_bgcolor\": \"white\", \"plot_bgcolor\": \"#E5ECF6\", \"polar\": {\"angularaxis\": {\"gridcolor\": \"white\", \"linecolor\": \"white\", \"ticks\": \"\"}, \"bgcolor\": \"#E5ECF6\", \"radialaxis\": {\"gridcolor\": \"white\", \"linecolor\": \"white\", \"ticks\": \"\"}}, \"scene\": {\"xaxis\": {\"backgroundcolor\": \"#E5ECF6\", \"gridcolor\": \"white\", \"gridwidth\": 2, \"linecolor\": \"white\", \"showbackground\": true, \"ticks\": \"\", \"zerolinecolor\": \"white\"}, \"yaxis\": {\"backgroundcolor\": \"#E5ECF6\", \"gridcolor\": \"white\", \"gridwidth\": 2, \"linecolor\": \"white\", \"showbackground\": true, \"ticks\": \"\", \"zerolinecolor\": \"white\"}, \"zaxis\": {\"backgroundcolor\": \"#E5ECF6\", \"gridcolor\": \"white\", \"gridwidth\": 2, \"linecolor\": \"white\", \"showbackground\": true, \"ticks\": \"\", \"zerolinecolor\": \"white\"}}, \"shapedefaults\": {\"line\": {\"color\": \"#2a3f5f\"}}, \"ternary\": {\"aaxis\": {\"gridcolor\": \"white\", \"linecolor\": \"white\", \"ticks\": \"\"}, \"baxis\": {\"gridcolor\": \"white\", \"linecolor\": \"white\", \"ticks\": \"\"}, \"bgcolor\": \"#E5ECF6\", \"caxis\": {\"gridcolor\": \"white\", \"linecolor\": \"white\", \"ticks\": \"\"}}, \"title\": {\"x\": 0.05}, \"xaxis\": {\"automargin\": true, \"gridcolor\": \"white\", \"linecolor\": \"white\", \"ticks\": \"\", \"title\": {\"standoff\": 15}, \"zerolinecolor\": \"white\", \"zerolinewidth\": 2}, \"yaxis\": {\"automargin\": true, \"gridcolor\": \"white\", \"linecolor\": \"white\", \"ticks\": \"\", \"title\": {\"standoff\": 15}, \"zerolinecolor\": \"white\", \"zerolinewidth\": 2}}}, \"title\": {\"text\": \"Own Home With Salary Vs Amount Spent \", \"x\": 0.5}, \"xaxis\": {\"anchor\": \"y\", \"domain\": [0.0, 1.0], \"title\": {\"text\": \"Salary\"}}, \"yaxis\": {\"anchor\": \"x\", \"domain\": [0.0, 1.0], \"title\": {\"text\": \"Amount Spent\"}}},                        {\"responsive\": true}                    ).then(function(){\n",
       "                            \n",
       "var gd = document.getElementById('93d64d79-59dc-4dd0-b975-27b5aaa65c41');\n",
       "var x = new MutationObserver(function (mutations, observer) {{\n",
       "        var display = window.getComputedStyle(gd).display;\n",
       "        if (!display || display === 'none') {{\n",
       "            console.log([gd, 'removed!']);\n",
       "            Plotly.purge(gd);\n",
       "            observer.disconnect();\n",
       "        }}\n",
       "}});\n",
       "\n",
       "// Listen for the removal of the full notebook cells\n",
       "var notebookContainer = gd.closest('#notebook-container');\n",
       "if (notebookContainer) {{\n",
       "    x.observe(notebookContainer, {childList: true});\n",
       "}}\n",
       "\n",
       "// Listen for the clearing of the current output cell\n",
       "var outputEl = gd.closest('.output');\n",
       "if (outputEl) {{\n",
       "    x.observe(outputEl, {childList: true});\n",
       "}}\n",
       "\n",
       "                        })                };                });            </script>        </div>"
      ]
     },
     "metadata": {},
     "output_type": "display_data"
    }
   ],
   "source": [
    "# Scatter plot - Category\n",
    "\n",
    "fig = px.scatter(df, x='Salary', y='AmountSpent',trendline=\"ols\",\n",
    "                 color='OwnHome') # Added color to basic scatter\n",
    "fig.update_layout(title='Own Home With Salary Vs Amount Spent ',xaxis_title=\"Salary\",yaxis_title=\"Amount Spent\",title_x=0.5)\n",
    "fig.show()"
   ]
  },
  {
   "cell_type": "code",
   "execution_count": 42,
   "metadata": {
    "execution": {
     "iopub.execute_input": "2020-12-10T12:48:15.404395Z",
     "iopub.status.busy": "2020-12-10T12:48:15.402961Z",
     "iopub.status.idle": "2020-12-10T12:48:15.503114Z",
     "shell.execute_reply": "2020-12-10T12:48:15.503776Z"
    },
    "papermill": {
     "duration": 0.344839,
     "end_time": "2020-12-10T12:48:15.503947",
     "exception": false,
     "start_time": "2020-12-10T12:48:15.159108",
     "status": "completed"
    },
    "tags": []
   },
   "outputs": [
    {
     "data": {
      "text/html": [
       "<div>                            <div id=\"9fc4f33a-206b-431d-8dfd-504702d91165\" class=\"plotly-graph-div\" style=\"height:525px; width:100%;\"></div>            <script type=\"text/javascript\">                require([\"plotly\"], function(Plotly) {                    window.PLOTLYENV=window.PLOTLYENV || {};                                    if (document.getElementById(\"9fc4f33a-206b-431d-8dfd-504702d91165\")) {                    Plotly.newPlot(                        \"9fc4f33a-206b-431d-8dfd-504702d91165\",                        [{\"hovertemplate\": \"Married=Single<br>Salary=%{x}<br>AmountSpent=%{y}<extra></extra>\", \"legendgroup\": \"Single\", \"marker\": {\"color\": \"#636efa\", \"symbol\": \"circle\"}, \"mode\": \"markers\", \"name\": \"Single\", \"orientation\": \"v\", \"showlegend\": true, \"type\": \"scatter\", \"x\": [47500, 63600, 13500, 68400, 48100, 68400, 38600, 14000, 14300, 62800, 21700, 67700, 27000, 64100, 47000, 20100, 64000, 49600, 56000, 46600, 60300, 42300, 62700, 25900, 15600, 14600, 13200, 51300, 72300, 15600, 71500, 14400, 15000, 57600, 24400, 22100, 32400, 11400, 47200, 48700, 20400, 39000, 12900, 16300, 21100, 21700, 42200, 59000, 52700, 20900, 27900, 46600, 56300, 14800, 70200, 25800, 12000, 51900, 66800, 13800, 14800, 10400, 35200, 16100, 19100, 21400, 53700, 17400, 14600, 10800, 21400, 11400, 16400, 64200, 17000, 41400, 49100, 42600, 11900, 52900, 14300, 21000, 59600, 39700, 28500, 60300, 60200, 45700, 28900, 48700, 39000, 27100, 10200, 12500, 64600, 16900, 13600, 26700, 56900, 68700, 19300, 17300, 53300, 42800, 51200, 62200, 11400, 14000, 29600, 15000, 20300, 33200, 23200, 41400, 13900, 54400, 14500, 21300, 29000, 14600, 65300, 19800, 56700, 26100, 15900, 12700, 43200, 62000, 13400, 12000, 14200, 47500, 31300, 43300, 51900, 42700, 19000, 14500, 39600, 59700, 34700, 50600, 53900, 27800, 42800, 25600, 30900, 55900, 53900, 53400, 55800, 22000, 40200, 16700, 20900, 61800, 60300, 73700, 27000, 43700, 10200, 33200, 80800, 31900, 53300, 23000, 45100, 41800, 65300, 10200, 24000, 53700, 12100, 33400, 47900, 69100, 13300, 39600, 11700, 14600, 34600, 37000, 18400, 25000, 17800, 19700, 11200, 43500, 42500, 82800, 21900, 35600, 21900, 63000, 11500, 44600, 21900, 45100, 14200, 23200, 32700, 35200, 13100, 23100, 49200, 45000, 49900, 47600, 47900, 59400, 32700, 34200, 31600, 43300, 17900, 50100, 33400, 25700, 50500, 17300, 45800, 62500, 17800, 46100, 27100, 12000, 48400, 45600, 35200, 60200, 36100, 11000, 61600, 18900, 17300, 43300, 56300, 48100, 21200, 53900, 20400, 52400, 17600, 23500, 58700, 61500, 21200, 32400, 24400, 16900, 22000, 18800, 26600, 55600, 14600, 15100, 20800, 15000, 17700, 17800, 13800, 50500, 42000, 15200, 15800, 51400, 39900, 21600, 31900, 45500, 12800, 50700, 17900, 14400, 23800, 36900, 20600, 68900, 22200, 55900, 39900, 38700, 64300, 66600, 18200, 45600, 29600, 13900, 27500, 55900, 19800, 17600, 13400, 35800, 18000, 50000, 58200, 13500, 18400, 70000, 13600, 22800, 14200, 18700, 28900, 54200, 13300, 60200, 21400, 21700, 23200, 55600, 12500, 31200, 13700, 55500, 58600, 13700, 74400, 43900, 20300, 16300, 15100, 12500, 10600, 41300, 27200, 27900, 41200, 29200, 51900, 12400, 40400, 10900, 13200, 57800, 43100, 44500, 30300, 20100, 42500, 52600, 37800, 20300, 54700, 58600, 53800, 52200, 22900, 12800, 17600, 28300, 41900, 14100, 52100, 38700, 44100, 22600, 55100, 10200, 41000, 26200, 36700, 60200, 34500, 14800, 21900, 39500, 45900, 28200, 14200, 62900, 19400, 46600, 45900, 33600, 55600, 24000, 25700, 23100, 72200, 35100, 14900, 72000, 35900, 14100, 17700, 53800, 44400, 20700, 19700, 35300, 21300, 63700, 11000, 45200, 17900, 49700, 43000, 15500, 13000, 27200, 61000, 12600, 12700, 32600, 29200, 12900, 46500, 12400, 40600, 65400, 49100, 10600, 49000, 55600, 16300, 48100, 61300, 19500, 17200, 51100, 76800, 60200, 59100, 32500, 49500, 32000, 44700, 75400, 59300, 43700, 25300, 15900, 46600, 23200, 18200, 17000, 40200, 17300, 64400, 27600, 25100, 46300, 67900, 19100, 14400, 47000, 65800, 60400, 54400, 31500, 48800, 29200, 15300, 17500, 40200, 28400, 55200, 44600, 58400, 67800, 25500, 20000, 52600, 65400, 19600, 13200, 63800, 22600, 37300, 14900, 36700, 63200, 43100, 44800, 38200, 18400, 40700, 71300, 36400, 15400, 39100, 43800, 25300, 73200, 25300, 56200, 33000, 36900, 33200, 63200, 32100, 11700, 17600, 19400, 40500, 44800], \"xaxis\": \"x\", \"y\": [755, 1318, 296, 1304, 782, 1155, 542, 410, 194, 707, 774, 2226, 183, 1595, 584, 576, 410, 844, 530, 906, 1263, 1051, 704, 449, 136, 468, 358, 1424, 4182, 468, 964, 615, 38, 1006, 220, 280, 920, 258, 1587, 528, 867, 643, 107, 470, 470, 708, 1753, 3044, 855, 550, 1184, 1153, 873, 209, 1702, 451, 344, 1492, 2098, 127, 436, 189, 607, 202, 176, 326, 235, 332, 143, 123, 498, 312, 218, 1642, 581, 223, 474, 1790, 143, 2316, 458, 646, 1217, 238, 621, 701, 1365, 724, 830, 1457, 292, 437, 213, 202, 1298, 247, 183, 459, 1857, 1699, 308, 381, 1720, 759, 1257, 1583, 186, 229, 774, 378, 450, 1037, 770, 643, 570, 342, 222, 677, 482, 385, 1443, 991, 536, 494, 503, 87, 917, 3293, 143, 264, 400, 847, 357, 1584, 1148, 827, 428, 183, 1085, 1422, 1615, 713, 735, 408, 922, 426, 862, 2555, 1186, 886, 821, 472, 881, 108, 296, 1156, 2091, 1274, 1012, 950, 333, 607, 2444, 616, 508, 79, 448, 301, 193, 199, 357, 1194, 90, 617, 662, 1477, 236, 610, 193, 307, 748, 632, 303, 264, 292, 330, 106, 500, 798, 1544, 192, 865, 276, 1910, 157, 236, 576, 794, 250, 788, 1252, 827, 314, 466, 210, 902, 1631, 801, 1090, 1699, 273, 523, 476, 326, 446, 1071, 567, 173, 1029, 345, 712, 921, 216, 418, 268, 140, 992, 1388, 233, 2304, 438, 393, 1666, 184, 166, 1021, 321, 1640, 417, 1060, 513, 857, 224, 371, 1479, 968, 242, 515, 491, 281, 736, 170, 245, 1786, 47, 274, 260, 341, 268, 589, 368, 940, 232, 324, 147, 694, 586, 491, 860, 1624, 230, 157, 62, 223, 438, 371, 201, 2784, 275, 964, 619, 1506, 1325, 1177, 322, 1322, 583, 191, 571, 909, 209, 245, 424, 1355, 303, 1079, 981, 160, 662, 785, 349, 258, 192, 289, 905, 1405, 184, 1364, 414, 387, 504, 984, 422, 1087, 163, 427, 624, 414, 1152, 358, 304, 360, 348, 206, 114, 932, 446, 576, 841, 737, 1162, 205, 630, 407, 227, 1149, 1444, 1175, 1062, 271, 918, 1307, 1185, 180, 1355, 989, 1803, 1909, 814, 365, 163, 933, 654, 153, 1668, 1009, 1659, 521, 826, 362, 768, 381, 1218, 1748, 639, 376, 486, 412, 716, 224, 197, 2561, 563, 546, 416, 573, 1553, 362, 907, 457, 3278, 421, 275, 1475, 962, 328, 742, 843, 886, 550, 535, 1369, 329, 1351, 195, 699, 395, 2844, 225, 210, 43, 243, 975, 241, 65, 172, 556, 167, 829, 229, 690, 2290, 934, 517, 1523, 952, 317, 961, 1241, 571, 329, 1984, 1061, 1955, 580, 883, 1195, 1320, 502, 2723, 929, 1344, 451, 406, 158, 534, 401, 659, 1197, 411, 1913, 893, 421, 1138, 1418, 403, 390, 963, 869, 791, 1150, 269, 1271, 636, 645, 472, 1634, 182, 1714, 966, 829, 680, 636, 182, 1773, 2296, 395, 512, 1622, 865, 673, 422, 529, 1932, 1224, 666, 1476, 319, 232, 1543, 506, 172, 1001, 606, 591, 2177, 510, 1546, 700, 514, 320, 1507, 405, 540, 273, 384, 1073, 1417], \"yaxis\": \"y\"}, {\"hovertemplate\": \"<b>OLS trendline</b><br>AmountSpent = 0.0235044 * Salary + -72.9742<br>R<sup>2</sup>=0.522799<br><br>Married=Single<br>Salary=%{x}<br>AmountSpent=%{y} <b>(trend)</b><extra></extra>\", \"legendgroup\": \"Single\", \"marker\": {\"color\": \"#636efa\", \"symbol\": \"circle\"}, \"mode\": \"lines\", \"name\": \"Single\", \"showlegend\": false, \"type\": \"scatter\", \"x\": [10200, 10200, 10200, 10200, 10400, 10600, 10600, 10800, 10900, 11000, 11000, 11200, 11400, 11400, 11400, 11500, 11700, 11700, 11900, 12000, 12000, 12000, 12100, 12400, 12400, 12500, 12500, 12500, 12600, 12700, 12700, 12800, 12800, 12900, 12900, 13000, 13100, 13200, 13200, 13200, 13300, 13300, 13400, 13400, 13500, 13500, 13600, 13600, 13700, 13700, 13800, 13800, 13900, 13900, 14000, 14000, 14100, 14100, 14200, 14200, 14200, 14200, 14300, 14300, 14400, 14400, 14400, 14500, 14500, 14600, 14600, 14600, 14600, 14600, 14800, 14800, 14800, 14900, 14900, 15000, 15000, 15000, 15100, 15100, 15200, 15300, 15400, 15500, 15600, 15600, 15800, 15900, 15900, 16100, 16300, 16300, 16300, 16400, 16700, 16900, 16900, 17000, 17000, 17200, 17300, 17300, 17300, 17300, 17400, 17500, 17600, 17600, 17600, 17600, 17700, 17700, 17800, 17800, 17800, 17900, 17900, 17900, 18000, 18200, 18200, 18400, 18400, 18400, 18700, 18800, 18900, 19000, 19100, 19100, 19300, 19400, 19400, 19500, 19600, 19700, 19700, 19800, 19800, 20000, 20100, 20100, 20300, 20300, 20300, 20400, 20400, 20600, 20700, 20800, 20900, 20900, 21000, 21100, 21200, 21200, 21300, 21300, 21400, 21400, 21400, 21600, 21700, 21700, 21700, 21900, 21900, 21900, 21900, 22000, 22000, 22100, 22200, 22600, 22600, 22800, 22900, 23000, 23100, 23100, 23200, 23200, 23200, 23200, 23500, 23800, 24000, 24000, 24400, 24400, 25000, 25100, 25300, 25300, 25300, 25500, 25600, 25700, 25700, 25800, 25900, 26100, 26200, 26600, 26700, 27000, 27000, 27100, 27100, 27200, 27200, 27500, 27600, 27800, 27900, 27900, 28200, 28300, 28400, 28500, 28900, 28900, 29000, 29200, 29200, 29200, 29600, 29600, 30300, 30900, 31200, 31300, 31500, 31600, 31900, 31900, 32000, 32100, 32400, 32400, 32500, 32600, 32700, 32700, 33000, 33200, 33200, 33200, 33400, 33400, 33600, 34200, 34500, 34600, 34700, 35100, 35200, 35200, 35200, 35300, 35600, 35800, 35900, 36100, 36400, 36700, 36700, 36900, 36900, 37000, 37300, 37800, 38200, 38600, 38700, 38700, 39000, 39000, 39100, 39500, 39600, 39600, 39700, 39900, 39900, 40200, 40200, 40200, 40400, 40500, 40600, 40700, 41000, 41200, 41300, 41400, 41400, 41800, 41900, 42000, 42200, 42300, 42500, 42500, 42600, 42700, 42800, 42800, 43000, 43100, 43100, 43200, 43300, 43300, 43300, 43500, 43700, 43700, 43800, 43900, 44100, 44400, 44500, 44600, 44600, 44700, 44800, 44800, 45000, 45100, 45100, 45200, 45500, 45600, 45600, 45700, 45800, 45900, 45900, 46100, 46300, 46500, 46600, 46600, 46600, 46600, 47000, 47000, 47200, 47500, 47500, 47600, 47900, 47900, 48100, 48100, 48100, 48400, 48700, 48700, 48800, 49000, 49100, 49100, 49200, 49500, 49600, 49700, 49900, 50000, 50100, 50500, 50500, 50600, 50700, 51100, 51200, 51300, 51400, 51900, 51900, 51900, 52100, 52200, 52400, 52600, 52600, 52700, 52900, 53300, 53300, 53400, 53700, 53700, 53800, 53800, 53900, 53900, 53900, 54200, 54400, 54400, 54700, 55100, 55200, 55500, 55600, 55600, 55600, 55600, 55800, 55900, 55900, 55900, 56000, 56200, 56300, 56300, 56700, 56900, 57600, 57800, 58200, 58400, 58600, 58600, 58700, 59000, 59100, 59300, 59400, 59600, 59700, 60200, 60200, 60200, 60200, 60200, 60300, 60300, 60300, 60400, 61000, 61300, 61500, 61600, 61800, 62000, 62200, 62500, 62700, 62800, 62900, 63000, 63200, 63200, 63600, 63700, 63800, 64000, 64100, 64200, 64300, 64400, 64600, 65300, 65300, 65400, 65400, 65800, 66600, 66800, 67700, 67800, 67900, 68400, 68400, 68700, 68900, 69100, 70000, 70200, 71300, 71500, 72000, 72200, 72300, 73200, 73700, 74400, 75400, 76800, 80800, 82800], \"xaxis\": \"x\", \"y\": [166.77104198642002, 166.77104198642002, 166.77104198642002, 166.77104198642002, 171.47192951212554, 176.17281703783107, 176.17281703783107, 180.8737045635366, 183.22414832638938, 185.57459208924215, 185.57459208924215, 190.27547961494767, 194.9763671406532, 194.9763671406532, 194.9763671406532, 197.32681090350596, 202.02769842921143, 202.02769842921143, 206.72858595491695, 209.0790297177697, 209.0790297177697, 209.0790297177697, 211.42947348062248, 218.48080476918076, 218.48080476918076, 220.83124853203353, 220.83124853203353, 220.83124853203353, 223.1816922948863, 225.53213605773905, 225.53213605773905, 227.88257982059181, 227.88257982059181, 230.23302358344458, 230.23302358344458, 232.58346734629734, 234.9339111091501, 237.28435487200287, 237.28435487200287, 237.28435487200287, 239.63479863485563, 239.63479863485563, 241.9852423977084, 241.9852423977084, 244.33568616056115, 244.33568616056115, 246.68612992341392, 246.68612992341392, 249.03657368626668, 249.03657368626668, 251.38701744911944, 251.38701744911944, 253.7374612119722, 253.7374612119722, 256.08790497482494, 256.08790497482494, 258.43834873767776, 258.43834873767776, 260.78879250053046, 260.78879250053046, 260.78879250053046, 260.78879250053046, 263.1392362633833, 263.1392362633833, 265.489680026236, 265.489680026236, 265.489680026236, 267.8401237890888, 267.8401237890888, 270.1905675519415, 270.1905675519415, 270.1905675519415, 270.1905675519415, 270.1905675519415, 274.89145507764704, 274.89145507764704, 274.89145507764704, 277.24189884049986, 277.24189884049986, 279.59234260335256, 279.59234260335256, 279.59234260335256, 281.9427863662054, 281.9427863662054, 284.2932301290581, 286.6436738919109, 288.9941176547636, 291.34456141761643, 293.69500518046914, 293.69500518046914, 298.39589270617466, 300.7463364690275, 300.7463364690275, 305.447223994733, 310.14811152043853, 310.14811152043853, 310.14811152043853, 312.49855528329124, 319.5498865718496, 324.2507740975551, 324.2507740975551, 326.6012178604078, 326.6012178604078, 331.30210538611334, 333.65254914896616, 333.65254914896616, 333.65254914896616, 333.65254914896616, 336.00299291181886, 338.3534366746717, 340.7038804375244, 340.7038804375244, 340.7038804375244, 340.7038804375244, 343.0543242003772, 343.0543242003772, 345.4047679632299, 345.4047679632299, 345.4047679632299, 347.75521172608273, 347.75521172608273, 347.75521172608273, 350.10565548893544, 354.80654301464097, 354.80654301464097, 359.5074305403465, 359.5074305403465, 359.5074305403465, 366.55876182890484, 368.90920559175754, 371.25964935461036, 373.61009311746307, 375.9605368803159, 375.9605368803159, 380.6614244060214, 383.0118681688741, 383.0118681688741, 385.3623119317268, 387.71275569457964, 390.06319945743235, 390.06319945743235, 392.41364322028517, 392.41364322028517, 397.1145307459907, 399.4649745088434, 399.4649745088434, 404.1658620345489, 404.1658620345489, 404.1658620345489, 406.51630579740174, 406.51630579740174, 411.21719332310727, 413.56763708596, 415.9180808488128, 418.2685246116655, 418.2685246116655, 420.6189683745183, 422.969412137371, 425.31985590022384, 425.31985590022384, 427.67029966307655, 427.67029966307655, 430.02074342592937, 430.02074342592937, 430.02074342592937, 434.7216309516349, 437.0720747144876, 437.0720747144876, 437.0720747144876, 441.7729622401931, 441.7729622401931, 441.7729622401931, 441.7729622401931, 444.12340600304594, 444.12340600304594, 446.47384976589865, 448.82429352875147, 458.2260685801625, 458.2260685801625, 462.92695610586804, 465.27739986872075, 467.62784363157357, 469.9782873944263, 469.9782873944263, 472.328731157279, 472.328731157279, 472.328731157279, 472.328731157279, 479.3800624458373, 486.43139373439556, 491.1322812601011, 491.1322812601011, 500.53405631151213, 500.53405631151213, 514.6367188886287, 516.9871626514815, 521.688050177187, 521.688050177187, 521.688050177187, 526.3889377028926, 528.7393814657453, 531.0898252285981, 531.0898252285981, 533.4402689914508, 535.7907127543036, 540.4916002800092, 542.8420440428619, 552.2438190942729, 554.5942628571257, 561.645594145684, 561.645594145684, 563.9960379085368, 563.9960379085368, 566.3464816713895, 566.3464816713895, 573.3978129599478, 575.7482567228005, 580.4491442485061, 582.7995880113589, 582.7995880113589, 589.8509192999171, 592.2013630627699, 594.5518068256226, 596.9022505884755, 606.3040256398865, 606.3040256398865, 608.6544694027392, 613.3553569284447, 613.3553569284447, 613.3553569284447, 622.7571319798558, 622.7571319798558, 639.2102383198252, 653.3129008969418, 660.3642321855, 662.7146759483527, 667.4155634740582, 669.766007236911, 676.8173385254693, 676.8173385254693, 679.1677822883221, 681.5182260511748, 688.5695573397331, 688.5695573397331, 690.9200011025858, 693.2704448654387, 695.6208886282914, 695.6208886282914, 702.6722199168497, 707.3731074425552, 707.3731074425552, 707.3731074425552, 712.0739949682608, 712.0739949682608, 716.7748824939663, 730.8775450710829, 737.9288763596411, 740.2793201224939, 742.6297638853466, 752.0315389367577, 754.3819826996105, 754.3819826996105, 754.3819826996105, 756.7324264624632, 763.7837577510215, 768.4846452767271, 770.8350890395798, 775.5359765652853, 782.5873078538436, 789.6386391424019, 789.6386391424019, 794.3395266681074, 794.3395266681074, 796.6899704309602, 803.7413017195184, 815.4935205337823, 824.8952955851934, 834.2970706366044, 836.6475143994571, 836.6475143994571, 843.6988456880154, 843.6988456880154, 846.0492894508682, 855.4510645022792, 857.8015082651319, 857.8015082651319, 860.1519520279847, 864.8528395536903, 864.8528395536903, 871.9041708422485, 871.9041708422485, 871.9041708422485, 876.605058367954, 878.9555021308068, 881.3059458936596, 883.6563896565124, 890.7077209450706, 895.4086084707761, 897.759052233629, 900.1094959964817, 900.1094959964817, 909.5112710478927, 911.8617148107455, 914.2121585735982, 918.9130460993038, 921.2634898621566, 925.9643773878621, 925.9643773878621, 928.3148211507148, 930.6652649135676, 933.0157086764203, 933.0157086764203, 937.7165962021259, 940.0670399649787, 940.0670399649787, 942.4174837278314, 944.7679274906842, 944.7679274906842, 944.7679274906842, 949.4688150163897, 954.1697025420951, 954.1697025420951, 956.520146304948, 958.8705900678008, 963.5714775935062, 970.6228088820646, 972.9732526449172, 975.3236964077701, 975.3236964077701, 977.6741401706229, 980.0245839334757, 980.0245839334757, 984.7254714591811, 987.0759152220339, 987.0759152220339, 989.4263589848867, 996.477690273445, 998.8281340362978, 998.8281340362978, 1001.1785777991504, 1003.5290215620032, 1005.879465324856, 1005.879465324856, 1010.5803528505614, 1015.2812403762671, 1019.9821279019725, 1022.3325716648253, 1022.3325716648253, 1022.3325716648253, 1022.3325716648253, 1031.7343467162364, 1031.7343467162364, 1036.4352342419418, 1043.4865655305002, 1043.4865655305002, 1045.8370092933528, 1052.8883405819113, 1052.8883405819113, 1057.5892281076167, 1057.5892281076167, 1057.5892281076167, 1064.640559396175, 1071.6918906847334, 1071.6918906847334, 1074.042334447586, 1078.7432219732916, 1081.0936657361444, 1081.0936657361444, 1083.444109498997, 1090.4954407875555, 1092.845884550408, 1095.196328313261, 1099.8972158389665, 1102.2476596018191, 1104.598103364672, 1113.999878416083, 1113.999878416083, 1116.3503221789358, 1118.7007659417886, 1128.1025409931997, 1130.4529847560523, 1132.803428518905, 1135.153872281758, 1146.9060910960218, 1146.9060910960218, 1146.9060910960218, 1151.6069786217272, 1153.95742238458, 1158.6583099102854, 1163.359197435991, 1163.359197435991, 1165.7096411988439, 1170.4105287245493, 1179.8123037759603, 1179.8123037759603, 1182.1627475388132, 1189.2140788273714, 1189.2140788273714, 1191.5645225902242, 1191.5645225902242, 1193.914966353077, 1193.914966353077, 1193.914966353077, 1200.9662976416353, 1205.6671851673407, 1205.6671851673407, 1212.718516455899, 1222.12029150731, 1224.4707352701628, 1231.522066558721, 1233.8725103215738, 1233.8725103215738, 1233.8725103215738, 1233.8725103215738, 1238.5733978472795, 1240.923841610132, 1240.923841610132, 1240.923841610132, 1243.2742853729849, 1247.9751728986905, 1250.325616661543, 1250.325616661543, 1259.7273917129542, 1264.4282792386598, 1280.881385578629, 1285.5822731043347, 1294.9840481557458, 1299.6849356814512, 1304.3858232071568, 1304.3858232071568, 1306.7362669700094, 1313.7875982585679, 1316.1380420214205, 1320.838929547126, 1323.189373309979, 1327.8902608356843, 1330.2407045985371, 1341.992923412801, 1341.992923412801, 1341.992923412801, 1341.992923412801, 1341.992923412801, 1344.3433671756536, 1344.3433671756536, 1344.3433671756536, 1346.6938109385064, 1360.7964735156231, 1367.8478048041814, 1372.5486923298868, 1374.8991360927396, 1379.6000236184452, 1384.3009111441506, 1389.001798669856, 1396.0531299584145, 1400.75401748412, 1403.1044612469727, 1405.4549050098256, 1407.8053487726781, 1412.5062362983838, 1412.5062362983838, 1421.9080113497948, 1424.2584551126477, 1426.6088988755002, 1431.3097864012059, 1433.6602301640587, 1436.0106739269113, 1438.3611176897641, 1440.711561452617, 1445.4124489783223, 1461.8655553182919, 1461.8655553182919, 1464.2159990811444, 1464.2159990811444, 1473.6177741325555, 1492.4213242353776, 1497.1222117610832, 1518.2762056267582, 1520.6266493896107, 1522.9770931524636, 1534.7293119667274, 1534.7293119667274, 1541.7806432552857, 1546.4815307809913, 1551.1824183066967, 1572.3364121723716, 1577.037299698077, 1602.8921810894574, 1607.593068615163, 1619.345287429427, 1624.0461749551323, 1626.3966187179851, 1647.55061258366, 1659.3028313979237, 1675.7559377378932, 1699.2603753664207, 1732.1665880463595, 1826.1843385604698, 1873.193213817525], \"yaxis\": \"y\"}, {\"hovertemplate\": \"Married=Married<br>Salary=%{x}<br>AmountSpent=%{y}<extra></extra>\", \"legendgroup\": \"Married\", \"marker\": {\"color\": \"#EF553B\", \"symbol\": \"circle\"}, \"mode\": \"markers\", \"name\": \"Married\", \"orientation\": \"v\", \"showlegend\": true, \"type\": \"scatter\", \"x\": [85600, 30400, 51900, 80700, 43700, 111800, 44100, 111400, 110000, 83100, 82800, 90100, 49800, 60200, 43500, 41700, 92300, 72900, 66900, 39700, 72200, 87700, 104100, 41600, 96800, 76200, 81500, 111500, 77700, 58900, 126500, 83300, 90500, 87200, 105300, 69800, 67800, 33700, 62600, 66700, 72500, 90400, 60600, 84300, 48800, 74700, 127000, 67300, 134500, 75500, 33600, 27400, 110400, 81200, 87100, 90700, 91800, 70700, 79600, 96400, 106600, 104900, 58300, 59700, 105300, 44200, 113000, 63300, 93400, 52500, 45400, 68000, 100100, 103700, 81700, 114800, 67900, 53700, 34300, 109800, 113600, 51200, 88200, 122100, 84800, 140000, 51900, 81200, 73100, 60100, 84800, 35000, 61700, 46900, 123600, 45800, 77800, 40000, 118300, 91000, 35300, 113800, 113400, 100100, 80000, 83900, 77000, 72900, 80700, 40900, 54700, 23600, 20200, 61500, 101700, 120800, 42300, 98400, 109200, 97000, 71200, 64000, 33000, 74400, 68700, 53600, 70900, 63200, 107400, 79900, 120000, 66300, 84200, 13800, 100800, 90200, 114100, 96100, 97200, 82400, 108200, 76200, 81800, 76100, 82100, 103300, 32700, 72200, 107600, 109900, 65400, 80600, 68200, 36700, 54600, 65900, 67300, 102800, 106700, 25500, 46300, 55500, 118600, 130700, 118300, 63500, 84300, 96900, 25900, 96700, 26800, 40900, 41500, 69700, 102500, 48900, 41600, 63300, 78800, 82500, 88100, 124800, 15400, 70200, 82400, 97900, 88400, 86900, 74800, 73000, 118500, 66300, 103900, 71900, 86100, 96300, 96300, 46700, 108300, 36600, 66300, 70000, 40500, 75800, 48600, 52600, 123000, 64600, 74500, 56600, 61400, 76400, 55100, 22800, 10100, 59100, 73800, 113300, 118400, 92300, 30100, 97500, 54600, 62300, 96900, 36900, 93500, 97300, 74900, 73300, 41300, 97400, 87200, 66900, 96600, 126300, 108100, 74700, 60000, 68800, 83700, 108900, 60500, 84100, 25100, 69900, 97100, 72200, 78900, 105500, 60300, 53900, 70400, 36900, 88700, 88600, 79500, 81400, 36500, 76700, 123000, 70000, 79400, 63700, 118800, 79400, 56900, 95100, 119800, 76700, 67600, 72900, 62200, 66500, 72200, 56300, 72100, 45900, 140700, 90300, 95900, 98400, 102400, 95800, 38200, 65900, 97500, 63000, 12600, 84700, 41500, 83100, 88700, 54700, 70900, 80800, 100600, 71200, 61000, 98900, 75600, 53700, 89000, 73600, 73000, 92900, 64300, 77100, 81800, 41700, 51000, 84100, 85600, 47200, 96300, 60500, 106100, 59900, 62800, 97400, 37500, 107400, 38400, 102700, 64800, 89500, 87000, 55900, 81400, 90500, 82200, 65400, 63300, 51600, 55000, 97600, 102400, 23800, 100000, 43300, 65800, 49700, 82300, 85500, 111900, 82400, 52200, 64600, 40100, 84500, 34500, 61000, 79300, 39700, 86500, 102300, 71600, 54500, 131500, 37200, 55500, 79200, 70400, 107300, 66500, 72200, 74500, 83700, 106400, 42000, 118800, 37100, 74600, 122700, 75500, 79700, 42800, 65500, 21500, 68600, 53300, 112800, 124900, 82400, 41600, 68500, 62200, 36500, 86400, 39500, 85300, 110700, 33200, 135700, 83500, 84200, 79900, 52000, 25900, 65800, 65900, 108100, 107300, 79500, 95900, 98500, 96200, 42700, 26700, 76600, 117500, 90600, 77600, 92400, 71800, 95800, 74500, 117700, 64100, 130600, 74400, 54200, 76400, 93700, 96500, 99600, 79900, 50500, 49200, 72600, 109600, 47300, 93000, 69400, 64300, 96100, 118000, 69700, 88600, 102600, 22400, 70500, 54200, 116100, 82700, 83000, 42400, 109800, 74900, 88500, 99200, 62800, 76900, 84100, 77600, 128700, 49600, 36600, 52800, 96500, 63500, 102700, 100100, 105600, 57900, 60100, 87400, 117900, 67900, 66200, 88000, 94200, 168800, 72200, 97600, 23400, 102500, 52300, 37000, 77300, 70900, 71800, 79000, 75200, 43600, 83600, 45500, 99300, 108000, 84900, 93000, 82000, 49300, 66200, 96800, 112900, 102700, 123800, 101700, 99200, 79000, 53600], \"xaxis\": \"x\", \"y\": [2436, 495, 158, 3034, 927, 2065, 704, 2136, 5564, 2766, 3010, 1956, 827, 2328, 808, 521, 655, 2075, 769, 573, 2082, 2446, 2636, 982, 3082, 2437, 3655, 2510, 983, 1215, 2000, 2574, 1116, 3604, 3360, 2764, 1084, 614, 565, 1310, 2595, 2924, 307, 1648, 1647, 704, 1821, 1513, 4558, 741, 805, 278, 1093, 1856, 1688, 2265, 2452, 2150, 1575, 1822, 1877, 450, 1472, 1857, 3505, 2524, 1554, 633, 3079, 2038, 1203, 3688, 3104, 2339, 879, 3596, 2925, 1081, 1297, 4279, 3237, 1293, 2749, 2408, 2624, 4894, 780, 2693, 1582, 1594, 1826, 473, 1161, 703, 1892, 489, 1813, 613, 2681, 708, 1093, 3273, 1790, 3491, 1985, 1721, 2104, 252, 202, 962, 848, 161, 500, 1162, 2551, 5830, 856, 3305, 1102, 2599, 638, 1552, 979, 2479, 2763, 1560, 690, 1512, 1485, 1165, 1926, 2243, 1654, 363, 1789, 2183, 1976, 316, 1634, 2035, 635, 979, 1838, 719, 1308, 3378, 1276, 2492, 1512, 870, 938, 2840, 818, 731, 2163, 1081, 1212, 2238, 607, 139, 1357, 858, 1553, 2070, 2502, 2321, 2842, 1420, 242, 1231, 435, 576, 1314, 584, 2464, 915, 1690, 679, 3398, 859, 1078, 2537, 297, 1583, 657, 2149, 3632, 2230, 1968, 490, 3063, 544, 2666, 1846, 1255, 1081, 3916, 983, 2224, 587, 1088, 1227, 622, 1830, 1583, 1052, 3671, 2206, 1481, 1607, 1575, 881, 1439, 452, 93, 1426, 3120, 5151, 3941, 2141, 530, 2837, 1246, 2644, 1159, 1480, 1426, 3048, 1474, 1694, 1985, 880, 1274, 1220, 1437, 1888, 2632, 1699, 966, 1658, 3344, 1841, 409, 2710, 592, 2101, 1473, 715, 2233, 1781, 1252, 2177, 1127, 721, 2448, 2563, 1763, 1014, 1140, 1431, 5878, 1974, 1175, 364, 2176, 200, 687, 809, 2090, 534, 1172, 753, 2119, 286, 3069, 1608, 3052, 1645, 1001, 1944, 2585, 1414, 1237, 678, 526, 1436, 1280, 2107, 164, 2705, 1213, 586, 2693, 1404, 794, 1598, 2838, 392, 1850, 3126, 1541, 2491, 1487, 647, 1534, 1705, 239, 568, 919, 1398, 1025, 2362, 3380, 1272, 1909, 340, 472, 613, 177, 213, 1578, 1821, 188, 2381, 574, 5209, 1594, 788, 3001, 863, 1517, 836, 1408, 1082, 1162, 1162, 2466, 428, 2247, 716, 1017, 613, 580, 895, 2340, 2122, 669, 2935, 1384, 1557, 802, 1611, 2047, 1011, 2690, 2438, 1198, 1001, 2840, 247, 216, 1905, 2610, 1194, 1181, 1811, 1413, 1582, 1757, 105, 2631, 653, 705, 4984, 2450, 3384, 685, 1931, 445, 1342, 1598, 1861, 4109, 1779, 1634, 1500, 1348, 747, 1713, 1006, 2523, 2458, 1639, 2746, 2098, 954, 1041, 2545, 582, 578, 777, 1133, 1566, 1651, 3168, 2034, 1457, 541, 1120, 2904, 927, 3167, 858, 2191, 1946, 2581, 824, 2104, 1332, 3442, 1893, 486, 2216, 1521, 1364, 871, 295, 642, 1078, 1999, 2318, 640, 2644, 2419, 661, 1588, 581, 1432, 212, 2546, 947, 2145, 757, 2975, 1753, 726, 1166, 2258, 1804, 1104, 2796, 1403, 3230, 1352, 2004, 3995, 770, 833, 926, 3780, 1023, 1473, 1597, 304, 1693, 1430, 2729, 1760, 356, 1024, 524, 1211, 1512, 1042, 2902, 348, 548, 2034, 850, 1853, 1685, 1389, 2279, 2702, 1047, 538, 754, 1504, 1849, 3072, 1046, 1800, 1692, 2057, 2299, 6217, 3785, 3537, 941, 5503, 671, 973], \"yaxis\": \"y\"}, {\"hovertemplate\": \"<b>OLS trendline</b><br>AmountSpent = 0.0210354 * Salary + 58.7277<br>R<sup>2</sup>=0.282179<br><br>Married=Married<br>Salary=%{x}<br>AmountSpent=%{y} <b>(trend)</b><extra></extra>\", \"legendgroup\": \"Married\", \"marker\": {\"color\": \"#EF553B\", \"symbol\": \"circle\"}, \"mode\": \"lines\", \"name\": \"Married\", \"showlegend\": false, \"type\": \"scatter\", \"x\": [10100, 12600, 13800, 15400, 20200, 21500, 22400, 22800, 23400, 23600, 23800, 25100, 25500, 25900, 25900, 26700, 26800, 27400, 30100, 30400, 32700, 33000, 33200, 33600, 33700, 34300, 34500, 35000, 35300, 36500, 36500, 36600, 36600, 36700, 36900, 36900, 37000, 37100, 37200, 37500, 38200, 38400, 39500, 39700, 39700, 40000, 40100, 40500, 40900, 40900, 41300, 41500, 41500, 41600, 41600, 41600, 41700, 41700, 42000, 42300, 42400, 42700, 42800, 43300, 43500, 43600, 43700, 44100, 44200, 45400, 45500, 45800, 45900, 46300, 46700, 46900, 47200, 47300, 48600, 48800, 48900, 49200, 49300, 49600, 49700, 49800, 50500, 51000, 51200, 51600, 51900, 51900, 52000, 52200, 52300, 52500, 52600, 52800, 53300, 53600, 53600, 53700, 53700, 53900, 54200, 54200, 54500, 54600, 54600, 54700, 54700, 55000, 55100, 55500, 55500, 55900, 56300, 56600, 56900, 57900, 58300, 58900, 59100, 59700, 59900, 60000, 60100, 60100, 60200, 60300, 60500, 60500, 60600, 61000, 61000, 61400, 61500, 61700, 62200, 62200, 62300, 62600, 62800, 62800, 63000, 63200, 63300, 63300, 63300, 63500, 63500, 63700, 64000, 64100, 64300, 64300, 64600, 64600, 64800, 65400, 65400, 65500, 65800, 65800, 65900, 65900, 65900, 66200, 66200, 66300, 66300, 66300, 66500, 66500, 66700, 66900, 66900, 67300, 67300, 67600, 67800, 67900, 67900, 68000, 68200, 68500, 68600, 68700, 68800, 69400, 69700, 69700, 69800, 69900, 70000, 70000, 70200, 70400, 70400, 70500, 70700, 70900, 70900, 70900, 71200, 71200, 71600, 71800, 71800, 71900, 72100, 72200, 72200, 72200, 72200, 72200, 72200, 72500, 72600, 72900, 72900, 72900, 73000, 73000, 73100, 73300, 73600, 73800, 74400, 74400, 74500, 74500, 74500, 74600, 74700, 74700, 74800, 74900, 74900, 75200, 75500, 75500, 75600, 75800, 76100, 76200, 76200, 76400, 76400, 76600, 76700, 76700, 76900, 77000, 77100, 77300, 77600, 77600, 77700, 77800, 78800, 78900, 79000, 79000, 79200, 79300, 79400, 79400, 79500, 79500, 79600, 79700, 79900, 79900, 79900, 80000, 80600, 80700, 80700, 80800, 81200, 81200, 81400, 81400, 81500, 81700, 81800, 81800, 82000, 82100, 82200, 82300, 82400, 82400, 82400, 82400, 82500, 82700, 82800, 83000, 83100, 83100, 83300, 83500, 83600, 83700, 83700, 83900, 84100, 84100, 84100, 84200, 84200, 84300, 84300, 84500, 84700, 84800, 84800, 84900, 85300, 85500, 85600, 85600, 86100, 86400, 86500, 86900, 87000, 87100, 87200, 87200, 87400, 87700, 88000, 88100, 88200, 88400, 88500, 88600, 88600, 88700, 88700, 89000, 89500, 90100, 90200, 90300, 90400, 90500, 90500, 90600, 90700, 91000, 91800, 92300, 92300, 92400, 92900, 93000, 93000, 93400, 93500, 93700, 94200, 95100, 95800, 95800, 95900, 95900, 96100, 96100, 96200, 96300, 96300, 96300, 96400, 96500, 96500, 96600, 96700, 96800, 96800, 96900, 96900, 97000, 97100, 97200, 97300, 97400, 97400, 97500, 97500, 97600, 97600, 97900, 98400, 98400, 98500, 98900, 99200, 99200, 99300, 99600, 100000, 100100, 100100, 100100, 100600, 100800, 101700, 101700, 102300, 102400, 102400, 102500, 102500, 102600, 102700, 102700, 102700, 102800, 103300, 103700, 103900, 104100, 104900, 105300, 105300, 105500, 105600, 106100, 106400, 106600, 106700, 107300, 107300, 107400, 107400, 107600, 108000, 108100, 108100, 108200, 108300, 108900, 109200, 109600, 109800, 109800, 109900, 110000, 110400, 110700, 111400, 111500, 111800, 111900, 112800, 112900, 113000, 113300, 113400, 113600, 113800, 114100, 114800, 116100, 117500, 117700, 117900, 118000, 118300, 118300, 118400, 118500, 118600, 118800, 118800, 119800, 120000, 120800, 122100, 122700, 123000, 123000, 123600, 123800, 124800, 124900, 126300, 126500, 127000, 128700, 130600, 130700, 131500, 134500, 135700, 140000, 140700, 168800], \"xaxis\": \"x\", \"y\": [271.1855778578671, 323.77415027147754, 349.0166650300106, 382.6733513747213, 483.64341040885336, 510.9894680639308, 529.9213541328306, 538.3355257190083, 550.9567830982747, 555.1638688913636, 559.3709546844525, 586.7170123395299, 595.1311839257075, 603.5453555118852, 603.5453555118852, 620.3736986842406, 622.477241580785, 635.0984989600515, 691.8941571667508, 698.2047858563841, 746.5862724769056, 752.8969011665389, 757.1039869596277, 765.5181585458055, 767.6217014423498, 780.2429588216164, 784.4500446147052, 794.9677590974272, 801.2783877870605, 826.5209025455936, 826.5209025455936, 828.624445442138, 828.624445442138, 830.7279883386824, 834.9350741317712, 834.9350741317712, 837.0386170283157, 839.14215992486, 841.2457028214045, 847.5563315110378, 862.2811317868487, 866.4882175799376, 889.6271894419261, 893.834275235015, 893.834275235015, 900.1449039246482, 902.2484468211926, 910.6626184073704, 919.076789993548, 919.076789993548, 927.4909615797256, 931.6980473728145, 931.6980473728145, 933.8015902693589, 933.8015902693589, 933.8015902693589, 935.9051331659033, 935.9051331659033, 942.2157618555366, 948.5263905451699, 950.6299334417142, 956.9405621313475, 959.0441050278919, 969.561819510614, 973.7689053037028, 975.8724482002473, 977.9759910967917, 986.3901626829694, 988.4937055795137, 1013.7362203380468, 1015.8397632345913, 1022.1503919242244, 1024.253934820769, 1032.6681064069467, 1041.0822779931243, 1045.2893637862132, 1051.5999924758464, 1053.703535372391, 1081.0495930274683, 1085.2566788205572, 1087.3602217171015, 1093.6708504067349, 1095.7743933032793, 1102.0850219929125, 1104.188564889457, 1106.2921077860012, 1121.0169080618123, 1131.5346225445344, 1135.741708337623, 1144.155879923801, 1150.4665086134341, 1150.4665086134341, 1152.5700515099786, 1156.7771373030673, 1158.8806801996118, 1163.0877659927007, 1165.191308889245, 1169.398394682334, 1179.916109165056, 1186.2267378546892, 1186.2267378546892, 1188.3302807512337, 1188.3302807512337, 1192.5373665443226, 1198.8479952339558, 1198.8479952339558, 1205.158623923589, 1207.2621668201334, 1207.2621668201334, 1209.3657097166779, 1209.3657097166779, 1215.676338406311, 1217.7798813028555, 1226.1940528890332, 1226.1940528890332, 1234.6082244752108, 1243.0223960613885, 1249.3330247510219, 1255.643653440655, 1276.6790824060993, 1285.093253992277, 1297.7145113715435, 1301.9215971646322, 1314.5428545438988, 1318.7499403369875, 1320.853483233532, 1322.9570261300764, 1322.9570261300764, 1325.060569026621, 1327.1641119231654, 1331.371197716254, 1331.371197716254, 1333.4747406127985, 1341.8889121989762, 1341.8889121989762, 1350.3030837851538, 1352.4066266816983, 1356.6137124747872, 1367.1314269575091, 1367.1314269575091, 1369.2349698540536, 1375.545598543687, 1379.7526843367757, 1379.7526843367757, 1383.9597701298646, 1388.1668559229533, 1390.2703988194978, 1390.2703988194978, 1390.2703988194978, 1394.4774846125867, 1394.4774846125867, 1398.6845704056755, 1404.9951990953089, 1407.098741991853, 1411.305827784942, 1411.305827784942, 1417.6164564745752, 1417.6164564745752, 1421.8235422676642, 1434.4447996469305, 1434.4447996469305, 1436.548342543475, 1442.8589712331084, 1442.8589712331084, 1444.9625141296526, 1444.9625141296526, 1444.9625141296526, 1451.273142819286, 1451.273142819286, 1453.3766857158305, 1453.3766857158305, 1453.3766857158305, 1457.5837715089192, 1457.5837715089192, 1461.7908573020081, 1465.9979430950968, 1465.9979430950968, 1474.4121146812745, 1474.4121146812745, 1480.722743370908, 1484.9298291639966, 1487.033372060541, 1487.033372060541, 1489.1369149570855, 1493.3440007501742, 1499.6546294398076, 1501.7581723363521, 1503.8617152328964, 1505.9652581294408, 1518.5865155087074, 1524.8971441983406, 1524.8971441983406, 1527.000687094885, 1529.1042299914295, 1531.2077728879738, 1531.2077728879738, 1535.4148586810627, 1539.6219444741516, 1539.6219444741516, 1541.7254873706959, 1545.9325731637848, 1550.1396589568737, 1550.1396589568737, 1550.1396589568737, 1556.450287646507, 1556.450287646507, 1564.8644592326846, 1569.0715450257735, 1569.0715450257735, 1571.1750879223177, 1575.3821737154067, 1577.4857166119511, 1577.4857166119511, 1577.4857166119511, 1577.4857166119511, 1577.4857166119511, 1577.4857166119511, 1583.7963453015843, 1585.8998881981288, 1592.210516887762, 1592.210516887762, 1592.210516887762, 1594.3140597843064, 1594.3140597843064, 1596.417602680851, 1600.6246884739396, 1606.935317163573, 1611.1424029566617, 1623.7636603359283, 1623.7636603359283, 1625.8672032324728, 1625.8672032324728, 1625.8672032324728, 1627.970746129017, 1630.0742890255615, 1630.0742890255615, 1632.177831922106, 1634.2813748186504, 1634.2813748186504, 1640.5920035082836, 1646.9026321979168, 1646.9026321979168, 1649.0061750944612, 1653.2132608875502, 1659.5238895771834, 1661.6274324737278, 1661.6274324737278, 1665.8345182668168, 1665.8345182668168, 1670.0416040599055, 1672.14514695645, 1672.14514695645, 1676.3522327495386, 1678.455775646083, 1680.5593185426276, 1684.7664043357165, 1691.0770330253497, 1691.0770330253497, 1693.1805759218942, 1695.2841188184384, 1716.3195477838826, 1718.423090680427, 1720.5266335769716, 1720.5266335769716, 1724.7337193700603, 1726.8372622666047, 1728.9408051631492, 1728.9408051631492, 1731.0443480596937, 1731.0443480596937, 1733.1478909562381, 1735.2514338527824, 1739.4585196458713, 1739.4585196458713, 1739.4585196458713, 1741.5620625424158, 1754.1833199216821, 1756.2868628182266, 1756.2868628182266, 1758.390405714771, 1766.8045773009487, 1766.8045773009487, 1771.0116630940377, 1771.0116630940377, 1773.115205990582, 1777.3222917836708, 1779.4258346802153, 1779.4258346802153, 1783.632920473304, 1785.7364633698485, 1787.840006266393, 1789.9435491629374, 1792.0470920594817, 1792.0470920594817, 1792.0470920594817, 1792.0470920594817, 1794.1506349560261, 1798.357720749115, 1800.4612636456595, 1804.6683494387482, 1806.7718923352927, 1806.7718923352927, 1810.9789781283814, 1815.1860639214703, 1817.2896068180148, 1819.3931497145593, 1819.3931497145593, 1823.600235507648, 1827.807321300737, 1827.807321300737, 1827.807321300737, 1829.9108641972814, 1829.9108641972814, 1832.0144070938256, 1832.0144070938256, 1836.2214928869146, 1840.4285786800033, 1842.5321215765478, 1842.5321215765478, 1844.6356644730922, 1853.0498360592699, 1857.2569218523588, 1859.360464748903, 1859.360464748903, 1869.8781792316252, 1876.1888079212586, 1878.292350817803, 1886.7065224039807, 1888.810065300525, 1890.9136081970694, 1893.0171510936138, 1893.0171510936138, 1897.2242368867028, 1903.534865576336, 1909.8454942659691, 1911.9490371625136, 1914.052580059058, 1918.2596658521468, 1920.3632087486912, 1922.4667516452357, 1922.4667516452357, 1924.5702945417802, 1924.5702945417802, 1930.8809232314134, 1941.3986377141355, 1954.019895093402, 1956.1234379899463, 1958.2269808864908, 1960.3305237830352, 1962.4340666795797, 1962.4340666795797, 1964.5376095761242, 1966.6411524726684, 1972.9517811623018, 1989.780124334657, 2000.2978388173792, 2000.2978388173792, 2002.4013817139237, 2012.9190961966458, 2015.02263909319, 2015.02263909319, 2023.4368106793677, 2025.5403535759121, 2029.747439369001, 2040.2651538517232, 2059.197039920623, 2073.9218401964335, 2073.9218401964335, 2076.0253830929782, 2076.0253830929782, 2080.232468886067, 2080.232468886067, 2082.3360117826114, 2084.4395546791557, 2084.4395546791557, 2084.4395546791557, 2086.5430975757004, 2088.6466404722446, 2088.6466404722446, 2090.7501833687893, 2092.8537262653335, 2094.957269161878, 2094.957269161878, 2097.0608120584225, 2097.0608120584225, 2099.1643549549667, 2101.267897851511, 2103.3714407480556, 2105.4749836446, 2107.5785265411446, 2107.5785265411446, 2109.682069437689, 2109.682069437689, 2111.7856123342335, 2111.7856123342335, 2118.0962410238667, 2128.613955506589, 2128.613955506589, 2130.717498403133, 2139.131669989311, 2145.442298678944, 2145.442298678944, 2147.5458415754883, 2153.8564702651215, 2162.2706418512994, 2164.3741847478436, 2164.3741847478436, 2164.3741847478436, 2174.8918992305657, 2179.0989850236547, 2198.0308710925547, 2198.0308710925547, 2210.652128471821, 2212.7556713683653, 2212.7556713683653, 2214.85921426491, 2214.85921426491, 2216.962757161454, 2219.066300057999, 2219.066300057999, 2219.066300057999, 2221.169842954543, 2231.6875574372652, 2240.101729023443, 2244.3088148165316, 2248.5159006096205, 2265.344243781976, 2273.7584153681537, 2273.7584153681537, 2277.9655011612426, 2280.069044057787, 2290.586758540509, 2296.897387230142, 2301.104473023231, 2303.2080159197753, 2315.829273299042, 2315.829273299042, 2317.9328161955864, 2317.9328161955864, 2322.1399019886753, 2330.5540735748527, 2332.6576164713974, 2332.6576164713974, 2334.7611593679417, 2336.8647022644864, 2349.4859596437527, 2355.796588333386, 2364.2107599195638, 2368.4178457126523, 2368.4178457126523, 2370.521388609197, 2372.624931505741, 2381.039103091919, 2387.3497317815522, 2402.0745320573633, 2404.1780749539075, 2410.4887036435407, 2412.5922465400854, 2431.524132608985, 2433.627675505529, 2435.731218402074, 2442.041847091707, 2444.1453899882513, 2448.35247578134, 2452.559561574429, 2458.8701902640623, 2473.5949905398734, 2500.941048194951, 2530.3906487465724, 2534.5977345396614, 2538.8048203327503, 2540.9083632292945, 2547.218991918928, 2547.218991918928, 2549.3225348154724, 2551.4260777120166, 2553.5296206085613, 2557.7367064016503, 2557.7367064016503, 2578.772135367094, 2582.979221160183, 2599.8075643325383, 2627.1536219876157, 2639.7748793668825, 2646.0855080565157, 2646.0855080565157, 2658.706765435782, 2662.913851228871, 2683.949280194315, 2686.0528230908594, 2715.5024236424815, 2719.7095094355705, 2730.2272239182926, 2765.9874531595474, 2805.9547681938916, 2808.058311090436, 2824.886654262791, 2887.992941159124, 2913.235455917657, 3003.6878004690666, 3018.4126007448776, 3609.5081546738593], \"yaxis\": \"y\"}],                        {\"legend\": {\"title\": {\"text\": \"Married\"}, \"tracegroupgap\": 0}, \"margin\": {\"t\": 60}, \"template\": {\"data\": {\"bar\": [{\"error_x\": {\"color\": \"#2a3f5f\"}, \"error_y\": {\"color\": \"#2a3f5f\"}, \"marker\": {\"line\": {\"color\": \"#E5ECF6\", \"width\": 0.5}}, \"type\": \"bar\"}], \"barpolar\": [{\"marker\": {\"line\": {\"color\": \"#E5ECF6\", \"width\": 0.5}}, \"type\": \"barpolar\"}], \"carpet\": [{\"aaxis\": {\"endlinecolor\": \"#2a3f5f\", \"gridcolor\": \"white\", \"linecolor\": \"white\", \"minorgridcolor\": \"white\", \"startlinecolor\": \"#2a3f5f\"}, \"baxis\": {\"endlinecolor\": \"#2a3f5f\", \"gridcolor\": \"white\", \"linecolor\": \"white\", \"minorgridcolor\": \"white\", \"startlinecolor\": \"#2a3f5f\"}, \"type\": \"carpet\"}], \"choropleth\": [{\"colorbar\": {\"outlinewidth\": 0, \"ticks\": \"\"}, \"type\": \"choropleth\"}], \"contour\": [{\"colorbar\": {\"outlinewidth\": 0, \"ticks\": \"\"}, \"colorscale\": [[0.0, \"#0d0887\"], [0.1111111111111111, \"#46039f\"], [0.2222222222222222, \"#7201a8\"], [0.3333333333333333, \"#9c179e\"], [0.4444444444444444, \"#bd3786\"], [0.5555555555555556, \"#d8576b\"], [0.6666666666666666, \"#ed7953\"], [0.7777777777777778, \"#fb9f3a\"], [0.8888888888888888, \"#fdca26\"], [1.0, \"#f0f921\"]], \"type\": \"contour\"}], \"contourcarpet\": [{\"colorbar\": {\"outlinewidth\": 0, \"ticks\": \"\"}, \"type\": \"contourcarpet\"}], \"heatmap\": [{\"colorbar\": {\"outlinewidth\": 0, \"ticks\": \"\"}, \"colorscale\": [[0.0, \"#0d0887\"], [0.1111111111111111, \"#46039f\"], [0.2222222222222222, \"#7201a8\"], [0.3333333333333333, \"#9c179e\"], [0.4444444444444444, \"#bd3786\"], [0.5555555555555556, \"#d8576b\"], [0.6666666666666666, \"#ed7953\"], [0.7777777777777778, \"#fb9f3a\"], [0.8888888888888888, \"#fdca26\"], [1.0, \"#f0f921\"]], \"type\": \"heatmap\"}], \"heatmapgl\": [{\"colorbar\": {\"outlinewidth\": 0, \"ticks\": \"\"}, \"colorscale\": [[0.0, \"#0d0887\"], [0.1111111111111111, \"#46039f\"], [0.2222222222222222, \"#7201a8\"], [0.3333333333333333, \"#9c179e\"], [0.4444444444444444, \"#bd3786\"], [0.5555555555555556, \"#d8576b\"], [0.6666666666666666, \"#ed7953\"], [0.7777777777777778, \"#fb9f3a\"], [0.8888888888888888, \"#fdca26\"], [1.0, \"#f0f921\"]], \"type\": \"heatmapgl\"}], \"histogram\": [{\"marker\": {\"colorbar\": {\"outlinewidth\": 0, \"ticks\": \"\"}}, \"type\": \"histogram\"}], \"histogram2d\": [{\"colorbar\": {\"outlinewidth\": 0, \"ticks\": \"\"}, \"colorscale\": [[0.0, \"#0d0887\"], [0.1111111111111111, \"#46039f\"], [0.2222222222222222, \"#7201a8\"], [0.3333333333333333, \"#9c179e\"], [0.4444444444444444, \"#bd3786\"], [0.5555555555555556, \"#d8576b\"], [0.6666666666666666, \"#ed7953\"], [0.7777777777777778, \"#fb9f3a\"], [0.8888888888888888, \"#fdca26\"], [1.0, \"#f0f921\"]], \"type\": \"histogram2d\"}], \"histogram2dcontour\": [{\"colorbar\": {\"outlinewidth\": 0, \"ticks\": \"\"}, \"colorscale\": [[0.0, \"#0d0887\"], [0.1111111111111111, \"#46039f\"], [0.2222222222222222, \"#7201a8\"], [0.3333333333333333, \"#9c179e\"], [0.4444444444444444, \"#bd3786\"], [0.5555555555555556, \"#d8576b\"], [0.6666666666666666, \"#ed7953\"], [0.7777777777777778, \"#fb9f3a\"], [0.8888888888888888, \"#fdca26\"], [1.0, \"#f0f921\"]], \"type\": \"histogram2dcontour\"}], \"mesh3d\": [{\"colorbar\": {\"outlinewidth\": 0, \"ticks\": \"\"}, \"type\": \"mesh3d\"}], \"parcoords\": [{\"line\": {\"colorbar\": {\"outlinewidth\": 0, \"ticks\": \"\"}}, \"type\": \"parcoords\"}], \"pie\": [{\"automargin\": true, \"type\": \"pie\"}], \"scatter\": [{\"marker\": {\"colorbar\": {\"outlinewidth\": 0, \"ticks\": \"\"}}, \"type\": \"scatter\"}], \"scatter3d\": [{\"line\": {\"colorbar\": {\"outlinewidth\": 0, \"ticks\": \"\"}}, \"marker\": {\"colorbar\": {\"outlinewidth\": 0, \"ticks\": \"\"}}, \"type\": \"scatter3d\"}], \"scattercarpet\": [{\"marker\": {\"colorbar\": {\"outlinewidth\": 0, \"ticks\": \"\"}}, \"type\": \"scattercarpet\"}], \"scattergeo\": [{\"marker\": {\"colorbar\": {\"outlinewidth\": 0, \"ticks\": \"\"}}, \"type\": \"scattergeo\"}], \"scattergl\": [{\"marker\": {\"colorbar\": {\"outlinewidth\": 0, \"ticks\": \"\"}}, \"type\": \"scattergl\"}], \"scattermapbox\": [{\"marker\": {\"colorbar\": {\"outlinewidth\": 0, \"ticks\": \"\"}}, \"type\": \"scattermapbox\"}], \"scatterpolar\": [{\"marker\": {\"colorbar\": {\"outlinewidth\": 0, \"ticks\": \"\"}}, \"type\": \"scatterpolar\"}], \"scatterpolargl\": [{\"marker\": {\"colorbar\": {\"outlinewidth\": 0, \"ticks\": \"\"}}, \"type\": \"scatterpolargl\"}], \"scatterternary\": [{\"marker\": {\"colorbar\": {\"outlinewidth\": 0, \"ticks\": \"\"}}, \"type\": \"scatterternary\"}], \"surface\": [{\"colorbar\": {\"outlinewidth\": 0, \"ticks\": \"\"}, \"colorscale\": [[0.0, \"#0d0887\"], [0.1111111111111111, \"#46039f\"], [0.2222222222222222, \"#7201a8\"], [0.3333333333333333, \"#9c179e\"], [0.4444444444444444, \"#bd3786\"], [0.5555555555555556, \"#d8576b\"], [0.6666666666666666, \"#ed7953\"], [0.7777777777777778, \"#fb9f3a\"], [0.8888888888888888, \"#fdca26\"], [1.0, \"#f0f921\"]], \"type\": \"surface\"}], \"table\": [{\"cells\": {\"fill\": {\"color\": \"#EBF0F8\"}, \"line\": {\"color\": \"white\"}}, \"header\": {\"fill\": {\"color\": \"#C8D4E3\"}, \"line\": {\"color\": \"white\"}}, \"type\": \"table\"}]}, \"layout\": {\"annotationdefaults\": {\"arrowcolor\": \"#2a3f5f\", \"arrowhead\": 0, \"arrowwidth\": 1}, \"coloraxis\": {\"colorbar\": {\"outlinewidth\": 0, \"ticks\": \"\"}}, \"colorscale\": {\"diverging\": [[0, \"#8e0152\"], [0.1, \"#c51b7d\"], [0.2, \"#de77ae\"], [0.3, \"#f1b6da\"], [0.4, \"#fde0ef\"], [0.5, \"#f7f7f7\"], [0.6, \"#e6f5d0\"], [0.7, \"#b8e186\"], [0.8, \"#7fbc41\"], [0.9, \"#4d9221\"], [1, \"#276419\"]], \"sequential\": [[0.0, \"#0d0887\"], [0.1111111111111111, \"#46039f\"], [0.2222222222222222, \"#7201a8\"], [0.3333333333333333, \"#9c179e\"], [0.4444444444444444, \"#bd3786\"], [0.5555555555555556, \"#d8576b\"], [0.6666666666666666, \"#ed7953\"], [0.7777777777777778, \"#fb9f3a\"], [0.8888888888888888, \"#fdca26\"], [1.0, \"#f0f921\"]], \"sequentialminus\": [[0.0, \"#0d0887\"], [0.1111111111111111, \"#46039f\"], [0.2222222222222222, \"#7201a8\"], [0.3333333333333333, \"#9c179e\"], [0.4444444444444444, \"#bd3786\"], [0.5555555555555556, \"#d8576b\"], [0.6666666666666666, \"#ed7953\"], [0.7777777777777778, \"#fb9f3a\"], [0.8888888888888888, \"#fdca26\"], [1.0, \"#f0f921\"]]}, \"colorway\": [\"#636efa\", \"#EF553B\", \"#00cc96\", \"#ab63fa\", \"#FFA15A\", \"#19d3f3\", \"#FF6692\", \"#B6E880\", \"#FF97FF\", \"#FECB52\"], \"font\": {\"color\": \"#2a3f5f\"}, \"geo\": {\"bgcolor\": \"white\", \"lakecolor\": \"white\", \"landcolor\": \"#E5ECF6\", \"showlakes\": true, \"showland\": true, \"subunitcolor\": \"white\"}, \"hoverlabel\": {\"align\": \"left\"}, \"hovermode\": \"closest\", \"mapbox\": {\"style\": \"light\"}, \"paper_bgcolor\": \"white\", \"plot_bgcolor\": \"#E5ECF6\", \"polar\": {\"angularaxis\": {\"gridcolor\": \"white\", \"linecolor\": \"white\", \"ticks\": \"\"}, \"bgcolor\": \"#E5ECF6\", \"radialaxis\": {\"gridcolor\": \"white\", \"linecolor\": \"white\", \"ticks\": \"\"}}, \"scene\": {\"xaxis\": {\"backgroundcolor\": \"#E5ECF6\", \"gridcolor\": \"white\", \"gridwidth\": 2, \"linecolor\": \"white\", \"showbackground\": true, \"ticks\": \"\", \"zerolinecolor\": \"white\"}, \"yaxis\": {\"backgroundcolor\": \"#E5ECF6\", \"gridcolor\": \"white\", \"gridwidth\": 2, \"linecolor\": \"white\", \"showbackground\": true, \"ticks\": \"\", \"zerolinecolor\": \"white\"}, \"zaxis\": {\"backgroundcolor\": \"#E5ECF6\", \"gridcolor\": \"white\", \"gridwidth\": 2, \"linecolor\": \"white\", \"showbackground\": true, \"ticks\": \"\", \"zerolinecolor\": \"white\"}}, \"shapedefaults\": {\"line\": {\"color\": \"#2a3f5f\"}}, \"ternary\": {\"aaxis\": {\"gridcolor\": \"white\", \"linecolor\": \"white\", \"ticks\": \"\"}, \"baxis\": {\"gridcolor\": \"white\", \"linecolor\": \"white\", \"ticks\": \"\"}, \"bgcolor\": \"#E5ECF6\", \"caxis\": {\"gridcolor\": \"white\", \"linecolor\": \"white\", \"ticks\": \"\"}}, \"title\": {\"x\": 0.05}, \"xaxis\": {\"automargin\": true, \"gridcolor\": \"white\", \"linecolor\": \"white\", \"ticks\": \"\", \"title\": {\"standoff\": 15}, \"zerolinecolor\": \"white\", \"zerolinewidth\": 2}, \"yaxis\": {\"automargin\": true, \"gridcolor\": \"white\", \"linecolor\": \"white\", \"ticks\": \"\", \"title\": {\"standoff\": 15}, \"zerolinecolor\": \"white\", \"zerolinewidth\": 2}}}, \"title\": {\"text\": \"Married With Salary Vs Amount Spent \", \"x\": 0.5}, \"xaxis\": {\"anchor\": \"y\", \"domain\": [0.0, 1.0], \"title\": {\"text\": \"Salary\"}}, \"yaxis\": {\"anchor\": \"x\", \"domain\": [0.0, 1.0], \"title\": {\"text\": \"Amount Spent\"}}},                        {\"responsive\": true}                    ).then(function(){\n",
       "                            \n",
       "var gd = document.getElementById('9fc4f33a-206b-431d-8dfd-504702d91165');\n",
       "var x = new MutationObserver(function (mutations, observer) {{\n",
       "        var display = window.getComputedStyle(gd).display;\n",
       "        if (!display || display === 'none') {{\n",
       "            console.log([gd, 'removed!']);\n",
       "            Plotly.purge(gd);\n",
       "            observer.disconnect();\n",
       "        }}\n",
       "}});\n",
       "\n",
       "// Listen for the removal of the full notebook cells\n",
       "var notebookContainer = gd.closest('#notebook-container');\n",
       "if (notebookContainer) {{\n",
       "    x.observe(notebookContainer, {childList: true});\n",
       "}}\n",
       "\n",
       "// Listen for the clearing of the current output cell\n",
       "var outputEl = gd.closest('.output');\n",
       "if (outputEl) {{\n",
       "    x.observe(outputEl, {childList: true});\n",
       "}}\n",
       "\n",
       "                        })                };                });            </script>        </div>"
      ]
     },
     "metadata": {},
     "output_type": "display_data"
    }
   ],
   "source": [
    "# Scatter plot - Category\n",
    "\n",
    "fig = px.scatter(df, x='Salary', y='AmountSpent',trendline=\"ols\",\n",
    "                 color='Married') # Added color to basic scatter\n",
    "fig.update_layout(title='Married With Salary Vs Amount Spent ',xaxis_title=\"Salary\",yaxis_title=\"Amount Spent\",title_x=0.5)\n",
    "fig.show()"
   ]
  },
  {
   "cell_type": "code",
   "execution_count": 46,
   "metadata": {
    "execution": {
     "iopub.execute_input": "2020-12-10T12:48:19.546257Z",
     "iopub.status.busy": "2020-12-10T12:48:19.545113Z",
     "iopub.status.idle": "2020-12-10T12:48:19.648185Z",
     "shell.execute_reply": "2020-12-10T12:48:19.647556Z"
    },
    "papermill": {
     "duration": 0.334026,
     "end_time": "2020-12-10T12:48:19.648316",
     "exception": false,
     "start_time": "2020-12-10T12:48:19.314290",
     "status": "completed"
    },
    "tags": []
   },
   "outputs": [
    {
     "data": {
      "text/html": [
       "<div>                            <div id=\"6b876902-682e-4557-a2df-c00432cbb113\" class=\"plotly-graph-div\" style=\"height:525px; width:100%;\"></div>            <script type=\"text/javascript\">                require([\"plotly\"], function(Plotly) {                    window.PLOTLYENV=window.PLOTLYENV || {};                                    if (document.getElementById(\"6b876902-682e-4557-a2df-c00432cbb113\")) {                    Plotly.newPlot(                        \"6b876902-682e-4557-a2df-c00432cbb113\",                        [{\"hovertemplate\": \"Location=Far<br>Salary=%{x}<br>AmountSpent=%{y}<extra></extra>\", \"legendgroup\": \"Far\", \"marker\": {\"color\": \"#636efa\", \"symbol\": \"circle\"}, \"mode\": \"markers\", \"name\": \"Far\", \"orientation\": \"v\", \"showlegend\": true, \"type\": \"scatter\", \"x\": [47500, 80700, 111800, 110000, 83100, 14000, 14300, 60200, 43500, 72900, 72200, 67700, 64100, 96800, 81500, 87200, 56000, 33700, 72500, 13200, 72300, 90400, 71500, 84300, 48800, 32400, 20400, 67300, 33600, 21100, 87100, 21700, 59000, 90700, 91800, 27900, 70200, 59700, 51900, 66800, 13800, 44200, 16100, 52500, 45400, 21400, 68000, 100100, 103700, 10800, 67900, 11400, 109800, 42600, 113600, 59600, 122100, 140000, 51900, 81200, 77800, 39000, 10200, 113800, 113400, 100100, 80000, 56900, 68700, 20200, 61500, 101700, 120800, 17300, 29600, 15000, 64000, 33000, 20300, 53600, 70900, 13900, 120000, 66300, 14500, 19800, 82400, 62000, 12000, 47500, 32700, 80600, 19000, 54600, 39600, 67300, 102800, 46300, 118300, 25600, 53900, 55800, 41500, 41600, 33200, 78800, 80800, 124800, 15400, 88400, 103900, 86100, 24000, 70000, 75800, 64600, 34600, 18400, 61400, 22800, 19700, 73800, 113300, 118400, 30100, 42500, 62300, 21900, 35600, 45100, 23200, 41300, 32700, 23100, 45000, 108100, 17900, 50100, 84100, 25100, 78900, 62500, 60300, 60200, 53900, 88600, 123000, 20400, 72200, 22000, 55600, 20800, 17800, 13800, 63000, 31900, 45500, 12600, 88700, 100600, 98900, 53700, 18200, 45600, 13900, 84100, 47200, 50000, 13500, 18400, 13600, 37500, 28900, 89500, 12500, 31200, 55900, 13700, 81400, 65400, 63300, 51600, 55000, 16300, 15100, 27900, 23800, 43300, 12400, 10900, 64600, 40100, 79300, 86500, 52600, 37800, 58600, 53800, 52200, 22900, 12800, 28300, 38700, 44100, 79200, 70400, 41000, 72200, 36700, 74500, 14800, 21900, 75500, 19400, 79700, 65500, 55600, 25700, 23100, 17700, 33200, 20700, 83500, 19700, 52000, 49700, 61000, 12600, 77600, 92400, 95800, 12900, 130600, 74400, 40600, 65400, 49000, 16300, 48100, 61300, 19500, 51100, 60200, 49500, 32000, 75400, 70500, 25300, 17300, 64400, 27600, 74900, 76900, 128700, 14400, 52800, 57900, 60100, 66200, 15300, 17500, 40200, 72200, 55200, 20000, 52600, 97600, 52300, 65400, 37000, 13200, 22600, 14900, 44800, 38200, 18400, 39100, 25300, 79000, 56200, 108000, 84900, 93000, 66200, 96800, 112900, 102700, 11700, 99200, 40500], \"xaxis\": \"x\", \"y\": [755, 3034, 2065, 5564, 2766, 410, 194, 2328, 808, 2075, 2082, 2226, 1595, 3082, 3655, 3604, 530, 614, 2595, 358, 4182, 2924, 964, 1648, 1647, 920, 867, 1513, 805, 470, 1688, 708, 3044, 2265, 2452, 1184, 1702, 1857, 1492, 2098, 127, 2524, 202, 2038, 1203, 326, 3688, 3104, 2339, 123, 2925, 312, 4279, 1790, 3237, 1217, 2408, 4894, 780, 2693, 1813, 292, 213, 3273, 1790, 3491, 1985, 1857, 1699, 500, 1162, 2551, 5830, 381, 774, 378, 1552, 979, 450, 1560, 690, 570, 1926, 2243, 222, 991, 2035, 3293, 264, 847, 1276, 2840, 428, 2163, 1085, 1212, 2238, 1357, 2502, 426, 1186, 821, 1314, 1690, 607, 3398, 2444, 2537, 297, 3632, 2666, 1255, 357, 1227, 1830, 2206, 748, 303, 1575, 452, 330, 3120, 5151, 3941, 530, 798, 2644, 192, 865, 794, 788, 1985, 1252, 466, 902, 2632, 446, 1071, 2710, 592, 2233, 921, 1252, 2304, 2177, 2563, 5878, 513, 3069, 736, 1786, 260, 589, 368, 2107, 860, 1624, 164, 2693, 2838, 3126, 2491, 322, 1322, 191, 2362, 1272, 1079, 160, 662, 349, 1578, 905, 5209, 422, 1087, 788, 414, 3001, 836, 1408, 1082, 1162, 360, 348, 576, 428, 716, 205, 407, 2935, 1384, 2047, 2690, 1307, 1185, 989, 1803, 1909, 814, 365, 933, 1009, 1659, 1905, 2610, 768, 1811, 1218, 1413, 376, 486, 2450, 563, 3384, 1931, 1553, 907, 457, 742, 1639, 550, 2098, 535, 2545, 2844, 975, 241, 858, 2191, 2581, 167, 3442, 1893, 690, 2290, 1523, 317, 961, 1241, 571, 1984, 1955, 1195, 1320, 2723, 2145, 451, 411, 1913, 893, 1804, 3230, 3995, 390, 926, 1693, 1430, 1024, 645, 472, 1634, 1042, 1714, 182, 1773, 2902, 2034, 2296, 850, 512, 865, 422, 666, 1476, 319, 1001, 591, 2279, 1546, 1849, 3072, 1046, 2057, 2299, 6217, 3785, 540, 5503, 1073], \"yaxis\": \"y\"}, {\"hovertemplate\": \"<b>OLS trendline</b><br>AmountSpent = 0.0315967 * Salary + -120.068<br>R<sup>2</sup>=0.683152<br><br>Location=Far<br>Salary=%{x}<br>AmountSpent=%{y} <b>(trend)</b><extra></extra>\", \"legendgroup\": \"Far\", \"marker\": {\"color\": \"#636efa\", \"symbol\": \"circle\"}, \"mode\": \"lines\", \"name\": \"Far\", \"showlegend\": false, \"type\": \"scatter\", \"x\": [10200, 10800, 10900, 11400, 11700, 12000, 12400, 12500, 12600, 12600, 12800, 12900, 13200, 13200, 13500, 13600, 13700, 13800, 13800, 13900, 13900, 14000, 14300, 14400, 14500, 14800, 14900, 15000, 15100, 15300, 15400, 16100, 16300, 16300, 17300, 17300, 17500, 17700, 17800, 17900, 18200, 18400, 18400, 18400, 19000, 19400, 19500, 19700, 19700, 19800, 20000, 20200, 20300, 20400, 20400, 20700, 20800, 21100, 21400, 21700, 21900, 21900, 22000, 22600, 22800, 22900, 23100, 23100, 23200, 23800, 24000, 25100, 25300, 25300, 25600, 25700, 27600, 27900, 27900, 28300, 28900, 29600, 30100, 31200, 31900, 32000, 32400, 32700, 32700, 33000, 33200, 33200, 33600, 33700, 34600, 35600, 36700, 37000, 37500, 37800, 38200, 38700, 39000, 39100, 39600, 40100, 40200, 40500, 40600, 41000, 41300, 41500, 41600, 42500, 42600, 43300, 43500, 44100, 44200, 44800, 45000, 45100, 45400, 45500, 45600, 46300, 47200, 47500, 47500, 48100, 48800, 49000, 49500, 49700, 50000, 50100, 51100, 51600, 51900, 51900, 52000, 52200, 52300, 52500, 52600, 52600, 52800, 53600, 53700, 53800, 53900, 53900, 54600, 55000, 55200, 55600, 55600, 55800, 55900, 56000, 56200, 56900, 57900, 58600, 59000, 59600, 59700, 60100, 60200, 60200, 60200, 60300, 61000, 61300, 61400, 61500, 62000, 62300, 62500, 63000, 63300, 64000, 64100, 64400, 64600, 64600, 65400, 65400, 65400, 65500, 66200, 66200, 66300, 66800, 67300, 67300, 67700, 67900, 68000, 68700, 70000, 70200, 70400, 70500, 70900, 71500, 72200, 72200, 72200, 72200, 72300, 72500, 72900, 73800, 74400, 74500, 74900, 75400, 75500, 75800, 76900, 77600, 77800, 78800, 78900, 79000, 79200, 79300, 79700, 80000, 80600, 80700, 80800, 81200, 81400, 81500, 82400, 83100, 83500, 84100, 84100, 84300, 84900, 86100, 86500, 87100, 87200, 88400, 88600, 88700, 89500, 90400, 90700, 91800, 92400, 93000, 95800, 96800, 96800, 97600, 98900, 99200, 100100, 100100, 100600, 101700, 102700, 102800, 103700, 103900, 108000, 108100, 109800, 110000, 111800, 112900, 113300, 113400, 113600, 113800, 118300, 118400, 120000, 120800, 122100, 123000, 124800, 128700, 130600, 140000], \"xaxis\": \"x\", \"y\": [202.21759971321976, 221.17559931076127, 224.33526591035152, 240.1335989083028, 249.61259870707354, 259.09159850584433, 271.73026490420534, 274.88993150379554, 278.04959810338585, 278.04959810338585, 284.36893130256635, 287.52859790215655, 297.00759770092736, 297.00759770092736, 306.48659749969806, 309.6462640992884, 312.80593069887857, 315.9655972984689, 315.9655972984689, 319.1252638980591, 319.1252638980591, 322.2849304976494, 331.7639302964201, 334.9235968960104, 338.0832634956006, 347.5622632943714, 350.7219298939616, 353.8815964935519, 357.0412630931421, 363.3605962923226, 366.5202628919129, 388.63792908904463, 394.95726228822514, 394.95726228822514, 426.55392828412766, 426.55392828412766, 432.87326148330817, 439.1925946824887, 442.352261282079, 445.5119278816692, 454.99092768044, 461.3102608796205, 461.3102608796205, 461.3102608796205, 480.268260477162, 492.906926875523, 496.0665934751132, 502.3859266742937, 502.3859266742937, 505.54559327388404, 511.86492647306454, 518.184259672245, 521.3439262718352, 524.5035928714256, 524.5035928714256, 533.9825926701963, 537.1422592697866, 546.6212590685573, 556.1002588673281, 565.5792586660988, 571.8985918652793, 571.8985918652793, 575.0582584648696, 594.0162580624111, 600.3355912615916, 603.4952578611818, 609.8145910603623, 609.8145910603623, 612.9742576599526, 631.9322572574941, 638.2515904566746, 673.0079230521674, 679.3272562513479, 679.3272562513479, 688.8062560501187, 691.9659226497089, 751.9995880419237, 761.4785878406944, 761.4785878406944, 774.1172542390555, 793.075253836597, 815.1929200337288, 830.99125303168, 865.7475856271728, 887.8652518243047, 891.0249184238949, 903.6635848222559, 913.1425846210267, 913.1425846210267, 922.6215844197974, 928.940917618978, 928.940917618978, 941.579584017339, 944.7392506169291, 973.1762500132414, 1004.7729160091441, 1039.529248604637, 1049.0082484034076, 1064.806581401359, 1074.2855812001296, 1086.9242475984906, 1102.722580596442, 1112.2015803952127, 1115.361246994803, 1131.1595799927543, 1146.9579129907054, 1150.1175795902957, 1159.5965793890664, 1162.7562459886567, 1175.3949123870177, 1184.8739121857884, 1191.193245384969, 1194.3529119845593, 1222.7899113808714, 1225.9495779804618, 1248.0672441775935, 1254.386577376774, 1273.3445769743155, 1276.5042435739058, 1295.4622431714474, 1301.7815763706278, 1304.9412429702181, 1314.4202427689888, 1317.5799093685791, 1320.7395759681694, 1342.8572421653012, 1371.2942415616135, 1380.7732413603842, 1380.7732413603842, 1399.7312409579258, 1421.8489071550575, 1428.168240354238, 1443.9665733521892, 1450.2859065513699, 1459.7649063501406, 1462.9245729497309, 1494.5212389456333, 1510.3195719435846, 1519.7985717423553, 1519.7985717423553, 1522.9582383419456, 1529.277571541126, 1532.4372381407163, 1538.756571339897, 1541.916237939487, 1541.916237939487, 1548.2355711386676, 1573.5129039353897, 1576.67257053498, 1579.83223713457, 1582.9919037341604, 1582.9919037341604, 1605.109569931292, 1617.748236329653, 1624.0675695288337, 1636.7062359271947, 1636.7062359271947, 1643.025569126375, 1646.1852357259654, 1649.3449023255557, 1655.6642355247361, 1677.781901721868, 1709.3785677177705, 1731.4962339149022, 1744.1349003132632, 1763.0928999108048, 1766.2525665103951, 1778.8912329087561, 1782.0508995083462, 1782.0508995083462, 1782.0508995083462, 1785.2105661079365, 1807.3282323050682, 1816.8072321038392, 1819.9668987034293, 1823.1265653030196, 1838.9248983009709, 1848.4038980997416, 1854.7232312989222, 1870.5215642968733, 1880.0005640956442, 1902.118230292776, 1905.2778968923662, 1914.756896691137, 1921.0762298903176, 1921.0762298903176, 1946.3535626870396, 1946.3535626870396, 1946.3535626870396, 1949.51322928663, 1971.6308954837616, 1971.6308954837616, 1974.790562083352, 1990.588895081303, 2006.387228079254, 2006.387228079254, 2019.0258944776153, 2025.345227676796, 2028.5048942763863, 2050.6225604735178, 2091.698226268191, 2098.0175594673715, 2104.336892666552, 2107.496559266142, 2120.135225664503, 2139.0932252620446, 2161.2108914591763, 2161.2108914591763, 2161.2108914591763, 2161.2108914591763, 2164.3705580587666, 2170.6898912579472, 2183.328557656308, 2211.7655570526204, 2230.723556650162, 2233.883223249752, 2246.5218896481133, 2262.3202226460644, 2265.4798892456547, 2274.9588890444256, 2309.715221639918, 2331.8328878370503, 2338.1522210362305, 2369.748887032133, 2372.9085536317234, 2376.0682202313137, 2382.3875534304943, 2385.5472200300846, 2398.1858864284454, 2407.6648862272164, 2426.6228858247578, 2429.782552424348, 2432.9422190239384, 2445.580885422299, 2451.90021862148, 2455.05988522107, 2483.4968846173824, 2505.614550814514, 2518.253217212875, 2537.2112168104168, 2537.2112168104168, 2543.530550009597, 2562.488549607139, 2600.4045488022216, 2613.043215200583, 2632.0012147981242, 2635.1608813977145, 2673.0768805927974, 2679.396213791978, 2682.5558803915683, 2707.8332131882903, 2736.2702125846026, 2745.749212383373, 2780.505544978866, 2799.4635445764075, 2818.421544173949, 2906.892208962476, 2938.488874958379, 2938.488874958379, 2963.766207755101, 3004.841873549774, 3014.320873348545, 3042.757872744857, 3042.757872744857, 3058.5562057428083, 3093.3125383383012, 3124.9092043342034, 3128.0688709337937, 3156.505870330106, 3162.8252035292867, 3292.371534112487, 3295.5312007120774, 3349.2455329051118, 3355.564866104292, 3412.4388648969166, 3447.1951974924095, 3459.8338638907703, 3462.9935304903606, 3469.3128636895412, 3475.632196888722, 3617.817193870283, 3620.9768604698734, 3671.5315260633174, 3696.8088588600394, 3737.8845246547125, 3766.321524051025, 3823.1955228436495, 3946.4225202276693, 4006.4561856198843, 4303.464845981368], \"yaxis\": \"y\"}, {\"hovertemplate\": \"Location=Close<br>Salary=%{x}<br>AmountSpent=%{y}<extra></extra>\", \"legendgroup\": \"Close\", \"marker\": {\"color\": \"#EF553B\", \"symbol\": \"circle\"}, \"mode\": \"markers\", \"name\": \"Close\", \"orientation\": \"v\", \"showlegend\": true, \"type\": \"scatter\", \"x\": [63600, 13500, 85600, 68400, 30400, 48100, 68400, 51900, 43700, 44100, 111400, 82800, 90100, 38600, 49800, 41700, 92300, 62800, 66900, 21700, 39700, 87700, 104100, 27000, 47000, 41600, 20100, 64000, 76200, 49600, 111500, 77700, 58900, 126500, 83300, 90500, 105300, 46600, 69800, 60300, 67800, 42300, 62700, 25900, 15600, 14600, 62600, 66700, 51300, 15600, 14400, 15000, 57600, 60600, 24400, 22100, 74700, 11400, 127000, 47200, 48700, 39000, 12900, 134500, 75500, 16300, 27400, 110400, 81200, 42200, 52700, 20900, 70700, 79600, 96400, 46600, 106600, 104900, 56300, 14800, 58300, 25800, 12000, 105300, 14800, 10400, 35200, 113000, 63300, 19100, 93400, 53700, 17400, 14600, 81700, 21400, 114800, 53700, 34300, 16400, 64200, 17000, 41400, 49100, 11900, 52900, 14300, 21000, 39700, 51200, 88200, 84800, 28500, 60300, 60200, 73100, 45700, 28900, 60100, 84800, 35000, 61700, 46900, 123600, 45800, 48700, 40000, 118300, 27100, 91000, 35300, 12500, 64600, 16900, 13600, 83900, 77000, 72900, 80700, 40900, 26700, 54700, 23600, 19300, 42300, 53300, 42800, 98400, 51200, 62200, 109200, 11400, 14000, 97000, 71200, 74400, 68700, 33200, 23200, 41400, 63200, 107400, 79900, 54400, 84200, 13800, 21300, 29000, 14600, 65300, 100800, 56700, 90200, 26100, 15900, 12700, 43200, 114100, 96100, 97200, 13400, 108200, 76200, 81800, 76100, 82100, 103300, 14200, 31300, 72200, 107600, 109900, 65400, 43300, 51900, 42700, 14500, 68200, 36700, 65900, 59700, 34700, 50600, 106700, 53900, 25500, 55500, 27800, 118600, 130700, 42800, 63500, 30900, 55900, 84300, 53400, 96900, 25900, 22000, 96700, 40200, 26800, 16700, 40900, 20900, 69700, 61800, 102500, 48900, 60300, 73700, 27000, 43700, 10200, 63300, 82500, 88100, 31900, 53300, 70200, 23000, 82400, 97900, 86900, 45100, 41800, 74800, 73000, 118500, 65300, 66300, 71900, 96300, 10200, 96300, 46700, 53700, 108300, 12100, 36600, 66300, 33400, 47900, 40500, 69100, 13300, 48600, 39600, 11700, 52600, 14600, 123000, 74500, 56600, 37000, 25000, 76400, 55100, 10100, 17800, 59100, 92300, 11200, 43500, 97500, 54600, 82800, 96900, 36900, 93500, 97300, 21900, 63000, 11500, 44600, 21900, 74900, 14200, 73300, 35200, 13100, 97400, 49200, 87200, 49900, 66900, 47600, 47900, 59400, 32700, 34200, 96600, 126300, 31600, 43300, 74700, 60000, 33400, 68800, 25700, 83700, 50500, 17300, 45800, 108900, 60500, 69900, 97100, 72200, 17800, 105500, 46100, 27100, 12000, 48400, 45600, 35200, 70400, 36900, 36100, 11000, 61600, 88700, 79500, 18900, 17300, 81400, 36500, 43300, 76700, 56300, 70000, 48100, 79400, 63700, 21200, 53900, 118800, 79400, 52400, 17600, 23500, 56900, 95100, 119800, 58700, 76700, 67600, 61500, 72900, 21200, 32400, 62200, 24400, 66500, 16900, 56300, 18800, 26600, 72100, 14600, 45900, 15100, 140700, 90300, 95900, 98400, 15000, 17700, 102400, 50500, 42000, 95800, 15200, 15800, 51400, 38200, 39900, 21600, 65900, 97500, 12800, 50700, 17900, 14400, 23800, 84700, 36900, 20600, 41500, 83100, 54700, 68900, 22200, 70900, 55900, 80800, 39900, 71200, 61000, 38700, 64300, 75600, 66600, 89000, 73600, 73000, 29600, 92900, 64300, 77100, 27500, 81800, 41700, 51000, 55900, 19800, 17600, 85600, 13400, 96300, 60500, 35800, 106100, 18000, 58200, 59900, 62800, 70000, 97400, 22800, 14200, 18700, 107400, 38400, 54200, 102700, 13300, 60200, 21400, 21700, 23200, 64800, 55600, 87000, 13700, 55500, 58600, 90500, 82200, 74400, 43900, 20300, 97600, 12500, 10600, 41300, 27200, 102400, 100000, 65800, 49700, 82300, 41200, 29200, 51900, 85500, 111900, 40400, 82400, 13200, 57800, 52200, 43100, 84500, 34500, 61000, 44500, 39700, 30300, 20100, 42500, 102300, 20300, 71600, 54500, 54700, 131500, 37200, 55500, 17600, 41900, 14100, 52100, 22600, 55100, 107300, 66500, 10200, 26200, 60200, 34500, 83700, 106400, 42000, 118800, 39500, 45900, 37100, 28200, 74600, 122700, 14200, 62900, 46600, 45900, 42800, 33600, 24000, 21500, 68600, 53300, 112800, 124900, 72200, 35100, 14900, 72000, 82400, 41600, 68500, 62200, 35900, 14100, 36500, 86400, 39500, 85300, 110700, 53800, 44400, 135700, 84200, 79900, 35300, 21300, 63700, 25900, 65800, 11000, 65900, 108100, 107300, 79500, 95900, 45200, 98500, 96200, 17900, 42700, 43000, 15500, 13000, 27200, 26700, 76600, 117500, 90600, 12700, 71800, 32600, 74500, 29200, 117700, 64100, 46500, 12400, 54200, 49100, 10600, 76400, 93700, 96500, 55600, 99600, 79900, 50500, 49200, 72600, 17200, 76800, 59100, 32500, 109600, 47300, 93000, 44700, 69400, 64300, 96100, 118000, 69700, 59300, 88600, 102600, 43700, 22400, 54200, 116100, 15900, 46600, 23200, 18200, 82700, 17000, 83000, 42400, 40200, 109800, 25100, 46300, 67900, 88500, 99200, 62800, 84100, 77600, 19100, 49600, 47000, 36600, 65800, 96500, 63500, 60400, 102700, 100100, 54400, 105600, 31500, 87400, 117900, 48800, 67900, 88000, 94200, 29200, 168800, 28400, 44600, 58400, 67800, 25500, 23400, 102500, 19600, 63800, 37300, 36700, 63200, 77300, 43100, 70900, 40700, 71300, 36400, 15400, 43800, 71800, 73200, 75200, 25300, 43600, 83600, 45500, 99300, 82000, 33000, 36900, 33200, 49300, 63200, 32100, 123800, 101700, 17600, 19400, 44800, 79000, 53600], \"xaxis\": \"x\", \"y\": [1318, 296, 2436, 1304, 495, 782, 1155, 158, 927, 704, 2136, 3010, 1956, 542, 827, 521, 655, 707, 769, 774, 573, 2446, 2636, 183, 584, 982, 576, 410, 2437, 844, 2510, 983, 1215, 2000, 2574, 1116, 3360, 906, 2764, 1263, 1084, 1051, 704, 449, 136, 468, 565, 1310, 1424, 468, 615, 38, 1006, 307, 220, 280, 704, 258, 1821, 1587, 528, 643, 107, 4558, 741, 470, 278, 1093, 1856, 1753, 855, 550, 2150, 1575, 1822, 1153, 1877, 450, 873, 209, 1472, 451, 344, 3505, 436, 189, 607, 1554, 633, 176, 3079, 235, 332, 143, 879, 498, 3596, 1081, 1297, 218, 1642, 581, 223, 474, 143, 2316, 458, 646, 238, 1293, 2749, 2624, 621, 701, 1365, 1582, 724, 830, 1594, 1826, 473, 1161, 703, 1892, 489, 1457, 613, 2681, 437, 708, 1093, 202, 1298, 247, 183, 1721, 2104, 252, 202, 962, 459, 848, 161, 308, 856, 1720, 759, 3305, 1257, 1583, 1102, 186, 229, 2599, 638, 2479, 2763, 1037, 770, 643, 1512, 1485, 1165, 342, 1654, 363, 677, 482, 385, 1443, 1789, 536, 2183, 494, 503, 87, 917, 1976, 316, 1634, 143, 635, 979, 1838, 719, 1308, 3378, 400, 357, 2492, 1512, 870, 938, 1584, 1148, 827, 183, 818, 731, 1081, 1422, 1615, 713, 607, 735, 139, 858, 408, 1553, 2070, 922, 2321, 862, 2555, 2842, 886, 1420, 242, 472, 1231, 881, 435, 108, 576, 296, 584, 1156, 2464, 915, 2091, 1274, 1012, 950, 333, 679, 859, 1078, 616, 508, 1583, 79, 657, 2149, 2230, 448, 301, 1968, 490, 3063, 193, 544, 1846, 1081, 199, 3916, 983, 1194, 2224, 90, 587, 1088, 617, 662, 622, 1477, 236, 1583, 610, 193, 1052, 307, 3671, 1481, 1607, 632, 264, 881, 1439, 93, 292, 1426, 2141, 106, 500, 2837, 1246, 1544, 1159, 1480, 1426, 3048, 276, 1910, 157, 236, 576, 1474, 250, 1694, 827, 314, 880, 210, 1274, 1631, 1220, 801, 1090, 1699, 273, 523, 1437, 1888, 476, 326, 1699, 966, 567, 1658, 173, 3344, 1029, 345, 712, 1841, 409, 2101, 1473, 715, 216, 1781, 418, 268, 140, 992, 1388, 233, 1127, 721, 438, 393, 1666, 2448, 1763, 184, 166, 1014, 1140, 1021, 1431, 321, 1974, 1640, 1175, 364, 417, 1060, 2176, 200, 857, 224, 371, 687, 809, 2090, 1479, 534, 1172, 968, 753, 242, 515, 2119, 491, 286, 281, 1608, 170, 245, 3052, 47, 1645, 274, 1001, 1944, 2585, 1414, 341, 268, 1237, 940, 232, 678, 324, 147, 694, 526, 586, 491, 1436, 1280, 230, 157, 62, 223, 438, 2705, 371, 201, 1213, 586, 1404, 2784, 275, 794, 964, 1598, 619, 392, 1850, 1506, 1325, 1541, 1177, 1487, 647, 1534, 583, 1705, 239, 568, 571, 919, 1398, 1025, 909, 209, 245, 3380, 424, 1909, 340, 1355, 472, 303, 981, 613, 177, 785, 213, 258, 192, 289, 1821, 188, 1405, 2381, 184, 1364, 414, 387, 504, 574, 984, 1594, 163, 427, 624, 863, 1517, 1152, 358, 304, 1162, 206, 114, 932, 446, 2466, 2247, 1017, 613, 580, 841, 737, 1162, 895, 2340, 630, 2122, 227, 1149, 669, 1444, 1557, 802, 1611, 1175, 1011, 1062, 271, 918, 2438, 180, 1198, 1001, 1355, 2840, 247, 216, 163, 654, 153, 1668, 521, 826, 1194, 1181, 362, 381, 1748, 639, 1582, 1757, 105, 2631, 412, 716, 653, 224, 705, 4984, 197, 2561, 546, 416, 685, 573, 362, 445, 1342, 1598, 1861, 4109, 3278, 421, 275, 1475, 1779, 1634, 1500, 1348, 962, 328, 747, 1713, 1006, 2523, 2458, 843, 886, 2746, 954, 1041, 1369, 329, 1351, 582, 578, 195, 777, 1133, 1566, 1651, 3168, 699, 2034, 1457, 395, 541, 225, 210, 43, 243, 1120, 2904, 927, 3167, 65, 1946, 172, 824, 556, 2104, 1332, 829, 229, 486, 934, 517, 2216, 1521, 1364, 952, 871, 295, 642, 1078, 1999, 329, 1061, 580, 883, 2318, 640, 2644, 502, 2419, 661, 1588, 581, 1432, 929, 212, 2546, 1344, 947, 757, 2975, 406, 158, 534, 401, 1753, 659, 726, 1166, 1197, 2258, 421, 1138, 1418, 1104, 2796, 1403, 1352, 2004, 403, 770, 963, 833, 869, 3780, 1023, 791, 1473, 1597, 1150, 304, 269, 2729, 1760, 1271, 356, 524, 1211, 636, 1512, 182, 966, 829, 680, 636, 348, 548, 395, 1622, 673, 529, 1932, 1853, 1224, 1685, 232, 1543, 506, 172, 606, 1389, 2177, 2702, 510, 1047, 538, 754, 1504, 1800, 700, 514, 320, 1692, 1507, 405, 3537, 941, 273, 384, 1417, 671, 973], \"yaxis\": \"y\"}, {\"hovertemplate\": \"<b>OLS trendline</b><br>AmountSpent = 0.0184269 * Salary + 14.485<br>R<sup>2</sup>=0.484421<br><br>Location=Close<br>Salary=%{x}<br>AmountSpent=%{y} <b>(trend)</b><extra></extra>\", \"legendgroup\": \"Close\", \"marker\": {\"color\": \"#EF553B\", \"symbol\": \"circle\"}, \"mode\": \"lines\", \"name\": \"Close\", \"showlegend\": false, \"type\": \"scatter\", \"x\": [10100, 10200, 10200, 10200, 10400, 10600, 10600, 11000, 11000, 11200, 11400, 11400, 11500, 11700, 11900, 12000, 12000, 12100, 12400, 12500, 12500, 12700, 12700, 12800, 12900, 13000, 13100, 13200, 13300, 13300, 13400, 13400, 13500, 13600, 13700, 13800, 14000, 14100, 14100, 14200, 14200, 14200, 14200, 14300, 14400, 14400, 14500, 14600, 14600, 14600, 14600, 14600, 14800, 14800, 14900, 15000, 15000, 15100, 15200, 15400, 15500, 15600, 15600, 15800, 15900, 15900, 16300, 16400, 16700, 16900, 16900, 17000, 17000, 17200, 17300, 17300, 17400, 17600, 17600, 17600, 17600, 17700, 17800, 17800, 17900, 17900, 18000, 18200, 18700, 18800, 18900, 19100, 19100, 19300, 19400, 19600, 19800, 20100, 20100, 20300, 20300, 20600, 20900, 20900, 21000, 21200, 21200, 21300, 21300, 21400, 21400, 21500, 21600, 21700, 21700, 21900, 21900, 22000, 22100, 22200, 22400, 22600, 22800, 23000, 23200, 23200, 23200, 23400, 23500, 23600, 23800, 24000, 24400, 24400, 25000, 25100, 25300, 25500, 25500, 25700, 25800, 25900, 25900, 25900, 26100, 26200, 26600, 26700, 26700, 26800, 27000, 27000, 27100, 27100, 27200, 27200, 27400, 27500, 27800, 28200, 28400, 28500, 28900, 29000, 29200, 29200, 29200, 29600, 30300, 30400, 30900, 31300, 31500, 31600, 31900, 32100, 32400, 32500, 32600, 32700, 33000, 33200, 33200, 33400, 33400, 33600, 34200, 34300, 34500, 34500, 34700, 35000, 35100, 35200, 35200, 35200, 35300, 35300, 35800, 35900, 36100, 36400, 36500, 36500, 36600, 36600, 36700, 36700, 36900, 36900, 36900, 36900, 37000, 37100, 37200, 37300, 38200, 38400, 38600, 38700, 39000, 39500, 39500, 39600, 39700, 39700, 39700, 39900, 39900, 40000, 40200, 40200, 40400, 40500, 40700, 40900, 40900, 41200, 41300, 41400, 41400, 41500, 41600, 41600, 41700, 41700, 41800, 41900, 42000, 42000, 42200, 42300, 42300, 42400, 42500, 42700, 42700, 42800, 42800, 42800, 43000, 43100, 43100, 43200, 43300, 43300, 43300, 43500, 43600, 43700, 43700, 43700, 43800, 43900, 44100, 44400, 44500, 44600, 44600, 44700, 44800, 45100, 45200, 45500, 45600, 45700, 45800, 45800, 45900, 45900, 45900, 46100, 46300, 46500, 46600, 46600, 46600, 46600, 46700, 46900, 47000, 47000, 47200, 47300, 47600, 47900, 47900, 48100, 48100, 48400, 48600, 48700, 48700, 48800, 48900, 49100, 49100, 49200, 49200, 49300, 49600, 49600, 49700, 49800, 49900, 50500, 50500, 50500, 50600, 50700, 51000, 51200, 51200, 51300, 51400, 51900, 51900, 51900, 52100, 52200, 52400, 52600, 52700, 52900, 53300, 53300, 53300, 53400, 53600, 53700, 53700, 53700, 53800, 53900, 53900, 54200, 54200, 54200, 54400, 54400, 54500, 54600, 54700, 54700, 54700, 55100, 55100, 55500, 55500, 55500, 55600, 55600, 55900, 55900, 55900, 56300, 56300, 56300, 56600, 56700, 56900, 57600, 57800, 58200, 58300, 58400, 58600, 58700, 58900, 59100, 59100, 59300, 59400, 59700, 59900, 60000, 60100, 60200, 60200, 60200, 60300, 60300, 60300, 60400, 60500, 60500, 60600, 61000, 61000, 61500, 61600, 61700, 61800, 62200, 62200, 62200, 62600, 62700, 62800, 62800, 62800, 62900, 63000, 63200, 63200, 63200, 63300, 63300, 63500, 63500, 63600, 63700, 63700, 63800, 64000, 64100, 64200, 64300, 64300, 64300, 64600, 64800, 65300, 65300, 65400, 65800, 65800, 65800, 65900, 65900, 65900, 66300, 66300, 66500, 66500, 66600, 66700, 66900, 66900, 67600, 67800, 67800, 67900, 67900, 68200, 68400, 68400, 68500, 68600, 68700, 68800, 68900, 69100, 69400, 69700, 69700, 69800, 69900, 70000, 70000, 70200, 70400, 70700, 70900, 70900, 71200, 71200, 71300, 71600, 71800, 71800, 71900, 72000, 72100, 72200, 72200, 72200, 72600, 72900, 72900, 73000, 73000, 73100, 73200, 73300, 73600, 73700, 74400, 74400, 74500, 74500, 74600, 74700, 74700, 74800, 74900, 75200, 75500, 75600, 76100, 76200, 76200, 76400, 76400, 76600, 76700, 76700, 76800, 77000, 77100, 77300, 77600, 77700, 79000, 79400, 79400, 79500, 79500, 79600, 79900, 79900, 79900, 80700, 80800, 81200, 81400, 81700, 81800, 81800, 82000, 82100, 82200, 82300, 82400, 82400, 82400, 82500, 82700, 82800, 82800, 83000, 83100, 83300, 83600, 83700, 83700, 83900, 84100, 84200, 84200, 84300, 84500, 84700, 84800, 84800, 85300, 85500, 85600, 85600, 86400, 86900, 87000, 87200, 87400, 87700, 88000, 88100, 88200, 88500, 88600, 88700, 89000, 90100, 90200, 90300, 90500, 90500, 90600, 91000, 92300, 92300, 92900, 93000, 93400, 93500, 93700, 94200, 95100, 95800, 95900, 95900, 96100, 96100, 96200, 96300, 96300, 96300, 96400, 96500, 96500, 96600, 96700, 96900, 96900, 97000, 97100, 97200, 97300, 97400, 97400, 97500, 97500, 97600, 97900, 98400, 98400, 98500, 99200, 99300, 99600, 100000, 100100, 100800, 101700, 102300, 102400, 102400, 102500, 102500, 102600, 102700, 102700, 103300, 104100, 104900, 105300, 105300, 105500, 105600, 106100, 106400, 106600, 106700, 107300, 107300, 107400, 107400, 107600, 108100, 108200, 108300, 108900, 109200, 109600, 109800, 109900, 110400, 110700, 111400, 111500, 111900, 112800, 113000, 114100, 114800, 116100, 117500, 117700, 117900, 118000, 118300, 118500, 118600, 118800, 118800, 119800, 122700, 123000, 123600, 123800, 124900, 126300, 126500, 127000, 130700, 131500, 134500, 135700, 140700, 168800], \"xaxis\": \"x\", \"y\": [200.59669086298535, 202.43938126450468, 202.43938126450468, 202.43938126450468, 206.1247620675433, 209.8101428705819, 209.8101428705819, 217.18090447665912, 217.18090447665912, 220.86628527969773, 224.55166608273635, 224.55166608273635, 226.39435648425567, 230.07973728729428, 233.7651180903329, 235.60780849185218, 235.60780849185218, 237.4504988933715, 242.9785700979294, 244.82126049944873, 244.82126049944873, 248.50664130248734, 248.50664130248734, 250.34933170400666, 252.19202210552595, 254.03471250704527, 255.87740290856456, 257.7200933100839, 259.5627837116032, 259.5627837116032, 261.4054741131225, 261.4054741131225, 263.2481645146418, 265.0908549161611, 266.9335453176804, 268.77623571919975, 272.4616165222384, 274.3043069237577, 274.3043069237577, 276.14699732527697, 276.14699732527697, 276.14699732527697, 276.14699732527697, 277.98968772679626, 279.8323781283156, 279.8323781283156, 281.6750685298349, 283.5177589313542, 283.5177589313542, 283.5177589313542, 283.5177589313542, 283.5177589313542, 287.20313973439283, 287.20313973439283, 289.0458301359121, 290.8885205374314, 290.8885205374314, 292.7312109389507, 294.57390134047006, 298.25928214350864, 300.101972545028, 301.9446629465473, 301.9446629465473, 305.63004374958587, 307.4727341511052, 307.4727341511052, 314.84349575718244, 316.68618615870173, 322.21425736325966, 325.89963816629825, 325.89963816629825, 327.7423285678176, 327.7423285678176, 331.4277093708562, 333.27039977237547, 333.27039977237547, 335.1130901738948, 338.7984709769334, 338.7984709769334, 338.7984709769334, 338.7984709769334, 340.6411613784527, 342.48385177997204, 342.48385177997204, 344.32654218149133, 344.32654218149133, 346.1692325830106, 349.85461338604927, 359.0680653936458, 360.9107557951651, 362.7534461966844, 366.438826999723, 366.438826999723, 370.12420780276165, 371.96689820428094, 375.6522790073196, 379.33765981035816, 384.8657310149161, 384.8657310149161, 388.5511118179547, 388.5511118179547, 394.0791830225126, 399.60725422707054, 399.60725422707054, 401.44994462858983, 405.1353254316285, 405.1353254316285, 406.97801583314777, 406.97801583314777, 408.82070623466706, 408.82070623466706, 410.6633966361864, 412.5060870377057, 414.348777439225, 414.348777439225, 418.03415824226363, 418.03415824226363, 419.8768486437829, 421.7195390453022, 423.56222944682156, 427.24761024986014, 430.9329910528988, 434.61837185593737, 438.303752658976, 441.9891334620146, 441.9891334620146, 441.9891334620146, 445.67451426505323, 447.5172046665725, 449.3598950680918, 453.04527587113046, 456.73065667416904, 464.10141828024626, 464.10141828024626, 475.1575606893621, 477.0002510908814, 480.68563189392006, 484.37101269695864, 484.37101269695864, 488.0563934999973, 489.8990839015166, 491.74177430303587, 491.74177430303587, 491.74177430303587, 495.4271551060745, 497.2698455075938, 504.640607113671, 506.4832975151904, 506.4832975151904, 508.32598791670966, 512.0113687197482, 512.0113687197482, 513.8540591212676, 513.8540591212676, 515.6967495227868, 515.6967495227868, 519.3821303258254, 521.2248207273448, 526.7528919319027, 534.12365353798, 537.8090343410186, 539.6517247425379, 547.0224863486151, 548.8651767501344, 552.550557553173, 552.550557553173, 552.550557553173, 559.9213191592503, 572.8201519698854, 574.6628423714047, 583.8762943790013, 591.2470559850784, 594.9324367881171, 596.7751271896364, 602.3031983941943, 605.988579197233, 611.5166504017908, 613.3593408033101, 615.2020312048295, 617.0447216063487, 622.5727928109067, 626.2581736139452, 626.2581736139452, 629.9435544169839, 629.9435544169839, 633.6289352200225, 644.6850776291384, 646.5277680306576, 650.2131488336963, 650.2131488336963, 653.8985296367349, 659.4266008412928, 661.2692912428122, 663.1119816443314, 663.1119816443314, 663.1119816443314, 664.9546720458508, 664.9546720458508, 674.1681240534473, 676.0108144549666, 679.6961952580052, 685.2242664625632, 687.0669568640824, 687.0669568640824, 688.9096472656017, 688.9096472656017, 690.7523376671211, 690.7523376671211, 694.4377184701597, 694.4377184701597, 694.4377184701597, 694.4377184701597, 696.280408871679, 698.1230992731982, 699.9657896747176, 701.8084800762368, 718.3926936899106, 722.0780744929492, 725.7634552959879, 727.6061456975071, 733.1342169020651, 742.3476689096616, 742.3476689096616, 744.1903593111809, 746.0330497127003, 746.0330497127003, 746.0330497127003, 749.7184305157389, 749.7184305157389, 751.5611209172582, 755.2465017202968, 755.2465017202968, 758.9318825233354, 760.7745729248547, 764.4599537278933, 768.1453345309319, 768.1453345309319, 773.6734057354898, 775.5160961370092, 777.3587865385284, 777.3587865385284, 779.2014769400478, 781.0441673415671, 781.0441673415671, 782.8868577430864, 782.8868577430864, 784.7295481446057, 786.572238546125, 788.4149289476443, 788.4149289476443, 792.100309750683, 793.9430001522022, 793.9430001522022, 795.7856905537216, 797.6283809552408, 801.3137617582795, 801.3137617582795, 803.1564521597987, 803.1564521597987, 803.1564521597987, 806.8418329628374, 808.6845233643567, 808.6845233643567, 810.527213765876, 812.3699041673954, 812.3699041673954, 812.3699041673954, 816.055284970434, 817.8979753719532, 819.7406657734725, 819.7406657734725, 819.7406657734725, 821.5833561749919, 823.4260465765111, 827.1114273795498, 832.6394985841077, 834.482188985627, 836.3248793871463, 836.3248793871463, 838.1675697886656, 840.0102601901849, 845.5383313947428, 847.3810217962622, 852.90909300082, 854.7517834023394, 856.5944738038587, 858.4371642053779, 858.4371642053779, 860.2798546068973, 860.2798546068973, 860.2798546068973, 863.9652354099359, 867.6506162129746, 871.3359970160132, 873.1786874175324, 873.1786874175324, 873.1786874175324, 873.1786874175324, 875.0213778190517, 878.7067586220903, 880.5494490236097, 880.5494490236097, 884.2348298266483, 886.0775202281676, 891.6055914327255, 897.1336626372835, 897.1336626372835, 900.819043440322, 900.819043440322, 906.34711464488, 910.0324954479186, 911.8751858494379, 911.8751858494379, 913.7178762509571, 915.5605666524765, 919.2459474555151, 919.2459474555151, 921.0886378570344, 921.0886378570344, 922.9313282585538, 928.4593994631116, 928.4593994631116, 930.302089864631, 932.1447802661503, 933.9874706676695, 945.0436130767854, 945.0436130767854, 945.0436130767854, 946.8863034783047, 948.728993879824, 954.2570650843819, 957.9424458874206, 957.9424458874206, 959.7851362889398, 961.6278266904592, 970.8412786980557, 970.8412786980557, 970.8412786980557, 974.5266595010943, 976.3693499026136, 980.0547307056522, 983.7401115086909, 985.5828019102102, 989.2681827132487, 996.638944319326, 996.638944319326, 996.638944319326, 998.4816347208454, 1002.167015523884, 1004.0097059254032, 1004.0097059254032, 1004.0097059254032, 1005.8523963269225, 1007.6950867284419, 1007.6950867284419, 1013.2231579329998, 1013.2231579329998, 1013.2231579329998, 1016.9085387360384, 1016.9085387360384, 1018.7512291375577, 1020.593919539077, 1022.4366099405963, 1022.4366099405963, 1022.4366099405963, 1029.8073715466735, 1029.8073715466735, 1037.1781331527507, 1037.1781331527507, 1037.1781331527507, 1039.02082355427, 1039.02082355427, 1044.548894758828, 1044.548894758828, 1044.548894758828, 1051.9196563649052, 1051.9196563649052, 1051.9196563649052, 1057.447727569463, 1059.2904179709824, 1062.975798774021, 1075.8746315846563, 1079.5600123876948, 1086.9307739937722, 1088.7734643952913, 1090.6161547968106, 1094.3015355998493, 1096.1442260013687, 1099.8296068044071, 1103.5149876074458, 1103.5149876074458, 1107.2003684104843, 1109.0430588120037, 1114.5711300165617, 1118.2565108196002, 1120.0992012211195, 1121.9418916226389, 1123.7845820241582, 1123.7845820241582, 1123.7845820241582, 1125.6272724256776, 1125.6272724256776, 1125.6272724256776, 1127.4699628271967, 1129.312653228716, 1129.312653228716, 1131.1553436302354, 1138.5261052363126, 1138.5261052363126, 1147.739557243909, 1149.5822476454284, 1151.4249380469478, 1153.2676284484671, 1160.6383900545443, 1160.6383900545443, 1160.6383900545443, 1168.0091516606215, 1169.8518420621408, 1171.6945324636602, 1171.6945324636602, 1171.6945324636602, 1173.5372228651795, 1175.3799132666988, 1179.0652940697373, 1179.0652940697373, 1179.0652940697373, 1180.9079844712567, 1180.9079844712567, 1184.5933652742954, 1184.5933652742954, 1186.4360556758147, 1188.2787460773338, 1188.2787460773338, 1190.1214364788532, 1193.8068172818919, 1195.6495076834112, 1197.4921980849306, 1199.3348884864497, 1199.3348884864497, 1199.3348884864497, 1204.8629596910077, 1208.5483404940462, 1217.761792501643, 1217.761792501643, 1219.604482903162, 1226.9752445092395, 1226.9752445092395, 1226.9752445092395, 1228.8179349107586, 1228.8179349107586, 1228.8179349107586, 1236.188696516836, 1236.188696516836, 1239.8740773198745, 1239.8740773198745, 1241.7167677213938, 1243.5594581229132, 1247.2448389259519, 1247.2448389259519, 1260.1436717365868, 1263.8290525396255, 1263.8290525396255, 1265.6717429411449, 1265.6717429411449, 1271.1998141457027, 1274.8851949487414, 1274.8851949487414, 1276.7278853502607, 1278.5705757517799, 1280.4132661532992, 1282.2559565548186, 1284.098646956338, 1287.7840277593766, 1293.3120989639344, 1298.8401701684923, 1298.8401701684923, 1300.6828605700116, 1302.525550971531, 1304.3682413730503, 1304.3682413730503, 1308.053622176089, 1311.7390029791275, 1317.2670741836855, 1320.952454986724, 1320.952454986724, 1326.480526191282, 1326.480526191282, 1328.3232165928014, 1333.8512877973592, 1337.536668600398, 1337.536668600398, 1339.379359001917, 1341.2220494034364, 1343.0647398049557, 1344.907430206475, 1344.907430206475, 1344.907430206475, 1352.2781918125522, 1357.8062630171103, 1357.8062630171103, 1359.6489534186294, 1359.6489534186294, 1361.4916438201487, 1363.334334221668, 1365.1770246231874, 1370.7050958277453, 1372.5477862292646, 1385.4466190398998, 1385.4466190398998, 1387.2893094414192, 1387.2893094414192, 1389.1319998429383, 1390.9746902444576, 1390.9746902444576, 1392.817380645977, 1394.6600710474963, 1400.1881422520541, 1405.7162134566122, 1407.5589038581315, 1416.772355865728, 1418.6150462672474, 1418.6150462672474, 1422.3004270702859, 1422.3004270702859, 1425.9858078733246, 1427.828498274844, 1427.828498274844, 1429.671188676363, 1433.3565694794017, 1435.199259880921, 1438.8846406839598, 1444.4127118885176, 1446.255402290037, 1470.2103775097878, 1477.5811391158652, 1477.5811391158652, 1479.4238295173845, 1479.4238295173845, 1481.2665199189037, 1486.7945911234617, 1486.7945911234617, 1486.7945911234617, 1501.536114335616, 1503.3788047371354, 1510.7495663432126, 1514.4349471462513, 1519.9630183508093, 1521.8057087523284, 1521.8057087523284, 1525.4910895553671, 1527.3337799568865, 1529.1764703584058, 1531.019160759925, 1532.8618511614443, 1532.8618511614443, 1532.8618511614443, 1534.7045415629636, 1538.3899223660023, 1540.2326127675215, 1540.2326127675215, 1543.9179935705602, 1545.7606839720795, 1549.4460647751182, 1554.974135979676, 1556.8168263811954, 1556.8168263811954, 1560.5022071842338, 1564.1875879872725, 1566.0302783887919, 1566.0302783887919, 1567.8729687903112, 1571.5583495933497, 1575.2437303963884, 1577.0864207979077, 1577.0864207979077, 1586.2998728055043, 1589.985253608543, 1591.827944010062, 1591.827944010062, 1606.5694672222166, 1615.7829192298132, 1617.6256096313325, 1621.310990434371, 1624.9963712374097, 1630.5244424419677, 1636.0525136465255, 1637.895204048045, 1639.7378944495642, 1645.265965654122, 1647.1086560556414, 1648.9513464571608, 1654.4794176617186, 1674.749012078431, 1676.5917024799503, 1678.4343928814696, 1682.1197736845081, 1682.1197736845081, 1683.9624640860275, 1691.3332256921046, 1715.2882009118557, 1715.2882009118557, 1726.3443433209716, 1728.187033722491, 1735.557795328568, 1737.4004857300874, 1741.0858665331261, 1750.2993185407227, 1766.8835321543963, 1779.7823649650315, 1781.625055366551, 1781.625055366551, 1785.3104361695894, 1785.3104361695894, 1787.1531265711087, 1788.995816972628, 1788.995816972628, 1788.995816972628, 1790.8385073741474, 1792.6811977756665, 1792.6811977756665, 1794.5238881771859, 1796.3665785787052, 1800.051959381744, 1800.051959381744, 1801.8946497832633, 1803.7373401847824, 1805.5800305863017, 1807.422720987821, 1809.2654113893404, 1809.2654113893404, 1811.1081017908598, 1811.1081017908598, 1812.950792192379, 1818.478863396937, 1827.6923154045335, 1827.6923154045335, 1829.5350058060528, 1842.4338386166878, 1844.2765290182072, 1849.8046002227652, 1857.1753618288424, 1859.0180522303617, 1871.916885040997, 1888.5010986546706, 1899.5572410637865, 1901.3999314653058, 1901.3999314653058, 1903.242621866825, 1903.242621866825, 1905.0853122683443, 1906.9280026698636, 1906.9280026698636, 1917.9841450789795, 1932.725668291134, 1947.4671915032884, 1954.8379531093656, 1954.8379531093656, 1958.5233339124043, 1960.3660243139236, 1969.5794763215201, 1975.107547526078, 1978.7929283291166, 1980.635618730636, 1991.6917611397519, 1991.6917611397519, 1993.534451541271, 1993.534451541271, 1997.2198323443097, 2006.4332843519062, 2008.2759747534255, 2010.118665154945, 2021.1748075640608, 2026.7028787686186, 2034.0736403746957, 2037.7590211777344, 2039.6017115792538, 2048.8151635868503, 2054.343234791408, 2067.2420676020433, 2069.0847580035625, 2076.45551960964, 2093.0397332233138, 2096.7251140263525, 2116.9947084430646, 2129.8935412537, 2153.8485164734507, 2179.646182094721, 2183.33156289776, 2187.0169437007985, 2188.8596341023176, 2194.3877053068754, 2198.073086109914, 2199.9157765114333, 2203.601157314472, 2203.601157314472, 2222.028061329665, 2275.466082973725, 2280.9941541782828, 2292.050296587399, 2295.7356773904376, 2316.0052718071497, 2341.80293742842, 2345.488318231459, 2354.7017702390553, 2422.8813150952697, 2437.622838307424, 2492.903550353003, 2515.015835171235, 2607.1503552472004, 3124.946358074126], \"yaxis\": \"y\"}],                        {\"legend\": {\"title\": {\"text\": \"Location\"}, \"tracegroupgap\": 0}, \"margin\": {\"t\": 60}, \"template\": {\"data\": {\"bar\": [{\"error_x\": {\"color\": \"#2a3f5f\"}, \"error_y\": {\"color\": \"#2a3f5f\"}, \"marker\": {\"line\": {\"color\": \"#E5ECF6\", \"width\": 0.5}}, \"type\": \"bar\"}], \"barpolar\": [{\"marker\": {\"line\": {\"color\": \"#E5ECF6\", \"width\": 0.5}}, \"type\": \"barpolar\"}], \"carpet\": [{\"aaxis\": {\"endlinecolor\": \"#2a3f5f\", \"gridcolor\": \"white\", \"linecolor\": \"white\", \"minorgridcolor\": \"white\", \"startlinecolor\": \"#2a3f5f\"}, \"baxis\": {\"endlinecolor\": \"#2a3f5f\", \"gridcolor\": \"white\", \"linecolor\": \"white\", \"minorgridcolor\": \"white\", \"startlinecolor\": \"#2a3f5f\"}, \"type\": \"carpet\"}], \"choropleth\": [{\"colorbar\": {\"outlinewidth\": 0, \"ticks\": \"\"}, \"type\": \"choropleth\"}], \"contour\": [{\"colorbar\": {\"outlinewidth\": 0, \"ticks\": \"\"}, \"colorscale\": [[0.0, \"#0d0887\"], [0.1111111111111111, \"#46039f\"], [0.2222222222222222, \"#7201a8\"], [0.3333333333333333, \"#9c179e\"], [0.4444444444444444, \"#bd3786\"], [0.5555555555555556, \"#d8576b\"], [0.6666666666666666, \"#ed7953\"], [0.7777777777777778, \"#fb9f3a\"], [0.8888888888888888, \"#fdca26\"], [1.0, \"#f0f921\"]], \"type\": \"contour\"}], \"contourcarpet\": [{\"colorbar\": {\"outlinewidth\": 0, \"ticks\": \"\"}, \"type\": \"contourcarpet\"}], \"heatmap\": [{\"colorbar\": {\"outlinewidth\": 0, \"ticks\": \"\"}, \"colorscale\": [[0.0, \"#0d0887\"], [0.1111111111111111, \"#46039f\"], [0.2222222222222222, \"#7201a8\"], [0.3333333333333333, \"#9c179e\"], [0.4444444444444444, \"#bd3786\"], [0.5555555555555556, \"#d8576b\"], [0.6666666666666666, \"#ed7953\"], [0.7777777777777778, \"#fb9f3a\"], [0.8888888888888888, \"#fdca26\"], [1.0, \"#f0f921\"]], \"type\": \"heatmap\"}], \"heatmapgl\": [{\"colorbar\": {\"outlinewidth\": 0, \"ticks\": \"\"}, \"colorscale\": [[0.0, \"#0d0887\"], [0.1111111111111111, \"#46039f\"], [0.2222222222222222, \"#7201a8\"], [0.3333333333333333, \"#9c179e\"], [0.4444444444444444, \"#bd3786\"], [0.5555555555555556, \"#d8576b\"], [0.6666666666666666, \"#ed7953\"], [0.7777777777777778, \"#fb9f3a\"], [0.8888888888888888, \"#fdca26\"], [1.0, \"#f0f921\"]], \"type\": \"heatmapgl\"}], \"histogram\": [{\"marker\": {\"colorbar\": {\"outlinewidth\": 0, \"ticks\": \"\"}}, \"type\": \"histogram\"}], \"histogram2d\": [{\"colorbar\": {\"outlinewidth\": 0, \"ticks\": \"\"}, \"colorscale\": [[0.0, \"#0d0887\"], [0.1111111111111111, \"#46039f\"], [0.2222222222222222, \"#7201a8\"], [0.3333333333333333, \"#9c179e\"], [0.4444444444444444, \"#bd3786\"], [0.5555555555555556, \"#d8576b\"], [0.6666666666666666, \"#ed7953\"], [0.7777777777777778, \"#fb9f3a\"], [0.8888888888888888, \"#fdca26\"], [1.0, \"#f0f921\"]], \"type\": \"histogram2d\"}], \"histogram2dcontour\": [{\"colorbar\": {\"outlinewidth\": 0, \"ticks\": \"\"}, \"colorscale\": [[0.0, \"#0d0887\"], [0.1111111111111111, \"#46039f\"], [0.2222222222222222, \"#7201a8\"], [0.3333333333333333, \"#9c179e\"], [0.4444444444444444, \"#bd3786\"], [0.5555555555555556, \"#d8576b\"], [0.6666666666666666, \"#ed7953\"], [0.7777777777777778, \"#fb9f3a\"], [0.8888888888888888, \"#fdca26\"], [1.0, \"#f0f921\"]], \"type\": \"histogram2dcontour\"}], \"mesh3d\": [{\"colorbar\": {\"outlinewidth\": 0, \"ticks\": \"\"}, \"type\": \"mesh3d\"}], \"parcoords\": [{\"line\": {\"colorbar\": {\"outlinewidth\": 0, \"ticks\": \"\"}}, \"type\": \"parcoords\"}], \"pie\": [{\"automargin\": true, \"type\": \"pie\"}], \"scatter\": [{\"marker\": {\"colorbar\": {\"outlinewidth\": 0, \"ticks\": \"\"}}, \"type\": \"scatter\"}], \"scatter3d\": [{\"line\": {\"colorbar\": {\"outlinewidth\": 0, \"ticks\": \"\"}}, \"marker\": {\"colorbar\": {\"outlinewidth\": 0, \"ticks\": \"\"}}, \"type\": \"scatter3d\"}], \"scattercarpet\": [{\"marker\": {\"colorbar\": {\"outlinewidth\": 0, \"ticks\": \"\"}}, \"type\": \"scattercarpet\"}], \"scattergeo\": [{\"marker\": {\"colorbar\": {\"outlinewidth\": 0, \"ticks\": \"\"}}, \"type\": \"scattergeo\"}], \"scattergl\": [{\"marker\": {\"colorbar\": {\"outlinewidth\": 0, \"ticks\": \"\"}}, \"type\": \"scattergl\"}], \"scattermapbox\": [{\"marker\": {\"colorbar\": {\"outlinewidth\": 0, \"ticks\": \"\"}}, \"type\": \"scattermapbox\"}], \"scatterpolar\": [{\"marker\": {\"colorbar\": {\"outlinewidth\": 0, \"ticks\": \"\"}}, \"type\": \"scatterpolar\"}], \"scatterpolargl\": [{\"marker\": {\"colorbar\": {\"outlinewidth\": 0, \"ticks\": \"\"}}, \"type\": \"scatterpolargl\"}], \"scatterternary\": [{\"marker\": {\"colorbar\": {\"outlinewidth\": 0, \"ticks\": \"\"}}, \"type\": \"scatterternary\"}], \"surface\": [{\"colorbar\": {\"outlinewidth\": 0, \"ticks\": \"\"}, \"colorscale\": [[0.0, \"#0d0887\"], [0.1111111111111111, \"#46039f\"], [0.2222222222222222, \"#7201a8\"], [0.3333333333333333, \"#9c179e\"], [0.4444444444444444, \"#bd3786\"], [0.5555555555555556, \"#d8576b\"], [0.6666666666666666, \"#ed7953\"], [0.7777777777777778, \"#fb9f3a\"], [0.8888888888888888, \"#fdca26\"], [1.0, \"#f0f921\"]], \"type\": \"surface\"}], \"table\": [{\"cells\": {\"fill\": {\"color\": \"#EBF0F8\"}, \"line\": {\"color\": \"white\"}}, \"header\": {\"fill\": {\"color\": \"#C8D4E3\"}, \"line\": {\"color\": \"white\"}}, \"type\": \"table\"}]}, \"layout\": {\"annotationdefaults\": {\"arrowcolor\": \"#2a3f5f\", \"arrowhead\": 0, \"arrowwidth\": 1}, \"coloraxis\": {\"colorbar\": {\"outlinewidth\": 0, \"ticks\": \"\"}}, \"colorscale\": {\"diverging\": [[0, \"#8e0152\"], [0.1, \"#c51b7d\"], [0.2, \"#de77ae\"], [0.3, \"#f1b6da\"], [0.4, \"#fde0ef\"], [0.5, \"#f7f7f7\"], [0.6, \"#e6f5d0\"], [0.7, \"#b8e186\"], [0.8, \"#7fbc41\"], [0.9, \"#4d9221\"], [1, \"#276419\"]], \"sequential\": [[0.0, \"#0d0887\"], [0.1111111111111111, \"#46039f\"], [0.2222222222222222, \"#7201a8\"], [0.3333333333333333, \"#9c179e\"], [0.4444444444444444, \"#bd3786\"], [0.5555555555555556, \"#d8576b\"], [0.6666666666666666, \"#ed7953\"], [0.7777777777777778, \"#fb9f3a\"], [0.8888888888888888, \"#fdca26\"], [1.0, \"#f0f921\"]], \"sequentialminus\": [[0.0, \"#0d0887\"], [0.1111111111111111, \"#46039f\"], [0.2222222222222222, \"#7201a8\"], [0.3333333333333333, \"#9c179e\"], [0.4444444444444444, \"#bd3786\"], [0.5555555555555556, \"#d8576b\"], [0.6666666666666666, \"#ed7953\"], [0.7777777777777778, \"#fb9f3a\"], [0.8888888888888888, \"#fdca26\"], [1.0, \"#f0f921\"]]}, \"colorway\": [\"#636efa\", \"#EF553B\", \"#00cc96\", \"#ab63fa\", \"#FFA15A\", \"#19d3f3\", \"#FF6692\", \"#B6E880\", \"#FF97FF\", \"#FECB52\"], \"font\": {\"color\": \"#2a3f5f\"}, \"geo\": {\"bgcolor\": \"white\", \"lakecolor\": \"white\", \"landcolor\": \"#E5ECF6\", \"showlakes\": true, \"showland\": true, \"subunitcolor\": \"white\"}, \"hoverlabel\": {\"align\": \"left\"}, \"hovermode\": \"closest\", \"mapbox\": {\"style\": \"light\"}, \"paper_bgcolor\": \"white\", \"plot_bgcolor\": \"#E5ECF6\", \"polar\": {\"angularaxis\": {\"gridcolor\": \"white\", \"linecolor\": \"white\", \"ticks\": \"\"}, \"bgcolor\": \"#E5ECF6\", \"radialaxis\": {\"gridcolor\": \"white\", \"linecolor\": \"white\", \"ticks\": \"\"}}, \"scene\": {\"xaxis\": {\"backgroundcolor\": \"#E5ECF6\", \"gridcolor\": \"white\", \"gridwidth\": 2, \"linecolor\": \"white\", \"showbackground\": true, \"ticks\": \"\", \"zerolinecolor\": \"white\"}, \"yaxis\": {\"backgroundcolor\": \"#E5ECF6\", \"gridcolor\": \"white\", \"gridwidth\": 2, \"linecolor\": \"white\", \"showbackground\": true, \"ticks\": \"\", \"zerolinecolor\": \"white\"}, \"zaxis\": {\"backgroundcolor\": \"#E5ECF6\", \"gridcolor\": \"white\", \"gridwidth\": 2, \"linecolor\": \"white\", \"showbackground\": true, \"ticks\": \"\", \"zerolinecolor\": \"white\"}}, \"shapedefaults\": {\"line\": {\"color\": \"#2a3f5f\"}}, \"ternary\": {\"aaxis\": {\"gridcolor\": \"white\", \"linecolor\": \"white\", \"ticks\": \"\"}, \"baxis\": {\"gridcolor\": \"white\", \"linecolor\": \"white\", \"ticks\": \"\"}, \"bgcolor\": \"#E5ECF6\", \"caxis\": {\"gridcolor\": \"white\", \"linecolor\": \"white\", \"ticks\": \"\"}}, \"title\": {\"x\": 0.05}, \"xaxis\": {\"automargin\": true, \"gridcolor\": \"white\", \"linecolor\": \"white\", \"ticks\": \"\", \"title\": {\"standoff\": 15}, \"zerolinecolor\": \"white\", \"zerolinewidth\": 2}, \"yaxis\": {\"automargin\": true, \"gridcolor\": \"white\", \"linecolor\": \"white\", \"ticks\": \"\", \"title\": {\"standoff\": 15}, \"zerolinecolor\": \"white\", \"zerolinewidth\": 2}}}, \"title\": {\"text\": \"Location With Salary Vs Amount Spent \", \"x\": 0.5}, \"xaxis\": {\"anchor\": \"y\", \"domain\": [0.0, 1.0], \"title\": {\"text\": \"Salary\"}}, \"yaxis\": {\"anchor\": \"x\", \"domain\": [0.0, 1.0], \"title\": {\"text\": \"Amount Spent\"}}},                        {\"responsive\": true}                    ).then(function(){\n",
       "                            \n",
       "var gd = document.getElementById('6b876902-682e-4557-a2df-c00432cbb113');\n",
       "var x = new MutationObserver(function (mutations, observer) {{\n",
       "        var display = window.getComputedStyle(gd).display;\n",
       "        if (!display || display === 'none') {{\n",
       "            console.log([gd, 'removed!']);\n",
       "            Plotly.purge(gd);\n",
       "            observer.disconnect();\n",
       "        }}\n",
       "}});\n",
       "\n",
       "// Listen for the removal of the full notebook cells\n",
       "var notebookContainer = gd.closest('#notebook-container');\n",
       "if (notebookContainer) {{\n",
       "    x.observe(notebookContainer, {childList: true});\n",
       "}}\n",
       "\n",
       "// Listen for the clearing of the current output cell\n",
       "var outputEl = gd.closest('.output');\n",
       "if (outputEl) {{\n",
       "    x.observe(outputEl, {childList: true});\n",
       "}}\n",
       "\n",
       "                        })                };                });            </script>        </div>"
      ]
     },
     "metadata": {},
     "output_type": "display_data"
    }
   ],
   "source": [
    "# Scatter plot - Category\n",
    "\n",
    "fig = px.scatter(df, x='Salary', y='AmountSpent',trendline=\"ols\",\n",
    "                 color='Location') # Added color to basic scatter\n",
    "fig.update_layout(title='Location With Salary Vs Amount Spent ',xaxis_title=\"Salary\",yaxis_title=\"Amount Spent\",title_x=0.5)\n",
    "fig.show()"
   ]
  },
  {
   "cell_type": "code",
   "execution_count": 52,
   "metadata": {
    "execution": {
     "iopub.execute_input": "2020-12-10T12:48:24.657971Z",
     "iopub.status.busy": "2020-12-10T12:48:24.657167Z",
     "iopub.status.idle": "2020-12-10T12:48:24.773770Z",
     "shell.execute_reply": "2020-12-10T12:48:24.773087Z"
    },
    "papermill": {
     "duration": 0.362779,
     "end_time": "2020-12-10T12:48:24.773891",
     "exception": false,
     "start_time": "2020-12-10T12:48:24.411112",
     "status": "completed"
    },
    "tags": []
   },
   "outputs": [
    {
     "data": {
      "text/html": [
       "<div>                            <div id=\"a1c7551b-6058-4ded-870a-e306346b1182\" class=\"plotly-graph-div\" style=\"height:525px; width:100%;\"></div>            <script type=\"text/javascript\">                require([\"plotly\"], function(Plotly) {                    window.PLOTLYENV=window.PLOTLYENV || {};                                    if (document.getElementById(\"a1c7551b-6058-4ded-870a-e306346b1182\")) {                    Plotly.newPlot(                        \"a1c7551b-6058-4ded-870a-e306346b1182\",                        [{\"hovertemplate\": \"Children=0<br>Salary=%{x}<br>AmountSpent=%{y}<extra></extra>\", \"legendgroup\": \"0\", \"marker\": {\"color\": \"#636efa\", \"symbol\": \"circle\"}, \"mode\": \"markers\", \"name\": \"0\", \"orientation\": \"v\", \"showlegend\": true, \"type\": \"scatter\", \"x\": [47500, 63600, 13500, 68400, 30400, 48100, 68400, 80700, 111400, 110000, 82800, 90100, 14000, 49800, 60200, 72900, 39700, 104100, 67700, 41600, 20100, 81500, 111500, 77700, 58900, 87200, 46600, 69800, 60300, 67800, 42300, 33700, 14600, 62600, 66700, 72500, 13200, 51300, 72300, 15600, 71500, 14400, 11400, 127000, 47200, 20400, 39000, 134500, 75500, 81200, 42200, 59000, 20900, 91800, 27900, 70700, 106600, 56300, 58300, 70200, 59700, 25800, 12000, 51900, 44200, 10400, 35200, 16100, 19100, 52500, 68000, 17400, 100100, 21400, 114800, 67900, 109800, 64200, 17000, 42600, 21000, 51200, 88200, 122100, 84800, 140000, 28500, 60300, 51900, 60200, 81200, 73100, 45700, 28900, 60100, 35000, 61700, 46900, 45800, 40000, 35300, 64600, 113800, 80000, 83900, 77000, 54700, 56900, 42300, 53300, 42800, 98400, 51200, 62200, 14000, 97000, 15000, 33000, 74400, 68700, 33200, 70900, 41400, 63200, 107400, 13900, 66300, 84200, 13800, 21300, 29000, 65300, 90200, 15900, 43200, 97200, 62000, 76200, 12000, 76100, 103300, 47500, 72200, 43300, 51900, 80600, 42700, 19000, 36700, 54600, 39600, 34700, 55500, 42800, 30900, 53900, 84300, 26800, 20900, 61800, 60300, 41600, 43700, 78800, 82500, 31900, 15400, 70200, 97900, 88400, 86900, 74800, 71900, 46700, 36600, 66300, 69100, 48600, 39600, 11700, 123000, 64600, 74500, 56600, 25000, 55100, 22800, 17800, 73800, 11200, 30100, 97500, 54600, 82800, 62300, 96900, 21900, 63000, 74900, 14200, 73300, 41300, 32700, 35200, 13100, 87200, 66900, 47900, 59400, 96600, 17900, 74700, 60000, 33400, 68800, 83700, 50500, 17300, 45800, 108900, 84100, 25100, 97100, 78900, 12000, 48400, 45600, 60200, 36900, 36100, 61600, 79500, 17300, 36500, 70000, 48100, 79400, 21200, 53900, 118800, 20400, 52400, 17600, 23500, 58700, 72900, 21200, 24400, 72200, 56300, 22000, 72100, 55600, 45900, 15100, 90300, 95900, 20800, 98400, 15200, 51400, 38200, 65900, 63000, 31900, 12800, 23800, 20600, 41500, 54700, 55900, 39900, 61000, 38700, 98900, 64300, 75600, 53700, 66600, 89000, 45600, 73000, 13900, 81800, 41700, 51000, 17600, 85600, 13400, 18000, 58200, 70000, 37500, 22800, 14200, 18700, 28900, 54200, 102700, 21400, 55600, 89500, 87000, 81400, 90500, 74400, 51600, 55000, 16300, 15100, 23800, 41200, 29200, 10900, 57800, 43100, 40100, 84500, 34500, 79300, 44500, 39700, 30300, 86500, 42500, 102300, 54700, 53800, 52200, 28300, 41900, 52100, 70400, 10200, 74500, 34500, 83700, 106400, 118800, 45900, 75500, 62900, 19400, 46600, 42800, 65500, 33600, 25700, 21500, 68600, 53300, 112800, 124900, 72200, 14900, 72000, 82400, 62200, 35900, 14100, 39500, 85300, 110700, 17700, 53800, 44400, 19700, 35300, 52000, 63700, 25900, 11000, 65900, 79500, 95900, 98500, 96200, 17900, 42700, 49700, 26700, 61000, 90600, 12600, 71800, 29200, 130600, 74400, 49100, 76400, 49000, 55600, 50500, 16300, 49200, 19500, 51100, 60200, 32500, 47300, 69400, 75400, 96100, 59300, 102600, 43700, 22400, 15900, 23200, 18200, 17000, 17300, 74900, 67900, 62800, 77600, 128700, 49600, 47000, 36600, 96500, 54400, 57900, 117900, 66200, 15300, 17500, 168800, 40200, 55200, 44600, 58400, 25500, 23400, 65400, 19600, 37000, 13200, 22600, 37300, 63200, 77300, 70900, 38200, 71300, 15400, 43800, 25300, 71800, 73200, 43600, 56200, 45500, 82000, 49300, 66200, 63200, 112900, 11700, 99200, 17600, 44800], \"xaxis\": \"x\", \"y\": [755, 1318, 296, 1304, 495, 782, 1155, 3034, 2136, 5564, 3010, 1956, 410, 827, 2328, 2075, 573, 2636, 2226, 982, 576, 3655, 2510, 983, 1215, 3604, 906, 2764, 1263, 1084, 1051, 614, 468, 565, 1310, 2595, 358, 1424, 4182, 468, 964, 615, 258, 1821, 1587, 867, 643, 4558, 741, 1856, 1753, 3044, 550, 2452, 1184, 2150, 1877, 873, 1472, 1702, 1857, 451, 344, 1492, 2524, 189, 607, 202, 176, 2038, 3688, 332, 3104, 498, 3596, 2925, 4279, 1642, 581, 1790, 646, 1293, 2749, 2408, 2624, 4894, 621, 701, 780, 1365, 2693, 1582, 724, 830, 1594, 473, 1161, 703, 489, 613, 1093, 1298, 3273, 1985, 1721, 2104, 848, 1857, 856, 1720, 759, 3305, 1257, 1583, 229, 2599, 378, 979, 2479, 2763, 1037, 690, 643, 1512, 1485, 570, 2243, 1654, 363, 677, 482, 1443, 2183, 503, 917, 1634, 3293, 979, 264, 719, 3378, 847, 2492, 1584, 1148, 2840, 827, 428, 731, 2163, 1085, 1615, 858, 922, 862, 1186, 2842, 435, 296, 1156, 2091, 1690, 950, 3398, 859, 616, 297, 1583, 2149, 3632, 2230, 1968, 1846, 983, 587, 1088, 1477, 1583, 610, 193, 3671, 2206, 1481, 1607, 264, 1439, 452, 292, 3120, 106, 530, 2837, 1246, 1544, 2644, 1159, 276, 1910, 1474, 250, 1694, 1985, 1252, 827, 314, 1274, 1220, 1090, 1699, 1437, 446, 1699, 966, 567, 1658, 3344, 1029, 345, 712, 1841, 2710, 592, 1473, 2233, 140, 992, 1388, 2304, 721, 438, 1666, 1763, 166, 1140, 1974, 1640, 1175, 417, 1060, 2176, 513, 857, 224, 371, 1479, 753, 242, 491, 3069, 1608, 736, 3052, 1786, 1645, 274, 1944, 2585, 260, 1414, 324, 694, 526, 1436, 2107, 860, 230, 438, 201, 1213, 1404, 964, 619, 1850, 1506, 3126, 1325, 1541, 2491, 1177, 1487, 1322, 1534, 191, 919, 1398, 1025, 245, 3380, 424, 303, 981, 785, 1578, 258, 192, 289, 905, 1405, 2381, 414, 984, 5209, 1594, 3001, 863, 1152, 1082, 1162, 360, 348, 428, 841, 737, 407, 1149, 1444, 1384, 1557, 802, 2047, 1175, 1011, 1062, 2690, 918, 2438, 1355, 1803, 1909, 933, 654, 1668, 2610, 362, 1413, 639, 1582, 1757, 2631, 716, 2450, 2561, 563, 546, 685, 1931, 573, 907, 445, 1342, 1598, 1861, 4109, 3278, 275, 1475, 1779, 1348, 962, 328, 1006, 2523, 2458, 742, 843, 886, 535, 1369, 2545, 1351, 582, 195, 777, 1651, 3168, 2034, 1457, 395, 541, 2844, 1120, 975, 3167, 241, 1946, 556, 3442, 1893, 934, 2216, 1523, 952, 642, 317, 1078, 571, 1984, 1955, 883, 640, 2419, 2723, 1588, 929, 2546, 1344, 947, 406, 534, 401, 659, 411, 1804, 1418, 1403, 2004, 3995, 770, 963, 833, 3780, 1150, 1693, 1760, 1024, 645, 472, 1512, 1634, 1714, 966, 829, 636, 348, 2296, 395, 850, 512, 865, 673, 1932, 1853, 1685, 1476, 1543, 172, 606, 591, 1389, 2177, 1047, 1546, 754, 1800, 1692, 2057, 1507, 6217, 540, 5503, 273, 1417], \"yaxis\": \"y\"}, {\"hovertemplate\": \"<b>OLS trendline</b><br>AmountSpent = 0.0262796 * Salary + -36.0145<br>R<sup>2</sup>=0.586839<br><br>Children=0<br>Salary=%{x}<br>AmountSpent=%{y} <b>(trend)</b><extra></extra>\", \"legendgroup\": \"0\", \"marker\": {\"color\": \"#636efa\", \"symbol\": \"circle\"}, \"mode\": \"lines\", \"name\": \"0\", \"showlegend\": false, \"type\": \"scatter\", \"x\": [10200, 10400, 10900, 11000, 11200, 11400, 11700, 11700, 12000, 12000, 12000, 12600, 12800, 13100, 13200, 13200, 13400, 13500, 13800, 13900, 13900, 14000, 14000, 14100, 14200, 14200, 14400, 14600, 14900, 15000, 15100, 15100, 15200, 15300, 15400, 15400, 15600, 15900, 15900, 16100, 16300, 16300, 17000, 17000, 17300, 17300, 17300, 17400, 17500, 17600, 17600, 17600, 17700, 17800, 17900, 17900, 18000, 18200, 18700, 19000, 19100, 19400, 19500, 19600, 19700, 20100, 20400, 20400, 20600, 20800, 20900, 20900, 21000, 21200, 21200, 21300, 21400, 21400, 21500, 21900, 22000, 22400, 22600, 22800, 22800, 23200, 23400, 23500, 23800, 23800, 24400, 25000, 25100, 25300, 25500, 25700, 25800, 25900, 26700, 26800, 27900, 28300, 28500, 28900, 28900, 29000, 29200, 29200, 30100, 30300, 30400, 30900, 31900, 31900, 32500, 32700, 33000, 33200, 33400, 33600, 33700, 34500, 34500, 34700, 35000, 35200, 35200, 35300, 35300, 35900, 36100, 36500, 36600, 36600, 36700, 36900, 37000, 37300, 37500, 38200, 38200, 38700, 39000, 39500, 39600, 39600, 39700, 39700, 39900, 40000, 40100, 40200, 41200, 41300, 41400, 41500, 41600, 41600, 41700, 41900, 42200, 42300, 42300, 42500, 42600, 42700, 42700, 42800, 42800, 42800, 43100, 43200, 43300, 43600, 43700, 43700, 43800, 44200, 44400, 44500, 44600, 44800, 45500, 45600, 45600, 45700, 45800, 45800, 45900, 45900, 46600, 46600, 46700, 46900, 47000, 47200, 47300, 47500, 47500, 47900, 48100, 48100, 48400, 48600, 49000, 49100, 49200, 49300, 49600, 49700, 49800, 50500, 50500, 51000, 51100, 51200, 51200, 51300, 51400, 51600, 51900, 51900, 51900, 52000, 52100, 52200, 52400, 52500, 53300, 53300, 53700, 53800, 53800, 53900, 53900, 54200, 54400, 54600, 54600, 54700, 54700, 54700, 55000, 55100, 55200, 55500, 55600, 55600, 55600, 55900, 56200, 56300, 56300, 56600, 56900, 57800, 57900, 58200, 58300, 58400, 58700, 58900, 59000, 59300, 59400, 59700, 60000, 60100, 60200, 60200, 60200, 60200, 60300, 60300, 60300, 61000, 61000, 61600, 61700, 61800, 62000, 62200, 62200, 62300, 62600, 62800, 62900, 63000, 63000, 63200, 63200, 63200, 63600, 63700, 64200, 64300, 64600, 64600, 65300, 65400, 65500, 65900, 65900, 66200, 66200, 66300, 66300, 66600, 66700, 66900, 67700, 67800, 67900, 67900, 68000, 68400, 68400, 68600, 68700, 68800, 69100, 69400, 69800, 70000, 70000, 70200, 70200, 70400, 70700, 70900, 70900, 71300, 71500, 71800, 71800, 71900, 72000, 72100, 72200, 72200, 72200, 72300, 72500, 72900, 72900, 73000, 73100, 73200, 73300, 73800, 74400, 74400, 74400, 74500, 74500, 74700, 74800, 74900, 74900, 75400, 75500, 75500, 75600, 76100, 76200, 76400, 77000, 77300, 77600, 77700, 78800, 78900, 79300, 79400, 79500, 79500, 80000, 80600, 80700, 81200, 81200, 81400, 81500, 81800, 82000, 82400, 82500, 82800, 82800, 83700, 83700, 83900, 84100, 84200, 84300, 84500, 84800, 85300, 85600, 86500, 86900, 87000, 87200, 87200, 88200, 88400, 89000, 89500, 90100, 90200, 90300, 90500, 90600, 91800, 95900, 95900, 96100, 96200, 96500, 96600, 96900, 97000, 97100, 97200, 97500, 97900, 98400, 98400, 98500, 98900, 99200, 100100, 102300, 102600, 102700, 103300, 104100, 106400, 106600, 107400, 108900, 109800, 110000, 110700, 111400, 111500, 112800, 112900, 113800, 114800, 117900, 118800, 118800, 122100, 123000, 124900, 127000, 128700, 130600, 134500, 140000, 168800], \"xaxis\": \"x\", \"y\": [232.0377361267013, 237.29366300127538, 250.43348018771064, 253.0614436249977, 258.3173704995718, 263.5732973741459, 271.45718768600705, 271.45718768600705, 279.3410779978682, 279.3410779978682, 279.3410779978682, 295.10885862159046, 300.3647854961646, 308.2486758080257, 310.8766392453128, 310.8766392453128, 316.13256611988686, 318.7605295571739, 326.64441986903506, 329.2723833063221, 329.2723833063221, 331.9003467436092, 331.9003467436092, 334.5283101808962, 337.15627361818326, 337.15627361818326, 342.4122004927574, 347.66812736733146, 355.5520176791926, 358.17998111647967, 360.80794455376673, 360.80794455376673, 363.43590799105374, 366.0638714283408, 368.69183486562787, 368.69183486562787, 373.94776174020194, 381.83165205206313, 381.83165205206313, 387.0875789266372, 392.34350580121134, 392.34350580121134, 410.7392498622207, 410.7392498622207, 418.6231401740818, 418.6231401740818, 418.6231401740818, 421.2511036113689, 423.8790670486559, 426.50703048594295, 426.50703048594295, 426.50703048594295, 429.13499392323, 431.7629573605171, 434.3909207978041, 434.3909207978041, 437.01888423509115, 442.2748111096652, 455.4146282961005, 463.2985186079616, 465.9264820452487, 473.8103723571098, 476.43833579439695, 479.06629923168396, 481.69426266897096, 492.2061164181192, 500.09000672998036, 500.09000672998036, 505.3459336045545, 510.6018604791285, 513.2298239164156, 513.2298239164156, 515.8577873537026, 521.1137142282768, 521.1137142282768, 523.7416776655638, 526.3696411028508, 526.3696411028508, 528.9976045401379, 539.509458289286, 542.1374217265732, 552.6492754757213, 557.9052023502954, 563.1611292248696, 563.1611292248696, 573.6729829740177, 578.9289098485918, 581.5568732858789, 589.44076359774, 589.44076359774, 605.2085442214623, 620.9763248451846, 623.6042882824717, 628.8602151570458, 634.1161420316199, 639.3720689061939, 642.000032343481, 644.6279957807681, 665.6517032790645, 668.2796667163515, 697.187264526509, 707.6991182756573, 712.9550451502314, 723.4668988993795, 723.4668988993795, 726.0948623366666, 731.3507892112407, 731.3507892112407, 755.0024601468241, 760.2583870213982, 762.8863504586852, 776.0261676451205, 802.305802017991, 802.305802017991, 818.0735826417133, 823.3295095162874, 831.2133998281486, 836.4693267027227, 841.7252535772967, 846.9811804518708, 849.609143889158, 870.6328513874544, 870.6328513874544, 875.8887782620284, 883.7726685738895, 889.0285954484636, 889.0285954484636, 891.6565588857507, 891.6565588857507, 907.424339509473, 912.6802663840471, 923.1921201331953, 925.8200835704823, 925.8200835704823, 928.4480470077694, 933.7039738823435, 936.3319373196306, 944.2158276314917, 949.4717545060658, 967.8674985670751, 967.8674985670751, 981.0073157535104, 988.8912060653716, 1002.0310232518067, 1004.6589866890939, 1004.6589866890939, 1007.2869501263809, 1007.2869501263809, 1012.542877000955, 1015.170840438242, 1017.7988038755292, 1020.4267673128162, 1046.7064016856866, 1049.3343651229738, 1051.9623285602606, 1054.5902919975479, 1057.2182554348346, 1057.2182554348346, 1059.8462188721219, 1065.102145746696, 1072.9860360585571, 1075.6139994958444, 1075.6139994958444, 1080.8699263704184, 1083.4978898077052, 1086.1258532449924, 1086.1258532449924, 1088.7538166822792, 1088.7538166822792, 1088.7538166822792, 1096.6377069941404, 1099.2656704314277, 1101.8936338687145, 1109.7775241805757, 1112.405487617863, 1112.405487617863, 1115.0334510551497, 1125.5453048042982, 1130.8012316788722, 1133.4291951161595, 1136.0571585534462, 1141.3130854280203, 1159.7088294890295, 1162.3367929263168, 1162.3367929263168, 1164.964756363604, 1167.5927198008908, 1167.5927198008908, 1170.220683238178, 1170.220683238178, 1188.6164272991873, 1188.6164272991873, 1191.2443907364745, 1196.5003176110486, 1199.1282810483353, 1204.3842079229098, 1207.0121713601966, 1212.2680982347706, 1212.2680982347706, 1222.779951983919, 1228.035878858493, 1228.035878858493, 1235.9197691703544, 1241.1756960449284, 1251.6875497940764, 1254.3155132313636, 1256.9434766686504, 1259.5714401059377, 1267.455330417799, 1270.0832938550857, 1272.711257292373, 1291.1070013533822, 1291.1070013533822, 1304.2468185398175, 1306.8747819771047, 1309.5027454143915, 1309.5027454143915, 1312.1307088516787, 1314.7586722889655, 1320.01459916354, 1327.8984894754008, 1327.8984894754008, 1327.8984894754008, 1330.526452912688, 1333.1544163499752, 1335.782379787262, 1341.038306661836, 1343.6662700991233, 1364.6899775974198, 1364.6899775974198, 1375.2018313465678, 1377.829794783855, 1377.829794783855, 1380.4577582211418, 1380.4577582211418, 1388.341648533003, 1393.597575407577, 1398.853502282151, 1398.853502282151, 1401.4814657194383, 1401.4814657194383, 1401.4814657194383, 1409.3653560312996, 1411.9933194685864, 1414.6212829058736, 1422.5051732177349, 1425.1331366550216, 1425.1331366550216, 1425.1331366550216, 1433.017026966883, 1440.9009172787441, 1443.528880716031, 1443.528880716031, 1451.4127710278922, 1459.2966613397534, 1482.9483322753367, 1485.576295712624, 1493.4601860244852, 1496.088149461772, 1498.7161128990592, 1506.6000032109205, 1511.8559300854945, 1514.4838935227813, 1522.3677838346425, 1524.9957472719298, 1532.8796375837906, 1540.7635278956518, 1543.391491332939, 1546.0194547702258, 1546.0194547702258, 1546.0194547702258, 1546.0194547702258, 1548.647418207513, 1548.647418207513, 1548.647418207513, 1567.0431622685223, 1567.0431622685223, 1582.8109428922448, 1585.4389063295316, 1588.0668697668189, 1593.3227966413929, 1598.5787235159669, 1598.5787235159669, 1601.2066869532541, 1609.0905772651154, 1614.3465041396894, 1616.9744675769762, 1619.6024310142634, 1619.6024310142634, 1624.8583578888374, 1624.8583578888374, 1624.8583578888374, 1635.370211637986, 1637.9981750752727, 1651.137992261708, 1653.7659556989952, 1661.649846010856, 1661.649846010856, 1680.0455900718657, 1682.6735535091525, 1685.3015169464397, 1695.8133706955878, 1695.8133706955878, 1703.697261007449, 1703.697261007449, 1706.3252244447363, 1706.3252244447363, 1714.209114756597, 1716.8370781938843, 1722.0930050684583, 1743.1167125667548, 1745.7446760040416, 1748.3726394413288, 1748.3726394413288, 1751.000602878616, 1761.512456627764, 1761.512456627764, 1766.768383502338, 1769.3963469396253, 1772.0243103769121, 1779.9082006887734, 1787.7920910006346, 1798.3039447497827, 1803.5598716243567, 1803.5598716243567, 1808.8157984989311, 1808.8157984989311, 1814.0717253735052, 1821.9556156853664, 1827.2115425599404, 1827.2115425599404, 1837.7233963090885, 1842.9793231836625, 1850.8632134955237, 1850.8632134955237, 1853.491176932811, 1856.1191403700977, 1858.747103807385, 1861.3750672446718, 1861.3750672446718, 1861.3750672446718, 1864.003030681959, 1869.258957556533, 1879.7708113056815, 1879.7708113056815, 1882.3987747429683, 1885.0267381802555, 1887.6547016175423, 1890.2826650548295, 1903.4224822412648, 1919.1902628649868, 1919.1902628649868, 1919.1902628649868, 1921.818226302274, 1921.818226302274, 1927.074153176848, 1929.7021166141353, 1932.330080051422, 1932.330080051422, 1945.4698972378574, 1948.0978606751446, 1948.0978606751446, 1950.7258241124318, 1963.865641298867, 1966.4936047361539, 1971.749531610728, 1987.5173122344504, 1995.4012025463117, 2003.2850928581724, 2005.9130562954597, 2034.820654105617, 2037.4486175429042, 2047.9604712920523, 2050.5884347293395, 2053.2163981666263, 2053.2163981666263, 2066.3562153530615, 2082.123995976784, 2084.751959414071, 2097.891776600506, 2097.891776600506, 2103.1477034750806, 2105.7756669123673, 2113.6595572242286, 2118.9154840988026, 2129.427337847951, 2132.055301285238, 2139.939191597099, 2139.939191597099, 2163.5908625326824, 2163.5908625326824, 2168.8467894072564, 2174.102716281831, 2176.7306797191177, 2179.358643156405, 2184.614570030979, 2192.49846034284, 2205.6382775292755, 2213.5221678411363, 2237.17383877672, 2247.685692525868, 2250.3136559631553, 2255.5695828377293, 2255.5695828377293, 2281.8492172106, 2287.105144085174, 2302.8729247088963, 2316.0127418953316, 2331.7805225190536, 2334.408485956341, 2337.0364493936277, 2342.2923762682017, 2344.920339705489, 2376.4559009529335, 2484.2024018817024, 2484.2024018817024, 2489.458328756277, 2492.0862921935636, 2499.970182505425, 2502.598145942712, 2510.482036254573, 2513.10999969186, 2515.7379631291474, 2518.365926566434, 2526.2498168782954, 2536.7616706274434, 2549.9014878138787, 2549.9014878138787, 2552.529451251166, 2563.041305000314, 2570.925195312175, 2594.5768662477585, 2652.3920618680736, 2660.275952179935, 2662.903915617222, 2678.671696240944, 2699.6954037392406, 2760.138562796843, 2765.394489671417, 2786.418197169713, 2825.837648729019, 2849.4893196646026, 2854.7452465391766, 2873.140990600186, 2891.536734661195, 2894.1646980984824, 2928.3282227832137, 2930.956186220501, 2954.6078571560843, 2980.887491528955, 3062.3543580848536, 3086.006029020437, 3086.006029020437, 3172.7288224509093, 3196.380493386493, 3246.311798694947, 3301.4990308779747, 3346.1744093118546, 3396.105714620309, 3498.5962886745037, 3643.134277725291, 4399.987747663961], \"yaxis\": \"y\"}, {\"hovertemplate\": \"Children=1<br>Salary=%{x}<br>AmountSpent=%{y}<extra></extra>\", \"legendgroup\": \"1\", \"marker\": {\"color\": \"#EF553B\", \"symbol\": \"circle\"}, \"mode\": \"markers\", \"name\": \"1\", \"orientation\": \"v\", \"showlegend\": true, \"type\": \"scatter\", \"x\": [85600, 43700, 44100, 83100, 38600, 43500, 41700, 21700, 72200, 47000, 76200, 49600, 83300, 90500, 105300, 15600, 90400, 57600, 24400, 74700, 32400, 12900, 67300, 16300, 27400, 21100, 96400, 14800, 105300, 14600, 103700, 53700, 16400, 11900, 52900, 14300, 84800, 123600, 77800, 48700, 118300, 12500, 16900, 13600, 100100, 40900, 26700, 23600, 68700, 19300, 20200, 101700, 120800, 17300, 71200, 64000, 79900, 14500, 14600, 100800, 19800, 26100, 114100, 13400, 81800, 82100, 14200, 31300, 32700, 14500, 68200, 65900, 59700, 53900, 46300, 118600, 118300, 55900, 53400, 96900, 55800, 25900, 22000, 40200, 102500, 73700, 27000, 45100, 73000, 118500, 103900, 86100, 96300, 24000, 12100, 33400, 70000, 47900, 13300, 75800, 52600, 37000, 18400, 61400, 10100, 59100, 113300, 92300, 43500, 42500, 36900, 93500, 97300, 21900, 45100, 97400, 45000, 49900, 47600, 34200, 126300, 31600, 50100, 69900, 17800, 105500, 27100, 60300, 53900, 88700, 88600, 18900, 43300, 76700, 123000, 67600, 32400, 17700, 102400, 17800, 13800, 50500, 39900, 97500, 45500, 14400, 36900, 70900, 80800, 73600, 92900, 55900, 84100, 47200, 96300, 35800, 50000, 59900, 18400, 13600, 107400, 13300, 23200, 12500, 13700, 58600, 55900, 82200, 20300, 41300, 102400, 27900, 100000, 65800, 111900, 40400, 13200, 52200, 61000, 20100, 71600, 54500, 37200, 22900, 12800, 38700, 44100, 79200, 66500, 41000, 26200, 36700, 60200, 14800, 39500, 28200, 122700, 79700, 55600, 35100, 36500, 86400, 33200, 135700, 20700, 79900, 21300, 108100, 45200, 15500, 92400, 12900, 117700, 64100, 46500, 12400, 54200, 65400, 93700, 96500, 99600, 72600, 17200, 76800, 109600, 93000, 32000, 44700, 69700, 70500, 54200, 25300, 116100, 82700, 42400, 109800, 27600, 25100, 19100, 14400, 65800, 63500, 60400, 60100, 48800, 94200, 67800, 52600, 97600, 52300, 63800, 14900, 36700, 43100, 44800, 18400, 39100, 79000, 75200, 99300, 84900, 33200, 102700, 101700, 19400, 40500, 53600], \"xaxis\": \"x\", \"y\": [2436, 927, 704, 2766, 542, 808, 521, 774, 2082, 584, 2437, 844, 2574, 1116, 3360, 136, 2924, 1006, 220, 704, 920, 107, 1513, 470, 278, 470, 1822, 209, 3505, 143, 2339, 1081, 218, 143, 2316, 458, 1826, 1892, 1813, 1457, 2681, 202, 247, 183, 3491, 962, 459, 161, 1699, 308, 500, 2551, 5830, 381, 638, 1552, 1165, 222, 385, 1789, 991, 494, 1976, 143, 1838, 1308, 400, 357, 1276, 183, 818, 1081, 1422, 735, 1357, 1553, 2502, 2555, 886, 1420, 821, 242, 472, 881, 2464, 1274, 1012, 448, 490, 3063, 2666, 1255, 1081, 357, 90, 617, 1227, 662, 236, 1830, 1052, 632, 303, 1575, 93, 1426, 5151, 2141, 500, 798, 1480, 1426, 3048, 576, 794, 880, 902, 1631, 801, 523, 1888, 476, 1071, 2101, 216, 1781, 268, 1252, 2177, 2448, 2563, 184, 1021, 1431, 5878, 1172, 515, 268, 1237, 589, 368, 940, 586, 1280, 1624, 223, 371, 794, 1598, 647, 1705, 909, 2362, 1272, 1909, 1355, 1079, 613, 662, 349, 1821, 184, 504, 422, 163, 624, 788, 1517, 304, 932, 2466, 576, 2247, 1017, 2340, 630, 227, 669, 1611, 271, 1198, 1001, 247, 814, 365, 1009, 1659, 1905, 1181, 768, 381, 1218, 1748, 376, 412, 224, 4984, 3384, 1553, 421, 747, 1713, 1639, 2746, 550, 1041, 329, 1133, 699, 210, 2191, 167, 2104, 1332, 829, 229, 486, 2290, 1521, 1364, 871, 1999, 329, 1061, 2318, 2644, 1320, 502, 1432, 2145, 757, 451, 2975, 1753, 1166, 2258, 893, 421, 403, 390, 869, 1023, 791, 1430, 1271, 1211, 680, 1773, 2902, 2034, 1622, 422, 529, 1224, 666, 319, 1001, 2279, 2702, 1504, 3072, 320, 3785, 941, 384, 1073, 973], \"yaxis\": \"y\"}, {\"hovertemplate\": \"<b>OLS trendline</b><br>AmountSpent = 0.0236105 * Salary + -105.6<br>R<sup>2</sup>=0.611367<br><br>Children=1<br>Salary=%{x}<br>AmountSpent=%{y} <b>(trend)</b><extra></extra>\", \"legendgroup\": \"1\", \"marker\": {\"color\": \"#EF553B\", \"symbol\": \"circle\"}, \"mode\": \"lines\", \"name\": \"1\", \"showlegend\": false, \"type\": \"scatter\", \"x\": [10100, 11900, 12100, 12400, 12500, 12500, 12800, 12900, 12900, 13200, 13300, 13300, 13400, 13600, 13600, 13700, 13800, 14200, 14300, 14400, 14400, 14500, 14500, 14600, 14600, 14800, 14800, 14900, 15500, 15600, 16300, 16400, 16900, 17200, 17300, 17700, 17800, 17800, 18400, 18400, 18400, 18900, 19100, 19300, 19400, 19800, 20100, 20200, 20300, 20700, 21100, 21300, 21700, 21900, 22000, 22900, 23200, 23600, 24000, 24400, 25100, 25300, 25900, 26100, 26200, 26700, 27000, 27100, 27400, 27600, 27900, 28200, 31300, 31600, 32000, 32400, 32400, 32700, 33200, 33200, 33400, 34200, 35100, 35800, 36500, 36700, 36700, 36900, 36900, 37000, 37200, 38600, 38700, 39100, 39500, 39900, 40200, 40400, 40500, 40900, 41000, 41300, 41700, 42400, 42500, 43100, 43300, 43500, 43500, 43700, 44100, 44100, 44700, 44800, 45000, 45100, 45100, 45200, 45500, 46300, 46500, 47000, 47200, 47600, 47900, 48700, 48800, 49600, 49900, 50000, 50100, 50500, 52200, 52300, 52600, 52600, 52900, 53400, 53600, 53700, 53900, 53900, 54200, 54200, 54500, 55600, 55800, 55900, 55900, 55900, 57600, 58600, 59100, 59700, 59900, 60100, 60200, 60300, 60400, 61000, 61400, 63500, 63800, 64000, 64100, 65400, 65800, 65800, 65900, 66500, 67300, 67600, 67800, 68200, 68700, 69700, 69900, 70000, 70500, 70900, 71200, 71600, 72200, 72600, 73000, 73600, 73700, 74700, 75200, 75800, 76200, 76700, 76800, 77800, 79000, 79200, 79700, 79900, 79900, 80800, 81800, 82100, 82200, 82700, 83100, 83300, 84100, 84800, 84900, 85600, 86100, 86400, 88600, 88700, 90400, 90500, 92300, 92400, 92900, 93000, 93500, 93700, 94200, 96300, 96300, 96400, 96500, 96900, 97300, 97400, 97500, 97600, 99300, 99600, 100000, 100100, 100800, 101700, 101700, 102400, 102400, 102500, 102700, 103700, 103900, 105300, 105300, 105500, 107400, 108100, 109600, 109800, 111900, 113300, 114100, 116100, 117700, 118300, 118300, 118500, 118600, 120800, 122700, 123000, 123600, 126300, 135700], \"xaxis\": \"x\", \"y\": [132.8660409934228, 175.36485540817466, 180.08694589870265, 187.17008163449464, 189.53112687975863, 189.53112687975863, 196.61426261555062, 198.9753078608146, 198.9753078608146, 206.05844359660654, 208.41948884187053, 208.41948884187053, 210.78053408713453, 215.50262457766252, 215.50262457766252, 217.8636698229265, 220.2247150681905, 229.66889604924648, 232.02994129451048, 234.39098653977447, 234.39098653977447, 236.75203178503847, 236.75203178503847, 239.11307703030246, 239.11307703030246, 243.83516752083045, 243.83516752083045, 246.19621276609445, 260.36248423767836, 262.72352948294235, 279.2508461997903, 281.6118914450543, 293.4171176713743, 300.5002534071662, 302.8612986524302, 312.3054796334862, 314.6665248787502, 314.6665248787502, 328.83279635033415, 328.83279635033415, 328.83279635033415, 340.6380225766541, 345.3601130671821, 350.08220355771005, 352.44324880297404, 361.88742978403, 368.970565519822, 371.331610765086, 373.69265601035, 383.13683699140597, 392.58101797246195, 397.3031084629899, 406.7472894440459, 411.4693799345739, 413.8304251798379, 435.07983238721374, 442.1629681230057, 451.6071491040617, 461.0513300851177, 470.49551106617366, 487.0228277830216, 491.7449182735496, 505.9111897451336, 510.6332802356616, 512.9943254809256, 524.7995517072454, 531.8826874430374, 534.2437326883014, 541.3268684240934, 546.0489589146214, 553.1320946504134, 560.2152303862053, 633.4076329893891, 640.490768725181, 649.934949706237, 659.379130687293, 659.379130687293, 666.462266423085, 678.267492649405, 678.267492649405, 682.989583139933, 701.8779451020449, 723.1273523094208, 739.6546690262687, 756.1819857431167, 760.9040762336447, 760.9040762336447, 765.6261667241727, 765.6261667241727, 767.9872119694367, 772.7093024599646, 805.7639358936605, 808.1249811389245, 817.5691621199804, 827.0133431010364, 836.4575240820924, 843.5406598178844, 848.2627503084124, 850.6237955536764, 860.0679765347323, 862.4290217799963, 869.5121575157883, 878.9563384968443, 895.4836552136921, 897.8447004589561, 912.0109719305401, 916.7330624210681, 921.4551529115962, 921.4551529115962, 926.1772434021242, 935.6214243831802, 935.6214243831802, 949.7876958547639, 952.1487411000279, 956.8708315905559, 959.2318768358199, 959.2318768358199, 961.5929220810839, 968.6760578168759, 987.5644197789878, 992.2865102695158, 1004.0917364958358, 1008.8138269863638, 1018.2580079674198, 1025.3411437032119, 1044.2295056653238, 1046.5905509105878, 1065.4789128726998, 1072.5620486084918, 1074.9230938537557, 1077.2841390990197, 1086.7283200800757, 1126.8660892495636, 1129.2271344948276, 1136.3102702306192, 1136.3102702306192, 1143.3934059664111, 1155.198632192731, 1159.920722683259, 1162.281767928523, 1167.003858419051, 1167.003858419051, 1174.086994154843, 1174.086994154843, 1181.170129890635, 1207.141627588539, 1211.863718079067, 1214.224763324331, 1214.224763324331, 1214.224763324331, 1254.362532493819, 1277.9729849464588, 1289.7782111727788, 1303.9444826443628, 1308.6665731348908, 1313.3886636254188, 1315.7497088706828, 1318.1107541159467, 1320.4717993612107, 1334.6380708327947, 1344.0822518138507, 1393.6642019643946, 1400.7473377001866, 1405.4694281907146, 1407.8304734359785, 1438.5240616244105, 1447.9682426054665, 1447.9682426054665, 1450.3292878507305, 1464.4955593223144, 1483.3839212844264, 1490.4670570202184, 1495.1891475107464, 1504.6333284918023, 1516.4385547181218, 1540.0490071707618, 1544.7710976612898, 1547.1321429065538, 1558.9373691328738, 1568.3815501139297, 1575.4646858497217, 1584.9088668307777, 1599.0751383023617, 1608.5193192834176, 1617.9635002644736, 1632.1297717360576, 1634.4908169813216, 1658.1012694339615, 1669.9064956602815, 1684.0727671318655, 1693.5169481129215, 1705.3221743392414, 1707.6832195845054, 1731.2936720371454, 1759.6262149803133, 1764.3483054708413, 1776.1535316971613, 1780.8756221876893, 1780.8756221876893, 1802.1250293950652, 1825.7354818477052, 1832.8186175834971, 1835.1796628287611, 1846.984889055081, 1856.429070036137, 1861.151160526665, 1880.039522488777, 1896.5668392056245, 1898.9278844508885, 1915.4552011677365, 1927.2604273940565, 1934.3435631298485, 1986.2865585256568, 1988.6476037709208, 2028.7853729404083, 2031.1464181856722, 2073.645232600424, 2076.006277845688, 2087.811504072008, 2090.172549317272, 2101.977775543592, 2106.69986603412, 2118.50509226044, 2168.087042410984, 2168.087042410984, 2170.448087656248, 2172.809132901512, 2182.253313882568, 2191.697494863624, 2194.058540108888, 2196.419585354152, 2198.780630599416, 2238.918399768904, 2246.0015355046958, 2255.4457164857517, 2257.8067617310157, 2274.3340784478637, 2295.5834856552397, 2295.5834856552397, 2312.1108023720876, 2312.1108023720876, 2314.4718476173516, 2319.1939381078796, 2342.8043905605196, 2347.5264810510475, 2380.581114484743, 2380.581114484743, 2385.303204975271, 2430.163064635287, 2446.690381352135, 2482.106060031095, 2486.828150521623, 2536.4101006721667, 2569.4647341058626, 2588.3530960679745, 2635.5740009732544, 2673.3507248974784, 2687.5169963690623, 2687.5169963690623, 2692.2390868595903, 2694.6001321048543, 2746.543127500662, 2791.4029871606776, 2798.4861228964696, 2812.6523943680536, 2876.4006159901814, 3098.338869044997], \"yaxis\": \"y\"}, {\"hovertemplate\": \"Children=3<br>Salary=%{x}<br>AmountSpent=%{y}<extra></extra>\", \"legendgroup\": \"3\", \"marker\": {\"color\": \"#00cc96\", \"symbol\": \"circle\"}, \"mode\": \"markers\", \"name\": \"3\", \"orientation\": \"v\", \"showlegend\": true, \"type\": \"scatter\", \"x\": [51900, 111800, 92300, 62800, 87700, 64000, 96800, 56000, 15000, 60600, 110400, 21700, 90700, 104900, 66800, 13800, 14800, 45400, 21400, 53700, 10800, 81700, 11400, 34300, 41400, 39700, 39000, 113400, 72900, 80700, 61500, 109200, 29600, 53600, 23200, 120000, 54400, 12700, 96100, 108200, 67300, 50600, 27800, 130700, 41500, 48900, 124800, 53300, 23000, 41800, 65300, 10200, 14600, 35600, 11500, 49200, 108100, 43300, 62500, 56300, 63700, 79400, 62200, 66500, 14600, 140700, 42000, 95800, 50700, 17900, 84700, 100600, 71200, 29600, 64300, 27500, 60500, 106100, 62800, 97400, 60200, 31200, 55500, 65400, 63300, 12500, 43300, 12400, 82400, 131500, 55500, 14100, 22600, 72200, 42000, 41600, 43000, 13000, 27200, 76600, 77600, 95800, 32600, 79900, 118000, 88600, 46600, 64400, 46300, 99200, 84100, 102700, 105600, 31500, 67900, 29200, 28400, 72200, 20000, 102500, 40700, 25300, 108000, 93000, 33000], \"xaxis\": \"x\", \"y\": [158, 2065, 655, 707, 2446, 410, 3082, 530, 38, 307, 1093, 708, 2265, 450, 2098, 127, 436, 1203, 326, 235, 123, 879, 312, 1297, 223, 238, 292, 1790, 252, 202, 1162, 1102, 774, 1560, 770, 1926, 342, 87, 316, 635, 1212, 713, 408, 2070, 1314, 915, 2537, 508, 79, 301, 193, 199, 307, 865, 157, 210, 2632, 326, 921, 321, 364, 200, 2119, 286, 47, 1001, 232, 678, 157, 62, 2705, 2838, 392, 583, 239, 571, 340, 472, 177, 213, 1364, 1087, 427, 836, 1408, 206, 716, 205, 2122, 2840, 216, 153, 521, 1811, 105, 1634, 225, 43, 243, 2904, 858, 2581, 172, 295, 581, 212, 158, 1913, 1138, 2796, 1352, 1473, 304, 269, 356, 636, 182, 1042, 182, 548, 232, 510, 1849, 1046, 700], \"yaxis\": \"y\"}, {\"hovertemplate\": \"<b>OLS trendline</b><br>AmountSpent = 0.013618 * Salary + 14.4705<br>R<sup>2</sup>=0.316359<br><br>Children=3<br>Salary=%{x}<br>AmountSpent=%{y} <b>(trend)</b><extra></extra>\", \"legendgroup\": \"3\", \"marker\": {\"color\": \"#00cc96\", \"symbol\": \"circle\"}, \"mode\": \"lines\", \"name\": \"3\", \"showlegend\": false, \"type\": \"scatter\", \"x\": [10200, 10800, 11400, 11500, 12400, 12500, 12700, 13000, 13800, 14100, 14600, 14600, 14800, 15000, 17900, 20000, 21400, 21700, 22600, 23000, 23200, 25300, 27200, 27500, 27800, 28400, 29200, 29600, 29600, 31200, 31500, 32600, 33000, 34300, 35600, 39000, 39700, 40700, 41400, 41500, 41600, 41800, 42000, 42000, 43000, 43300, 43300, 45400, 46300, 46600, 48900, 49200, 50600, 50700, 51900, 53300, 53600, 53700, 54400, 55500, 55500, 56000, 56300, 60200, 60500, 60600, 61500, 62200, 62500, 62800, 62800, 63300, 63700, 64000, 64300, 64400, 65300, 65400, 66500, 66800, 67300, 67900, 71200, 72200, 72200, 72900, 76600, 77600, 79400, 79900, 80700, 81700, 82400, 84100, 84700, 87700, 88600, 90700, 92300, 93000, 95800, 95800, 96100, 96800, 97400, 99200, 100600, 102500, 102700, 104900, 105600, 106100, 108000, 108100, 108200, 109200, 110400, 111800, 113400, 118000, 120000, 124800, 130700, 131500, 140700], \"xaxis\": \"x\", \"y\": [153.37461041227584, 161.54543880040632, 169.7162671885368, 171.07807191989184, 183.33431450208758, 184.69611923344263, 187.4197286961528, 191.50514289021805, 202.39958074105868, 206.4849949351239, 213.29401859189932, 213.29401859189932, 216.01762805460947, 218.74123751731963, 258.23357472661695, 286.83147408507364, 305.89674032404474, 309.98215451810995, 322.2383971003057, 327.685616025726, 330.40922548843616, 359.00712484689285, 384.8814147426393, 388.9668289367046, 393.0522431307698, 401.22307151890027, 412.1175093697409, 417.5647282951612, 417.5647282951612, 439.35360399684254, 443.43901819090775, 458.41887023581364, 463.86608916123396, 481.56955066884996, 499.273012176466, 545.5743730425387, 555.1070061620243, 568.725053475575, 578.2576865950606, 579.6194913264156, 580.9812960577708, 583.7049055204809, 586.4285149831911, 586.4285149831911, 600.0465622967419, 604.1319764908071, 604.1319764908071, 632.7298758492637, 644.9861184314595, 649.0715326255247, 680.3930414466915, 684.4784556407568, 703.543721879728, 704.905526611083, 721.247183387344, 740.312449626315, 744.3978638203803, 745.7596685517353, 755.2923016712209, 770.2721537161268, 770.2721537161268, 777.0811773729022, 781.1665915669674, 834.2769760898155, 838.3623902838808, 839.7241950152359, 851.9804375974315, 861.5130707169171, 865.5984849109824, 869.6838991050477, 869.6838991050477, 876.492922761823, 881.9401416872433, 886.0255558813086, 890.1109700753738, 891.4727748067289, 903.7290173889246, 905.0908221202797, 920.0706741651856, 924.1560883592508, 930.9651120160262, 939.1359404041566, 984.0754965388743, 997.693543852425, 997.693543852425, 1007.2261769719106, 1057.6129520320485, 1071.2309993455995, 1095.7434845099908, 1102.552508166766, 1113.446946017607, 1127.0649933311577, 1136.5976264506432, 1159.7483068836796, 1167.91913527181, 1208.7732772124623, 1221.0295197946582, 1249.6274191531147, 1271.416294854796, 1280.9489279742816, 1319.0794604522239, 1319.0794604522239, 1323.164874646289, 1332.6975077657746, 1340.8683361539051, 1365.3808213182965, 1384.4460875572677, 1410.320377453014, 1413.0439869157242, 1443.003691005536, 1452.5363241250216, 1459.345347781797, 1485.2196376775435, 1486.5814424088985, 1487.9432471402536, 1501.5612944538045, 1517.9029512300654, 1536.9682174690365, 1558.7570931707178, 1621.4001108130515, 1648.636205440153, 1714.002832545197, 1794.3493116951465, 1805.2437495459872, 1930.5297848306545], \"yaxis\": \"y\"}, {\"hovertemplate\": \"Children=2<br>Salary=%{x}<br>AmountSpent=%{y}<extra></extra>\", \"legendgroup\": \"2\", \"marker\": {\"color\": \"#ab63fa\", \"symbol\": \"circle\"}, \"mode\": \"markers\", \"name\": \"2\", \"orientation\": \"v\", \"showlegend\": true, \"type\": \"scatter\", \"x\": [14300, 66900, 27000, 64100, 126500, 62700, 25900, 84300, 22100, 48800, 48700, 33600, 87100, 52700, 79600, 46600, 113000, 63300, 93400, 49100, 113600, 59600, 27100, 91000, 10200, 11400, 20300, 56700, 82400, 107600, 109900, 65400, 102800, 106700, 25500, 25600, 63500, 96700, 16700, 40900, 69700, 10200, 63300, 33200, 80800, 88100, 82400, 66300, 96300, 53700, 108300, 40500, 34600, 76400, 19700, 118400, 21900, 44600, 23200, 23100, 32700, 25700, 60500, 72200, 46100, 35200, 70400, 11000, 81400, 56900, 95100, 119800, 76700, 61500, 16900, 18800, 26600, 15000, 15800, 21600, 12600, 83100, 88700, 68900, 22200, 18200, 77100, 19800, 13500, 38400, 21700, 64800, 13700, 43900, 97600, 10600, 27200, 49700, 82300, 51900, 85500, 64600, 52600, 37800, 20300, 58600, 17600, 55100, 107300, 21900, 37100, 74600, 14200, 45900, 24000, 23100, 68500, 83500, 84200, 65800, 107300, 117500, 12700, 74500, 40600, 10600, 48100, 61300, 59100, 49500, 64300, 83000, 40200, 88500, 76900, 52800, 100100, 87400, 88000, 36400, 83600, 36900, 96800, 32100, 123800, 79000], \"xaxis\": \"x\", \"y\": [194, 769, 183, 1595, 2000, 704, 449, 1648, 280, 1647, 528, 805, 1688, 855, 1575, 1153, 1554, 633, 3079, 474, 3237, 1217, 437, 708, 213, 186, 450, 536, 2035, 1512, 870, 938, 2238, 607, 139, 426, 2321, 1231, 108, 576, 584, 333, 679, 607, 2444, 1078, 657, 544, 3916, 1194, 2224, 622, 748, 881, 330, 3941, 192, 236, 788, 466, 273, 173, 409, 715, 418, 233, 1127, 393, 1014, 687, 809, 2090, 534, 968, 281, 170, 245, 341, 147, 491, 164, 586, 2693, 2784, 275, 322, 568, 209, 160, 188, 387, 574, 414, 358, 1162, 114, 446, 613, 580, 1162, 895, 2935, 1307, 1185, 180, 989, 163, 826, 1194, 486, 653, 705, 197, 416, 362, 457, 1500, 2098, 954, 578, 1566, 927, 65, 824, 690, 517, 961, 1241, 580, 1195, 661, 726, 1197, 1104, 3230, 926, 1597, 2729, 524, 506, 538, 514, 2299, 405, 3537, 671], \"yaxis\": \"y\"}, {\"hovertemplate\": \"<b>OLS trendline</b><br>AmountSpent = 0.0176579 * Salary + -57.8948<br>R<sup>2</sup>=0.455707<br><br>Children=2<br>Salary=%{x}<br>AmountSpent=%{y} <b>(trend)</b><extra></extra>\", \"legendgroup\": \"2\", \"marker\": {\"color\": \"#ab63fa\", \"symbol\": \"circle\"}, \"mode\": \"lines\", \"name\": \"2\", \"showlegend\": false, \"type\": \"scatter\", \"x\": [10200, 10200, 10600, 10600, 11000, 11400, 12600, 12700, 13500, 13700, 14200, 14300, 15000, 15800, 16700, 16900, 17600, 18200, 18800, 19700, 19800, 20300, 20300, 21600, 21700, 21900, 21900, 22100, 22200, 23100, 23100, 23200, 24000, 25500, 25600, 25700, 25900, 26600, 27000, 27100, 27200, 32100, 32700, 33200, 33600, 34600, 35200, 36400, 36900, 37100, 37800, 38400, 40200, 40500, 40600, 40900, 43900, 44600, 45900, 46100, 46600, 48100, 48700, 48800, 49100, 49500, 49700, 51900, 52600, 52700, 52800, 53700, 55100, 56700, 56900, 58600, 59100, 59600, 60500, 61300, 61500, 62700, 63300, 63300, 63500, 64100, 64300, 64600, 64800, 65400, 65800, 66300, 66900, 68500, 68900, 69700, 70400, 72200, 74500, 74600, 76400, 76700, 76900, 77100, 79000, 79600, 80800, 81400, 82300, 82400, 82400, 83000, 83100, 83500, 83600, 84200, 84300, 85500, 87100, 87400, 88000, 88100, 88500, 88700, 91000, 93400, 95100, 96300, 96700, 96800, 97600, 100100, 102800, 106700, 107300, 107300, 107600, 108300, 109900, 113000, 113600, 117500, 118400, 119800, 123800, 126500], \"xaxis\": \"x\", \"y\": [122.21618502083652, 122.21618502083652, 129.2793628326488, 129.2793628326488, 136.34254064446108, 143.40571845627335, 164.59525189171018, 166.36104634466324, 180.4874019682878, 184.01899087419395, 192.8479631389593, 194.61375759191236, 206.97431876258383, 221.10067438620842, 236.99282446278602, 240.5244133686922, 252.88497453936367, 263.4797412570821, 274.0745079748005, 289.9666580513781, 291.7324525043312, 300.56142476909656, 300.56142476909656, 323.51675265748645, 325.2825471104395, 328.8141360163456, 328.8141360163456, 332.3457249222518, 334.11151937520486, 350.00366945178246, 350.00366945178246, 351.7694639047356, 365.8958195283601, 392.38273632265617, 394.14853077560923, 395.9143252285623, 399.4459141344684, 411.80647530513994, 418.8696531169522, 420.63544756990524, 422.40124202285836, 508.92517021755873, 519.5199369352772, 528.3489092000425, 535.4120870118547, 553.0700315413854, 563.6647982591039, 584.8543316945407, 593.683303959306, 597.2148928652122, 609.5754540358837, 620.1702207536022, 651.9545209067574, 657.2519042656165, 659.0176987185697, 664.3150820774289, 717.2889156660209, 729.6494768366924, 752.6048047250823, 756.1363936309884, 764.9653658957538, 791.4522826900499, 802.0470494077683, 803.8128438607214, 809.1102272195806, 816.1734050313928, 819.7049939372989, 858.5524719022665, 870.913033072938, 872.678827525891, 874.4446219788441, 890.3367720554218, 915.0578943967647, 943.3106056440139, 946.84219454992, 976.8607002501222, 985.6896725148875, 994.5186447796528, 1010.4107948562304, 1024.537150479855, 1028.068739385761, 1049.2582728211978, 1059.8530395389164, 1059.8530395389164, 1063.3846284448225, 1073.9793951625409, 1077.510984068447, 1082.8083674273062, 1086.3399563332123, 1096.9347230509309, 1103.997900862743, 1112.8268731275084, 1123.4216398452268, 1151.674351092476, 1158.7375289042882, 1172.863884527913, 1185.2244456985843, 1217.0087458517396, 1257.6220182696602, 1259.3878127226133, 1291.1721128757683, 1296.4694962346277, 1300.0010851405339, 1303.53267404644, 1337.0827686525483, 1347.6775353702667, 1368.8670688057034, 1379.461835523422, 1395.3539855999995, 1397.1197800529526, 1397.1197800529526, 1407.714546770671, 1409.480341223624, 1416.5435190354365, 1418.3093134883895, 1428.904080206108, 1430.669874659061, 1451.8594080944977, 1480.1121193417468, 1485.409502700606, 1496.0042694183246, 1497.7700638712777, 1504.83324168309, 1508.364830588996, 1548.9781030069166, 1591.3571698777903, 1621.3756755779925, 1642.5652090134292, 1649.6283868252415, 1651.3941812781945, 1665.5205369018192, 1709.665398225646, 1757.3418484553788, 1826.2078321205486, 1836.802598838267, 1836.802598838267, 1842.099982197126, 1854.4605433677975, 1882.7132546150467, 1937.4528826565918, 1948.0476493743104, 2016.91363303948, 2032.8057831160577, 2057.5269054574005, 2128.1586835755234, 2175.835133805256], \"yaxis\": \"y\"}],                        {\"legend\": {\"title\": {\"text\": \"Children\"}, \"tracegroupgap\": 0}, \"margin\": {\"t\": 60}, \"template\": {\"data\": {\"bar\": [{\"error_x\": {\"color\": \"#2a3f5f\"}, \"error_y\": {\"color\": \"#2a3f5f\"}, \"marker\": {\"line\": {\"color\": \"#E5ECF6\", \"width\": 0.5}}, \"type\": \"bar\"}], \"barpolar\": [{\"marker\": {\"line\": {\"color\": \"#E5ECF6\", \"width\": 0.5}}, \"type\": \"barpolar\"}], \"carpet\": [{\"aaxis\": {\"endlinecolor\": \"#2a3f5f\", \"gridcolor\": \"white\", \"linecolor\": \"white\", \"minorgridcolor\": \"white\", \"startlinecolor\": \"#2a3f5f\"}, \"baxis\": {\"endlinecolor\": \"#2a3f5f\", \"gridcolor\": \"white\", \"linecolor\": \"white\", \"minorgridcolor\": \"white\", \"startlinecolor\": \"#2a3f5f\"}, \"type\": \"carpet\"}], \"choropleth\": [{\"colorbar\": {\"outlinewidth\": 0, \"ticks\": \"\"}, \"type\": \"choropleth\"}], \"contour\": [{\"colorbar\": {\"outlinewidth\": 0, \"ticks\": \"\"}, \"colorscale\": [[0.0, \"#0d0887\"], [0.1111111111111111, \"#46039f\"], [0.2222222222222222, \"#7201a8\"], [0.3333333333333333, \"#9c179e\"], [0.4444444444444444, \"#bd3786\"], [0.5555555555555556, \"#d8576b\"], [0.6666666666666666, \"#ed7953\"], [0.7777777777777778, \"#fb9f3a\"], [0.8888888888888888, \"#fdca26\"], [1.0, \"#f0f921\"]], \"type\": \"contour\"}], \"contourcarpet\": [{\"colorbar\": {\"outlinewidth\": 0, \"ticks\": \"\"}, \"type\": \"contourcarpet\"}], \"heatmap\": [{\"colorbar\": {\"outlinewidth\": 0, \"ticks\": \"\"}, \"colorscale\": [[0.0, \"#0d0887\"], [0.1111111111111111, \"#46039f\"], [0.2222222222222222, \"#7201a8\"], [0.3333333333333333, \"#9c179e\"], [0.4444444444444444, \"#bd3786\"], [0.5555555555555556, \"#d8576b\"], [0.6666666666666666, \"#ed7953\"], [0.7777777777777778, \"#fb9f3a\"], [0.8888888888888888, \"#fdca26\"], [1.0, \"#f0f921\"]], \"type\": \"heatmap\"}], \"heatmapgl\": [{\"colorbar\": {\"outlinewidth\": 0, \"ticks\": \"\"}, \"colorscale\": [[0.0, \"#0d0887\"], [0.1111111111111111, \"#46039f\"], [0.2222222222222222, \"#7201a8\"], [0.3333333333333333, \"#9c179e\"], [0.4444444444444444, \"#bd3786\"], [0.5555555555555556, \"#d8576b\"], [0.6666666666666666, \"#ed7953\"], [0.7777777777777778, \"#fb9f3a\"], [0.8888888888888888, \"#fdca26\"], [1.0, \"#f0f921\"]], \"type\": \"heatmapgl\"}], \"histogram\": [{\"marker\": {\"colorbar\": {\"outlinewidth\": 0, \"ticks\": \"\"}}, \"type\": \"histogram\"}], \"histogram2d\": [{\"colorbar\": {\"outlinewidth\": 0, \"ticks\": \"\"}, \"colorscale\": [[0.0, \"#0d0887\"], [0.1111111111111111, \"#46039f\"], [0.2222222222222222, \"#7201a8\"], [0.3333333333333333, \"#9c179e\"], [0.4444444444444444, \"#bd3786\"], [0.5555555555555556, \"#d8576b\"], [0.6666666666666666, \"#ed7953\"], [0.7777777777777778, \"#fb9f3a\"], [0.8888888888888888, \"#fdca26\"], [1.0, \"#f0f921\"]], \"type\": \"histogram2d\"}], \"histogram2dcontour\": [{\"colorbar\": {\"outlinewidth\": 0, \"ticks\": \"\"}, \"colorscale\": [[0.0, \"#0d0887\"], [0.1111111111111111, \"#46039f\"], [0.2222222222222222, \"#7201a8\"], [0.3333333333333333, \"#9c179e\"], [0.4444444444444444, \"#bd3786\"], [0.5555555555555556, \"#d8576b\"], [0.6666666666666666, \"#ed7953\"], [0.7777777777777778, \"#fb9f3a\"], [0.8888888888888888, \"#fdca26\"], [1.0, \"#f0f921\"]], \"type\": \"histogram2dcontour\"}], \"mesh3d\": [{\"colorbar\": {\"outlinewidth\": 0, \"ticks\": \"\"}, \"type\": \"mesh3d\"}], \"parcoords\": [{\"line\": {\"colorbar\": {\"outlinewidth\": 0, \"ticks\": \"\"}}, \"type\": \"parcoords\"}], \"pie\": [{\"automargin\": true, \"type\": \"pie\"}], \"scatter\": [{\"marker\": {\"colorbar\": {\"outlinewidth\": 0, \"ticks\": \"\"}}, \"type\": \"scatter\"}], \"scatter3d\": [{\"line\": {\"colorbar\": {\"outlinewidth\": 0, \"ticks\": \"\"}}, \"marker\": {\"colorbar\": {\"outlinewidth\": 0, \"ticks\": \"\"}}, \"type\": \"scatter3d\"}], \"scattercarpet\": [{\"marker\": {\"colorbar\": {\"outlinewidth\": 0, \"ticks\": \"\"}}, \"type\": \"scattercarpet\"}], \"scattergeo\": [{\"marker\": {\"colorbar\": {\"outlinewidth\": 0, \"ticks\": \"\"}}, \"type\": \"scattergeo\"}], \"scattergl\": [{\"marker\": {\"colorbar\": {\"outlinewidth\": 0, \"ticks\": \"\"}}, \"type\": \"scattergl\"}], \"scattermapbox\": [{\"marker\": {\"colorbar\": {\"outlinewidth\": 0, \"ticks\": \"\"}}, \"type\": \"scattermapbox\"}], \"scatterpolar\": [{\"marker\": {\"colorbar\": {\"outlinewidth\": 0, \"ticks\": \"\"}}, \"type\": \"scatterpolar\"}], \"scatterpolargl\": [{\"marker\": {\"colorbar\": {\"outlinewidth\": 0, \"ticks\": \"\"}}, \"type\": \"scatterpolargl\"}], \"scatterternary\": [{\"marker\": {\"colorbar\": {\"outlinewidth\": 0, \"ticks\": \"\"}}, \"type\": \"scatterternary\"}], \"surface\": [{\"colorbar\": {\"outlinewidth\": 0, \"ticks\": \"\"}, \"colorscale\": [[0.0, \"#0d0887\"], [0.1111111111111111, \"#46039f\"], [0.2222222222222222, \"#7201a8\"], [0.3333333333333333, \"#9c179e\"], [0.4444444444444444, \"#bd3786\"], [0.5555555555555556, \"#d8576b\"], [0.6666666666666666, \"#ed7953\"], [0.7777777777777778, \"#fb9f3a\"], [0.8888888888888888, \"#fdca26\"], [1.0, \"#f0f921\"]], \"type\": \"surface\"}], \"table\": [{\"cells\": {\"fill\": {\"color\": \"#EBF0F8\"}, \"line\": {\"color\": \"white\"}}, \"header\": {\"fill\": {\"color\": \"#C8D4E3\"}, \"line\": {\"color\": \"white\"}}, \"type\": \"table\"}]}, \"layout\": {\"annotationdefaults\": {\"arrowcolor\": \"#2a3f5f\", \"arrowhead\": 0, \"arrowwidth\": 1}, \"coloraxis\": {\"colorbar\": {\"outlinewidth\": 0, \"ticks\": \"\"}}, \"colorscale\": {\"diverging\": [[0, \"#8e0152\"], [0.1, \"#c51b7d\"], [0.2, \"#de77ae\"], [0.3, \"#f1b6da\"], [0.4, \"#fde0ef\"], [0.5, \"#f7f7f7\"], [0.6, \"#e6f5d0\"], [0.7, \"#b8e186\"], [0.8, \"#7fbc41\"], [0.9, \"#4d9221\"], [1, \"#276419\"]], \"sequential\": [[0.0, \"#0d0887\"], [0.1111111111111111, \"#46039f\"], [0.2222222222222222, \"#7201a8\"], [0.3333333333333333, \"#9c179e\"], [0.4444444444444444, \"#bd3786\"], [0.5555555555555556, \"#d8576b\"], [0.6666666666666666, \"#ed7953\"], [0.7777777777777778, \"#fb9f3a\"], [0.8888888888888888, \"#fdca26\"], [1.0, \"#f0f921\"]], \"sequentialminus\": [[0.0, \"#0d0887\"], [0.1111111111111111, \"#46039f\"], [0.2222222222222222, \"#7201a8\"], [0.3333333333333333, \"#9c179e\"], [0.4444444444444444, \"#bd3786\"], [0.5555555555555556, \"#d8576b\"], [0.6666666666666666, \"#ed7953\"], [0.7777777777777778, \"#fb9f3a\"], [0.8888888888888888, \"#fdca26\"], [1.0, \"#f0f921\"]]}, \"colorway\": [\"#636efa\", \"#EF553B\", \"#00cc96\", \"#ab63fa\", \"#FFA15A\", \"#19d3f3\", \"#FF6692\", \"#B6E880\", \"#FF97FF\", \"#FECB52\"], \"font\": {\"color\": \"#2a3f5f\"}, \"geo\": {\"bgcolor\": \"white\", \"lakecolor\": \"white\", \"landcolor\": \"#E5ECF6\", \"showlakes\": true, \"showland\": true, \"subunitcolor\": \"white\"}, \"hoverlabel\": {\"align\": \"left\"}, \"hovermode\": \"closest\", \"mapbox\": {\"style\": \"light\"}, \"paper_bgcolor\": \"white\", \"plot_bgcolor\": \"#E5ECF6\", \"polar\": {\"angularaxis\": {\"gridcolor\": \"white\", \"linecolor\": \"white\", \"ticks\": \"\"}, \"bgcolor\": \"#E5ECF6\", \"radialaxis\": {\"gridcolor\": \"white\", \"linecolor\": \"white\", \"ticks\": \"\"}}, \"scene\": {\"xaxis\": {\"backgroundcolor\": \"#E5ECF6\", \"gridcolor\": \"white\", \"gridwidth\": 2, \"linecolor\": \"white\", \"showbackground\": true, \"ticks\": \"\", \"zerolinecolor\": \"white\"}, \"yaxis\": {\"backgroundcolor\": \"#E5ECF6\", \"gridcolor\": \"white\", \"gridwidth\": 2, \"linecolor\": \"white\", \"showbackground\": true, \"ticks\": \"\", \"zerolinecolor\": \"white\"}, \"zaxis\": {\"backgroundcolor\": \"#E5ECF6\", \"gridcolor\": \"white\", \"gridwidth\": 2, \"linecolor\": \"white\", \"showbackground\": true, \"ticks\": \"\", \"zerolinecolor\": \"white\"}}, \"shapedefaults\": {\"line\": {\"color\": \"#2a3f5f\"}}, \"ternary\": {\"aaxis\": {\"gridcolor\": \"white\", \"linecolor\": \"white\", \"ticks\": \"\"}, \"baxis\": {\"gridcolor\": \"white\", \"linecolor\": \"white\", \"ticks\": \"\"}, \"bgcolor\": \"#E5ECF6\", \"caxis\": {\"gridcolor\": \"white\", \"linecolor\": \"white\", \"ticks\": \"\"}}, \"title\": {\"x\": 0.05}, \"xaxis\": {\"automargin\": true, \"gridcolor\": \"white\", \"linecolor\": \"white\", \"ticks\": \"\", \"title\": {\"standoff\": 15}, \"zerolinecolor\": \"white\", \"zerolinewidth\": 2}, \"yaxis\": {\"automargin\": true, \"gridcolor\": \"white\", \"linecolor\": \"white\", \"ticks\": \"\", \"title\": {\"standoff\": 15}, \"zerolinecolor\": \"white\", \"zerolinewidth\": 2}}}, \"title\": {\"text\": \"Children With Salary Vs Amount Spent \", \"x\": 0.5}, \"xaxis\": {\"anchor\": \"y\", \"domain\": [0.0, 1.0], \"title\": {\"text\": \"Salary\"}}, \"yaxis\": {\"anchor\": \"x\", \"domain\": [0.0, 1.0], \"title\": {\"text\": \"Amount Spent\"}}},                        {\"responsive\": true}                    ).then(function(){\n",
       "                            \n",
       "var gd = document.getElementById('a1c7551b-6058-4ded-870a-e306346b1182');\n",
       "var x = new MutationObserver(function (mutations, observer) {{\n",
       "        var display = window.getComputedStyle(gd).display;\n",
       "        if (!display || display === 'none') {{\n",
       "            console.log([gd, 'removed!']);\n",
       "            Plotly.purge(gd);\n",
       "            observer.disconnect();\n",
       "        }}\n",
       "}});\n",
       "\n",
       "// Listen for the removal of the full notebook cells\n",
       "var notebookContainer = gd.closest('#notebook-container');\n",
       "if (notebookContainer) {{\n",
       "    x.observe(notebookContainer, {childList: true});\n",
       "}}\n",
       "\n",
       "// Listen for the clearing of the current output cell\n",
       "var outputEl = gd.closest('.output');\n",
       "if (outputEl) {{\n",
       "    x.observe(outputEl, {childList: true});\n",
       "}}\n",
       "\n",
       "                        })                };                });            </script>        </div>"
      ]
     },
     "metadata": {},
     "output_type": "display_data"
    }
   ],
   "source": [
    "# Scatter plot - Category\n",
    "df['Children']=df['Children'].astype('object')\n",
    "fig = px.scatter(df, x='Salary', y='AmountSpent',trendline=\"ols\",\n",
    "                 color='Children') # Added color to basic scatter\n",
    "fig.update_layout(title='Children With Salary Vs Amount Spent ',xaxis_title=\"Salary\",yaxis_title=\"Amount Spent\",title_x=0.5)\n",
    "fig.show()"
   ]
  },
  {
   "cell_type": "markdown",
   "metadata": {
    "papermill": {
     "duration": 0.222669,
     "end_time": "2020-12-10T12:48:25.221213",
     "exception": false,
     "start_time": "2020-12-10T12:48:24.998544",
     "status": "completed"
    },
    "tags": []
   },
   "source": [
    "## Summary\n",
    "* 46 percent of customers don't have Children\n",
    "* Although customers' incomes were close, there was a decrease in spending as the number of children increased"
   ]
  },
  {
   "cell_type": "markdown",
   "metadata": {
    "papermill": {
     "duration": 0.221639,
     "end_time": "2020-12-10T12:48:25.664763",
     "exception": false,
     "start_time": "2020-12-10T12:48:25.443124",
     "status": "completed"
    },
    "tags": []
   },
   "source": [
    "## <a id='14'> 4.7 History </a>\n",
    "* How is the History distribution ?"
   ]
  },
  {
   "cell_type": "code",
   "execution_count": 53,
   "metadata": {
    "execution": {
     "iopub.execute_input": "2020-12-10T12:48:26.125216Z",
     "iopub.status.busy": "2020-12-10T12:48:26.124179Z",
     "iopub.status.idle": "2020-12-10T12:48:26.129148Z",
     "shell.execute_reply": "2020-12-10T12:48:26.128385Z"
    },
    "papermill": {
     "duration": 0.242768,
     "end_time": "2020-12-10T12:48:26.129271",
     "exception": false,
     "start_time": "2020-12-10T12:48:25.886503",
     "status": "completed"
    },
    "tags": []
   },
   "outputs": [
    {
     "data": {
      "text/html": [
       "<div>\n",
       "<style scoped>\n",
       "    .dataframe tbody tr th:only-of-type {\n",
       "        vertical-align: middle;\n",
       "    }\n",
       "\n",
       "    .dataframe tbody tr th {\n",
       "        vertical-align: top;\n",
       "    }\n",
       "\n",
       "    .dataframe thead th {\n",
       "        text-align: right;\n",
       "    }\n",
       "</style>\n",
       "<table border=\"1\" class=\"dataframe\">\n",
       "  <thead>\n",
       "    <tr style=\"text-align: right;\">\n",
       "      <th></th>\n",
       "      <th>History</th>\n",
       "      <th>count</th>\n",
       "    </tr>\n",
       "  </thead>\n",
       "  <tbody>\n",
       "    <tr>\n",
       "      <th>0</th>\n",
       "      <td>High</td>\n",
       "      <td>255</td>\n",
       "    </tr>\n",
       "    <tr>\n",
       "      <th>1</th>\n",
       "      <td>Low</td>\n",
       "      <td>230</td>\n",
       "    </tr>\n",
       "    <tr>\n",
       "      <th>2</th>\n",
       "      <td>Medium</td>\n",
       "      <td>212</td>\n",
       "    </tr>\n",
       "  </tbody>\n",
       "</table>\n",
       "</div>"
      ],
      "text/plain": [
       "  History  count\n",
       "0    High    255\n",
       "1     Low    230\n",
       "2  Medium    212"
      ]
     },
     "execution_count": 53,
     "metadata": {},
     "output_type": "execute_result"
    }
   ],
   "source": [
    "df_missing=df.copy()\n",
    "df_History=df_missing['History'].value_counts().to_frame().reset_index().rename(columns={'index':'History','History':'count'})\n",
    "df_History"
   ]
  },
  {
   "cell_type": "code",
   "execution_count": 54,
   "metadata": {
    "execution": {
     "iopub.execute_input": "2020-12-10T12:48:26.582370Z",
     "iopub.status.busy": "2020-12-10T12:48:26.581280Z",
     "iopub.status.idle": "2020-12-10T12:48:26.584680Z",
     "shell.execute_reply": "2020-12-10T12:48:26.584042Z"
    },
    "papermill": {
     "duration": 0.232153,
     "end_time": "2020-12-10T12:48:26.584815",
     "exception": false,
     "start_time": "2020-12-10T12:48:26.352662",
     "status": "completed"
    },
    "tags": []
   },
   "outputs": [],
   "source": [
    "df_missing[\"History\"]=df_missing[\"History\"].fillna(\"None\")"
   ]
  },
  {
   "cell_type": "code",
   "execution_count": 55,
   "metadata": {
    "execution": {
     "iopub.execute_input": "2020-12-10T12:48:27.060368Z",
     "iopub.status.busy": "2020-12-10T12:48:27.059199Z",
     "iopub.status.idle": "2020-12-10T12:48:27.064990Z",
     "shell.execute_reply": "2020-12-10T12:48:27.064044Z"
    },
    "papermill": {
     "duration": 0.257882,
     "end_time": "2020-12-10T12:48:27.065170",
     "exception": false,
     "start_time": "2020-12-10T12:48:26.807288",
     "status": "completed"
    },
    "tags": []
   },
   "outputs": [
    {
     "data": {
      "text/html": [
       "<div>\n",
       "<style scoped>\n",
       "    .dataframe tbody tr th:only-of-type {\n",
       "        vertical-align: middle;\n",
       "    }\n",
       "\n",
       "    .dataframe tbody tr th {\n",
       "        vertical-align: top;\n",
       "    }\n",
       "\n",
       "    .dataframe thead th {\n",
       "        text-align: right;\n",
       "    }\n",
       "</style>\n",
       "<table border=\"1\" class=\"dataframe\">\n",
       "  <thead>\n",
       "    <tr style=\"text-align: right;\">\n",
       "      <th></th>\n",
       "      <th>History</th>\n",
       "      <th>count</th>\n",
       "    </tr>\n",
       "  </thead>\n",
       "  <tbody>\n",
       "    <tr>\n",
       "      <th>0</th>\n",
       "      <td>None</td>\n",
       "      <td>303</td>\n",
       "    </tr>\n",
       "    <tr>\n",
       "      <th>1</th>\n",
       "      <td>High</td>\n",
       "      <td>255</td>\n",
       "    </tr>\n",
       "    <tr>\n",
       "      <th>2</th>\n",
       "      <td>Low</td>\n",
       "      <td>230</td>\n",
       "    </tr>\n",
       "    <tr>\n",
       "      <th>3</th>\n",
       "      <td>Medium</td>\n",
       "      <td>212</td>\n",
       "    </tr>\n",
       "  </tbody>\n",
       "</table>\n",
       "</div>"
      ],
      "text/plain": [
       "  History  count\n",
       "0    None    303\n",
       "1    High    255\n",
       "2     Low    230\n",
       "3  Medium    212"
      ]
     },
     "execution_count": 55,
     "metadata": {},
     "output_type": "execute_result"
    }
   ],
   "source": [
    "df_History=df_missing['History'].value_counts().to_frame().reset_index().rename(columns={'index':'History','History':'count'})\n",
    "df_History"
   ]
  },
  {
   "cell_type": "code",
   "execution_count": 56,
   "metadata": {
    "execution": {
     "iopub.execute_input": "2020-12-10T12:48:27.554785Z",
     "iopub.status.busy": "2020-12-10T12:48:27.553992Z",
     "iopub.status.idle": "2020-12-10T12:48:27.559482Z",
     "shell.execute_reply": "2020-12-10T12:48:27.558909Z"
    },
    "papermill": {
     "duration": 0.253092,
     "end_time": "2020-12-10T12:48:27.559603",
     "exception": false,
     "start_time": "2020-12-10T12:48:27.306511",
     "status": "completed"
    },
    "tags": []
   },
   "outputs": [
    {
     "data": {
      "text/html": [
       "<div>                            <div id=\"2117973c-2c8f-471d-b41b-4b1222b9b0db\" class=\"plotly-graph-div\" style=\"height:525px; width:100%;\"></div>            <script type=\"text/javascript\">                require([\"plotly\"], function(Plotly) {                    window.PLOTLYENV=window.PLOTLYENV || {};                                    if (document.getElementById(\"2117973c-2c8f-471d-b41b-4b1222b9b0db\")) {                    Plotly.newPlot(                        \"2117973c-2c8f-471d-b41b-4b1222b9b0db\",                        [{\"marker\": {\"color\": [303, 255, 230, 212], \"colorscale\": [[0.0, \"#440154\"], [0.1111111111111111, \"#482878\"], [0.2222222222222222, \"#3e4989\"], [0.3333333333333333, \"#31688e\"], [0.4444444444444444, \"#26828e\"], [0.5555555555555556, \"#1f9e89\"], [0.6666666666666666, \"#35b779\"], [0.7777777777777778, \"#6ece58\"], [0.8888888888888888, \"#b5de2b\"], [1.0, \"#fde725\"]]}, \"text\": [303.0, 255.0, 230.0, 212.0], \"textposition\": \"outside\", \"type\": \"bar\", \"x\": [\"None\", \"High\", \"Low\", \"Medium\"], \"y\": [303, 255, 230, 212]}],                        {\"template\": {\"data\": {\"bar\": [{\"error_x\": {\"color\": \"#2a3f5f\"}, \"error_y\": {\"color\": \"#2a3f5f\"}, \"marker\": {\"line\": {\"color\": \"#E5ECF6\", \"width\": 0.5}}, \"type\": \"bar\"}], \"barpolar\": [{\"marker\": {\"line\": {\"color\": \"#E5ECF6\", \"width\": 0.5}}, \"type\": \"barpolar\"}], \"carpet\": [{\"aaxis\": {\"endlinecolor\": \"#2a3f5f\", \"gridcolor\": \"white\", \"linecolor\": \"white\", \"minorgridcolor\": \"white\", \"startlinecolor\": \"#2a3f5f\"}, \"baxis\": {\"endlinecolor\": \"#2a3f5f\", \"gridcolor\": \"white\", \"linecolor\": \"white\", \"minorgridcolor\": \"white\", \"startlinecolor\": \"#2a3f5f\"}, \"type\": \"carpet\"}], \"choropleth\": [{\"colorbar\": {\"outlinewidth\": 0, \"ticks\": \"\"}, \"type\": \"choropleth\"}], \"contour\": [{\"colorbar\": {\"outlinewidth\": 0, \"ticks\": \"\"}, \"colorscale\": [[0.0, \"#0d0887\"], [0.1111111111111111, \"#46039f\"], [0.2222222222222222, \"#7201a8\"], [0.3333333333333333, \"#9c179e\"], [0.4444444444444444, \"#bd3786\"], [0.5555555555555556, \"#d8576b\"], [0.6666666666666666, \"#ed7953\"], [0.7777777777777778, \"#fb9f3a\"], [0.8888888888888888, \"#fdca26\"], [1.0, \"#f0f921\"]], \"type\": \"contour\"}], \"contourcarpet\": [{\"colorbar\": {\"outlinewidth\": 0, \"ticks\": \"\"}, \"type\": \"contourcarpet\"}], \"heatmap\": [{\"colorbar\": {\"outlinewidth\": 0, \"ticks\": \"\"}, \"colorscale\": [[0.0, \"#0d0887\"], [0.1111111111111111, \"#46039f\"], [0.2222222222222222, \"#7201a8\"], [0.3333333333333333, \"#9c179e\"], [0.4444444444444444, \"#bd3786\"], [0.5555555555555556, \"#d8576b\"], [0.6666666666666666, \"#ed7953\"], [0.7777777777777778, \"#fb9f3a\"], [0.8888888888888888, \"#fdca26\"], [1.0, \"#f0f921\"]], \"type\": \"heatmap\"}], \"heatmapgl\": [{\"colorbar\": {\"outlinewidth\": 0, \"ticks\": \"\"}, \"colorscale\": [[0.0, \"#0d0887\"], [0.1111111111111111, \"#46039f\"], [0.2222222222222222, \"#7201a8\"], [0.3333333333333333, \"#9c179e\"], [0.4444444444444444, \"#bd3786\"], [0.5555555555555556, \"#d8576b\"], [0.6666666666666666, \"#ed7953\"], [0.7777777777777778, \"#fb9f3a\"], [0.8888888888888888, \"#fdca26\"], [1.0, \"#f0f921\"]], \"type\": \"heatmapgl\"}], \"histogram\": [{\"marker\": {\"colorbar\": {\"outlinewidth\": 0, \"ticks\": \"\"}}, \"type\": \"histogram\"}], \"histogram2d\": [{\"colorbar\": {\"outlinewidth\": 0, \"ticks\": \"\"}, \"colorscale\": [[0.0, \"#0d0887\"], [0.1111111111111111, \"#46039f\"], [0.2222222222222222, \"#7201a8\"], [0.3333333333333333, \"#9c179e\"], [0.4444444444444444, \"#bd3786\"], [0.5555555555555556, \"#d8576b\"], [0.6666666666666666, \"#ed7953\"], [0.7777777777777778, \"#fb9f3a\"], [0.8888888888888888, \"#fdca26\"], [1.0, \"#f0f921\"]], \"type\": \"histogram2d\"}], \"histogram2dcontour\": [{\"colorbar\": {\"outlinewidth\": 0, \"ticks\": \"\"}, \"colorscale\": [[0.0, \"#0d0887\"], [0.1111111111111111, \"#46039f\"], [0.2222222222222222, \"#7201a8\"], [0.3333333333333333, \"#9c179e\"], [0.4444444444444444, \"#bd3786\"], [0.5555555555555556, \"#d8576b\"], [0.6666666666666666, \"#ed7953\"], [0.7777777777777778, \"#fb9f3a\"], [0.8888888888888888, \"#fdca26\"], [1.0, \"#f0f921\"]], \"type\": \"histogram2dcontour\"}], \"mesh3d\": [{\"colorbar\": {\"outlinewidth\": 0, \"ticks\": \"\"}, \"type\": \"mesh3d\"}], \"parcoords\": [{\"line\": {\"colorbar\": {\"outlinewidth\": 0, \"ticks\": \"\"}}, \"type\": \"parcoords\"}], \"pie\": [{\"automargin\": true, \"type\": \"pie\"}], \"scatter\": [{\"marker\": {\"colorbar\": {\"outlinewidth\": 0, \"ticks\": \"\"}}, \"type\": \"scatter\"}], \"scatter3d\": [{\"line\": {\"colorbar\": {\"outlinewidth\": 0, \"ticks\": \"\"}}, \"marker\": {\"colorbar\": {\"outlinewidth\": 0, \"ticks\": \"\"}}, \"type\": \"scatter3d\"}], \"scattercarpet\": [{\"marker\": {\"colorbar\": {\"outlinewidth\": 0, \"ticks\": \"\"}}, \"type\": \"scattercarpet\"}], \"scattergeo\": [{\"marker\": {\"colorbar\": {\"outlinewidth\": 0, \"ticks\": \"\"}}, \"type\": \"scattergeo\"}], \"scattergl\": [{\"marker\": {\"colorbar\": {\"outlinewidth\": 0, \"ticks\": \"\"}}, \"type\": \"scattergl\"}], \"scattermapbox\": [{\"marker\": {\"colorbar\": {\"outlinewidth\": 0, \"ticks\": \"\"}}, \"type\": \"scattermapbox\"}], \"scatterpolar\": [{\"marker\": {\"colorbar\": {\"outlinewidth\": 0, \"ticks\": \"\"}}, \"type\": \"scatterpolar\"}], \"scatterpolargl\": [{\"marker\": {\"colorbar\": {\"outlinewidth\": 0, \"ticks\": \"\"}}, \"type\": \"scatterpolargl\"}], \"scatterternary\": [{\"marker\": {\"colorbar\": {\"outlinewidth\": 0, \"ticks\": \"\"}}, \"type\": \"scatterternary\"}], \"surface\": [{\"colorbar\": {\"outlinewidth\": 0, \"ticks\": \"\"}, \"colorscale\": [[0.0, \"#0d0887\"], [0.1111111111111111, \"#46039f\"], [0.2222222222222222, \"#7201a8\"], [0.3333333333333333, \"#9c179e\"], [0.4444444444444444, \"#bd3786\"], [0.5555555555555556, \"#d8576b\"], [0.6666666666666666, \"#ed7953\"], [0.7777777777777778, \"#fb9f3a\"], [0.8888888888888888, \"#fdca26\"], [1.0, \"#f0f921\"]], \"type\": \"surface\"}], \"table\": [{\"cells\": {\"fill\": {\"color\": \"#EBF0F8\"}, \"line\": {\"color\": \"white\"}}, \"header\": {\"fill\": {\"color\": \"#C8D4E3\"}, \"line\": {\"color\": \"white\"}}, \"type\": \"table\"}]}, \"layout\": {\"annotationdefaults\": {\"arrowcolor\": \"#2a3f5f\", \"arrowhead\": 0, \"arrowwidth\": 1}, \"coloraxis\": {\"colorbar\": {\"outlinewidth\": 0, \"ticks\": \"\"}}, \"colorscale\": {\"diverging\": [[0, \"#8e0152\"], [0.1, \"#c51b7d\"], [0.2, \"#de77ae\"], [0.3, \"#f1b6da\"], [0.4, \"#fde0ef\"], [0.5, \"#f7f7f7\"], [0.6, \"#e6f5d0\"], [0.7, \"#b8e186\"], [0.8, \"#7fbc41\"], [0.9, \"#4d9221\"], [1, \"#276419\"]], \"sequential\": [[0.0, \"#0d0887\"], [0.1111111111111111, \"#46039f\"], [0.2222222222222222, \"#7201a8\"], [0.3333333333333333, \"#9c179e\"], [0.4444444444444444, \"#bd3786\"], [0.5555555555555556, \"#d8576b\"], [0.6666666666666666, \"#ed7953\"], [0.7777777777777778, \"#fb9f3a\"], [0.8888888888888888, \"#fdca26\"], [1.0, \"#f0f921\"]], \"sequentialminus\": [[0.0, \"#0d0887\"], [0.1111111111111111, \"#46039f\"], [0.2222222222222222, \"#7201a8\"], [0.3333333333333333, \"#9c179e\"], [0.4444444444444444, \"#bd3786\"], [0.5555555555555556, \"#d8576b\"], [0.6666666666666666, \"#ed7953\"], [0.7777777777777778, \"#fb9f3a\"], [0.8888888888888888, \"#fdca26\"], [1.0, \"#f0f921\"]]}, \"colorway\": [\"#636efa\", \"#EF553B\", \"#00cc96\", \"#ab63fa\", \"#FFA15A\", \"#19d3f3\", \"#FF6692\", \"#B6E880\", \"#FF97FF\", \"#FECB52\"], \"font\": {\"color\": \"#2a3f5f\"}, \"geo\": {\"bgcolor\": \"white\", \"lakecolor\": \"white\", \"landcolor\": \"#E5ECF6\", \"showlakes\": true, \"showland\": true, \"subunitcolor\": \"white\"}, \"hoverlabel\": {\"align\": \"left\"}, \"hovermode\": \"closest\", \"mapbox\": {\"style\": \"light\"}, \"paper_bgcolor\": \"white\", \"plot_bgcolor\": \"#E5ECF6\", \"polar\": {\"angularaxis\": {\"gridcolor\": \"white\", \"linecolor\": \"white\", \"ticks\": \"\"}, \"bgcolor\": \"#E5ECF6\", \"radialaxis\": {\"gridcolor\": \"white\", \"linecolor\": \"white\", \"ticks\": \"\"}}, \"scene\": {\"xaxis\": {\"backgroundcolor\": \"#E5ECF6\", \"gridcolor\": \"white\", \"gridwidth\": 2, \"linecolor\": \"white\", \"showbackground\": true, \"ticks\": \"\", \"zerolinecolor\": \"white\"}, \"yaxis\": {\"backgroundcolor\": \"#E5ECF6\", \"gridcolor\": \"white\", \"gridwidth\": 2, \"linecolor\": \"white\", \"showbackground\": true, \"ticks\": \"\", \"zerolinecolor\": \"white\"}, \"zaxis\": {\"backgroundcolor\": \"#E5ECF6\", \"gridcolor\": \"white\", \"gridwidth\": 2, \"linecolor\": \"white\", \"showbackground\": true, \"ticks\": \"\", \"zerolinecolor\": \"white\"}}, \"shapedefaults\": {\"line\": {\"color\": \"#2a3f5f\"}}, \"ternary\": {\"aaxis\": {\"gridcolor\": \"white\", \"linecolor\": \"white\", \"ticks\": \"\"}, \"baxis\": {\"gridcolor\": \"white\", \"linecolor\": \"white\", \"ticks\": \"\"}, \"bgcolor\": \"#E5ECF6\", \"caxis\": {\"gridcolor\": \"white\", \"linecolor\": \"white\", \"ticks\": \"\"}}, \"title\": {\"x\": 0.05}, \"xaxis\": {\"automargin\": true, \"gridcolor\": \"white\", \"linecolor\": \"white\", \"ticks\": \"\", \"title\": {\"standoff\": 15}, \"zerolinecolor\": \"white\", \"zerolinewidth\": 2}, \"yaxis\": {\"automargin\": true, \"gridcolor\": \"white\", \"linecolor\": \"white\", \"ticks\": \"\", \"title\": {\"standoff\": 15}, \"zerolinecolor\": \"white\", \"zerolinewidth\": 2}}}, \"title\": {\"text\": \"History Distribution\", \"x\": 0.5}, \"xaxis\": {\"title\": {\"text\": \"History\"}}, \"yaxis\": {\"title\": {\"text\": \"Count \"}}},                        {\"responsive\": true}                    ).then(function(){\n",
       "                            \n",
       "var gd = document.getElementById('2117973c-2c8f-471d-b41b-4b1222b9b0db');\n",
       "var x = new MutationObserver(function (mutations, observer) {{\n",
       "        var display = window.getComputedStyle(gd).display;\n",
       "        if (!display || display === 'none') {{\n",
       "            console.log([gd, 'removed!']);\n",
       "            Plotly.purge(gd);\n",
       "            observer.disconnect();\n",
       "        }}\n",
       "}});\n",
       "\n",
       "// Listen for the removal of the full notebook cells\n",
       "var notebookContainer = gd.closest('#notebook-container');\n",
       "if (notebookContainer) {{\n",
       "    x.observe(notebookContainer, {childList: true});\n",
       "}}\n",
       "\n",
       "// Listen for the clearing of the current output cell\n",
       "var outputEl = gd.closest('.output');\n",
       "if (outputEl) {{\n",
       "    x.observe(outputEl, {childList: true});\n",
       "}}\n",
       "\n",
       "                        })                };                });            </script>        </div>"
      ]
     },
     "metadata": {},
     "output_type": "display_data"
    }
   ],
   "source": [
    "df_History=df_missing['History'].value_counts().to_frame().reset_index().rename(columns={'index':'History','History':'count'})\n",
    "\n",
    "fig = go.Figure(go.Bar(\n",
    "    x=df_History['History'],y=df_History['count'],\n",
    "    marker={'color': df_History['count'], \n",
    "    'colorscale': 'Viridis'},  \n",
    "    text=df_History['count'],\n",
    "    textposition = \"outside\",\n",
    "))\n",
    "fig.update_layout(title_text='History Distribution',xaxis_title=\"History\",yaxis_title=\"Count \",title_x=0.5)\n",
    "fig.show()"
   ]
  },
  {
   "cell_type": "markdown",
   "metadata": {
    "papermill": {
     "duration": 0.224191,
     "end_time": "2020-12-10T12:48:28.008107",
     "exception": false,
     "start_time": "2020-12-10T12:48:27.783916",
     "status": "completed"
    },
    "tags": []
   },
   "source": [
    "* The highest number of customers who prefer us for the first time"
   ]
  },
  {
   "cell_type": "code",
   "execution_count": 57,
   "metadata": {
    "execution": {
     "iopub.execute_input": "2020-12-10T12:48:28.469365Z",
     "iopub.status.busy": "2020-12-10T12:48:28.468559Z",
     "iopub.status.idle": "2020-12-10T12:48:28.491107Z",
     "shell.execute_reply": "2020-12-10T12:48:28.491685Z"
    },
    "papermill": {
     "duration": 0.258052,
     "end_time": "2020-12-10T12:48:28.491849",
     "exception": false,
     "start_time": "2020-12-10T12:48:28.233797",
     "status": "completed"
    },
    "tags": []
   },
   "outputs": [
    {
     "data": {
      "text/html": [
       "<div>\n",
       "<style scoped>\n",
       "    .dataframe tbody tr th:only-of-type {\n",
       "        vertical-align: middle;\n",
       "    }\n",
       "\n",
       "    .dataframe tbody tr th {\n",
       "        vertical-align: top;\n",
       "    }\n",
       "\n",
       "    .dataframe thead th {\n",
       "        text-align: right;\n",
       "    }\n",
       "</style>\n",
       "<table border=\"1\" class=\"dataframe\">\n",
       "  <thead>\n",
       "    <tr style=\"text-align: right;\">\n",
       "      <th></th>\n",
       "      <th>History</th>\n",
       "      <th>AVG_Salary</th>\n",
       "      <th>AVG_AmountSpent</th>\n",
       "    </tr>\n",
       "  </thead>\n",
       "  <tbody>\n",
       "    <tr>\n",
       "      <th>0</th>\n",
       "      <td>High</td>\n",
       "      <td>83547.84</td>\n",
       "      <td>2186.14</td>\n",
       "    </tr>\n",
       "    <tr>\n",
       "      <th>1</th>\n",
       "      <td>Low</td>\n",
       "      <td>32261.30</td>\n",
       "      <td>357.09</td>\n",
       "    </tr>\n",
       "    <tr>\n",
       "      <th>2</th>\n",
       "      <td>Medium</td>\n",
       "      <td>55374.06</td>\n",
       "      <td>950.40</td>\n",
       "    </tr>\n",
       "    <tr>\n",
       "      <th>3</th>\n",
       "      <td>None</td>\n",
       "      <td>51616.50</td>\n",
       "      <td>1239.90</td>\n",
       "    </tr>\n",
       "  </tbody>\n",
       "</table>\n",
       "</div>"
      ],
      "text/plain": [
       "  History  AVG_Salary  AVG_AmountSpent\n",
       "0    High    83547.84          2186.14\n",
       "1     Low    32261.30           357.09\n",
       "2  Medium    55374.06           950.40\n",
       "3    None    51616.50          1239.90"
      ]
     },
     "execution_count": 57,
     "metadata": {},
     "output_type": "execute_result"
    }
   ],
   "source": [
    "df_History_Salary=df_missing.groupby(by =['History'])['Salary'].mean().to_frame().reset_index().rename(columns={'Salary':'AVG_Salary'})\n",
    "df_History_AmountSpent=df_missing.groupby(by =['History'])['AmountSpent'].mean().to_frame().reset_index().rename(columns={'History':'History1','AmountSpent':'AVG_AmountSpent'})\n",
    "result = pd.concat([df_History_Salary,df_History_AmountSpent], axis=1)\n",
    "result.drop(['History1'],inplace=True,axis=1)\n",
    "result[\"AVG_Salary\"]=result[\"AVG_Salary\"].map(lambda x:round(x,2))\n",
    "result[\"AVG_AmountSpent\"]=result[\"AVG_AmountSpent\"].map(lambda x:round(x,2))\n",
    "result"
   ]
  },
  {
   "cell_type": "code",
   "execution_count": 58,
   "metadata": {
    "execution": {
     "iopub.execute_input": "2020-12-10T12:48:28.964837Z",
     "iopub.status.busy": "2020-12-10T12:48:28.950634Z",
     "iopub.status.idle": "2020-12-10T12:48:29.034624Z",
     "shell.execute_reply": "2020-12-10T12:48:29.033919Z"
    },
    "papermill": {
     "duration": 0.318953,
     "end_time": "2020-12-10T12:48:29.034763",
     "exception": false,
     "start_time": "2020-12-10T12:48:28.715810",
     "status": "completed"
    },
    "tags": []
   },
   "outputs": [
    {
     "data": {
      "text/html": [
       "<div>                            <div id=\"820b9544-f431-4f9f-be68-cb703bb94293\" class=\"plotly-graph-div\" style=\"height:525px; width:100%;\"></div>            <script type=\"text/javascript\">                require([\"plotly\"], function(Plotly) {                    window.PLOTLYENV=window.PLOTLYENV || {};                                    if (document.getElementById(\"820b9544-f431-4f9f-be68-cb703bb94293\")) {                    Plotly.newPlot(                        \"820b9544-f431-4f9f-be68-cb703bb94293\",                        [{\"marker\": {\"color\": [83547.84, 32261.3, 55374.06, 51616.5], \"colorscale\": [[0.0, \"rgb(23, 28, 66)\"], [0.09090909090909091, \"rgb(41, 58, 143)\"], [0.18181818181818182, \"rgb(11, 102, 189)\"], [0.2727272727272727, \"rgb(69, 144, 185)\"], [0.36363636363636365, \"rgb(142, 181, 194)\"], [0.45454545454545453, \"rgb(210, 216, 219)\"], [0.5454545454545454, \"rgb(230, 210, 204)\"], [0.6363636363636364, \"rgb(213, 157, 137)\"], [0.7272727272727273, \"rgb(196, 101, 72)\"], [0.8181818181818182, \"rgb(172, 43, 36)\"], [0.9090909090909091, \"rgb(120, 14, 40)\"], [1.0, \"rgb(60, 9, 17)\"]]}, \"name\": \"Mean Salary\", \"text\": [83547.84, 32261.3, 55374.06, 51616.5], \"textposition\": \"inside\", \"type\": \"bar\", \"x\": [\"High\", \"Low\", \"Medium\", \"None\"], \"xaxis\": \"x\", \"y\": [83547.84, 32261.3, 55374.06, 51616.5], \"yaxis\": \"y\"}, {\"marker\": {\"color\": [2186.14, 357.09, 950.4, 1239.9], \"colorscale\": [[0.0, \"rgb(23, 28, 66)\"], [0.09090909090909091, \"rgb(41, 58, 143)\"], [0.18181818181818182, \"rgb(11, 102, 189)\"], [0.2727272727272727, \"rgb(69, 144, 185)\"], [0.36363636363636365, \"rgb(142, 181, 194)\"], [0.45454545454545453, \"rgb(210, 216, 219)\"], [0.5454545454545454, \"rgb(230, 210, 204)\"], [0.6363636363636364, \"rgb(213, 157, 137)\"], [0.7272727272727273, \"rgb(196, 101, 72)\"], [0.8181818181818182, \"rgb(172, 43, 36)\"], [0.9090909090909091, \"rgb(120, 14, 40)\"], [1.0, \"rgb(60, 9, 17)\"]]}, \"name\": \"Mean Amount Spent\", \"text\": [2186.14, 357.09, 950.4, 1239.9], \"textposition\": \"inside\", \"type\": \"bar\", \"x\": [\"High\", \"Low\", \"Medium\", \"None\"], \"xaxis\": \"x2\", \"y\": [2186.14, 357.09, 950.4, 1239.9], \"yaxis\": \"y2\"}],                        {\"annotations\": [{\"font\": {\"size\": 16}, \"showarrow\": false, \"text\": \"History AVG Salary \", \"x\": 0.5, \"xanchor\": \"center\", \"xref\": \"paper\", \"y\": 1.0, \"yanchor\": \"bottom\", \"yref\": \"paper\"}, {\"font\": {\"size\": 16}, \"showarrow\": false, \"text\": \"History AVG Amount Spent \", \"x\": 0.5, \"xanchor\": \"center\", \"xref\": \"paper\", \"y\": 0.375, \"yanchor\": \"bottom\", \"yref\": \"paper\"}], \"hoverlabel\": {\"bgcolor\": \"white\", \"font\": {\"family\": \"Rockwell\", \"size\": 16}}, \"template\": {\"data\": {\"bar\": [{\"error_x\": {\"color\": \"#2a3f5f\"}, \"error_y\": {\"color\": \"#2a3f5f\"}, \"marker\": {\"line\": {\"color\": \"#E5ECF6\", \"width\": 0.5}}, \"type\": \"bar\"}], \"barpolar\": [{\"marker\": {\"line\": {\"color\": \"#E5ECF6\", \"width\": 0.5}}, \"type\": \"barpolar\"}], \"carpet\": [{\"aaxis\": {\"endlinecolor\": \"#2a3f5f\", \"gridcolor\": \"white\", \"linecolor\": \"white\", \"minorgridcolor\": \"white\", \"startlinecolor\": \"#2a3f5f\"}, \"baxis\": {\"endlinecolor\": \"#2a3f5f\", \"gridcolor\": \"white\", \"linecolor\": \"white\", \"minorgridcolor\": \"white\", \"startlinecolor\": \"#2a3f5f\"}, \"type\": \"carpet\"}], \"choropleth\": [{\"colorbar\": {\"outlinewidth\": 0, \"ticks\": \"\"}, \"type\": \"choropleth\"}], \"contour\": [{\"colorbar\": {\"outlinewidth\": 0, \"ticks\": \"\"}, \"colorscale\": [[0.0, \"#0d0887\"], [0.1111111111111111, \"#46039f\"], [0.2222222222222222, \"#7201a8\"], [0.3333333333333333, \"#9c179e\"], [0.4444444444444444, \"#bd3786\"], [0.5555555555555556, \"#d8576b\"], [0.6666666666666666, \"#ed7953\"], [0.7777777777777778, \"#fb9f3a\"], [0.8888888888888888, \"#fdca26\"], [1.0, \"#f0f921\"]], \"type\": \"contour\"}], \"contourcarpet\": [{\"colorbar\": {\"outlinewidth\": 0, \"ticks\": \"\"}, \"type\": \"contourcarpet\"}], \"heatmap\": [{\"colorbar\": {\"outlinewidth\": 0, \"ticks\": \"\"}, \"colorscale\": [[0.0, \"#0d0887\"], [0.1111111111111111, \"#46039f\"], [0.2222222222222222, \"#7201a8\"], [0.3333333333333333, \"#9c179e\"], [0.4444444444444444, \"#bd3786\"], [0.5555555555555556, \"#d8576b\"], [0.6666666666666666, \"#ed7953\"], [0.7777777777777778, \"#fb9f3a\"], [0.8888888888888888, \"#fdca26\"], [1.0, \"#f0f921\"]], \"type\": \"heatmap\"}], \"heatmapgl\": [{\"colorbar\": {\"outlinewidth\": 0, \"ticks\": \"\"}, \"colorscale\": [[0.0, \"#0d0887\"], [0.1111111111111111, \"#46039f\"], [0.2222222222222222, \"#7201a8\"], [0.3333333333333333, \"#9c179e\"], [0.4444444444444444, \"#bd3786\"], [0.5555555555555556, \"#d8576b\"], [0.6666666666666666, \"#ed7953\"], [0.7777777777777778, \"#fb9f3a\"], [0.8888888888888888, \"#fdca26\"], [1.0, \"#f0f921\"]], \"type\": \"heatmapgl\"}], \"histogram\": [{\"marker\": {\"colorbar\": {\"outlinewidth\": 0, \"ticks\": \"\"}}, \"type\": \"histogram\"}], \"histogram2d\": [{\"colorbar\": {\"outlinewidth\": 0, \"ticks\": \"\"}, \"colorscale\": [[0.0, \"#0d0887\"], [0.1111111111111111, \"#46039f\"], [0.2222222222222222, \"#7201a8\"], [0.3333333333333333, \"#9c179e\"], [0.4444444444444444, \"#bd3786\"], [0.5555555555555556, \"#d8576b\"], [0.6666666666666666, \"#ed7953\"], [0.7777777777777778, \"#fb9f3a\"], [0.8888888888888888, \"#fdca26\"], [1.0, \"#f0f921\"]], \"type\": \"histogram2d\"}], \"histogram2dcontour\": [{\"colorbar\": {\"outlinewidth\": 0, \"ticks\": \"\"}, \"colorscale\": [[0.0, \"#0d0887\"], [0.1111111111111111, \"#46039f\"], [0.2222222222222222, \"#7201a8\"], [0.3333333333333333, \"#9c179e\"], [0.4444444444444444, \"#bd3786\"], [0.5555555555555556, \"#d8576b\"], [0.6666666666666666, \"#ed7953\"], [0.7777777777777778, \"#fb9f3a\"], [0.8888888888888888, \"#fdca26\"], [1.0, \"#f0f921\"]], \"type\": \"histogram2dcontour\"}], \"mesh3d\": [{\"colorbar\": {\"outlinewidth\": 0, \"ticks\": \"\"}, \"type\": \"mesh3d\"}], \"parcoords\": [{\"line\": {\"colorbar\": {\"outlinewidth\": 0, \"ticks\": \"\"}}, \"type\": \"parcoords\"}], \"pie\": [{\"automargin\": true, \"type\": \"pie\"}], \"scatter\": [{\"marker\": {\"colorbar\": {\"outlinewidth\": 0, \"ticks\": \"\"}}, \"type\": \"scatter\"}], \"scatter3d\": [{\"line\": {\"colorbar\": {\"outlinewidth\": 0, \"ticks\": \"\"}}, \"marker\": {\"colorbar\": {\"outlinewidth\": 0, \"ticks\": \"\"}}, \"type\": \"scatter3d\"}], \"scattercarpet\": [{\"marker\": {\"colorbar\": {\"outlinewidth\": 0, \"ticks\": \"\"}}, \"type\": \"scattercarpet\"}], \"scattergeo\": [{\"marker\": {\"colorbar\": {\"outlinewidth\": 0, \"ticks\": \"\"}}, \"type\": \"scattergeo\"}], \"scattergl\": [{\"marker\": {\"colorbar\": {\"outlinewidth\": 0, \"ticks\": \"\"}}, \"type\": \"scattergl\"}], \"scattermapbox\": [{\"marker\": {\"colorbar\": {\"outlinewidth\": 0, \"ticks\": \"\"}}, \"type\": \"scattermapbox\"}], \"scatterpolar\": [{\"marker\": {\"colorbar\": {\"outlinewidth\": 0, \"ticks\": \"\"}}, \"type\": \"scatterpolar\"}], \"scatterpolargl\": [{\"marker\": {\"colorbar\": {\"outlinewidth\": 0, \"ticks\": \"\"}}, \"type\": \"scatterpolargl\"}], \"scatterternary\": [{\"marker\": {\"colorbar\": {\"outlinewidth\": 0, \"ticks\": \"\"}}, \"type\": \"scatterternary\"}], \"surface\": [{\"colorbar\": {\"outlinewidth\": 0, \"ticks\": \"\"}, \"colorscale\": [[0.0, \"#0d0887\"], [0.1111111111111111, \"#46039f\"], [0.2222222222222222, \"#7201a8\"], [0.3333333333333333, \"#9c179e\"], [0.4444444444444444, \"#bd3786\"], [0.5555555555555556, \"#d8576b\"], [0.6666666666666666, \"#ed7953\"], [0.7777777777777778, \"#fb9f3a\"], [0.8888888888888888, \"#fdca26\"], [1.0, \"#f0f921\"]], \"type\": \"surface\"}], \"table\": [{\"cells\": {\"fill\": {\"color\": \"#EBF0F8\"}, \"line\": {\"color\": \"white\"}}, \"header\": {\"fill\": {\"color\": \"#C8D4E3\"}, \"line\": {\"color\": \"white\"}}, \"type\": \"table\"}]}, \"layout\": {\"annotationdefaults\": {\"arrowcolor\": \"#2a3f5f\", \"arrowhead\": 0, \"arrowwidth\": 1}, \"coloraxis\": {\"colorbar\": {\"outlinewidth\": 0, \"ticks\": \"\"}}, \"colorscale\": {\"diverging\": [[0, \"#8e0152\"], [0.1, \"#c51b7d\"], [0.2, \"#de77ae\"], [0.3, \"#f1b6da\"], [0.4, \"#fde0ef\"], [0.5, \"#f7f7f7\"], [0.6, \"#e6f5d0\"], [0.7, \"#b8e186\"], [0.8, \"#7fbc41\"], [0.9, \"#4d9221\"], [1, \"#276419\"]], \"sequential\": [[0.0, \"#0d0887\"], [0.1111111111111111, \"#46039f\"], [0.2222222222222222, \"#7201a8\"], [0.3333333333333333, \"#9c179e\"], [0.4444444444444444, \"#bd3786\"], [0.5555555555555556, \"#d8576b\"], [0.6666666666666666, \"#ed7953\"], [0.7777777777777778, \"#fb9f3a\"], [0.8888888888888888, \"#fdca26\"], [1.0, \"#f0f921\"]], \"sequentialminus\": [[0.0, \"#0d0887\"], [0.1111111111111111, \"#46039f\"], [0.2222222222222222, \"#7201a8\"], [0.3333333333333333, \"#9c179e\"], [0.4444444444444444, \"#bd3786\"], [0.5555555555555556, \"#d8576b\"], [0.6666666666666666, \"#ed7953\"], [0.7777777777777778, \"#fb9f3a\"], [0.8888888888888888, \"#fdca26\"], [1.0, \"#f0f921\"]]}, \"colorway\": [\"#636efa\", \"#EF553B\", \"#00cc96\", \"#ab63fa\", \"#FFA15A\", \"#19d3f3\", \"#FF6692\", \"#B6E880\", \"#FF97FF\", \"#FECB52\"], \"font\": {\"color\": \"#2a3f5f\"}, \"geo\": {\"bgcolor\": \"white\", \"lakecolor\": \"white\", \"landcolor\": \"#E5ECF6\", \"showlakes\": true, \"showland\": true, \"subunitcolor\": \"white\"}, \"hoverlabel\": {\"align\": \"left\"}, \"hovermode\": \"closest\", \"mapbox\": {\"style\": \"light\"}, \"paper_bgcolor\": \"white\", \"plot_bgcolor\": \"#E5ECF6\", \"polar\": {\"angularaxis\": {\"gridcolor\": \"white\", \"linecolor\": \"white\", \"ticks\": \"\"}, \"bgcolor\": \"#E5ECF6\", \"radialaxis\": {\"gridcolor\": \"white\", \"linecolor\": \"white\", \"ticks\": \"\"}}, \"scene\": {\"xaxis\": {\"backgroundcolor\": \"#E5ECF6\", \"gridcolor\": \"white\", \"gridwidth\": 2, \"linecolor\": \"white\", \"showbackground\": true, \"ticks\": \"\", \"zerolinecolor\": \"white\"}, \"yaxis\": {\"backgroundcolor\": \"#E5ECF6\", \"gridcolor\": \"white\", \"gridwidth\": 2, \"linecolor\": \"white\", \"showbackground\": true, \"ticks\": \"\", \"zerolinecolor\": \"white\"}, \"zaxis\": {\"backgroundcolor\": \"#E5ECF6\", \"gridcolor\": \"white\", \"gridwidth\": 2, \"linecolor\": \"white\", \"showbackground\": true, \"ticks\": \"\", \"zerolinecolor\": \"white\"}}, \"shapedefaults\": {\"line\": {\"color\": \"#2a3f5f\"}}, \"ternary\": {\"aaxis\": {\"gridcolor\": \"white\", \"linecolor\": \"white\", \"ticks\": \"\"}, \"baxis\": {\"gridcolor\": \"white\", \"linecolor\": \"white\", \"ticks\": \"\"}, \"bgcolor\": \"#E5ECF6\", \"caxis\": {\"gridcolor\": \"white\", \"linecolor\": \"white\", \"ticks\": \"\"}}, \"title\": {\"x\": 0.05}, \"xaxis\": {\"automargin\": true, \"gridcolor\": \"white\", \"linecolor\": \"white\", \"ticks\": \"\", \"title\": {\"standoff\": 15}, \"zerolinecolor\": \"white\", \"zerolinewidth\": 2}, \"yaxis\": {\"automargin\": true, \"gridcolor\": \"white\", \"linecolor\": \"white\", \"ticks\": \"\", \"title\": {\"standoff\": 15}, \"zerolinecolor\": \"white\", \"zerolinewidth\": 2}}}, \"title\": {\"text\": \" History \", \"x\": 0.5}, \"xaxis\": {\"anchor\": \"y\", \"domain\": [0.0, 1.0]}, \"xaxis2\": {\"anchor\": \"y2\", \"domain\": [0.0, 1.0]}, \"yaxis\": {\"anchor\": \"x\", \"domain\": [0.625, 1.0]}, \"yaxis2\": {\"anchor\": \"x2\", \"domain\": [0.0, 0.375]}},                        {\"responsive\": true}                    ).then(function(){\n",
       "                            \n",
       "var gd = document.getElementById('820b9544-f431-4f9f-be68-cb703bb94293');\n",
       "var x = new MutationObserver(function (mutations, observer) {{\n",
       "        var display = window.getComputedStyle(gd).display;\n",
       "        if (!display || display === 'none') {{\n",
       "            console.log([gd, 'removed!']);\n",
       "            Plotly.purge(gd);\n",
       "            observer.disconnect();\n",
       "        }}\n",
       "}});\n",
       "\n",
       "// Listen for the removal of the full notebook cells\n",
       "var notebookContainer = gd.closest('#notebook-container');\n",
       "if (notebookContainer) {{\n",
       "    x.observe(notebookContainer, {childList: true});\n",
       "}}\n",
       "\n",
       "// Listen for the clearing of the current output cell\n",
       "var outputEl = gd.closest('.output');\n",
       "if (outputEl) {{\n",
       "    x.observe(outputEl, {childList: true});\n",
       "}}\n",
       "\n",
       "                        })                };                });            </script>        </div>"
      ]
     },
     "metadata": {},
     "output_type": "display_data"
    }
   ],
   "source": [
    "df_History_Salary=df_missing.groupby(by =['History'])['Salary'].mean().to_frame().reset_index().rename(columns={'Salary':'AVG_Salary'})\n",
    "df_History_AmountSpent=df_missing.groupby(by =['History'])['AmountSpent'].mean().to_frame().reset_index().rename(columns={'History':'History1','AmountSpent':'AVG_AmountSpent'})\n",
    "result = pd.concat([df_History_Salary,df_History_AmountSpent], axis=1)\n",
    "result.drop(['History1'],inplace=True,axis=1)\n",
    "result[\"AVG_Salary\"]=result[\"AVG_Salary\"].map(lambda x:round(x,2))\n",
    "result[\"AVG_AmountSpent\"]=result[\"AVG_AmountSpent\"].map(lambda x:round(x,2))\n",
    "\n",
    "fig = make_subplots(rows=2, cols=1,\n",
    "                   subplot_titles=(\"History AVG Salary \",\n",
    "                                   \"History AVG Amount Spent \" ))  # Subplot titles\n",
    "                                  \n",
    "\n",
    "fig.add_trace(go.Bar(\n",
    "    x=result['History'],y=result['AVG_Salary'],\n",
    "    name=\"Mean Salary\",\n",
    "    marker={'color': result['AVG_Salary'], \n",
    "    'colorscale': 'balance'},  \n",
    "    text=result['AVG_Salary'],\n",
    "    textposition = \"inside\"\n",
    "    ),\n",
    "    row=1, col=1         \n",
    ")\n",
    "fig.add_trace(go.Bar(\n",
    "    x=result['History'],y=result['AVG_AmountSpent'],\n",
    "    name=\"Mean Amount Spent\",\n",
    "    marker={'color': result['AVG_AmountSpent'], \n",
    "    'colorscale': 'balance'},  \n",
    "    text=result['AVG_AmountSpent'],\n",
    "    textposition = \"inside\"),\n",
    "    row=2, col=1         \n",
    ")\n",
    "\n",
    "fig.update_layout(title = \" History \",title_x=0.5,\n",
    "                 hoverlabel=dict(\n",
    "                  bgcolor=\"white\",\n",
    "                  font_size=16,\n",
    "                  font_family=\"Rockwell\"))\n",
    "fig.show()"
   ]
  },
  {
   "cell_type": "markdown",
   "metadata": {
    "papermill": {
     "duration": 0.225605,
     "end_time": "2020-12-10T12:48:29.486303",
     "exception": false,
     "start_time": "2020-12-10T12:48:29.260698",
     "status": "completed"
    },
    "tags": []
   },
   "source": [
    "* Customers with high previous purchasing volume are the group with the highest income and expenditure"
   ]
  },
  {
   "cell_type": "code",
   "execution_count": 59,
   "metadata": {
    "execution": {
     "iopub.execute_input": "2020-12-10T12:48:29.960816Z",
     "iopub.status.busy": "2020-12-10T12:48:29.960060Z",
     "iopub.status.idle": "2020-12-10T12:48:30.116877Z",
     "shell.execute_reply": "2020-12-10T12:48:30.117729Z"
    },
    "papermill": {
     "duration": 0.405357,
     "end_time": "2020-12-10T12:48:30.117940",
     "exception": false,
     "start_time": "2020-12-10T12:48:29.712583",
     "status": "completed"
    },
    "tags": []
   },
   "outputs": [
    {
     "data": {
      "text/html": [
       "<div>                            <div id=\"790b4d58-32a5-46e2-bcbc-9119ea36e3c0\" class=\"plotly-graph-div\" style=\"height:525px; width:100%;\"></div>            <script type=\"text/javascript\">                require([\"plotly\"], function(Plotly) {                    window.PLOTLYENV=window.PLOTLYENV || {};                                    if (document.getElementById(\"790b4d58-32a5-46e2-bcbc-9119ea36e3c0\")) {                    Plotly.newPlot(                        \"790b4d58-32a5-46e2-bcbc-9119ea36e3c0\",                        [{\"hovertemplate\": \"History=High<br>Salary=%{x}<br>AmountSpent=%{y}<extra></extra>\", \"legendgroup\": \"High\", \"marker\": {\"color\": \"#636efa\", \"symbol\": \"circle\"}, \"mode\": \"markers\", \"name\": \"High\", \"orientation\": \"v\", \"showlegend\": true, \"type\": \"scatter\", \"x\": [47500, 63600, 85600, 68400, 68400, 111800, 111400, 110000, 82800, 90100, 60200, 72900, 72200, 104100, 67700, 64100, 81500, 111500, 126500, 83300, 90500, 87200, 69800, 60300, 67800, 62600, 72300, 90400, 84300, 67300, 134500, 75500, 81200, 87100, 59000, 90700, 70700, 96400, 106600, 70200, 59700, 51900, 44200, 52500, 68000, 100100, 103700, 114800, 67900, 109800, 64200, 42600, 113600, 122100, 84800, 140000, 60300, 81200, 73100, 77800, 113400, 100100, 80000, 83900, 77000, 56900, 120800, 98400, 74400, 68700, 63200, 107400, 120000, 84200, 65300, 100800, 90200, 82400, 62000, 76200, 81800, 82100, 103300, 47500, 72200, 80600, 54600, 102800, 118300, 84300, 96900, 61800, 102500, 41600, 78800, 82500, 80800, 124800, 97900, 88400, 86900, 74800, 118500, 103900, 71900, 96300, 66300, 69100, 75800, 123000, 64600, 74500, 61400, 73800, 113300, 97500, 62300, 96900, 93500, 63000, 74900, 41300, 97400, 87200, 66900, 126300, 108100, 50100, 74700, 83700, 108900, 84100, 78900, 105500, 60200, 53900, 88600, 79500, 123000, 70000, 118800, 72900, 72200, 72100, 55600, 90300, 95900, 98400, 102400, 65900, 97500, 63000, 88700, 100600, 53700, 66600, 89000, 45600, 81800, 84100, 85600, 96300, 70000, 107400, 89500, 87000, 81400, 90500, 74400, 100000, 86500, 102300, 53800, 52200, 79200, 70400, 83700, 118800, 79700, 65500, 55600, 68600, 112800, 124900, 72000, 82400, 62200, 86400, 110700, 135700, 83500, 52000, 65900, 108100, 79500, 98500, 96200, 49700, 61000, 90600, 71800, 117700, 130600, 74400, 65400, 93700, 49000, 96500, 99600, 61300, 51100, 60200, 109600, 93000, 69400, 75400, 96100, 102600, 116100, 82700, 109800, 67900, 62800, 76900, 77600, 128700, 96500, 57900, 60100, 117900, 94200, 168800, 40200, 55200, 52300, 65400, 63200, 77300, 70900, 71300, 71800, 73200, 79000, 56200, 99300, 108000, 84900, 93000, 82000, 66200, 96800, 63200, 112900, 102700, 99200], \"xaxis\": \"x\", \"y\": [755, 1318, 2436, 1304, 1155, 2065, 2136, 5564, 3010, 1956, 2328, 2075, 2082, 2636, 2226, 1595, 3655, 2510, 2000, 2574, 1116, 3604, 2764, 1263, 1084, 565, 4182, 2924, 1648, 1513, 4558, 741, 1856, 1688, 3044, 2265, 2150, 1822, 1877, 1702, 1857, 1492, 2524, 2038, 3688, 3104, 2339, 3596, 2925, 4279, 1642, 1790, 3237, 2408, 2624, 4894, 701, 2693, 1582, 1813, 1790, 3491, 1985, 1721, 2104, 1857, 5830, 3305, 2479, 2763, 1512, 1485, 1926, 1654, 1443, 1789, 2183, 2035, 3293, 979, 1838, 1308, 3378, 847, 2492, 2840, 2163, 2238, 2502, 2842, 1420, 1156, 2464, 1690, 3398, 859, 2444, 2537, 2149, 3632, 2230, 1968, 3063, 2666, 1846, 1081, 1088, 1477, 1830, 3671, 2206, 1481, 1575, 3120, 5151, 2837, 2644, 1159, 1426, 1910, 1474, 1985, 880, 1274, 1220, 1888, 2632, 1071, 1699, 3344, 1841, 2710, 2233, 1781, 2304, 2177, 2563, 1763, 5878, 1974, 2176, 753, 3069, 3052, 1786, 1944, 2585, 1414, 1237, 1436, 1280, 2107, 2693, 2838, 2491, 1177, 1487, 1322, 919, 2362, 3380, 1909, 785, 1821, 5209, 1594, 3001, 863, 1152, 2247, 2690, 2438, 1803, 1909, 1905, 2610, 1582, 2631, 3384, 1931, 1553, 1342, 1861, 4109, 1475, 1779, 1348, 1713, 2458, 2746, 2098, 2545, 777, 1133, 1651, 2034, 1457, 2844, 975, 3167, 1946, 2104, 3442, 1893, 2290, 1521, 1523, 1364, 871, 1241, 1984, 1955, 2318, 2644, 2419, 2723, 1588, 2546, 2975, 1753, 2258, 1418, 1403, 3230, 2004, 3995, 3780, 1693, 1430, 1760, 1211, 1512, 1634, 1714, 2034, 2296, 1932, 1853, 1685, 1543, 1389, 2177, 2279, 1546, 1504, 1849, 3072, 1046, 1800, 2057, 2299, 1507, 6217, 3785, 5503], \"yaxis\": \"y\"}, {\"hovertemplate\": \"<b>OLS trendline</b><br>AmountSpent = 0.017233 * Salary + 746.357<br>R<sup>2</sup>=0.150409<br><br>History=High<br>Salary=%{x}<br>AmountSpent=%{y} <b>(trend)</b><extra></extra>\", \"legendgroup\": \"High\", \"marker\": {\"color\": \"#636efa\", \"symbol\": \"circle\"}, \"mode\": \"lines\", \"name\": \"High\", \"showlegend\": false, \"type\": \"scatter\", \"x\": [40200, 41300, 41600, 42600, 44200, 45600, 47500, 47500, 49000, 49700, 50100, 51100, 51900, 52000, 52200, 52300, 52500, 53700, 53800, 53900, 54600, 55200, 55600, 55600, 56200, 56900, 57900, 59000, 59700, 60100, 60200, 60200, 60200, 60300, 60300, 61000, 61300, 61400, 61800, 62000, 62200, 62300, 62600, 62800, 63000, 63000, 63200, 63200, 63200, 63600, 64100, 64200, 64600, 65300, 65400, 65400, 65500, 65900, 65900, 66200, 66300, 66600, 66900, 67300, 67700, 67800, 67900, 67900, 68000, 68400, 68400, 68600, 68700, 69100, 69400, 69800, 70000, 70000, 70200, 70400, 70700, 70900, 71300, 71800, 71800, 71900, 72000, 72100, 72200, 72200, 72200, 72300, 72900, 72900, 73100, 73200, 73800, 74400, 74400, 74400, 74500, 74700, 74800, 74900, 75400, 75500, 75800, 76200, 76900, 77000, 77300, 77600, 77800, 78800, 78900, 79000, 79200, 79500, 79500, 79700, 80000, 80600, 80800, 81200, 81200, 81400, 81500, 81800, 81800, 82000, 82100, 82400, 82400, 82500, 82700, 82800, 83300, 83500, 83700, 83700, 83900, 84100, 84100, 84200, 84300, 84300, 84800, 84900, 85600, 85600, 86400, 86500, 86900, 87000, 87100, 87200, 87200, 88400, 88600, 88700, 89000, 89500, 90100, 90200, 90300, 90400, 90500, 90500, 90600, 90700, 93000, 93000, 93500, 93700, 94200, 95900, 96100, 96200, 96300, 96300, 96400, 96500, 96500, 96800, 96900, 96900, 97400, 97500, 97500, 97900, 98400, 98400, 98500, 99200, 99300, 99600, 100000, 100100, 100100, 100600, 100800, 102300, 102400, 102500, 102600, 102700, 102800, 103300, 103700, 103900, 104100, 105500, 106600, 107400, 107400, 108000, 108100, 108100, 108900, 109600, 109800, 109800, 110000, 110700, 111400, 111500, 111800, 112800, 112900, 113300, 113400, 113600, 114800, 116100, 117700, 117900, 118300, 118500, 118800, 118800, 120000, 120800, 122100, 123000, 123000, 124800, 124900, 126300, 126500, 128700, 130600, 134500, 135700, 140000, 168800], \"xaxis\": \"x\", \"y\": [1439.1239499096284, 1458.0802479863223, 1463.250147461784, 1480.483145713324, 1508.0559429157875, 1532.182140467943, 1564.9248371458687, 1564.9248371458687, 1590.7743345231784, 1602.8374332992562, 1609.730632599872, 1626.9636308514118, 1640.7500294526435, 1642.4733292777973, 1645.9199289281055, 1647.6432287532593, 1651.0898284035675, 1671.769426305415, 1673.4927261305688, 1675.216025955723, 1687.2791247318007, 1697.6189236827245, 1704.5121229833405, 1704.5121229833405, 1714.8519219342643, 1726.915020710342, 1744.148018961882, 1763.1043170385756, 1775.1674158146534, 1782.0606151152695, 1783.7839149404233, 1783.7839149404233, 1783.7839149404233, 1785.5072147655774, 1785.5072147655774, 1797.5703135416552, 1802.740213017117, 1804.463512842271, 1811.3567121428869, 1814.8033117931948, 1818.249911443503, 1819.9732112686568, 1825.1431107441188, 1828.5897103944267, 1832.0363100447346, 1832.0363100447346, 1835.4829096950425, 1835.4829096950425, 1835.4829096950425, 1842.3761089956586, 1850.9926081214282, 1852.7159079465823, 1859.6091072471982, 1871.672206023276, 1873.39550584843, 1873.39550584843, 1875.118805673584, 1882.0120049742, 1882.0120049742, 1887.1819044496617, 1888.9052042748158, 1894.0751037502778, 1899.2450032257395, 1906.1382025263556, 1913.0314018269714, 1914.7547016521253, 1916.4780014772793, 1916.4780014772793, 1918.2013013024334, 1925.0945006030493, 1925.0945006030493, 1928.5411002533572, 1930.2644000785112, 1937.157599379127, 1942.327498854589, 1949.220698155205, 1952.6672978055128, 1952.6672978055128, 1956.1138974558207, 1959.5604971061287, 1964.7303965815906, 1968.1769962318986, 1975.0701955325144, 1983.6866946582843, 1983.6866946582843, 1985.4099944834384, 1987.1332943085922, 1988.8565941337463, 1990.5798939589004, 1990.5798939589004, 1990.5798939589004, 1992.3031937840542, 2002.6429927349782, 2002.6429927349782, 2006.089592385286, 2007.81289221044, 2018.152691161364, 2028.4924901122877, 2028.4924901122877, 2028.4924901122877, 2030.2157899374417, 2033.6623895877497, 2035.3856894129035, 2037.1089892380576, 2045.7254883638275, 2047.4487881889813, 2052.6186876644433, 2059.511886965059, 2071.574985741137, 2073.2982855662913, 2078.468185041753, 2083.638084517215, 2087.084684167523, 2104.3176824190623, 2106.0409822442166, 2107.7642820693704, 2111.2108817196786, 2116.38078119514, 2116.38078119514, 2119.8273808454483, 2124.9972803209102, 2135.337079271834, 2138.783678922142, 2145.676878222758, 2145.676878222758, 2149.123477873066, 2150.8467776982197, 2156.0166771736817, 2156.0166771736817, 2159.46327682399, 2161.1865766491437, 2166.3564761246057, 2166.3564761246057, 2168.0797759497596, 2171.5263756000677, 2173.2496754252215, 2181.8661745509917, 2185.3127742012994, 2188.759373851607, 2188.759373851607, 2192.205973501915, 2195.6525731522233, 2195.6525731522233, 2197.375872977377, 2199.099172802531, 2199.099172802531, 2207.715671928301, 2209.438971753455, 2221.502070529533, 2221.502070529533, 2235.2884691307645, 2237.0117689559183, 2243.9049682565346, 2245.6282680816885, 2247.3515679068423, 2249.074867731996, 2249.074867731996, 2269.754465633844, 2273.201065284152, 2274.924365109306, 2280.094264584768, 2288.710763710538, 2299.0505626614618, 2300.7738624866156, 2302.49716231177, 2304.2204621369237, 2305.9437619620776, 2305.9437619620776, 2307.6670617872314, 2309.3903616123853, 2349.026257590927, 2349.026257590927, 2357.6427567166966, 2361.0893563670047, 2369.7058554927744, 2399.0019525203925, 2402.4485521707, 2404.171851995854, 2405.895151821008, 2405.895151821008, 2407.6184516461617, 2409.341751471316, 2409.341751471316, 2414.511650946778, 2416.234950771932, 2416.234950771932, 2424.851449897702, 2426.574749722856, 2426.574749722856, 2433.4679490234716, 2442.0844481492413, 2442.0844481492413, 2443.807747974395, 2455.870846750473, 2457.5941465756273, 2462.7640460510893, 2469.657245351705, 2471.3805451768594, 2471.3805451768594, 2479.9970443026286, 2483.4436439529372, 2509.2931413302467, 2511.0164411554006, 2512.7397409805544, 2514.4630408057083, 2516.186340630862, 2517.9096404560164, 2526.526139581786, 2533.4193388824024, 2536.86593853271, 2540.3125381830178, 2564.4387357351734, 2583.3950338118675, 2597.181432413099, 2597.181432413099, 2607.521231364023, 2609.244531189177, 2609.244531189177, 2623.0309297904087, 2635.0940285664865, 2638.5406282167946, 2638.5406282167946, 2641.987227867103, 2654.0503266431806, 2666.1134254192584, 2667.8367252444123, 2673.006624719874, 2690.239622971414, 2691.962922796568, 2698.8561220971837, 2700.5794219223376, 2704.0260215726457, 2724.7056194744932, 2747.108517201495, 2774.681314403959, 2778.1279140542665, 2785.0211133548823, 2788.4677130051905, 2793.637612480652, 2793.637612480652, 2814.3172103825, 2828.1036089837316, 2850.5065067107334, 2866.0162051371194, 2866.0162051371194, 2897.035601989891, 2898.7589018150447, 2922.8850993672004, 2926.3316990175085, 2964.244295170896, 2996.986991848821, 3064.195685029826, 3084.875282931674, 3158.977175413295, 3655.2875250576394], \"yaxis\": \"y\"}, {\"hovertemplate\": \"History=Low<br>Salary=%{x}<br>AmountSpent=%{y}<extra></extra>\", \"legendgroup\": \"Low\", \"marker\": {\"color\": \"#EF553B\", \"symbol\": \"circle\"}, \"mode\": \"markers\", \"name\": \"Low\", \"orientation\": \"v\", \"showlegend\": true, \"type\": \"scatter\", \"x\": [13500, 30400, 51900, 38600, 14000, 14300, 92300, 27000, 20100, 64000, 15600, 14600, 15000, 60600, 24400, 22100, 48700, 12900, 27400, 110400, 21100, 52700, 20900, 104900, 14800, 12000, 13800, 53700, 14600, 10800, 81700, 21400, 16400, 41400, 49100, 11900, 21000, 39700, 28500, 28900, 39000, 27100, 10200, 12500, 16900, 13600, 72900, 80700, 23600, 19300, 20200, 17300, 109200, 14000, 15000, 20300, 54400, 13800, 14500, 21300, 29000, 14600, 19800, 56700, 15900, 12700, 96100, 13400, 108200, 12000, 31300, 14500, 25500, 25900, 22000, 26800, 16700, 40900, 15400, 23000, 41800, 65300, 24000, 12100, 40500, 11700, 18400, 25000, 10100, 17800, 19700, 35600, 21900, 44600, 14200, 23100, 49200, 32700, 34200, 43300, 17900, 25700, 17300, 60500, 17800, 46100, 27100, 12000, 35200, 18900, 17300, 56300, 63700, 79400, 17600, 23500, 56900, 21200, 32400, 24400, 66500, 18800, 26600, 14600, 15100, 17700, 13800, 42000, 95800, 15800, 39900, 12600, 50700, 17900, 14400, 23800, 36900, 20600, 22200, 71200, 18200, 13900, 64300, 19800, 13400, 60500, 106100, 18000, 13500, 18400, 62800, 97400, 22800, 18700, 38400, 13300, 23200, 55500, 43900, 20300, 15100, 10600, 27200, 49700, 29200, 12400, 40400, 10900, 13200, 30300, 20100, 20300, 37200, 55500, 17600, 26200, 42000, 21900, 37100, 28200, 14200, 19400, 45900, 21500, 23100, 35100, 14100, 17700, 20700, 19700, 25900, 43000, 15500, 13000, 27200, 26700, 12600, 12700, 32600, 29200, 12900, 79900, 16300, 59100, 118000, 88600, 46600, 18200, 17000, 17300, 19100, 14400, 105600, 31500, 67900, 15300, 17500, 28400, 25500, 20000, 23400, 102500, 19600, 18400, 40700, 36400, 15400, 36900, 32100, 11700], \"xaxis\": \"x\", \"y\": [296, 495, 158, 542, 410, 194, 655, 183, 576, 410, 136, 468, 38, 307, 220, 280, 528, 107, 278, 1093, 470, 855, 550, 450, 209, 344, 127, 235, 143, 123, 879, 498, 218, 223, 474, 143, 646, 238, 621, 830, 292, 437, 213, 202, 247, 183, 252, 202, 161, 308, 500, 381, 1102, 229, 378, 450, 342, 363, 222, 677, 482, 385, 991, 536, 503, 87, 316, 143, 635, 264, 357, 183, 139, 242, 472, 435, 108, 576, 297, 79, 301, 193, 357, 90, 622, 193, 303, 264, 93, 292, 330, 865, 276, 236, 250, 466, 210, 273, 523, 326, 446, 173, 345, 409, 216, 418, 268, 140, 233, 184, 166, 321, 364, 200, 224, 371, 687, 242, 515, 491, 286, 170, 245, 47, 274, 268, 368, 232, 678, 147, 586, 164, 157, 62, 223, 438, 371, 201, 275, 392, 322, 191, 239, 209, 424, 340, 472, 303, 160, 662, 177, 213, 258, 289, 188, 184, 504, 427, 358, 304, 348, 114, 446, 613, 737, 205, 630, 407, 227, 1062, 271, 180, 247, 216, 163, 381, 105, 486, 653, 224, 197, 563, 416, 445, 457, 421, 328, 742, 550, 535, 582, 225, 210, 43, 243, 1120, 241, 65, 172, 556, 167, 295, 317, 580, 581, 212, 158, 401, 659, 411, 403, 390, 304, 269, 356, 645, 472, 182, 636, 182, 348, 548, 395, 319, 232, 506, 172, 514, 405, 540], \"yaxis\": \"y\"}, {\"hovertemplate\": \"<b>OLS trendline</b><br>AmountSpent = 0.00257268 * Salary + 274.089<br>R<sup>2</sup>=0.089603<br><br>History=Low<br>Salary=%{x}<br>AmountSpent=%{y} <b>(trend)</b><extra></extra>\", \"legendgroup\": \"Low\", \"marker\": {\"color\": \"#EF553B\", \"symbol\": \"circle\"}, \"mode\": \"lines\", \"name\": \"Low\", \"showlegend\": false, \"type\": \"scatter\", \"x\": [10100, 10200, 10600, 10800, 10900, 11700, 11700, 11900, 12000, 12000, 12000, 12100, 12400, 12500, 12600, 12600, 12700, 12700, 12900, 12900, 13000, 13200, 13300, 13400, 13400, 13500, 13500, 13600, 13800, 13800, 13800, 13900, 14000, 14000, 14100, 14200, 14200, 14300, 14400, 14400, 14500, 14500, 14600, 14600, 14600, 14600, 14800, 15000, 15000, 15100, 15100, 15300, 15400, 15400, 15500, 15600, 15800, 15900, 16300, 16400, 16700, 16900, 17000, 17300, 17300, 17300, 17300, 17500, 17600, 17600, 17700, 17700, 17800, 17800, 17900, 17900, 18000, 18200, 18200, 18400, 18400, 18400, 18700, 18800, 18900, 19100, 19300, 19400, 19600, 19700, 19700, 19800, 19800, 20000, 20100, 20100, 20200, 20300, 20300, 20300, 20600, 20700, 20900, 21000, 21100, 21200, 21300, 21400, 21500, 21900, 21900, 22000, 22100, 22200, 22800, 23000, 23100, 23100, 23200, 23400, 23500, 23600, 23800, 24000, 24400, 24400, 25000, 25500, 25500, 25700, 25900, 25900, 26200, 26600, 26700, 26800, 27000, 27100, 27100, 27200, 27200, 27400, 28200, 28400, 28500, 28900, 29000, 29200, 29200, 30300, 30400, 31300, 31500, 32100, 32400, 32600, 32700, 34200, 35100, 35200, 35600, 36400, 36900, 36900, 37100, 37200, 38400, 38600, 39000, 39700, 39900, 40400, 40500, 40700, 40900, 41400, 41800, 42000, 42000, 43000, 43300, 43900, 44600, 45900, 46100, 46600, 48700, 49100, 49200, 49700, 50700, 51900, 52700, 53700, 54400, 55500, 55500, 56300, 56700, 56900, 59100, 60500, 60500, 60600, 62800, 63700, 64000, 64300, 65300, 66500, 67900, 71200, 72900, 79400, 79900, 80700, 81700, 88600, 92300, 95800, 96100, 97400, 102500, 104900, 105600, 106100, 108200, 109200, 110400, 118000], \"xaxis\": \"x\", \"y\": [300.0730039104245, 300.3302719471631, 301.3593440941175, 301.8738801675946, 302.1311482043332, 304.1892924982419, 304.1892924982419, 304.70382857171904, 304.96109660845764, 304.96109660845764, 304.96109660845764, 305.21836464519623, 305.99016875541196, 306.24743679215055, 306.50470482888915, 306.50470482888915, 306.76197286562774, 306.76197286562774, 307.2765089391049, 307.2765089391049, 307.53377697584347, 308.04831304932065, 308.30558108605925, 308.5628491227978, 308.5628491227978, 308.8201171595364, 308.8201171595364, 309.077385196275, 309.59192126975216, 309.59192126975216, 309.59192126975216, 309.84918930649076, 310.1064573432293, 310.1064573432293, 310.3637253799679, 310.6209934167065, 310.6209934167065, 310.8782614534451, 311.13552949018367, 311.13552949018367, 311.3927975269222, 311.3927975269222, 311.6500655636608, 311.6500655636608, 311.6500655636608, 311.6500655636608, 312.164601637138, 312.6791377106151, 312.6791377106151, 312.9364057473537, 312.9364057473537, 313.4509418208309, 313.7082098575695, 313.7082098575695, 313.96547789430804, 314.22274593104663, 314.7372820045238, 314.9945500412624, 316.02362218821673, 316.28089022495533, 317.05269433517105, 317.56723040864824, 317.82449844538684, 318.59630255560256, 318.59630255560256, 318.59630255560256, 318.59630255560256, 319.11083862907975, 319.36810666581835, 319.36810666581835, 319.6253747025569, 319.6253747025569, 319.8826427392955, 319.8826427392955, 320.13991077603407, 320.13991077603407, 320.39717881277267, 320.91171488624985, 320.91171488624985, 321.426250959727, 321.426250959727, 321.426250959727, 322.19805506994277, 322.45532310668136, 322.7125911434199, 323.2271272168971, 323.7416632903743, 323.9989313271128, 324.51346740059, 324.7707354373286, 324.7707354373286, 325.0280034740672, 325.0280034740672, 325.5425395475443, 325.7998075842829, 325.7998075842829, 326.0570756210215, 326.3143436577601, 326.3143436577601, 326.3143436577601, 327.08614776797583, 327.3434158047144, 327.8579518781916, 328.1152199149302, 328.37248795166875, 328.62975598840734, 328.88702402514593, 329.1442920618845, 329.4015600986231, 330.43063224557744, 330.43063224557744, 330.68790028231604, 330.9451683190546, 331.20243635579317, 332.7460445762247, 333.26058064970186, 333.51784868644046, 333.51784868644046, 333.775116723179, 334.2896527966562, 334.5469208333948, 334.8041888701334, 335.3187249436105, 335.8332610170877, 336.862333164042, 336.862333164042, 338.4059413844735, 339.69228156816644, 339.69228156816644, 340.2068176416436, 340.7213537151208, 340.7213537151208, 341.49315782533654, 342.52222997229086, 342.77949800902945, 343.03676604576805, 343.5513021192452, 343.8085701559838, 343.8085701559838, 344.06583819272237, 344.06583819272237, 344.58037426619956, 346.6385185601082, 347.1530546335854, 347.410322670324, 348.4393948172783, 348.6966628540169, 349.211198927494, 349.211198927494, 352.04114733161845, 352.29841536835704, 354.61382769900433, 355.12836377248146, 356.671971992913, 357.4437761031287, 357.9583121766059, 358.2155802133445, 362.0746007644232, 364.39001309507046, 364.6472811318091, 365.67635327876343, 367.73449757267207, 369.020837756365, 369.020837756365, 369.5353738298422, 369.79264186658077, 372.8798583074438, 373.3943943809209, 374.42346652787523, 376.22434278504534, 376.7388788585225, 378.02521904221544, 378.28248707895403, 378.79702315243117, 379.31155922590835, 380.59789940960127, 381.6269715565556, 382.1415076300328, 382.1415076300328, 384.7141879974186, 385.4859921076344, 387.02960032806584, 388.83047658523594, 392.17496106283755, 392.6894971363147, 393.9758373200076, 399.3784660915179, 400.4075382384722, 400.6648062752108, 401.95114645890374, 404.52382682628956, 407.6110432671526, 409.6691875610612, 412.24186792844705, 414.04274418561715, 416.8726925897416, 416.8726925897416, 418.9308368836503, 419.9599090306046, 420.4744451040817, 426.13434191233057, 429.7360944266708, 429.7360944266708, 429.9933624634093, 435.65325927165816, 437.96867160230545, 438.7404757125212, 439.51227982273696, 442.0849601901228, 445.1721766309858, 448.77392914532595, 457.2637743576993, 461.63733098225515, 478.3597533702631, 479.646093553956, 481.7042378478647, 484.27691821525053, 502.02841275021285, 511.54733010954044, 520.5517113953908, 521.3235155056066, 524.6679999832081, 537.7886698568759, 543.963102738602, 545.763978995772, 547.050319179465, 552.4529479509752, 555.0256283183611, 558.1128447592241, 577.6652155513564], \"yaxis\": \"y\"}, {\"hovertemplate\": \"History=Medium<br>Salary=%{x}<br>AmountSpent=%{y}<extra></extra>\", \"legendgroup\": \"Medium\", \"marker\": {\"color\": \"#00cc96\", \"symbol\": \"circle\"}, \"mode\": \"markers\", \"name\": \"Medium\", \"orientation\": \"v\", \"showlegend\": true, \"type\": \"scatter\", \"x\": [48100, 44100, 49800, 43500, 66900, 39700, 47000, 49600, 56000, 46600, 42300, 62700, 51300, 74700, 32400, 47200, 20400, 33600, 27900, 56300, 58300, 35200, 113000, 45400, 59600, 51200, 60200, 45700, 35000, 46900, 45800, 91000, 35300, 40900, 54700, 61500, 53300, 42800, 51200, 71200, 33000, 53600, 33200, 41400, 79900, 107600, 109900, 65400, 51900, 42700, 36700, 65900, 106700, 53900, 46300, 55500, 42800, 30900, 53400, 96700, 69700, 73700, 43700, 63300, 33200, 88100, 31900, 82400, 45100, 73000, 66300, 46700, 47900, 48600, 39600, 52600, 34600, 76400, 55100, 30100, 43500, 54600, 45100, 32700, 47600, 59400, 60000, 50500, 25100, 72200, 48400, 45600, 36900, 36100, 36500, 76700, 48100, 53900, 95100, 119800, 76700, 67600, 61500, 22000, 45900, 140700, 50500, 38200, 83100, 54700, 70900, 55900, 73600, 77100, 41700, 51000, 55900, 47200, 58200, 37500, 28900, 64800, 55600, 58600, 97600, 43300, 82300, 41200, 85500, 57800, 52200, 40100, 34500, 44500, 39700, 42500, 52600, 54500, 54700, 28300, 41900, 38700, 44100, 107300, 41000, 72200, 36700, 34500, 45900, 74600, 42800, 33600, 25700, 53300, 39500, 53800, 44400, 84200, 79900, 65800, 107300, 45200, 42700, 117500, 77600, 74500, 64100, 46500, 40600, 54200, 50500, 49200, 48100, 76800, 32500, 49500, 44700, 64300, 69700, 59300, 54200, 83000, 64400, 27600, 88500, 49600, 36600, 65800, 52800, 63500, 60400, 54400, 48800, 88000, 72200, 44600, 58400, 67800, 37000, 63800, 37300, 44800, 38200, 39100, 43800, 25300, 43600, 83600, 45500, 44800, 79000, 53600], \"xaxis\": \"x\", \"y\": [782, 704, 827, 808, 769, 573, 584, 844, 530, 906, 1051, 704, 1424, 704, 920, 1587, 867, 805, 1184, 873, 1472, 607, 1554, 1203, 1217, 1293, 1365, 724, 473, 703, 489, 708, 1093, 962, 848, 1162, 1720, 759, 1257, 638, 979, 1560, 1037, 643, 1165, 1512, 870, 938, 1148, 827, 731, 1081, 607, 735, 1357, 858, 922, 862, 886, 1231, 584, 1274, 950, 679, 607, 1078, 616, 657, 448, 490, 544, 983, 662, 1583, 610, 1052, 748, 881, 1439, 530, 500, 1246, 794, 1252, 801, 1699, 966, 1029, 592, 715, 992, 1388, 721, 438, 1140, 1431, 1640, 1060, 809, 2090, 534, 1172, 968, 736, 1645, 1001, 940, 526, 586, 1404, 794, 964, 647, 568, 1398, 1025, 909, 1272, 981, 1578, 905, 574, 984, 624, 1162, 716, 580, 841, 895, 1149, 669, 1384, 802, 1175, 1011, 918, 1307, 1001, 1355, 933, 654, 1009, 1659, 1194, 768, 1811, 1218, 639, 716, 705, 685, 573, 907, 1598, 1006, 843, 886, 954, 1041, 578, 1566, 699, 541, 927, 858, 824, 1332, 829, 690, 486, 642, 1078, 961, 1061, 883, 1195, 502, 661, 1432, 929, 757, 726, 1913, 893, 1104, 770, 833, 869, 926, 1023, 791, 1150, 1271, 524, 1042, 966, 829, 680, 850, 1622, 673, 666, 1476, 1001, 606, 591, 1047, 538, 754, 1417, 671, 973], \"yaxis\": \"y\"}, {\"hovertemplate\": \"<b>OLS trendline</b><br>AmountSpent = 0.00248843 * Salary + 812.607<br>R<sup>2</sup>=0.023599<br><br>History=Medium<br>Salary=%{x}<br>AmountSpent=%{y} <b>(trend)</b><extra></extra>\", \"legendgroup\": \"Medium\", \"marker\": {\"color\": \"#00cc96\", \"symbol\": \"circle\"}, \"mode\": \"lines\", \"name\": \"Medium\", \"showlegend\": false, \"type\": \"scatter\", \"x\": [20400, 22000, 25100, 25300, 25700, 27600, 27900, 28300, 28900, 30100, 30900, 31900, 32400, 32500, 32700, 33000, 33200, 33200, 33600, 33600, 34500, 34500, 34600, 35000, 35200, 35300, 36100, 36500, 36600, 36700, 36700, 36900, 37000, 37300, 37500, 38200, 38200, 38700, 39100, 39500, 39600, 39700, 39700, 40100, 40600, 40900, 41000, 41200, 41400, 41700, 41900, 42300, 42500, 42700, 42700, 42800, 42800, 42800, 43300, 43500, 43500, 43600, 43700, 43800, 44100, 44100, 44400, 44500, 44600, 44700, 44800, 44800, 45100, 45100, 45200, 45400, 45500, 45600, 45700, 45800, 45900, 45900, 46300, 46500, 46600, 46700, 46900, 47000, 47200, 47200, 47600, 47900, 48100, 48100, 48100, 48400, 48600, 48800, 49200, 49500, 49600, 49600, 49800, 50500, 50500, 50500, 51000, 51200, 51200, 51300, 51900, 52200, 52600, 52600, 52800, 53300, 53300, 53400, 53600, 53600, 53800, 53900, 53900, 54200, 54200, 54400, 54500, 54600, 54700, 54700, 54700, 55100, 55500, 55600, 55900, 55900, 56000, 56300, 57800, 58200, 58300, 58400, 58600, 59300, 59400, 59600, 60000, 60200, 60400, 61500, 61500, 62700, 63300, 63500, 63800, 64100, 64300, 64400, 64800, 65400, 65800, 65800, 65900, 66300, 66900, 67600, 67800, 69700, 69700, 70900, 71200, 72200, 72200, 72200, 73000, 73600, 73700, 74500, 74600, 74700, 76400, 76700, 76700, 76800, 77100, 77600, 79000, 79900, 79900, 82300, 82400, 83000, 83100, 83600, 84200, 85500, 88000, 88100, 88500, 91000, 95100, 96700, 97600, 106700, 107300, 107300, 107600, 109900, 113000, 117500, 119800, 140700], \"xaxis\": \"x\", \"y\": [863.3705195348194, 867.3520044324915, 875.0661314217311, 875.5638170339402, 876.5591882583582, 881.2872015743437, 882.0337299926572, 883.0291012170752, 884.5221580537022, 887.5082717269563, 889.4990141757924, 891.9874422368373, 893.2316562673599, 893.4804990734643, 893.9781846856733, 894.7247131039869, 895.2223987161959, 895.2223987161959, 896.2177699406138, 896.2177699406138, 898.4573551955544, 898.4573551955544, 898.7061980016589, 899.7015692260769, 900.1992548382859, 900.4480976443905, 902.4388400932264, 903.4342113176444, 903.683054123749, 903.9318969298535, 903.9318969298535, 904.4295825420625, 904.678425348167, 905.4249537664805, 905.9226393786895, 907.664539021421, 907.664539021421, 908.9087530519436, 909.9041242763616, 910.8994955007796, 911.148338306884, 911.3971811129886, 911.3971811129886, 912.3925523374066, 913.6367663679291, 914.3832947862426, 914.6321375923471, 915.1298232045561, 915.6275088167652, 916.3740372350786, 916.8717228472876, 917.8670940717057, 918.3647796839147, 918.8624652961237, 918.8624652961237, 919.1113081022281, 919.1113081022281, 919.1113081022281, 920.3555221327507, 920.8532077449597, 920.8532077449597, 921.1020505510642, 921.3508933571687, 921.5997361632732, 922.3462645815868, 922.3462645815868, 923.0927929999002, 923.3416358060047, 923.5904786121092, 923.8393214182138, 924.0881642243182, 924.0881642243182, 924.8346926426317, 924.8346926426317, 925.0835354487363, 925.5812210609453, 925.8300638670497, 926.0789066731543, 926.3277494792587, 926.5765922853633, 926.8254350914677, 926.8254350914677, 927.8208063158858, 928.3184919280948, 928.5673347341993, 928.8161775403038, 929.3138631525128, 929.5627059586172, 930.0603915708264, 930.0603915708264, 931.0557627952443, 931.8022912135579, 932.2999768257669, 932.2999768257669, 932.2999768257669, 933.0465052440803, 933.5441908562893, 934.0418764684983, 935.0372476929164, 935.7837761112298, 936.0326189173344, 936.0326189173344, 936.5303045295434, 938.2722041722749, 938.2722041722749, 938.2722041722749, 939.5164182027975, 940.0141038150064, 940.0141038150064, 940.2629466211109, 941.756003457738, 942.5025318760514, 943.4979031004694, 943.4979031004694, 943.9955887126785, 945.2398027432009, 945.2398027432009, 945.4886455493055, 945.9863311615145, 945.9863311615145, 946.4840167737235, 946.7328595798281, 946.7328595798281, 947.4793879981415, 947.4793879981415, 947.9770736103505, 948.225916416455, 948.4747592225596, 948.723602028664, 948.723602028664, 948.723602028664, 949.718973253082, 950.7143444775, 950.9631872836046, 951.7097157019181, 951.7097157019181, 951.9585585080226, 952.7050869263361, 956.4377290179036, 957.4331002423216, 957.6819430484261, 957.9307858545307, 958.4284714667397, 960.1703711094711, 960.4192139155757, 960.9168995277847, 961.9122707522026, 962.4099563644118, 962.9076419766207, 965.6449128437703, 965.6449128437703, 968.6310265170243, 970.1240833536513, 970.6217689658603, 971.3682973841738, 972.1148258024873, 972.6125114146963, 972.8613542208009, 973.8567254452189, 975.3497822818458, 976.3451535062638, 976.3451535062638, 976.5939963123684, 977.5893675367864, 979.0824243734135, 980.8243240161449, 981.322009628354, 986.0500229443395, 986.0500229443395, 989.0361366175936, 989.782665035907, 992.2710930969521, 992.2710930969521, 992.2710930969521, 994.2618355457881, 995.7548923824152, 996.0037351885196, 997.9944776373557, 998.2433204434601, 998.4921632495647, 1002.7224909533412, 1003.4690193716547, 1003.4690193716547, 1003.7178621777592, 1004.4643905960727, 1005.7086046265953, 1009.1924039120582, 1011.4319891669988, 1011.4319891669988, 1017.4042165135069, 1017.6530593196114, 1019.1461161562383, 1019.3949589623429, 1020.6391729928654, 1022.1322298294924, 1025.367186308851, 1031.5882564614635, 1031.837099267568, 1032.832470491986, 1039.0535406445986, 1049.2560956948832, 1053.2375805925553, 1055.4771658474958, 1078.1218612030057, 1079.6149180396326, 1079.6149180396326, 1080.3614464579462, 1086.0848309983498, 1093.7989579875893, 1104.996884262292, 1110.7202688026955, 1162.7284152785367], \"yaxis\": \"y\"}, {\"hovertemplate\": \"History=None<br>Salary=%{x}<br>AmountSpent=%{y}<extra></extra>\", \"legendgroup\": \"None\", \"marker\": {\"color\": \"#ab63fa\", \"symbol\": \"circle\"}, \"mode\": \"markers\", \"name\": \"None\", \"orientation\": \"v\", \"showlegend\": true, \"type\": \"scatter\", \"x\": [80700, 43700, 83100, 41700, 62800, 21700, 87700, 41600, 96800, 76200, 77700, 58900, 105300, 33700, 25900, 66700, 72500, 13200, 15600, 71500, 14400, 57600, 48800, 11400, 127000, 39000, 16300, 21700, 42200, 91800, 79600, 46600, 25800, 66800, 105300, 14800, 10400, 16100, 63300, 19100, 93400, 21400, 17400, 53700, 11400, 34300, 17000, 52900, 14300, 88200, 51900, 60100, 84800, 61700, 123600, 48700, 40000, 118300, 64600, 113800, 26700, 68700, 101700, 42300, 62200, 11400, 97000, 29600, 64000, 70900, 23200, 13900, 66300, 26100, 43200, 114100, 97200, 76100, 14200, 32700, 43300, 19000, 68200, 39600, 67300, 59700, 34700, 50600, 27800, 118600, 130700, 25600, 63500, 55900, 53900, 55800, 40200, 41500, 20900, 48900, 60300, 27000, 10200, 53300, 70200, 86100, 10200, 96300, 53700, 108300, 36600, 33400, 70000, 13300, 14600, 56600, 37000, 22800, 59100, 118400, 92300, 11200, 42500, 82800, 21900, 36900, 97300, 11500, 21900, 23200, 73300, 35200, 13100, 45000, 49900, 47900, 96600, 31600, 33400, 68800, 45800, 69900, 97100, 62500, 60300, 70400, 11000, 61600, 88700, 81400, 43300, 79400, 21200, 20400, 52400, 58700, 62200, 16900, 56300, 20800, 15000, 17800, 15200, 51400, 21600, 31900, 45500, 12800, 84700, 41500, 68900, 80800, 39900, 61000, 38700, 98900, 64300, 75600, 73000, 29600, 92900, 27500, 17600, 35800, 50000, 59900, 13600, 14200, 54200, 102700, 60200, 21400, 21700, 12500, 31200, 13700, 55900, 13700, 82200, 65400, 63300, 51600, 55000, 16300, 12500, 41300, 102400, 27900, 23800, 65800, 51900, 111900, 82400, 64600, 43100, 84500, 61000, 79300, 37800, 71600, 58600, 131500, 22900, 12800, 14100, 52100, 22600, 55100, 66500, 10200, 74500, 60200, 14800, 106400, 39500, 122700, 75500, 62900, 46600, 24000, 72200, 14900, 41600, 68500, 35900, 36500, 85300, 33200, 35300, 21300, 63700, 11000, 95900, 17900, 76600, 92400, 95800, 12400, 49100, 10600, 76400, 55600, 72600, 19500, 17200, 47300, 32000, 43700, 22400, 70500, 25300, 15900, 23200, 42400, 40200, 25100, 46300, 74900, 99200, 84100, 47000, 102700, 100100, 87400, 66200, 29200, 52600, 97600, 13200, 22600, 14900, 36700, 43100, 75200, 25300, 33000, 33200, 49300, 123800, 101700, 17600, 19400, 40500], \"xaxis\": \"x\", \"y\": [3034, 927, 2766, 521, 707, 774, 2446, 982, 3082, 2437, 983, 1215, 3360, 614, 449, 1310, 2595, 358, 468, 964, 615, 1006, 1647, 258, 1821, 643, 470, 708, 1753, 2452, 1575, 1153, 451, 2098, 3505, 436, 189, 202, 633, 176, 3079, 326, 332, 1081, 312, 1297, 581, 2316, 458, 2749, 780, 1594, 1826, 1161, 1892, 1457, 613, 2681, 1298, 3273, 459, 1699, 2551, 856, 1583, 186, 2599, 774, 1552, 690, 770, 570, 2243, 494, 917, 1976, 1634, 719, 400, 1276, 1584, 428, 818, 1085, 1212, 1422, 1615, 713, 408, 1553, 2070, 426, 2321, 2555, 1186, 821, 881, 1314, 296, 915, 2091, 1012, 333, 508, 1583, 1255, 199, 3916, 1194, 2224, 587, 617, 1227, 236, 307, 1607, 632, 452, 1426, 3941, 2141, 106, 798, 1544, 192, 1480, 3048, 157, 576, 788, 1694, 827, 314, 902, 1631, 1090, 1437, 476, 567, 1658, 712, 2101, 1473, 921, 1252, 1127, 393, 1666, 2448, 1014, 1021, 1175, 417, 513, 857, 1479, 2119, 281, 1608, 260, 341, 589, 324, 694, 491, 860, 1624, 230, 2705, 1213, 2784, 1598, 619, 1850, 1506, 3126, 1325, 1541, 1534, 583, 1705, 571, 245, 1355, 1079, 613, 349, 192, 1405, 2381, 1364, 414, 387, 422, 1087, 163, 788, 414, 1517, 836, 1408, 1082, 1162, 360, 206, 932, 2466, 576, 428, 1017, 1162, 2340, 2122, 2935, 1444, 1557, 1611, 2047, 1185, 1198, 989, 2840, 814, 365, 153, 1668, 521, 826, 1181, 362, 1413, 1748, 376, 1757, 412, 4984, 2450, 2561, 546, 362, 3278, 275, 1634, 1500, 962, 747, 2523, 1639, 1369, 329, 1351, 195, 3168, 395, 2904, 2191, 2581, 229, 934, 517, 2216, 952, 1999, 571, 329, 640, 1320, 1344, 947, 2145, 451, 406, 534, 1166, 1197, 421, 1138, 1804, 2796, 1352, 963, 1473, 1597, 2729, 1024, 636, 1773, 2902, 512, 865, 422, 529, 1224, 2702, 510, 700, 320, 1692, 3537, 941, 273, 384, 1073], \"yaxis\": \"y\"}, {\"hovertemplate\": \"<b>OLS trendline</b><br>AmountSpent = 0.0236413 * Salary + 19.6222<br>R<sup>2</sup>=0.671351<br><br>History=None<br>Salary=%{x}<br>AmountSpent=%{y} <b>(trend)</b><extra></extra>\", \"legendgroup\": \"None\", \"marker\": {\"color\": \"#ab63fa\", \"symbol\": \"circle\"}, \"mode\": \"lines\", \"name\": \"None\", \"showlegend\": false, \"type\": \"scatter\", \"x\": [10200, 10200, 10200, 10400, 10600, 11000, 11000, 11200, 11400, 11400, 11400, 11500, 12400, 12500, 12500, 12800, 12800, 13100, 13200, 13200, 13300, 13600, 13700, 13700, 13900, 14100, 14200, 14200, 14300, 14400, 14600, 14800, 14800, 14900, 14900, 15000, 15200, 15600, 15900, 16100, 16300, 16300, 16900, 17000, 17200, 17400, 17600, 17600, 17800, 17900, 19000, 19100, 19400, 19500, 20400, 20800, 20900, 21200, 21300, 21400, 21400, 21600, 21700, 21700, 21700, 21900, 21900, 22400, 22600, 22600, 22800, 22900, 23200, 23200, 23200, 23800, 24000, 25100, 25300, 25300, 25600, 25800, 25900, 26100, 26700, 27000, 27500, 27800, 27900, 29200, 29600, 29600, 31200, 31600, 31900, 32000, 32700, 33000, 33200, 33200, 33400, 33400, 33700, 34300, 34700, 35200, 35300, 35800, 35900, 36500, 36600, 36700, 36900, 37000, 37800, 38700, 39000, 39500, 39600, 39900, 40000, 40200, 40200, 40500, 41300, 41500, 41500, 41600, 41600, 41700, 42200, 42300, 42400, 42500, 43100, 43100, 43200, 43300, 43300, 43700, 43700, 45000, 45500, 45800, 46300, 46600, 46600, 47000, 47300, 47900, 48700, 48800, 48900, 49100, 49300, 49900, 50000, 50600, 51400, 51600, 51900, 51900, 52100, 52400, 52600, 52900, 53300, 53700, 53700, 53900, 54200, 55000, 55100, 55600, 55800, 55900, 55900, 56300, 56600, 57600, 58600, 58700, 58900, 59100, 59700, 59900, 60100, 60200, 60200, 60300, 60300, 61000, 61000, 61600, 61700, 62200, 62200, 62500, 62800, 62900, 63300, 63300, 63500, 63700, 64000, 64300, 64600, 64600, 65400, 65800, 66200, 66300, 66500, 66700, 66800, 67300, 68200, 68500, 68700, 68800, 68900, 69900, 70000, 70200, 70400, 70500, 70900, 71500, 71600, 72200, 72500, 72600, 73000, 73300, 74500, 74900, 75200, 75500, 75600, 76100, 76200, 76400, 76600, 77700, 79300, 79400, 79600, 80700, 80800, 81400, 82200, 82400, 82800, 83100, 84100, 84500, 84700, 84800, 85300, 86100, 87400, 87700, 88200, 88700, 91800, 92300, 92400, 92900, 93400, 95800, 95900, 96300, 96600, 96800, 97000, 97100, 97200, 97300, 97600, 98900, 99200, 100100, 101700, 101700, 102400, 102700, 102700, 105300, 105300, 106400, 108300, 111900, 113800, 114100, 118300, 118400, 118600, 122700, 123600, 123800, 127000, 130700, 131500], \"xaxis\": \"x\", \"y\": [260.76298313725044, 260.76298313725044, 260.76298313725044, 265.49123380039094, 270.21948446353144, 279.67598578981244, 279.67598578981244, 284.40423645295294, 289.13248711609344, 289.13248711609344, 289.13248711609344, 291.49661244766367, 312.7737404317959, 315.1378657633661, 315.1378657633661, 322.23024175807683, 322.23024175807683, 329.3226177527876, 331.68674308435783, 331.68674308435783, 334.05086841592805, 341.14324441063883, 343.50736974220905, 343.50736974220905, 348.23562040534955, 352.96387106849005, 355.3279964000603, 355.3279964000603, 357.6921217316305, 360.0562470632008, 364.78449772634127, 369.51274838948177, 369.51274838948177, 371.876873721052, 371.876873721052, 374.2409990526222, 378.9692497157627, 388.4257510420437, 395.51812703675444, 400.24637769989494, 404.97462836303544, 404.97462836303544, 419.1593803524569, 421.52350568402716, 426.2517563471676, 430.9800070103081, 435.7082576734486, 435.7082576734486, 440.4365083365891, 442.8006336681593, 468.80601231543204, 471.17013764700226, 478.262513641713, 480.62663897328326, 501.9037669574154, 511.3602682836964, 513.7243936152666, 520.8167696099774, 523.1808949415476, 525.5450202731179, 525.5450202731179, 530.2732709362583, 532.6373962678285, 532.6373962678285, 532.6373962678285, 537.3656469309691, 537.3656469309691, 549.1862735888203, 553.9145242519608, 553.9145242519608, 558.6427749151013, 561.0069002466715, 568.0992762413822, 568.0992762413822, 568.0992762413822, 582.2840282308038, 587.0122788939442, 613.0176575412169, 617.7459082043574, 617.7459082043574, 624.8382841990681, 629.5665348622086, 631.9306601937789, 636.6589108569193, 650.8436628463409, 657.9360388410515, 669.7566654989027, 676.8490414936135, 679.2131668251837, 709.946796135597, 719.403297461878, 719.403297461878, 757.2293027670019, 766.6858040932829, 773.7781800879935, 776.1423054195637, 792.6911827405555, 799.7835587352662, 804.5118093984067, 804.5118093984067, 809.2400600615472, 809.2400600615472, 816.332436056258, 830.5171880456794, 839.9736893719604, 851.7943160298116, 854.1584413613818, 865.9790680192331, 868.3431933508033, 882.5279453402248, 884.8920706717951, 887.2561960033653, 891.9844466665057, 894.3485719980761, 913.261574650638, 934.5387026347702, 941.631078629481, 953.4517052873322, 955.8158306189024, 962.9082066136132, 965.2723319451834, 970.0005826083238, 970.0005826083238, 977.0929586030346, 996.0059612555965, 1000.7342119187371, 1000.7342119187371, 1003.0983372503073, 1003.0983372503073, 1005.4624625818775, 1017.2830892397287, 1019.647214571299, 1022.0113399028693, 1024.3754652344396, 1038.560217223861, 1038.560217223861, 1040.9243425554312, 1043.2884678870016, 1043.2884678870016, 1052.7449692132825, 1052.7449692132825, 1083.4785985236956, 1095.299225181547, 1102.3916011762576, 1114.2122278341087, 1121.3046038288196, 1121.3046038288196, 1130.7611051551005, 1137.8534811498112, 1152.0382331392327, 1170.9512357917947, 1173.315361123365, 1175.6794864549352, 1180.4077371180756, 1185.135987781216, 1199.3207397706376, 1201.6848651022078, 1215.8696170916294, 1234.7826197441914, 1239.5108704073318, 1246.6032464020425, 1246.6032464020425, 1251.331497065183, 1258.4238730598938, 1263.1521237230343, 1270.244499717745, 1279.7010010440258, 1289.157502370307, 1289.157502370307, 1293.8857530334474, 1300.978129028158, 1319.89113168072, 1322.2552570122903, 1334.0758836701416, 1338.804134333282, 1341.1682596648523, 1341.1682596648523, 1350.6247609911334, 1357.717136985844, 1381.3583903015465, 1404.999643617249, 1407.3637689488191, 1412.0920196119596, 1416.8202702751, 1431.0050222645216, 1435.733272927662, 1440.4615235908025, 1442.825648922373, 1442.825648922373, 1445.1897742539431, 1445.1897742539431, 1461.7386515749347, 1461.7386515749347, 1475.9234035643562, 1478.2875288959265, 1490.1081555537778, 1490.1081555537778, 1497.2005315484885, 1504.2929075431991, 1506.6570328747694, 1516.1135342010505, 1516.1135342010505, 1520.841784864191, 1525.5700355273314, 1532.662411522042, 1539.754787516753, 1546.8471635114636, 1546.8471635114636, 1565.7601661640256, 1575.2166674903065, 1584.6731688165876, 1587.0372941481578, 1591.7655448112982, 1596.4937954744387, 1598.857920806009, 1610.6785474638602, 1631.9556754479925, 1639.0480514427031, 1643.7763021058436, 1646.1404274374138, 1648.504552768984, 1672.1458060846865, 1674.509931416257, 1679.2381820793973, 1683.9664327425378, 1686.330558074108, 1695.787059400389, 1709.9718113898105, 1712.3359367213807, 1726.5206887108022, 1733.613064705513, 1735.9771900370831, 1745.4336913633642, 1752.526067358075, 1780.8955713369178, 1790.352072663199, 1797.4444486579096, 1804.5368246526202, 1806.9009499841904, 1818.7215766420418, 1821.085701973612, 1825.8139526367524, 1830.542203299893, 1856.5475819471656, 1894.3735872522896, 1896.7377125838598, 1901.4659632470002, 1927.471341894273, 1929.8354672258433, 1944.0202192152647, 1962.9332218678267, 1967.661472530967, 1977.1179738572482, 1984.2103498519589, 2007.8516031676613, 2017.3081044939422, 2022.0363551570829, 2024.400480488653, 2036.2211071465042, 2055.134109799066, 2085.8677391094798, 2092.96011510419, 2104.7807417620415, 2116.601368419893, 2189.8892536985704, 2201.7098803564218, 2204.0740056879918, 2215.894632345843, 2227.7152590036944, 2284.45426696138, 2286.8183922929506, 2296.2748936192315, 2303.367269613942, 2308.0955202770824, 2312.8237709402233, 2315.1878962717933, 2317.5520216033638, 2319.9161469349337, 2327.0085229296446, 2357.7421522400577, 2364.8345282347686, 2386.111656218901, 2423.9376615240244, 2423.9376615240244, 2440.486538845016, 2447.578914839727, 2447.578914839727, 2509.0461734605533, 2509.0461734605533, 2535.051552107826, 2579.969933407661, 2665.0784453441897, 2709.996826644024, 2717.089202638735, 2816.3824665646853, 2818.7465918962557, 2823.474842559396, 2920.403981153776, 2941.681109137908, 2946.4093598010486, 3022.0613704112966, 3109.5340076793955, 3128.4470103319577], \"yaxis\": \"y\"}],                        {\"legend\": {\"title\": {\"text\": \"History\"}, \"tracegroupgap\": 0}, \"margin\": {\"t\": 60}, \"template\": {\"data\": {\"bar\": [{\"error_x\": {\"color\": \"#2a3f5f\"}, \"error_y\": {\"color\": \"#2a3f5f\"}, \"marker\": {\"line\": {\"color\": \"#E5ECF6\", \"width\": 0.5}}, \"type\": \"bar\"}], \"barpolar\": [{\"marker\": {\"line\": {\"color\": \"#E5ECF6\", \"width\": 0.5}}, \"type\": \"barpolar\"}], \"carpet\": [{\"aaxis\": {\"endlinecolor\": \"#2a3f5f\", \"gridcolor\": \"white\", \"linecolor\": \"white\", \"minorgridcolor\": \"white\", \"startlinecolor\": \"#2a3f5f\"}, \"baxis\": {\"endlinecolor\": \"#2a3f5f\", \"gridcolor\": \"white\", \"linecolor\": \"white\", \"minorgridcolor\": \"white\", \"startlinecolor\": \"#2a3f5f\"}, \"type\": \"carpet\"}], \"choropleth\": [{\"colorbar\": {\"outlinewidth\": 0, \"ticks\": \"\"}, \"type\": \"choropleth\"}], \"contour\": [{\"colorbar\": {\"outlinewidth\": 0, \"ticks\": \"\"}, \"colorscale\": [[0.0, \"#0d0887\"], [0.1111111111111111, \"#46039f\"], [0.2222222222222222, \"#7201a8\"], [0.3333333333333333, \"#9c179e\"], [0.4444444444444444, \"#bd3786\"], [0.5555555555555556, \"#d8576b\"], [0.6666666666666666, \"#ed7953\"], [0.7777777777777778, \"#fb9f3a\"], [0.8888888888888888, \"#fdca26\"], [1.0, \"#f0f921\"]], \"type\": \"contour\"}], \"contourcarpet\": [{\"colorbar\": {\"outlinewidth\": 0, \"ticks\": \"\"}, \"type\": \"contourcarpet\"}], \"heatmap\": [{\"colorbar\": {\"outlinewidth\": 0, \"ticks\": \"\"}, \"colorscale\": [[0.0, \"#0d0887\"], [0.1111111111111111, \"#46039f\"], [0.2222222222222222, \"#7201a8\"], [0.3333333333333333, \"#9c179e\"], [0.4444444444444444, \"#bd3786\"], [0.5555555555555556, \"#d8576b\"], [0.6666666666666666, \"#ed7953\"], [0.7777777777777778, \"#fb9f3a\"], [0.8888888888888888, \"#fdca26\"], [1.0, \"#f0f921\"]], \"type\": \"heatmap\"}], \"heatmapgl\": [{\"colorbar\": {\"outlinewidth\": 0, \"ticks\": \"\"}, \"colorscale\": [[0.0, \"#0d0887\"], [0.1111111111111111, \"#46039f\"], [0.2222222222222222, \"#7201a8\"], [0.3333333333333333, \"#9c179e\"], [0.4444444444444444, \"#bd3786\"], [0.5555555555555556, \"#d8576b\"], [0.6666666666666666, \"#ed7953\"], [0.7777777777777778, \"#fb9f3a\"], [0.8888888888888888, \"#fdca26\"], [1.0, \"#f0f921\"]], \"type\": \"heatmapgl\"}], \"histogram\": [{\"marker\": {\"colorbar\": {\"outlinewidth\": 0, \"ticks\": \"\"}}, \"type\": \"histogram\"}], \"histogram2d\": [{\"colorbar\": {\"outlinewidth\": 0, \"ticks\": \"\"}, \"colorscale\": [[0.0, \"#0d0887\"], [0.1111111111111111, \"#46039f\"], [0.2222222222222222, \"#7201a8\"], [0.3333333333333333, \"#9c179e\"], [0.4444444444444444, \"#bd3786\"], [0.5555555555555556, \"#d8576b\"], [0.6666666666666666, \"#ed7953\"], [0.7777777777777778, \"#fb9f3a\"], [0.8888888888888888, \"#fdca26\"], [1.0, \"#f0f921\"]], \"type\": \"histogram2d\"}], \"histogram2dcontour\": [{\"colorbar\": {\"outlinewidth\": 0, \"ticks\": \"\"}, \"colorscale\": [[0.0, \"#0d0887\"], [0.1111111111111111, \"#46039f\"], [0.2222222222222222, \"#7201a8\"], [0.3333333333333333, \"#9c179e\"], [0.4444444444444444, \"#bd3786\"], [0.5555555555555556, \"#d8576b\"], [0.6666666666666666, \"#ed7953\"], [0.7777777777777778, \"#fb9f3a\"], [0.8888888888888888, \"#fdca26\"], [1.0, \"#f0f921\"]], \"type\": \"histogram2dcontour\"}], \"mesh3d\": [{\"colorbar\": {\"outlinewidth\": 0, \"ticks\": \"\"}, \"type\": \"mesh3d\"}], \"parcoords\": [{\"line\": {\"colorbar\": {\"outlinewidth\": 0, \"ticks\": \"\"}}, \"type\": \"parcoords\"}], \"pie\": [{\"automargin\": true, \"type\": \"pie\"}], \"scatter\": [{\"marker\": {\"colorbar\": {\"outlinewidth\": 0, \"ticks\": \"\"}}, \"type\": \"scatter\"}], \"scatter3d\": [{\"line\": {\"colorbar\": {\"outlinewidth\": 0, \"ticks\": \"\"}}, \"marker\": {\"colorbar\": {\"outlinewidth\": 0, \"ticks\": \"\"}}, \"type\": \"scatter3d\"}], \"scattercarpet\": [{\"marker\": {\"colorbar\": {\"outlinewidth\": 0, \"ticks\": \"\"}}, \"type\": \"scattercarpet\"}], \"scattergeo\": [{\"marker\": {\"colorbar\": {\"outlinewidth\": 0, \"ticks\": \"\"}}, \"type\": \"scattergeo\"}], \"scattergl\": [{\"marker\": {\"colorbar\": {\"outlinewidth\": 0, \"ticks\": \"\"}}, \"type\": \"scattergl\"}], \"scattermapbox\": [{\"marker\": {\"colorbar\": {\"outlinewidth\": 0, \"ticks\": \"\"}}, \"type\": \"scattermapbox\"}], \"scatterpolar\": [{\"marker\": {\"colorbar\": {\"outlinewidth\": 0, \"ticks\": \"\"}}, \"type\": \"scatterpolar\"}], \"scatterpolargl\": [{\"marker\": {\"colorbar\": {\"outlinewidth\": 0, \"ticks\": \"\"}}, \"type\": \"scatterpolargl\"}], \"scatterternary\": [{\"marker\": {\"colorbar\": {\"outlinewidth\": 0, \"ticks\": \"\"}}, \"type\": \"scatterternary\"}], \"surface\": [{\"colorbar\": {\"outlinewidth\": 0, \"ticks\": \"\"}, \"colorscale\": [[0.0, \"#0d0887\"], [0.1111111111111111, \"#46039f\"], [0.2222222222222222, \"#7201a8\"], [0.3333333333333333, \"#9c179e\"], [0.4444444444444444, \"#bd3786\"], [0.5555555555555556, \"#d8576b\"], [0.6666666666666666, \"#ed7953\"], [0.7777777777777778, \"#fb9f3a\"], [0.8888888888888888, \"#fdca26\"], [1.0, \"#f0f921\"]], \"type\": \"surface\"}], \"table\": [{\"cells\": {\"fill\": {\"color\": \"#EBF0F8\"}, \"line\": {\"color\": \"white\"}}, \"header\": {\"fill\": {\"color\": \"#C8D4E3\"}, \"line\": {\"color\": \"white\"}}, \"type\": \"table\"}]}, \"layout\": {\"annotationdefaults\": {\"arrowcolor\": \"#2a3f5f\", \"arrowhead\": 0, \"arrowwidth\": 1}, \"coloraxis\": {\"colorbar\": {\"outlinewidth\": 0, \"ticks\": \"\"}}, \"colorscale\": {\"diverging\": [[0, \"#8e0152\"], [0.1, \"#c51b7d\"], [0.2, \"#de77ae\"], [0.3, \"#f1b6da\"], [0.4, \"#fde0ef\"], [0.5, \"#f7f7f7\"], [0.6, \"#e6f5d0\"], [0.7, \"#b8e186\"], [0.8, \"#7fbc41\"], [0.9, \"#4d9221\"], [1, \"#276419\"]], \"sequential\": [[0.0, \"#0d0887\"], [0.1111111111111111, \"#46039f\"], [0.2222222222222222, \"#7201a8\"], [0.3333333333333333, \"#9c179e\"], [0.4444444444444444, \"#bd3786\"], [0.5555555555555556, \"#d8576b\"], [0.6666666666666666, \"#ed7953\"], [0.7777777777777778, \"#fb9f3a\"], [0.8888888888888888, \"#fdca26\"], [1.0, \"#f0f921\"]], \"sequentialminus\": [[0.0, \"#0d0887\"], [0.1111111111111111, \"#46039f\"], [0.2222222222222222, \"#7201a8\"], [0.3333333333333333, \"#9c179e\"], [0.4444444444444444, \"#bd3786\"], [0.5555555555555556, \"#d8576b\"], [0.6666666666666666, \"#ed7953\"], [0.7777777777777778, \"#fb9f3a\"], [0.8888888888888888, \"#fdca26\"], [1.0, \"#f0f921\"]]}, \"colorway\": [\"#636efa\", \"#EF553B\", \"#00cc96\", \"#ab63fa\", \"#FFA15A\", \"#19d3f3\", \"#FF6692\", \"#B6E880\", \"#FF97FF\", \"#FECB52\"], \"font\": {\"color\": \"#2a3f5f\"}, \"geo\": {\"bgcolor\": \"white\", \"lakecolor\": \"white\", \"landcolor\": \"#E5ECF6\", \"showlakes\": true, \"showland\": true, \"subunitcolor\": \"white\"}, \"hoverlabel\": {\"align\": \"left\"}, \"hovermode\": \"closest\", \"mapbox\": {\"style\": \"light\"}, \"paper_bgcolor\": \"white\", \"plot_bgcolor\": \"#E5ECF6\", \"polar\": {\"angularaxis\": {\"gridcolor\": \"white\", \"linecolor\": \"white\", \"ticks\": \"\"}, \"bgcolor\": \"#E5ECF6\", \"radialaxis\": {\"gridcolor\": \"white\", \"linecolor\": \"white\", \"ticks\": \"\"}}, \"scene\": {\"xaxis\": {\"backgroundcolor\": \"#E5ECF6\", \"gridcolor\": \"white\", \"gridwidth\": 2, \"linecolor\": \"white\", \"showbackground\": true, \"ticks\": \"\", \"zerolinecolor\": \"white\"}, \"yaxis\": {\"backgroundcolor\": \"#E5ECF6\", \"gridcolor\": \"white\", \"gridwidth\": 2, \"linecolor\": \"white\", \"showbackground\": true, \"ticks\": \"\", \"zerolinecolor\": \"white\"}, \"zaxis\": {\"backgroundcolor\": \"#E5ECF6\", \"gridcolor\": \"white\", \"gridwidth\": 2, \"linecolor\": \"white\", \"showbackground\": true, \"ticks\": \"\", \"zerolinecolor\": \"white\"}}, \"shapedefaults\": {\"line\": {\"color\": \"#2a3f5f\"}}, \"ternary\": {\"aaxis\": {\"gridcolor\": \"white\", \"linecolor\": \"white\", \"ticks\": \"\"}, \"baxis\": {\"gridcolor\": \"white\", \"linecolor\": \"white\", \"ticks\": \"\"}, \"bgcolor\": \"#E5ECF6\", \"caxis\": {\"gridcolor\": \"white\", \"linecolor\": \"white\", \"ticks\": \"\"}}, \"title\": {\"x\": 0.05}, \"xaxis\": {\"automargin\": true, \"gridcolor\": \"white\", \"linecolor\": \"white\", \"ticks\": \"\", \"title\": {\"standoff\": 15}, \"zerolinecolor\": \"white\", \"zerolinewidth\": 2}, \"yaxis\": {\"automargin\": true, \"gridcolor\": \"white\", \"linecolor\": \"white\", \"ticks\": \"\", \"title\": {\"standoff\": 15}, \"zerolinecolor\": \"white\", \"zerolinewidth\": 2}}}, \"title\": {\"text\": \"History With Salary Vs Amount Spent \", \"x\": 0.5}, \"xaxis\": {\"anchor\": \"y\", \"domain\": [0.0, 1.0], \"title\": {\"text\": \"Salary\"}}, \"yaxis\": {\"anchor\": \"x\", \"domain\": [0.0, 1.0], \"title\": {\"text\": \"Amount Spent\"}}},                        {\"responsive\": true}                    ).then(function(){\n",
       "                            \n",
       "var gd = document.getElementById('790b4d58-32a5-46e2-bcbc-9119ea36e3c0');\n",
       "var x = new MutationObserver(function (mutations, observer) {{\n",
       "        var display = window.getComputedStyle(gd).display;\n",
       "        if (!display || display === 'none') {{\n",
       "            console.log([gd, 'removed!']);\n",
       "            Plotly.purge(gd);\n",
       "            observer.disconnect();\n",
       "        }}\n",
       "}});\n",
       "\n",
       "// Listen for the removal of the full notebook cells\n",
       "var notebookContainer = gd.closest('#notebook-container');\n",
       "if (notebookContainer) {{\n",
       "    x.observe(notebookContainer, {childList: true});\n",
       "}}\n",
       "\n",
       "// Listen for the clearing of the current output cell\n",
       "var outputEl = gd.closest('.output');\n",
       "if (outputEl) {{\n",
       "    x.observe(outputEl, {childList: true});\n",
       "}}\n",
       "\n",
       "                        })                };                });            </script>        </div>"
      ]
     },
     "metadata": {},
     "output_type": "display_data"
    }
   ],
   "source": [
    "# Scatter plot - Category\n",
    "fig = px.scatter(df_missing, x='Salary', y='AmountSpent',trendline=\"ols\",\n",
    "                 color='History') # Added color to basic scatter\n",
    "fig.update_layout(title='History With Salary Vs Amount Spent ',xaxis_title=\"Salary\",yaxis_title=\"Amount Spent\",title_x=0.5)\n",
    "fig.show()"
   ]
  },
  {
   "cell_type": "code",
   "execution_count": 64,
   "metadata": {
    "execution": {
     "iopub.execute_input": "2020-12-10T12:48:34.508759Z",
     "iopub.status.busy": "2020-12-10T12:48:34.507968Z",
     "iopub.status.idle": "2020-12-10T12:48:34.631901Z",
     "shell.execute_reply": "2020-12-10T12:48:34.631159Z"
    },
    "papermill": {
     "duration": 0.375414,
     "end_time": "2020-12-10T12:48:34.632031",
     "exception": false,
     "start_time": "2020-12-10T12:48:34.256617",
     "status": "completed"
    },
    "tags": []
   },
   "outputs": [
    {
     "data": {
      "text/html": [
       "<div>                            <div id=\"ddadd410-78d4-4d49-a9d2-df683da33c5f\" class=\"plotly-graph-div\" style=\"height:525px; width:100%;\"></div>            <script type=\"text/javascript\">                require([\"plotly\"], function(Plotly) {                    window.PLOTLYENV=window.PLOTLYENV || {};                                    if (document.getElementById(\"ddadd410-78d4-4d49-a9d2-df683da33c5f\")) {                    Plotly.newPlot(                        \"ddadd410-78d4-4d49-a9d2-df683da33c5f\",                        [{\"hovertemplate\": \"Catalogs=6<br>Salary=%{x}<br>AmountSpent=%{y}<extra></extra>\", \"legendgroup\": \"6\", \"marker\": {\"color\": \"#636efa\", \"symbol\": \"circle\"}, \"mode\": \"markers\", \"name\": \"6\", \"orientation\": \"v\", \"showlegend\": true, \"type\": \"scatter\", \"x\": [47500, 63600, 30400, 51900, 14300, 41700, 62800, 27000, 77700, 90500, 56000, 33700, 15600, 62600, 71500, 15000, 57600, 24400, 74700, 11400, 39000, 12900, 75500, 27400, 21100, 79600, 104900, 56300, 14800, 25800, 13800, 16100, 63300, 19100, 21400, 14600, 10800, 41400, 49100, 11900, 60300, 51900, 73100, 35000, 46900, 45800, 39000, 40000, 91000, 12500, 64600, 16900, 13600, 80000, 72900, 80700, 23600, 42300, 11400, 64000, 70900, 14500, 29000, 26100, 12000, 76100, 47500, 31300, 14500, 68200, 67300, 50600, 106700, 53900, 25500, 130700, 55800, 25900, 20900, 69700, 82500, 31900, 53300, 15400, 70200, 23000, 73000, 65300, 10200, 24000, 12100, 36600, 33400, 70000, 13300, 14600, 74500, 37000, 18400, 25000, 10100, 59100, 19700, 11200, 42500, 82800, 21900, 96900, 11500, 44600, 14200, 97400, 23100, 32700, 126300, 17900, 60000, 68800, 25700, 45800, 60500, 62500, 17800, 105500, 60300, 12000, 35200, 18900, 17300, 81400, 56300, 79400, 79400, 17600, 76700, 72900, 21200, 24400, 16900, 14600, 15100, 20800, 51400, 38200, 50700, 17900, 23800, 36900, 20600, 83100, 39900, 64300, 73600, 73000, 92900, 13900, 64300, 77100, 81800, 17600, 50000, 59900, 62800, 70000, 97400, 22800, 14200, 38400, 13300, 21700, 55600, 13700, 58600, 55900, 90500, 65400, 63300, 43900, 15100, 58600, 131500, 37200, 41900, 14100, 79200, 22600, 55100, 42000, 39500, 28200, 19400, 42800, 24000, 35100, 19700, 63700, 42700, 15500, 13000, 61000, 12600, 12700, 92400, 12900, 74400, 40600, 54200, 49100, 99600, 16300, 47300, 44700, 64300, 96100, 88600, 54200, 25300, 46600, 83000, 17300, 25100, 46300, 84100, 14400, 49600, 47000, 36600, 60400, 100100, 54400, 105600, 117900, 66200, 88000, 29200, 168800, 67800, 20000, 23400, 37300, 36700, 44800, 18400, 15400, 25300, 83600, 45500, 93000, 33000, 33200, 101700, 17600], \"xaxis\": \"x\", \"y\": [755, 1318, 495, 158, 194, 521, 707, 183, 983, 1116, 530, 614, 136, 565, 964, 38, 1006, 220, 704, 258, 643, 107, 741, 278, 470, 1575, 450, 873, 209, 451, 127, 202, 633, 176, 326, 143, 123, 223, 474, 143, 701, 780, 1582, 473, 703, 489, 292, 613, 708, 202, 1298, 247, 183, 1985, 252, 202, 161, 856, 186, 1552, 690, 222, 482, 494, 264, 719, 847, 357, 183, 818, 1212, 713, 607, 735, 139, 2070, 821, 242, 296, 584, 859, 616, 508, 297, 1583, 79, 490, 193, 199, 357, 90, 587, 617, 1227, 236, 307, 1481, 632, 303, 264, 93, 1426, 330, 106, 798, 1544, 192, 1159, 157, 236, 250, 880, 466, 273, 1888, 446, 966, 1658, 173, 712, 409, 921, 216, 1781, 1252, 140, 233, 184, 166, 1014, 321, 1175, 200, 224, 534, 753, 242, 491, 281, 47, 274, 260, 694, 526, 157, 62, 438, 371, 201, 586, 619, 1325, 647, 1534, 1705, 191, 239, 568, 919, 245, 1079, 613, 177, 785, 213, 258, 192, 188, 184, 387, 984, 163, 624, 788, 863, 836, 1408, 358, 348, 989, 2840, 247, 654, 153, 1905, 521, 826, 105, 412, 224, 563, 685, 362, 421, 535, 1351, 541, 210, 43, 975, 241, 65, 2191, 167, 1893, 690, 486, 934, 871, 317, 640, 502, 661, 1588, 212, 757, 451, 158, 726, 411, 421, 1138, 1352, 390, 770, 963, 833, 791, 1597, 1150, 304, 1760, 1024, 524, 636, 1512, 680, 182, 348, 673, 529, 666, 319, 172, 510, 538, 754, 1046, 700, 320, 941, 273], \"yaxis\": \"y\"}, {\"hovertemplate\": \"<b>OLS trendline</b><br>AmountSpent = 0.0119238 * Salary + 57.5433<br>R<sup>2</sup>=0.524619<br><br>Catalogs=6<br>Salary=%{x}<br>AmountSpent=%{y} <b>(trend)</b><extra></extra>\", \"legendgroup\": \"6\", \"marker\": {\"color\": \"#636efa\", \"symbol\": \"circle\"}, \"mode\": \"lines\", \"name\": \"6\", \"showlegend\": false, \"type\": \"scatter\", \"x\": [10100, 10200, 10800, 11200, 11400, 11400, 11500, 11900, 12000, 12000, 12100, 12500, 12600, 12700, 12900, 12900, 13000, 13300, 13300, 13600, 13700, 13800, 13900, 14100, 14200, 14200, 14300, 14400, 14500, 14500, 14600, 14600, 14600, 14800, 15000, 15100, 15100, 15400, 15400, 15500, 15600, 16100, 16300, 16900, 16900, 17300, 17300, 17600, 17600, 17600, 17800, 17900, 17900, 18400, 18400, 18900, 19100, 19400, 19700, 19700, 20000, 20600, 20800, 20900, 21100, 21200, 21400, 21700, 21900, 22600, 22800, 23000, 23100, 23400, 23600, 23800, 24000, 24000, 24400, 24400, 25000, 25100, 25300, 25300, 25500, 25700, 25800, 25900, 26100, 27000, 27400, 28200, 29000, 29200, 30400, 31300, 31900, 32700, 33000, 33200, 33400, 33700, 35000, 35100, 35200, 36600, 36600, 36700, 36900, 37000, 37200, 37300, 38200, 38400, 39000, 39000, 39500, 39900, 40000, 40600, 41400, 41700, 41900, 42000, 42300, 42500, 42700, 42800, 43900, 44600, 44700, 44800, 45500, 45800, 45800, 46300, 46600, 46900, 47000, 47300, 47500, 47500, 49100, 49100, 49600, 50000, 50600, 50700, 51400, 51900, 51900, 53300, 53900, 54200, 54200, 54400, 55100, 55600, 55800, 55900, 56000, 56300, 56300, 57600, 58600, 58600, 59100, 59900, 60000, 60300, 60300, 60400, 60500, 61000, 62500, 62600, 62800, 62800, 63300, 63300, 63600, 63700, 64000, 64300, 64300, 64300, 64600, 65300, 65400, 66200, 67300, 67800, 68200, 68800, 69700, 70000, 70000, 70200, 70900, 71500, 72900, 72900, 73000, 73000, 73100, 73600, 74400, 74500, 74700, 75500, 76100, 76700, 77100, 77700, 79200, 79400, 79400, 79600, 80000, 80700, 81400, 81800, 82500, 82800, 83000, 83100, 83600, 84100, 88000, 88600, 90500, 90500, 91000, 92400, 92900, 93000, 96100, 96900, 97400, 97400, 99600, 100100, 101700, 104900, 105500, 105600, 106700, 117900, 126300, 130700, 131500, 168800], \"xaxis\": \"x\", \"y\": [177.97360122976897, 179.16598067333967, 186.32025733476365, 191.08977510904634, 193.4745339961877, 193.4745339961877, 194.6669134397584, 199.43643121404102, 200.62881065761172, 200.62881065761172, 201.82119010118237, 206.59070787546506, 207.7830873190357, 208.9754667626064, 211.36022564974775, 211.36022564974775, 212.5526050933184, 216.12974342403044, 216.12974342403044, 219.70688175474243, 220.89926119831307, 222.09164064188377, 223.28402008545442, 225.66877897259576, 226.86115841616646, 226.86115841616646, 228.0535378597371, 229.2459173033078, 230.43829674687845, 230.43829674687845, 231.6306761904491, 231.6306761904491, 231.6306761904491, 234.01543507759044, 236.40019396473178, 237.59257340830248, 237.59257340830248, 241.16971173901447, 241.16971173901447, 242.36209118258512, 243.55447062615582, 249.51636784400915, 251.9011267311505, 259.05540339257453, 259.05540339257453, 263.82492116685717, 263.82492116685717, 267.4020594975692, 267.4020594975692, 267.4020594975692, 269.78681838471056, 270.9791978282812, 270.9791978282812, 276.94109504613454, 276.94109504613454, 282.9029922639879, 285.2877511511292, 288.86488948184126, 292.44202781255325, 292.44202781255325, 296.0191661432653, 303.1734428046893, 305.5582016918306, 306.7505811354013, 309.1353400225426, 310.3277194661133, 312.71247835325465, 316.28961668396664, 318.674375571108, 327.02103167610267, 329.405790563244, 331.79054945038536, 332.982928893956, 336.560067224668, 338.94482611180933, 341.3295849989507, 343.714343886092, 343.714343886092, 348.4838616603747, 348.4838616603747, 355.63813832179875, 356.8305177653694, 359.21527665251074, 359.21527665251074, 361.6000355396521, 363.9847944267934, 365.1771738703641, 366.3695533139348, 368.75431220107606, 379.4857271932121, 384.2552449674948, 393.79428051606016, 403.3333160646255, 405.7180749517668, 420.0266282746149, 430.7580432667509, 437.9123199281749, 447.4513554767403, 451.02849380745226, 453.4132526945936, 455.79801158173495, 459.37514991244694, 474.87608267886566, 476.06846212243636, 477.260841566007, 493.95415377599636, 493.95415377599636, 495.14653321956706, 497.5312921067084, 498.72367155027905, 501.1084304374204, 502.30080988099104, 513.0322248731271, 515.4169837602684, 522.5712604216925, 522.5712604216925, 528.5331576395458, 533.3026754138285, 534.4950548573992, 541.6493315188231, 551.1883670673885, 554.7655053981006, 557.1502642852419, 558.3426437288125, 561.9197820595246, 564.304540946666, 566.6892998338072, 567.8816792773779, 580.9978531566553, 589.34450926165, 590.5368887052207, 591.7292681487913, 600.0759242537861, 603.653062584498, 603.653062584498, 609.6149598023513, 613.1920981330634, 616.7692364637754, 617.9616159073461, 621.5387542380581, 623.9235131251994, 623.9235131251994, 643.0015842223302, 643.0015842223302, 648.9634814401835, 653.7329992144662, 660.8872758758902, 662.0796553194608, 670.4263114244555, 676.3882086423089, 676.3882086423089, 693.0815208522982, 700.2357975137222, 703.8129358444343, 703.8129358444343, 706.1976947315756, 714.5443508365703, 720.5062480544236, 722.891006941565, 724.0833863851357, 725.2757658287063, 728.8529041594184, 728.8529041594184, 744.3538369258371, 756.2776313615437, 756.2776313615437, 762.2395285793971, 771.7785641279625, 772.9709435715331, 776.5480819022451, 776.5480819022451, 777.7404613458158, 778.9328407893864, 784.8947380072398, 802.7804296607998, 803.9728091043705, 806.3575679915118, 806.3575679915118, 812.3194652093651, 812.3194652093651, 815.8966035400772, 817.0889829836478, 820.6661213143599, 824.2432596450718, 824.2432596450718, 824.2432596450718, 827.8203979757839, 836.1670540807786, 837.3594335243492, 846.8984690729146, 860.0146429521919, 865.9765401700453, 870.746057944328, 877.900334605752, 888.6317495978881, 892.2088879286, 892.2088879286, 894.5936468157414, 902.940302920736, 910.0945795821601, 926.7878917921495, 926.7878917921495, 927.9802712357201, 927.9802712357201, 929.1726506792908, 935.1345478971441, 944.6735834457095, 945.8659628892801, 948.2507217764215, 957.7897573249868, 964.9440339864109, 972.0983106478349, 976.8678284221176, 984.0221050835415, 1001.9077967371016, 1004.2925556242429, 1004.2925556242429, 1006.6773145113843, 1011.446832285667, 1019.7934883906617, 1028.1401444956564, 1032.909662269939, 1041.2563183749337, 1044.8334567056456, 1047.218215592787, 1048.4105950363576, 1054.372492254211, 1060.3343894720645, 1106.8371877713205, 1113.9914644327446, 1136.6466738605873, 1136.6466738605873, 1142.6085710784407, 1159.30188328843, 1165.2637805062834, 1166.456159949854, 1203.4199227005447, 1212.95895824911, 1218.9208554669635, 1218.9208554669635, 1245.1532032255182, 1251.1151004433716, 1270.1931715405021, 1308.3493137347637, 1315.5035903961877, 1316.6959698397584, 1329.8121437190357, 1463.3586413989508, 1563.518514658887, 1615.9832101759964, 1625.5222457245618, 2070.279778176421], \"yaxis\": \"y\"}, {\"hovertemplate\": \"Catalogs=18<br>Salary=%{x}<br>AmountSpent=%{y}<extra></extra>\", \"legendgroup\": \"18\", \"marker\": {\"color\": \"#EF553B\", \"symbol\": \"circle\"}, \"mode\": \"markers\", \"name\": \"18\", \"orientation\": \"v\", \"showlegend\": true, \"type\": \"scatter\", \"x\": [13500, 85600, 68400, 80700, 111800, 90100, 38600, 60200, 92300, 72900, 21700, 41600, 81500, 111500, 58900, 126500, 87200, 66700, 90400, 84300, 22100, 47200, 20400, 67300, 87100, 42200, 52700, 27900, 46600, 59700, 51900, 105300, 10400, 113000, 21400, 114800, 109800, 64200, 17000, 113600, 14300, 59600, 84800, 45700, 60100, 77800, 118300, 10200, 113400, 40900, 54700, 17300, 53300, 98400, 51200, 74400, 41400, 79900, 120000, 66300, 54400, 13800, 65300, 56700, 90200, 15900, 81800, 82100, 32700, 59700, 102800, 34700, 46300, 55500, 25600, 30900, 40900, 48900, 78800, 80800, 124800, 82400, 88400, 86900, 74800, 71900, 96300, 40500, 64600, 34600, 76400, 55100, 17800, 113300, 97500, 35600, 36900, 93500, 13100, 45000, 87200, 59400, 34200, 108100, 50100, 84100, 69900, 72200, 78900, 45600, 53900, 36900, 11000, 61600, 88700, 88600, 79500, 43300, 48100, 118800, 52400, 67600, 18800, 55600, 102400, 17800, 42000, 63000, 45500, 14400, 68900, 22200, 80800, 61000, 98900, 66600, 41700, 13400, 58200, 13600, 37500, 54200, 102700, 55500, 41300, 27200, 49700, 29200, 85500, 12400, 82400, 61000, 39700, 30300, 54500, 17600, 38700, 44100, 70400, 72200, 74500, 83700, 74600, 122700, 14200, 75500, 55600, 25700, 21500, 68600, 124900, 72200, 82400, 36500, 17700, 44400, 35300, 52000, 25900, 65800, 107300, 45200, 98500, 17900, 64100, 130600, 49000, 96500, 48100, 72600, 76800, 59100, 69400, 102600, 43700, 15900, 82700, 17000, 42400, 40200, 67900, 62800, 77600, 19100, 63500, 31500, 60100, 87400, 94200, 17500, 40200, 28400, 72200, 55200, 44600, 25500, 52600, 52300, 13200, 77300, 40700, 71300, 36400, 79000, 56200, 82000, 96800, 102700, 123800, 11700, 19400, 40500, 79000], \"xaxis\": \"x\", \"y\": [296, 2436, 1155, 3034, 2065, 1956, 542, 2328, 655, 2075, 774, 982, 3655, 2510, 1215, 2000, 3604, 1310, 2924, 1648, 280, 1587, 867, 1513, 1688, 1753, 855, 1184, 1153, 1857, 1492, 3505, 189, 1554, 498, 3596, 4279, 1642, 581, 3237, 458, 1217, 2624, 724, 1594, 1813, 2681, 213, 1790, 962, 848, 381, 1720, 3305, 1257, 2479, 643, 1165, 1926, 2243, 342, 363, 1443, 536, 2183, 503, 1838, 1308, 1276, 1422, 2238, 1615, 1357, 858, 426, 862, 576, 915, 3398, 2444, 2537, 657, 3632, 2230, 1968, 1846, 3916, 622, 2206, 748, 881, 1439, 292, 5151, 2837, 865, 1480, 1426, 314, 902, 1274, 1699, 523, 2632, 1071, 2710, 2101, 715, 2233, 1388, 2177, 721, 393, 1666, 2448, 2563, 1763, 1021, 1640, 2176, 857, 1172, 170, 1786, 1237, 589, 232, 2107, 1624, 223, 2784, 275, 1598, 1850, 3126, 1177, 1398, 424, 981, 349, 1578, 1405, 2381, 427, 932, 446, 613, 737, 895, 205, 2122, 1611, 1011, 1062, 1001, 163, 1009, 1659, 2610, 1811, 1413, 1582, 705, 4984, 197, 2450, 1553, 907, 445, 1342, 4109, 3278, 1779, 747, 742, 886, 1369, 2545, 582, 578, 1566, 699, 2034, 395, 1332, 3442, 1523, 1364, 961, 1999, 1061, 580, 2419, 2546, 1344, 406, 1753, 659, 1166, 1197, 1418, 1403, 2004, 403, 1023, 269, 1430, 2729, 1211, 472, 1634, 182, 1042, 1714, 966, 636, 1773, 2034, 512, 1853, 232, 1543, 506, 2279, 1546, 1800, 2299, 3785, 3537, 540, 384, 1073, 671], \"yaxis\": \"y\"}, {\"hovertemplate\": \"<b>OLS trendline</b><br>AmountSpent = 0.0248212 * Salary + -3.86062<br>R<sup>2</sup>=0.588241<br><br>Catalogs=18<br>Salary=%{x}<br>AmountSpent=%{y} <b>(trend)</b><extra></extra>\", \"legendgroup\": \"18\", \"marker\": {\"color\": \"#EF553B\", \"symbol\": \"circle\"}, \"mode\": \"lines\", \"name\": \"18\", \"showlegend\": false, \"type\": \"scatter\", \"x\": [10200, 10400, 11000, 11700, 12400, 13100, 13200, 13400, 13500, 13600, 13800, 14200, 14300, 14400, 15900, 15900, 17000, 17000, 17300, 17500, 17600, 17700, 17800, 17800, 17900, 18800, 19100, 19400, 20400, 21400, 21500, 21700, 22100, 22200, 25500, 25600, 25700, 25900, 27200, 27900, 28400, 29200, 30300, 30900, 31500, 32700, 34200, 34600, 34700, 35300, 35600, 36400, 36500, 36900, 36900, 37500, 38600, 38700, 39700, 40200, 40200, 40500, 40500, 40700, 40900, 40900, 41300, 41400, 41600, 41700, 42000, 42200, 42400, 43300, 43700, 44100, 44400, 44600, 45000, 45200, 45500, 45600, 45700, 46300, 46600, 47200, 48100, 48100, 48900, 49000, 49700, 50100, 51200, 51900, 52000, 52300, 52400, 52600, 52700, 53300, 53900, 54200, 54400, 54500, 54700, 55100, 55200, 55500, 55500, 55600, 55600, 56200, 56700, 58200, 58900, 59100, 59400, 59600, 59700, 59700, 60100, 60100, 60200, 61000, 61000, 61600, 62800, 63000, 63500, 64100, 64200, 64600, 65300, 65800, 66300, 66600, 66700, 67300, 67600, 67900, 68400, 68600, 68900, 69400, 69900, 70400, 71300, 71900, 72200, 72200, 72200, 72200, 72600, 72900, 74400, 74500, 74600, 74800, 75500, 76400, 76800, 77300, 77600, 77800, 78800, 78900, 79000, 79000, 79500, 79900, 80700, 80800, 80800, 81500, 81800, 82000, 82100, 82400, 82400, 82400, 82700, 83700, 84100, 84300, 84800, 85500, 85600, 86900, 87100, 87200, 87200, 87400, 88400, 88600, 88700, 90100, 90200, 90400, 92300, 93500, 94200, 96300, 96500, 96800, 97500, 98400, 98500, 98900, 102400, 102600, 102700, 102700, 102800, 105300, 107300, 108100, 109800, 111500, 111800, 113000, 113300, 113400, 113600, 114800, 118300, 118800, 120000, 122700, 123800, 124800, 124900, 126500, 130600], \"xaxis\": \"x\", \"y\": [249.31609457413936, 254.28034383625373, 269.17309162259687, 286.5479640399972, 303.9228364573976, 321.29770887479793, 323.7798335058551, 328.7440827679695, 331.2262073990267, 333.70833203008385, 338.67258129219823, 348.60107981642705, 351.0832044474842, 353.5653290785414, 390.7971985443993, 390.7971985443993, 418.1005694860284, 418.1005694860284, 425.5469433792, 430.5111926413144, 432.99331727237154, 435.47544190342876, 437.9575665344859, 437.9575665344859, 440.43969116554314, 462.77881284505787, 470.2251867382294, 477.671560631401, 502.49280694197296, 527.3140532525449, 529.796177883602, 534.7604271457164, 544.6889256699452, 547.1710503010024, 629.0811631258897, 631.5632877569469, 634.0454123880041, 639.0096616501185, 671.277281853862, 688.6521542712624, 701.0627774265483, 720.9197744750059, 748.2231454166349, 763.1158932029781, 778.0086409893213, 807.7941365620076, 845.0260060278655, 854.9545045520942, 857.4366291831514, 872.3293769694945, 879.7757508626661, 899.6327479111237, 902.1148725421808, 912.0433710664096, 912.0433710664096, 926.9361188527528, 954.2394897943819, 956.721614425439, 981.542860736011, 993.953483891297, 993.953483891297, 1001.3998577844685, 1001.3998577844685, 1006.364107046583, 1011.3283563086973, 1011.3283563086973, 1021.2568548329261, 1023.7389794639832, 1028.7032287260977, 1031.1853533571548, 1038.6317272503263, 1043.5959765124408, 1048.5602257745552, 1070.8993474540698, 1080.8278459782987, 1090.7563445025276, 1098.202718395699, 1103.1669676578133, 1113.0954661820422, 1118.0597154441566, 1125.5060893373281, 1127.9882139683853, 1130.4703385994426, 1145.3630863857857, 1152.8094602789572, 1167.7022080653005, 1190.0413297448151, 1190.0413297448151, 1209.8983267932726, 1212.3804514243297, 1229.7553238417302, 1239.683822365959, 1266.987193307588, 1284.3620657249885, 1286.8441903560456, 1294.2905642492171, 1296.7726888802745, 1301.7369381423887, 1304.219062773446, 1319.111810559789, 1334.0045583461322, 1341.450932239304, 1346.4151815014181, 1348.8973061324755, 1353.86155539459, 1363.7900539188186, 1366.2721785498757, 1373.7185524430474, 1373.7185524430474, 1376.2006770741045, 1376.2006770741045, 1391.0934248604476, 1403.5040480157336, 1440.7359174815915, 1458.110789898992, 1463.0750391611064, 1470.521413054278, 1475.485662316392, 1477.9677869474494, 1477.9677869474494, 1487.896285471678, 1487.896285471678, 1490.3784101027354, 1510.235407151193, 1510.235407151193, 1525.128154937536, 1554.9136505102224, 1559.8778997723368, 1572.2885229276228, 1587.181270713966, 1589.663395345023, 1599.5918938692519, 1616.9667662866523, 1629.377389441938, 1641.788012597224, 1649.2343864903958, 1651.7165111214529, 1666.609258907796, 1674.0556328009675, 1681.5020066941393, 1693.9126298494252, 1698.8768791115394, 1706.323253004711, 1718.733876159997, 1731.144499315283, 1743.555122470569, 1765.8942441500838, 1780.7869919364268, 1788.2333658295984, 1788.2333658295984, 1788.2333658295984, 1788.2333658295984, 1798.1618643538272, 1805.6082382469988, 1842.8401077128567, 1845.3222323439138, 1847.804356974971, 1852.7686062370854, 1870.1434786544858, 1892.4826003340004, 1902.4110988582293, 1914.8217220135152, 1922.2680959066868, 1927.2323451688012, 1952.0535914793732, 1954.5357161104303, 1957.0178407414876, 1957.0178407414876, 1969.4284638967733, 1979.3569624210022, 1999.2139594694597, 2001.6960841005168, 2001.6960841005168, 2019.0709565179172, 2026.5173304110888, 2031.4815796732032, 2033.9637043042603, 2041.410078197432, 2041.410078197432, 2041.410078197432, 2048.8564520906034, 2073.6776984011753, 2083.606196925404, 2088.5704461875184, 2100.9810693428044, 2118.3559417602046, 2120.838066391262, 2153.1056865950054, 2158.0699358571196, 2160.552060488177, 2160.552060488177, 2165.5163097502914, 2190.3375560608633, 2195.3018053229775, 2197.783929954035, 2232.5336747888355, 2235.0157994198926, 2239.9800486820072, 2287.1404166720936, 2316.92591224478, 2334.3007846621804, 2386.4254019143814, 2391.389651176496, 2398.8360250696674, 2416.210897487068, 2438.5500191665824, 2441.0321437976395, 2450.9606423218684, 2537.83500440887, 2542.7992536709844, 2545.281378302042, 2545.281378302042, 2547.763502933099, 2609.816618709529, 2659.4591113306724, 2679.31610837913, 2721.5122271071023, 2763.708345835075, 2771.154719728246, 2800.9402153009323, 2808.386589194104, 2810.868713825161, 2815.832963087276, 2845.618458659962, 2932.492820746964, 2944.90344390225, 2974.688939474936, 3041.70630451348, 3069.009675455109, 3093.830921765681, 3096.3130463967386, 3136.0270404936537, 3237.7941503669986], \"yaxis\": \"y\"}, {\"hovertemplate\": \"Catalogs=12<br>Salary=%{x}<br>AmountSpent=%{y}<extra></extra>\", \"legendgroup\": \"12\", \"marker\": {\"color\": \"#00cc96\", \"symbol\": \"circle\"}, \"mode\": \"markers\", \"name\": \"12\", \"orientation\": \"v\", \"showlegend\": true, \"type\": \"scatter\", \"x\": [68400, 48100, 43700, 111400, 83100, 14000, 49800, 43500, 66900, 39700, 72200, 67700, 47000, 64000, 49600, 67800, 62700, 25900, 15600, 60600, 48800, 127000, 48700, 33600, 16300, 106600, 70200, 14800, 35200, 53700, 17400, 100100, 53700, 11400, 34300, 16400, 39700, 51200, 122100, 140000, 60200, 81200, 28900, 84800, 61700, 123600, 48700, 113800, 77000, 26700, 42800, 62200, 14000, 29600, 71200, 15000, 33000, 107400, 12700, 96100, 97200, 13400, 108200, 76200, 107600, 109900, 43300, 51900, 42700, 19000, 36700, 65900, 39600, 27800, 118600, 42800, 118300, 53900, 53400, 96900, 22000, 96700, 40200, 26800, 16700, 73700, 43700, 10200, 33200, 45100, 66300, 86100, 96300, 53700, 108300, 66300, 69100, 75800, 39600, 11700, 52600, 22800, 118400, 30100, 43500, 97300, 21900, 21900, 45100, 74900, 73300, 35200, 49200, 66900, 47600, 47900, 96600, 31600, 74700, 33400, 50500, 17300, 108900, 25100, 97100, 46100, 27100, 48400, 70400, 36100, 63700, 21200, 53900, 23500, 56900, 95100, 32400, 66500, 22000, 140700, 98400, 15000, 17700, 13800, 50500, 95800, 15200, 15800, 39900, 21600, 97500, 31900, 12800, 12600, 70900, 55900, 71200, 75600, 89000, 18200, 45600, 29600, 27500, 51000, 55900, 19800, 47200, 60500, 106100, 18000, 13500, 18400, 18700, 60200, 21400, 64800, 12500, 82200, 74400, 51600, 55000, 20300, 16300, 97600, 12500, 10600, 102400, 27900, 23800, 65800, 82300, 41200, 51900, 111900, 13200, 52200, 40100, 84500, 34500, 79300, 20100, 52600, 37800, 20300, 71600, 53800, 22900, 55500, 52100, 41000, 26200, 60200, 14800, 106400, 118800, 45900, 46600, 45900, 33600, 23100, 112800, 14900, 72000, 68500, 35900, 14100, 86400, 39500, 85300, 110700, 53800, 20700, 79900, 21300, 65900, 108100, 79500, 96200, 117500, 77600, 95800, 32600, 74500, 29200, 117700, 12400, 65400, 76400, 55600, 79900, 50500, 49200, 17200, 60200, 49500, 109600, 118000, 69700, 59300, 18200, 74900, 99200, 65800, 52800, 102700, 57900, 67900, 58400, 97600, 102500, 65400, 19600, 37000, 22600, 14900, 43100, 39100, 43800, 25300, 71800, 43600, 99300], \"xaxis\": \"x\", \"y\": [1304, 782, 927, 2136, 2766, 410, 827, 808, 769, 573, 2082, 2226, 584, 410, 844, 1084, 704, 449, 468, 307, 1647, 1821, 528, 805, 470, 1877, 1702, 436, 607, 235, 332, 3104, 1081, 312, 1297, 218, 238, 1293, 2408, 4894, 1365, 2693, 830, 1826, 1161, 1892, 1457, 3273, 2104, 459, 759, 1583, 229, 774, 638, 378, 979, 1485, 87, 316, 1634, 143, 635, 979, 1512, 870, 1584, 1148, 827, 428, 731, 1081, 1085, 408, 1553, 922, 2502, 1186, 886, 1420, 472, 1231, 881, 435, 108, 1274, 950, 333, 607, 448, 544, 1255, 1081, 1194, 2224, 1088, 1477, 1830, 610, 193, 1052, 452, 3941, 530, 500, 3048, 276, 576, 794, 1474, 1694, 827, 210, 1220, 801, 1090, 1437, 476, 1699, 567, 1029, 345, 1841, 592, 1473, 418, 268, 992, 1127, 438, 364, 417, 1060, 371, 687, 809, 515, 286, 736, 1001, 1414, 341, 268, 368, 940, 678, 324, 147, 586, 491, 1280, 860, 230, 164, 794, 964, 392, 1541, 1487, 322, 1322, 583, 571, 1025, 909, 209, 1272, 340, 472, 303, 160, 662, 289, 1364, 414, 574, 422, 1517, 1152, 1082, 1162, 304, 360, 1162, 206, 114, 2466, 576, 428, 1017, 580, 841, 1162, 2340, 227, 669, 1384, 1557, 802, 2047, 271, 1307, 1185, 180, 1198, 1803, 814, 216, 1668, 768, 381, 1748, 376, 1757, 2631, 716, 546, 416, 573, 457, 1861, 275, 1475, 1500, 962, 328, 1713, 1006, 2523, 2458, 843, 550, 1041, 329, 777, 1133, 1651, 1457, 927, 858, 2581, 172, 824, 556, 2104, 229, 2290, 2216, 952, 295, 642, 1078, 329, 1955, 1195, 2318, 581, 1432, 929, 401, 1804, 2796, 869, 926, 1473, 1693, 356, 829, 2902, 548, 2296, 395, 850, 865, 422, 1224, 1001, 606, 591, 1389, 1047, 1504], \"yaxis\": \"y\"}, {\"hovertemplate\": \"<b>OLS trendline</b><br>AmountSpent = 0.0164879 * Salary + 99.7053<br>R<sup>2</sup>=0.511114<br><br>Catalogs=12<br>Salary=%{x}<br>AmountSpent=%{y} <b>(trend)</b><extra></extra>\", \"legendgroup\": \"12\", \"marker\": {\"color\": \"#00cc96\", \"symbol\": \"circle\"}, \"mode\": \"lines\", \"name\": \"12\", \"showlegend\": false, \"type\": \"scatter\", \"x\": [10200, 10600, 11400, 11700, 12400, 12500, 12500, 12600, 12700, 12800, 13200, 13400, 13500, 13800, 14000, 14000, 14100, 14800, 14800, 14900, 14900, 15000, 15000, 15200, 15600, 15800, 16300, 16300, 16400, 16700, 17200, 17300, 17400, 17700, 18000, 18200, 18200, 18400, 18700, 19000, 19600, 19800, 20100, 20300, 20300, 20700, 21200, 21300, 21400, 21600, 21900, 21900, 22000, 22000, 22600, 22800, 22900, 23100, 23500, 23800, 25100, 25300, 25900, 26200, 26700, 26800, 27100, 27500, 27800, 27900, 28900, 29200, 29600, 29600, 30100, 31600, 31900, 32400, 32600, 33000, 33200, 33400, 33600, 33600, 34300, 34500, 35200, 35200, 35900, 36100, 36700, 37000, 37800, 39100, 39500, 39600, 39600, 39700, 39700, 39900, 40100, 40200, 41000, 41200, 42700, 42800, 42800, 43100, 43300, 43500, 43500, 43600, 43700, 43700, 43800, 45100, 45100, 45600, 45900, 45900, 46100, 46600, 47000, 47200, 47600, 47900, 48100, 48400, 48700, 48700, 48800, 49200, 49200, 49500, 49600, 49800, 50500, 50500, 50500, 51000, 51200, 51600, 51900, 51900, 52100, 52200, 52600, 52600, 52800, 53400, 53700, 53700, 53700, 53800, 53800, 53900, 53900, 55000, 55500, 55600, 55900, 55900, 56900, 57900, 58400, 59300, 60200, 60200, 60200, 60200, 60500, 60600, 61700, 62200, 62700, 63700, 64000, 64800, 65400, 65400, 65800, 65800, 65900, 65900, 66300, 66300, 66500, 66900, 66900, 67700, 67800, 67900, 68400, 68500, 69100, 69700, 70200, 70400, 70900, 71200, 71200, 71600, 71800, 72000, 72200, 73300, 73700, 74400, 74500, 74700, 74900, 74900, 75600, 75800, 76200, 76400, 77000, 77600, 79300, 79500, 79900, 79900, 81200, 82200, 82300, 83100, 84500, 84800, 85300, 86100, 86400, 89000, 95100, 95800, 95800, 96100, 96200, 96300, 96600, 96700, 96900, 97100, 97200, 97300, 97500, 97600, 97600, 98400, 99200, 99300, 100100, 102400, 102500, 102700, 106100, 106400, 106600, 107400, 107600, 108100, 108200, 108300, 108900, 109600, 109900, 110700, 111400, 111900, 112800, 113800, 117500, 117700, 118000, 118300, 118400, 118600, 118800, 122100, 123600, 127000, 140000, 140700], \"xaxis\": \"x\", \"y\": [267.882146950682, 274.4773160710571, 287.6676543118072, 292.6140311520885, 304.1555771127449, 305.8043693928387, 305.8043693928387, 307.4531616729324, 309.10195395302617, 310.75074623311997, 317.345915353495, 320.6434999136826, 322.29229219377635, 327.23866903405764, 330.5362535942452, 330.5362535942452, 332.1850458743389, 343.72659183499536, 343.72659183499536, 345.3753841150891, 345.3753841150891, 347.02417639518285, 347.02417639518285, 350.3217609553704, 356.9169300757455, 360.214514635933, 368.45847603640186, 368.45847603640186, 370.1072683164956, 375.0536451567769, 383.29760655724573, 384.94639883733953, 386.5951911174333, 391.54156795771456, 396.4879447979959, 399.78552935818345, 399.78552935818345, 403.08311391837094, 408.0294907586523, 412.9758675989336, 422.86862127949615, 426.1662058396837, 431.11258267996504, 434.41016724015253, 434.41016724015253, 441.0053363605276, 449.24929776099646, 450.89809004109026, 452.546882321184, 455.84446688137155, 460.79084372165283, 460.79084372165283, 462.43963600174663, 462.43963600174663, 472.3323896823092, 475.62997424249676, 477.2787665225905, 480.57635108277805, 487.17152020315314, 492.1178970434344, 513.5521966846534, 516.8497812448409, 526.7425349254036, 531.6889117656849, 539.9328731661537, 541.5816654462475, 546.5280422865287, 553.1232114069039, 558.0695882471852, 559.7183805272789, 576.2063033282166, 581.1526801684979, 587.747849288873, 587.747849288873, 595.9918106893418, 620.7236948907484, 625.6700717310296, 633.9140331314984, 637.2116176916861, 643.8067868120611, 647.1043713722486, 650.4019559324361, 653.6995404926238, 653.6995404926238, 665.2410864532801, 668.5386710134676, 680.0802169741239, 680.0802169741239, 691.6217629347805, 694.919347494968, 704.8121011755304, 709.7584780158118, 722.9488162565619, 744.383115897781, 750.9782850181559, 752.6270772982498, 752.6270772982498, 754.2758695783436, 754.2758695783436, 757.5734541385311, 760.8710386987186, 762.5198309788125, 775.7101692195624, 779.0077537797501, 803.7396379811566, 805.3884302612503, 805.3884302612503, 810.3348071015316, 813.6323916617191, 816.9299762219068, 816.9299762219068, 818.5787685020005, 820.2275607820943, 820.2275607820943, 821.876353062188, 843.310652703407, 843.310652703407, 851.5546141038758, 856.5009909441571, 856.5009909441571, 859.7985755043446, 868.0425369048135, 874.6377060251887, 877.9352905853762, 884.5304597057511, 889.4768365460325, 892.77442110622, 897.7207979465013, 902.6671747867827, 902.6671747867827, 904.3159670668765, 910.9111361872515, 910.9111361872515, 915.8575130275328, 917.5063053076265, 920.8038898678142, 932.3454358284705, 932.3454358284705, 932.3454358284705, 940.5893972289393, 943.8869817891268, 950.482150909502, 955.4285277497831, 955.4285277497831, 958.7261123099709, 960.3749045900645, 966.9700737104397, 966.9700737104397, 970.2676582706272, 980.1604119511896, 985.106788791471, 985.106788791471, 985.106788791471, 986.7555810715648, 986.7555810715648, 988.4043733516585, 988.4043733516585, 1006.54108843269, 1014.7850498331588, 1016.4338421132527, 1021.380218953534, 1021.380218953534, 1037.8681417544717, 1054.3560645554094, 1062.6000259558782, 1077.439156476722, 1092.278286997566, 1092.278286997566, 1092.278286997566, 1092.278286997566, 1097.2246638378472, 1098.873456117941, 1117.0101711989726, 1125.2541325994412, 1133.49809399991, 1149.986016800848, 1154.932393641129, 1168.1227318818792, 1178.0154855624419, 1178.0154855624419, 1184.6106546828169, 1184.6106546828169, 1186.2594469629107, 1186.2594469629107, 1192.8546160832857, 1192.8546160832857, 1196.1522006434732, 1202.7473697638484, 1202.7473697638484, 1215.9377080045986, 1217.5865002846922, 1219.235292564786, 1227.4792539652549, 1229.1280462453487, 1239.0207999259112, 1248.913553606474, 1257.1575150069427, 1260.4550995671302, 1268.699060967599, 1273.6454378078804, 1273.6454378078804, 1280.2406069282554, 1283.538191488443, 1286.8357760486306, 1290.133360608818, 1308.2700756898496, 1314.8652448102246, 1326.406790770881, 1328.0555830509747, 1331.3531676111622, 1334.6507521713497, 1334.6507521713497, 1346.1922981320063, 1349.4898826921938, 1356.0850518125687, 1359.3826363727562, 1369.275390053319, 1379.1681437338816, 1407.1976124954756, 1410.495197055663, 1417.0903661760383, 1417.0903661760383, 1438.524665817257, 1455.0125886181947, 1456.6613808982886, 1469.8517191390388, 1492.9348110603514, 1497.8811879006328, 1506.1251493011016, 1519.3154875418518, 1524.2618643821331, 1567.1304636645712, 1667.706792750291, 1679.2483387109473, 1679.2483387109473, 1684.1947155512287, 1685.8435078313223, 1687.4923001114162, 1692.4386769516975, 1694.0874692317911, 1697.3850537919786, 1700.6826383521664, 1702.33143063226, 1703.9802229123538, 1707.2778074725413, 1708.9265997526352, 1708.9265997526352, 1722.1169379933854, 1735.3072762341353, 1736.9560685142292, 1750.1464067549794, 1788.068629197136, 1789.7174214772297, 1793.0150060374174, 1849.0739435606054, 1854.0203204008867, 1857.3179049610742, 1870.5082432018244, 1873.8058277620119, 1882.0497891624807, 1883.6985814425746, 1885.3473737226682, 1895.2401274032309, 1906.7816733638872, 1911.7280502041685, 1924.9183884449187, 1936.459934405575, 1944.7038958060439, 1959.543026326888, 1976.0309491278256, 2037.036263491295, 2040.3338480514824, 2045.2802248917637, 2050.2266017320453, 2051.875394012139, 2055.1729785723264, 2058.470563132514, 2112.8807083756083, 2137.6125925770148, 2193.6715301002027, 2408.014526512393, 2419.556072473049], \"yaxis\": \"y\"}, {\"hovertemplate\": \"Catalogs=24<br>Salary=%{x}<br>AmountSpent=%{y}<extra></extra>\", \"legendgroup\": \"24\", \"marker\": {\"color\": \"#ab63fa\", \"symbol\": \"circle\"}, \"mode\": \"markers\", \"name\": \"24\", \"orientation\": \"v\", \"showlegend\": true, \"type\": \"scatter\", \"x\": [44100, 110000, 82800, 87700, 104100, 64100, 20100, 96800, 76200, 83300, 105300, 46600, 69800, 60300, 42300, 14600, 72500, 13200, 51300, 72300, 14400, 32400, 134500, 110400, 81200, 21700, 59000, 20900, 90700, 91800, 70700, 96400, 58300, 12000, 66800, 44200, 93400, 52500, 45400, 68000, 103700, 81700, 67900, 42600, 52900, 21000, 88200, 28500, 27100, 35300, 100100, 83900, 56900, 68700, 19300, 20200, 61500, 101700, 120800, 109200, 97000, 20300, 68700, 53600, 33200, 23200, 63200, 13900, 84200, 21300, 14600, 100800, 19800, 43200, 114100, 82400, 62000, 103300, 14200, 72200, 65400, 80600, 54600, 63500, 55900, 84300, 41500, 61800, 102500, 60300, 41600, 27000, 63300, 88100, 97900, 41800, 118500, 103900, 46700, 47900, 48600, 123000, 56600, 61400, 73800, 92300, 54600, 62300, 63000, 23200, 41300, 32700, 49900, 43300, 83700, 60200, 36500, 76700, 123000, 70000, 20400, 119800, 58700, 61500, 62200, 72200, 56300, 26600, 72100, 45900, 90300, 95900, 65900, 84700, 41500, 88700, 54700, 100600, 38700, 53700, 84100, 85600, 96300, 35800, 107400, 28900, 23200, 89500, 87000, 31200, 13700, 81400, 100000, 43300, 40400, 10900, 57800, 64600, 43100, 44500, 86500, 42500, 102300, 54700, 52200, 12800, 28300, 107300, 66500, 10200, 36700, 34500, 21900, 37100, 62900, 79700, 65500, 53300, 41600, 62200, 33200, 135700, 83500, 84200, 11000, 95900, 49700, 43000, 27200, 26700, 76600, 90600, 71800, 46500, 10600, 93700, 61300, 19500, 51100, 32500, 93000, 32000, 75400, 22400, 70500, 116100, 23200, 109800, 64400, 27600, 88500, 76900, 128700, 96500, 48800, 15300, 63800, 63200, 70900, 38200, 73200, 75200, 108000, 84900, 36900, 49300, 66200, 63200, 112900, 32100, 99200, 44800, 53600], \"xaxis\": \"x\", \"y\": [704, 5564, 3010, 2446, 2636, 1595, 576, 3082, 2437, 2574, 3360, 906, 2764, 1263, 1051, 468, 2595, 358, 1424, 4182, 615, 920, 4558, 1093, 1856, 708, 3044, 550, 2265, 2452, 2150, 1822, 1472, 344, 2098, 2524, 3079, 2038, 1203, 3688, 2339, 879, 2925, 1790, 2316, 646, 2749, 621, 437, 1093, 3491, 1721, 1857, 1699, 308, 500, 1162, 2551, 5830, 1102, 2599, 450, 2763, 1560, 1037, 770, 1512, 570, 1654, 677, 385, 1789, 991, 917, 1976, 2035, 3293, 3378, 400, 2492, 938, 2840, 2163, 2321, 2555, 2842, 1314, 1156, 2464, 2091, 1690, 1012, 679, 1078, 2149, 301, 3063, 2666, 983, 662, 1583, 3671, 1607, 1575, 3120, 2141, 1246, 2644, 1910, 788, 1985, 1252, 1631, 326, 3344, 2304, 1140, 1431, 5878, 1974, 513, 2090, 1479, 968, 2119, 3069, 1608, 245, 3052, 1645, 1944, 2585, 1436, 2705, 1213, 2693, 1404, 2838, 1506, 2491, 2362, 3380, 1909, 1355, 1821, 905, 504, 5209, 1594, 1087, 414, 3001, 2247, 716, 630, 407, 1149, 2935, 1444, 1175, 2690, 918, 2438, 1355, 1909, 365, 933, 1194, 1181, 362, 1218, 639, 486, 653, 2561, 3384, 1931, 1598, 1634, 1348, 1639, 2746, 2098, 954, 195, 3168, 2844, 225, 243, 1120, 2904, 3167, 1946, 829, 517, 1521, 1241, 571, 1984, 883, 2644, 1320, 2723, 947, 2145, 2975, 534, 2258, 1913, 893, 1104, 3230, 3995, 3780, 1271, 645, 1622, 1932, 1685, 1476, 2177, 2702, 1849, 3072, 514, 1692, 2057, 1507, 6217, 405, 5503, 1417, 973], \"yaxis\": \"y\"}, {\"hovertemplate\": \"<b>OLS trendline</b><br>AmountSpent = 0.0279997 * Salary + 84.2783<br>R<sup>2</sup>=0.548123<br><br>Catalogs=24<br>Salary=%{x}<br>AmountSpent=%{y} <b>(trend)</b><extra></extra>\", \"legendgroup\": \"24\", \"marker\": {\"color\": \"#ab63fa\", \"symbol\": \"circle\"}, \"mode\": \"lines\", \"name\": \"24\", \"showlegend\": false, \"type\": \"scatter\", \"x\": [10200, 10600, 10900, 11000, 12000, 12800, 13200, 13700, 13900, 14200, 14400, 14600, 14600, 15300, 19300, 19500, 19800, 20100, 20200, 20300, 20400, 20900, 21000, 21300, 21700, 21900, 22400, 23200, 23200, 23200, 23200, 26600, 26700, 27000, 27100, 27200, 27600, 28300, 28500, 28900, 31200, 32000, 32100, 32400, 32500, 32700, 33200, 33200, 34500, 35300, 35800, 36500, 36700, 36900, 37100, 38200, 38700, 40400, 41300, 41500, 41500, 41600, 41600, 41800, 42300, 42500, 42600, 43000, 43100, 43200, 43300, 43300, 44100, 44200, 44500, 44800, 45400, 45900, 46500, 46600, 46700, 47900, 48600, 48800, 49300, 49700, 49900, 51100, 51300, 52200, 52500, 52900, 53300, 53600, 53600, 53700, 54600, 54600, 54700, 54700, 55900, 56300, 56600, 56900, 57800, 58300, 58700, 59000, 60200, 60300, 60300, 61300, 61400, 61500, 61500, 61800, 62000, 62200, 62200, 62300, 62900, 63000, 63200, 63200, 63200, 63300, 63500, 63800, 64100, 64400, 64600, 65400, 65500, 65900, 66200, 66500, 66800, 67900, 68000, 68700, 68700, 69800, 70000, 70500, 70700, 70900, 71800, 72100, 72200, 72200, 72300, 72500, 73200, 73800, 75200, 75400, 76200, 76600, 76700, 76900, 79700, 80600, 81200, 81400, 81700, 82400, 82800, 83300, 83500, 83700, 83900, 84100, 84200, 84200, 84300, 84700, 84900, 85600, 86500, 87000, 87700, 88100, 88200, 88500, 88700, 89500, 90300, 90600, 90700, 91800, 92300, 93000, 93400, 93700, 95900, 95900, 96300, 96400, 96500, 96800, 97000, 97900, 99200, 100000, 100100, 100600, 100800, 101700, 102300, 102500, 103300, 103700, 103900, 104100, 105300, 107300, 107400, 108000, 109200, 109800, 110000, 110400, 112900, 114100, 116100, 118500, 119800, 120800, 123000, 123000, 128700, 134500, 135700], \"xaxis\": \"x\", \"y\": [369.8756126276836, 381.07550653573594, 389.4754269667752, 392.27540044378827, 420.27513521391904, 442.6749230300237, 453.87481693807604, 467.8746843231414, 473.47463127716753, 481.8745517082068, 487.4744986622329, 493.07444561625914, 493.07444561625914, 512.6742599553506, 624.6731990358738, 630.2731459899, 638.6730664209392, 647.0729868519785, 649.8729603289916, 652.6729338060046, 655.4729072830177, 669.472774668083, 672.2727481450962, 680.6726685761354, 691.8725624841877, 697.4725094382138, 711.4723768232793, 733.8721646393839, 733.8721646393839, 733.8721646393839, 733.8721646393839, 829.0712628578286, 831.8712363348417, 840.271156765881, 843.071130242894, 845.8711037199071, 857.0709976279594, 876.6708119670509, 882.2707589210771, 893.4706528291294, 957.8700428004303, 980.2698306165348, 983.069804093548, 991.4697245245871, 994.2696980016002, 999.8696449556264, 1013.8695123406918, 1013.8695123406918, 1050.2691675418619, 1072.6689553579665, 1086.668822743032, 1106.2686370821234, 1111.8685840361497, 1117.4685309901759, 1123.068477944202, 1153.8681861913458, 1167.8680535764113, 1215.4676026856337, 1240.6673639787514, 1246.2673109327775, 1246.2673109327775, 1249.0672844097905, 1249.0672844097905, 1254.6672313638167, 1268.6670987488822, 1274.2670457029083, 1277.0670191799213, 1288.2669130879738, 1291.0668865649868, 1293.8668600419999, 1296.666833519013, 1296.666833519013, 1319.0666213351176, 1321.8665948121306, 1330.2665152431698, 1338.6664356742092, 1355.4662765362875, 1369.466143921353, 1386.2659847834313, 1389.0659582604446, 1391.8659317374577, 1425.4656134616146, 1445.0654278007062, 1450.6653747547323, 1464.6652421397976, 1475.86513604785, 1481.465083001876, 1515.064764726033, 1520.6647116800593, 1545.864472973177, 1554.2643934042162, 1565.4642873122684, 1576.6641812203209, 1585.06410165136, 1585.06410165136, 1587.864075128373, 1613.0638364214908, 1613.0638364214908, 1615.8638098985039, 1615.8638098985039, 1649.463491622661, 1660.6633855307132, 1669.0633059617523, 1677.4632263927917, 1702.6629876859095, 1716.6628550709747, 1727.8627489790272, 1736.2626694100663, 1769.8623511342232, 1772.6623246112363, 1772.6623246112363, 1800.662059381367, 1803.4620328583803, 1806.2620063353934, 1806.2620063353934, 1814.6619267664325, 1820.2618737204587, 1825.8618206744848, 1825.8618206744848, 1828.661794151498, 1845.4616350135764, 1848.2616084905894, 1853.8615554446158, 1853.8615554446158, 1853.8615554446158, 1856.6615289216288, 1862.261475875655, 1870.661396306694, 1879.0613167377333, 1887.4612371687726, 1893.0611841227987, 1915.4609719389034, 1918.2609454159165, 1929.4608393239687, 1937.860759755008, 1946.2606801860472, 1954.6606006170864, 1985.4603088642305, 1988.2602823412435, 2007.860096680335, 2007.860096680335, 2038.659804927479, 2044.259751881505, 2058.25961926657, 2063.8595662205967, 2069.4595131746228, 2094.6592744677405, 2103.0591948987794, 2105.8591683757927, 2105.8591683757927, 2108.6591418528055, 2114.259088806832, 2133.8589031459237, 2150.658744008002, 2189.8583726861852, 2195.4583196402114, 2217.858107456316, 2229.0580013643685, 2231.8579748413813, 2237.4579217954074, 2315.857179151774, 2341.0569404448916, 2357.85678130697, 2363.456728260996, 2371.8566486920354, 2391.456463031127, 2402.656356939179, 2416.6562243242447, 2422.256171278271, 2427.856118232297, 2433.456065186323, 2439.056012140349, 2441.8559856173624, 2441.8559856173624, 2444.6559590943752, 2455.8558530024275, 2461.455799956454, 2481.055614295545, 2506.255375588663, 2520.2552429737284, 2539.85505731282, 2551.054951220872, 2553.8549246978855, 2562.2548451289244, 2567.854792082951, 2590.2545798990554, 2612.65436771516, 2621.0542881461993, 2623.8542616232126, 2654.6539698703564, 2668.653837255422, 2688.253651594513, 2699.4535455025657, 2707.8534659336046, 2769.4528824278923, 2769.4528824278923, 2780.652776335945, 2783.452749812958, 2786.252723289971, 2794.65264372101, 2800.2525906750366, 2825.4523519681543, 2861.852007169324, 2884.2517949854287, 2887.051768462442, 2901.0516358475074, 2906.6515828015336, 2931.8513440946513, 2948.6511849567296, 2954.2511319107557, 2976.65091972686, 2987.850813634913, 2993.450760588939, 2999.050707542965, 3032.650389267122, 3088.6498588073837, 3091.4498322843965, 3108.2496731464753, 3141.849354870632, 3158.6491957327107, 3164.249142686737, 3175.449036594789, 3245.448373520116, 3279.0480552442727, 3335.0475247845343, 3402.2468882328485, 3438.6465434340184, 3466.646278204149, 3528.245694698437, 3528.245694698437, 3687.8441828881823, 3850.242644554941, 3883.842326279098], \"yaxis\": \"y\"}],                        {\"legend\": {\"title\": {\"text\": \"Catalogs\"}, \"tracegroupgap\": 0}, \"margin\": {\"t\": 60}, \"template\": {\"data\": {\"bar\": [{\"error_x\": {\"color\": \"#2a3f5f\"}, \"error_y\": {\"color\": \"#2a3f5f\"}, \"marker\": {\"line\": {\"color\": \"#E5ECF6\", \"width\": 0.5}}, \"type\": \"bar\"}], \"barpolar\": [{\"marker\": {\"line\": {\"color\": \"#E5ECF6\", \"width\": 0.5}}, \"type\": \"barpolar\"}], \"carpet\": [{\"aaxis\": {\"endlinecolor\": \"#2a3f5f\", \"gridcolor\": \"white\", \"linecolor\": \"white\", \"minorgridcolor\": \"white\", \"startlinecolor\": \"#2a3f5f\"}, \"baxis\": {\"endlinecolor\": \"#2a3f5f\", \"gridcolor\": \"white\", \"linecolor\": \"white\", \"minorgridcolor\": \"white\", \"startlinecolor\": \"#2a3f5f\"}, \"type\": \"carpet\"}], \"choropleth\": [{\"colorbar\": {\"outlinewidth\": 0, \"ticks\": \"\"}, \"type\": \"choropleth\"}], \"contour\": [{\"colorbar\": {\"outlinewidth\": 0, \"ticks\": \"\"}, \"colorscale\": [[0.0, \"#0d0887\"], [0.1111111111111111, \"#46039f\"], [0.2222222222222222, \"#7201a8\"], [0.3333333333333333, \"#9c179e\"], [0.4444444444444444, \"#bd3786\"], [0.5555555555555556, \"#d8576b\"], [0.6666666666666666, \"#ed7953\"], [0.7777777777777778, \"#fb9f3a\"], [0.8888888888888888, \"#fdca26\"], [1.0, \"#f0f921\"]], \"type\": \"contour\"}], \"contourcarpet\": [{\"colorbar\": {\"outlinewidth\": 0, \"ticks\": \"\"}, \"type\": \"contourcarpet\"}], \"heatmap\": [{\"colorbar\": {\"outlinewidth\": 0, \"ticks\": \"\"}, \"colorscale\": [[0.0, \"#0d0887\"], [0.1111111111111111, \"#46039f\"], [0.2222222222222222, \"#7201a8\"], [0.3333333333333333, \"#9c179e\"], [0.4444444444444444, \"#bd3786\"], [0.5555555555555556, \"#d8576b\"], [0.6666666666666666, \"#ed7953\"], [0.7777777777777778, \"#fb9f3a\"], [0.8888888888888888, \"#fdca26\"], [1.0, \"#f0f921\"]], \"type\": \"heatmap\"}], \"heatmapgl\": [{\"colorbar\": {\"outlinewidth\": 0, \"ticks\": \"\"}, \"colorscale\": [[0.0, \"#0d0887\"], [0.1111111111111111, \"#46039f\"], [0.2222222222222222, \"#7201a8\"], [0.3333333333333333, \"#9c179e\"], [0.4444444444444444, \"#bd3786\"], [0.5555555555555556, \"#d8576b\"], [0.6666666666666666, \"#ed7953\"], [0.7777777777777778, \"#fb9f3a\"], [0.8888888888888888, \"#fdca26\"], [1.0, \"#f0f921\"]], \"type\": \"heatmapgl\"}], \"histogram\": [{\"marker\": {\"colorbar\": {\"outlinewidth\": 0, \"ticks\": \"\"}}, \"type\": \"histogram\"}], \"histogram2d\": [{\"colorbar\": {\"outlinewidth\": 0, \"ticks\": \"\"}, \"colorscale\": [[0.0, \"#0d0887\"], [0.1111111111111111, \"#46039f\"], [0.2222222222222222, \"#7201a8\"], [0.3333333333333333, \"#9c179e\"], [0.4444444444444444, \"#bd3786\"], [0.5555555555555556, \"#d8576b\"], [0.6666666666666666, \"#ed7953\"], [0.7777777777777778, \"#fb9f3a\"], [0.8888888888888888, \"#fdca26\"], [1.0, \"#f0f921\"]], \"type\": \"histogram2d\"}], \"histogram2dcontour\": [{\"colorbar\": {\"outlinewidth\": 0, \"ticks\": \"\"}, \"colorscale\": [[0.0, \"#0d0887\"], [0.1111111111111111, \"#46039f\"], [0.2222222222222222, \"#7201a8\"], [0.3333333333333333, \"#9c179e\"], [0.4444444444444444, \"#bd3786\"], [0.5555555555555556, \"#d8576b\"], [0.6666666666666666, \"#ed7953\"], [0.7777777777777778, \"#fb9f3a\"], [0.8888888888888888, \"#fdca26\"], [1.0, \"#f0f921\"]], \"type\": \"histogram2dcontour\"}], \"mesh3d\": [{\"colorbar\": {\"outlinewidth\": 0, \"ticks\": \"\"}, \"type\": \"mesh3d\"}], \"parcoords\": [{\"line\": {\"colorbar\": {\"outlinewidth\": 0, \"ticks\": \"\"}}, \"type\": \"parcoords\"}], \"pie\": [{\"automargin\": true, \"type\": \"pie\"}], \"scatter\": [{\"marker\": {\"colorbar\": {\"outlinewidth\": 0, \"ticks\": \"\"}}, \"type\": \"scatter\"}], \"scatter3d\": [{\"line\": {\"colorbar\": {\"outlinewidth\": 0, \"ticks\": \"\"}}, \"marker\": {\"colorbar\": {\"outlinewidth\": 0, \"ticks\": \"\"}}, \"type\": \"scatter3d\"}], \"scattercarpet\": [{\"marker\": {\"colorbar\": {\"outlinewidth\": 0, \"ticks\": \"\"}}, \"type\": \"scattercarpet\"}], \"scattergeo\": [{\"marker\": {\"colorbar\": {\"outlinewidth\": 0, \"ticks\": \"\"}}, \"type\": \"scattergeo\"}], \"scattergl\": [{\"marker\": {\"colorbar\": {\"outlinewidth\": 0, \"ticks\": \"\"}}, \"type\": \"scattergl\"}], \"scattermapbox\": [{\"marker\": {\"colorbar\": {\"outlinewidth\": 0, \"ticks\": \"\"}}, \"type\": \"scattermapbox\"}], \"scatterpolar\": [{\"marker\": {\"colorbar\": {\"outlinewidth\": 0, \"ticks\": \"\"}}, \"type\": \"scatterpolar\"}], \"scatterpolargl\": [{\"marker\": {\"colorbar\": {\"outlinewidth\": 0, \"ticks\": \"\"}}, \"type\": \"scatterpolargl\"}], \"scatterternary\": [{\"marker\": {\"colorbar\": {\"outlinewidth\": 0, \"ticks\": \"\"}}, \"type\": \"scatterternary\"}], \"surface\": [{\"colorbar\": {\"outlinewidth\": 0, \"ticks\": \"\"}, \"colorscale\": [[0.0, \"#0d0887\"], [0.1111111111111111, \"#46039f\"], [0.2222222222222222, \"#7201a8\"], [0.3333333333333333, \"#9c179e\"], [0.4444444444444444, \"#bd3786\"], [0.5555555555555556, \"#d8576b\"], [0.6666666666666666, \"#ed7953\"], [0.7777777777777778, \"#fb9f3a\"], [0.8888888888888888, \"#fdca26\"], [1.0, \"#f0f921\"]], \"type\": \"surface\"}], \"table\": [{\"cells\": {\"fill\": {\"color\": \"#EBF0F8\"}, \"line\": {\"color\": \"white\"}}, \"header\": {\"fill\": {\"color\": \"#C8D4E3\"}, \"line\": {\"color\": \"white\"}}, \"type\": \"table\"}]}, \"layout\": {\"annotationdefaults\": {\"arrowcolor\": \"#2a3f5f\", \"arrowhead\": 0, \"arrowwidth\": 1}, \"coloraxis\": {\"colorbar\": {\"outlinewidth\": 0, \"ticks\": \"\"}}, \"colorscale\": {\"diverging\": [[0, \"#8e0152\"], [0.1, \"#c51b7d\"], [0.2, \"#de77ae\"], [0.3, \"#f1b6da\"], [0.4, \"#fde0ef\"], [0.5, \"#f7f7f7\"], [0.6, \"#e6f5d0\"], [0.7, \"#b8e186\"], [0.8, \"#7fbc41\"], [0.9, \"#4d9221\"], [1, \"#276419\"]], \"sequential\": [[0.0, \"#0d0887\"], [0.1111111111111111, \"#46039f\"], [0.2222222222222222, \"#7201a8\"], [0.3333333333333333, \"#9c179e\"], [0.4444444444444444, \"#bd3786\"], [0.5555555555555556, \"#d8576b\"], [0.6666666666666666, \"#ed7953\"], [0.7777777777777778, \"#fb9f3a\"], [0.8888888888888888, \"#fdca26\"], [1.0, \"#f0f921\"]], \"sequentialminus\": [[0.0, \"#0d0887\"], [0.1111111111111111, \"#46039f\"], [0.2222222222222222, \"#7201a8\"], [0.3333333333333333, \"#9c179e\"], [0.4444444444444444, \"#bd3786\"], [0.5555555555555556, \"#d8576b\"], [0.6666666666666666, \"#ed7953\"], [0.7777777777777778, \"#fb9f3a\"], [0.8888888888888888, \"#fdca26\"], [1.0, \"#f0f921\"]]}, \"colorway\": [\"#636efa\", \"#EF553B\", \"#00cc96\", \"#ab63fa\", \"#FFA15A\", \"#19d3f3\", \"#FF6692\", \"#B6E880\", \"#FF97FF\", \"#FECB52\"], \"font\": {\"color\": \"#2a3f5f\"}, \"geo\": {\"bgcolor\": \"white\", \"lakecolor\": \"white\", \"landcolor\": \"#E5ECF6\", \"showlakes\": true, \"showland\": true, \"subunitcolor\": \"white\"}, \"hoverlabel\": {\"align\": \"left\"}, \"hovermode\": \"closest\", \"mapbox\": {\"style\": \"light\"}, \"paper_bgcolor\": \"white\", \"plot_bgcolor\": \"#E5ECF6\", \"polar\": {\"angularaxis\": {\"gridcolor\": \"white\", \"linecolor\": \"white\", \"ticks\": \"\"}, \"bgcolor\": \"#E5ECF6\", \"radialaxis\": {\"gridcolor\": \"white\", \"linecolor\": \"white\", \"ticks\": \"\"}}, \"scene\": {\"xaxis\": {\"backgroundcolor\": \"#E5ECF6\", \"gridcolor\": \"white\", \"gridwidth\": 2, \"linecolor\": \"white\", \"showbackground\": true, \"ticks\": \"\", \"zerolinecolor\": \"white\"}, \"yaxis\": {\"backgroundcolor\": \"#E5ECF6\", \"gridcolor\": \"white\", \"gridwidth\": 2, \"linecolor\": \"white\", \"showbackground\": true, \"ticks\": \"\", \"zerolinecolor\": \"white\"}, \"zaxis\": {\"backgroundcolor\": \"#E5ECF6\", \"gridcolor\": \"white\", \"gridwidth\": 2, \"linecolor\": \"white\", \"showbackground\": true, \"ticks\": \"\", \"zerolinecolor\": \"white\"}}, \"shapedefaults\": {\"line\": {\"color\": \"#2a3f5f\"}}, \"ternary\": {\"aaxis\": {\"gridcolor\": \"white\", \"linecolor\": \"white\", \"ticks\": \"\"}, \"baxis\": {\"gridcolor\": \"white\", \"linecolor\": \"white\", \"ticks\": \"\"}, \"bgcolor\": \"#E5ECF6\", \"caxis\": {\"gridcolor\": \"white\", \"linecolor\": \"white\", \"ticks\": \"\"}}, \"title\": {\"x\": 0.05}, \"xaxis\": {\"automargin\": true, \"gridcolor\": \"white\", \"linecolor\": \"white\", \"ticks\": \"\", \"title\": {\"standoff\": 15}, \"zerolinecolor\": \"white\", \"zerolinewidth\": 2}, \"yaxis\": {\"automargin\": true, \"gridcolor\": \"white\", \"linecolor\": \"white\", \"ticks\": \"\", \"title\": {\"standoff\": 15}, \"zerolinecolor\": \"white\", \"zerolinewidth\": 2}}}, \"title\": {\"text\": \"Catalogs With Salary Vs Amount Spent \", \"x\": 0.5}, \"xaxis\": {\"anchor\": \"y\", \"domain\": [0.0, 1.0], \"title\": {\"text\": \"Salary\"}}, \"yaxis\": {\"anchor\": \"x\", \"domain\": [0.0, 1.0], \"title\": {\"text\": \"Amount Spent\"}}},                        {\"responsive\": true}                    ).then(function(){\n",
       "                            \n",
       "var gd = document.getElementById('ddadd410-78d4-4d49-a9d2-df683da33c5f');\n",
       "var x = new MutationObserver(function (mutations, observer) {{\n",
       "        var display = window.getComputedStyle(gd).display;\n",
       "        if (!display || display === 'none') {{\n",
       "            console.log([gd, 'removed!']);\n",
       "            Plotly.purge(gd);\n",
       "            observer.disconnect();\n",
       "        }}\n",
       "}});\n",
       "\n",
       "// Listen for the removal of the full notebook cells\n",
       "var notebookContainer = gd.closest('#notebook-container');\n",
       "if (notebookContainer) {{\n",
       "    x.observe(notebookContainer, {childList: true});\n",
       "}}\n",
       "\n",
       "// Listen for the clearing of the current output cell\n",
       "var outputEl = gd.closest('.output');\n",
       "if (outputEl) {{\n",
       "    x.observe(outputEl, {childList: true});\n",
       "}}\n",
       "\n",
       "                        })                };                });            </script>        </div>"
      ]
     },
     "metadata": {},
     "output_type": "display_data"
    }
   ],
   "source": [
    "# Scatter plot - Category\n",
    "df['Catalogs']=df['Catalogs'].astype('object')\n",
    "fig = px.scatter(df, x='Salary', y='AmountSpent',trendline=\"ols\",\n",
    "                 color='Catalogs') # Added color to basic scatter\n",
    "fig.update_layout(title='Catalogs With Salary Vs Amount Spent ',xaxis_title=\"Salary\",yaxis_title=\"Amount Spent\",title_x=0.5)\n",
    "fig.show()"
   ]
  },
  {
   "cell_type": "markdown",
   "metadata": {
    "papermill": {
     "duration": 0.26249,
     "end_time": "2020-12-10T12:48:38.082797",
     "exception": false,
     "start_time": "2020-12-10T12:48:37.820307",
     "status": "completed"
    },
    "tags": []
   },
   "source": [
    "## <a id='17'> 4.10 Salary </a>\n",
    "* How is the Salary distribution ?"
   ]
  },
  {
   "cell_type": "code",
   "execution_count": 68,
   "metadata": {
    "execution": {
     "iopub.execute_input": "2020-12-10T12:48:38.593777Z",
     "iopub.status.busy": "2020-12-10T12:48:38.592716Z",
     "iopub.status.idle": "2020-12-10T12:48:38.598722Z",
     "shell.execute_reply": "2020-12-10T12:48:38.599258Z"
    },
    "papermill": {
     "duration": 0.260317,
     "end_time": "2020-12-10T12:48:38.599419",
     "exception": false,
     "start_time": "2020-12-10T12:48:38.339102",
     "status": "completed"
    },
    "tags": []
   },
   "outputs": [
    {
     "data": {
      "text/html": [
       "<div>                            <div id=\"29258cbe-0002-447f-98f1-422b6946a82b\" class=\"plotly-graph-div\" style=\"height:525px; width:100%;\"></div>            <script type=\"text/javascript\">                require([\"plotly\"], function(Plotly) {                    window.PLOTLYENV=window.PLOTLYENV || {};                                    if (document.getElementById(\"29258cbe-0002-447f-98f1-422b6946a82b\")) {                    Plotly.newPlot(                        \"29258cbe-0002-447f-98f1-422b6946a82b\",                        [{\"marker\": {\"color\": \"Crimson\"}, \"type\": \"histogram\", \"x\": [47500, 63600, 13500, 85600, 68400, 30400, 48100, 68400, 51900, 80700, 43700, 111800, 44100, 111400, 110000, 83100, 82800, 90100, 38600, 14000, 14300, 49800, 60200, 43500, 41700, 92300, 62800, 72900, 66900, 21700, 39700, 72200, 87700, 104100, 67700, 27000, 64100, 47000, 41600, 20100, 64000, 96800, 76200, 81500, 49600, 111500, 77700, 58900, 126500, 83300, 90500, 87200, 105300, 56000, 46600, 69800, 60300, 67800, 42300, 33700, 62700, 25900, 15600, 14600, 62600, 66700, 72500, 13200, 51300, 72300, 15600, 90400, 71500, 14400, 15000, 57600, 60600, 84300, 24400, 22100, 48800, 74700, 32400, 11400, 127000, 47200, 48700, 20400, 39000, 12900, 67300, 134500, 75500, 33600, 16300, 27400, 110400, 21100, 81200, 87100, 21700, 42200, 59000, 52700, 20900, 90700, 91800, 27900, 70700, 79600, 96400, 46600, 106600, 104900, 56300, 14800, 58300, 70200, 59700, 25800, 12000, 51900, 66800, 105300, 13800, 14800, 44200, 10400, 35200, 16100, 113000, 63300, 19100, 93400, 52500, 45400, 21400, 53700, 68000, 17400, 14600, 100100, 103700, 10800, 81700, 21400, 114800, 67900, 53700, 11400, 34300, 16400, 109800, 64200, 17000, 41400, 49100, 42600, 11900, 113600, 52900, 14300, 21000, 59600, 39700, 51200, 88200, 122100, 84800, 140000, 28500, 60300, 51900, 60200, 81200, 73100, 45700, 28900, 60100, 84800, 35000, 61700, 46900, 123600, 45800, 77800, 48700, 39000, 40000, 118300, 27100, 91000, 35300, 10200, 12500, 64600, 113800, 113400, 16900, 13600, 100100, 80000, 83900, 77000, 72900, 80700, 40900, 26700, 54700, 23600, 56900, 68700, 19300, 20200, 61500, 101700, 120800, 17300, 42300, 53300, 42800, 98400, 51200, 62200, 109200, 11400, 14000, 97000, 29600, 71200, 15000, 64000, 33000, 74400, 20300, 68700, 53600, 33200, 70900, 23200, 41400, 63200, 107400, 13900, 79900, 120000, 66300, 54400, 84200, 13800, 14500, 21300, 29000, 14600, 65300, 100800, 19800, 56700, 90200, 26100, 15900, 12700, 43200, 114100, 96100, 97200, 82400, 62000, 13400, 108200, 76200, 81800, 12000, 76100, 82100, 103300, 14200, 47500, 31300, 32700, 72200, 107600, 109900, 65400, 43300, 51900, 80600, 42700, 19000, 14500, 68200, 36700, 54600, 65900, 39600, 67300, 59700, 102800, 34700, 50600, 106700, 53900, 25500, 46300, 55500, 27800, 118600, 130700, 42800, 118300, 25600, 63500, 30900, 55900, 53900, 84300, 53400, 96900, 55800, 25900, 22000, 96700, 40200, 26800, 16700, 40900, 41500, 20900, 69700, 61800, 102500, 48900, 60300, 41600, 73700, 27000, 43700, 10200, 63300, 33200, 78800, 82500, 80800, 88100, 124800, 31900, 53300, 15400, 70200, 23000, 82400, 97900, 88400, 86900, 45100, 41800, 74800, 73000, 118500, 65300, 66300, 103900, 71900, 86100, 96300, 10200, 96300, 24000, 46700, 53700, 108300, 12100, 36600, 66300, 33400, 70000, 47900, 40500, 69100, 13300, 75800, 48600, 39600, 11700, 52600, 14600, 123000, 64600, 34600, 74500, 56600, 37000, 18400, 25000, 61400, 76400, 55100, 22800, 10100, 17800, 59100, 19700, 73800, 113300, 118400, 92300, 11200, 30100, 43500, 97500, 54600, 42500, 82800, 62300, 21900, 35600, 96900, 36900, 93500, 97300, 21900, 63000, 11500, 44600, 21900, 45100, 74900, 14200, 23200, 73300, 41300, 32700, 35200, 13100, 97400, 23100, 49200, 45000, 87200, 49900, 66900, 47600, 47900, 59400, 32700, 34200, 96600, 126300, 31600, 108100, 43300, 17900, 50100, 74700, 60000, 33400, 68800, 25700, 83700, 50500, 17300, 45800, 108900, 60500, 84100, 25100, 69900, 97100, 72200, 78900, 62500, 17800, 105500, 46100, 27100, 60300, 12000, 48400, 45600, 35200, 60200, 53900, 70400, 36900, 36100, 11000, 61600, 88700, 88600, 79500, 18900, 17300, 81400, 36500, 43300, 76700, 123000, 56300, 70000, 48100, 79400, 63700, 21200, 53900, 118800, 79400, 20400, 52400, 17600, 23500, 56900, 95100, 119800, 58700, 76700, 67600, 61500, 72900, 21200, 32400, 62200, 24400, 66500, 72200, 16900, 56300, 22000, 18800, 26600, 72100, 55600, 14600, 45900, 15100, 140700, 90300, 95900, 20800, 98400, 15000, 17700, 102400, 17800, 13800, 50500, 42000, 95800, 15200, 15800, 51400, 38200, 39900, 21600, 65900, 97500, 63000, 31900, 45500, 12800, 12600, 50700, 17900, 14400, 23800, 84700, 36900, 20600, 41500, 83100, 88700, 54700, 68900, 22200, 70900, 55900, 80800, 100600, 39900, 71200, 61000, 38700, 98900, 64300, 75600, 53700, 66600, 89000, 18200, 73600, 45600, 73000, 29600, 92900, 13900, 64300, 77100, 27500, 81800, 41700, 51000, 55900, 19800, 17600, 84100, 85600, 13400, 47200, 96300, 60500, 35800, 106100, 18000, 50000, 58200, 13500, 59900, 18400, 62800, 70000, 13600, 97400, 37500, 22800, 14200, 18700, 107400, 28900, 38400, 54200, 102700, 13300, 60200, 21400, 21700, 23200, 64800, 55600, 89500, 12500, 87000, 31200, 13700, 55500, 58600, 55900, 13700, 81400, 90500, 82200, 65400, 74400, 63300, 51600, 55000, 43900, 20300, 16300, 97600, 15100, 12500, 10600, 41300, 27200, 102400, 27900, 23800, 100000, 43300, 65800, 49700, 82300, 41200, 29200, 51900, 85500, 12400, 111900, 40400, 10900, 82400, 13200, 57800, 52200, 64600, 43100, 40100, 84500, 34500, 61000, 79300, 44500, 39700, 30300, 20100, 86500, 42500, 102300, 52600, 37800, 20300, 71600, 54500, 54700, 58600, 53800, 131500, 52200, 37200, 22900, 55500, 12800, 17600, 28300, 41900, 14100, 52100, 38700, 44100, 79200, 22600, 55100, 70400, 107300, 66500, 10200, 41000, 26200, 72200, 36700, 74500, 60200, 34500, 83700, 14800, 106400, 42000, 118800, 21900, 39500, 45900, 37100, 28200, 74600, 122700, 14200, 75500, 62900, 19400, 46600, 79700, 45900, 42800, 65500, 33600, 55600, 24000, 25700, 21500, 68600, 23100, 53300, 112800, 124900, 72200, 35100, 14900, 72000, 82400, 41600, 68500, 62200, 35900, 14100, 36500, 86400, 39500, 85300, 110700, 17700, 33200, 53800, 44400, 135700, 20700, 83500, 84200, 79900, 19700, 35300, 52000, 21300, 63700, 25900, 65800, 11000, 65900, 108100, 107300, 79500, 95900, 45200, 98500, 96200, 17900, 42700, 49700, 43000, 15500, 13000, 27200, 26700, 61000, 76600, 117500, 90600, 12600, 12700, 77600, 92400, 71800, 95800, 32600, 74500, 29200, 12900, 117700, 64100, 46500, 12400, 130600, 74400, 40600, 54200, 65400, 49100, 10600, 76400, 93700, 49000, 96500, 55600, 99600, 79900, 50500, 16300, 49200, 48100, 61300, 72600, 19500, 17200, 51100, 76800, 60200, 59100, 32500, 49500, 109600, 47300, 93000, 32000, 44700, 69400, 64300, 75400, 96100, 118000, 69700, 59300, 88600, 102600, 43700, 22400, 70500, 54200, 25300, 116100, 15900, 46600, 23200, 18200, 82700, 17000, 83000, 42400, 40200, 17300, 109800, 64400, 27600, 25100, 46300, 74900, 67900, 88500, 99200, 62800, 76900, 84100, 77600, 19100, 128700, 14400, 49600, 47000, 36600, 65800, 52800, 96500, 63500, 60400, 102700, 100100, 54400, 105600, 57900, 31500, 60100, 87400, 117900, 48800, 67900, 66200, 88000, 94200, 29200, 15300, 17500, 168800, 40200, 28400, 72200, 55200, 44600, 58400, 67800, 25500, 20000, 52600, 97600, 23400, 102500, 52300, 65400, 19600, 37000, 13200, 63800, 22600, 37300, 14900, 36700, 63200, 77300, 43100, 44800, 70900, 38200, 18400, 40700, 71300, 36400, 15400, 39100, 43800, 25300, 71800, 73200, 79000, 75200, 25300, 43600, 83600, 56200, 45500, 99300, 108000, 84900, 93000, 82000, 33000, 36900, 33200, 49300, 66200, 96800, 63200, 112900, 32100, 102700, 123800, 11700, 101700, 99200, 17600, 19400, 40500, 44800, 79000, 53600], \"xbins\": {\"end\": 150000, \"size\": 5000, \"start\": 0}}],                        {\"template\": {\"data\": {\"bar\": [{\"error_x\": {\"color\": \"#2a3f5f\"}, \"error_y\": {\"color\": \"#2a3f5f\"}, \"marker\": {\"line\": {\"color\": \"#E5ECF6\", \"width\": 0.5}}, \"type\": \"bar\"}], \"barpolar\": [{\"marker\": {\"line\": {\"color\": \"#E5ECF6\", \"width\": 0.5}}, \"type\": \"barpolar\"}], \"carpet\": [{\"aaxis\": {\"endlinecolor\": \"#2a3f5f\", \"gridcolor\": \"white\", \"linecolor\": \"white\", \"minorgridcolor\": \"white\", \"startlinecolor\": \"#2a3f5f\"}, \"baxis\": {\"endlinecolor\": \"#2a3f5f\", \"gridcolor\": \"white\", \"linecolor\": \"white\", \"minorgridcolor\": \"white\", \"startlinecolor\": \"#2a3f5f\"}, \"type\": \"carpet\"}], \"choropleth\": [{\"colorbar\": {\"outlinewidth\": 0, \"ticks\": \"\"}, \"type\": \"choropleth\"}], \"contour\": [{\"colorbar\": {\"outlinewidth\": 0, \"ticks\": \"\"}, \"colorscale\": [[0.0, \"#0d0887\"], [0.1111111111111111, \"#46039f\"], [0.2222222222222222, \"#7201a8\"], [0.3333333333333333, \"#9c179e\"], [0.4444444444444444, \"#bd3786\"], [0.5555555555555556, \"#d8576b\"], [0.6666666666666666, \"#ed7953\"], [0.7777777777777778, \"#fb9f3a\"], [0.8888888888888888, \"#fdca26\"], [1.0, \"#f0f921\"]], \"type\": \"contour\"}], \"contourcarpet\": [{\"colorbar\": {\"outlinewidth\": 0, \"ticks\": \"\"}, \"type\": \"contourcarpet\"}], \"heatmap\": [{\"colorbar\": {\"outlinewidth\": 0, \"ticks\": \"\"}, \"colorscale\": [[0.0, \"#0d0887\"], [0.1111111111111111, \"#46039f\"], [0.2222222222222222, \"#7201a8\"], [0.3333333333333333, \"#9c179e\"], [0.4444444444444444, \"#bd3786\"], [0.5555555555555556, \"#d8576b\"], [0.6666666666666666, \"#ed7953\"], [0.7777777777777778, \"#fb9f3a\"], [0.8888888888888888, \"#fdca26\"], [1.0, \"#f0f921\"]], \"type\": \"heatmap\"}], \"heatmapgl\": [{\"colorbar\": {\"outlinewidth\": 0, \"ticks\": \"\"}, \"colorscale\": [[0.0, \"#0d0887\"], [0.1111111111111111, \"#46039f\"], [0.2222222222222222, \"#7201a8\"], [0.3333333333333333, \"#9c179e\"], [0.4444444444444444, \"#bd3786\"], [0.5555555555555556, \"#d8576b\"], [0.6666666666666666, \"#ed7953\"], [0.7777777777777778, \"#fb9f3a\"], [0.8888888888888888, \"#fdca26\"], [1.0, \"#f0f921\"]], \"type\": \"heatmapgl\"}], \"histogram\": [{\"marker\": {\"colorbar\": {\"outlinewidth\": 0, \"ticks\": \"\"}}, \"type\": \"histogram\"}], \"histogram2d\": [{\"colorbar\": {\"outlinewidth\": 0, \"ticks\": \"\"}, \"colorscale\": [[0.0, \"#0d0887\"], [0.1111111111111111, \"#46039f\"], [0.2222222222222222, \"#7201a8\"], [0.3333333333333333, \"#9c179e\"], [0.4444444444444444, \"#bd3786\"], [0.5555555555555556, \"#d8576b\"], [0.6666666666666666, \"#ed7953\"], [0.7777777777777778, \"#fb9f3a\"], [0.8888888888888888, \"#fdca26\"], [1.0, \"#f0f921\"]], \"type\": \"histogram2d\"}], \"histogram2dcontour\": [{\"colorbar\": {\"outlinewidth\": 0, \"ticks\": \"\"}, \"colorscale\": [[0.0, \"#0d0887\"], [0.1111111111111111, \"#46039f\"], [0.2222222222222222, \"#7201a8\"], [0.3333333333333333, \"#9c179e\"], [0.4444444444444444, \"#bd3786\"], [0.5555555555555556, \"#d8576b\"], [0.6666666666666666, \"#ed7953\"], [0.7777777777777778, \"#fb9f3a\"], [0.8888888888888888, \"#fdca26\"], [1.0, \"#f0f921\"]], \"type\": \"histogram2dcontour\"}], \"mesh3d\": [{\"colorbar\": {\"outlinewidth\": 0, \"ticks\": \"\"}, \"type\": \"mesh3d\"}], \"parcoords\": [{\"line\": {\"colorbar\": {\"outlinewidth\": 0, \"ticks\": \"\"}}, \"type\": \"parcoords\"}], \"pie\": [{\"automargin\": true, \"type\": \"pie\"}], \"scatter\": [{\"marker\": {\"colorbar\": {\"outlinewidth\": 0, \"ticks\": \"\"}}, \"type\": \"scatter\"}], \"scatter3d\": [{\"line\": {\"colorbar\": {\"outlinewidth\": 0, \"ticks\": \"\"}}, \"marker\": {\"colorbar\": {\"outlinewidth\": 0, \"ticks\": \"\"}}, \"type\": \"scatter3d\"}], \"scattercarpet\": [{\"marker\": {\"colorbar\": {\"outlinewidth\": 0, \"ticks\": \"\"}}, \"type\": \"scattercarpet\"}], \"scattergeo\": [{\"marker\": {\"colorbar\": {\"outlinewidth\": 0, \"ticks\": \"\"}}, \"type\": \"scattergeo\"}], \"scattergl\": [{\"marker\": {\"colorbar\": {\"outlinewidth\": 0, \"ticks\": \"\"}}, \"type\": \"scattergl\"}], \"scattermapbox\": [{\"marker\": {\"colorbar\": {\"outlinewidth\": 0, \"ticks\": \"\"}}, \"type\": \"scattermapbox\"}], \"scatterpolar\": [{\"marker\": {\"colorbar\": {\"outlinewidth\": 0, \"ticks\": \"\"}}, \"type\": \"scatterpolar\"}], \"scatterpolargl\": [{\"marker\": {\"colorbar\": {\"outlinewidth\": 0, \"ticks\": \"\"}}, \"type\": \"scatterpolargl\"}], \"scatterternary\": [{\"marker\": {\"colorbar\": {\"outlinewidth\": 0, \"ticks\": \"\"}}, \"type\": \"scatterternary\"}], \"surface\": [{\"colorbar\": {\"outlinewidth\": 0, \"ticks\": \"\"}, \"colorscale\": [[0.0, \"#0d0887\"], [0.1111111111111111, \"#46039f\"], [0.2222222222222222, \"#7201a8\"], [0.3333333333333333, \"#9c179e\"], [0.4444444444444444, \"#bd3786\"], [0.5555555555555556, \"#d8576b\"], [0.6666666666666666, \"#ed7953\"], [0.7777777777777778, \"#fb9f3a\"], [0.8888888888888888, \"#fdca26\"], [1.0, \"#f0f921\"]], \"type\": \"surface\"}], \"table\": [{\"cells\": {\"fill\": {\"color\": \"#EBF0F8\"}, \"line\": {\"color\": \"white\"}}, \"header\": {\"fill\": {\"color\": \"#C8D4E3\"}, \"line\": {\"color\": \"white\"}}, \"type\": \"table\"}]}, \"layout\": {\"annotationdefaults\": {\"arrowcolor\": \"#2a3f5f\", \"arrowhead\": 0, \"arrowwidth\": 1}, \"coloraxis\": {\"colorbar\": {\"outlinewidth\": 0, \"ticks\": \"\"}}, \"colorscale\": {\"diverging\": [[0, \"#8e0152\"], [0.1, \"#c51b7d\"], [0.2, \"#de77ae\"], [0.3, \"#f1b6da\"], [0.4, \"#fde0ef\"], [0.5, \"#f7f7f7\"], [0.6, \"#e6f5d0\"], [0.7, \"#b8e186\"], [0.8, \"#7fbc41\"], [0.9, \"#4d9221\"], [1, \"#276419\"]], \"sequential\": [[0.0, \"#0d0887\"], [0.1111111111111111, \"#46039f\"], [0.2222222222222222, \"#7201a8\"], [0.3333333333333333, \"#9c179e\"], [0.4444444444444444, \"#bd3786\"], [0.5555555555555556, \"#d8576b\"], [0.6666666666666666, \"#ed7953\"], [0.7777777777777778, \"#fb9f3a\"], [0.8888888888888888, \"#fdca26\"], [1.0, \"#f0f921\"]], \"sequentialminus\": [[0.0, \"#0d0887\"], [0.1111111111111111, \"#46039f\"], [0.2222222222222222, \"#7201a8\"], [0.3333333333333333, \"#9c179e\"], [0.4444444444444444, \"#bd3786\"], [0.5555555555555556, \"#d8576b\"], [0.6666666666666666, \"#ed7953\"], [0.7777777777777778, \"#fb9f3a\"], [0.8888888888888888, \"#fdca26\"], [1.0, \"#f0f921\"]]}, \"colorway\": [\"#636efa\", \"#EF553B\", \"#00cc96\", \"#ab63fa\", \"#FFA15A\", \"#19d3f3\", \"#FF6692\", \"#B6E880\", \"#FF97FF\", \"#FECB52\"], \"font\": {\"color\": \"#2a3f5f\"}, \"geo\": {\"bgcolor\": \"white\", \"lakecolor\": \"white\", \"landcolor\": \"#E5ECF6\", \"showlakes\": true, \"showland\": true, \"subunitcolor\": \"white\"}, \"hoverlabel\": {\"align\": \"left\"}, \"hovermode\": \"closest\", \"mapbox\": {\"style\": \"light\"}, \"paper_bgcolor\": \"white\", \"plot_bgcolor\": \"#E5ECF6\", \"polar\": {\"angularaxis\": {\"gridcolor\": \"white\", \"linecolor\": \"white\", \"ticks\": \"\"}, \"bgcolor\": \"#E5ECF6\", \"radialaxis\": {\"gridcolor\": \"white\", \"linecolor\": \"white\", \"ticks\": \"\"}}, \"scene\": {\"xaxis\": {\"backgroundcolor\": \"#E5ECF6\", \"gridcolor\": \"white\", \"gridwidth\": 2, \"linecolor\": \"white\", \"showbackground\": true, \"ticks\": \"\", \"zerolinecolor\": \"white\"}, \"yaxis\": {\"backgroundcolor\": \"#E5ECF6\", \"gridcolor\": \"white\", \"gridwidth\": 2, \"linecolor\": \"white\", \"showbackground\": true, \"ticks\": \"\", \"zerolinecolor\": \"white\"}, \"zaxis\": {\"backgroundcolor\": \"#E5ECF6\", \"gridcolor\": \"white\", \"gridwidth\": 2, \"linecolor\": \"white\", \"showbackground\": true, \"ticks\": \"\", \"zerolinecolor\": \"white\"}}, \"shapedefaults\": {\"line\": {\"color\": \"#2a3f5f\"}}, \"ternary\": {\"aaxis\": {\"gridcolor\": \"white\", \"linecolor\": \"white\", \"ticks\": \"\"}, \"baxis\": {\"gridcolor\": \"white\", \"linecolor\": \"white\", \"ticks\": \"\"}, \"bgcolor\": \"#E5ECF6\", \"caxis\": {\"gridcolor\": \"white\", \"linecolor\": \"white\", \"ticks\": \"\"}}, \"title\": {\"x\": 0.05}, \"xaxis\": {\"automargin\": true, \"gridcolor\": \"white\", \"linecolor\": \"white\", \"ticks\": \"\", \"title\": {\"standoff\": 15}, \"zerolinecolor\": \"white\", \"zerolinewidth\": 2}, \"yaxis\": {\"automargin\": true, \"gridcolor\": \"white\", \"linecolor\": \"white\", \"ticks\": \"\", \"title\": {\"standoff\": 15}, \"zerolinecolor\": \"white\", \"zerolinewidth\": 2}}}, \"title\": {\"text\": \"Distribution Of Salary\", \"x\": 0.5}, \"xaxis\": {\"title\": {\"text\": \"Salary \"}}, \"yaxis\": {\"title\": {\"text\": \"Counts\"}}},                        {\"responsive\": true}                    ).then(function(){\n",
       "                            \n",
       "var gd = document.getElementById('29258cbe-0002-447f-98f1-422b6946a82b');\n",
       "var x = new MutationObserver(function (mutations, observer) {{\n",
       "        var display = window.getComputedStyle(gd).display;\n",
       "        if (!display || display === 'none') {{\n",
       "            console.log([gd, 'removed!']);\n",
       "            Plotly.purge(gd);\n",
       "            observer.disconnect();\n",
       "        }}\n",
       "}});\n",
       "\n",
       "// Listen for the removal of the full notebook cells\n",
       "var notebookContainer = gd.closest('#notebook-container');\n",
       "if (notebookContainer) {{\n",
       "    x.observe(notebookContainer, {childList: true});\n",
       "}}\n",
       "\n",
       "// Listen for the clearing of the current output cell\n",
       "var outputEl = gd.closest('.output');\n",
       "if (outputEl) {{\n",
       "    x.observe(outputEl, {childList: true});\n",
       "}}\n",
       "\n",
       "                        })                };                });            </script>        </div>"
      ]
     },
     "metadata": {},
     "output_type": "display_data"
    }
   ],
   "source": [
    "fig = go.Figure(data=[go.Histogram(x=df['Salary'],  # To get Horizontal plot ,change axis - \n",
    "                                  marker_color=\"Crimson\",\n",
    "                       xbins=dict(\n",
    "                      start=0, #start range of bin\n",
    "                      end=150000,  #end range of bin\n",
    "                      size=5000   #size of bin\n",
    "                      ))])\n",
    "fig.update_layout(title=\"Distribution Of Salary\",xaxis_title=\"Salary \",yaxis_title=\"Counts\",title_x=0.5)\n",
    "fig.show()"
   ]
  },
  {
   "cell_type": "code",
   "execution_count": 69,
   "metadata": {
    "execution": {
     "iopub.execute_input": "2020-12-10T12:48:39.091809Z",
     "iopub.status.busy": "2020-12-10T12:48:39.090932Z",
     "iopub.status.idle": "2020-12-10T12:48:39.097010Z",
     "shell.execute_reply": "2020-12-10T12:48:39.096350Z"
    },
    "papermill": {
     "duration": 0.260697,
     "end_time": "2020-12-10T12:48:39.097145",
     "exception": false,
     "start_time": "2020-12-10T12:48:38.836448",
     "status": "completed"
    },
    "tags": []
   },
   "outputs": [
    {
     "data": {
      "text/html": [
       "<div>                            <div id=\"18ccbdbc-e7fb-4a95-94af-3191ffa4333c\" class=\"plotly-graph-div\" style=\"height:525px; width:100%;\"></div>            <script type=\"text/javascript\">                require([\"plotly\"], function(Plotly) {                    window.PLOTLYENV=window.PLOTLYENV || {};                                    if (document.getElementById(\"18ccbdbc-e7fb-4a95-94af-3191ffa4333c\")) {                    Plotly.newPlot(                        \"18ccbdbc-e7fb-4a95-94af-3191ffa4333c\",                        [{\"boxmean\": \"sd\", \"marker\": {\"color\": \"royalblue\"}, \"name\": \"Salary\", \"type\": \"box\", \"y\": [47500, 63600, 13500, 85600, 68400, 30400, 48100, 68400, 51900, 80700, 43700, 111800, 44100, 111400, 110000, 83100, 82800, 90100, 38600, 14000, 14300, 49800, 60200, 43500, 41700, 92300, 62800, 72900, 66900, 21700, 39700, 72200, 87700, 104100, 67700, 27000, 64100, 47000, 41600, 20100, 64000, 96800, 76200, 81500, 49600, 111500, 77700, 58900, 126500, 83300, 90500, 87200, 105300, 56000, 46600, 69800, 60300, 67800, 42300, 33700, 62700, 25900, 15600, 14600, 62600, 66700, 72500, 13200, 51300, 72300, 15600, 90400, 71500, 14400, 15000, 57600, 60600, 84300, 24400, 22100, 48800, 74700, 32400, 11400, 127000, 47200, 48700, 20400, 39000, 12900, 67300, 134500, 75500, 33600, 16300, 27400, 110400, 21100, 81200, 87100, 21700, 42200, 59000, 52700, 20900, 90700, 91800, 27900, 70700, 79600, 96400, 46600, 106600, 104900, 56300, 14800, 58300, 70200, 59700, 25800, 12000, 51900, 66800, 105300, 13800, 14800, 44200, 10400, 35200, 16100, 113000, 63300, 19100, 93400, 52500, 45400, 21400, 53700, 68000, 17400, 14600, 100100, 103700, 10800, 81700, 21400, 114800, 67900, 53700, 11400, 34300, 16400, 109800, 64200, 17000, 41400, 49100, 42600, 11900, 113600, 52900, 14300, 21000, 59600, 39700, 51200, 88200, 122100, 84800, 140000, 28500, 60300, 51900, 60200, 81200, 73100, 45700, 28900, 60100, 84800, 35000, 61700, 46900, 123600, 45800, 77800, 48700, 39000, 40000, 118300, 27100, 91000, 35300, 10200, 12500, 64600, 113800, 113400, 16900, 13600, 100100, 80000, 83900, 77000, 72900, 80700, 40900, 26700, 54700, 23600, 56900, 68700, 19300, 20200, 61500, 101700, 120800, 17300, 42300, 53300, 42800, 98400, 51200, 62200, 109200, 11400, 14000, 97000, 29600, 71200, 15000, 64000, 33000, 74400, 20300, 68700, 53600, 33200, 70900, 23200, 41400, 63200, 107400, 13900, 79900, 120000, 66300, 54400, 84200, 13800, 14500, 21300, 29000, 14600, 65300, 100800, 19800, 56700, 90200, 26100, 15900, 12700, 43200, 114100, 96100, 97200, 82400, 62000, 13400, 108200, 76200, 81800, 12000, 76100, 82100, 103300, 14200, 47500, 31300, 32700, 72200, 107600, 109900, 65400, 43300, 51900, 80600, 42700, 19000, 14500, 68200, 36700, 54600, 65900, 39600, 67300, 59700, 102800, 34700, 50600, 106700, 53900, 25500, 46300, 55500, 27800, 118600, 130700, 42800, 118300, 25600, 63500, 30900, 55900, 53900, 84300, 53400, 96900, 55800, 25900, 22000, 96700, 40200, 26800, 16700, 40900, 41500, 20900, 69700, 61800, 102500, 48900, 60300, 41600, 73700, 27000, 43700, 10200, 63300, 33200, 78800, 82500, 80800, 88100, 124800, 31900, 53300, 15400, 70200, 23000, 82400, 97900, 88400, 86900, 45100, 41800, 74800, 73000, 118500, 65300, 66300, 103900, 71900, 86100, 96300, 10200, 96300, 24000, 46700, 53700, 108300, 12100, 36600, 66300, 33400, 70000, 47900, 40500, 69100, 13300, 75800, 48600, 39600, 11700, 52600, 14600, 123000, 64600, 34600, 74500, 56600, 37000, 18400, 25000, 61400, 76400, 55100, 22800, 10100, 17800, 59100, 19700, 73800, 113300, 118400, 92300, 11200, 30100, 43500, 97500, 54600, 42500, 82800, 62300, 21900, 35600, 96900, 36900, 93500, 97300, 21900, 63000, 11500, 44600, 21900, 45100, 74900, 14200, 23200, 73300, 41300, 32700, 35200, 13100, 97400, 23100, 49200, 45000, 87200, 49900, 66900, 47600, 47900, 59400, 32700, 34200, 96600, 126300, 31600, 108100, 43300, 17900, 50100, 74700, 60000, 33400, 68800, 25700, 83700, 50500, 17300, 45800, 108900, 60500, 84100, 25100, 69900, 97100, 72200, 78900, 62500, 17800, 105500, 46100, 27100, 60300, 12000, 48400, 45600, 35200, 60200, 53900, 70400, 36900, 36100, 11000, 61600, 88700, 88600, 79500, 18900, 17300, 81400, 36500, 43300, 76700, 123000, 56300, 70000, 48100, 79400, 63700, 21200, 53900, 118800, 79400, 20400, 52400, 17600, 23500, 56900, 95100, 119800, 58700, 76700, 67600, 61500, 72900, 21200, 32400, 62200, 24400, 66500, 72200, 16900, 56300, 22000, 18800, 26600, 72100, 55600, 14600, 45900, 15100, 140700, 90300, 95900, 20800, 98400, 15000, 17700, 102400, 17800, 13800, 50500, 42000, 95800, 15200, 15800, 51400, 38200, 39900, 21600, 65900, 97500, 63000, 31900, 45500, 12800, 12600, 50700, 17900, 14400, 23800, 84700, 36900, 20600, 41500, 83100, 88700, 54700, 68900, 22200, 70900, 55900, 80800, 100600, 39900, 71200, 61000, 38700, 98900, 64300, 75600, 53700, 66600, 89000, 18200, 73600, 45600, 73000, 29600, 92900, 13900, 64300, 77100, 27500, 81800, 41700, 51000, 55900, 19800, 17600, 84100, 85600, 13400, 47200, 96300, 60500, 35800, 106100, 18000, 50000, 58200, 13500, 59900, 18400, 62800, 70000, 13600, 97400, 37500, 22800, 14200, 18700, 107400, 28900, 38400, 54200, 102700, 13300, 60200, 21400, 21700, 23200, 64800, 55600, 89500, 12500, 87000, 31200, 13700, 55500, 58600, 55900, 13700, 81400, 90500, 82200, 65400, 74400, 63300, 51600, 55000, 43900, 20300, 16300, 97600, 15100, 12500, 10600, 41300, 27200, 102400, 27900, 23800, 100000, 43300, 65800, 49700, 82300, 41200, 29200, 51900, 85500, 12400, 111900, 40400, 10900, 82400, 13200, 57800, 52200, 64600, 43100, 40100, 84500, 34500, 61000, 79300, 44500, 39700, 30300, 20100, 86500, 42500, 102300, 52600, 37800, 20300, 71600, 54500, 54700, 58600, 53800, 131500, 52200, 37200, 22900, 55500, 12800, 17600, 28300, 41900, 14100, 52100, 38700, 44100, 79200, 22600, 55100, 70400, 107300, 66500, 10200, 41000, 26200, 72200, 36700, 74500, 60200, 34500, 83700, 14800, 106400, 42000, 118800, 21900, 39500, 45900, 37100, 28200, 74600, 122700, 14200, 75500, 62900, 19400, 46600, 79700, 45900, 42800, 65500, 33600, 55600, 24000, 25700, 21500, 68600, 23100, 53300, 112800, 124900, 72200, 35100, 14900, 72000, 82400, 41600, 68500, 62200, 35900, 14100, 36500, 86400, 39500, 85300, 110700, 17700, 33200, 53800, 44400, 135700, 20700, 83500, 84200, 79900, 19700, 35300, 52000, 21300, 63700, 25900, 65800, 11000, 65900, 108100, 107300, 79500, 95900, 45200, 98500, 96200, 17900, 42700, 49700, 43000, 15500, 13000, 27200, 26700, 61000, 76600, 117500, 90600, 12600, 12700, 77600, 92400, 71800, 95800, 32600, 74500, 29200, 12900, 117700, 64100, 46500, 12400, 130600, 74400, 40600, 54200, 65400, 49100, 10600, 76400, 93700, 49000, 96500, 55600, 99600, 79900, 50500, 16300, 49200, 48100, 61300, 72600, 19500, 17200, 51100, 76800, 60200, 59100, 32500, 49500, 109600, 47300, 93000, 32000, 44700, 69400, 64300, 75400, 96100, 118000, 69700, 59300, 88600, 102600, 43700, 22400, 70500, 54200, 25300, 116100, 15900, 46600, 23200, 18200, 82700, 17000, 83000, 42400, 40200, 17300, 109800, 64400, 27600, 25100, 46300, 74900, 67900, 88500, 99200, 62800, 76900, 84100, 77600, 19100, 128700, 14400, 49600, 47000, 36600, 65800, 52800, 96500, 63500, 60400, 102700, 100100, 54400, 105600, 57900, 31500, 60100, 87400, 117900, 48800, 67900, 66200, 88000, 94200, 29200, 15300, 17500, 168800, 40200, 28400, 72200, 55200, 44600, 58400, 67800, 25500, 20000, 52600, 97600, 23400, 102500, 52300, 65400, 19600, 37000, 13200, 63800, 22600, 37300, 14900, 36700, 63200, 77300, 43100, 44800, 70900, 38200, 18400, 40700, 71300, 36400, 15400, 39100, 43800, 25300, 71800, 73200, 79000, 75200, 25300, 43600, 83600, 56200, 45500, 99300, 108000, 84900, 93000, 82000, 33000, 36900, 33200, 49300, 66200, 96800, 63200, 112900, 32100, 102700, 123800, 11700, 101700, 99200, 17600, 19400, 40500, 44800, 79000, 53600]}],                        {\"template\": {\"data\": {\"bar\": [{\"error_x\": {\"color\": \"#2a3f5f\"}, \"error_y\": {\"color\": \"#2a3f5f\"}, \"marker\": {\"line\": {\"color\": \"#E5ECF6\", \"width\": 0.5}}, \"type\": \"bar\"}], \"barpolar\": [{\"marker\": {\"line\": {\"color\": \"#E5ECF6\", \"width\": 0.5}}, \"type\": \"barpolar\"}], \"carpet\": [{\"aaxis\": {\"endlinecolor\": \"#2a3f5f\", \"gridcolor\": \"white\", \"linecolor\": \"white\", \"minorgridcolor\": \"white\", \"startlinecolor\": \"#2a3f5f\"}, \"baxis\": {\"endlinecolor\": \"#2a3f5f\", \"gridcolor\": \"white\", \"linecolor\": \"white\", \"minorgridcolor\": \"white\", \"startlinecolor\": \"#2a3f5f\"}, \"type\": \"carpet\"}], \"choropleth\": [{\"colorbar\": {\"outlinewidth\": 0, \"ticks\": \"\"}, \"type\": \"choropleth\"}], \"contour\": [{\"colorbar\": {\"outlinewidth\": 0, \"ticks\": \"\"}, \"colorscale\": [[0.0, \"#0d0887\"], [0.1111111111111111, \"#46039f\"], [0.2222222222222222, \"#7201a8\"], [0.3333333333333333, \"#9c179e\"], [0.4444444444444444, \"#bd3786\"], [0.5555555555555556, \"#d8576b\"], [0.6666666666666666, \"#ed7953\"], [0.7777777777777778, \"#fb9f3a\"], [0.8888888888888888, \"#fdca26\"], [1.0, \"#f0f921\"]], \"type\": \"contour\"}], \"contourcarpet\": [{\"colorbar\": {\"outlinewidth\": 0, \"ticks\": \"\"}, \"type\": \"contourcarpet\"}], \"heatmap\": [{\"colorbar\": {\"outlinewidth\": 0, \"ticks\": \"\"}, \"colorscale\": [[0.0, \"#0d0887\"], [0.1111111111111111, \"#46039f\"], [0.2222222222222222, \"#7201a8\"], [0.3333333333333333, \"#9c179e\"], [0.4444444444444444, \"#bd3786\"], [0.5555555555555556, \"#d8576b\"], [0.6666666666666666, \"#ed7953\"], [0.7777777777777778, \"#fb9f3a\"], [0.8888888888888888, \"#fdca26\"], [1.0, \"#f0f921\"]], \"type\": \"heatmap\"}], \"heatmapgl\": [{\"colorbar\": {\"outlinewidth\": 0, \"ticks\": \"\"}, \"colorscale\": [[0.0, \"#0d0887\"], [0.1111111111111111, \"#46039f\"], [0.2222222222222222, \"#7201a8\"], [0.3333333333333333, \"#9c179e\"], [0.4444444444444444, \"#bd3786\"], [0.5555555555555556, \"#d8576b\"], [0.6666666666666666, \"#ed7953\"], [0.7777777777777778, \"#fb9f3a\"], [0.8888888888888888, \"#fdca26\"], [1.0, \"#f0f921\"]], \"type\": \"heatmapgl\"}], \"histogram\": [{\"marker\": {\"colorbar\": {\"outlinewidth\": 0, \"ticks\": \"\"}}, \"type\": \"histogram\"}], \"histogram2d\": [{\"colorbar\": {\"outlinewidth\": 0, \"ticks\": \"\"}, \"colorscale\": [[0.0, \"#0d0887\"], [0.1111111111111111, \"#46039f\"], [0.2222222222222222, \"#7201a8\"], [0.3333333333333333, \"#9c179e\"], [0.4444444444444444, \"#bd3786\"], [0.5555555555555556, \"#d8576b\"], [0.6666666666666666, \"#ed7953\"], [0.7777777777777778, \"#fb9f3a\"], [0.8888888888888888, \"#fdca26\"], [1.0, \"#f0f921\"]], \"type\": \"histogram2d\"}], \"histogram2dcontour\": [{\"colorbar\": {\"outlinewidth\": 0, \"ticks\": \"\"}, \"colorscale\": [[0.0, \"#0d0887\"], [0.1111111111111111, \"#46039f\"], [0.2222222222222222, \"#7201a8\"], [0.3333333333333333, \"#9c179e\"], [0.4444444444444444, \"#bd3786\"], [0.5555555555555556, \"#d8576b\"], [0.6666666666666666, \"#ed7953\"], [0.7777777777777778, \"#fb9f3a\"], [0.8888888888888888, \"#fdca26\"], [1.0, \"#f0f921\"]], \"type\": \"histogram2dcontour\"}], \"mesh3d\": [{\"colorbar\": {\"outlinewidth\": 0, \"ticks\": \"\"}, \"type\": \"mesh3d\"}], \"parcoords\": [{\"line\": {\"colorbar\": {\"outlinewidth\": 0, \"ticks\": \"\"}}, \"type\": \"parcoords\"}], \"pie\": [{\"automargin\": true, \"type\": \"pie\"}], \"scatter\": [{\"marker\": {\"colorbar\": {\"outlinewidth\": 0, \"ticks\": \"\"}}, \"type\": \"scatter\"}], \"scatter3d\": [{\"line\": {\"colorbar\": {\"outlinewidth\": 0, \"ticks\": \"\"}}, \"marker\": {\"colorbar\": {\"outlinewidth\": 0, \"ticks\": \"\"}}, \"type\": \"scatter3d\"}], \"scattercarpet\": [{\"marker\": {\"colorbar\": {\"outlinewidth\": 0, \"ticks\": \"\"}}, \"type\": \"scattercarpet\"}], \"scattergeo\": [{\"marker\": {\"colorbar\": {\"outlinewidth\": 0, \"ticks\": \"\"}}, \"type\": \"scattergeo\"}], \"scattergl\": [{\"marker\": {\"colorbar\": {\"outlinewidth\": 0, \"ticks\": \"\"}}, \"type\": \"scattergl\"}], \"scattermapbox\": [{\"marker\": {\"colorbar\": {\"outlinewidth\": 0, \"ticks\": \"\"}}, \"type\": \"scattermapbox\"}], \"scatterpolar\": [{\"marker\": {\"colorbar\": {\"outlinewidth\": 0, \"ticks\": \"\"}}, \"type\": \"scatterpolar\"}], \"scatterpolargl\": [{\"marker\": {\"colorbar\": {\"outlinewidth\": 0, \"ticks\": \"\"}}, \"type\": \"scatterpolargl\"}], \"scatterternary\": [{\"marker\": {\"colorbar\": {\"outlinewidth\": 0, \"ticks\": \"\"}}, \"type\": \"scatterternary\"}], \"surface\": [{\"colorbar\": {\"outlinewidth\": 0, \"ticks\": \"\"}, \"colorscale\": [[0.0, \"#0d0887\"], [0.1111111111111111, \"#46039f\"], [0.2222222222222222, \"#7201a8\"], [0.3333333333333333, \"#9c179e\"], [0.4444444444444444, \"#bd3786\"], [0.5555555555555556, \"#d8576b\"], [0.6666666666666666, \"#ed7953\"], [0.7777777777777778, \"#fb9f3a\"], [0.8888888888888888, \"#fdca26\"], [1.0, \"#f0f921\"]], \"type\": \"surface\"}], \"table\": [{\"cells\": {\"fill\": {\"color\": \"#EBF0F8\"}, \"line\": {\"color\": \"white\"}}, \"header\": {\"fill\": {\"color\": \"#C8D4E3\"}, \"line\": {\"color\": \"white\"}}, \"type\": \"table\"}]}, \"layout\": {\"annotationdefaults\": {\"arrowcolor\": \"#2a3f5f\", \"arrowhead\": 0, \"arrowwidth\": 1}, \"coloraxis\": {\"colorbar\": {\"outlinewidth\": 0, \"ticks\": \"\"}}, \"colorscale\": {\"diverging\": [[0, \"#8e0152\"], [0.1, \"#c51b7d\"], [0.2, \"#de77ae\"], [0.3, \"#f1b6da\"], [0.4, \"#fde0ef\"], [0.5, \"#f7f7f7\"], [0.6, \"#e6f5d0\"], [0.7, \"#b8e186\"], [0.8, \"#7fbc41\"], [0.9, \"#4d9221\"], [1, \"#276419\"]], \"sequential\": [[0.0, \"#0d0887\"], [0.1111111111111111, \"#46039f\"], [0.2222222222222222, \"#7201a8\"], [0.3333333333333333, \"#9c179e\"], [0.4444444444444444, \"#bd3786\"], [0.5555555555555556, \"#d8576b\"], [0.6666666666666666, \"#ed7953\"], [0.7777777777777778, \"#fb9f3a\"], [0.8888888888888888, \"#fdca26\"], [1.0, \"#f0f921\"]], \"sequentialminus\": [[0.0, \"#0d0887\"], [0.1111111111111111, \"#46039f\"], [0.2222222222222222, \"#7201a8\"], [0.3333333333333333, \"#9c179e\"], [0.4444444444444444, \"#bd3786\"], [0.5555555555555556, \"#d8576b\"], [0.6666666666666666, \"#ed7953\"], [0.7777777777777778, \"#fb9f3a\"], [0.8888888888888888, \"#fdca26\"], [1.0, \"#f0f921\"]]}, \"colorway\": [\"#636efa\", \"#EF553B\", \"#00cc96\", \"#ab63fa\", \"#FFA15A\", \"#19d3f3\", \"#FF6692\", \"#B6E880\", \"#FF97FF\", \"#FECB52\"], \"font\": {\"color\": \"#2a3f5f\"}, \"geo\": {\"bgcolor\": \"white\", \"lakecolor\": \"white\", \"landcolor\": \"#E5ECF6\", \"showlakes\": true, \"showland\": true, \"subunitcolor\": \"white\"}, \"hoverlabel\": {\"align\": \"left\"}, \"hovermode\": \"closest\", \"mapbox\": {\"style\": \"light\"}, \"paper_bgcolor\": \"white\", \"plot_bgcolor\": \"#E5ECF6\", \"polar\": {\"angularaxis\": {\"gridcolor\": \"white\", \"linecolor\": \"white\", \"ticks\": \"\"}, \"bgcolor\": \"#E5ECF6\", \"radialaxis\": {\"gridcolor\": \"white\", \"linecolor\": \"white\", \"ticks\": \"\"}}, \"scene\": {\"xaxis\": {\"backgroundcolor\": \"#E5ECF6\", \"gridcolor\": \"white\", \"gridwidth\": 2, \"linecolor\": \"white\", \"showbackground\": true, \"ticks\": \"\", \"zerolinecolor\": \"white\"}, \"yaxis\": {\"backgroundcolor\": \"#E5ECF6\", \"gridcolor\": \"white\", \"gridwidth\": 2, \"linecolor\": \"white\", \"showbackground\": true, \"ticks\": \"\", \"zerolinecolor\": \"white\"}, \"zaxis\": {\"backgroundcolor\": \"#E5ECF6\", \"gridcolor\": \"white\", \"gridwidth\": 2, \"linecolor\": \"white\", \"showbackground\": true, \"ticks\": \"\", \"zerolinecolor\": \"white\"}}, \"shapedefaults\": {\"line\": {\"color\": \"#2a3f5f\"}}, \"ternary\": {\"aaxis\": {\"gridcolor\": \"white\", \"linecolor\": \"white\", \"ticks\": \"\"}, \"baxis\": {\"gridcolor\": \"white\", \"linecolor\": \"white\", \"ticks\": \"\"}, \"bgcolor\": \"#E5ECF6\", \"caxis\": {\"gridcolor\": \"white\", \"linecolor\": \"white\", \"ticks\": \"\"}}, \"title\": {\"x\": 0.05}, \"xaxis\": {\"automargin\": true, \"gridcolor\": \"white\", \"linecolor\": \"white\", \"ticks\": \"\", \"title\": {\"standoff\": 15}, \"zerolinecolor\": \"white\", \"zerolinewidth\": 2}, \"yaxis\": {\"automargin\": true, \"gridcolor\": \"white\", \"linecolor\": \"white\", \"ticks\": \"\", \"title\": {\"standoff\": 15}, \"zerolinecolor\": \"white\", \"zerolinewidth\": 2}}}, \"title\": {\"text\": \"Salary Distribution \", \"x\": 0.5}},                        {\"responsive\": true}                    ).then(function(){\n",
       "                            \n",
       "var gd = document.getElementById('18ccbdbc-e7fb-4a95-94af-3191ffa4333c');\n",
       "var x = new MutationObserver(function (mutations, observer) {{\n",
       "        var display = window.getComputedStyle(gd).display;\n",
       "        if (!display || display === 'none') {{\n",
       "            console.log([gd, 'removed!']);\n",
       "            Plotly.purge(gd);\n",
       "            observer.disconnect();\n",
       "        }}\n",
       "}});\n",
       "\n",
       "// Listen for the removal of the full notebook cells\n",
       "var notebookContainer = gd.closest('#notebook-container');\n",
       "if (notebookContainer) {{\n",
       "    x.observe(notebookContainer, {childList: true});\n",
       "}}\n",
       "\n",
       "// Listen for the clearing of the current output cell\n",
       "var outputEl = gd.closest('.output');\n",
       "if (outputEl) {{\n",
       "    x.observe(outputEl, {childList: true});\n",
       "}}\n",
       "\n",
       "                        })                };                });            </script>        </div>"
      ]
     },
     "metadata": {},
     "output_type": "display_data"
    }
   ],
   "source": [
    "fig = go.Figure()\n",
    "fig.add_trace(go.Box(\n",
    "    y=df[\"Salary\"],\n",
    "    name='Salary',\n",
    "    marker_color='royalblue',\n",
    "    boxmean='sd' # represent mean and standard deviation\n",
    "))\n",
    "fig.update_layout(title = \"Salary Distribution \",title_x=0.5,\n",
    "                 )\n",
    "fig.show()"
   ]
  },
  {
   "cell_type": "code",
   "execution_count": 70,
   "metadata": {
    "execution": {
     "iopub.execute_input": "2020-12-10T12:48:39.595310Z",
     "iopub.status.busy": "2020-12-10T12:48:39.594452Z",
     "iopub.status.idle": "2020-12-10T12:48:39.600093Z",
     "shell.execute_reply": "2020-12-10T12:48:39.599469Z"
    },
    "papermill": {
     "duration": 0.262526,
     "end_time": "2020-12-10T12:48:39.600220",
     "exception": false,
     "start_time": "2020-12-10T12:48:39.337694",
     "status": "completed"
    },
    "tags": []
   },
   "outputs": [
    {
     "data": {
      "text/html": [
       "<div>                            <div id=\"019f05fd-d5ee-44cb-afe5-5342c2a93458\" class=\"plotly-graph-div\" style=\"height:525px; width:100%;\"></div>            <script type=\"text/javascript\">                require([\"plotly\"], function(Plotly) {                    window.PLOTLYENV=window.PLOTLYENV || {};                                    if (document.getElementById(\"019f05fd-d5ee-44cb-afe5-5342c2a93458\")) {                    Plotly.newPlot(                        \"019f05fd-d5ee-44cb-afe5-5342c2a93458\",                        [{\"box\": {\"visible\": true}, \"fillcolor\": \"lightseagreen\", \"line\": {\"color\": \"black\"}, \"meanline\": {\"visible\": true}, \"opacity\": 0.6, \"type\": \"violin\", \"x0\": \"Salary\", \"y\": [47500, 63600, 13500, 85600, 68400, 30400, 48100, 68400, 51900, 80700, 43700, 111800, 44100, 111400, 110000, 83100, 82800, 90100, 38600, 14000, 14300, 49800, 60200, 43500, 41700, 92300, 62800, 72900, 66900, 21700, 39700, 72200, 87700, 104100, 67700, 27000, 64100, 47000, 41600, 20100, 64000, 96800, 76200, 81500, 49600, 111500, 77700, 58900, 126500, 83300, 90500, 87200, 105300, 56000, 46600, 69800, 60300, 67800, 42300, 33700, 62700, 25900, 15600, 14600, 62600, 66700, 72500, 13200, 51300, 72300, 15600, 90400, 71500, 14400, 15000, 57600, 60600, 84300, 24400, 22100, 48800, 74700, 32400, 11400, 127000, 47200, 48700, 20400, 39000, 12900, 67300, 134500, 75500, 33600, 16300, 27400, 110400, 21100, 81200, 87100, 21700, 42200, 59000, 52700, 20900, 90700, 91800, 27900, 70700, 79600, 96400, 46600, 106600, 104900, 56300, 14800, 58300, 70200, 59700, 25800, 12000, 51900, 66800, 105300, 13800, 14800, 44200, 10400, 35200, 16100, 113000, 63300, 19100, 93400, 52500, 45400, 21400, 53700, 68000, 17400, 14600, 100100, 103700, 10800, 81700, 21400, 114800, 67900, 53700, 11400, 34300, 16400, 109800, 64200, 17000, 41400, 49100, 42600, 11900, 113600, 52900, 14300, 21000, 59600, 39700, 51200, 88200, 122100, 84800, 140000, 28500, 60300, 51900, 60200, 81200, 73100, 45700, 28900, 60100, 84800, 35000, 61700, 46900, 123600, 45800, 77800, 48700, 39000, 40000, 118300, 27100, 91000, 35300, 10200, 12500, 64600, 113800, 113400, 16900, 13600, 100100, 80000, 83900, 77000, 72900, 80700, 40900, 26700, 54700, 23600, 56900, 68700, 19300, 20200, 61500, 101700, 120800, 17300, 42300, 53300, 42800, 98400, 51200, 62200, 109200, 11400, 14000, 97000, 29600, 71200, 15000, 64000, 33000, 74400, 20300, 68700, 53600, 33200, 70900, 23200, 41400, 63200, 107400, 13900, 79900, 120000, 66300, 54400, 84200, 13800, 14500, 21300, 29000, 14600, 65300, 100800, 19800, 56700, 90200, 26100, 15900, 12700, 43200, 114100, 96100, 97200, 82400, 62000, 13400, 108200, 76200, 81800, 12000, 76100, 82100, 103300, 14200, 47500, 31300, 32700, 72200, 107600, 109900, 65400, 43300, 51900, 80600, 42700, 19000, 14500, 68200, 36700, 54600, 65900, 39600, 67300, 59700, 102800, 34700, 50600, 106700, 53900, 25500, 46300, 55500, 27800, 118600, 130700, 42800, 118300, 25600, 63500, 30900, 55900, 53900, 84300, 53400, 96900, 55800, 25900, 22000, 96700, 40200, 26800, 16700, 40900, 41500, 20900, 69700, 61800, 102500, 48900, 60300, 41600, 73700, 27000, 43700, 10200, 63300, 33200, 78800, 82500, 80800, 88100, 124800, 31900, 53300, 15400, 70200, 23000, 82400, 97900, 88400, 86900, 45100, 41800, 74800, 73000, 118500, 65300, 66300, 103900, 71900, 86100, 96300, 10200, 96300, 24000, 46700, 53700, 108300, 12100, 36600, 66300, 33400, 70000, 47900, 40500, 69100, 13300, 75800, 48600, 39600, 11700, 52600, 14600, 123000, 64600, 34600, 74500, 56600, 37000, 18400, 25000, 61400, 76400, 55100, 22800, 10100, 17800, 59100, 19700, 73800, 113300, 118400, 92300, 11200, 30100, 43500, 97500, 54600, 42500, 82800, 62300, 21900, 35600, 96900, 36900, 93500, 97300, 21900, 63000, 11500, 44600, 21900, 45100, 74900, 14200, 23200, 73300, 41300, 32700, 35200, 13100, 97400, 23100, 49200, 45000, 87200, 49900, 66900, 47600, 47900, 59400, 32700, 34200, 96600, 126300, 31600, 108100, 43300, 17900, 50100, 74700, 60000, 33400, 68800, 25700, 83700, 50500, 17300, 45800, 108900, 60500, 84100, 25100, 69900, 97100, 72200, 78900, 62500, 17800, 105500, 46100, 27100, 60300, 12000, 48400, 45600, 35200, 60200, 53900, 70400, 36900, 36100, 11000, 61600, 88700, 88600, 79500, 18900, 17300, 81400, 36500, 43300, 76700, 123000, 56300, 70000, 48100, 79400, 63700, 21200, 53900, 118800, 79400, 20400, 52400, 17600, 23500, 56900, 95100, 119800, 58700, 76700, 67600, 61500, 72900, 21200, 32400, 62200, 24400, 66500, 72200, 16900, 56300, 22000, 18800, 26600, 72100, 55600, 14600, 45900, 15100, 140700, 90300, 95900, 20800, 98400, 15000, 17700, 102400, 17800, 13800, 50500, 42000, 95800, 15200, 15800, 51400, 38200, 39900, 21600, 65900, 97500, 63000, 31900, 45500, 12800, 12600, 50700, 17900, 14400, 23800, 84700, 36900, 20600, 41500, 83100, 88700, 54700, 68900, 22200, 70900, 55900, 80800, 100600, 39900, 71200, 61000, 38700, 98900, 64300, 75600, 53700, 66600, 89000, 18200, 73600, 45600, 73000, 29600, 92900, 13900, 64300, 77100, 27500, 81800, 41700, 51000, 55900, 19800, 17600, 84100, 85600, 13400, 47200, 96300, 60500, 35800, 106100, 18000, 50000, 58200, 13500, 59900, 18400, 62800, 70000, 13600, 97400, 37500, 22800, 14200, 18700, 107400, 28900, 38400, 54200, 102700, 13300, 60200, 21400, 21700, 23200, 64800, 55600, 89500, 12500, 87000, 31200, 13700, 55500, 58600, 55900, 13700, 81400, 90500, 82200, 65400, 74400, 63300, 51600, 55000, 43900, 20300, 16300, 97600, 15100, 12500, 10600, 41300, 27200, 102400, 27900, 23800, 100000, 43300, 65800, 49700, 82300, 41200, 29200, 51900, 85500, 12400, 111900, 40400, 10900, 82400, 13200, 57800, 52200, 64600, 43100, 40100, 84500, 34500, 61000, 79300, 44500, 39700, 30300, 20100, 86500, 42500, 102300, 52600, 37800, 20300, 71600, 54500, 54700, 58600, 53800, 131500, 52200, 37200, 22900, 55500, 12800, 17600, 28300, 41900, 14100, 52100, 38700, 44100, 79200, 22600, 55100, 70400, 107300, 66500, 10200, 41000, 26200, 72200, 36700, 74500, 60200, 34500, 83700, 14800, 106400, 42000, 118800, 21900, 39500, 45900, 37100, 28200, 74600, 122700, 14200, 75500, 62900, 19400, 46600, 79700, 45900, 42800, 65500, 33600, 55600, 24000, 25700, 21500, 68600, 23100, 53300, 112800, 124900, 72200, 35100, 14900, 72000, 82400, 41600, 68500, 62200, 35900, 14100, 36500, 86400, 39500, 85300, 110700, 17700, 33200, 53800, 44400, 135700, 20700, 83500, 84200, 79900, 19700, 35300, 52000, 21300, 63700, 25900, 65800, 11000, 65900, 108100, 107300, 79500, 95900, 45200, 98500, 96200, 17900, 42700, 49700, 43000, 15500, 13000, 27200, 26700, 61000, 76600, 117500, 90600, 12600, 12700, 77600, 92400, 71800, 95800, 32600, 74500, 29200, 12900, 117700, 64100, 46500, 12400, 130600, 74400, 40600, 54200, 65400, 49100, 10600, 76400, 93700, 49000, 96500, 55600, 99600, 79900, 50500, 16300, 49200, 48100, 61300, 72600, 19500, 17200, 51100, 76800, 60200, 59100, 32500, 49500, 109600, 47300, 93000, 32000, 44700, 69400, 64300, 75400, 96100, 118000, 69700, 59300, 88600, 102600, 43700, 22400, 70500, 54200, 25300, 116100, 15900, 46600, 23200, 18200, 82700, 17000, 83000, 42400, 40200, 17300, 109800, 64400, 27600, 25100, 46300, 74900, 67900, 88500, 99200, 62800, 76900, 84100, 77600, 19100, 128700, 14400, 49600, 47000, 36600, 65800, 52800, 96500, 63500, 60400, 102700, 100100, 54400, 105600, 57900, 31500, 60100, 87400, 117900, 48800, 67900, 66200, 88000, 94200, 29200, 15300, 17500, 168800, 40200, 28400, 72200, 55200, 44600, 58400, 67800, 25500, 20000, 52600, 97600, 23400, 102500, 52300, 65400, 19600, 37000, 13200, 63800, 22600, 37300, 14900, 36700, 63200, 77300, 43100, 44800, 70900, 38200, 18400, 40700, 71300, 36400, 15400, 39100, 43800, 25300, 71800, 73200, 79000, 75200, 25300, 43600, 83600, 56200, 45500, 99300, 108000, 84900, 93000, 82000, 33000, 36900, 33200, 49300, 66200, 96800, 63200, 112900, 32100, 102700, 123800, 11700, 101700, 99200, 17600, 19400, 40500, 44800, 79000, 53600]}],                        {\"template\": {\"data\": {\"bar\": [{\"error_x\": {\"color\": \"#2a3f5f\"}, \"error_y\": {\"color\": \"#2a3f5f\"}, \"marker\": {\"line\": {\"color\": \"#E5ECF6\", \"width\": 0.5}}, \"type\": \"bar\"}], \"barpolar\": [{\"marker\": {\"line\": {\"color\": \"#E5ECF6\", \"width\": 0.5}}, \"type\": \"barpolar\"}], \"carpet\": [{\"aaxis\": {\"endlinecolor\": \"#2a3f5f\", \"gridcolor\": \"white\", \"linecolor\": \"white\", \"minorgridcolor\": \"white\", \"startlinecolor\": \"#2a3f5f\"}, \"baxis\": {\"endlinecolor\": \"#2a3f5f\", \"gridcolor\": \"white\", \"linecolor\": \"white\", \"minorgridcolor\": \"white\", \"startlinecolor\": \"#2a3f5f\"}, \"type\": \"carpet\"}], \"choropleth\": [{\"colorbar\": {\"outlinewidth\": 0, \"ticks\": \"\"}, \"type\": \"choropleth\"}], \"contour\": [{\"colorbar\": {\"outlinewidth\": 0, \"ticks\": \"\"}, \"colorscale\": [[0.0, \"#0d0887\"], [0.1111111111111111, \"#46039f\"], [0.2222222222222222, \"#7201a8\"], [0.3333333333333333, \"#9c179e\"], [0.4444444444444444, \"#bd3786\"], [0.5555555555555556, \"#d8576b\"], [0.6666666666666666, \"#ed7953\"], [0.7777777777777778, \"#fb9f3a\"], [0.8888888888888888, \"#fdca26\"], [1.0, \"#f0f921\"]], \"type\": \"contour\"}], \"contourcarpet\": [{\"colorbar\": {\"outlinewidth\": 0, \"ticks\": \"\"}, \"type\": \"contourcarpet\"}], \"heatmap\": [{\"colorbar\": {\"outlinewidth\": 0, \"ticks\": \"\"}, \"colorscale\": [[0.0, \"#0d0887\"], [0.1111111111111111, \"#46039f\"], [0.2222222222222222, \"#7201a8\"], [0.3333333333333333, \"#9c179e\"], [0.4444444444444444, \"#bd3786\"], [0.5555555555555556, \"#d8576b\"], [0.6666666666666666, \"#ed7953\"], [0.7777777777777778, \"#fb9f3a\"], [0.8888888888888888, \"#fdca26\"], [1.0, \"#f0f921\"]], \"type\": \"heatmap\"}], \"heatmapgl\": [{\"colorbar\": {\"outlinewidth\": 0, \"ticks\": \"\"}, \"colorscale\": [[0.0, \"#0d0887\"], [0.1111111111111111, \"#46039f\"], [0.2222222222222222, \"#7201a8\"], [0.3333333333333333, \"#9c179e\"], [0.4444444444444444, \"#bd3786\"], [0.5555555555555556, \"#d8576b\"], [0.6666666666666666, \"#ed7953\"], [0.7777777777777778, \"#fb9f3a\"], [0.8888888888888888, \"#fdca26\"], [1.0, \"#f0f921\"]], \"type\": \"heatmapgl\"}], \"histogram\": [{\"marker\": {\"colorbar\": {\"outlinewidth\": 0, \"ticks\": \"\"}}, \"type\": \"histogram\"}], \"histogram2d\": [{\"colorbar\": {\"outlinewidth\": 0, \"ticks\": \"\"}, \"colorscale\": [[0.0, \"#0d0887\"], [0.1111111111111111, \"#46039f\"], [0.2222222222222222, \"#7201a8\"], [0.3333333333333333, \"#9c179e\"], [0.4444444444444444, \"#bd3786\"], [0.5555555555555556, \"#d8576b\"], [0.6666666666666666, \"#ed7953\"], [0.7777777777777778, \"#fb9f3a\"], [0.8888888888888888, \"#fdca26\"], [1.0, \"#f0f921\"]], \"type\": \"histogram2d\"}], \"histogram2dcontour\": [{\"colorbar\": {\"outlinewidth\": 0, \"ticks\": \"\"}, \"colorscale\": [[0.0, \"#0d0887\"], [0.1111111111111111, \"#46039f\"], [0.2222222222222222, \"#7201a8\"], [0.3333333333333333, \"#9c179e\"], [0.4444444444444444, \"#bd3786\"], [0.5555555555555556, \"#d8576b\"], [0.6666666666666666, \"#ed7953\"], [0.7777777777777778, \"#fb9f3a\"], [0.8888888888888888, \"#fdca26\"], [1.0, \"#f0f921\"]], \"type\": \"histogram2dcontour\"}], \"mesh3d\": [{\"colorbar\": {\"outlinewidth\": 0, \"ticks\": \"\"}, \"type\": \"mesh3d\"}], \"parcoords\": [{\"line\": {\"colorbar\": {\"outlinewidth\": 0, \"ticks\": \"\"}}, \"type\": \"parcoords\"}], \"pie\": [{\"automargin\": true, \"type\": \"pie\"}], \"scatter\": [{\"marker\": {\"colorbar\": {\"outlinewidth\": 0, \"ticks\": \"\"}}, \"type\": \"scatter\"}], \"scatter3d\": [{\"line\": {\"colorbar\": {\"outlinewidth\": 0, \"ticks\": \"\"}}, \"marker\": {\"colorbar\": {\"outlinewidth\": 0, \"ticks\": \"\"}}, \"type\": \"scatter3d\"}], \"scattercarpet\": [{\"marker\": {\"colorbar\": {\"outlinewidth\": 0, \"ticks\": \"\"}}, \"type\": \"scattercarpet\"}], \"scattergeo\": [{\"marker\": {\"colorbar\": {\"outlinewidth\": 0, \"ticks\": \"\"}}, \"type\": \"scattergeo\"}], \"scattergl\": [{\"marker\": {\"colorbar\": {\"outlinewidth\": 0, \"ticks\": \"\"}}, \"type\": \"scattergl\"}], \"scattermapbox\": [{\"marker\": {\"colorbar\": {\"outlinewidth\": 0, \"ticks\": \"\"}}, \"type\": \"scattermapbox\"}], \"scatterpolar\": [{\"marker\": {\"colorbar\": {\"outlinewidth\": 0, \"ticks\": \"\"}}, \"type\": \"scatterpolar\"}], \"scatterpolargl\": [{\"marker\": {\"colorbar\": {\"outlinewidth\": 0, \"ticks\": \"\"}}, \"type\": \"scatterpolargl\"}], \"scatterternary\": [{\"marker\": {\"colorbar\": {\"outlinewidth\": 0, \"ticks\": \"\"}}, \"type\": \"scatterternary\"}], \"surface\": [{\"colorbar\": {\"outlinewidth\": 0, \"ticks\": \"\"}, \"colorscale\": [[0.0, \"#0d0887\"], [0.1111111111111111, \"#46039f\"], [0.2222222222222222, \"#7201a8\"], [0.3333333333333333, \"#9c179e\"], [0.4444444444444444, \"#bd3786\"], [0.5555555555555556, \"#d8576b\"], [0.6666666666666666, \"#ed7953\"], [0.7777777777777778, \"#fb9f3a\"], [0.8888888888888888, \"#fdca26\"], [1.0, \"#f0f921\"]], \"type\": \"surface\"}], \"table\": [{\"cells\": {\"fill\": {\"color\": \"#EBF0F8\"}, \"line\": {\"color\": \"white\"}}, \"header\": {\"fill\": {\"color\": \"#C8D4E3\"}, \"line\": {\"color\": \"white\"}}, \"type\": \"table\"}]}, \"layout\": {\"annotationdefaults\": {\"arrowcolor\": \"#2a3f5f\", \"arrowhead\": 0, \"arrowwidth\": 1}, \"coloraxis\": {\"colorbar\": {\"outlinewidth\": 0, \"ticks\": \"\"}}, \"colorscale\": {\"diverging\": [[0, \"#8e0152\"], [0.1, \"#c51b7d\"], [0.2, \"#de77ae\"], [0.3, \"#f1b6da\"], [0.4, \"#fde0ef\"], [0.5, \"#f7f7f7\"], [0.6, \"#e6f5d0\"], [0.7, \"#b8e186\"], [0.8, \"#7fbc41\"], [0.9, \"#4d9221\"], [1, \"#276419\"]], \"sequential\": [[0.0, \"#0d0887\"], [0.1111111111111111, \"#46039f\"], [0.2222222222222222, \"#7201a8\"], [0.3333333333333333, \"#9c179e\"], [0.4444444444444444, \"#bd3786\"], [0.5555555555555556, \"#d8576b\"], [0.6666666666666666, \"#ed7953\"], [0.7777777777777778, \"#fb9f3a\"], [0.8888888888888888, \"#fdca26\"], [1.0, \"#f0f921\"]], \"sequentialminus\": [[0.0, \"#0d0887\"], [0.1111111111111111, \"#46039f\"], [0.2222222222222222, \"#7201a8\"], [0.3333333333333333, \"#9c179e\"], [0.4444444444444444, \"#bd3786\"], [0.5555555555555556, \"#d8576b\"], [0.6666666666666666, \"#ed7953\"], [0.7777777777777778, \"#fb9f3a\"], [0.8888888888888888, \"#fdca26\"], [1.0, \"#f0f921\"]]}, \"colorway\": [\"#636efa\", \"#EF553B\", \"#00cc96\", \"#ab63fa\", \"#FFA15A\", \"#19d3f3\", \"#FF6692\", \"#B6E880\", \"#FF97FF\", \"#FECB52\"], \"font\": {\"color\": \"#2a3f5f\"}, \"geo\": {\"bgcolor\": \"white\", \"lakecolor\": \"white\", \"landcolor\": \"#E5ECF6\", \"showlakes\": true, \"showland\": true, \"subunitcolor\": \"white\"}, \"hoverlabel\": {\"align\": \"left\"}, \"hovermode\": \"closest\", \"mapbox\": {\"style\": \"light\"}, \"paper_bgcolor\": \"white\", \"plot_bgcolor\": \"#E5ECF6\", \"polar\": {\"angularaxis\": {\"gridcolor\": \"white\", \"linecolor\": \"white\", \"ticks\": \"\"}, \"bgcolor\": \"#E5ECF6\", \"radialaxis\": {\"gridcolor\": \"white\", \"linecolor\": \"white\", \"ticks\": \"\"}}, \"scene\": {\"xaxis\": {\"backgroundcolor\": \"#E5ECF6\", \"gridcolor\": \"white\", \"gridwidth\": 2, \"linecolor\": \"white\", \"showbackground\": true, \"ticks\": \"\", \"zerolinecolor\": \"white\"}, \"yaxis\": {\"backgroundcolor\": \"#E5ECF6\", \"gridcolor\": \"white\", \"gridwidth\": 2, \"linecolor\": \"white\", \"showbackground\": true, \"ticks\": \"\", \"zerolinecolor\": \"white\"}, \"zaxis\": {\"backgroundcolor\": \"#E5ECF6\", \"gridcolor\": \"white\", \"gridwidth\": 2, \"linecolor\": \"white\", \"showbackground\": true, \"ticks\": \"\", \"zerolinecolor\": \"white\"}}, \"shapedefaults\": {\"line\": {\"color\": \"#2a3f5f\"}}, \"ternary\": {\"aaxis\": {\"gridcolor\": \"white\", \"linecolor\": \"white\", \"ticks\": \"\"}, \"baxis\": {\"gridcolor\": \"white\", \"linecolor\": \"white\", \"ticks\": \"\"}, \"bgcolor\": \"#E5ECF6\", \"caxis\": {\"gridcolor\": \"white\", \"linecolor\": \"white\", \"ticks\": \"\"}}, \"title\": {\"x\": 0.05}, \"xaxis\": {\"automargin\": true, \"gridcolor\": \"white\", \"linecolor\": \"white\", \"ticks\": \"\", \"title\": {\"standoff\": 15}, \"zerolinecolor\": \"white\", \"zerolinewidth\": 2}, \"yaxis\": {\"automargin\": true, \"gridcolor\": \"white\", \"linecolor\": \"white\", \"ticks\": \"\", \"title\": {\"standoff\": 15}, \"zerolinecolor\": \"white\", \"zerolinewidth\": 2}}}, \"title\": {\"text\": \"Salary  Distribution \", \"x\": 0.5}, \"yaxis\": {\"zeroline\": false}},                        {\"responsive\": true}                    ).then(function(){\n",
       "                            \n",
       "var gd = document.getElementById('019f05fd-d5ee-44cb-afe5-5342c2a93458');\n",
       "var x = new MutationObserver(function (mutations, observer) {{\n",
       "        var display = window.getComputedStyle(gd).display;\n",
       "        if (!display || display === 'none') {{\n",
       "            console.log([gd, 'removed!']);\n",
       "            Plotly.purge(gd);\n",
       "            observer.disconnect();\n",
       "        }}\n",
       "}});\n",
       "\n",
       "// Listen for the removal of the full notebook cells\n",
       "var notebookContainer = gd.closest('#notebook-container');\n",
       "if (notebookContainer) {{\n",
       "    x.observe(notebookContainer, {childList: true});\n",
       "}}\n",
       "\n",
       "// Listen for the clearing of the current output cell\n",
       "var outputEl = gd.closest('.output');\n",
       "if (outputEl) {{\n",
       "    x.observe(outputEl, {childList: true});\n",
       "}}\n",
       "\n",
       "                        })                };                });            </script>        </div>"
      ]
     },
     "metadata": {},
     "output_type": "display_data"
    }
   ],
   "source": [
    "fig = go.Figure(data=go.Violin(y=df['Salary'], box_visible=True, line_color='black',\n",
    "                               meanline_visible=True, fillcolor='lightseagreen', opacity=0.6,\n",
    "                               x0='Salary'))\n",
    "\n",
    "fig.update_layout(yaxis_zeroline=False,title = \"Salary  Distribution \",title_x=0.5,)\n",
    "fig.show()"
   ]
  },
  {
   "cell_type": "markdown",
   "metadata": {
    "papermill": {
     "duration": 0.242421,
     "end_time": "2020-12-10T12:48:40.084138",
     "exception": false,
     "start_time": "2020-12-10T12:48:39.841717",
     "status": "completed"
    },
    "tags": []
   },
   "source": [
    "## Summary\n",
    "* Salary max:168.8 k\n",
    "* Salary mean:56.1 k \n",
    "* Salary median:53.7 k\n",
    "* Salary min:10.1 k"
   ]
  },
  {
   "cell_type": "markdown",
   "metadata": {
    "papermill": {
     "duration": 0.239945,
     "end_time": "2020-12-10T12:48:40.566320",
     "exception": false,
     "start_time": "2020-12-10T12:48:40.326375",
     "status": "completed"
    },
    "tags": []
   },
   "source": [
    "## <a id='18'> 5.Distribution </a>"
   ]
  },
  {
   "cell_type": "code",
   "execution_count": 71,
   "metadata": {
    "execution": {
     "iopub.execute_input": "2020-12-10T12:48:41.072798Z",
     "iopub.status.busy": "2020-12-10T12:48:41.071963Z",
     "iopub.status.idle": "2020-12-10T12:48:41.076565Z",
     "shell.execute_reply": "2020-12-10T12:48:41.077127Z"
    },
    "papermill": {
     "duration": 0.27172,
     "end_time": "2020-12-10T12:48:41.077294",
     "exception": false,
     "start_time": "2020-12-10T12:48:40.805574",
     "status": "completed"
    },
    "tags": []
   },
   "outputs": [
    {
     "data": {
      "text/html": [
       "<div>\n",
       "<style scoped>\n",
       "    .dataframe tbody tr th:only-of-type {\n",
       "        vertical-align: middle;\n",
       "    }\n",
       "\n",
       "    .dataframe tbody tr th {\n",
       "        vertical-align: top;\n",
       "    }\n",
       "\n",
       "    .dataframe thead th {\n",
       "        text-align: right;\n",
       "    }\n",
       "</style>\n",
       "<table border=\"1\" class=\"dataframe\">\n",
       "  <thead>\n",
       "    <tr style=\"text-align: right;\">\n",
       "      <th></th>\n",
       "      <th>Age</th>\n",
       "      <th>Gender</th>\n",
       "      <th>OwnHome</th>\n",
       "      <th>Married</th>\n",
       "      <th>Location</th>\n",
       "      <th>Salary</th>\n",
       "      <th>Children</th>\n",
       "      <th>History</th>\n",
       "      <th>Catalogs</th>\n",
       "      <th>AmountSpent</th>\n",
       "      <th>one</th>\n",
       "    </tr>\n",
       "  </thead>\n",
       "  <tbody>\n",
       "    <tr>\n",
       "      <th>0</th>\n",
       "      <td>Old</td>\n",
       "      <td>Female</td>\n",
       "      <td>Own</td>\n",
       "      <td>Single</td>\n",
       "      <td>Far</td>\n",
       "      <td>47500</td>\n",
       "      <td>0</td>\n",
       "      <td>High</td>\n",
       "      <td>6</td>\n",
       "      <td>755</td>\n",
       "      <td>1</td>\n",
       "    </tr>\n",
       "    <tr>\n",
       "      <th>1</th>\n",
       "      <td>Middle</td>\n",
       "      <td>Male</td>\n",
       "      <td>Rent</td>\n",
       "      <td>Single</td>\n",
       "      <td>Close</td>\n",
       "      <td>63600</td>\n",
       "      <td>0</td>\n",
       "      <td>High</td>\n",
       "      <td>6</td>\n",
       "      <td>1318</td>\n",
       "      <td>1</td>\n",
       "    </tr>\n",
       "    <tr>\n",
       "      <th>2</th>\n",
       "      <td>Young</td>\n",
       "      <td>Female</td>\n",
       "      <td>Rent</td>\n",
       "      <td>Single</td>\n",
       "      <td>Close</td>\n",
       "      <td>13500</td>\n",
       "      <td>0</td>\n",
       "      <td>Low</td>\n",
       "      <td>18</td>\n",
       "      <td>296</td>\n",
       "      <td>1</td>\n",
       "    </tr>\n",
       "    <tr>\n",
       "      <th>3</th>\n",
       "      <td>Middle</td>\n",
       "      <td>Male</td>\n",
       "      <td>Own</td>\n",
       "      <td>Married</td>\n",
       "      <td>Close</td>\n",
       "      <td>85600</td>\n",
       "      <td>1</td>\n",
       "      <td>High</td>\n",
       "      <td>18</td>\n",
       "      <td>2436</td>\n",
       "      <td>1</td>\n",
       "    </tr>\n",
       "    <tr>\n",
       "      <th>4</th>\n",
       "      <td>Middle</td>\n",
       "      <td>Female</td>\n",
       "      <td>Own</td>\n",
       "      <td>Single</td>\n",
       "      <td>Close</td>\n",
       "      <td>68400</td>\n",
       "      <td>0</td>\n",
       "      <td>High</td>\n",
       "      <td>12</td>\n",
       "      <td>1304</td>\n",
       "      <td>1</td>\n",
       "    </tr>\n",
       "  </tbody>\n",
       "</table>\n",
       "</div>"
      ],
      "text/plain": [
       "      Age  Gender OwnHome  Married Location  Salary Children History  \\\n",
       "0     Old  Female     Own   Single      Far   47500        0    High   \n",
       "1  Middle    Male    Rent   Single    Close   63600        0    High   \n",
       "2   Young  Female    Rent   Single    Close   13500        0     Low   \n",
       "3  Middle    Male     Own  Married    Close   85600        1    High   \n",
       "4  Middle  Female     Own   Single    Close   68400        0    High   \n",
       "\n",
       "   Catalogs  AmountSpent  one  \n",
       "0         6          755    1  \n",
       "1         6         1318    1  \n",
       "2        18          296    1  \n",
       "3        18         2436    1  \n",
       "4        12         1304    1  "
      ]
     },
     "execution_count": 71,
     "metadata": {},
     "output_type": "execute_result"
    }
   ],
   "source": [
    "df_missing[\"one\"]=1\n",
    "df_missing.head()\n"
   ]
  },
  {
   "cell_type": "markdown",
   "metadata": {
    "papermill": {
     "duration": 0.255277,
     "end_time": "2020-12-10T12:48:47.445524",
     "exception": false,
     "start_time": "2020-12-10T12:48:47.190247",
     "status": "completed"
    },
    "tags": []
   },
   "source": [
    "## <a id='21'>8.Machine Learning  </a>"
   ]
  },
  {
   "cell_type": "markdown",
   "metadata": {
    "papermill": {
     "duration": 0.256479,
     "end_time": "2020-12-10T12:48:47.951265",
     "exception": false,
     "start_time": "2020-12-10T12:48:47.694786",
     "status": "completed"
    },
    "tags": []
   },
   "source": [
    "## <a id='22'>8.1 Data Preprocessing </a>"
   ]
  },
  {
   "cell_type": "code",
   "execution_count": 80,
   "metadata": {
    "execution": {
     "iopub.execute_input": "2020-12-10T12:48:48.478935Z",
     "iopub.status.busy": "2020-12-10T12:48:48.478035Z",
     "iopub.status.idle": "2020-12-10T12:48:48.482497Z",
     "shell.execute_reply": "2020-12-10T12:48:48.483090Z"
    },
    "papermill": {
     "duration": 0.27815,
     "end_time": "2020-12-10T12:48:48.483260",
     "exception": false,
     "start_time": "2020-12-10T12:48:48.205110",
     "status": "completed"
    },
    "tags": []
   },
   "outputs": [
    {
     "data": {
      "text/html": [
       "<div>\n",
       "<style scoped>\n",
       "    .dataframe tbody tr th:only-of-type {\n",
       "        vertical-align: middle;\n",
       "    }\n",
       "\n",
       "    .dataframe tbody tr th {\n",
       "        vertical-align: top;\n",
       "    }\n",
       "\n",
       "    .dataframe thead th {\n",
       "        text-align: right;\n",
       "    }\n",
       "</style>\n",
       "<table border=\"1\" class=\"dataframe\">\n",
       "  <thead>\n",
       "    <tr style=\"text-align: right;\">\n",
       "      <th></th>\n",
       "      <th>Age</th>\n",
       "      <th>Gender</th>\n",
       "      <th>OwnHome</th>\n",
       "      <th>Married</th>\n",
       "      <th>Location</th>\n",
       "      <th>Salary</th>\n",
       "      <th>Children</th>\n",
       "      <th>History</th>\n",
       "      <th>Catalogs</th>\n",
       "      <th>AmountSpent</th>\n",
       "    </tr>\n",
       "  </thead>\n",
       "  <tbody>\n",
       "    <tr>\n",
       "      <th>0</th>\n",
       "      <td>Old</td>\n",
       "      <td>Female</td>\n",
       "      <td>Own</td>\n",
       "      <td>Single</td>\n",
       "      <td>Far</td>\n",
       "      <td>47500</td>\n",
       "      <td>0</td>\n",
       "      <td>High</td>\n",
       "      <td>6</td>\n",
       "      <td>755</td>\n",
       "    </tr>\n",
       "    <tr>\n",
       "      <th>1</th>\n",
       "      <td>Middle</td>\n",
       "      <td>Male</td>\n",
       "      <td>Rent</td>\n",
       "      <td>Single</td>\n",
       "      <td>Close</td>\n",
       "      <td>63600</td>\n",
       "      <td>0</td>\n",
       "      <td>High</td>\n",
       "      <td>6</td>\n",
       "      <td>1318</td>\n",
       "    </tr>\n",
       "    <tr>\n",
       "      <th>2</th>\n",
       "      <td>Young</td>\n",
       "      <td>Female</td>\n",
       "      <td>Rent</td>\n",
       "      <td>Single</td>\n",
       "      <td>Close</td>\n",
       "      <td>13500</td>\n",
       "      <td>0</td>\n",
       "      <td>Low</td>\n",
       "      <td>18</td>\n",
       "      <td>296</td>\n",
       "    </tr>\n",
       "    <tr>\n",
       "      <th>3</th>\n",
       "      <td>Middle</td>\n",
       "      <td>Male</td>\n",
       "      <td>Own</td>\n",
       "      <td>Married</td>\n",
       "      <td>Close</td>\n",
       "      <td>85600</td>\n",
       "      <td>1</td>\n",
       "      <td>High</td>\n",
       "      <td>18</td>\n",
       "      <td>2436</td>\n",
       "    </tr>\n",
       "    <tr>\n",
       "      <th>4</th>\n",
       "      <td>Middle</td>\n",
       "      <td>Female</td>\n",
       "      <td>Own</td>\n",
       "      <td>Single</td>\n",
       "      <td>Close</td>\n",
       "      <td>68400</td>\n",
       "      <td>0</td>\n",
       "      <td>High</td>\n",
       "      <td>12</td>\n",
       "      <td>1304</td>\n",
       "    </tr>\n",
       "  </tbody>\n",
       "</table>\n",
       "</div>"
      ],
      "text/plain": [
       "      Age  Gender OwnHome  Married Location  Salary Children History Catalogs  \\\n",
       "0     Old  Female     Own   Single      Far   47500        0    High        6   \n",
       "1  Middle    Male    Rent   Single    Close   63600        0    High        6   \n",
       "2   Young  Female    Rent   Single    Close   13500        0     Low       18   \n",
       "3  Middle    Male     Own  Married    Close   85600        1    High       18   \n",
       "4  Middle  Female     Own   Single    Close   68400        0    High       12   \n",
       "\n",
       "   AmountSpent  \n",
       "0          755  \n",
       "1         1318  \n",
       "2          296  \n",
       "3         2436  \n",
       "4         1304  "
      ]
     },
     "execution_count": 80,
     "metadata": {},
     "output_type": "execute_result"
    }
   ],
   "source": [
    "df.head()"
   ]
  },
  {
   "cell_type": "code",
   "execution_count": 81,
   "metadata": {
    "execution": {
     "iopub.execute_input": "2020-12-10T12:48:48.999862Z",
     "iopub.status.busy": "2020-12-10T12:48:48.998746Z",
     "iopub.status.idle": "2020-12-10T12:48:49.001941Z",
     "shell.execute_reply": "2020-12-10T12:48:49.001041Z"
    },
    "papermill": {
     "duration": 0.268092,
     "end_time": "2020-12-10T12:48:49.002070",
     "exception": false,
     "start_time": "2020-12-10T12:48:48.733978",
     "status": "completed"
    },
    "tags": []
   },
   "outputs": [],
   "source": [
    "df[\"History\"]=df[\"History\"].fillna(\"None\")"
   ]
  },
  {
   "cell_type": "code",
   "execution_count": 82,
   "metadata": {
    "execution": {
     "iopub.execute_input": "2020-12-10T12:48:49.534201Z",
     "iopub.status.busy": "2020-12-10T12:48:49.533143Z",
     "iopub.status.idle": "2020-12-10T12:48:49.536861Z",
     "shell.execute_reply": "2020-12-10T12:48:49.536116Z"
    },
    "papermill": {
     "duration": 0.259421,
     "end_time": "2020-12-10T12:48:49.536987",
     "exception": false,
     "start_time": "2020-12-10T12:48:49.277566",
     "status": "completed"
    },
    "tags": []
   },
   "outputs": [],
   "source": [
    "Gender_map= {'Male':0,'Female':1}\n",
    "OwnHome_map= {'Own':1,'Rent':0}\n",
    "Married_map= {'Married':1,'Single':0}\n",
    "Location_map= {'Close':1,'Far':0}"
   ]
  },
  {
   "cell_type": "code",
   "execution_count": 83,
   "metadata": {
    "execution": {
     "iopub.execute_input": "2020-12-10T12:48:50.057505Z",
     "iopub.status.busy": "2020-12-10T12:48:50.056337Z",
     "iopub.status.idle": "2020-12-10T12:48:50.060348Z",
     "shell.execute_reply": "2020-12-10T12:48:50.059619Z"
    },
    "papermill": {
     "duration": 0.272542,
     "end_time": "2020-12-10T12:48:50.060489",
     "exception": false,
     "start_time": "2020-12-10T12:48:49.787947",
     "status": "completed"
    },
    "tags": []
   },
   "outputs": [],
   "source": [
    "df[\"Gender\"]=df[\"Gender\"].map(Gender_map)\n",
    "df[\"OwnHome\"]=df[\"OwnHome\"].map(OwnHome_map)\n",
    "df[\"Married\"]=df[\"Married\"].map(Married_map)\n",
    "df[\"Location\"]=df[\"Location\"].map(Location_map)"
   ]
  },
  {
   "cell_type": "code",
   "execution_count": 84,
   "metadata": {
    "execution": {
     "iopub.execute_input": "2020-12-10T12:48:50.580057Z",
     "iopub.status.busy": "2020-12-10T12:48:50.579225Z",
     "iopub.status.idle": "2020-12-10T12:48:50.584333Z",
     "shell.execute_reply": "2020-12-10T12:48:50.583586Z"
    },
    "papermill": {
     "duration": 0.272228,
     "end_time": "2020-12-10T12:48:50.584458",
     "exception": false,
     "start_time": "2020-12-10T12:48:50.312230",
     "status": "completed"
    },
    "tags": []
   },
   "outputs": [
    {
     "data": {
      "text/html": [
       "<div>\n",
       "<style scoped>\n",
       "    .dataframe tbody tr th:only-of-type {\n",
       "        vertical-align: middle;\n",
       "    }\n",
       "\n",
       "    .dataframe tbody tr th {\n",
       "        vertical-align: top;\n",
       "    }\n",
       "\n",
       "    .dataframe thead th {\n",
       "        text-align: right;\n",
       "    }\n",
       "</style>\n",
       "<table border=\"1\" class=\"dataframe\">\n",
       "  <thead>\n",
       "    <tr style=\"text-align: right;\">\n",
       "      <th></th>\n",
       "      <th>Age</th>\n",
       "      <th>Gender</th>\n",
       "      <th>OwnHome</th>\n",
       "      <th>Married</th>\n",
       "      <th>Location</th>\n",
       "      <th>Salary</th>\n",
       "      <th>Children</th>\n",
       "      <th>History</th>\n",
       "      <th>Catalogs</th>\n",
       "      <th>AmountSpent</th>\n",
       "    </tr>\n",
       "  </thead>\n",
       "  <tbody>\n",
       "    <tr>\n",
       "      <th>0</th>\n",
       "      <td>Old</td>\n",
       "      <td>1</td>\n",
       "      <td>1</td>\n",
       "      <td>0</td>\n",
       "      <td>0</td>\n",
       "      <td>47500</td>\n",
       "      <td>0</td>\n",
       "      <td>High</td>\n",
       "      <td>6</td>\n",
       "      <td>755</td>\n",
       "    </tr>\n",
       "    <tr>\n",
       "      <th>1</th>\n",
       "      <td>Middle</td>\n",
       "      <td>0</td>\n",
       "      <td>0</td>\n",
       "      <td>0</td>\n",
       "      <td>1</td>\n",
       "      <td>63600</td>\n",
       "      <td>0</td>\n",
       "      <td>High</td>\n",
       "      <td>6</td>\n",
       "      <td>1318</td>\n",
       "    </tr>\n",
       "    <tr>\n",
       "      <th>2</th>\n",
       "      <td>Young</td>\n",
       "      <td>1</td>\n",
       "      <td>0</td>\n",
       "      <td>0</td>\n",
       "      <td>1</td>\n",
       "      <td>13500</td>\n",
       "      <td>0</td>\n",
       "      <td>Low</td>\n",
       "      <td>18</td>\n",
       "      <td>296</td>\n",
       "    </tr>\n",
       "    <tr>\n",
       "      <th>3</th>\n",
       "      <td>Middle</td>\n",
       "      <td>0</td>\n",
       "      <td>1</td>\n",
       "      <td>1</td>\n",
       "      <td>1</td>\n",
       "      <td>85600</td>\n",
       "      <td>1</td>\n",
       "      <td>High</td>\n",
       "      <td>18</td>\n",
       "      <td>2436</td>\n",
       "    </tr>\n",
       "    <tr>\n",
       "      <th>4</th>\n",
       "      <td>Middle</td>\n",
       "      <td>1</td>\n",
       "      <td>1</td>\n",
       "      <td>0</td>\n",
       "      <td>1</td>\n",
       "      <td>68400</td>\n",
       "      <td>0</td>\n",
       "      <td>High</td>\n",
       "      <td>12</td>\n",
       "      <td>1304</td>\n",
       "    </tr>\n",
       "  </tbody>\n",
       "</table>\n",
       "</div>"
      ],
      "text/plain": [
       "      Age  Gender  OwnHome  Married  Location  Salary Children History  \\\n",
       "0     Old       1        1        0         0   47500        0    High   \n",
       "1  Middle       0        0        0         1   63600        0    High   \n",
       "2   Young       1        0        0         1   13500        0     Low   \n",
       "3  Middle       0        1        1         1   85600        1    High   \n",
       "4  Middle       1        1        0         1   68400        0    High   \n",
       "\n",
       "  Catalogs  AmountSpent  \n",
       "0        6          755  \n",
       "1        6         1318  \n",
       "2       18          296  \n",
       "3       18         2436  \n",
       "4       12         1304  "
      ]
     },
     "execution_count": 84,
     "metadata": {},
     "output_type": "execute_result"
    }
   ],
   "source": [
    "df.head()"
   ]
  },
  {
   "cell_type": "code",
   "execution_count": 85,
   "metadata": {
    "execution": {
     "iopub.execute_input": "2020-12-10T12:48:51.098206Z",
     "iopub.status.busy": "2020-12-10T12:48:51.097372Z",
     "iopub.status.idle": "2020-12-10T12:48:51.099987Z",
     "shell.execute_reply": "2020-12-10T12:48:51.100569Z"
    },
    "papermill": {
     "duration": 0.264258,
     "end_time": "2020-12-10T12:48:51.100779",
     "exception": false,
     "start_time": "2020-12-10T12:48:50.836521",
     "status": "completed"
    },
    "tags": []
   },
   "outputs": [],
   "source": [
    "Age_map= {'Young':1,'Middle':2,'Old':3}\n",
    "History_map={'None':1,'Low':2,'Medium':3,'High':4}"
   ]
  },
  {
   "cell_type": "code",
   "execution_count": 86,
   "metadata": {
    "execution": {
     "iopub.execute_input": "2020-12-10T12:48:51.613047Z",
     "iopub.status.busy": "2020-12-10T12:48:51.612250Z",
     "iopub.status.idle": "2020-12-10T12:48:51.615814Z",
     "shell.execute_reply": "2020-12-10T12:48:51.615012Z"
    },
    "papermill": {
     "duration": 0.263394,
     "end_time": "2020-12-10T12:48:51.615950",
     "exception": false,
     "start_time": "2020-12-10T12:48:51.352556",
     "status": "completed"
    },
    "tags": []
   },
   "outputs": [],
   "source": [
    "df[\"Age\"]=df[\"Age\"].map(Age_map)\n",
    "df[\"History\"]=df[\"History\"].map(History_map)"
   ]
  },
  {
   "cell_type": "code",
   "execution_count": 87,
   "metadata": {
    "execution": {
     "iopub.execute_input": "2020-12-10T12:48:52.135497Z",
     "iopub.status.busy": "2020-12-10T12:48:52.129931Z",
     "iopub.status.idle": "2020-12-10T12:48:52.141027Z",
     "shell.execute_reply": "2020-12-10T12:48:52.140078Z"
    },
    "papermill": {
     "duration": 0.273353,
     "end_time": "2020-12-10T12:48:52.141188",
     "exception": false,
     "start_time": "2020-12-10T12:48:51.867835",
     "status": "completed"
    },
    "tags": []
   },
   "outputs": [
    {
     "data": {
      "text/html": [
       "<div>\n",
       "<style scoped>\n",
       "    .dataframe tbody tr th:only-of-type {\n",
       "        vertical-align: middle;\n",
       "    }\n",
       "\n",
       "    .dataframe tbody tr th {\n",
       "        vertical-align: top;\n",
       "    }\n",
       "\n",
       "    .dataframe thead th {\n",
       "        text-align: right;\n",
       "    }\n",
       "</style>\n",
       "<table border=\"1\" class=\"dataframe\">\n",
       "  <thead>\n",
       "    <tr style=\"text-align: right;\">\n",
       "      <th></th>\n",
       "      <th>Age</th>\n",
       "      <th>Gender</th>\n",
       "      <th>OwnHome</th>\n",
       "      <th>Married</th>\n",
       "      <th>Location</th>\n",
       "      <th>Salary</th>\n",
       "      <th>Children</th>\n",
       "      <th>History</th>\n",
       "      <th>Catalogs</th>\n",
       "      <th>AmountSpent</th>\n",
       "    </tr>\n",
       "  </thead>\n",
       "  <tbody>\n",
       "    <tr>\n",
       "      <th>0</th>\n",
       "      <td>3</td>\n",
       "      <td>1</td>\n",
       "      <td>1</td>\n",
       "      <td>0</td>\n",
       "      <td>0</td>\n",
       "      <td>47500</td>\n",
       "      <td>0</td>\n",
       "      <td>4</td>\n",
       "      <td>6</td>\n",
       "      <td>755</td>\n",
       "    </tr>\n",
       "    <tr>\n",
       "      <th>1</th>\n",
       "      <td>2</td>\n",
       "      <td>0</td>\n",
       "      <td>0</td>\n",
       "      <td>0</td>\n",
       "      <td>1</td>\n",
       "      <td>63600</td>\n",
       "      <td>0</td>\n",
       "      <td>4</td>\n",
       "      <td>6</td>\n",
       "      <td>1318</td>\n",
       "    </tr>\n",
       "    <tr>\n",
       "      <th>2</th>\n",
       "      <td>1</td>\n",
       "      <td>1</td>\n",
       "      <td>0</td>\n",
       "      <td>0</td>\n",
       "      <td>1</td>\n",
       "      <td>13500</td>\n",
       "      <td>0</td>\n",
       "      <td>2</td>\n",
       "      <td>18</td>\n",
       "      <td>296</td>\n",
       "    </tr>\n",
       "    <tr>\n",
       "      <th>3</th>\n",
       "      <td>2</td>\n",
       "      <td>0</td>\n",
       "      <td>1</td>\n",
       "      <td>1</td>\n",
       "      <td>1</td>\n",
       "      <td>85600</td>\n",
       "      <td>1</td>\n",
       "      <td>4</td>\n",
       "      <td>18</td>\n",
       "      <td>2436</td>\n",
       "    </tr>\n",
       "    <tr>\n",
       "      <th>4</th>\n",
       "      <td>2</td>\n",
       "      <td>1</td>\n",
       "      <td>1</td>\n",
       "      <td>0</td>\n",
       "      <td>1</td>\n",
       "      <td>68400</td>\n",
       "      <td>0</td>\n",
       "      <td>4</td>\n",
       "      <td>12</td>\n",
       "      <td>1304</td>\n",
       "    </tr>\n",
       "  </tbody>\n",
       "</table>\n",
       "</div>"
      ],
      "text/plain": [
       "   Age  Gender  OwnHome  Married  Location  Salary Children  History Catalogs  \\\n",
       "0    3       1        1        0         0   47500        0        4        6   \n",
       "1    2       0        0        0         1   63600        0        4        6   \n",
       "2    1       1        0        0         1   13500        0        2       18   \n",
       "3    2       0        1        1         1   85600        1        4       18   \n",
       "4    2       1        1        0         1   68400        0        4       12   \n",
       "\n",
       "   AmountSpent  \n",
       "0          755  \n",
       "1         1318  \n",
       "2          296  \n",
       "3         2436  \n",
       "4         1304  "
      ]
     },
     "execution_count": 87,
     "metadata": {},
     "output_type": "execute_result"
    }
   ],
   "source": [
    "df.head()"
   ]
  },
  {
   "cell_type": "code",
   "execution_count": 88,
   "metadata": {
    "execution": {
     "iopub.execute_input": "2020-12-10T12:48:52.654304Z",
     "iopub.status.busy": "2020-12-10T12:48:52.653027Z",
     "iopub.status.idle": "2020-12-10T12:48:52.656588Z",
     "shell.execute_reply": "2020-12-10T12:48:52.655849Z"
    },
    "papermill": {
     "duration": 0.262925,
     "end_time": "2020-12-10T12:48:52.656730",
     "exception": false,
     "start_time": "2020-12-10T12:48:52.393805",
     "status": "completed"
    },
    "tags": []
   },
   "outputs": [],
   "source": [
    "df['Children']=df['Children'].astype('int64')\n",
    "df['Catalogs']=df['Catalogs'].astype('int64')"
   ]
  },
  {
   "cell_type": "code",
   "execution_count": 89,
   "metadata": {
    "execution": {
     "iopub.execute_input": "2020-12-10T12:48:53.170912Z",
     "iopub.status.busy": "2020-12-10T12:48:53.169837Z",
     "iopub.status.idle": "2020-12-10T12:48:53.770517Z",
     "shell.execute_reply": "2020-12-10T12:48:53.769777Z"
    },
    "papermill": {
     "duration": 0.861629,
     "end_time": "2020-12-10T12:48:53.770637",
     "exception": false,
     "start_time": "2020-12-10T12:48:52.909008",
     "status": "completed"
    },
    "tags": []
   },
   "outputs": [
    {
     "name": "stdout",
     "output_type": "stream",
     "text": [
      "Correlation Matrix\n"
     ]
    },
    {
     "data": {
      "image/png": "[encoded data removed]",
      "text/plain": [
       "<Figure size 576x432 with 2 Axes>"
      ]
     },
     "metadata": {
      "needs_background": "light"
     },
     "output_type": "display_data"
    }
   ],
   "source": [
    "print(\"Correlation Matrix\")\n",
    "plt.rcParams['figure.figsize']=(8,6)\n",
    "sns.heatmap(df.corr(),cmap='coolwarm',linewidths=.5,fmt=\".2f\",annot = True);"
   ]
  },
  {
   "cell_type": "markdown",
   "metadata": {
    "papermill": {
     "duration": 0.255988,
     "end_time": "2020-12-10T12:48:54.282685",
     "exception": false,
     "start_time": "2020-12-10T12:48:54.026697",
     "status": "completed"
    },
    "tags": []
   },
   "source": [
    " ## <a id='23'> 8.2 Local Outlier Factor</a>\n",
    "\n",
    "\n",
    "*  The local outlier factor is based on a concept of a local density, where locality is given by k nearest neighbors, whose distance is used to estimate the density. By comparing the local density of an object to the local densities of its neighbors, one can identify regions of similar density, and points that have a substantially lower density than their neighbors. These are considered to be outliers."
   ]
  },
  {
   "cell_type": "code",
   "execution_count": 90,
   "metadata": {
    "execution": {
     "iopub.execute_input": "2020-12-10T12:48:54.799181Z",
     "iopub.status.busy": "2020-12-10T12:48:54.798392Z",
     "iopub.status.idle": "2020-12-10T12:48:55.058318Z",
     "shell.execute_reply": "2020-12-10T12:48:55.057516Z"
    },
    "papermill": {
     "duration": 0.520873,
     "end_time": "2020-12-10T12:48:55.058444",
     "exception": false,
     "start_time": "2020-12-10T12:48:54.537571",
     "status": "completed"
    },
    "tags": []
   },
   "outputs": [],
   "source": [
    "from sklearn.neighbors import LocalOutlierFactor\n",
    "clf = LocalOutlierFactor(n_neighbors = 20, contamination = 0.1)"
   ]
  },
  {
   "cell_type": "code",
   "execution_count": 91,
   "metadata": {
    "execution": {
     "iopub.execute_input": "2020-12-10T12:48:55.583150Z",
     "iopub.status.busy": "2020-12-10T12:48:55.579958Z",
     "iopub.status.idle": "2020-12-10T12:48:55.596832Z",
     "shell.execute_reply": "2020-12-10T12:48:55.596189Z"
    },
    "papermill": {
     "duration": 0.282021,
     "end_time": "2020-12-10T12:48:55.596965",
     "exception": false,
     "start_time": "2020-12-10T12:48:55.314944",
     "status": "completed"
    },
    "tags": []
   },
   "outputs": [],
   "source": [
    "df_out=df.copy()\n",
    "clf.fit_predict(df_out)\n",
    "df_scores = clf.negative_outlier_factor_"
   ]
  },
  {
   "cell_type": "code",
   "execution_count": 92,
   "metadata": {
    "execution": {
     "iopub.execute_input": "2020-12-10T12:48:56.116661Z",
     "iopub.status.busy": "2020-12-10T12:48:56.115621Z",
     "iopub.status.idle": "2020-12-10T12:48:56.120519Z",
     "shell.execute_reply": "2020-12-10T12:48:56.119934Z"
    },
    "papermill": {
     "duration": 0.268686,
     "end_time": "2020-12-10T12:48:56.120692",
     "exception": false,
     "start_time": "2020-12-10T12:48:55.852006",
     "status": "completed"
    },
    "tags": []
   },
   "outputs": [
    {
     "data": {
      "text/plain": [
       "array([-5.35656384, -2.20424149, -2.13189388, -1.75377434, -1.66143976,\n",
       "       -1.61446816, -1.60405079, -1.52348294, -1.52012831, -1.50716982,\n",
       "       -1.48589474, -1.46446662, -1.44812471, -1.42835164, -1.41373957,\n",
       "       -1.35196357, -1.32963144, -1.3232883 , -1.32031669, -1.29664795,\n",
       "       -1.28663583, -1.284672  , -1.26575335, -1.26247264, -1.26152374,\n",
       "       -1.26120446, -1.26064048, -1.25966086, -1.25893415, -1.25870652,\n",
       "       -1.25851442, -1.25777984, -1.21625465, -1.21505159, -1.21454469,\n",
       "       -1.20648146, -1.19948637, -1.19402584, -1.19396162, -1.18660097,\n",
       "       -1.18492379, -1.18336669, -1.18258878, -1.18082442, -1.17587398,\n",
       "       -1.17350608, -1.17049969, -1.17020547, -1.16857706, -1.16790855])"
      ]
     },
     "execution_count": 92,
     "metadata": {},
     "output_type": "execute_result"
    }
   ],
   "source": [
    "np.sort(df_scores)[0:50]"
   ]
  },
  {
   "cell_type": "code",
   "execution_count": 93,
   "metadata": {
    "execution": {
     "iopub.execute_input": "2020-12-10T12:48:56.641310Z",
     "iopub.status.busy": "2020-12-10T12:48:56.640232Z",
     "iopub.status.idle": "2020-12-10T12:48:56.644487Z",
     "shell.execute_reply": "2020-12-10T12:48:56.643911Z"
    },
    "papermill": {
     "duration": 0.265927,
     "end_time": "2020-12-10T12:48:56.644612",
     "exception": false,
     "start_time": "2020-12-10T12:48:56.378685",
     "status": "completed"
    },
    "tags": []
   },
   "outputs": [
    {
     "data": {
      "text/plain": [
       "-1.3519635721835208"
      ]
     },
     "execution_count": 93,
     "metadata": {},
     "output_type": "execute_result"
    }
   ],
   "source": [
    "threshold_value = np.sort(df_scores)[15]\n",
    "threshold_value"
   ]
  },
  {
   "cell_type": "code",
   "execution_count": 94,
   "metadata": {
    "execution": {
     "iopub.execute_input": "2020-12-10T12:48:57.184614Z",
     "iopub.status.busy": "2020-12-10T12:48:57.183840Z",
     "iopub.status.idle": "2020-12-10T12:48:57.188225Z",
     "shell.execute_reply": "2020-12-10T12:48:57.188766Z"
    },
    "papermill": {
     "duration": 0.283464,
     "end_time": "2020-12-10T12:48:57.188931",
     "exception": false,
     "start_time": "2020-12-10T12:48:56.905467",
     "status": "completed"
    },
    "tags": []
   },
   "outputs": [
    {
     "data": {
      "text/html": [
       "<div>\n",
       "<style scoped>\n",
       "    .dataframe tbody tr th:only-of-type {\n",
       "        vertical-align: middle;\n",
       "    }\n",
       "\n",
       "    .dataframe tbody tr th {\n",
       "        vertical-align: top;\n",
       "    }\n",
       "\n",
       "    .dataframe thead th {\n",
       "        text-align: right;\n",
       "    }\n",
       "</style>\n",
       "<table border=\"1\" class=\"dataframe\">\n",
       "  <thead>\n",
       "    <tr style=\"text-align: right;\">\n",
       "      <th></th>\n",
       "      <th>Age</th>\n",
       "      <th>Gender</th>\n",
       "      <th>OwnHome</th>\n",
       "      <th>Married</th>\n",
       "      <th>Location</th>\n",
       "      <th>Salary</th>\n",
       "      <th>Children</th>\n",
       "      <th>History</th>\n",
       "      <th>Catalogs</th>\n",
       "      <th>AmountSpent</th>\n",
       "    </tr>\n",
       "  </thead>\n",
       "  <tbody>\n",
       "    <tr>\n",
       "      <th>69</th>\n",
       "      <td>2</td>\n",
       "      <td>0</td>\n",
       "      <td>1</td>\n",
       "      <td>0</td>\n",
       "      <td>0</td>\n",
       "      <td>72300</td>\n",
       "      <td>0</td>\n",
       "      <td>4</td>\n",
       "      <td>24</td>\n",
       "      <td>4182</td>\n",
       "    </tr>\n",
       "    <tr>\n",
       "      <th>91</th>\n",
       "      <td>3</td>\n",
       "      <td>0</td>\n",
       "      <td>1</td>\n",
       "      <td>1</td>\n",
       "      <td>1</td>\n",
       "      <td>134500</td>\n",
       "      <td>0</td>\n",
       "      <td>4</td>\n",
       "      <td>24</td>\n",
       "      <td>4558</td>\n",
       "    </tr>\n",
       "    <tr>\n",
       "      <th>102</th>\n",
       "      <td>2</td>\n",
       "      <td>0</td>\n",
       "      <td>0</td>\n",
       "      <td>0</td>\n",
       "      <td>0</td>\n",
       "      <td>59000</td>\n",
       "      <td>0</td>\n",
       "      <td>4</td>\n",
       "      <td>24</td>\n",
       "      <td>3044</td>\n",
       "    </tr>\n",
       "    <tr>\n",
       "      <th>126</th>\n",
       "      <td>2</td>\n",
       "      <td>1</td>\n",
       "      <td>1</td>\n",
       "      <td>1</td>\n",
       "      <td>0</td>\n",
       "      <td>44200</td>\n",
       "      <td>0</td>\n",
       "      <td>4</td>\n",
       "      <td>24</td>\n",
       "      <td>2524</td>\n",
       "    </tr>\n",
       "    <tr>\n",
       "      <th>138</th>\n",
       "      <td>1</td>\n",
       "      <td>1</td>\n",
       "      <td>1</td>\n",
       "      <td>1</td>\n",
       "      <td>0</td>\n",
       "      <td>68000</td>\n",
       "      <td>0</td>\n",
       "      <td>4</td>\n",
       "      <td>24</td>\n",
       "      <td>3688</td>\n",
       "    </tr>\n",
       "    <tr>\n",
       "      <th>169</th>\n",
       "      <td>2</td>\n",
       "      <td>0</td>\n",
       "      <td>1</td>\n",
       "      <td>1</td>\n",
       "      <td>0</td>\n",
       "      <td>140000</td>\n",
       "      <td>0</td>\n",
       "      <td>4</td>\n",
       "      <td>12</td>\n",
       "      <td>4894</td>\n",
       "    </tr>\n",
       "    <tr>\n",
       "      <th>267</th>\n",
       "      <td>3</td>\n",
       "      <td>0</td>\n",
       "      <td>1</td>\n",
       "      <td>0</td>\n",
       "      <td>0</td>\n",
       "      <td>62000</td>\n",
       "      <td>0</td>\n",
       "      <td>4</td>\n",
       "      <td>24</td>\n",
       "      <td>3293</td>\n",
       "    </tr>\n",
       "    <tr>\n",
       "      <th>307</th>\n",
       "      <td>2</td>\n",
       "      <td>1</td>\n",
       "      <td>1</td>\n",
       "      <td>1</td>\n",
       "      <td>1</td>\n",
       "      <td>130700</td>\n",
       "      <td>3</td>\n",
       "      <td>1</td>\n",
       "      <td>6</td>\n",
       "      <td>2070</td>\n",
       "    </tr>\n",
       "    <tr>\n",
       "      <th>534</th>\n",
       "      <td>2</td>\n",
       "      <td>0</td>\n",
       "      <td>1</td>\n",
       "      <td>1</td>\n",
       "      <td>1</td>\n",
       "      <td>140700</td>\n",
       "      <td>3</td>\n",
       "      <td>3</td>\n",
       "      <td>12</td>\n",
       "      <td>1001</td>\n",
       "    </tr>\n",
       "    <tr>\n",
       "      <th>705</th>\n",
       "      <td>2</td>\n",
       "      <td>1</td>\n",
       "      <td>1</td>\n",
       "      <td>1</td>\n",
       "      <td>1</td>\n",
       "      <td>131500</td>\n",
       "      <td>3</td>\n",
       "      <td>1</td>\n",
       "      <td>6</td>\n",
       "      <td>2840</td>\n",
       "    </tr>\n",
       "    <tr>\n",
       "      <th>782</th>\n",
       "      <td>2</td>\n",
       "      <td>1</td>\n",
       "      <td>0</td>\n",
       "      <td>1</td>\n",
       "      <td>1</td>\n",
       "      <td>135700</td>\n",
       "      <td>1</td>\n",
       "      <td>4</td>\n",
       "      <td>24</td>\n",
       "      <td>2746</td>\n",
       "    </tr>\n",
       "    <tr>\n",
       "      <th>805</th>\n",
       "      <td>2</td>\n",
       "      <td>0</td>\n",
       "      <td>1</td>\n",
       "      <td>0</td>\n",
       "      <td>0</td>\n",
       "      <td>49700</td>\n",
       "      <td>0</td>\n",
       "      <td>4</td>\n",
       "      <td>24</td>\n",
       "      <td>2844</td>\n",
       "    </tr>\n",
       "    <tr>\n",
       "      <th>829</th>\n",
       "      <td>2</td>\n",
       "      <td>0</td>\n",
       "      <td>1</td>\n",
       "      <td>1</td>\n",
       "      <td>0</td>\n",
       "      <td>130600</td>\n",
       "      <td>0</td>\n",
       "      <td>4</td>\n",
       "      <td>18</td>\n",
       "      <td>3442</td>\n",
       "    </tr>\n",
       "    <tr>\n",
       "      <th>928</th>\n",
       "      <td>3</td>\n",
       "      <td>0</td>\n",
       "      <td>1</td>\n",
       "      <td>1</td>\n",
       "      <td>1</td>\n",
       "      <td>168800</td>\n",
       "      <td>0</td>\n",
       "      <td>4</td>\n",
       "      <td>6</td>\n",
       "      <td>1512</td>\n",
       "    </tr>\n",
       "    <tr>\n",
       "      <th>993</th>\n",
       "      <td>2</td>\n",
       "      <td>1</td>\n",
       "      <td>1</td>\n",
       "      <td>1</td>\n",
       "      <td>0</td>\n",
       "      <td>99200</td>\n",
       "      <td>0</td>\n",
       "      <td>4</td>\n",
       "      <td>24</td>\n",
       "      <td>5503</td>\n",
       "    </tr>\n",
       "  </tbody>\n",
       "</table>\n",
       "</div>"
      ],
      "text/plain": [
       "     Age  Gender  OwnHome  Married  Location  Salary  Children  History  \\\n",
       "69     2       0        1        0         0   72300         0        4   \n",
       "91     3       0        1        1         1  134500         0        4   \n",
       "102    2       0        0        0         0   59000         0        4   \n",
       "126    2       1        1        1         0   44200         0        4   \n",
       "138    1       1        1        1         0   68000         0        4   \n",
       "169    2       0        1        1         0  140000         0        4   \n",
       "267    3       0        1        0         0   62000         0        4   \n",
       "307    2       1        1        1         1  130700         3        1   \n",
       "534    2       0        1        1         1  140700         3        3   \n",
       "705    2       1        1        1         1  131500         3        1   \n",
       "782    2       1        0        1         1  135700         1        4   \n",
       "805    2       0        1        0         0   49700         0        4   \n",
       "829    2       0        1        1         0  130600         0        4   \n",
       "928    3       0        1        1         1  168800         0        4   \n",
       "993    2       1        1        1         0   99200         0        4   \n",
       "\n",
       "     Catalogs  AmountSpent  \n",
       "69         24         4182  \n",
       "91         24         4558  \n",
       "102        24         3044  \n",
       "126        24         2524  \n",
       "138        24         3688  \n",
       "169        12         4894  \n",
       "267        24         3293  \n",
       "307         6         2070  \n",
       "534        12         1001  \n",
       "705         6         2840  \n",
       "782        24         2746  \n",
       "805        24         2844  \n",
       "829        18         3442  \n",
       "928         6         1512  \n",
       "993        24         5503  "
      ]
     },
     "execution_count": 94,
     "metadata": {},
     "output_type": "execute_result"
    }
   ],
   "source": [
    "Outlier_df= df_out[df_scores < threshold_value]\n",
    "indexs=Outlier_df.index\n",
    "Outlier_df"
   ]
  },
  {
   "cell_type": "code",
   "execution_count": 95,
   "metadata": {
    "execution": {
     "iopub.execute_input": "2020-12-10T12:48:57.710819Z",
     "iopub.status.busy": "2020-12-10T12:48:57.709591Z",
     "iopub.status.idle": "2020-12-10T12:48:57.720564Z",
     "shell.execute_reply": "2020-12-10T12:48:57.719803Z"
    },
    "papermill": {
     "duration": 0.274921,
     "end_time": "2020-12-10T12:48:57.720708",
     "exception": false,
     "start_time": "2020-12-10T12:48:57.445787",
     "status": "completed"
    },
    "tags": []
   },
   "outputs": [],
   "source": [
    "# Kick Outliers\n",
    "for i in indexs:\n",
    "    df.drop(i, axis = 0,inplace = True)"
   ]
  },
  {
   "cell_type": "code",
   "execution_count": 96,
   "metadata": {
    "execution": {
     "iopub.execute_input": "2020-12-10T12:48:58.248756Z",
     "iopub.status.busy": "2020-12-10T12:48:58.247740Z",
     "iopub.status.idle": "2020-12-10T12:48:58.252633Z",
     "shell.execute_reply": "2020-12-10T12:48:58.251418Z"
    },
    "papermill": {
     "duration": 0.275454,
     "end_time": "2020-12-10T12:48:58.252828",
     "exception": false,
     "start_time": "2020-12-10T12:48:57.977374",
     "status": "completed"
    },
    "tags": []
   },
   "outputs": [
    {
     "name": "stdout",
     "output_type": "stream",
     "text": [
      "<class 'pandas.core.frame.DataFrame'>\n",
      "Int64Index: 985 entries, 0 to 999\n",
      "Data columns (total 10 columns):\n",
      " #   Column       Non-Null Count  Dtype\n",
      "---  ------       --------------  -----\n",
      " 0   Age          985 non-null    int64\n",
      " 1   Gender       985 non-null    int64\n",
      " 2   OwnHome      985 non-null    int64\n",
      " 3   Married      985 non-null    int64\n",
      " 4   Location     985 non-null    int64\n",
      " 5   Salary       985 non-null    int64\n",
      " 6   Children     985 non-null    int64\n",
      " 7   History      985 non-null    int64\n",
      " 8   Catalogs     985 non-null    int64\n",
      " 9   AmountSpent  985 non-null    int64\n",
      "dtypes: int64(10)\n",
      "memory usage: 84.6 KB\n"
     ]
    }
   ],
   "source": [
    "df.info()"
   ]
  },
  {
   "cell_type": "code",
   "execution_count": 97,
   "metadata": {
    "execution": {
     "iopub.execute_input": "2020-12-10T12:48:58.789882Z",
     "iopub.status.busy": "2020-12-10T12:48:58.788846Z",
     "iopub.status.idle": "2020-12-10T12:48:58.793555Z",
     "shell.execute_reply": "2020-12-10T12:48:58.792923Z"
    },
    "papermill": {
     "duration": 0.281695,
     "end_time": "2020-12-10T12:48:58.793701",
     "exception": false,
     "start_time": "2020-12-10T12:48:58.512006",
     "status": "completed"
    },
    "tags": []
   },
   "outputs": [
    {
     "data": {
      "text/html": [
       "<div>\n",
       "<style scoped>\n",
       "    .dataframe tbody tr th:only-of-type {\n",
       "        vertical-align: middle;\n",
       "    }\n",
       "\n",
       "    .dataframe tbody tr th {\n",
       "        vertical-align: top;\n",
       "    }\n",
       "\n",
       "    .dataframe thead th {\n",
       "        text-align: right;\n",
       "    }\n",
       "</style>\n",
       "<table border=\"1\" class=\"dataframe\">\n",
       "  <thead>\n",
       "    <tr style=\"text-align: right;\">\n",
       "      <th></th>\n",
       "      <th>Age</th>\n",
       "      <th>Gender</th>\n",
       "      <th>OwnHome</th>\n",
       "      <th>Married</th>\n",
       "      <th>Location</th>\n",
       "      <th>Salary</th>\n",
       "      <th>Children</th>\n",
       "      <th>History</th>\n",
       "      <th>Catalogs</th>\n",
       "      <th>AmountSpent</th>\n",
       "    </tr>\n",
       "  </thead>\n",
       "  <tbody>\n",
       "    <tr>\n",
       "      <th>147</th>\n",
       "      <td>3</td>\n",
       "      <td>1</td>\n",
       "      <td>1</td>\n",
       "      <td>1</td>\n",
       "      <td>0</td>\n",
       "      <td>67900</td>\n",
       "      <td>0</td>\n",
       "      <td>4</td>\n",
       "      <td>24</td>\n",
       "      <td>2925</td>\n",
       "    </tr>\n",
       "    <tr>\n",
       "      <th>932</th>\n",
       "      <td>2</td>\n",
       "      <td>1</td>\n",
       "      <td>1</td>\n",
       "      <td>0</td>\n",
       "      <td>0</td>\n",
       "      <td>55200</td>\n",
       "      <td>0</td>\n",
       "      <td>4</td>\n",
       "      <td>18</td>\n",
       "      <td>1714</td>\n",
       "    </tr>\n",
       "    <tr>\n",
       "      <th>163</th>\n",
       "      <td>2</td>\n",
       "      <td>0</td>\n",
       "      <td>1</td>\n",
       "      <td>0</td>\n",
       "      <td>0</td>\n",
       "      <td>59600</td>\n",
       "      <td>2</td>\n",
       "      <td>3</td>\n",
       "      <td>18</td>\n",
       "      <td>1217</td>\n",
       "    </tr>\n",
       "    <tr>\n",
       "      <th>827</th>\n",
       "      <td>2</td>\n",
       "      <td>1</td>\n",
       "      <td>0</td>\n",
       "      <td>0</td>\n",
       "      <td>1</td>\n",
       "      <td>46500</td>\n",
       "      <td>1</td>\n",
       "      <td>3</td>\n",
       "      <td>24</td>\n",
       "      <td>829</td>\n",
       "    </tr>\n",
       "    <tr>\n",
       "      <th>312</th>\n",
       "      <td>3</td>\n",
       "      <td>1</td>\n",
       "      <td>1</td>\n",
       "      <td>0</td>\n",
       "      <td>1</td>\n",
       "      <td>30900</td>\n",
       "      <td>0</td>\n",
       "      <td>3</td>\n",
       "      <td>18</td>\n",
       "      <td>862</td>\n",
       "    </tr>\n",
       "    <tr>\n",
       "      <th>830</th>\n",
       "      <td>2</td>\n",
       "      <td>0</td>\n",
       "      <td>1</td>\n",
       "      <td>1</td>\n",
       "      <td>0</td>\n",
       "      <td>74400</td>\n",
       "      <td>0</td>\n",
       "      <td>4</td>\n",
       "      <td>6</td>\n",
       "      <td>1893</td>\n",
       "    </tr>\n",
       "    <tr>\n",
       "      <th>96</th>\n",
       "      <td>2</td>\n",
       "      <td>1</td>\n",
       "      <td>1</td>\n",
       "      <td>1</td>\n",
       "      <td>1</td>\n",
       "      <td>110400</td>\n",
       "      <td>3</td>\n",
       "      <td>2</td>\n",
       "      <td>24</td>\n",
       "      <td>1093</td>\n",
       "    </tr>\n",
       "    <tr>\n",
       "      <th>274</th>\n",
       "      <td>2</td>\n",
       "      <td>0</td>\n",
       "      <td>1</td>\n",
       "      <td>1</td>\n",
       "      <td>1</td>\n",
       "      <td>82100</td>\n",
       "      <td>1</td>\n",
       "      <td>4</td>\n",
       "      <td>18</td>\n",
       "      <td>1308</td>\n",
       "    </tr>\n",
       "    <tr>\n",
       "      <th>662</th>\n",
       "      <td>1</td>\n",
       "      <td>1</td>\n",
       "      <td>1</td>\n",
       "      <td>0</td>\n",
       "      <td>1</td>\n",
       "      <td>27200</td>\n",
       "      <td>2</td>\n",
       "      <td>2</td>\n",
       "      <td>18</td>\n",
       "      <td>446</td>\n",
       "    </tr>\n",
       "    <tr>\n",
       "      <th>319</th>\n",
       "      <td>1</td>\n",
       "      <td>1</td>\n",
       "      <td>0</td>\n",
       "      <td>1</td>\n",
       "      <td>1</td>\n",
       "      <td>25900</td>\n",
       "      <td>1</td>\n",
       "      <td>2</td>\n",
       "      <td>6</td>\n",
       "      <td>242</td>\n",
       "    </tr>\n",
       "    <tr>\n",
       "      <th>946</th>\n",
       "      <td>1</td>\n",
       "      <td>1</td>\n",
       "      <td>0</td>\n",
       "      <td>0</td>\n",
       "      <td>0</td>\n",
       "      <td>13200</td>\n",
       "      <td>0</td>\n",
       "      <td>1</td>\n",
       "      <td>18</td>\n",
       "      <td>512</td>\n",
       "    </tr>\n",
       "    <tr>\n",
       "      <th>942</th>\n",
       "      <td>2</td>\n",
       "      <td>1</td>\n",
       "      <td>1</td>\n",
       "      <td>1</td>\n",
       "      <td>0</td>\n",
       "      <td>52300</td>\n",
       "      <td>1</td>\n",
       "      <td>4</td>\n",
       "      <td>18</td>\n",
       "      <td>2034</td>\n",
       "    </tr>\n",
       "    <tr>\n",
       "      <th>93</th>\n",
       "      <td>3</td>\n",
       "      <td>1</td>\n",
       "      <td>1</td>\n",
       "      <td>1</td>\n",
       "      <td>0</td>\n",
       "      <td>33600</td>\n",
       "      <td>2</td>\n",
       "      <td>3</td>\n",
       "      <td>12</td>\n",
       "      <td>805</td>\n",
       "    </tr>\n",
       "    <tr>\n",
       "      <th>968</th>\n",
       "      <td>2</td>\n",
       "      <td>0</td>\n",
       "      <td>1</td>\n",
       "      <td>1</td>\n",
       "      <td>0</td>\n",
       "      <td>79000</td>\n",
       "      <td>1</td>\n",
       "      <td>4</td>\n",
       "      <td>18</td>\n",
       "      <td>2279</td>\n",
       "    </tr>\n",
       "    <tr>\n",
       "      <th>322</th>\n",
       "      <td>2</td>\n",
       "      <td>1</td>\n",
       "      <td>0</td>\n",
       "      <td>0</td>\n",
       "      <td>1</td>\n",
       "      <td>40200</td>\n",
       "      <td>1</td>\n",
       "      <td>1</td>\n",
       "      <td>12</td>\n",
       "      <td>881</td>\n",
       "    </tr>\n",
       "  </tbody>\n",
       "</table>\n",
       "</div>"
      ],
      "text/plain": [
       "     Age  Gender  OwnHome  Married  Location  Salary  Children  History  \\\n",
       "147    3       1        1        1         0   67900         0        4   \n",
       "932    2       1        1        0         0   55200         0        4   \n",
       "163    2       0        1        0         0   59600         2        3   \n",
       "827    2       1        0        0         1   46500         1        3   \n",
       "312    3       1        1        0         1   30900         0        3   \n",
       "830    2       0        1        1         0   74400         0        4   \n",
       "96     2       1        1        1         1  110400         3        2   \n",
       "274    2       0        1        1         1   82100         1        4   \n",
       "662    1       1        1        0         1   27200         2        2   \n",
       "319    1       1        0        1         1   25900         1        2   \n",
       "946    1       1        0        0         0   13200         0        1   \n",
       "942    2       1        1        1         0   52300         1        4   \n",
       "93     3       1        1        1         0   33600         2        3   \n",
       "968    2       0        1        1         0   79000         1        4   \n",
       "322    2       1        0        0         1   40200         1        1   \n",
       "\n",
       "     Catalogs  AmountSpent  \n",
       "147        24         2925  \n",
       "932        18         1714  \n",
       "163        18         1217  \n",
       "827        24          829  \n",
       "312        18          862  \n",
       "830         6         1893  \n",
       "96         24         1093  \n",
       "274        18         1308  \n",
       "662        18          446  \n",
       "319         6          242  \n",
       "946        18          512  \n",
       "942        18         2034  \n",
       "93         12          805  \n",
       "968        18         2279  \n",
       "322        12          881  "
      ]
     },
     "execution_count": 97,
     "metadata": {},
     "output_type": "execute_result"
    }
   ],
   "source": [
    "sample_df=df.sample(n=15,random_state=15)\n",
    "sample_df"
   ]
  },
  {
   "cell_type": "code",
   "execution_count": 98,
   "metadata": {
    "execution": {
     "iopub.execute_input": "2020-12-10T12:48:59.322669Z",
     "iopub.status.busy": "2020-12-10T12:48:59.321601Z",
     "iopub.status.idle": "2020-12-10T12:48:59.325080Z",
     "shell.execute_reply": "2020-12-10T12:48:59.324474Z"
    },
    "papermill": {
     "duration": 0.267394,
     "end_time": "2020-12-10T12:48:59.325209",
     "exception": false,
     "start_time": "2020-12-10T12:48:59.057815",
     "status": "completed"
    },
    "tags": []
   },
   "outputs": [],
   "source": [
    "indexs=sample_df.index\n"
   ]
  },
  {
   "cell_type": "code",
   "execution_count": 99,
   "metadata": {
    "execution": {
     "iopub.execute_input": "2020-12-10T12:48:59.855055Z",
     "iopub.status.busy": "2020-12-10T12:48:59.853913Z",
     "iopub.status.idle": "2020-12-10T12:48:59.864429Z",
     "shell.execute_reply": "2020-12-10T12:48:59.863641Z"
    },
    "papermill": {
     "duration": 0.279042,
     "end_time": "2020-12-10T12:48:59.864551",
     "exception": false,
     "start_time": "2020-12-10T12:48:59.585509",
     "status": "completed"
    },
    "tags": []
   },
   "outputs": [],
   "source": [
    "# Kick sample \n",
    "for i in indexs:\n",
    "    df.drop(i, axis = 0,inplace = True)"
   ]
  },
  {
   "cell_type": "code",
   "execution_count": 100,
   "metadata": {
    "execution": {
     "iopub.execute_input": "2020-12-10T12:49:00.453156Z",
     "iopub.status.busy": "2020-12-10T12:49:00.452174Z",
     "iopub.status.idle": "2020-12-10T12:49:00.455911Z",
     "shell.execute_reply": "2020-12-10T12:49:00.456483Z"
    },
    "papermill": {
     "duration": 0.288249,
     "end_time": "2020-12-10T12:49:00.456686",
     "exception": false,
     "start_time": "2020-12-10T12:49:00.168437",
     "status": "completed"
    },
    "tags": []
   },
   "outputs": [
    {
     "name": "stdout",
     "output_type": "stream",
     "text": [
      "<class 'pandas.core.frame.DataFrame'>\n",
      "Int64Index: 970 entries, 0 to 999\n",
      "Data columns (total 10 columns):\n",
      " #   Column       Non-Null Count  Dtype\n",
      "---  ------       --------------  -----\n",
      " 0   Age          970 non-null    int64\n",
      " 1   Gender       970 non-null    int64\n",
      " 2   OwnHome      970 non-null    int64\n",
      " 3   Married      970 non-null    int64\n",
      " 4   Location     970 non-null    int64\n",
      " 5   Salary       970 non-null    int64\n",
      " 6   Children     970 non-null    int64\n",
      " 7   History      970 non-null    int64\n",
      " 8   Catalogs     970 non-null    int64\n",
      " 9   AmountSpent  970 non-null    int64\n",
      "dtypes: int64(10)\n",
      "memory usage: 83.4 KB\n"
     ]
    }
   ],
   "source": [
    "df.info()"
   ]
  },
  {
   "cell_type": "code",
   "execution_count": 101,
   "metadata": {
    "execution": {
     "iopub.execute_input": "2020-12-10T12:49:01.003094Z",
     "iopub.status.busy": "2020-12-10T12:49:01.001920Z",
     "iopub.status.idle": "2020-12-10T12:49:01.005247Z",
     "shell.execute_reply": "2020-12-10T12:49:01.004562Z"
    },
    "papermill": {
     "duration": 0.280038,
     "end_time": "2020-12-10T12:49:01.005389",
     "exception": false,
     "start_time": "2020-12-10T12:49:00.725351",
     "status": "completed"
    },
    "tags": []
   },
   "outputs": [],
   "source": [
    "X = df.drop(['AmountSpent'], axis= 1)\n",
    "y = df[\"AmountSpent\"]"
   ]
  },
  {
   "cell_type": "markdown",
   "metadata": {
    "papermill": {
     "duration": 0.266148,
     "end_time": "2020-12-10T12:49:01.541210",
     "exception": false,
     "start_time": "2020-12-10T12:49:01.275062",
     "status": "completed"
    },
    "tags": []
   },
   "source": [
    "## Normalize"
   ]
  },
  {
   "cell_type": "code",
   "execution_count": 102,
   "metadata": {
    "execution": {
     "iopub.execute_input": "2020-12-10T12:49:02.184119Z",
     "iopub.status.busy": "2020-12-10T12:49:02.168479Z",
     "iopub.status.idle": "2020-12-10T12:49:02.189296Z",
     "shell.execute_reply": "2020-12-10T12:49:02.189860Z"
    },
    "papermill": {
     "duration": 0.336799,
     "end_time": "2020-12-10T12:49:02.190026",
     "exception": false,
     "start_time": "2020-12-10T12:49:01.853227",
     "status": "completed"
    },
    "tags": []
   },
   "outputs": [
    {
     "data": {
      "text/html": [
       "<div>\n",
       "<style scoped>\n",
       "    .dataframe tbody tr th:only-of-type {\n",
       "        vertical-align: middle;\n",
       "    }\n",
       "\n",
       "    .dataframe tbody tr th {\n",
       "        vertical-align: top;\n",
       "    }\n",
       "\n",
       "    .dataframe thead th {\n",
       "        text-align: right;\n",
       "    }\n",
       "</style>\n",
       "<table border=\"1\" class=\"dataframe\">\n",
       "  <thead>\n",
       "    <tr style=\"text-align: right;\">\n",
       "      <th></th>\n",
       "      <th>Age</th>\n",
       "      <th>Gender</th>\n",
       "      <th>OwnHome</th>\n",
       "      <th>Married</th>\n",
       "      <th>Location</th>\n",
       "      <th>Salary</th>\n",
       "      <th>Children</th>\n",
       "      <th>History</th>\n",
       "      <th>Catalogs</th>\n",
       "    </tr>\n",
       "  </thead>\n",
       "  <tbody>\n",
       "    <tr>\n",
       "      <th>0</th>\n",
       "      <td>1.0</td>\n",
       "      <td>1.0</td>\n",
       "      <td>1.0</td>\n",
       "      <td>0.0</td>\n",
       "      <td>0.0</td>\n",
       "      <td>0.32</td>\n",
       "      <td>0.00</td>\n",
       "      <td>1.00</td>\n",
       "      <td>0.00</td>\n",
       "    </tr>\n",
       "    <tr>\n",
       "      <th>1</th>\n",
       "      <td>0.5</td>\n",
       "      <td>0.0</td>\n",
       "      <td>0.0</td>\n",
       "      <td>0.0</td>\n",
       "      <td>1.0</td>\n",
       "      <td>0.45</td>\n",
       "      <td>0.00</td>\n",
       "      <td>1.00</td>\n",
       "      <td>0.00</td>\n",
       "    </tr>\n",
       "    <tr>\n",
       "      <th>2</th>\n",
       "      <td>0.0</td>\n",
       "      <td>1.0</td>\n",
       "      <td>0.0</td>\n",
       "      <td>0.0</td>\n",
       "      <td>1.0</td>\n",
       "      <td>0.03</td>\n",
       "      <td>0.00</td>\n",
       "      <td>0.33</td>\n",
       "      <td>0.67</td>\n",
       "    </tr>\n",
       "    <tr>\n",
       "      <th>3</th>\n",
       "      <td>0.5</td>\n",
       "      <td>0.0</td>\n",
       "      <td>1.0</td>\n",
       "      <td>1.0</td>\n",
       "      <td>1.0</td>\n",
       "      <td>0.64</td>\n",
       "      <td>0.33</td>\n",
       "      <td>1.00</td>\n",
       "      <td>0.67</td>\n",
       "    </tr>\n",
       "    <tr>\n",
       "      <th>4</th>\n",
       "      <td>0.5</td>\n",
       "      <td>1.0</td>\n",
       "      <td>1.0</td>\n",
       "      <td>0.0</td>\n",
       "      <td>1.0</td>\n",
       "      <td>0.49</td>\n",
       "      <td>0.00</td>\n",
       "      <td>1.00</td>\n",
       "      <td>0.33</td>\n",
       "    </tr>\n",
       "    <tr>\n",
       "      <th>...</th>\n",
       "      <td>...</td>\n",
       "      <td>...</td>\n",
       "      <td>...</td>\n",
       "      <td>...</td>\n",
       "      <td>...</td>\n",
       "      <td>...</td>\n",
       "      <td>...</td>\n",
       "      <td>...</td>\n",
       "      <td>...</td>\n",
       "    </tr>\n",
       "    <tr>\n",
       "      <th>995</th>\n",
       "      <td>0.0</td>\n",
       "      <td>1.0</td>\n",
       "      <td>0.0</td>\n",
       "      <td>0.0</td>\n",
       "      <td>1.0</td>\n",
       "      <td>0.08</td>\n",
       "      <td>0.33</td>\n",
       "      <td>0.00</td>\n",
       "      <td>0.67</td>\n",
       "    </tr>\n",
       "    <tr>\n",
       "      <th>996</th>\n",
       "      <td>0.5</td>\n",
       "      <td>0.0</td>\n",
       "      <td>0.0</td>\n",
       "      <td>0.0</td>\n",
       "      <td>0.0</td>\n",
       "      <td>0.26</td>\n",
       "      <td>0.33</td>\n",
       "      <td>0.00</td>\n",
       "      <td>0.67</td>\n",
       "    </tr>\n",
       "    <tr>\n",
       "      <th>997</th>\n",
       "      <td>1.0</td>\n",
       "      <td>0.0</td>\n",
       "      <td>1.0</td>\n",
       "      <td>0.0</td>\n",
       "      <td>1.0</td>\n",
       "      <td>0.29</td>\n",
       "      <td>0.00</td>\n",
       "      <td>0.67</td>\n",
       "      <td>1.00</td>\n",
       "    </tr>\n",
       "    <tr>\n",
       "      <th>998</th>\n",
       "      <td>0.5</td>\n",
       "      <td>0.0</td>\n",
       "      <td>1.0</td>\n",
       "      <td>1.0</td>\n",
       "      <td>1.0</td>\n",
       "      <td>0.58</td>\n",
       "      <td>0.67</td>\n",
       "      <td>0.67</td>\n",
       "      <td>0.67</td>\n",
       "    </tr>\n",
       "    <tr>\n",
       "      <th>999</th>\n",
       "      <td>0.0</td>\n",
       "      <td>0.0</td>\n",
       "      <td>0.0</td>\n",
       "      <td>1.0</td>\n",
       "      <td>1.0</td>\n",
       "      <td>0.37</td>\n",
       "      <td>0.33</td>\n",
       "      <td>0.67</td>\n",
       "      <td>1.00</td>\n",
       "    </tr>\n",
       "  </tbody>\n",
       "</table>\n",
       "<p>970 rows × 9 columns</p>\n",
       "</div>"
      ],
      "text/plain": [
       "     Age  Gender  OwnHome  Married  Location  Salary  Children  History  \\\n",
       "0    1.0     1.0      1.0      0.0       0.0    0.32      0.00     1.00   \n",
       "1    0.5     0.0      0.0      0.0       1.0    0.45      0.00     1.00   \n",
       "2    0.0     1.0      0.0      0.0       1.0    0.03      0.00     0.33   \n",
       "3    0.5     0.0      1.0      1.0       1.0    0.64      0.33     1.00   \n",
       "4    0.5     1.0      1.0      0.0       1.0    0.49      0.00     1.00   \n",
       "..   ...     ...      ...      ...       ...     ...       ...      ...   \n",
       "995  0.0     1.0      0.0      0.0       1.0    0.08      0.33     0.00   \n",
       "996  0.5     0.0      0.0      0.0       0.0    0.26      0.33     0.00   \n",
       "997  1.0     0.0      1.0      0.0       1.0    0.29      0.00     0.67   \n",
       "998  0.5     0.0      1.0      1.0       1.0    0.58      0.67     0.67   \n",
       "999  0.0     0.0      0.0      1.0       1.0    0.37      0.33     0.67   \n",
       "\n",
       "     Catalogs  \n",
       "0        0.00  \n",
       "1        0.00  \n",
       "2        0.67  \n",
       "3        0.67  \n",
       "4        0.33  \n",
       "..        ...  \n",
       "995      0.67  \n",
       "996      0.67  \n",
       "997      1.00  \n",
       "998      0.67  \n",
       "999      1.00  \n",
       "\n",
       "[970 rows x 9 columns]"
      ]
     },
     "execution_count": 102,
     "metadata": {},
     "output_type": "execute_result"
    }
   ],
   "source": [
    "X = (X - np.min(X)) / (np.max(X) - np.min(X)).values\n",
    "X[\"Salary\"]=X[\"Salary\"].map(lambda x:round(x,2))\n",
    "X[\"Children\"]=X[\"Children\"].map(lambda x:round(x,2))\n",
    "X[\"History\"]=X[\"History\"].map(lambda x:round(x,2))\n",
    "X[\"Catalogs\"]=X[\"Catalogs\"].map(lambda x:round(x,2))\n",
    "X"
   ]
  },
  {
   "cell_type": "code",
   "execution_count": 103,
   "metadata": {
    "execution": {
     "iopub.execute_input": "2020-12-10T12:49:02.756488Z",
     "iopub.status.busy": "2020-12-10T12:49:02.755420Z",
     "iopub.status.idle": "2020-12-10T12:49:02.760633Z",
     "shell.execute_reply": "2020-12-10T12:49:02.760048Z"
    },
    "papermill": {
     "duration": 0.277391,
     "end_time": "2020-12-10T12:49:02.760783",
     "exception": false,
     "start_time": "2020-12-10T12:49:02.483392",
     "status": "completed"
    },
    "tags": []
   },
   "outputs": [
    {
     "data": {
      "text/plain": [
       "0       755\n",
       "1      1318\n",
       "2       296\n",
       "3      2436\n",
       "4      1304\n",
       "       ... \n",
       "995     384\n",
       "996    1073\n",
       "997    1417\n",
       "998     671\n",
       "999     973\n",
       "Name: AmountSpent, Length: 970, dtype: int64"
      ]
     },
     "execution_count": 103,
     "metadata": {},
     "output_type": "execute_result"
    }
   ],
   "source": [
    "y"
   ]
  },
  {
   "cell_type": "code",
   "execution_count": 104,
   "metadata": {
    "execution": {
     "iopub.execute_input": "2020-12-10T12:49:03.312380Z",
     "iopub.status.busy": "2020-12-10T12:49:03.311321Z",
     "iopub.status.idle": "2020-12-10T12:49:03.318929Z",
     "shell.execute_reply": "2020-12-10T12:49:03.318173Z"
    },
    "papermill": {
     "duration": 0.288002,
     "end_time": "2020-12-10T12:49:03.319052",
     "exception": false,
     "start_time": "2020-12-10T12:49:03.031050",
     "status": "completed"
    },
    "tags": []
   },
   "outputs": [
    {
     "name": "stdout",
     "output_type": "stream",
     "text": [
      "X_train (727, 9)\n",
      "y_train (727,)\n",
      "X_test (243, 9)\n",
      "y_test (243,)\n"
     ]
    }
   ],
   "source": [
    "from sklearn.model_selection import train_test_split, cross_val_score, cross_val_predict\n",
    "X_train, X_test, y_train, y_test = train_test_split(X,\n",
    "                                                    y, \n",
    "                                                    test_size=0.25, \n",
    "                                                    random_state=42)\n",
    "\n",
    "print(\"X_train\", X_train.shape)\n",
    "\n",
    "print(\"y_train\",y_train.shape)\n",
    "\n",
    "print(\"X_test\",X_test.shape)\n",
    "\n",
    "print(\"y_test\",y_test.shape)\n"
   ]
  },
  {
   "cell_type": "markdown",
   "metadata": {
    "papermill": {
     "duration": 0.263036,
     "end_time": "2020-12-10T12:49:03.845042",
     "exception": false,
     "start_time": "2020-12-10T12:49:03.582006",
     "status": "completed"
    },
    "tags": []
   },
   "source": [
    "## Sample Data"
   ]
  },
  {
   "cell_type": "code",
   "execution_count": 105,
   "metadata": {
    "execution": {
     "iopub.execute_input": "2020-12-10T12:49:04.381152Z",
     "iopub.status.busy": "2020-12-10T12:49:04.380047Z",
     "iopub.status.idle": "2020-12-10T12:49:04.383642Z",
     "shell.execute_reply": "2020-12-10T12:49:04.383066Z"
    },
    "papermill": {
     "duration": 0.273441,
     "end_time": "2020-12-10T12:49:04.383789",
     "exception": false,
     "start_time": "2020-12-10T12:49:04.110348",
     "status": "completed"
    },
    "tags": []
   },
   "outputs": [],
   "source": [
    "sample_df_X_test=sample_df.drop(['AmountSpent'],axis=1)\n",
    "sample_df_y_test=sample_df[\"AmountSpent\"]"
   ]
  },
  {
   "cell_type": "code",
   "execution_count": 106,
   "metadata": {
    "execution": {
     "iopub.execute_input": "2020-12-10T12:49:04.946476Z",
     "iopub.status.busy": "2020-12-10T12:49:04.935404Z",
     "iopub.status.idle": "2020-12-10T12:49:04.951414Z",
     "shell.execute_reply": "2020-12-10T12:49:04.950815Z"
    },
    "papermill": {
     "duration": 0.302731,
     "end_time": "2020-12-10T12:49:04.951563",
     "exception": false,
     "start_time": "2020-12-10T12:49:04.648832",
     "status": "completed"
    },
    "tags": []
   },
   "outputs": [
    {
     "data": {
      "text/html": [
       "<div>\n",
       "<style scoped>\n",
       "    .dataframe tbody tr th:only-of-type {\n",
       "        vertical-align: middle;\n",
       "    }\n",
       "\n",
       "    .dataframe tbody tr th {\n",
       "        vertical-align: top;\n",
       "    }\n",
       "\n",
       "    .dataframe thead th {\n",
       "        text-align: right;\n",
       "    }\n",
       "</style>\n",
       "<table border=\"1\" class=\"dataframe\">\n",
       "  <thead>\n",
       "    <tr style=\"text-align: right;\">\n",
       "      <th></th>\n",
       "      <th>Age</th>\n",
       "      <th>Gender</th>\n",
       "      <th>OwnHome</th>\n",
       "      <th>Married</th>\n",
       "      <th>Location</th>\n",
       "      <th>Salary</th>\n",
       "      <th>Children</th>\n",
       "      <th>History</th>\n",
       "      <th>Catalogs</th>\n",
       "    </tr>\n",
       "  </thead>\n",
       "  <tbody>\n",
       "    <tr>\n",
       "      <th>147</th>\n",
       "      <td>1.0</td>\n",
       "      <td>1.0</td>\n",
       "      <td>1.0</td>\n",
       "      <td>1.0</td>\n",
       "      <td>0.0</td>\n",
       "      <td>0.56</td>\n",
       "      <td>0.00</td>\n",
       "      <td>1.00</td>\n",
       "      <td>1.00</td>\n",
       "    </tr>\n",
       "    <tr>\n",
       "      <th>932</th>\n",
       "      <td>0.5</td>\n",
       "      <td>1.0</td>\n",
       "      <td>1.0</td>\n",
       "      <td>0.0</td>\n",
       "      <td>0.0</td>\n",
       "      <td>0.43</td>\n",
       "      <td>0.00</td>\n",
       "      <td>1.00</td>\n",
       "      <td>0.67</td>\n",
       "    </tr>\n",
       "    <tr>\n",
       "      <th>163</th>\n",
       "      <td>0.5</td>\n",
       "      <td>0.0</td>\n",
       "      <td>1.0</td>\n",
       "      <td>0.0</td>\n",
       "      <td>0.0</td>\n",
       "      <td>0.48</td>\n",
       "      <td>0.67</td>\n",
       "      <td>0.67</td>\n",
       "      <td>0.67</td>\n",
       "    </tr>\n",
       "    <tr>\n",
       "      <th>827</th>\n",
       "      <td>0.5</td>\n",
       "      <td>1.0</td>\n",
       "      <td>0.0</td>\n",
       "      <td>0.0</td>\n",
       "      <td>1.0</td>\n",
       "      <td>0.34</td>\n",
       "      <td>0.33</td>\n",
       "      <td>0.67</td>\n",
       "      <td>1.00</td>\n",
       "    </tr>\n",
       "    <tr>\n",
       "      <th>312</th>\n",
       "      <td>1.0</td>\n",
       "      <td>1.0</td>\n",
       "      <td>1.0</td>\n",
       "      <td>0.0</td>\n",
       "      <td>1.0</td>\n",
       "      <td>0.18</td>\n",
       "      <td>0.00</td>\n",
       "      <td>0.67</td>\n",
       "      <td>0.67</td>\n",
       "    </tr>\n",
       "    <tr>\n",
       "      <th>830</th>\n",
       "      <td>0.5</td>\n",
       "      <td>0.0</td>\n",
       "      <td>1.0</td>\n",
       "      <td>1.0</td>\n",
       "      <td>0.0</td>\n",
       "      <td>0.63</td>\n",
       "      <td>0.00</td>\n",
       "      <td>1.00</td>\n",
       "      <td>0.00</td>\n",
       "    </tr>\n",
       "    <tr>\n",
       "      <th>96</th>\n",
       "      <td>0.5</td>\n",
       "      <td>1.0</td>\n",
       "      <td>1.0</td>\n",
       "      <td>1.0</td>\n",
       "      <td>1.0</td>\n",
       "      <td>1.00</td>\n",
       "      <td>1.00</td>\n",
       "      <td>0.33</td>\n",
       "      <td>1.00</td>\n",
       "    </tr>\n",
       "    <tr>\n",
       "      <th>274</th>\n",
       "      <td>0.5</td>\n",
       "      <td>0.0</td>\n",
       "      <td>1.0</td>\n",
       "      <td>1.0</td>\n",
       "      <td>1.0</td>\n",
       "      <td>0.71</td>\n",
       "      <td>0.33</td>\n",
       "      <td>1.00</td>\n",
       "      <td>0.67</td>\n",
       "    </tr>\n",
       "    <tr>\n",
       "      <th>662</th>\n",
       "      <td>0.0</td>\n",
       "      <td>1.0</td>\n",
       "      <td>1.0</td>\n",
       "      <td>0.0</td>\n",
       "      <td>1.0</td>\n",
       "      <td>0.14</td>\n",
       "      <td>0.67</td>\n",
       "      <td>0.33</td>\n",
       "      <td>0.67</td>\n",
       "    </tr>\n",
       "    <tr>\n",
       "      <th>319</th>\n",
       "      <td>0.0</td>\n",
       "      <td>1.0</td>\n",
       "      <td>0.0</td>\n",
       "      <td>1.0</td>\n",
       "      <td>1.0</td>\n",
       "      <td>0.13</td>\n",
       "      <td>0.33</td>\n",
       "      <td>0.33</td>\n",
       "      <td>0.00</td>\n",
       "    </tr>\n",
       "    <tr>\n",
       "      <th>946</th>\n",
       "      <td>0.0</td>\n",
       "      <td>1.0</td>\n",
       "      <td>0.0</td>\n",
       "      <td>0.0</td>\n",
       "      <td>0.0</td>\n",
       "      <td>0.00</td>\n",
       "      <td>0.00</td>\n",
       "      <td>0.00</td>\n",
       "      <td>0.67</td>\n",
       "    </tr>\n",
       "    <tr>\n",
       "      <th>942</th>\n",
       "      <td>0.5</td>\n",
       "      <td>1.0</td>\n",
       "      <td>1.0</td>\n",
       "      <td>1.0</td>\n",
       "      <td>0.0</td>\n",
       "      <td>0.40</td>\n",
       "      <td>0.33</td>\n",
       "      <td>1.00</td>\n",
       "      <td>0.67</td>\n",
       "    </tr>\n",
       "    <tr>\n",
       "      <th>93</th>\n",
       "      <td>1.0</td>\n",
       "      <td>1.0</td>\n",
       "      <td>1.0</td>\n",
       "      <td>1.0</td>\n",
       "      <td>0.0</td>\n",
       "      <td>0.21</td>\n",
       "      <td>0.67</td>\n",
       "      <td>0.67</td>\n",
       "      <td>0.33</td>\n",
       "    </tr>\n",
       "    <tr>\n",
       "      <th>968</th>\n",
       "      <td>0.5</td>\n",
       "      <td>0.0</td>\n",
       "      <td>1.0</td>\n",
       "      <td>1.0</td>\n",
       "      <td>0.0</td>\n",
       "      <td>0.68</td>\n",
       "      <td>0.33</td>\n",
       "      <td>1.00</td>\n",
       "      <td>0.67</td>\n",
       "    </tr>\n",
       "    <tr>\n",
       "      <th>322</th>\n",
       "      <td>0.5</td>\n",
       "      <td>1.0</td>\n",
       "      <td>0.0</td>\n",
       "      <td>0.0</td>\n",
       "      <td>1.0</td>\n",
       "      <td>0.28</td>\n",
       "      <td>0.33</td>\n",
       "      <td>0.00</td>\n",
       "      <td>0.33</td>\n",
       "    </tr>\n",
       "  </tbody>\n",
       "</table>\n",
       "</div>"
      ],
      "text/plain": [
       "     Age  Gender  OwnHome  Married  Location  Salary  Children  History  \\\n",
       "147  1.0     1.0      1.0      1.0       0.0    0.56      0.00     1.00   \n",
       "932  0.5     1.0      1.0      0.0       0.0    0.43      0.00     1.00   \n",
       "163  0.5     0.0      1.0      0.0       0.0    0.48      0.67     0.67   \n",
       "827  0.5     1.0      0.0      0.0       1.0    0.34      0.33     0.67   \n",
       "312  1.0     1.0      1.0      0.0       1.0    0.18      0.00     0.67   \n",
       "830  0.5     0.0      1.0      1.0       0.0    0.63      0.00     1.00   \n",
       "96   0.5     1.0      1.0      1.0       1.0    1.00      1.00     0.33   \n",
       "274  0.5     0.0      1.0      1.0       1.0    0.71      0.33     1.00   \n",
       "662  0.0     1.0      1.0      0.0       1.0    0.14      0.67     0.33   \n",
       "319  0.0     1.0      0.0      1.0       1.0    0.13      0.33     0.33   \n",
       "946  0.0     1.0      0.0      0.0       0.0    0.00      0.00     0.00   \n",
       "942  0.5     1.0      1.0      1.0       0.0    0.40      0.33     1.00   \n",
       "93   1.0     1.0      1.0      1.0       0.0    0.21      0.67     0.67   \n",
       "968  0.5     0.0      1.0      1.0       0.0    0.68      0.33     1.00   \n",
       "322  0.5     1.0      0.0      0.0       1.0    0.28      0.33     0.00   \n",
       "\n",
       "     Catalogs  \n",
       "147      1.00  \n",
       "932      0.67  \n",
       "163      0.67  \n",
       "827      1.00  \n",
       "312      0.67  \n",
       "830      0.00  \n",
       "96       1.00  \n",
       "274      0.67  \n",
       "662      0.67  \n",
       "319      0.00  \n",
       "946      0.67  \n",
       "942      0.67  \n",
       "93       0.33  \n",
       "968      0.67  \n",
       "322      0.33  "
      ]
     },
     "execution_count": 106,
     "metadata": {},
     "output_type": "execute_result"
    }
   ],
   "source": [
    "sample_df_X_test = (sample_df_X_test - np.min(sample_df_X_test)) / (np.max(sample_df_X_test) - np.min(sample_df_X_test)).values\n",
    "sample_df_X_test[\"Salary\"]=sample_df_X_test[\"Salary\"].map(lambda x:round(x,2))\n",
    "sample_df_X_test[\"Children\"]=sample_df_X_test[\"Children\"].map(lambda x:round(x,2))\n",
    "sample_df_X_test[\"Catalogs\"]=sample_df_X_test[\"Catalogs\"].map(lambda x:round(x,2))\n",
    "sample_df_X_test[\"History\"]=sample_df_X_test[\"History\"].map(lambda x:round(x,2))\n",
    "sample_df_X_test"
   ]
  },
  {
   "cell_type": "markdown",
   "metadata": {
    "papermill": {
     "duration": 0.265514,
     "end_time": "2020-12-10T12:49:05.484990",
     "exception": false,
     "start_time": "2020-12-10T12:49:05.219476",
     "status": "completed"
    },
    "tags": []
   },
   "source": [
    " ## <a id='24'> 9. Linear Regression</a>"
   ]
  },
  {
   "cell_type": "code",
   "execution_count": 107,
   "metadata": {
    "execution": {
     "iopub.execute_input": "2020-12-10T12:49:06.045215Z",
     "iopub.status.busy": "2020-12-10T12:49:06.032766Z",
     "iopub.status.idle": "2020-12-10T12:49:06.048861Z",
     "shell.execute_reply": "2020-12-10T12:49:06.048091Z"
    },
    "papermill": {
     "duration": 0.296538,
     "end_time": "2020-12-10T12:49:06.049011",
     "exception": false,
     "start_time": "2020-12-10T12:49:05.752473",
     "status": "completed"
    },
    "tags": []
   },
   "outputs": [],
   "source": [
    "from sklearn.linear_model import LinearRegression\n",
    "lm = LinearRegression()\n",
    "model = lm.fit(X_train, y_train)"
   ]
  },
  {
   "cell_type": "code",
   "execution_count": 108,
   "metadata": {
    "execution": {
     "iopub.execute_input": "2020-12-10T12:49:06.591241Z",
     "iopub.status.busy": "2020-12-10T12:49:06.590139Z",
     "iopub.status.idle": "2020-12-10T12:49:06.594838Z",
     "shell.execute_reply": "2020-12-10T12:49:06.594227Z"
    },
    "papermill": {
     "duration": 0.275275,
     "end_time": "2020-12-10T12:49:06.594966",
     "exception": false,
     "start_time": "2020-12-10T12:49:06.319691",
     "status": "completed"
    },
    "tags": []
   },
   "outputs": [
    {
     "data": {
      "text/plain": [
       "397.6939633886252"
      ]
     },
     "execution_count": 108,
     "metadata": {},
     "output_type": "execute_result"
    }
   ],
   "source": [
    "model.intercept_"
   ]
  },
  {
   "cell_type": "code",
   "execution_count": 109,
   "metadata": {
    "execution": {
     "iopub.execute_input": "2020-12-10T12:49:07.135372Z",
     "iopub.status.busy": "2020-12-10T12:49:07.134463Z",
     "iopub.status.idle": "2020-12-10T12:49:07.138155Z",
     "shell.execute_reply": "2020-12-10T12:49:07.138783Z"
    },
    "papermill": {
     "duration": 0.277662,
     "end_time": "2020-12-10T12:49:07.138985",
     "exception": false,
     "start_time": "2020-12-10T12:49:06.861323",
     "status": "completed"
    },
    "tags": []
   },
   "outputs": [
    {
     "data": {
      "text/plain": [
       "array([  25.6900816 ,   33.12244549,   38.21277629,   -5.01732599,\n",
       "       -499.67196727, 2653.94785744, -610.96946068, -211.78638252,\n",
       "        813.64374892])"
      ]
     },
     "execution_count": 109,
     "metadata": {},
     "output_type": "execute_result"
    }
   ],
   "source": [
    "model.coef_"
   ]
  },
  {
   "cell_type": "code",
   "execution_count": 110,
   "metadata": {
    "execution": {
     "iopub.execute_input": "2020-12-10T12:49:07.682023Z",
     "iopub.status.busy": "2020-12-10T12:49:07.681014Z",
     "iopub.status.idle": "2020-12-10T12:49:07.685094Z",
     "shell.execute_reply": "2020-12-10T12:49:07.685623Z"
    },
    "papermill": {
     "duration": 0.280741,
     "end_time": "2020-12-10T12:49:07.685801",
     "exception": false,
     "start_time": "2020-12-10T12:49:07.405060",
     "status": "completed"
    },
    "tags": []
   },
   "outputs": [
    {
     "data": {
      "text/plain": [
       "503.42626388269844"
      ]
     },
     "execution_count": 110,
     "metadata": {},
     "output_type": "execute_result"
    }
   ],
   "source": [
    "from sklearn.metrics import mean_squared_error, r2_score\n",
    "np.sqrt(mean_squared_error(y_train, model.predict(X_train)))"
   ]
  },
  {
   "cell_type": "code",
   "execution_count": 111,
   "metadata": {
    "execution": {
     "iopub.execute_input": "2020-12-10T12:49:08.231801Z",
     "iopub.status.busy": "2020-12-10T12:49:08.230696Z",
     "iopub.status.idle": "2020-12-10T12:49:08.236281Z",
     "shell.execute_reply": "2020-12-10T12:49:08.235611Z"
    },
    "papermill": {
     "duration": 0.284109,
     "end_time": "2020-12-10T12:49:08.236406",
     "exception": false,
     "start_time": "2020-12-10T12:49:07.952297",
     "status": "completed"
    },
    "tags": []
   },
   "outputs": [
    {
     "data": {
      "text/plain": [
       "0.7213871369942968"
      ]
     },
     "execution_count": 111,
     "metadata": {},
     "output_type": "execute_result"
    }
   ],
   "source": [
    "model.score(X_train, y_train)"
   ]
  },
  {
   "cell_type": "code",
   "execution_count": 112,
   "metadata": {
    "execution": {
     "iopub.execute_input": "2020-12-10T12:49:08.784551Z",
     "iopub.status.busy": "2020-12-10T12:49:08.780550Z",
     "iopub.status.idle": "2020-12-10T12:49:08.844202Z",
     "shell.execute_reply": "2020-12-10T12:49:08.843448Z"
    },
    "papermill": {
     "duration": 0.340962,
     "end_time": "2020-12-10T12:49:08.844336",
     "exception": false,
     "start_time": "2020-12-10T12:49:08.503374",
     "status": "completed"
    },
    "tags": []
   },
   "outputs": [
    {
     "data": {
      "text/plain": [
       "0.7104277380695103"
      ]
     },
     "execution_count": 112,
     "metadata": {},
     "output_type": "execute_result"
    }
   ],
   "source": [
    "cross_val_score(model, X_train, y_train, cv = 10, scoring = \"r2\").mean()"
   ]
  },
  {
   "cell_type": "markdown",
   "metadata": {
    "papermill": {
     "duration": 0.279946,
     "end_time": "2020-12-10T12:49:10.574814",
     "exception": false,
     "start_time": "2020-12-10T12:49:10.294868",
     "status": "completed"
    },
    "tags": []
   },
   "source": [
    " ## <a id='25'> 10. KNN</a>"
   ]
  },
  {
   "cell_type": "code",
   "execution_count": 114,
   "metadata": {
    "execution": {
     "iopub.execute_input": "2020-12-10T12:49:11.139118Z",
     "iopub.status.busy": "2020-12-10T12:49:11.138113Z",
     "iopub.status.idle": "2020-12-10T12:49:11.141859Z",
     "shell.execute_reply": "2020-12-10T12:49:11.140861Z"
    },
    "papermill": {
     "duration": 0.29222,
     "end_time": "2020-12-10T12:49:11.141992",
     "exception": false,
     "start_time": "2020-12-10T12:49:10.849772",
     "status": "completed"
    },
    "tags": []
   },
   "outputs": [],
   "source": [
    "from sklearn.neighbors import KNeighborsRegressor"
   ]
  },
  {
   "cell_type": "code",
   "execution_count": 115,
   "metadata": {
    "execution": {
     "iopub.execute_input": "2020-12-10T12:49:11.712071Z",
     "iopub.status.busy": "2020-12-10T12:49:11.711253Z",
     "iopub.status.idle": "2020-12-10T12:49:11.718288Z",
     "shell.execute_reply": "2020-12-10T12:49:11.717498Z"
    },
    "papermill": {
     "duration": 0.305232,
     "end_time": "2020-12-10T12:49:11.718417",
     "exception": false,
     "start_time": "2020-12-10T12:49:11.413185",
     "status": "completed"
    },
    "tags": []
   },
   "outputs": [
    {
     "data": {
      "text/plain": [
       "KNeighborsRegressor()"
      ]
     },
     "execution_count": 115,
     "metadata": {},
     "output_type": "execute_result"
    }
   ],
   "source": [
    "knn_model = KNeighborsRegressor().fit(X_train, y_train)\n",
    "knn_model"
   ]
  },
  {
   "cell_type": "code",
   "execution_count": 116,
   "metadata": {
    "execution": {
     "iopub.execute_input": "2020-12-10T12:49:12.281962Z",
     "iopub.status.busy": "2020-12-10T12:49:12.281168Z",
     "iopub.status.idle": "2020-12-10T12:49:12.287112Z",
     "shell.execute_reply": "2020-12-10T12:49:12.286345Z"
    },
    "papermill": {
     "duration": 0.295159,
     "end_time": "2020-12-10T12:49:12.287238",
     "exception": false,
     "start_time": "2020-12-10T12:49:11.992079",
     "status": "completed"
    },
    "tags": []
   },
   "outputs": [],
   "source": [
    "y_pred = knn_model.predict(X_test)"
   ]
  },
  {
   "cell_type": "code",
   "execution_count": 117,
   "metadata": {
    "execution": {
     "iopub.execute_input": "2020-12-10T12:49:12.843442Z",
     "iopub.status.busy": "2020-12-10T12:49:12.842352Z",
     "iopub.status.idle": "2020-12-10T12:49:12.846709Z",
     "shell.execute_reply": "2020-12-10T12:49:12.846092Z"
    },
    "papermill": {
     "duration": 0.280521,
     "end_time": "2020-12-10T12:49:12.846832",
     "exception": false,
     "start_time": "2020-12-10T12:49:12.566311",
     "status": "completed"
    },
    "tags": []
   },
   "outputs": [
    {
     "data": {
      "text/plain": [
       "531.8744293154831"
      ]
     },
     "execution_count": 117,
     "metadata": {},
     "output_type": "execute_result"
    }
   ],
   "source": [
    "np.sqrt(mean_squared_error(y_test, y_pred))"
   ]
  },
  {
   "cell_type": "code",
   "execution_count": 118,
   "metadata": {
    "execution": {
     "iopub.execute_input": "2020-12-10T12:49:13.405264Z",
     "iopub.status.busy": "2020-12-10T12:49:13.404422Z",
     "iopub.status.idle": "2020-12-10T12:49:13.415969Z",
     "shell.execute_reply": "2020-12-10T12:49:13.415228Z"
    },
    "papermill": {
     "duration": 0.290035,
     "end_time": "2020-12-10T12:49:13.416093",
     "exception": false,
     "start_time": "2020-12-10T12:49:13.126058",
     "status": "completed"
    },
    "tags": []
   },
   "outputs": [
    {
     "data": {
      "text/plain": [
       "0.7721481467216845"
      ]
     },
     "execution_count": 118,
     "metadata": {},
     "output_type": "execute_result"
    }
   ],
   "source": [
    "knn_model.score(X_train, y_train)"
   ]
  },
  {
   "cell_type": "code",
   "execution_count": 119,
   "metadata": {
    "execution": {
     "iopub.execute_input": "2020-12-10T12:49:13.977814Z",
     "iopub.status.busy": "2020-12-10T12:49:13.977031Z",
     "iopub.status.idle": "2020-12-10T12:49:14.049519Z",
     "shell.execute_reply": "2020-12-10T12:49:14.048796Z"
    },
    "papermill": {
     "duration": 0.361283,
     "end_time": "2020-12-10T12:49:14.049663",
     "exception": false,
     "start_time": "2020-12-10T12:49:13.688380",
     "status": "completed"
    },
    "tags": []
   },
   "outputs": [
    {
     "data": {
      "text/plain": [
       "0.663838615287769"
      ]
     },
     "execution_count": 119,
     "metadata": {},
     "output_type": "execute_result"
    }
   ],
   "source": [
    "cross_val_score(knn_model, X_train, y_train, cv = 10, scoring = \"r2\").mean()"
   ]
  },
  {
   "cell_type": "markdown",
   "metadata": {
    "papermill": {
     "duration": 0.28636,
     "end_time": "2020-12-10T12:49:14.627906",
     "exception": false,
     "start_time": "2020-12-10T12:49:14.341546",
     "status": "completed"
    },
    "tags": []
   },
   "source": [
    "## Model Tuning"
   ]
  },
  {
   "cell_type": "code",
   "execution_count": 120,
   "metadata": {
    "execution": {
     "iopub.execute_input": "2020-12-10T12:49:15.182700Z",
     "iopub.status.busy": "2020-12-10T12:49:15.181720Z",
     "iopub.status.idle": "2020-12-10T12:49:15.184903Z",
     "shell.execute_reply": "2020-12-10T12:49:15.184154Z"
    },
    "papermill": {
     "duration": 0.281705,
     "end_time": "2020-12-10T12:49:15.185029",
     "exception": false,
     "start_time": "2020-12-10T12:49:14.903324",
     "status": "completed"
    },
    "tags": []
   },
   "outputs": [],
   "source": [
    "from sklearn.model_selection import GridSearchCV"
   ]
  },
  {
   "cell_type": "code",
   "execution_count": 121,
   "metadata": {
    "execution": {
     "iopub.execute_input": "2020-12-10T12:49:15.745178Z",
     "iopub.status.busy": "2020-12-10T12:49:15.744077Z",
     "iopub.status.idle": "2020-12-10T12:49:15.747535Z",
     "shell.execute_reply": "2020-12-10T12:49:15.746940Z"
    },
    "papermill": {
     "duration": 0.28079,
     "end_time": "2020-12-10T12:49:15.747683",
     "exception": false,
     "start_time": "2020-12-10T12:49:15.466893",
     "status": "completed"
    },
    "tags": []
   },
   "outputs": [],
   "source": [
    "knn_params = {'n_neighbors': np.arange(1,30,1)}"
   ]
  },
  {
   "cell_type": "code",
   "execution_count": 122,
   "metadata": {
    "execution": {
     "iopub.execute_input": "2020-12-10T12:49:16.304771Z",
     "iopub.status.busy": "2020-12-10T12:49:16.303959Z",
     "iopub.status.idle": "2020-12-10T12:49:16.307097Z",
     "shell.execute_reply": "2020-12-10T12:49:16.306369Z"
    },
    "papermill": {
     "duration": 0.282255,
     "end_time": "2020-12-10T12:49:16.307223",
     "exception": false,
     "start_time": "2020-12-10T12:49:16.024968",
     "status": "completed"
    },
    "tags": []
   },
   "outputs": [],
   "source": [
    "knn = KNeighborsRegressor()"
   ]
  },
  {
   "cell_type": "code",
   "execution_count": 123,
   "metadata": {
    "execution": {
     "iopub.execute_input": "2020-12-10T12:49:16.879523Z",
     "iopub.status.busy": "2020-12-10T12:49:16.878782Z",
     "iopub.status.idle": "2020-12-10T12:49:16.881161Z",
     "shell.execute_reply": "2020-12-10T12:49:16.881762Z"
    },
    "papermill": {
     "duration": 0.281035,
     "end_time": "2020-12-10T12:49:16.881920",
     "exception": false,
     "start_time": "2020-12-10T12:49:16.600885",
     "status": "completed"
    },
    "tags": []
   },
   "outputs": [],
   "source": [
    "knn_cv_model = GridSearchCV(knn, knn_params, cv = 10)"
   ]
  },
  {
   "cell_type": "code",
   "execution_count": 124,
   "metadata": {
    "execution": {
     "iopub.execute_input": "2020-12-10T12:49:17.438946Z",
     "iopub.status.busy": "2020-12-10T12:49:17.438176Z",
     "iopub.status.idle": "2020-12-10T12:49:19.789983Z",
     "shell.execute_reply": "2020-12-10T12:49:19.790517Z"
    },
    "papermill": {
     "duration": 2.633596,
     "end_time": "2020-12-10T12:49:19.790698",
     "exception": false,
     "start_time": "2020-12-10T12:49:17.157102",
     "status": "completed"
    },
    "tags": []
   },
   "outputs": [
    {
     "data": {
      "text/plain": [
       "GridSearchCV(cv=10, estimator=KNeighborsRegressor(),\n",
       "             param_grid={'n_neighbors': array([ 1,  2,  3,  4,  5,  6,  7,  8,  9, 10, 11, 12, 13, 14, 15, 16, 17,\n",
       "       18, 19, 20, 21, 22, 23, 24, 25, 26, 27, 28, 29])})"
      ]
     },
     "execution_count": 124,
     "metadata": {},
     "output_type": "execute_result"
    }
   ],
   "source": [
    "knn_cv_model.fit(X_train, y_train)"
   ]
  },
  {
   "cell_type": "code",
   "execution_count": 125,
   "metadata": {
    "execution": {
     "iopub.execute_input": "2020-12-10T12:49:20.346712Z",
     "iopub.status.busy": "2020-12-10T12:49:20.345787Z",
     "iopub.status.idle": "2020-12-10T12:49:20.350366Z",
     "shell.execute_reply": "2020-12-10T12:49:20.349753Z"
    },
    "papermill": {
     "duration": 0.285046,
     "end_time": "2020-12-10T12:49:20.350487",
     "exception": false,
     "start_time": "2020-12-10T12:49:20.065441",
     "status": "completed"
    },
    "tags": []
   },
   "outputs": [
    {
     "data": {
      "text/plain": [
       "8"
      ]
     },
     "execution_count": 125,
     "metadata": {},
     "output_type": "execute_result"
    }
   ],
   "source": [
    "knn_cv_model.best_params_[\"n_neighbors\"]"
   ]
  },
  {
   "cell_type": "code",
   "execution_count": 126,
   "metadata": {
    "execution": {
     "iopub.execute_input": "2020-12-10T12:49:20.948567Z",
     "iopub.status.busy": "2020-12-10T12:49:20.947314Z",
     "iopub.status.idle": "2020-12-10T12:49:20.950934Z",
     "shell.execute_reply": "2020-12-10T12:49:20.950191Z"
    },
    "papermill": {
     "duration": 0.285785,
     "end_time": "2020-12-10T12:49:20.951059",
     "exception": false,
     "start_time": "2020-12-10T12:49:20.665274",
     "status": "completed"
    },
    "tags": []
   },
   "outputs": [],
   "source": [
    "knn_tuned = KNeighborsRegressor(n_neighbors = knn_cv_model.best_params_[\"n_neighbors\"])"
   ]
  },
  {
   "cell_type": "code",
   "execution_count": 127,
   "metadata": {
    "execution": {
     "iopub.execute_input": "2020-12-10T12:49:21.518670Z",
     "iopub.status.busy": "2020-12-10T12:49:21.517677Z",
     "iopub.status.idle": "2020-12-10T12:49:21.522500Z",
     "shell.execute_reply": "2020-12-10T12:49:21.521694Z"
    },
    "papermill": {
     "duration": 0.290776,
     "end_time": "2020-12-10T12:49:21.522635",
     "exception": false,
     "start_time": "2020-12-10T12:49:21.231859",
     "status": "completed"
    },
    "tags": []
   },
   "outputs": [
    {
     "data": {
      "text/plain": [
       "KNeighborsRegressor(n_neighbors=8)"
      ]
     },
     "execution_count": 127,
     "metadata": {},
     "output_type": "execute_result"
    }
   ],
   "source": [
    "knn_tuned.fit(X_train, y_train)"
   ]
  },
  {
   "cell_type": "code",
   "execution_count": 128,
   "metadata": {
    "execution": {
     "iopub.execute_input": "2020-12-10T12:49:22.105912Z",
     "iopub.status.busy": "2020-12-10T12:49:22.104863Z",
     "iopub.status.idle": "2020-12-10T12:49:22.117147Z",
     "shell.execute_reply": "2020-12-10T12:49:22.117743Z"
    },
    "papermill": {
     "duration": 0.319497,
     "end_time": "2020-12-10T12:49:22.117919",
     "exception": false,
     "start_time": "2020-12-10T12:49:21.798422",
     "status": "completed"
    },
    "tags": []
   },
   "outputs": [
    {
     "data": {
      "text/plain": [
       "549.849206963748"
      ]
     },
     "execution_count": 128,
     "metadata": {},
     "output_type": "execute_result"
    }
   ],
   "source": [
    "np.sqrt(mean_squared_error(y_test, knn_tuned.predict(X_test)))"
   ]
  },
  {
   "cell_type": "code",
   "execution_count": 129,
   "metadata": {
    "execution": {
     "iopub.execute_input": "2020-12-10T12:49:22.685876Z",
     "iopub.status.busy": "2020-12-10T12:49:22.684867Z",
     "iopub.status.idle": "2020-12-10T12:49:22.699662Z",
     "shell.execute_reply": "2020-12-10T12:49:22.698859Z"
    },
    "papermill": {
     "duration": 0.299993,
     "end_time": "2020-12-10T12:49:22.699791",
     "exception": false,
     "start_time": "2020-12-10T12:49:22.399798",
     "status": "completed"
    },
    "tags": []
   },
   "outputs": [
    {
     "data": {
      "text/plain": [
       "0.7315846069952777"
      ]
     },
     "execution_count": 129,
     "metadata": {},
     "output_type": "execute_result"
    }
   ],
   "source": [
    "knn_tuned.score(X_train, y_train)"
   ]
  },
  {
   "cell_type": "markdown",
   "metadata": {
    "papermill": {
     "duration": 0.279881,
     "end_time": "2020-12-10T12:49:23.850832",
     "exception": false,
     "start_time": "2020-12-10T12:49:23.570951",
     "status": "completed"
    },
    "tags": []
   },
   "source": [
    " ## <a id='26'> 11.SVR</a>"
   ]
  },
  {
   "cell_type": "code",
   "execution_count": 131,
   "metadata": {
    "execution": {
     "iopub.execute_input": "2020-12-10T12:49:24.414133Z",
     "iopub.status.busy": "2020-12-10T12:49:24.413362Z",
     "iopub.status.idle": "2020-12-10T12:49:24.416417Z",
     "shell.execute_reply": "2020-12-10T12:49:24.415639Z"
    },
    "papermill": {
     "duration": 0.286543,
     "end_time": "2020-12-10T12:49:24.416538",
     "exception": false,
     "start_time": "2020-12-10T12:49:24.129995",
     "status": "completed"
    },
    "tags": []
   },
   "outputs": [],
   "source": [
    "from sklearn.svm import SVR"
   ]
  },
  {
   "cell_type": "code",
   "execution_count": 132,
   "metadata": {
    "execution": {
     "iopub.execute_input": "2020-12-10T12:49:24.988051Z",
     "iopub.status.busy": "2020-12-10T12:49:24.987235Z",
     "iopub.status.idle": "2020-12-10T12:49:25.019390Z",
     "shell.execute_reply": "2020-12-10T12:49:25.019995Z"
    },
    "papermill": {
     "duration": 0.31942,
     "end_time": "2020-12-10T12:49:25.020169",
     "exception": false,
     "start_time": "2020-12-10T12:49:24.700749",
     "status": "completed"
    },
    "tags": []
   },
   "outputs": [],
   "source": [
    "svr_model = SVR(\"linear\").fit(X_train, y_train)"
   ]
  },
  {
   "cell_type": "code",
   "execution_count": 133,
   "metadata": {
    "execution": {
     "iopub.execute_input": "2020-12-10T12:49:25.585365Z",
     "iopub.status.busy": "2020-12-10T12:49:25.584533Z",
     "iopub.status.idle": "2020-12-10T12:49:25.590269Z",
     "shell.execute_reply": "2020-12-10T12:49:25.589533Z"
    },
    "papermill": {
     "duration": 0.290663,
     "end_time": "2020-12-10T12:49:25.590393",
     "exception": false,
     "start_time": "2020-12-10T12:49:25.299730",
     "status": "completed"
    },
    "tags": []
   },
   "outputs": [],
   "source": [
    "y_pred = svr_model.predict(X_test)"
   ]
  },
  {
   "cell_type": "code",
   "execution_count": 134,
   "metadata": {
    "execution": {
     "iopub.execute_input": "2020-12-10T12:49:26.156686Z",
     "iopub.status.busy": "2020-12-10T12:49:26.155789Z",
     "iopub.status.idle": "2020-12-10T12:49:26.160303Z",
     "shell.execute_reply": "2020-12-10T12:49:26.159523Z"
    },
    "papermill": {
     "duration": 0.291392,
     "end_time": "2020-12-10T12:49:26.160439",
     "exception": false,
     "start_time": "2020-12-10T12:49:25.869047",
     "status": "completed"
    },
    "tags": []
   },
   "outputs": [
    {
     "data": {
      "text/plain": [
       "717.6822194656806"
      ]
     },
     "execution_count": 134,
     "metadata": {},
     "output_type": "execute_result"
    }
   ],
   "source": [
    "np.sqrt(mean_squared_error(y_test, y_pred))"
   ]
  },
  {
   "cell_type": "markdown",
   "metadata": {
    "papermill": {
     "duration": 0.276426,
     "end_time": "2020-12-10T12:49:26.717380",
     "exception": false,
     "start_time": "2020-12-10T12:49:26.440954",
     "status": "completed"
    },
    "tags": []
   },
   "source": [
    "## Model Tuning"
   ]
  },
  {
   "cell_type": "code",
   "execution_count": 135,
   "metadata": {
    "execution": {
     "iopub.execute_input": "2020-12-10T12:49:27.296103Z",
     "iopub.status.busy": "2020-12-10T12:49:27.292906Z",
     "iopub.status.idle": "2020-12-10T12:49:30.359857Z",
     "shell.execute_reply": "2020-12-10T12:49:30.359079Z"
    },
    "papermill": {
     "duration": 3.361495,
     "end_time": "2020-12-10T12:49:30.359995",
     "exception": false,
     "start_time": "2020-12-10T12:49:26.998500",
     "status": "completed"
    },
    "tags": []
   },
   "outputs": [
    {
     "data": {
      "text/plain": [
       "GridSearchCV(cv=10, estimator=SVR(kernel='linear'),\n",
       "             param_grid={'C': [0.01, 0.1, 0.4, 5, 10, 20, 30, 40, 50]})"
      ]
     },
     "execution_count": 135,
     "metadata": {},
     "output_type": "execute_result"
    }
   ],
   "source": [
    "svr_params = {\"C\": [0.01, 0.1,0.4,5,10,20,30,40,50]}\n",
    "svr_cv_model = GridSearchCV(svr_model,svr_params, cv = 10)\n",
    "svr_cv_model.fit(X_train, y_train)"
   ]
  },
  {
   "cell_type": "code",
   "execution_count": 136,
   "metadata": {
    "execution": {
     "iopub.execute_input": "2020-12-10T12:49:30.925831Z",
     "iopub.status.busy": "2020-12-10T12:49:30.924766Z",
     "iopub.status.idle": "2020-12-10T12:49:30.928266Z",
     "shell.execute_reply": "2020-12-10T12:49:30.928867Z"
    },
    "papermill": {
     "duration": 0.290567,
     "end_time": "2020-12-10T12:49:30.929034",
     "exception": false,
     "start_time": "2020-12-10T12:49:30.638467",
     "status": "completed"
    },
    "tags": []
   },
   "outputs": [
    {
     "data": {
      "text/plain": [
       "50"
      ]
     },
     "execution_count": 136,
     "metadata": {},
     "output_type": "execute_result"
    }
   ],
   "source": [
    "pd.Series(svr_cv_model.best_params_)[0]"
   ]
  },
  {
   "cell_type": "code",
   "execution_count": 137,
   "metadata": {
    "execution": {
     "iopub.execute_input": "2020-12-10T12:49:31.502254Z",
     "iopub.status.busy": "2020-12-10T12:49:31.501403Z",
     "iopub.status.idle": "2020-12-10T12:49:31.540725Z",
     "shell.execute_reply": "2020-12-10T12:49:31.540042Z"
    },
    "papermill": {
     "duration": 0.328366,
     "end_time": "2020-12-10T12:49:31.540853",
     "exception": false,
     "start_time": "2020-12-10T12:49:31.212487",
     "status": "completed"
    },
    "tags": []
   },
   "outputs": [],
   "source": [
    "svr_tuned = SVR(\"linear\", C = pd.Series(svr_cv_model.best_params_)[0]).fit(X_train, \n",
    "                                                                        y_train)    "
   ]
  },
  {
   "cell_type": "code",
   "execution_count": 138,
   "metadata": {
    "execution": {
     "iopub.execute_input": "2020-12-10T12:49:32.111176Z",
     "iopub.status.busy": "2020-12-10T12:49:32.110215Z",
     "iopub.status.idle": "2020-12-10T12:49:32.116690Z",
     "shell.execute_reply": "2020-12-10T12:49:32.116059Z"
    },
    "papermill": {
     "duration": 0.296268,
     "end_time": "2020-12-10T12:49:32.116825",
     "exception": false,
     "start_time": "2020-12-10T12:49:31.820557",
     "status": "completed"
    },
    "tags": []
   },
   "outputs": [],
   "source": [
    "y_pred = svr_tuned.predict(X_test)"
   ]
  },
  {
   "cell_type": "code",
   "execution_count": 139,
   "metadata": {
    "execution": {
     "iopub.execute_input": "2020-12-10T12:49:32.688985Z",
     "iopub.status.busy": "2020-12-10T12:49:32.687852Z",
     "iopub.status.idle": "2020-12-10T12:49:32.693067Z",
     "shell.execute_reply": "2020-12-10T12:49:32.692260Z"
    },
    "papermill": {
     "duration": 0.290213,
     "end_time": "2020-12-10T12:49:32.693198",
     "exception": false,
     "start_time": "2020-12-10T12:49:32.402985",
     "status": "completed"
    },
    "tags": []
   },
   "outputs": [
    {
     "data": {
      "text/plain": [
       "464.6177210328977"
      ]
     },
     "execution_count": 139,
     "metadata": {},
     "output_type": "execute_result"
    }
   ],
   "source": [
    "np.sqrt(mean_squared_error(y_test, y_pred))"
   ]
  },
  {
   "cell_type": "code",
   "execution_count": 140,
   "metadata": {
    "execution": {
     "iopub.execute_input": "2020-12-10T12:49:33.303321Z",
     "iopub.status.busy": "2020-12-10T12:49:33.302530Z",
     "iopub.status.idle": "2020-12-10T12:49:33.314260Z",
     "shell.execute_reply": "2020-12-10T12:49:33.313553Z"
    },
    "papermill": {
     "duration": 0.336811,
     "end_time": "2020-12-10T12:49:33.314385",
     "exception": false,
     "start_time": "2020-12-10T12:49:32.977574",
     "status": "completed"
    },
    "tags": []
   },
   "outputs": [
    {
     "data": {
      "text/plain": [
       "0.6501158983727147"
      ]
     },
     "execution_count": 140,
     "metadata": {},
     "output_type": "execute_result"
    }
   ],
   "source": [
    "svr_tuned.score(X_train, y_train)"
   ]
  },
  {
   "cell_type": "markdown",
   "metadata": {
    "papermill": {
     "duration": 0.287112,
     "end_time": "2020-12-10T12:49:34.559872",
     "exception": false,
     "start_time": "2020-12-10T12:49:34.272760",
     "status": "completed"
    },
    "tags": []
   },
   "source": [
    " ## <a id='27'> 12.Random Forests</a>"
   ]
  },
  {
   "cell_type": "code",
   "execution_count": 142,
   "metadata": {
    "execution": {
     "iopub.execute_input": "2020-12-10T12:49:35.144120Z",
     "iopub.status.busy": "2020-12-10T12:49:35.143137Z",
     "iopub.status.idle": "2020-12-10T12:49:35.204623Z",
     "shell.execute_reply": "2020-12-10T12:49:35.203871Z"
    },
    "papermill": {
     "duration": 0.354942,
     "end_time": "2020-12-10T12:49:35.204782",
     "exception": false,
     "start_time": "2020-12-10T12:49:34.849840",
     "status": "completed"
    },
    "tags": []
   },
   "outputs": [],
   "source": [
    "from sklearn.ensemble import RandomForestRegressor"
   ]
  },
  {
   "cell_type": "code",
   "execution_count": 143,
   "metadata": {
    "execution": {
     "iopub.execute_input": "2020-12-10T12:49:35.789414Z",
     "iopub.status.busy": "2020-12-10T12:49:35.788569Z",
     "iopub.status.idle": "2020-12-10T12:49:35.792169Z",
     "shell.execute_reply": "2020-12-10T12:49:35.791406Z"
    },
    "papermill": {
     "duration": 0.297618,
     "end_time": "2020-12-10T12:49:35.792294",
     "exception": false,
     "start_time": "2020-12-10T12:49:35.494676",
     "status": "completed"
    },
    "tags": []
   },
   "outputs": [],
   "source": [
    "rf_model = RandomForestRegressor(random_state = 42)"
   ]
  },
  {
   "cell_type": "code",
   "execution_count": 144,
   "metadata": {
    "execution": {
     "iopub.execute_input": "2020-12-10T12:49:36.447471Z",
     "iopub.status.busy": "2020-12-10T12:49:36.411281Z",
     "iopub.status.idle": "2020-12-10T12:49:36.725944Z",
     "shell.execute_reply": "2020-12-10T12:49:36.725130Z"
    },
    "papermill": {
     "duration": 0.647591,
     "end_time": "2020-12-10T12:49:36.726078",
     "exception": false,
     "start_time": "2020-12-10T12:49:36.078487",
     "status": "completed"
    },
    "tags": []
   },
   "outputs": [
    {
     "data": {
      "text/plain": [
       "RandomForestRegressor(random_state=42)"
      ]
     },
     "execution_count": 144,
     "metadata": {},
     "output_type": "execute_result"
    }
   ],
   "source": [
    "rf_model.fit(X_train, y_train)"
   ]
  },
  {
   "cell_type": "code",
   "execution_count": 145,
   "metadata": {
    "execution": {
     "iopub.execute_input": "2020-12-10T12:49:37.317565Z",
     "iopub.status.busy": "2020-12-10T12:49:37.316705Z",
     "iopub.status.idle": "2020-12-10T12:49:37.333344Z",
     "shell.execute_reply": "2020-12-10T12:49:37.332692Z"
    },
    "papermill": {
     "duration": 0.314601,
     "end_time": "2020-12-10T12:49:37.333513",
     "exception": false,
     "start_time": "2020-12-10T12:49:37.018912",
     "status": "completed"
    },
    "tags": []
   },
   "outputs": [],
   "source": [
    "y_pred = rf_model.predict(X_test)"
   ]
  },
  {
   "cell_type": "code",
   "execution_count": 146,
   "metadata": {
    "execution": {
     "iopub.execute_input": "2020-12-10T12:49:37.921367Z",
     "iopub.status.busy": "2020-12-10T12:49:37.920367Z",
     "iopub.status.idle": "2020-12-10T12:49:37.924458Z",
     "shell.execute_reply": "2020-12-10T12:49:37.925046Z"
    },
    "papermill": {
     "duration": 0.301851,
     "end_time": "2020-12-10T12:49:37.925203",
     "exception": false,
     "start_time": "2020-12-10T12:49:37.623352",
     "status": "completed"
    },
    "tags": []
   },
   "outputs": [
    {
     "data": {
      "text/plain": [
       "391.461706703997"
      ]
     },
     "execution_count": 146,
     "metadata": {},
     "output_type": "execute_result"
    }
   ],
   "source": [
    "np.sqrt(mean_squared_error(y_test, y_pred))"
   ]
  },
  {
   "cell_type": "markdown",
   "metadata": {
    "papermill": {
     "duration": 0.289603,
     "end_time": "2020-12-10T12:49:38.505492",
     "exception": false,
     "start_time": "2020-12-10T12:49:38.215889",
     "status": "completed"
    },
    "tags": []
   },
   "source": [
    "## Model Tuning"
   ]
  },
  {
   "cell_type": "code",
   "execution_count": 147,
   "metadata": {
    "execution": {
     "iopub.execute_input": "2020-12-10T12:49:39.095846Z",
     "iopub.status.busy": "2020-12-10T12:49:39.094673Z",
     "iopub.status.idle": "2020-12-10T12:49:39.098401Z",
     "shell.execute_reply": "2020-12-10T12:49:39.097639Z"
    },
    "papermill": {
     "duration": 0.303383,
     "end_time": "2020-12-10T12:49:39.098525",
     "exception": false,
     "start_time": "2020-12-10T12:49:38.795142",
     "status": "completed"
    },
    "tags": []
   },
   "outputs": [],
   "source": [
    "rf_params = {'max_depth': list(range(1,10)),\n",
    "            'max_features': [3,5,10,15],\n",
    "            'n_estimators' : [100, 200, 500, 1000]}"
   ]
  },
  {
   "cell_type": "code",
   "execution_count": 148,
   "metadata": {
    "execution": {
     "iopub.execute_input": "2020-12-10T12:49:39.687744Z",
     "iopub.status.busy": "2020-12-10T12:49:39.686868Z",
     "iopub.status.idle": "2020-12-10T12:49:39.689350Z",
     "shell.execute_reply": "2020-12-10T12:49:39.690026Z"
    },
    "papermill": {
     "duration": 0.298583,
     "end_time": "2020-12-10T12:49:39.690189",
     "exception": false,
     "start_time": "2020-12-10T12:49:39.391606",
     "status": "completed"
    },
    "tags": []
   },
   "outputs": [],
   "source": [
    "rf_model = RandomForestRegressor(random_state = 42)"
   ]
  },
  {
   "cell_type": "code",
   "execution_count": 149,
   "metadata": {
    "execution": {
     "iopub.execute_input": "2020-12-10T12:49:40.276454Z",
     "iopub.status.busy": "2020-12-10T12:49:40.275612Z",
     "iopub.status.idle": "2020-12-10T12:49:40.278683Z",
     "shell.execute_reply": "2020-12-10T12:49:40.277939Z"
    },
    "papermill": {
     "duration": 0.298118,
     "end_time": "2020-12-10T12:49:40.278811",
     "exception": false,
     "start_time": "2020-12-10T12:49:39.980693",
     "status": "completed"
    },
    "tags": []
   },
   "outputs": [],
   "source": [
    "rf_cv_model = GridSearchCV(rf_model, \n",
    "                           rf_params, \n",
    "                           cv = 10, \n",
    "                            n_jobs = -1,\n",
    "                          verbose = 2)"
   ]
  },
  {
   "cell_type": "code",
   "execution_count": 150,
   "metadata": {
    "execution": {
     "iopub.execute_input": "2020-12-10T12:49:40.897481Z",
     "iopub.status.busy": "2020-12-10T12:49:40.896697Z",
     "iopub.status.idle": "2020-12-10T12:55:56.459814Z",
     "shell.execute_reply": "2020-12-10T12:55:56.459129Z"
    },
    "papermill": {
     "duration": 375.855064,
     "end_time": "2020-12-10T12:55:56.459953",
     "exception": false,
     "start_time": "2020-12-10T12:49:40.604889",
     "status": "completed"
    },
    "tags": []
   },
   "outputs": [
    {
     "name": "stdout",
     "output_type": "stream",
     "text": [
      "Fitting 10 folds for each of 144 candidates, totalling 1440 fits\n"
     ]
    },
    {
     "name": "stderr",
     "output_type": "stream",
     "text": [
      "[Parallel(n_jobs=-1)]: Using backend LokyBackend with 4 concurrent workers.\n",
      "[Parallel(n_jobs=-1)]: Done  33 tasks      | elapsed:   11.7s\n",
      "[Parallel(n_jobs=-1)]: Done 154 tasks      | elapsed:   38.9s\n",
      "[Parallel(n_jobs=-1)]: Done 357 tasks      | elapsed:  1.5min\n",
      "[Parallel(n_jobs=-1)]: Done 640 tasks      | elapsed:  2.6min\n",
      "[Parallel(n_jobs=-1)]: Done 1005 tasks      | elapsed:  4.3min\n",
      "[Parallel(n_jobs=-1)]: Done 1440 out of 1440 | elapsed:  6.3min finished\n"
     ]
    },
    {
     "data": {
      "text/plain": [
       "GridSearchCV(cv=10, estimator=RandomForestRegressor(random_state=42), n_jobs=-1,\n",
       "             param_grid={'max_depth': [1, 2, 3, 4, 5, 6, 7, 8, 9],\n",
       "                         'max_features': [3, 5, 10, 15],\n",
       "                         'n_estimators': [100, 200, 500, 1000]},\n",
       "             verbose=2)"
      ]
     },
     "execution_count": 150,
     "metadata": {},
     "output_type": "execute_result"
    }
   ],
   "source": [
    "rf_cv_model.fit(X_train, y_train)"
   ]
  },
  {
   "cell_type": "code",
   "execution_count": 151,
   "metadata": {
    "execution": {
     "iopub.execute_input": "2020-12-10T12:55:57.067895Z",
     "iopub.status.busy": "2020-12-10T12:55:57.066751Z",
     "iopub.status.idle": "2020-12-10T12:55:57.071795Z",
     "shell.execute_reply": "2020-12-10T12:55:57.070830Z"
    },
    "papermill": {
     "duration": 0.311808,
     "end_time": "2020-12-10T12:55:57.071966",
     "exception": false,
     "start_time": "2020-12-10T12:55:56.760158",
     "status": "completed"
    },
    "tags": []
   },
   "outputs": [
    {
     "data": {
      "text/plain": [
       "{'max_depth': 9, 'max_features': 5, 'n_estimators': 100}"
      ]
     },
     "execution_count": 151,
     "metadata": {},
     "output_type": "execute_result"
    }
   ],
   "source": [
    "rf_cv_model.best_params_"
   ]
  },
  {
   "cell_type": "code",
   "execution_count": 152,
   "metadata": {
    "execution": {
     "iopub.execute_input": "2020-12-10T12:55:57.688279Z",
     "iopub.status.busy": "2020-12-10T12:55:57.687037Z",
     "iopub.status.idle": "2020-12-10T12:55:57.690674Z",
     "shell.execute_reply": "2020-12-10T12:55:57.689501Z"
    },
    "papermill": {
     "duration": 0.308262,
     "end_time": "2020-12-10T12:55:57.690864",
     "exception": false,
     "start_time": "2020-12-10T12:55:57.382602",
     "status": "completed"
    },
    "tags": []
   },
   "outputs": [],
   "source": [
    "rf_tuned = RandomForestRegressor(max_depth  = 9, \n",
    "                                 max_features = 5, \n",
    "                                 n_estimators =100)"
   ]
  },
  {
   "cell_type": "code",
   "execution_count": 153,
   "metadata": {
    "execution": {
     "iopub.execute_input": "2020-12-10T12:55:58.368698Z",
     "iopub.status.busy": "2020-12-10T12:55:58.363456Z",
     "iopub.status.idle": "2020-12-10T12:55:58.621020Z",
     "shell.execute_reply": "2020-12-10T12:55:58.619985Z"
    },
    "papermill": {
     "duration": 0.621109,
     "end_time": "2020-12-10T12:55:58.621194",
     "exception": false,
     "start_time": "2020-12-10T12:55:58.000085",
     "status": "completed"
    },
    "tags": []
   },
   "outputs": [
    {
     "data": {
      "text/plain": [
       "RandomForestRegressor(max_depth=9, max_features=5)"
      ]
     },
     "execution_count": 153,
     "metadata": {},
     "output_type": "execute_result"
    }
   ],
   "source": [
    "rf_tuned.fit(X_train, y_train)"
   ]
  },
  {
   "cell_type": "code",
   "execution_count": 154,
   "metadata": {
    "execution": {
     "iopub.execute_input": "2020-12-10T12:55:59.285574Z",
     "iopub.status.busy": "2020-12-10T12:55:59.284710Z",
     "iopub.status.idle": "2020-12-10T12:55:59.305212Z",
     "shell.execute_reply": "2020-12-10T12:55:59.304407Z"
    },
    "papermill": {
     "duration": 0.337873,
     "end_time": "2020-12-10T12:55:59.305339",
     "exception": false,
     "start_time": "2020-12-10T12:55:58.967466",
     "status": "completed"
    },
    "tags": []
   },
   "outputs": [],
   "source": [
    "y_pred = rf_tuned.predict(X_test)"
   ]
  },
  {
   "cell_type": "code",
   "execution_count": 155,
   "metadata": {
    "execution": {
     "iopub.execute_input": "2020-12-10T12:55:59.922957Z",
     "iopub.status.busy": "2020-12-10T12:55:59.921837Z",
     "iopub.status.idle": "2020-12-10T12:55:59.926389Z",
     "shell.execute_reply": "2020-12-10T12:55:59.927007Z"
    },
    "papermill": {
     "duration": 0.315957,
     "end_time": "2020-12-10T12:55:59.927163",
     "exception": false,
     "start_time": "2020-12-10T12:55:59.611206",
     "status": "completed"
    },
    "tags": []
   },
   "outputs": [
    {
     "data": {
      "text/plain": [
       "348.9892859688549"
      ]
     },
     "execution_count": 155,
     "metadata": {},
     "output_type": "execute_result"
    }
   ],
   "source": [
    "np.sqrt(mean_squared_error(y_test, y_pred))"
   ]
  },
  {
   "cell_type": "code",
   "execution_count": 156,
   "metadata": {
    "execution": {
     "iopub.execute_input": "2020-12-10T12:56:00.548270Z",
     "iopub.status.busy": "2020-12-10T12:56:00.547366Z",
     "iopub.status.idle": "2020-12-10T12:56:00.574641Z",
     "shell.execute_reply": "2020-12-10T12:56:00.573991Z"
    },
    "papermill": {
     "duration": 0.337456,
     "end_time": "2020-12-10T12:56:00.574804",
     "exception": false,
     "start_time": "2020-12-10T12:56:00.237348",
     "status": "completed"
    },
    "tags": []
   },
   "outputs": [
    {
     "data": {
      "text/plain": [
       "0.9520675252577784"
      ]
     },
     "execution_count": 156,
     "metadata": {},
     "output_type": "execute_result"
    }
   ],
   "source": [
    "rf_tuned.score(X_train, y_train)"
   ]
  },
  {
   "cell_type": "code",
   "execution_count": null,
   "metadata": {},
   "outputs": [],
   "source": []
  }
 ],
 "metadata": {
  "kernelspec": {
   "display_name": "Python 3",
   "language": "python",
   "name": "python3"
  },
  "language_info": {
   "codemirror_mode": {
    "name": "ipython",
    "version": 3
   },
   "file_extension": ".py",
   "mimetype": "text/x-python",
   "name": "python",
   "nbconvert_exporter": "python",
   "pygments_lexer": "ipython3",
   "version": "3.6.10"
  },
  "papermill": {
   "duration": 530.034039,
   "end_time": "2020-12-10T12:56:23.266384",
   "environment_variables": {},
   "exception": null,
   "input_path": "__notebook__.ipynb",
   "output_path": "__notebook__.ipynb",
   "parameters": {},
   "start_time": "2020-12-10T12:47:33.232345",
   "version": "2.1.0"
  }
 },
 "nbformat": 4,
 "nbformat_minor": 4
}
