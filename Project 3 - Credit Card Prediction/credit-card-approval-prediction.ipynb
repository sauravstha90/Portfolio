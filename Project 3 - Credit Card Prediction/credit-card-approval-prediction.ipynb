{
 "cells": [
  {
   "cell_type": "markdown",
   "metadata": {
    "papermill": {
     "duration": 0.107397,
     "end_time": "2021-06-05T10:44:28.990265",
     "exception": false,
     "start_time": "2021-06-05T10:44:28.882868",
     "status": "completed"
    },
    "tags": []
   },
   "source": [
    "# Credit Card Approval Prediction\n",
    "\n",
    "**Problem Statment**\n",
    "\n",
    "A Bank wants to automate the Credit Card eligibility process based on customer detail provided while filling online application form & Credit history of customer.\n",
    "\n",
    "They have given a problem to identify the customers segments which are eligible for Credit Card approval, so that they can specifically target these customers.\n",
    "\n",
    "The decision of approving a credit card or loan is majorly dependent on the personal and financial background of the applicant. Factors like, age, gender, income, employment status, credit history and other attributes all carry weight in the approval decision. Credit analysis involves the measure to investigate the probability of a third-party to pay back the loan to the bank on time and predict its default characteristic. Analysis focus on recognizing, assessing, and reducing the financial or other risks that could lead to loss involved in the transaction. \n",
    "\n",
    "There are two basic risks: one is a business loss that results from not approving the good candidate, and the other is the financial loss that results from by approving the candidate who is at bad risk. It is very important to manage credit risk and handle challenges efficiently for credit decision as it can have adverse effects on credit management. Therefore, evaluation of credit approval is significant before jumping to any granting decision.\n"
   ]
  },
  {
   "cell_type": "markdown",
   "metadata": {
    "papermill": {
     "duration": 0.100971,
     "end_time": "2021-06-05T10:44:29.396838",
     "exception": false,
     "start_time": "2021-06-05T10:44:29.295867",
     "status": "completed"
    },
    "tags": []
   },
   "source": [
    "### Content & Explanation\n",
    "\n",
    "###### File - Application Record.csv\n",
    "\n",
    "|Feature name|Explanation|\n",
    "|:--|:--|\n",
    "|ID|Client number|\n",
    "|CODE_GENDER|Gender|\n",
    "|FLAG_OWN_CAR|Is there a car|\n",
    "|FLAG_OWN_REALTY|Is there a property|\n",
    "|CNT_CHILDREN|Number of children|\n",
    "|AMT_INCOME_TOTAL|Annual income|\n",
    "|NAME_INCOME_TYPE|Income category|\n",
    "|NAME_EDUCATION_TYPE|Education level|\n",
    "|NAME_FAMILY_STATUS|Marital status|\n",
    "|NAME_HOUSING_TYPE|Way of living|\n",
    "|DAYS_BIRTH|Birthday|\n",
    "|DAYS_EMPLOYED|Start date of employment|\n",
    "|FLAG_MOBIL|Is there a mobile phone|\n",
    "|FLAG_WORK_PHONE|Is there a work phone|\n",
    "|FLAG_PHONE|Is there a phone|\n",
    "|FLAG_EMAIL|Is there an email|\n",
    "|OCCUPATION_TYPE|Occupation|\n",
    "|CNT_FAM_MEMBERS|Family size|\n",
    "\n",
    "\n",
    "* Note -                                                                                                                       \n",
    "DAYS_BIRTH ---> Count backwards from current day (0), -1 means yesterday                                                       \n",
    "DAYS_EMPLOYED ---> Count backwards from current day(0). If positive, it means the person currently unemployed."
   ]
  },
  {
   "cell_type": "markdown",
   "metadata": {
    "papermill": {
     "duration": 0.101221,
     "end_time": "2021-06-05T10:44:29.598162",
     "exception": false,
     "start_time": "2021-06-05T10:44:29.496941",
     "status": "completed"
    },
    "tags": []
   },
   "source": [
    "###### File - Credit Record.csv\n",
    "\n",
    "|Feature name|Explanation|\n",
    "|:--|:--|\n",
    "|ID|Client number|\n",
    "|MONTHS_BALANCE|Record month|\n",
    "|STATUS|Status|\n",
    "\n",
    "ID: The joining key between application data and credit status data\n",
    "\n",
    "MONTHS_BALANCE: The month of the extracted data is the starting point with 0 is the current month, -1 is the previous month, and so on\n",
    "\n",
    "STATUS: Status of the credit card account.\n",
    "\n",
    "- 0: 1-29 days past due\n",
    "- 1: 30-59 days past due\n",
    "- 2: 60-89 days overdue\n",
    "- 3: 90-119 days overdue\n",
    "- 4: 120-149 days overdue\n",
    "- 5: Overdue or bad debts, write-offs for more than 150 days\n",
    "- C: paid off that month\n",
    "- X: No loan for the month\n",
    "\n",
    "We may want to see the accounts by the MONTHS_BALANCE. Ideally, it would have been useful to get the application date or month. And the status value for each month post credit card open month. So, the credit behavior of the applicants across the application months can be compared."
   ]
  },
  {
   "cell_type": "markdown",
   "metadata": {
    "papermill": {
     "duration": 0.100131,
     "end_time": "2021-06-05T10:44:29.798621",
     "exception": false,
     "start_time": "2021-06-05T10:44:29.698490",
     "status": "completed"
    },
    "tags": []
   },
   "source": [
    "### Loading Data"
   ]
  },
  {
   "cell_type": "code",
   "execution_count": 1,
   "metadata": {
    "execution": {
     "iopub.execute_input": "2021-06-05T10:44:30.013742Z",
     "iopub.status.busy": "2021-06-05T10:44:30.013108Z",
     "iopub.status.idle": "2021-06-05T10:44:30.797620Z",
     "shell.execute_reply": "2021-06-05T10:44:30.796837Z",
     "shell.execute_reply.started": "2021-06-05T10:38:47.030080Z"
    },
    "papermill": {
     "duration": 0.898014,
     "end_time": "2021-06-05T10:44:30.797791",
     "exception": false,
     "start_time": "2021-06-05T10:44:29.899777",
     "status": "completed"
    },
    "tags": []
   },
   "outputs": [],
   "source": [
    "import numpy as np\n",
    "import pandas as pd\n",
    "import matplotlib.pyplot as plt\n",
    "%matplotlib inline\n",
    "import seaborn as sns\n",
    "\n",
    "import warnings\n",
    "warnings.filterwarnings('ignore')"
   ]
  },
  {
   "cell_type": "code",
   "execution_count": 2,
   "metadata": {
    "execution": {
     "iopub.execute_input": "2021-06-05T10:44:31.252816Z",
     "iopub.status.busy": "2021-06-05T10:44:31.252074Z",
     "iopub.status.idle": "2021-06-05T10:44:32.747929Z",
     "shell.execute_reply": "2021-06-05T10:44:32.747355Z",
     "shell.execute_reply.started": "2021-06-05T10:38:47.383276Z"
    },
    "papermill": {
     "duration": 1.601623,
     "end_time": "2021-06-05T10:44:32.748070",
     "exception": false,
     "start_time": "2021-06-05T10:44:31.146447",
     "status": "completed"
    },
    "tags": []
   },
   "outputs": [
    {
     "data": {
      "text/html": [
       "<div>\n",
       "<style scoped>\n",
       "    .dataframe tbody tr th:only-of-type {\n",
       "        vertical-align: middle;\n",
       "    }\n",
       "\n",
       "    .dataframe tbody tr th {\n",
       "        vertical-align: top;\n",
       "    }\n",
       "\n",
       "    .dataframe thead th {\n",
       "        text-align: right;\n",
       "    }\n",
       "</style>\n",
       "<table border=\"1\" class=\"dataframe\">\n",
       "  <thead>\n",
       "    <tr style=\"text-align: right;\">\n",
       "      <th></th>\n",
       "      <th>ID</th>\n",
       "      <th>CODE_GENDER</th>\n",
       "      <th>FLAG_OWN_CAR</th>\n",
       "      <th>FLAG_OWN_REALTY</th>\n",
       "      <th>CNT_CHILDREN</th>\n",
       "      <th>AMT_INCOME_TOTAL</th>\n",
       "      <th>NAME_INCOME_TYPE</th>\n",
       "      <th>NAME_EDUCATION_TYPE</th>\n",
       "      <th>NAME_FAMILY_STATUS</th>\n",
       "      <th>NAME_HOUSING_TYPE</th>\n",
       "      <th>DAYS_BIRTH</th>\n",
       "      <th>DAYS_EMPLOYED</th>\n",
       "      <th>FLAG_MOBIL</th>\n",
       "      <th>FLAG_WORK_PHONE</th>\n",
       "      <th>FLAG_PHONE</th>\n",
       "      <th>FLAG_EMAIL</th>\n",
       "      <th>OCCUPATION_TYPE</th>\n",
       "      <th>CNT_FAM_MEMBERS</th>\n",
       "    </tr>\n",
       "  </thead>\n",
       "  <tbody>\n",
       "    <tr>\n",
       "      <th>0</th>\n",
       "      <td>5008804</td>\n",
       "      <td>M</td>\n",
       "      <td>Y</td>\n",
       "      <td>Y</td>\n",
       "      <td>0</td>\n",
       "      <td>427500.0</td>\n",
       "      <td>Working</td>\n",
       "      <td>Higher education</td>\n",
       "      <td>Civil marriage</td>\n",
       "      <td>Rented apartment</td>\n",
       "      <td>-12005</td>\n",
       "      <td>-4542</td>\n",
       "      <td>1</td>\n",
       "      <td>1</td>\n",
       "      <td>0</td>\n",
       "      <td>0</td>\n",
       "      <td>NaN</td>\n",
       "      <td>2.0</td>\n",
       "    </tr>\n",
       "    <tr>\n",
       "      <th>1</th>\n",
       "      <td>5008805</td>\n",
       "      <td>M</td>\n",
       "      <td>Y</td>\n",
       "      <td>Y</td>\n",
       "      <td>0</td>\n",
       "      <td>427500.0</td>\n",
       "      <td>Working</td>\n",
       "      <td>Higher education</td>\n",
       "      <td>Civil marriage</td>\n",
       "      <td>Rented apartment</td>\n",
       "      <td>-12005</td>\n",
       "      <td>-4542</td>\n",
       "      <td>1</td>\n",
       "      <td>1</td>\n",
       "      <td>0</td>\n",
       "      <td>0</td>\n",
       "      <td>NaN</td>\n",
       "      <td>2.0</td>\n",
       "    </tr>\n",
       "    <tr>\n",
       "      <th>2</th>\n",
       "      <td>5008806</td>\n",
       "      <td>M</td>\n",
       "      <td>Y</td>\n",
       "      <td>Y</td>\n",
       "      <td>0</td>\n",
       "      <td>112500.0</td>\n",
       "      <td>Working</td>\n",
       "      <td>Secondary / secondary special</td>\n",
       "      <td>Married</td>\n",
       "      <td>House / apartment</td>\n",
       "      <td>-21474</td>\n",
       "      <td>-1134</td>\n",
       "      <td>1</td>\n",
       "      <td>0</td>\n",
       "      <td>0</td>\n",
       "      <td>0</td>\n",
       "      <td>Security staff</td>\n",
       "      <td>2.0</td>\n",
       "    </tr>\n",
       "    <tr>\n",
       "      <th>3</th>\n",
       "      <td>5008808</td>\n",
       "      <td>F</td>\n",
       "      <td>N</td>\n",
       "      <td>Y</td>\n",
       "      <td>0</td>\n",
       "      <td>270000.0</td>\n",
       "      <td>Commercial associate</td>\n",
       "      <td>Secondary / secondary special</td>\n",
       "      <td>Single / not married</td>\n",
       "      <td>House / apartment</td>\n",
       "      <td>-19110</td>\n",
       "      <td>-3051</td>\n",
       "      <td>1</td>\n",
       "      <td>0</td>\n",
       "      <td>1</td>\n",
       "      <td>1</td>\n",
       "      <td>Sales staff</td>\n",
       "      <td>1.0</td>\n",
       "    </tr>\n",
       "    <tr>\n",
       "      <th>4</th>\n",
       "      <td>5008809</td>\n",
       "      <td>F</td>\n",
       "      <td>N</td>\n",
       "      <td>Y</td>\n",
       "      <td>0</td>\n",
       "      <td>270000.0</td>\n",
       "      <td>Commercial associate</td>\n",
       "      <td>Secondary / secondary special</td>\n",
       "      <td>Single / not married</td>\n",
       "      <td>House / apartment</td>\n",
       "      <td>-19110</td>\n",
       "      <td>-3051</td>\n",
       "      <td>1</td>\n",
       "      <td>0</td>\n",
       "      <td>1</td>\n",
       "      <td>1</td>\n",
       "      <td>Sales staff</td>\n",
       "      <td>1.0</td>\n",
       "    </tr>\n",
       "  </tbody>\n",
       "</table>\n",
       "</div>"
      ],
      "text/plain": [
       "        ID CODE_GENDER FLAG_OWN_CAR FLAG_OWN_REALTY  CNT_CHILDREN  \\\n",
       "0  5008804           M            Y               Y             0   \n",
       "1  5008805           M            Y               Y             0   \n",
       "2  5008806           M            Y               Y             0   \n",
       "3  5008808           F            N               Y             0   \n",
       "4  5008809           F            N               Y             0   \n",
       "\n",
       "   AMT_INCOME_TOTAL      NAME_INCOME_TYPE            NAME_EDUCATION_TYPE  \\\n",
       "0          427500.0               Working               Higher education   \n",
       "1          427500.0               Working               Higher education   \n",
       "2          112500.0               Working  Secondary / secondary special   \n",
       "3          270000.0  Commercial associate  Secondary / secondary special   \n",
       "4          270000.0  Commercial associate  Secondary / secondary special   \n",
       "\n",
       "     NAME_FAMILY_STATUS  NAME_HOUSING_TYPE  DAYS_BIRTH  DAYS_EMPLOYED  \\\n",
       "0        Civil marriage   Rented apartment      -12005          -4542   \n",
       "1        Civil marriage   Rented apartment      -12005          -4542   \n",
       "2               Married  House / apartment      -21474          -1134   \n",
       "3  Single / not married  House / apartment      -19110          -3051   \n",
       "4  Single / not married  House / apartment      -19110          -3051   \n",
       "\n",
       "   FLAG_MOBIL  FLAG_WORK_PHONE  FLAG_PHONE  FLAG_EMAIL OCCUPATION_TYPE  \\\n",
       "0           1                1           0           0             NaN   \n",
       "1           1                1           0           0             NaN   \n",
       "2           1                0           0           0  Security staff   \n",
       "3           1                0           1           1     Sales staff   \n",
       "4           1                0           1           1     Sales staff   \n",
       "\n",
       "   CNT_FAM_MEMBERS  \n",
       "0              2.0  \n",
       "1              2.0  \n",
       "2              2.0  \n",
       "3              1.0  \n",
       "4              1.0  "
      ]
     },
     "execution_count": 2,
     "metadata": {},
     "output_type": "execute_result"
    }
   ],
   "source": [
    "app_df = pd.read_csv(\"application_record.csv\")\n",
    "app_df.head()"
   ]
  },
  {
   "cell_type": "code",
   "execution_count": 3,
   "metadata": {
    "execution": {
     "iopub.execute_input": "2021-06-05T10:44:32.963554Z",
     "iopub.status.busy": "2021-06-05T10:44:32.962653Z",
     "iopub.status.idle": "2021-06-05T10:44:32.966916Z",
     "shell.execute_reply": "2021-06-05T10:44:32.966433Z",
     "shell.execute_reply.started": "2021-06-05T10:38:48.426063Z"
    },
    "papermill": {
     "duration": 0.114448,
     "end_time": "2021-06-05T10:44:32.967178",
     "exception": false,
     "start_time": "2021-06-05T10:44:32.852730",
     "status": "completed"
    },
    "tags": []
   },
   "outputs": [
    {
     "data": {
      "text/plain": [
       "(438557, 18)"
      ]
     },
     "execution_count": 3,
     "metadata": {},
     "output_type": "execute_result"
    }
   ],
   "source": [
    "app_df.shape"
   ]
  },
  {
   "cell_type": "code",
   "execution_count": 4,
   "metadata": {
    "execution": {
     "iopub.execute_input": "2021-06-05T10:44:33.186421Z",
     "iopub.status.busy": "2021-06-05T10:44:33.185262Z",
     "iopub.status.idle": "2021-06-05T10:44:33.521923Z",
     "shell.execute_reply": "2021-06-05T10:44:33.521391Z",
     "shell.execute_reply.started": "2021-06-05T10:38:48.433817Z"
    },
    "papermill": {
     "duration": 0.447676,
     "end_time": "2021-06-05T10:44:33.522075",
     "exception": false,
     "start_time": "2021-06-05T10:44:33.074399",
     "status": "completed"
    },
    "tags": []
   },
   "outputs": [
    {
     "name": "stdout",
     "output_type": "stream",
     "text": [
      "<class 'pandas.core.frame.DataFrame'>\n",
      "RangeIndex: 438557 entries, 0 to 438556\n",
      "Data columns (total 18 columns):\n",
      " #   Column               Non-Null Count   Dtype  \n",
      "---  ------               --------------   -----  \n",
      " 0   ID                   438557 non-null  int64  \n",
      " 1   CODE_GENDER          438557 non-null  object \n",
      " 2   FLAG_OWN_CAR         438557 non-null  object \n",
      " 3   FLAG_OWN_REALTY      438557 non-null  object \n",
      " 4   CNT_CHILDREN         438557 non-null  int64  \n",
      " 5   AMT_INCOME_TOTAL     438557 non-null  float64\n",
      " 6   NAME_INCOME_TYPE     438557 non-null  object \n",
      " 7   NAME_EDUCATION_TYPE  438557 non-null  object \n",
      " 8   NAME_FAMILY_STATUS   438557 non-null  object \n",
      " 9   NAME_HOUSING_TYPE    438557 non-null  object \n",
      " 10  DAYS_BIRTH           438557 non-null  int64  \n",
      " 11  DAYS_EMPLOYED        438557 non-null  int64  \n",
      " 12  FLAG_MOBIL           438557 non-null  int64  \n",
      " 13  FLAG_WORK_PHONE      438557 non-null  int64  \n",
      " 14  FLAG_PHONE           438557 non-null  int64  \n",
      " 15  FLAG_EMAIL           438557 non-null  int64  \n",
      " 16  OCCUPATION_TYPE      304354 non-null  object \n",
      " 17  CNT_FAM_MEMBERS      438557 non-null  float64\n",
      "dtypes: float64(2), int64(8), object(8)\n",
      "memory usage: 60.2+ MB\n"
     ]
    }
   ],
   "source": [
    "app_df.info()"
   ]
  },
  {
   "cell_type": "code",
   "execution_count": 5,
   "metadata": {
    "execution": {
     "iopub.execute_input": "2021-06-05T10:44:33.740200Z",
     "iopub.status.busy": "2021-06-05T10:44:33.739576Z",
     "iopub.status.idle": "2021-06-05T10:44:34.184979Z",
     "shell.execute_reply": "2021-06-05T10:44:34.185806Z",
     "shell.execute_reply.started": "2021-06-05T10:38:48.770064Z"
    },
    "papermill": {
     "duration": 0.556501,
     "end_time": "2021-06-05T10:44:34.185988",
     "exception": false,
     "start_time": "2021-06-05T10:44:33.629487",
     "status": "completed"
    },
    "tags": []
   },
   "outputs": [
    {
     "data": {
      "text/html": [
       "<div>\n",
       "<style scoped>\n",
       "    .dataframe tbody tr th:only-of-type {\n",
       "        vertical-align: middle;\n",
       "    }\n",
       "\n",
       "    .dataframe tbody tr th {\n",
       "        vertical-align: top;\n",
       "    }\n",
       "\n",
       "    .dataframe thead th {\n",
       "        text-align: right;\n",
       "    }\n",
       "</style>\n",
       "<table border=\"1\" class=\"dataframe\">\n",
       "  <thead>\n",
       "    <tr style=\"text-align: right;\">\n",
       "      <th></th>\n",
       "      <th>ID</th>\n",
       "      <th>MONTHS_BALANCE</th>\n",
       "      <th>STATUS</th>\n",
       "    </tr>\n",
       "  </thead>\n",
       "  <tbody>\n",
       "    <tr>\n",
       "      <th>0</th>\n",
       "      <td>5001711</td>\n",
       "      <td>0</td>\n",
       "      <td>X</td>\n",
       "    </tr>\n",
       "    <tr>\n",
       "      <th>1</th>\n",
       "      <td>5001711</td>\n",
       "      <td>-1</td>\n",
       "      <td>0</td>\n",
       "    </tr>\n",
       "    <tr>\n",
       "      <th>2</th>\n",
       "      <td>5001711</td>\n",
       "      <td>-2</td>\n",
       "      <td>0</td>\n",
       "    </tr>\n",
       "    <tr>\n",
       "      <th>3</th>\n",
       "      <td>5001711</td>\n",
       "      <td>-3</td>\n",
       "      <td>0</td>\n",
       "    </tr>\n",
       "    <tr>\n",
       "      <th>4</th>\n",
       "      <td>5001712</td>\n",
       "      <td>0</td>\n",
       "      <td>C</td>\n",
       "    </tr>\n",
       "  </tbody>\n",
       "</table>\n",
       "</div>"
      ],
      "text/plain": [
       "        ID  MONTHS_BALANCE STATUS\n",
       "0  5001711               0      X\n",
       "1  5001711              -1      0\n",
       "2  5001711              -2      0\n",
       "3  5001711              -3      0\n",
       "4  5001712               0      C"
      ]
     },
     "execution_count": 5,
     "metadata": {},
     "output_type": "execute_result"
    }
   ],
   "source": [
    "credit_df = pd.read_csv(\"credit_record.csv\") \n",
    "credit_df.head()"
   ]
  },
  {
   "cell_type": "code",
   "execution_count": 6,
   "metadata": {
    "execution": {
     "iopub.execute_input": "2021-06-05T10:44:34.406507Z",
     "iopub.status.busy": "2021-06-05T10:44:34.405644Z",
     "iopub.status.idle": "2021-06-05T10:44:34.408915Z",
     "shell.execute_reply": "2021-06-05T10:44:34.409473Z",
     "shell.execute_reply.started": "2021-06-05T10:38:49.095337Z"
    },
    "papermill": {
     "duration": 0.11706,
     "end_time": "2021-06-05T10:44:34.409636",
     "exception": false,
     "start_time": "2021-06-05T10:44:34.292576",
     "status": "completed"
    },
    "tags": []
   },
   "outputs": [
    {
     "data": {
      "text/plain": [
       "(1048575, 3)"
      ]
     },
     "execution_count": 6,
     "metadata": {},
     "output_type": "execute_result"
    }
   ],
   "source": [
    "credit_df.shape"
   ]
  },
  {
   "cell_type": "code",
   "execution_count": 7,
   "metadata": {
    "execution": {
     "iopub.execute_input": "2021-06-05T10:44:34.621075Z",
     "iopub.status.busy": "2021-06-05T10:44:34.620183Z",
     "iopub.status.idle": "2021-06-05T10:44:34.728274Z",
     "shell.execute_reply": "2021-06-05T10:44:34.727782Z",
     "shell.execute_reply.started": "2021-06-05T10:38:49.103477Z"
    },
    "papermill": {
     "duration": 0.214607,
     "end_time": "2021-06-05T10:44:34.728427",
     "exception": false,
     "start_time": "2021-06-05T10:44:34.513820",
     "status": "completed"
    },
    "tags": []
   },
   "outputs": [
    {
     "name": "stdout",
     "output_type": "stream",
     "text": [
      "<class 'pandas.core.frame.DataFrame'>\n",
      "RangeIndex: 1048575 entries, 0 to 1048574\n",
      "Data columns (total 3 columns):\n",
      " #   Column          Non-Null Count    Dtype \n",
      "---  ------          --------------    ----- \n",
      " 0   ID              1048575 non-null  int64 \n",
      " 1   MONTHS_BALANCE  1048575 non-null  int64 \n",
      " 2   STATUS          1048575 non-null  object\n",
      "dtypes: int64(2), object(1)\n",
      "memory usage: 24.0+ MB\n"
     ]
    }
   ],
   "source": [
    "credit_df.info()"
   ]
  },
  {
   "cell_type": "markdown",
   "metadata": {
    "papermill": {
     "duration": 0.103329,
     "end_time": "2021-06-05T10:44:34.934975",
     "exception": false,
     "start_time": "2021-06-05T10:44:34.831646",
     "status": "completed"
    },
    "tags": []
   },
   "source": [
    "### Exploratory Data Analysis (EDA)"
   ]
  },
  {
   "cell_type": "markdown",
   "metadata": {
    "papermill": {
     "duration": 0.103728,
     "end_time": "2021-06-05T10:44:35.141851",
     "exception": false,
     "start_time": "2021-06-05T10:44:35.038123",
     "status": "completed"
    },
    "tags": []
   },
   "source": [
    "#### On File - Application Record.csv"
   ]
  },
  {
   "cell_type": "code",
   "execution_count": 8,
   "metadata": {
    "execution": {
     "iopub.execute_input": "2021-06-05T10:44:35.369388Z",
     "iopub.status.busy": "2021-06-05T10:44:35.367430Z",
     "iopub.status.idle": "2021-06-05T10:44:35.504486Z",
     "shell.execute_reply": "2021-06-05T10:44:35.503931Z",
     "shell.execute_reply.started": "2021-06-05T10:38:49.222430Z"
    },
    "papermill": {
     "duration": 0.258969,
     "end_time": "2021-06-05T10:44:35.504634",
     "exception": false,
     "start_time": "2021-06-05T10:44:35.245665",
     "status": "completed"
    },
    "tags": []
   },
   "outputs": [
    {
     "data": {
      "text/html": [
       "<div>\n",
       "<style scoped>\n",
       "    .dataframe tbody tr th:only-of-type {\n",
       "        vertical-align: middle;\n",
       "    }\n",
       "\n",
       "    .dataframe tbody tr th {\n",
       "        vertical-align: top;\n",
       "    }\n",
       "\n",
       "    .dataframe thead th {\n",
       "        text-align: right;\n",
       "    }\n",
       "</style>\n",
       "<table border=\"1\" class=\"dataframe\">\n",
       "  <thead>\n",
       "    <tr style=\"text-align: right;\">\n",
       "      <th></th>\n",
       "      <th>ID</th>\n",
       "      <th>CNT_CHILDREN</th>\n",
       "      <th>AMT_INCOME_TOTAL</th>\n",
       "      <th>DAYS_BIRTH</th>\n",
       "      <th>DAYS_EMPLOYED</th>\n",
       "      <th>FLAG_MOBIL</th>\n",
       "      <th>FLAG_WORK_PHONE</th>\n",
       "      <th>FLAG_PHONE</th>\n",
       "      <th>FLAG_EMAIL</th>\n",
       "      <th>CNT_FAM_MEMBERS</th>\n",
       "    </tr>\n",
       "  </thead>\n",
       "  <tbody>\n",
       "    <tr>\n",
       "      <th>count</th>\n",
       "      <td>4.385570e+05</td>\n",
       "      <td>438557.000000</td>\n",
       "      <td>4.385570e+05</td>\n",
       "      <td>438557.000000</td>\n",
       "      <td>438557.000000</td>\n",
       "      <td>438557.0</td>\n",
       "      <td>438557.000000</td>\n",
       "      <td>438557.000000</td>\n",
       "      <td>438557.000000</td>\n",
       "      <td>438557.000000</td>\n",
       "    </tr>\n",
       "    <tr>\n",
       "      <th>mean</th>\n",
       "      <td>6.022176e+06</td>\n",
       "      <td>0.427390</td>\n",
       "      <td>1.875243e+05</td>\n",
       "      <td>-15997.904649</td>\n",
       "      <td>60563.675328</td>\n",
       "      <td>1.0</td>\n",
       "      <td>0.206133</td>\n",
       "      <td>0.287771</td>\n",
       "      <td>0.108207</td>\n",
       "      <td>2.194465</td>\n",
       "    </tr>\n",
       "    <tr>\n",
       "      <th>std</th>\n",
       "      <td>5.716370e+05</td>\n",
       "      <td>0.724882</td>\n",
       "      <td>1.100869e+05</td>\n",
       "      <td>4185.030007</td>\n",
       "      <td>138767.799647</td>\n",
       "      <td>0.0</td>\n",
       "      <td>0.404527</td>\n",
       "      <td>0.452724</td>\n",
       "      <td>0.310642</td>\n",
       "      <td>0.897207</td>\n",
       "    </tr>\n",
       "    <tr>\n",
       "      <th>min</th>\n",
       "      <td>5.008804e+06</td>\n",
       "      <td>0.000000</td>\n",
       "      <td>2.610000e+04</td>\n",
       "      <td>-25201.000000</td>\n",
       "      <td>-17531.000000</td>\n",
       "      <td>1.0</td>\n",
       "      <td>0.000000</td>\n",
       "      <td>0.000000</td>\n",
       "      <td>0.000000</td>\n",
       "      <td>1.000000</td>\n",
       "    </tr>\n",
       "    <tr>\n",
       "      <th>25%</th>\n",
       "      <td>5.609375e+06</td>\n",
       "      <td>0.000000</td>\n",
       "      <td>1.215000e+05</td>\n",
       "      <td>-19483.000000</td>\n",
       "      <td>-3103.000000</td>\n",
       "      <td>1.0</td>\n",
       "      <td>0.000000</td>\n",
       "      <td>0.000000</td>\n",
       "      <td>0.000000</td>\n",
       "      <td>2.000000</td>\n",
       "    </tr>\n",
       "    <tr>\n",
       "      <th>50%</th>\n",
       "      <td>6.047745e+06</td>\n",
       "      <td>0.000000</td>\n",
       "      <td>1.607805e+05</td>\n",
       "      <td>-15630.000000</td>\n",
       "      <td>-1467.000000</td>\n",
       "      <td>1.0</td>\n",
       "      <td>0.000000</td>\n",
       "      <td>0.000000</td>\n",
       "      <td>0.000000</td>\n",
       "      <td>2.000000</td>\n",
       "    </tr>\n",
       "    <tr>\n",
       "      <th>75%</th>\n",
       "      <td>6.456971e+06</td>\n",
       "      <td>1.000000</td>\n",
       "      <td>2.250000e+05</td>\n",
       "      <td>-12514.000000</td>\n",
       "      <td>-371.000000</td>\n",
       "      <td>1.0</td>\n",
       "      <td>0.000000</td>\n",
       "      <td>1.000000</td>\n",
       "      <td>0.000000</td>\n",
       "      <td>3.000000</td>\n",
       "    </tr>\n",
       "    <tr>\n",
       "      <th>max</th>\n",
       "      <td>7.999952e+06</td>\n",
       "      <td>19.000000</td>\n",
       "      <td>6.750000e+06</td>\n",
       "      <td>-7489.000000</td>\n",
       "      <td>365243.000000</td>\n",
       "      <td>1.0</td>\n",
       "      <td>1.000000</td>\n",
       "      <td>1.000000</td>\n",
       "      <td>1.000000</td>\n",
       "      <td>20.000000</td>\n",
       "    </tr>\n",
       "  </tbody>\n",
       "</table>\n",
       "</div>"
      ],
      "text/plain": [
       "                 ID   CNT_CHILDREN  AMT_INCOME_TOTAL     DAYS_BIRTH  \\\n",
       "count  4.385570e+05  438557.000000      4.385570e+05  438557.000000   \n",
       "mean   6.022176e+06       0.427390      1.875243e+05  -15997.904649   \n",
       "std    5.716370e+05       0.724882      1.100869e+05    4185.030007   \n",
       "min    5.008804e+06       0.000000      2.610000e+04  -25201.000000   \n",
       "25%    5.609375e+06       0.000000      1.215000e+05  -19483.000000   \n",
       "50%    6.047745e+06       0.000000      1.607805e+05  -15630.000000   \n",
       "75%    6.456971e+06       1.000000      2.250000e+05  -12514.000000   \n",
       "max    7.999952e+06      19.000000      6.750000e+06   -7489.000000   \n",
       "\n",
       "       DAYS_EMPLOYED  FLAG_MOBIL  FLAG_WORK_PHONE     FLAG_PHONE  \\\n",
       "count  438557.000000    438557.0    438557.000000  438557.000000   \n",
       "mean    60563.675328         1.0         0.206133       0.287771   \n",
       "std    138767.799647         0.0         0.404527       0.452724   \n",
       "min    -17531.000000         1.0         0.000000       0.000000   \n",
       "25%     -3103.000000         1.0         0.000000       0.000000   \n",
       "50%     -1467.000000         1.0         0.000000       0.000000   \n",
       "75%      -371.000000         1.0         0.000000       1.000000   \n",
       "max    365243.000000         1.0         1.000000       1.000000   \n",
       "\n",
       "          FLAG_EMAIL  CNT_FAM_MEMBERS  \n",
       "count  438557.000000    438557.000000  \n",
       "mean        0.108207         2.194465  \n",
       "std         0.310642         0.897207  \n",
       "min         0.000000         1.000000  \n",
       "25%         0.000000         2.000000  \n",
       "50%         0.000000         2.000000  \n",
       "75%         0.000000         3.000000  \n",
       "max         1.000000        20.000000  "
      ]
     },
     "execution_count": 8,
     "metadata": {},
     "output_type": "execute_result"
    }
   ],
   "source": [
    "app_df.describe()"
   ]
  },
  {
   "cell_type": "code",
   "execution_count": 9,
   "metadata": {
    "execution": {
     "iopub.execute_input": "2021-06-05T10:44:35.726096Z",
     "iopub.status.busy": "2021-06-05T10:44:35.725453Z",
     "iopub.status.idle": "2021-06-05T10:44:36.046101Z",
     "shell.execute_reply": "2021-06-05T10:44:36.046592Z",
     "shell.execute_reply.started": "2021-06-05T10:38:49.374103Z"
    },
    "papermill": {
     "duration": 0.43455,
     "end_time": "2021-06-05T10:44:36.046769",
     "exception": false,
     "start_time": "2021-06-05T10:44:35.612219",
     "status": "completed"
    },
    "tags": []
   },
   "outputs": [
    {
     "data": {
      "text/plain": [
       "ID                          0\n",
       "CODE_GENDER                 0\n",
       "FLAG_OWN_CAR                0\n",
       "FLAG_OWN_REALTY             0\n",
       "CNT_CHILDREN                0\n",
       "AMT_INCOME_TOTAL            0\n",
       "NAME_INCOME_TYPE            0\n",
       "NAME_EDUCATION_TYPE         0\n",
       "NAME_FAMILY_STATUS          0\n",
       "NAME_HOUSING_TYPE           0\n",
       "DAYS_BIRTH                  0\n",
       "DAYS_EMPLOYED               0\n",
       "FLAG_MOBIL                  0\n",
       "FLAG_WORK_PHONE             0\n",
       "FLAG_PHONE                  0\n",
       "FLAG_EMAIL                  0\n",
       "OCCUPATION_TYPE        134203\n",
       "CNT_FAM_MEMBERS             0\n",
       "dtype: int64"
      ]
     },
     "execution_count": 9,
     "metadata": {},
     "output_type": "execute_result"
    }
   ],
   "source": [
    "app_df.isnull().sum()"
   ]
  },
  {
   "cell_type": "markdown",
   "metadata": {},
   "source": [
    "We've uncovered some issues that will affect the performance of our machine learning model(s) if they go unchanged:\n",
    "\n",
    "Our dataset contains both numeric and non-numeric data (specifically data that are of float64, int64 and object types). Specifically, the features 2, 7, 10 and 14 contain numeric values (of types float64, float64, int64 and int64 respectively) and all the other features contain non-numeric values.\n",
    "The dataset also contains values from several ranges. Some features have a value range of 0 - 28, some have a range of 2 - 67, and some have a range of 1017 - 100000. Apart from these, we can get useful statistical information (like mean, max, and min) about the features that have numerical values.\n",
    "Finally, the dataset has missing values, which we'll take care of in this task. The missing values in the dataset are labeled with '?', which can be seen in the last cell's output."
   ]
  },
  {
   "cell_type": "code",
   "execution_count": 10,
   "metadata": {
    "execution": {
     "iopub.execute_input": "2021-06-05T10:44:36.265977Z",
     "iopub.status.busy": "2021-06-05T10:44:36.265044Z",
     "iopub.status.idle": "2021-06-05T10:44:36.309371Z",
     "shell.execute_reply": "2021-06-05T10:44:36.309863Z",
     "shell.execute_reply.started": "2021-06-05T10:38:49.690667Z"
    },
    "papermill": {
     "duration": 0.15429,
     "end_time": "2021-06-05T10:44:36.310039",
     "exception": false,
     "start_time": "2021-06-05T10:44:36.155749",
     "status": "completed"
    },
    "tags": []
   },
   "outputs": [],
   "source": [
    "# dropping occupation type which has many null values\n",
    "app_df.drop('OCCUPATION_TYPE', axis=1, inplace=True)"
   ]
  },
  {
   "cell_type": "code",
   "execution_count": 11,
   "metadata": {
    "execution": {
     "iopub.execute_input": "2021-06-05T10:44:36.524592Z",
     "iopub.status.busy": "2021-06-05T10:44:36.523619Z",
     "iopub.status.idle": "2021-06-05T10:44:36.580404Z",
     "shell.execute_reply": "2021-06-05T10:44:36.579796Z",
     "shell.execute_reply.started": "2021-06-05T10:38:49.737402Z"
    },
    "papermill": {
     "duration": 0.16439,
     "end_time": "2021-06-05T10:44:36.580573",
     "exception": false,
     "start_time": "2021-06-05T10:44:36.416183",
     "status": "completed"
    },
    "tags": []
   },
   "outputs": [
    {
     "data": {
      "text/plain": [
       "47"
      ]
     },
     "execution_count": 11,
     "metadata": {},
     "output_type": "execute_result"
    }
   ],
   "source": [
    "# Checking duplicates in 'ID' column\n",
    "len(app_df['ID']) - len(app_df['ID'].unique())"
   ]
  },
  {
   "cell_type": "code",
   "execution_count": 12,
   "metadata": {
    "execution": {
     "iopub.execute_input": "2021-06-05T10:44:36.800694Z",
     "iopub.status.busy": "2021-06-05T10:44:36.800019Z",
     "iopub.status.idle": "2021-06-05T10:44:36.924876Z",
     "shell.execute_reply": "2021-06-05T10:44:36.924348Z",
     "shell.execute_reply.started": "2021-06-05T10:38:49.792343Z"
    },
    "papermill": {
     "duration": 0.237665,
     "end_time": "2021-06-05T10:44:36.925024",
     "exception": false,
     "start_time": "2021-06-05T10:44:36.687359",
     "status": "completed"
    },
    "tags": []
   },
   "outputs": [],
   "source": [
    "# Dropping duplicate entries from ID column\n",
    "app_df = app_df.drop_duplicates('ID', keep='last') "
   ]
  },
  {
   "cell_type": "code",
   "execution_count": 13,
   "metadata": {
    "execution": {
     "iopub.execute_input": "2021-06-05T10:44:37.146180Z",
     "iopub.status.busy": "2021-06-05T10:44:37.145247Z",
     "iopub.status.idle": "2021-06-05T10:44:37.149587Z",
     "shell.execute_reply": "2021-06-05T10:44:37.148880Z",
     "shell.execute_reply.started": "2021-06-05T10:38:49.915051Z"
    },
    "papermill": {
     "duration": 0.116683,
     "end_time": "2021-06-05T10:44:37.149722",
     "exception": false,
     "start_time": "2021-06-05T10:44:37.033039",
     "status": "completed"
    },
    "tags": []
   },
   "outputs": [
    {
     "data": {
      "text/plain": [
       "['CODE_GENDER',\n",
       " 'FLAG_OWN_CAR',\n",
       " 'FLAG_OWN_REALTY',\n",
       " 'NAME_INCOME_TYPE',\n",
       " 'NAME_EDUCATION_TYPE',\n",
       " 'NAME_FAMILY_STATUS',\n",
       " 'NAME_HOUSING_TYPE']"
      ]
     },
     "execution_count": 13,
     "metadata": {},
     "output_type": "execute_result"
    }
   ],
   "source": [
    "# Checking Non-Numerical Columns\n",
    "cat_columns = app_df.columns[(app_df.dtypes =='object').values].tolist()\n",
    "cat_columns"
   ]
  },
  {
   "cell_type": "code",
   "execution_count": 14,
   "metadata": {
    "execution": {
     "iopub.execute_input": "2021-06-05T10:44:37.379148Z",
     "iopub.status.busy": "2021-06-05T10:44:37.378260Z",
     "iopub.status.idle": "2021-06-05T10:44:37.381884Z",
     "shell.execute_reply": "2021-06-05T10:44:37.382385Z",
     "shell.execute_reply.started": "2021-06-05T10:38:49.924366Z"
    },
    "papermill": {
     "duration": 0.120833,
     "end_time": "2021-06-05T10:44:37.382537",
     "exception": false,
     "start_time": "2021-06-05T10:44:37.261704",
     "status": "completed"
    },
    "tags": []
   },
   "outputs": [
    {
     "data": {
      "text/plain": [
       "['ID',\n",
       " 'CNT_CHILDREN',\n",
       " 'AMT_INCOME_TOTAL',\n",
       " 'DAYS_BIRTH',\n",
       " 'DAYS_EMPLOYED',\n",
       " 'FLAG_MOBIL',\n",
       " 'FLAG_WORK_PHONE',\n",
       " 'FLAG_PHONE',\n",
       " 'FLAG_EMAIL',\n",
       " 'CNT_FAM_MEMBERS']"
      ]
     },
     "execution_count": 14,
     "metadata": {},
     "output_type": "execute_result"
    }
   ],
   "source": [
    "# Checking Numerical Columns\n",
    "app_df.columns[(app_df.dtypes !='object').values].tolist()"
   ]
  },
  {
   "cell_type": "code",
   "execution_count": 15,
   "metadata": {
    "execution": {
     "iopub.execute_input": "2021-06-05T10:44:37.740750Z",
     "iopub.status.busy": "2021-06-05T10:44:37.690476Z",
     "iopub.status.idle": "2021-06-05T10:44:38.264946Z",
     "shell.execute_reply": "2021-06-05T10:44:38.264185Z",
     "shell.execute_reply.started": "2021-06-05T10:38:49.938235Z"
    },
    "papermill": {
     "duration": 0.776592,
     "end_time": "2021-06-05T10:44:38.265107",
     "exception": false,
     "start_time": "2021-06-05T10:44:37.488515",
     "status": "completed"
    },
    "tags": []
   },
   "outputs": [
    {
     "name": "stdout",
     "output_type": "stream",
     "text": [
      "CODE_GENDER \n",
      "\n",
      "F    294412\n",
      "M    144098\n",
      "Name: CODE_GENDER, dtype: int64\n",
      "-----------------------------------------------\n",
      "FLAG_OWN_CAR \n",
      "\n",
      "N    275428\n",
      "Y    163082\n",
      "Name: FLAG_OWN_CAR, dtype: int64\n",
      "-----------------------------------------------\n",
      "FLAG_OWN_REALTY \n",
      "\n",
      "Y    304043\n",
      "N    134467\n",
      "Name: FLAG_OWN_REALTY, dtype: int64\n",
      "-----------------------------------------------\n",
      "NAME_INCOME_TYPE \n",
      "\n",
      "Working                 226087\n",
      "Commercial associate    100739\n",
      "Pensioner                75483\n",
      "State servant            36184\n",
      "Student                     17\n",
      "Name: NAME_INCOME_TYPE, dtype: int64\n",
      "-----------------------------------------------\n",
      "NAME_EDUCATION_TYPE \n",
      "\n",
      "Secondary / secondary special    301789\n",
      "Higher education                 117509\n",
      "Incomplete higher                 14849\n",
      "Lower secondary                    4051\n",
      "Academic degree                     312\n",
      "Name: NAME_EDUCATION_TYPE, dtype: int64\n",
      "-----------------------------------------------\n",
      "NAME_FAMILY_STATUS \n",
      "\n",
      "Married                 299798\n",
      "Single / not married     55268\n",
      "Civil marriage           36524\n",
      "Separated                27249\n",
      "Widow                    19671\n",
      "Name: NAME_FAMILY_STATUS, dtype: int64\n",
      "-----------------------------------------------\n",
      "NAME_HOUSING_TYPE \n",
      "\n",
      "House / apartment      393788\n",
      "With parents            19074\n",
      "Municipal apartment     14213\n",
      "Rented apartment         5974\n",
      "Office apartment         3922\n",
      "Co-op apartment          1539\n",
      "Name: NAME_HOUSING_TYPE, dtype: int64\n",
      "-----------------------------------------------\n"
     ]
    }
   ],
   "source": [
    "# Checking unique values from Categorical Columns\n",
    "\n",
    "for i in app_df.columns[(app_df.dtypes =='object').values].tolist():\n",
    "    print(i,'\\n')\n",
    "    print(app_df[i].value_counts())\n",
    "    print('-----------------------------------------------')"
   ]
  },
  {
   "cell_type": "code",
   "execution_count": 16,
   "metadata": {
    "execution": {
     "iopub.execute_input": "2021-06-05T10:44:38.532767Z",
     "iopub.status.busy": "2021-06-05T10:44:38.532107Z",
     "iopub.status.idle": "2021-06-05T10:44:38.535071Z",
     "shell.execute_reply": "2021-06-05T10:44:38.535571Z",
     "shell.execute_reply.started": "2021-06-05T10:38:50.607839Z"
    },
    "papermill": {
     "duration": 0.163229,
     "end_time": "2021-06-05T10:44:38.535747",
     "exception": false,
     "start_time": "2021-06-05T10:44:38.372518",
     "status": "completed"
    },
    "tags": []
   },
   "outputs": [],
   "source": [
    "# Checking unique values from Numerical Columns"
   ]
  },
  {
   "cell_type": "code",
   "execution_count": 17,
   "metadata": {
    "execution": {
     "iopub.execute_input": "2021-06-05T10:44:38.753100Z",
     "iopub.status.busy": "2021-06-05T10:44:38.752468Z",
     "iopub.status.idle": "2021-06-05T10:44:38.763578Z",
     "shell.execute_reply": "2021-06-05T10:44:38.762996Z",
     "shell.execute_reply.started": "2021-06-05T10:38:50.614078Z"
    },
    "papermill": {
     "duration": 0.12121,
     "end_time": "2021-06-05T10:44:38.763735",
     "exception": false,
     "start_time": "2021-06-05T10:44:38.642525",
     "status": "completed"
    },
    "tags": []
   },
   "outputs": [
    {
     "data": {
      "text/plain": [
       "0     304038\n",
       "1      88518\n",
       "2      39879\n",
       "3       5430\n",
       "4        486\n",
       "5        133\n",
       "7          9\n",
       "9          5\n",
       "12         4\n",
       "6          4\n",
       "14         3\n",
       "19         1\n",
       "Name: CNT_CHILDREN, dtype: int64"
      ]
     },
     "execution_count": 17,
     "metadata": {},
     "output_type": "execute_result"
    }
   ],
   "source": [
    "app_df['CNT_CHILDREN'].value_counts()"
   ]
  },
  {
   "cell_type": "code",
   "execution_count": 18,
   "metadata": {
    "execution": {
     "iopub.execute_input": "2021-06-05T10:44:38.986653Z",
     "iopub.status.busy": "2021-06-05T10:44:38.985836Z",
     "iopub.status.idle": "2021-06-05T10:44:38.996835Z",
     "shell.execute_reply": "2021-06-05T10:44:38.995948Z",
     "shell.execute_reply.started": "2021-06-05T10:38:50.639473Z"
    },
    "papermill": {
     "duration": 0.124774,
     "end_time": "2021-06-05T10:44:38.997027",
     "exception": false,
     "start_time": "2021-06-05T10:44:38.872253",
     "status": "completed"
    },
    "tags": []
   },
   "outputs": [
    {
     "name": "stdout",
     "output_type": "stream",
     "text": [
      "Min DAYS_BIRTH : -25201 \n",
      "Max DAYS_BIRTH : -7489\n"
     ]
    }
   ],
   "source": [
    "# Checking Min , Max values from 'DAYS_BIRTH' column\n",
    "print('Min DAYS_BIRTH :', app_df['DAYS_BIRTH'].min(),'\\nMax DAYS_BIRTH :', app_df['DAYS_BIRTH'].max())"
   ]
  },
  {
   "cell_type": "code",
   "execution_count": 19,
   "metadata": {
    "execution": {
     "iopub.execute_input": "2021-06-05T10:44:39.219168Z",
     "iopub.status.busy": "2021-06-05T10:44:39.218179Z",
     "iopub.status.idle": "2021-06-05T10:44:39.246128Z",
     "shell.execute_reply": "2021-06-05T10:44:39.246653Z",
     "shell.execute_reply.started": "2021-06-05T10:38:50.650883Z"
    },
    "papermill": {
     "duration": 0.139678,
     "end_time": "2021-06-05T10:44:39.246830",
     "exception": false,
     "start_time": "2021-06-05T10:44:39.107152",
     "status": "completed"
    },
    "tags": []
   },
   "outputs": [],
   "source": [
    "# Converting 'DAYS_BIRTH' values from Day to Years\n",
    "app_df['DAYS_BIRTH'] = round(app_df['DAYS_BIRTH']/-365,0)\n",
    "app_df.rename(columns={'DAYS_BIRTH':'AGE_YEARS'}, inplace=True)"
   ]
  },
  {
   "cell_type": "code",
   "execution_count": 20,
   "metadata": {
    "execution": {
     "iopub.execute_input": "2021-06-05T10:44:39.467226Z",
     "iopub.status.busy": "2021-06-05T10:44:39.466263Z",
     "iopub.status.idle": "2021-06-05T10:44:39.492476Z",
     "shell.execute_reply": "2021-06-05T10:44:39.493013Z",
     "shell.execute_reply.started": "2021-06-05T10:38:50.684846Z"
    },
    "papermill": {
     "duration": 0.138456,
     "end_time": "2021-06-05T10:44:39.493183",
     "exception": false,
     "start_time": "2021-06-05T10:44:39.354727",
     "status": "completed"
    },
    "tags": []
   },
   "outputs": [
    {
     "data": {
      "text/plain": [
       "array([365243])"
      ]
     },
     "execution_count": 20,
     "metadata": {},
     "output_type": "execute_result"
    }
   ],
   "source": [
    "# Checking unique values greater than 0\n",
    "app_df[app_df['DAYS_EMPLOYED']>0]['DAYS_EMPLOYED'].unique()"
   ]
  },
  {
   "cell_type": "code",
   "execution_count": 21,
   "metadata": {
    "execution": {
     "iopub.execute_input": "2021-06-05T10:44:39.714233Z",
     "iopub.status.busy": "2021-06-05T10:44:39.713578Z",
     "iopub.status.idle": "2021-06-05T10:44:39.718332Z",
     "shell.execute_reply": "2021-06-05T10:44:39.717684Z",
     "shell.execute_reply.started": "2021-06-05T10:38:50.720340Z"
    },
    "papermill": {
     "duration": 0.117521,
     "end_time": "2021-06-05T10:44:39.718470",
     "exception": false,
     "start_time": "2021-06-05T10:44:39.600949",
     "status": "completed"
    },
    "tags": []
   },
   "outputs": [],
   "source": [
    "# As mentioned in document, if 'DAYS_EMPLOYED' is positive no, it means person currently unemployed, hence replacing it with 0\n",
    "app_df['DAYS_EMPLOYED'].replace(365243, 0, inplace=True)"
   ]
  },
  {
   "cell_type": "code",
   "execution_count": 22,
   "metadata": {
    "execution": {
     "iopub.execute_input": "2021-06-05T10:44:39.940618Z",
     "iopub.status.busy": "2021-06-05T10:44:39.939918Z",
     "iopub.status.idle": "2021-06-05T10:44:39.951774Z",
     "shell.execute_reply": "2021-06-05T10:44:39.951211Z",
     "shell.execute_reply.started": "2021-06-05T10:38:50.737664Z"
    },
    "papermill": {
     "duration": 0.125161,
     "end_time": "2021-06-05T10:44:39.951927",
     "exception": false,
     "start_time": "2021-06-05T10:44:39.826766",
     "status": "completed"
    },
    "tags": []
   },
   "outputs": [],
   "source": [
    "# Converting 'DAYS_EMPLOYED' values from Day to Years\n",
    "app_df['DAYS_EMPLOYED'] = abs(round(app_df['DAYS_EMPLOYED']/-365,0))\n",
    "app_df.rename(columns={'DAYS_EMPLOYED':'YEARS_EMPLOYED'}, inplace=True)   "
   ]
  },
  {
   "cell_type": "code",
   "execution_count": 23,
   "metadata": {
    "execution": {
     "iopub.execute_input": "2021-06-05T10:44:40.173882Z",
     "iopub.status.busy": "2021-06-05T10:44:40.173128Z",
     "iopub.status.idle": "2021-06-05T10:44:40.181947Z",
     "shell.execute_reply": "2021-06-05T10:44:40.182539Z",
     "shell.execute_reply.started": "2021-06-05T10:38:50.754056Z"
    },
    "papermill": {
     "duration": 0.122662,
     "end_time": "2021-06-05T10:44:40.182727",
     "exception": false,
     "start_time": "2021-06-05T10:44:40.060065",
     "status": "completed"
    },
    "tags": []
   },
   "outputs": [
    {
     "data": {
      "text/plain": [
       "1    438510\n",
       "Name: FLAG_MOBIL, dtype: int64"
      ]
     },
     "execution_count": 23,
     "metadata": {},
     "output_type": "execute_result"
    }
   ],
   "source": [
    "app_df['FLAG_MOBIL'].value_counts()"
   ]
  },
  {
   "cell_type": "code",
   "execution_count": 24,
   "metadata": {
    "execution": {
     "iopub.execute_input": "2021-06-05T10:44:40.402079Z",
     "iopub.status.busy": "2021-06-05T10:44:40.401454Z",
     "iopub.status.idle": "2021-06-05T10:44:40.451974Z",
     "shell.execute_reply": "2021-06-05T10:44:40.452492Z",
     "shell.execute_reply.started": "2021-06-05T10:38:50.772353Z"
    },
    "papermill": {
     "duration": 0.161693,
     "end_time": "2021-06-05T10:44:40.452681",
     "exception": false,
     "start_time": "2021-06-05T10:44:40.290988",
     "status": "completed"
    },
    "tags": []
   },
   "outputs": [],
   "source": [
    "# As all the values in column are 1, hence dropping column\n",
    "app_df.drop('FLAG_MOBIL', axis=1, inplace=True)"
   ]
  },
  {
   "cell_type": "code",
   "execution_count": 25,
   "metadata": {
    "execution": {
     "iopub.execute_input": "2021-06-05T10:44:40.676078Z",
     "iopub.status.busy": "2021-06-05T10:44:40.675347Z",
     "iopub.status.idle": "2021-06-05T10:44:40.684385Z",
     "shell.execute_reply": "2021-06-05T10:44:40.683886Z",
     "shell.execute_reply.started": "2021-06-05T10:38:50.823392Z"
    },
    "papermill": {
     "duration": 0.122752,
     "end_time": "2021-06-05T10:44:40.684523",
     "exception": false,
     "start_time": "2021-06-05T10:44:40.561771",
     "status": "completed"
    },
    "tags": []
   },
   "outputs": [
    {
     "data": {
      "text/plain": [
       "0    348118\n",
       "1     90392\n",
       "Name: FLAG_WORK_PHONE, dtype: int64"
      ]
     },
     "execution_count": 25,
     "metadata": {},
     "output_type": "execute_result"
    }
   ],
   "source": [
    "app_df['FLAG_WORK_PHONE'].value_counts()"
   ]
  },
  {
   "cell_type": "code",
   "execution_count": 26,
   "metadata": {
    "execution": {
     "iopub.execute_input": "2021-06-05T10:44:40.909738Z",
     "iopub.status.busy": "2021-06-05T10:44:40.908941Z",
     "iopub.status.idle": "2021-06-05T10:44:40.939624Z",
     "shell.execute_reply": "2021-06-05T10:44:40.938952Z",
     "shell.execute_reply.started": "2021-06-05T10:38:50.841398Z"
    },
    "papermill": {
     "duration": 0.146853,
     "end_time": "2021-06-05T10:44:40.939811",
     "exception": false,
     "start_time": "2021-06-05T10:44:40.792958",
     "status": "completed"
    },
    "tags": []
   },
   "outputs": [],
   "source": [
    "# This column only contains 0 & 1 values for Mobile no submitted, hence dropping column\n",
    "app_df.drop('FLAG_WORK_PHONE', axis=1, inplace=True)"
   ]
  },
  {
   "cell_type": "code",
   "execution_count": 27,
   "metadata": {
    "execution": {
     "iopub.execute_input": "2021-06-05T10:44:41.165629Z",
     "iopub.status.busy": "2021-06-05T10:44:41.164935Z",
     "iopub.status.idle": "2021-06-05T10:44:41.174555Z",
     "shell.execute_reply": "2021-06-05T10:44:41.173933Z",
     "shell.execute_reply.started": "2021-06-05T10:38:50.880497Z"
    },
    "papermill": {
     "duration": 0.122683,
     "end_time": "2021-06-05T10:44:41.174710",
     "exception": false,
     "start_time": "2021-06-05T10:44:41.052027",
     "status": "completed"
    },
    "tags": []
   },
   "outputs": [
    {
     "data": {
      "text/plain": [
       "0    312323\n",
       "1    126187\n",
       "Name: FLAG_PHONE, dtype: int64"
      ]
     },
     "execution_count": 27,
     "metadata": {},
     "output_type": "execute_result"
    }
   ],
   "source": [
    "app_df['FLAG_PHONE'].value_counts()"
   ]
  },
  {
   "cell_type": "code",
   "execution_count": 28,
   "metadata": {
    "execution": {
     "iopub.execute_input": "2021-06-05T10:44:41.401184Z",
     "iopub.status.busy": "2021-06-05T10:44:41.400212Z",
     "iopub.status.idle": "2021-06-05T10:44:41.435176Z",
     "shell.execute_reply": "2021-06-05T10:44:41.435679Z",
     "shell.execute_reply.started": "2021-06-05T10:38:50.892411Z"
    },
    "papermill": {
     "duration": 0.147414,
     "end_time": "2021-06-05T10:44:41.435871",
     "exception": false,
     "start_time": "2021-06-05T10:44:41.288457",
     "status": "completed"
    },
    "tags": []
   },
   "outputs": [],
   "source": [
    "# This column only contains 0 & 1 values for Phone no submitted, hence dropping column\n",
    "app_df.drop('FLAG_PHONE', axis=1, inplace=True)"
   ]
  },
  {
   "cell_type": "code",
   "execution_count": 29,
   "metadata": {
    "execution": {
     "iopub.execute_input": "2021-06-05T10:44:41.658166Z",
     "iopub.status.busy": "2021-06-05T10:44:41.657206Z",
     "iopub.status.idle": "2021-06-05T10:44:41.667882Z",
     "shell.execute_reply": "2021-06-05T10:44:41.668348Z",
     "shell.execute_reply.started": "2021-06-05T10:38:50.931007Z"
    },
    "papermill": {
     "duration": 0.123395,
     "end_time": "2021-06-05T10:44:41.668524",
     "exception": false,
     "start_time": "2021-06-05T10:44:41.545129",
     "status": "completed"
    },
    "tags": []
   },
   "outputs": [
    {
     "data": {
      "text/plain": [
       "0    391062\n",
       "1     47448\n",
       "Name: FLAG_EMAIL, dtype: int64"
      ]
     },
     "execution_count": 29,
     "metadata": {},
     "output_type": "execute_result"
    }
   ],
   "source": [
    "app_df['FLAG_EMAIL'].value_counts()"
   ]
  },
  {
   "cell_type": "code",
   "execution_count": 30,
   "metadata": {
    "execution": {
     "iopub.execute_input": "2021-06-05T10:44:41.891204Z",
     "iopub.status.busy": "2021-06-05T10:44:41.890125Z",
     "iopub.status.idle": "2021-06-05T10:44:41.924912Z",
     "shell.execute_reply": "2021-06-05T10:44:41.925424Z",
     "shell.execute_reply.started": "2021-06-05T10:38:50.943944Z"
    },
    "papermill": {
     "duration": 0.148163,
     "end_time": "2021-06-05T10:44:41.925621",
     "exception": false,
     "start_time": "2021-06-05T10:44:41.777458",
     "status": "completed"
    },
    "tags": []
   },
   "outputs": [],
   "source": [
    "# This column only contains 0 & 1 values for Email submitted, hence dropping column\n",
    "app_df.drop('FLAG_EMAIL', axis=1, inplace=True)"
   ]
  },
  {
   "cell_type": "code",
   "execution_count": 31,
   "metadata": {
    "execution": {
     "iopub.execute_input": "2021-06-05T10:44:42.180055Z",
     "iopub.status.busy": "2021-06-05T10:44:42.179106Z",
     "iopub.status.idle": "2021-06-05T10:44:42.193454Z",
     "shell.execute_reply": "2021-06-05T10:44:42.193950Z",
     "shell.execute_reply.started": "2021-06-05T10:38:50.980146Z"
    },
    "papermill": {
     "duration": 0.135857,
     "end_time": "2021-06-05T10:44:42.194120",
     "exception": false,
     "start_time": "2021-06-05T10:44:42.058263",
     "status": "completed"
    },
    "tags": []
   },
   "outputs": [
    {
     "data": {
      "text/plain": [
       "2.0     233867\n",
       "1.0      84483\n",
       "3.0      77119\n",
       "4.0      37351\n",
       "5.0       5081\n",
       "6.0        459\n",
       "7.0        124\n",
       "9.0          9\n",
       "11.0         5\n",
       "8.0          4\n",
       "14.0         4\n",
       "15.0         3\n",
       "20.0         1\n",
       "Name: CNT_FAM_MEMBERS, dtype: int64"
      ]
     },
     "execution_count": 31,
     "metadata": {},
     "output_type": "execute_result"
    }
   ],
   "source": [
    "app_df['CNT_FAM_MEMBERS'].value_counts()"
   ]
  },
  {
   "cell_type": "code",
   "execution_count": 32,
   "metadata": {
    "execution": {
     "iopub.execute_input": "2021-06-05T10:44:42.420199Z",
     "iopub.status.busy": "2021-06-05T10:44:42.419253Z",
     "iopub.status.idle": "2021-06-05T10:44:42.438944Z",
     "shell.execute_reply": "2021-06-05T10:44:42.439412Z",
     "shell.execute_reply.started": "2021-06-05T10:38:50.997754Z"
    },
    "papermill": {
     "duration": 0.134621,
     "end_time": "2021-06-05T10:44:42.439589",
     "exception": false,
     "start_time": "2021-06-05T10:44:42.304968",
     "status": "completed"
    },
    "tags": []
   },
   "outputs": [
    {
     "data": {
      "text/html": [
       "<div>\n",
       "<style scoped>\n",
       "    .dataframe tbody tr th:only-of-type {\n",
       "        vertical-align: middle;\n",
       "    }\n",
       "\n",
       "    .dataframe tbody tr th {\n",
       "        vertical-align: top;\n",
       "    }\n",
       "\n",
       "    .dataframe thead th {\n",
       "        text-align: right;\n",
       "    }\n",
       "</style>\n",
       "<table border=\"1\" class=\"dataframe\">\n",
       "  <thead>\n",
       "    <tr style=\"text-align: right;\">\n",
       "      <th></th>\n",
       "      <th>ID</th>\n",
       "      <th>CODE_GENDER</th>\n",
       "      <th>FLAG_OWN_CAR</th>\n",
       "      <th>FLAG_OWN_REALTY</th>\n",
       "      <th>CNT_CHILDREN</th>\n",
       "      <th>AMT_INCOME_TOTAL</th>\n",
       "      <th>NAME_INCOME_TYPE</th>\n",
       "      <th>NAME_EDUCATION_TYPE</th>\n",
       "      <th>NAME_FAMILY_STATUS</th>\n",
       "      <th>NAME_HOUSING_TYPE</th>\n",
       "      <th>AGE_YEARS</th>\n",
       "      <th>YEARS_EMPLOYED</th>\n",
       "      <th>CNT_FAM_MEMBERS</th>\n",
       "    </tr>\n",
       "  </thead>\n",
       "  <tbody>\n",
       "    <tr>\n",
       "      <th>0</th>\n",
       "      <td>5008804</td>\n",
       "      <td>M</td>\n",
       "      <td>Y</td>\n",
       "      <td>Y</td>\n",
       "      <td>0</td>\n",
       "      <td>427500.0</td>\n",
       "      <td>Working</td>\n",
       "      <td>Higher education</td>\n",
       "      <td>Civil marriage</td>\n",
       "      <td>Rented apartment</td>\n",
       "      <td>33.0</td>\n",
       "      <td>12.0</td>\n",
       "      <td>2.0</td>\n",
       "    </tr>\n",
       "    <tr>\n",
       "      <th>1</th>\n",
       "      <td>5008805</td>\n",
       "      <td>M</td>\n",
       "      <td>Y</td>\n",
       "      <td>Y</td>\n",
       "      <td>0</td>\n",
       "      <td>427500.0</td>\n",
       "      <td>Working</td>\n",
       "      <td>Higher education</td>\n",
       "      <td>Civil marriage</td>\n",
       "      <td>Rented apartment</td>\n",
       "      <td>33.0</td>\n",
       "      <td>12.0</td>\n",
       "      <td>2.0</td>\n",
       "    </tr>\n",
       "    <tr>\n",
       "      <th>2</th>\n",
       "      <td>5008806</td>\n",
       "      <td>M</td>\n",
       "      <td>Y</td>\n",
       "      <td>Y</td>\n",
       "      <td>0</td>\n",
       "      <td>112500.0</td>\n",
       "      <td>Working</td>\n",
       "      <td>Secondary / secondary special</td>\n",
       "      <td>Married</td>\n",
       "      <td>House / apartment</td>\n",
       "      <td>59.0</td>\n",
       "      <td>3.0</td>\n",
       "      <td>2.0</td>\n",
       "    </tr>\n",
       "    <tr>\n",
       "      <th>3</th>\n",
       "      <td>5008808</td>\n",
       "      <td>F</td>\n",
       "      <td>N</td>\n",
       "      <td>Y</td>\n",
       "      <td>0</td>\n",
       "      <td>270000.0</td>\n",
       "      <td>Commercial associate</td>\n",
       "      <td>Secondary / secondary special</td>\n",
       "      <td>Single / not married</td>\n",
       "      <td>House / apartment</td>\n",
       "      <td>52.0</td>\n",
       "      <td>8.0</td>\n",
       "      <td>1.0</td>\n",
       "    </tr>\n",
       "    <tr>\n",
       "      <th>4</th>\n",
       "      <td>5008809</td>\n",
       "      <td>F</td>\n",
       "      <td>N</td>\n",
       "      <td>Y</td>\n",
       "      <td>0</td>\n",
       "      <td>270000.0</td>\n",
       "      <td>Commercial associate</td>\n",
       "      <td>Secondary / secondary special</td>\n",
       "      <td>Single / not married</td>\n",
       "      <td>House / apartment</td>\n",
       "      <td>52.0</td>\n",
       "      <td>8.0</td>\n",
       "      <td>1.0</td>\n",
       "    </tr>\n",
       "  </tbody>\n",
       "</table>\n",
       "</div>"
      ],
      "text/plain": [
       "        ID CODE_GENDER FLAG_OWN_CAR FLAG_OWN_REALTY  CNT_CHILDREN  \\\n",
       "0  5008804           M            Y               Y             0   \n",
       "1  5008805           M            Y               Y             0   \n",
       "2  5008806           M            Y               Y             0   \n",
       "3  5008808           F            N               Y             0   \n",
       "4  5008809           F            N               Y             0   \n",
       "\n",
       "   AMT_INCOME_TOTAL      NAME_INCOME_TYPE            NAME_EDUCATION_TYPE  \\\n",
       "0          427500.0               Working               Higher education   \n",
       "1          427500.0               Working               Higher education   \n",
       "2          112500.0               Working  Secondary / secondary special   \n",
       "3          270000.0  Commercial associate  Secondary / secondary special   \n",
       "4          270000.0  Commercial associate  Secondary / secondary special   \n",
       "\n",
       "     NAME_FAMILY_STATUS  NAME_HOUSING_TYPE  AGE_YEARS  YEARS_EMPLOYED  \\\n",
       "0        Civil marriage   Rented apartment       33.0            12.0   \n",
       "1        Civil marriage   Rented apartment       33.0            12.0   \n",
       "2               Married  House / apartment       59.0             3.0   \n",
       "3  Single / not married  House / apartment       52.0             8.0   \n",
       "4  Single / not married  House / apartment       52.0             8.0   \n",
       "\n",
       "   CNT_FAM_MEMBERS  \n",
       "0              2.0  \n",
       "1              2.0  \n",
       "2              2.0  \n",
       "3              1.0  \n",
       "4              1.0  "
      ]
     },
     "execution_count": 32,
     "metadata": {},
     "output_type": "execute_result"
    }
   ],
   "source": [
    "app_df.head()"
   ]
  },
  {
   "cell_type": "markdown",
   "metadata": {
    "papermill": {
     "duration": 0.110391,
     "end_time": "2021-06-05T10:44:42.660825",
     "exception": false,
     "start_time": "2021-06-05T10:44:42.550434",
     "status": "completed"
    },
    "tags": []
   },
   "source": [
    "# Visualization"
   ]
  },
  {
   "cell_type": "code",
   "execution_count": 33,
   "metadata": {
    "execution": {
     "iopub.execute_input": "2021-06-05T10:44:42.885676Z",
     "iopub.status.busy": "2021-06-05T10:44:42.884652Z",
     "iopub.status.idle": "2021-06-05T10:44:43.056470Z",
     "shell.execute_reply": "2021-06-05T10:44:43.055824Z",
     "shell.execute_reply.started": "2021-06-05T10:38:51.019885Z"
    },
    "papermill": {
     "duration": 0.285202,
     "end_time": "2021-06-05T10:44:43.056608",
     "exception": false,
     "start_time": "2021-06-05T10:44:42.771406",
     "status": "completed"
    },
    "tags": []
   },
   "outputs": [
    {
     "data": {
      "text/plain": [
       "<AxesSubplot:xlabel='CNT_CHILDREN'>"
      ]
     },
     "execution_count": 33,
     "metadata": {},
     "output_type": "execute_result"
    },
    {
     "data": {
      "image/png": "[encoded data removed]",
      "text/plain": [
       "<Figure size 432x288 with 1 Axes>"
      ]
     },
     "metadata": {
      "needs_background": "light"
     },
     "output_type": "display_data"
    }
   ],
   "source": [
    "#create plot to detect outliers\n",
    "sns.boxplot(app_df['CNT_CHILDREN'])"
   ]
  },
  {
   "cell_type": "code",
   "execution_count": 34,
   "metadata": {
    "execution": {
     "iopub.execute_input": "2021-06-05T10:44:43.285648Z",
     "iopub.status.busy": "2021-06-05T10:44:43.284888Z",
     "iopub.status.idle": "2021-06-05T10:44:43.453742Z",
     "shell.execute_reply": "2021-06-05T10:44:43.453075Z",
     "shell.execute_reply.started": "2021-06-05T10:38:51.181628Z"
    },
    "papermill": {
     "duration": 0.284927,
     "end_time": "2021-06-05T10:44:43.453879",
     "exception": false,
     "start_time": "2021-06-05T10:44:43.168952",
     "status": "completed"
    },
    "tags": []
   },
   "outputs": [
    {
     "data": {
      "text/plain": [
       "<AxesSubplot:xlabel='AMT_INCOME_TOTAL'>"
      ]
     },
     "execution_count": 34,
     "metadata": {},
     "output_type": "execute_result"
    },
    {
     "data": {
      "image/png": "[encoded data removed]",
      "text/plain": [
       "<Figure size 432x288 with 1 Axes>"
      ]
     },
     "metadata": {
      "needs_background": "light"
     },
     "output_type": "display_data"
    }
   ],
   "source": [
    "sns.boxplot(app_df['AMT_INCOME_TOTAL'])"
   ]
  },
  {
   "cell_type": "code",
   "execution_count": 35,
   "metadata": {
    "execution": {
     "iopub.execute_input": "2021-06-05T10:44:43.686257Z",
     "iopub.status.busy": "2021-06-05T10:44:43.685589Z",
     "iopub.status.idle": "2021-06-05T10:44:43.806117Z",
     "shell.execute_reply": "2021-06-05T10:44:43.805469Z",
     "shell.execute_reply.started": "2021-06-05T10:38:51.351679Z"
    },
    "papermill": {
     "duration": 0.239267,
     "end_time": "2021-06-05T10:44:43.806255",
     "exception": false,
     "start_time": "2021-06-05T10:44:43.566988",
     "status": "completed"
    },
    "tags": []
   },
   "outputs": [
    {
     "data": {
      "text/plain": [
       "<AxesSubplot:xlabel='AGE_YEARS'>"
      ]
     },
     "execution_count": 35,
     "metadata": {},
     "output_type": "execute_result"
    },
    {
     "data": {
      "image/png": "[encoded data removed]",
      "text/plain": [
       "<Figure size 432x288 with 1 Axes>"
      ]
     },
     "metadata": {
      "needs_background": "light"
     },
     "output_type": "display_data"
    }
   ],
   "source": [
    "sns.boxplot(app_df['AGE_YEARS'])"
   ]
  },
  {
   "cell_type": "code",
   "execution_count": 36,
   "metadata": {
    "execution": {
     "iopub.execute_input": "2021-06-05T10:44:44.041757Z",
     "iopub.status.busy": "2021-06-05T10:44:44.040725Z",
     "iopub.status.idle": "2021-06-05T10:44:44.193898Z",
     "shell.execute_reply": "2021-06-05T10:44:44.194356Z",
     "shell.execute_reply.started": "2021-06-05T10:38:51.474632Z"
    },
    "papermill": {
     "duration": 0.274038,
     "end_time": "2021-06-05T10:44:44.194569",
     "exception": false,
     "start_time": "2021-06-05T10:44:43.920531",
     "status": "completed"
    },
    "tags": []
   },
   "outputs": [
    {
     "data": {
      "text/plain": [
       "<AxesSubplot:xlabel='YEARS_EMPLOYED'>"
      ]
     },
     "execution_count": 36,
     "metadata": {},
     "output_type": "execute_result"
    },
    {
     "data": {
      "image/png": "[encoded data removed]",
      "text/plain": [
       "<Figure size 432x288 with 1 Axes>"
      ]
     },
     "metadata": {
      "needs_background": "light"
     },
     "output_type": "display_data"
    }
   ],
   "source": [
    "sns.boxplot(app_df['YEARS_EMPLOYED'])"
   ]
  },
  {
   "cell_type": "code",
   "execution_count": 37,
   "metadata": {
    "execution": {
     "iopub.execute_input": "2021-06-05T10:44:44.428965Z",
     "iopub.status.busy": "2021-06-05T10:44:44.428144Z",
     "iopub.status.idle": "2021-06-05T10:44:44.571687Z",
     "shell.execute_reply": "2021-06-05T10:44:44.571006Z",
     "shell.execute_reply.started": "2021-06-05T10:38:51.633809Z"
    },
    "papermill": {
     "duration": 0.262814,
     "end_time": "2021-06-05T10:44:44.571832",
     "exception": false,
     "start_time": "2021-06-05T10:44:44.309018",
     "status": "completed"
    },
    "tags": []
   },
   "outputs": [
    {
     "data": {
      "text/plain": [
       "<AxesSubplot:xlabel='CNT_FAM_MEMBERS'>"
      ]
     },
     "execution_count": 37,
     "metadata": {},
     "output_type": "execute_result"
    },
    {
     "data": {
      "image/png": "[encoded data removed]",
      "text/plain": [
       "<Figure size 432x288 with 1 Axes>"
      ]
     },
     "metadata": {
      "needs_background": "light"
     },
     "output_type": "display_data"
    }
   ],
   "source": [
    "sns.boxplot(app_df['CNT_FAM_MEMBERS'])"
   ]
  },
  {
   "cell_type": "markdown",
   "metadata": {
    "papermill": {
     "duration": 0.115151,
     "end_time": "2021-06-05T10:44:44.802924",
     "exception": false,
     "start_time": "2021-06-05T10:44:44.687773",
     "status": "completed"
    },
    "tags": []
   },
   "source": [
    "### Removing Outliers"
   ]
  },
  {
   "cell_type": "code",
   "execution_count": 38,
   "metadata": {
    "execution": {
     "iopub.execute_input": "2021-06-05T10:44:45.040341Z",
     "iopub.status.busy": "2021-06-05T10:44:45.039655Z",
     "iopub.status.idle": "2021-06-05T10:44:45.053101Z",
     "shell.execute_reply": "2021-06-05T10:44:45.052346Z",
     "shell.execute_reply.started": "2021-06-05T10:38:51.782250Z"
    },
    "papermill": {
     "duration": 0.134376,
     "end_time": "2021-06-05T10:44:45.053252",
     "exception": false,
     "start_time": "2021-06-05T10:44:44.918876",
     "status": "completed"
    },
    "tags": []
   },
   "outputs": [
    {
     "name": "stdout",
     "output_type": "stream",
     "text": [
      "high_bound : 4.0\n",
      "low_bound : 0.0\n"
     ]
    }
   ],
   "source": [
    "high_bound = app_df['CNT_CHILDREN'].quantile(0.999)\n",
    "print('high_bound :', high_bound)\n",
    "low_bound = app_df['CNT_CHILDREN'].quantile(0.001)\n",
    "print('low_bound :', low_bound)"
   ]
  },
  {
   "cell_type": "code",
   "execution_count": 39,
   "metadata": {
    "execution": {
     "iopub.execute_input": "2021-06-05T10:44:45.292851Z",
     "iopub.status.busy": "2021-06-05T10:44:45.291667Z",
     "iopub.status.idle": "2021-06-05T10:44:45.326462Z",
     "shell.execute_reply": "2021-06-05T10:44:45.325898Z",
     "shell.execute_reply.started": "2021-06-05T10:38:51.799477Z"
    },
    "papermill": {
     "duration": 0.158299,
     "end_time": "2021-06-05T10:44:45.326627",
     "exception": false,
     "start_time": "2021-06-05T10:44:45.168328",
     "status": "completed"
    },
    "tags": []
   },
   "outputs": [],
   "source": [
    "app_df = app_df[(app_df['CNT_CHILDREN']>=low_bound) & (app_df['CNT_CHILDREN']<=high_bound)]"
   ]
  },
  {
   "cell_type": "code",
   "execution_count": 40,
   "metadata": {
    "execution": {
     "iopub.execute_input": "2021-06-05T10:44:45.567241Z",
     "iopub.status.busy": "2021-06-05T10:44:45.566086Z",
     "iopub.status.idle": "2021-06-05T10:44:45.578549Z",
     "shell.execute_reply": "2021-06-05T10:44:45.577973Z",
     "shell.execute_reply.started": "2021-06-05T10:38:51.842286Z"
    },
    "papermill": {
     "duration": 0.135448,
     "end_time": "2021-06-05T10:44:45.578698",
     "exception": false,
     "start_time": "2021-06-05T10:44:45.443250",
     "status": "completed"
    },
    "tags": []
   },
   "outputs": [
    {
     "name": "stdout",
     "output_type": "stream",
     "text": [
      "high_bound : 990000.0\n",
      "low_bound : 36000.0\n"
     ]
    }
   ],
   "source": [
    "high_bound = app_df['AMT_INCOME_TOTAL'].quantile(0.999)\n",
    "print('high_bound :', high_bound)\n",
    "low_bound = app_df['AMT_INCOME_TOTAL'].quantile(0.001)\n",
    "print('low_bound :', low_bound)"
   ]
  },
  {
   "cell_type": "code",
   "execution_count": 41,
   "metadata": {
    "execution": {
     "iopub.execute_input": "2021-06-05T10:44:45.814533Z",
     "iopub.status.busy": "2021-06-05T10:44:45.813877Z",
     "iopub.status.idle": "2021-06-05T10:44:45.858727Z",
     "shell.execute_reply": "2021-06-05T10:44:45.858132Z",
     "shell.execute_reply.started": "2021-06-05T10:38:51.859095Z"
    },
    "papermill": {
     "duration": 0.164796,
     "end_time": "2021-06-05T10:44:45.858878",
     "exception": false,
     "start_time": "2021-06-05T10:44:45.694082",
     "status": "completed"
    },
    "tags": []
   },
   "outputs": [],
   "source": [
    "app_df = app_df[(app_df['AMT_INCOME_TOTAL']>=low_bound) & (app_df['AMT_INCOME_TOTAL']<=high_bound)]"
   ]
  },
  {
   "cell_type": "code",
   "execution_count": 42,
   "metadata": {
    "execution": {
     "iopub.execute_input": "2021-06-05T10:44:46.098498Z",
     "iopub.status.busy": "2021-06-05T10:44:46.097772Z",
     "iopub.status.idle": "2021-06-05T10:44:46.111999Z",
     "shell.execute_reply": "2021-06-05T10:44:46.111409Z",
     "shell.execute_reply.started": "2021-06-05T10:38:51.906458Z"
    },
    "papermill": {
     "duration": 0.137512,
     "end_time": "2021-06-05T10:44:46.112143",
     "exception": false,
     "start_time": "2021-06-05T10:44:45.974631",
     "status": "completed"
    },
    "tags": []
   },
   "outputs": [
    {
     "name": "stdout",
     "output_type": "stream",
     "text": [
      "high_bound : 40.0\n",
      "low_bound : 0.0\n"
     ]
    }
   ],
   "source": [
    "high_bound = app_df['YEARS_EMPLOYED'].quantile(0.999)\n",
    "print('high_bound :', high_bound)\n",
    "low_bound = app_df['YEARS_EMPLOYED'].quantile(0.001)\n",
    "print('low_bound :', low_bound)"
   ]
  },
  {
   "cell_type": "code",
   "execution_count": 43,
   "metadata": {
    "execution": {
     "iopub.execute_input": "2021-06-05T10:44:46.346762Z",
     "iopub.status.busy": "2021-06-05T10:44:46.346123Z",
     "iopub.status.idle": "2021-06-05T10:44:46.388280Z",
     "shell.execute_reply": "2021-06-05T10:44:46.388865Z",
     "shell.execute_reply.started": "2021-06-05T10:38:51.924870Z"
    },
    "papermill": {
     "duration": 0.161102,
     "end_time": "2021-06-05T10:44:46.389041",
     "exception": false,
     "start_time": "2021-06-05T10:44:46.227939",
     "status": "completed"
    },
    "tags": []
   },
   "outputs": [],
   "source": [
    "app_df = app_df[(app_df['YEARS_EMPLOYED']>=low_bound) & (app_df['YEARS_EMPLOYED']<=high_bound)]"
   ]
  },
  {
   "cell_type": "code",
   "execution_count": 44,
   "metadata": {
    "execution": {
     "iopub.execute_input": "2021-06-05T10:44:46.623589Z",
     "iopub.status.busy": "2021-06-05T10:44:46.622994Z",
     "iopub.status.idle": "2021-06-05T10:44:46.639594Z",
     "shell.execute_reply": "2021-06-05T10:44:46.640210Z",
     "shell.execute_reply.started": "2021-06-05T10:38:51.969243Z"
    },
    "papermill": {
     "duration": 0.134721,
     "end_time": "2021-06-05T10:44:46.640394",
     "exception": false,
     "start_time": "2021-06-05T10:44:46.505673",
     "status": "completed"
    },
    "tags": []
   },
   "outputs": [
    {
     "name": "stdout",
     "output_type": "stream",
     "text": [
      "high_bound : 6.0\n",
      "low_bound : 1.0\n"
     ]
    }
   ],
   "source": [
    "high_bound = app_df['CNT_FAM_MEMBERS'].quantile(0.999)\n",
    "print('high_bound :', high_bound)\n",
    "low_bound = app_df['CNT_FAM_MEMBERS'].quantile(0.001)\n",
    "print('low_bound :', low_bound)"
   ]
  },
  {
   "cell_type": "code",
   "execution_count": 45,
   "metadata": {
    "execution": {
     "iopub.execute_input": "2021-06-05T10:44:46.878827Z",
     "iopub.status.busy": "2021-06-05T10:44:46.878118Z",
     "iopub.status.idle": "2021-06-05T10:44:46.919690Z",
     "shell.execute_reply": "2021-06-05T10:44:46.919118Z",
     "shell.execute_reply.started": "2021-06-05T10:38:51.988675Z"
    },
    "papermill": {
     "duration": 0.163851,
     "end_time": "2021-06-05T10:44:46.919842",
     "exception": false,
     "start_time": "2021-06-05T10:44:46.755991",
     "status": "completed"
    },
    "tags": []
   },
   "outputs": [],
   "source": [
    "app_df = app_df[(app_df['CNT_FAM_MEMBERS']>=low_bound) & (app_df['CNT_FAM_MEMBERS']<=high_bound)]"
   ]
  },
  {
   "cell_type": "code",
   "execution_count": 46,
   "metadata": {
    "execution": {
     "iopub.execute_input": "2021-06-05T10:44:47.174577Z",
     "iopub.status.busy": "2021-06-05T10:44:47.173905Z",
     "iopub.status.idle": "2021-06-05T10:44:47.177004Z",
     "shell.execute_reply": "2021-06-05T10:44:47.177530Z",
     "shell.execute_reply.started": "2021-06-05T10:38:52.034416Z"
    },
    "papermill": {
     "duration": 0.140788,
     "end_time": "2021-06-05T10:44:47.177707",
     "exception": false,
     "start_time": "2021-06-05T10:44:47.036919",
     "status": "completed"
    },
    "tags": []
   },
   "outputs": [
    {
     "data": {
      "text/html": [
       "<div>\n",
       "<style scoped>\n",
       "    .dataframe tbody tr th:only-of-type {\n",
       "        vertical-align: middle;\n",
       "    }\n",
       "\n",
       "    .dataframe tbody tr th {\n",
       "        vertical-align: top;\n",
       "    }\n",
       "\n",
       "    .dataframe thead th {\n",
       "        text-align: right;\n",
       "    }\n",
       "</style>\n",
       "<table border=\"1\" class=\"dataframe\">\n",
       "  <thead>\n",
       "    <tr style=\"text-align: right;\">\n",
       "      <th></th>\n",
       "      <th>ID</th>\n",
       "      <th>CODE_GENDER</th>\n",
       "      <th>FLAG_OWN_CAR</th>\n",
       "      <th>FLAG_OWN_REALTY</th>\n",
       "      <th>CNT_CHILDREN</th>\n",
       "      <th>AMT_INCOME_TOTAL</th>\n",
       "      <th>NAME_INCOME_TYPE</th>\n",
       "      <th>NAME_EDUCATION_TYPE</th>\n",
       "      <th>NAME_FAMILY_STATUS</th>\n",
       "      <th>NAME_HOUSING_TYPE</th>\n",
       "      <th>AGE_YEARS</th>\n",
       "      <th>YEARS_EMPLOYED</th>\n",
       "      <th>CNT_FAM_MEMBERS</th>\n",
       "    </tr>\n",
       "  </thead>\n",
       "  <tbody>\n",
       "    <tr>\n",
       "      <th>0</th>\n",
       "      <td>5008804</td>\n",
       "      <td>M</td>\n",
       "      <td>Y</td>\n",
       "      <td>Y</td>\n",
       "      <td>0</td>\n",
       "      <td>427500.0</td>\n",
       "      <td>Working</td>\n",
       "      <td>Higher education</td>\n",
       "      <td>Civil marriage</td>\n",
       "      <td>Rented apartment</td>\n",
       "      <td>33.0</td>\n",
       "      <td>12.0</td>\n",
       "      <td>2.0</td>\n",
       "    </tr>\n",
       "    <tr>\n",
       "      <th>1</th>\n",
       "      <td>5008805</td>\n",
       "      <td>M</td>\n",
       "      <td>Y</td>\n",
       "      <td>Y</td>\n",
       "      <td>0</td>\n",
       "      <td>427500.0</td>\n",
       "      <td>Working</td>\n",
       "      <td>Higher education</td>\n",
       "      <td>Civil marriage</td>\n",
       "      <td>Rented apartment</td>\n",
       "      <td>33.0</td>\n",
       "      <td>12.0</td>\n",
       "      <td>2.0</td>\n",
       "    </tr>\n",
       "    <tr>\n",
       "      <th>2</th>\n",
       "      <td>5008806</td>\n",
       "      <td>M</td>\n",
       "      <td>Y</td>\n",
       "      <td>Y</td>\n",
       "      <td>0</td>\n",
       "      <td>112500.0</td>\n",
       "      <td>Working</td>\n",
       "      <td>Secondary / secondary special</td>\n",
       "      <td>Married</td>\n",
       "      <td>House / apartment</td>\n",
       "      <td>59.0</td>\n",
       "      <td>3.0</td>\n",
       "      <td>2.0</td>\n",
       "    </tr>\n",
       "    <tr>\n",
       "      <th>3</th>\n",
       "      <td>5008808</td>\n",
       "      <td>F</td>\n",
       "      <td>N</td>\n",
       "      <td>Y</td>\n",
       "      <td>0</td>\n",
       "      <td>270000.0</td>\n",
       "      <td>Commercial associate</td>\n",
       "      <td>Secondary / secondary special</td>\n",
       "      <td>Single / not married</td>\n",
       "      <td>House / apartment</td>\n",
       "      <td>52.0</td>\n",
       "      <td>8.0</td>\n",
       "      <td>1.0</td>\n",
       "    </tr>\n",
       "    <tr>\n",
       "      <th>4</th>\n",
       "      <td>5008809</td>\n",
       "      <td>F</td>\n",
       "      <td>N</td>\n",
       "      <td>Y</td>\n",
       "      <td>0</td>\n",
       "      <td>270000.0</td>\n",
       "      <td>Commercial associate</td>\n",
       "      <td>Secondary / secondary special</td>\n",
       "      <td>Single / not married</td>\n",
       "      <td>House / apartment</td>\n",
       "      <td>52.0</td>\n",
       "      <td>8.0</td>\n",
       "      <td>1.0</td>\n",
       "    </tr>\n",
       "  </tbody>\n",
       "</table>\n",
       "</div>"
      ],
      "text/plain": [
       "        ID CODE_GENDER FLAG_OWN_CAR FLAG_OWN_REALTY  CNT_CHILDREN  \\\n",
       "0  5008804           M            Y               Y             0   \n",
       "1  5008805           M            Y               Y             0   \n",
       "2  5008806           M            Y               Y             0   \n",
       "3  5008808           F            N               Y             0   \n",
       "4  5008809           F            N               Y             0   \n",
       "\n",
       "   AMT_INCOME_TOTAL      NAME_INCOME_TYPE            NAME_EDUCATION_TYPE  \\\n",
       "0          427500.0               Working               Higher education   \n",
       "1          427500.0               Working               Higher education   \n",
       "2          112500.0               Working  Secondary / secondary special   \n",
       "3          270000.0  Commercial associate  Secondary / secondary special   \n",
       "4          270000.0  Commercial associate  Secondary / secondary special   \n",
       "\n",
       "     NAME_FAMILY_STATUS  NAME_HOUSING_TYPE  AGE_YEARS  YEARS_EMPLOYED  \\\n",
       "0        Civil marriage   Rented apartment       33.0            12.0   \n",
       "1        Civil marriage   Rented apartment       33.0            12.0   \n",
       "2               Married  House / apartment       59.0             3.0   \n",
       "3  Single / not married  House / apartment       52.0             8.0   \n",
       "4  Single / not married  House / apartment       52.0             8.0   \n",
       "\n",
       "   CNT_FAM_MEMBERS  \n",
       "0              2.0  \n",
       "1              2.0  \n",
       "2              2.0  \n",
       "3              1.0  \n",
       "4              1.0  "
      ]
     },
     "execution_count": 46,
     "metadata": {},
     "output_type": "execute_result"
    }
   ],
   "source": [
    "app_df.head()"
   ]
  },
  {
   "cell_type": "markdown",
   "metadata": {
    "papermill": {
     "duration": 0.116697,
     "end_time": "2021-06-05T10:44:47.412926",
     "exception": false,
     "start_time": "2021-06-05T10:44:47.296229",
     "status": "completed"
    },
    "tags": []
   },
   "source": [
    "#### On File - Credit Record.csv"
   ]
  },
  {
   "cell_type": "code",
   "execution_count": 47,
   "metadata": {
    "execution": {
     "iopub.execute_input": "2021-06-05T10:44:47.650528Z",
     "iopub.status.busy": "2021-06-05T10:44:47.649911Z",
     "iopub.status.idle": "2021-06-05T10:44:47.658902Z",
     "shell.execute_reply": "2021-06-05T10:44:47.659443Z",
     "shell.execute_reply.started": "2021-06-05T10:38:52.058095Z"
    },
    "papermill": {
     "duration": 0.129256,
     "end_time": "2021-06-05T10:44:47.659604",
     "exception": false,
     "start_time": "2021-06-05T10:44:47.530348",
     "status": "completed"
    },
    "tags": []
   },
   "outputs": [
    {
     "data": {
      "text/html": [
       "<div>\n",
       "<style scoped>\n",
       "    .dataframe tbody tr th:only-of-type {\n",
       "        vertical-align: middle;\n",
       "    }\n",
       "\n",
       "    .dataframe tbody tr th {\n",
       "        vertical-align: top;\n",
       "    }\n",
       "\n",
       "    .dataframe thead th {\n",
       "        text-align: right;\n",
       "    }\n",
       "</style>\n",
       "<table border=\"1\" class=\"dataframe\">\n",
       "  <thead>\n",
       "    <tr style=\"text-align: right;\">\n",
       "      <th></th>\n",
       "      <th>ID</th>\n",
       "      <th>MONTHS_BALANCE</th>\n",
       "      <th>STATUS</th>\n",
       "    </tr>\n",
       "  </thead>\n",
       "  <tbody>\n",
       "    <tr>\n",
       "      <th>0</th>\n",
       "      <td>5001711</td>\n",
       "      <td>0</td>\n",
       "      <td>X</td>\n",
       "    </tr>\n",
       "    <tr>\n",
       "      <th>1</th>\n",
       "      <td>5001711</td>\n",
       "      <td>-1</td>\n",
       "      <td>0</td>\n",
       "    </tr>\n",
       "    <tr>\n",
       "      <th>2</th>\n",
       "      <td>5001711</td>\n",
       "      <td>-2</td>\n",
       "      <td>0</td>\n",
       "    </tr>\n",
       "    <tr>\n",
       "      <th>3</th>\n",
       "      <td>5001711</td>\n",
       "      <td>-3</td>\n",
       "      <td>0</td>\n",
       "    </tr>\n",
       "    <tr>\n",
       "      <th>4</th>\n",
       "      <td>5001712</td>\n",
       "      <td>0</td>\n",
       "      <td>C</td>\n",
       "    </tr>\n",
       "  </tbody>\n",
       "</table>\n",
       "</div>"
      ],
      "text/plain": [
       "        ID  MONTHS_BALANCE STATUS\n",
       "0  5001711               0      X\n",
       "1  5001711              -1      0\n",
       "2  5001711              -2      0\n",
       "3  5001711              -3      0\n",
       "4  5001712               0      C"
      ]
     },
     "execution_count": 47,
     "metadata": {},
     "output_type": "execute_result"
    }
   ],
   "source": [
    "credit_df.head()"
   ]
  },
  {
   "cell_type": "code",
   "execution_count": 48,
   "metadata": {
    "execution": {
     "iopub.execute_input": "2021-06-05T10:44:47.897602Z",
     "iopub.status.busy": "2021-06-05T10:44:47.896966Z",
     "iopub.status.idle": "2021-06-05T10:44:48.177507Z",
     "shell.execute_reply": "2021-06-05T10:44:48.176906Z",
     "shell.execute_reply.started": "2021-06-05T10:38:52.075177Z"
    },
    "papermill": {
     "duration": 0.400003,
     "end_time": "2021-06-05T10:44:48.177637",
     "exception": false,
     "start_time": "2021-06-05T10:44:47.777634",
     "status": "completed"
    },
    "tags": []
   },
   "outputs": [
    {
     "data": {
      "text/plain": [
       "ID                     0\n",
       "CODE_GENDER            0\n",
       "FLAG_OWN_CAR           0\n",
       "FLAG_OWN_REALTY        0\n",
       "CNT_CHILDREN           0\n",
       "AMT_INCOME_TOTAL       0\n",
       "NAME_INCOME_TYPE       0\n",
       "NAME_EDUCATION_TYPE    0\n",
       "NAME_FAMILY_STATUS     0\n",
       "NAME_HOUSING_TYPE      0\n",
       "AGE_YEARS              0\n",
       "YEARS_EMPLOYED         0\n",
       "CNT_FAM_MEMBERS        0\n",
       "dtype: int64"
      ]
     },
     "execution_count": 48,
     "metadata": {},
     "output_type": "execute_result"
    }
   ],
   "source": [
    "app_df.isnull().sum()"
   ]
  },
  {
   "cell_type": "code",
   "execution_count": 49,
   "metadata": {
    "execution": {
     "iopub.execute_input": "2021-06-05T10:44:48.623711Z",
     "iopub.status.busy": "2021-06-05T10:44:48.622974Z",
     "iopub.status.idle": "2021-06-05T10:44:48.630322Z",
     "shell.execute_reply": "2021-06-05T10:44:48.629703Z",
     "shell.execute_reply.started": "2021-06-05T10:38:52.363974Z"
    },
    "papermill": {
     "duration": 0.335671,
     "end_time": "2021-06-05T10:44:48.630457",
     "exception": false,
     "start_time": "2021-06-05T10:44:48.294786",
     "status": "completed"
    },
    "tags": []
   },
   "outputs": [
    {
     "data": {
      "text/plain": [
       "C    442031\n",
       "0    383120\n",
       "X    209230\n",
       "1     11090\n",
       "5      1693\n",
       "2       868\n",
       "3       320\n",
       "4       223\n",
       "Name: STATUS, dtype: int64"
      ]
     },
     "execution_count": 49,
     "metadata": {},
     "output_type": "execute_result"
    }
   ],
   "source": [
    "credit_df['STATUS'].value_counts()"
   ]
  },
  {
   "cell_type": "code",
   "execution_count": 50,
   "metadata": {
    "execution": {
     "iopub.execute_input": "2021-06-05T10:44:48.963152Z",
     "iopub.status.busy": "2021-06-05T10:44:48.962439Z",
     "iopub.status.idle": "2021-06-05T10:44:49.077867Z",
     "shell.execute_reply": "2021-06-05T10:44:49.077233Z",
     "shell.execute_reply.started": "2021-06-05T10:38:52.577769Z"
    },
    "papermill": {
     "duration": 0.329773,
     "end_time": "2021-06-05T10:44:49.078006",
     "exception": false,
     "start_time": "2021-06-05T10:44:48.748233",
     "status": "completed"
    },
    "tags": []
   },
   "outputs": [],
   "source": [
    "# categorizing 'STATUS' column to binary classification   0 : Good Client and 1 : bad client\n",
    "credit_df['STATUS'].replace(['C', 'X'],0, inplace=True)"
   ]
  },
  {
   "cell_type": "code",
   "execution_count": 51,
   "metadata": {
    "execution": {
     "iopub.execute_input": "2021-06-05T10:44:49.409829Z",
     "iopub.status.busy": "2021-06-05T10:44:49.409140Z",
     "iopub.status.idle": "2021-06-05T10:44:49.692211Z",
     "shell.execute_reply": "2021-06-05T10:44:49.691475Z",
     "shell.execute_reply.started": "2021-06-05T10:38:52.789393Z"
    },
    "papermill": {
     "duration": 0.495579,
     "end_time": "2021-06-05T10:44:49.692366",
     "exception": false,
     "start_time": "2021-06-05T10:44:49.196787",
     "status": "completed"
    },
    "tags": []
   },
   "outputs": [],
   "source": [
    "credit_df['STATUS'].replace(['2','3','4','5'],1, inplace=True)"
   ]
  },
  {
   "cell_type": "code",
   "execution_count": 52,
   "metadata": {
    "execution": {
     "iopub.execute_input": "2021-06-05T10:44:49.934640Z",
     "iopub.status.busy": "2021-06-05T10:44:49.933956Z",
     "iopub.status.idle": "2021-06-05T10:44:49.942603Z",
     "shell.execute_reply": "2021-06-05T10:44:49.942055Z",
     "shell.execute_reply.started": "2021-06-05T10:38:53.173266Z"
    },
    "papermill": {
     "duration": 0.132327,
     "end_time": "2021-06-05T10:44:49.942737",
     "exception": false,
     "start_time": "2021-06-05T10:44:49.810410",
     "status": "completed"
    },
    "tags": []
   },
   "outputs": [],
   "source": [
    "credit_df['STATUS'] = credit_df['STATUS'].astype('int')"
   ]
  },
  {
   "cell_type": "code",
   "execution_count": 53,
   "metadata": {
    "execution": {
     "iopub.execute_input": "2021-06-05T10:44:50.184296Z",
     "iopub.status.busy": "2021-06-05T10:44:50.183647Z",
     "iopub.status.idle": "2021-06-05T10:44:50.201064Z",
     "shell.execute_reply": "2021-06-05T10:44:50.201578Z",
     "shell.execute_reply.started": "2021-06-05T10:38:53.185735Z"
    },
    "papermill": {
     "duration": 0.1409,
     "end_time": "2021-06-05T10:44:50.201762",
     "exception": false,
     "start_time": "2021-06-05T10:44:50.060862",
     "status": "completed"
    },
    "tags": []
   },
   "outputs": [
    {
     "name": "stdout",
     "output_type": "stream",
     "text": [
      "<class 'pandas.core.frame.DataFrame'>\n",
      "RangeIndex: 1048575 entries, 0 to 1048574\n",
      "Data columns (total 3 columns):\n",
      " #   Column          Non-Null Count    Dtype\n",
      "---  ------          --------------    -----\n",
      " 0   ID              1048575 non-null  int64\n",
      " 1   MONTHS_BALANCE  1048575 non-null  int64\n",
      " 2   STATUS          1048575 non-null  int64\n",
      "dtypes: int64(3)\n",
      "memory usage: 24.0 MB\n"
     ]
    }
   ],
   "source": [
    "credit_df.info()"
   ]
  },
  {
   "cell_type": "code",
   "execution_count": 54,
   "metadata": {
    "execution": {
     "iopub.execute_input": "2021-06-05T10:44:50.447393Z",
     "iopub.status.busy": "2021-06-05T10:44:50.446715Z",
     "iopub.status.idle": "2021-06-05T10:44:50.460892Z",
     "shell.execute_reply": "2021-06-05T10:44:50.461356Z",
     "shell.execute_reply.started": "2021-06-05T10:38:53.211979Z"
    },
    "papermill": {
     "duration": 0.141413,
     "end_time": "2021-06-05T10:44:50.461568",
     "exception": false,
     "start_time": "2021-06-05T10:44:50.320155",
     "status": "completed"
    },
    "tags": []
   },
   "outputs": [
    {
     "data": {
      "text/plain": [
       "0    98.646353\n",
       "1     1.353647\n",
       "Name: STATUS, dtype: float64"
      ]
     },
     "execution_count": 54,
     "metadata": {},
     "output_type": "execute_result"
    }
   ],
   "source": [
    "credit_df['STATUS'].value_counts(normalize=True)*100"
   ]
  },
  {
   "cell_type": "code",
   "execution_count": 55,
   "metadata": {
    "execution": {
     "iopub.execute_input": "2021-06-05T10:44:50.705754Z",
     "iopub.status.busy": "2021-06-05T10:44:50.705058Z",
     "iopub.status.idle": "2021-06-05T10:44:50.760661Z",
     "shell.execute_reply": "2021-06-05T10:44:50.760068Z",
     "shell.execute_reply.started": "2021-06-05T10:38:53.233292Z"
    },
    "papermill": {
     "duration": 0.179912,
     "end_time": "2021-06-05T10:44:50.760802",
     "exception": false,
     "start_time": "2021-06-05T10:44:50.580890",
     "status": "completed"
    },
    "tags": []
   },
   "outputs": [],
   "source": [
    "credit_df_trans = credit_df.groupby('ID').agg(max).reset_index()"
   ]
  },
  {
   "cell_type": "code",
   "execution_count": 56,
   "metadata": {
    "execution": {
     "iopub.execute_input": "2021-06-05T10:44:51.003744Z",
     "iopub.status.busy": "2021-06-05T10:44:51.002702Z",
     "iopub.status.idle": "2021-06-05T10:44:51.012246Z",
     "shell.execute_reply": "2021-06-05T10:44:51.011617Z",
     "shell.execute_reply.started": "2021-06-05T10:38:53.288312Z"
    },
    "papermill": {
     "duration": 0.133018,
     "end_time": "2021-06-05T10:44:51.012395",
     "exception": false,
     "start_time": "2021-06-05T10:44:50.879377",
     "status": "completed"
    },
    "tags": []
   },
   "outputs": [
    {
     "data": {
      "text/html": [
       "<div>\n",
       "<style scoped>\n",
       "    .dataframe tbody tr th:only-of-type {\n",
       "        vertical-align: middle;\n",
       "    }\n",
       "\n",
       "    .dataframe tbody tr th {\n",
       "        vertical-align: top;\n",
       "    }\n",
       "\n",
       "    .dataframe thead th {\n",
       "        text-align: right;\n",
       "    }\n",
       "</style>\n",
       "<table border=\"1\" class=\"dataframe\">\n",
       "  <thead>\n",
       "    <tr style=\"text-align: right;\">\n",
       "      <th></th>\n",
       "      <th>ID</th>\n",
       "      <th>STATUS</th>\n",
       "    </tr>\n",
       "  </thead>\n",
       "  <tbody>\n",
       "    <tr>\n",
       "      <th>0</th>\n",
       "      <td>5001711</td>\n",
       "      <td>0</td>\n",
       "    </tr>\n",
       "    <tr>\n",
       "      <th>1</th>\n",
       "      <td>5001712</td>\n",
       "      <td>0</td>\n",
       "    </tr>\n",
       "    <tr>\n",
       "      <th>2</th>\n",
       "      <td>5001713</td>\n",
       "      <td>0</td>\n",
       "    </tr>\n",
       "    <tr>\n",
       "      <th>3</th>\n",
       "      <td>5001714</td>\n",
       "      <td>0</td>\n",
       "    </tr>\n",
       "    <tr>\n",
       "      <th>4</th>\n",
       "      <td>5001715</td>\n",
       "      <td>0</td>\n",
       "    </tr>\n",
       "  </tbody>\n",
       "</table>\n",
       "</div>"
      ],
      "text/plain": [
       "        ID  STATUS\n",
       "0  5001711       0\n",
       "1  5001712       0\n",
       "2  5001713       0\n",
       "3  5001714       0\n",
       "4  5001715       0"
      ]
     },
     "execution_count": 56,
     "metadata": {},
     "output_type": "execute_result"
    }
   ],
   "source": [
    "credit_df_trans.drop('MONTHS_BALANCE', axis=1, inplace=True)\n",
    "credit_df_trans.head()"
   ]
  },
  {
   "cell_type": "code",
   "execution_count": 57,
   "metadata": {
    "execution": {
     "iopub.execute_input": "2021-06-05T10:44:51.257162Z",
     "iopub.status.busy": "2021-06-05T10:44:51.256110Z",
     "iopub.status.idle": "2021-06-05T10:44:51.264101Z",
     "shell.execute_reply": "2021-06-05T10:44:51.263566Z",
     "shell.execute_reply.started": "2021-06-05T10:38:53.300759Z"
    },
    "papermill": {
     "duration": 0.132022,
     "end_time": "2021-06-05T10:44:51.264249",
     "exception": false,
     "start_time": "2021-06-05T10:44:51.132227",
     "status": "completed"
    },
    "tags": []
   },
   "outputs": [
    {
     "data": {
      "text/plain": [
       "0    88.365771\n",
       "1    11.634229\n",
       "Name: STATUS, dtype: float64"
      ]
     },
     "execution_count": 57,
     "metadata": {},
     "output_type": "execute_result"
    }
   ],
   "source": [
    "credit_df_trans['STATUS'].value_counts(normalize=True)*100"
   ]
  },
  {
   "cell_type": "markdown",
   "metadata": {
    "papermill": {
     "duration": 0.120636,
     "end_time": "2021-06-05T10:44:51.505593",
     "exception": false,
     "start_time": "2021-06-05T10:44:51.384957",
     "status": "completed"
    },
    "tags": []
   },
   "source": [
    "# Merging Dataframes"
   ]
  },
  {
   "cell_type": "code",
   "execution_count": 58,
   "metadata": {
    "execution": {
     "iopub.execute_input": "2021-06-05T10:44:51.750926Z",
     "iopub.status.busy": "2021-06-05T10:44:51.749951Z",
     "iopub.status.idle": "2021-06-05T10:44:51.882142Z",
     "shell.execute_reply": "2021-06-05T10:44:51.881169Z",
     "shell.execute_reply.started": "2021-06-05T10:38:53.319403Z"
    },
    "papermill": {
     "duration": 0.257177,
     "end_time": "2021-06-05T10:44:51.882293",
     "exception": false,
     "start_time": "2021-06-05T10:44:51.625116",
     "status": "completed"
    },
    "tags": []
   },
   "outputs": [
    {
     "data": {
      "text/html": [
       "<div>\n",
       "<style scoped>\n",
       "    .dataframe tbody tr th:only-of-type {\n",
       "        vertical-align: middle;\n",
       "    }\n",
       "\n",
       "    .dataframe tbody tr th {\n",
       "        vertical-align: top;\n",
       "    }\n",
       "\n",
       "    .dataframe thead th {\n",
       "        text-align: right;\n",
       "    }\n",
       "</style>\n",
       "<table border=\"1\" class=\"dataframe\">\n",
       "  <thead>\n",
       "    <tr style=\"text-align: right;\">\n",
       "      <th></th>\n",
       "      <th>ID</th>\n",
       "      <th>CODE_GENDER</th>\n",
       "      <th>FLAG_OWN_CAR</th>\n",
       "      <th>FLAG_OWN_REALTY</th>\n",
       "      <th>CNT_CHILDREN</th>\n",
       "      <th>AMT_INCOME_TOTAL</th>\n",
       "      <th>NAME_INCOME_TYPE</th>\n",
       "      <th>NAME_EDUCATION_TYPE</th>\n",
       "      <th>NAME_FAMILY_STATUS</th>\n",
       "      <th>NAME_HOUSING_TYPE</th>\n",
       "      <th>AGE_YEARS</th>\n",
       "      <th>YEARS_EMPLOYED</th>\n",
       "      <th>CNT_FAM_MEMBERS</th>\n",
       "      <th>STATUS</th>\n",
       "    </tr>\n",
       "  </thead>\n",
       "  <tbody>\n",
       "    <tr>\n",
       "      <th>0</th>\n",
       "      <td>5008804</td>\n",
       "      <td>M</td>\n",
       "      <td>Y</td>\n",
       "      <td>Y</td>\n",
       "      <td>0</td>\n",
       "      <td>427500.0</td>\n",
       "      <td>Working</td>\n",
       "      <td>Higher education</td>\n",
       "      <td>Civil marriage</td>\n",
       "      <td>Rented apartment</td>\n",
       "      <td>33.0</td>\n",
       "      <td>12.0</td>\n",
       "      <td>2.0</td>\n",
       "      <td>1</td>\n",
       "    </tr>\n",
       "    <tr>\n",
       "      <th>1</th>\n",
       "      <td>5008805</td>\n",
       "      <td>M</td>\n",
       "      <td>Y</td>\n",
       "      <td>Y</td>\n",
       "      <td>0</td>\n",
       "      <td>427500.0</td>\n",
       "      <td>Working</td>\n",
       "      <td>Higher education</td>\n",
       "      <td>Civil marriage</td>\n",
       "      <td>Rented apartment</td>\n",
       "      <td>33.0</td>\n",
       "      <td>12.0</td>\n",
       "      <td>2.0</td>\n",
       "      <td>1</td>\n",
       "    </tr>\n",
       "    <tr>\n",
       "      <th>2</th>\n",
       "      <td>5008806</td>\n",
       "      <td>M</td>\n",
       "      <td>Y</td>\n",
       "      <td>Y</td>\n",
       "      <td>0</td>\n",
       "      <td>112500.0</td>\n",
       "      <td>Working</td>\n",
       "      <td>Secondary / secondary special</td>\n",
       "      <td>Married</td>\n",
       "      <td>House / apartment</td>\n",
       "      <td>59.0</td>\n",
       "      <td>3.0</td>\n",
       "      <td>2.0</td>\n",
       "      <td>0</td>\n",
       "    </tr>\n",
       "    <tr>\n",
       "      <th>3</th>\n",
       "      <td>5008808</td>\n",
       "      <td>F</td>\n",
       "      <td>N</td>\n",
       "      <td>Y</td>\n",
       "      <td>0</td>\n",
       "      <td>270000.0</td>\n",
       "      <td>Commercial associate</td>\n",
       "      <td>Secondary / secondary special</td>\n",
       "      <td>Single / not married</td>\n",
       "      <td>House / apartment</td>\n",
       "      <td>52.0</td>\n",
       "      <td>8.0</td>\n",
       "      <td>1.0</td>\n",
       "      <td>0</td>\n",
       "    </tr>\n",
       "    <tr>\n",
       "      <th>4</th>\n",
       "      <td>5008809</td>\n",
       "      <td>F</td>\n",
       "      <td>N</td>\n",
       "      <td>Y</td>\n",
       "      <td>0</td>\n",
       "      <td>270000.0</td>\n",
       "      <td>Commercial associate</td>\n",
       "      <td>Secondary / secondary special</td>\n",
       "      <td>Single / not married</td>\n",
       "      <td>House / apartment</td>\n",
       "      <td>52.0</td>\n",
       "      <td>8.0</td>\n",
       "      <td>1.0</td>\n",
       "      <td>0</td>\n",
       "    </tr>\n",
       "  </tbody>\n",
       "</table>\n",
       "</div>"
      ],
      "text/plain": [
       "        ID CODE_GENDER FLAG_OWN_CAR FLAG_OWN_REALTY  CNT_CHILDREN  \\\n",
       "0  5008804           M            Y               Y             0   \n",
       "1  5008805           M            Y               Y             0   \n",
       "2  5008806           M            Y               Y             0   \n",
       "3  5008808           F            N               Y             0   \n",
       "4  5008809           F            N               Y             0   \n",
       "\n",
       "   AMT_INCOME_TOTAL      NAME_INCOME_TYPE            NAME_EDUCATION_TYPE  \\\n",
       "0          427500.0               Working               Higher education   \n",
       "1          427500.0               Working               Higher education   \n",
       "2          112500.0               Working  Secondary / secondary special   \n",
       "3          270000.0  Commercial associate  Secondary / secondary special   \n",
       "4          270000.0  Commercial associate  Secondary / secondary special   \n",
       "\n",
       "     NAME_FAMILY_STATUS  NAME_HOUSING_TYPE  AGE_YEARS  YEARS_EMPLOYED  \\\n",
       "0        Civil marriage   Rented apartment       33.0            12.0   \n",
       "1        Civil marriage   Rented apartment       33.0            12.0   \n",
       "2               Married  House / apartment       59.0             3.0   \n",
       "3  Single / not married  House / apartment       52.0             8.0   \n",
       "4  Single / not married  House / apartment       52.0             8.0   \n",
       "\n",
       "   CNT_FAM_MEMBERS  STATUS  \n",
       "0              2.0       1  \n",
       "1              2.0       1  \n",
       "2              2.0       0  \n",
       "3              1.0       0  \n",
       "4              1.0       0  "
      ]
     },
     "execution_count": 58,
     "metadata": {},
     "output_type": "execute_result"
    }
   ],
   "source": [
    "# merging the two datasets based on 'ID'\n",
    "final_df = pd.merge(app_df, credit_df_trans, on='ID', how='inner')\n",
    "final_df.head()"
   ]
  },
  {
   "cell_type": "code",
   "execution_count": 59,
   "metadata": {
    "execution": {
     "iopub.execute_input": "2021-06-05T10:44:52.132627Z",
     "iopub.status.busy": "2021-06-05T10:44:52.131821Z",
     "iopub.status.idle": "2021-06-05T10:44:52.135518Z",
     "shell.execute_reply": "2021-06-05T10:44:52.135006Z",
     "shell.execute_reply.started": "2021-06-05T10:38:53.455460Z"
    },
    "papermill": {
     "duration": 0.129873,
     "end_time": "2021-06-05T10:44:52.135663",
     "exception": false,
     "start_time": "2021-06-05T10:44:52.005790",
     "status": "completed"
    },
    "tags": []
   },
   "outputs": [
    {
     "data": {
      "text/plain": [
       "(36326, 14)"
      ]
     },
     "execution_count": 59,
     "metadata": {},
     "output_type": "execute_result"
    }
   ],
   "source": [
    "final_df.shape"
   ]
  },
  {
   "cell_type": "code",
   "execution_count": 60,
   "metadata": {
    "execution": {
     "iopub.execute_input": "2021-06-05T10:44:53.461883Z",
     "iopub.status.busy": "2021-06-05T10:44:53.461241Z",
     "iopub.status.idle": "2021-06-05T10:44:53.476179Z",
     "shell.execute_reply": "2021-06-05T10:44:53.476694Z",
     "shell.execute_reply.started": "2021-06-05T10:38:53.566770Z"
    },
    "papermill": {
     "duration": 0.138686,
     "end_time": "2021-06-05T10:44:53.476860",
     "exception": false,
     "start_time": "2021-06-05T10:44:53.338174",
     "status": "completed"
    },
    "tags": []
   },
   "outputs": [
    {
     "data": {
      "text/plain": [
       "ID                     0\n",
       "CODE_GENDER            0\n",
       "FLAG_OWN_CAR           0\n",
       "FLAG_OWN_REALTY        0\n",
       "CNT_CHILDREN           0\n",
       "AMT_INCOME_TOTAL       0\n",
       "NAME_INCOME_TYPE       0\n",
       "NAME_EDUCATION_TYPE    0\n",
       "NAME_FAMILY_STATUS     0\n",
       "NAME_HOUSING_TYPE      0\n",
       "AGE_YEARS              0\n",
       "YEARS_EMPLOYED         0\n",
       "CNT_FAM_MEMBERS        0\n",
       "STATUS                 0\n",
       "dtype: int64"
      ]
     },
     "execution_count": 60,
     "metadata": {},
     "output_type": "execute_result"
    }
   ],
   "source": [
    "final_df.isnull().sum()"
   ]
  },
  {
   "cell_type": "code",
   "execution_count": 61,
   "metadata": {
    "execution": {
     "iopub.execute_input": "2021-06-05T10:44:53.726974Z",
     "iopub.status.busy": "2021-06-05T10:44:53.726120Z",
     "iopub.status.idle": "2021-06-05T10:44:53.730203Z",
     "shell.execute_reply": "2021-06-05T10:44:53.729608Z",
     "shell.execute_reply.started": "2021-06-05T10:38:53.594463Z"
    },
    "papermill": {
     "duration": 0.131113,
     "end_time": "2021-06-05T10:44:53.730346",
     "exception": false,
     "start_time": "2021-06-05T10:44:53.599233",
     "status": "completed"
    },
    "tags": []
   },
   "outputs": [
    {
     "data": {
      "text/plain": [
       "0    88.234323\n",
       "1    11.765677\n",
       "Name: STATUS, dtype: float64"
      ]
     },
     "execution_count": 61,
     "metadata": {},
     "output_type": "execute_result"
    }
   ],
   "source": [
    "final_df['STATUS'].value_counts(normalize=True)*100"
   ]
  },
  {
   "cell_type": "markdown",
   "metadata": {
    "papermill": {
     "duration": 0.120797,
     "end_time": "2021-06-05T10:44:53.971033",
     "exception": false,
     "start_time": "2021-06-05T10:44:53.850236",
     "status": "completed"
    },
    "tags": []
   },
   "source": [
    "# Visualization"
   ]
  },
  {
   "cell_type": "code",
   "execution_count": 62,
   "metadata": {
    "execution": {
     "iopub.execute_input": "2021-06-05T10:44:54.234700Z",
     "iopub.status.busy": "2021-06-05T10:44:54.233670Z",
     "iopub.status.idle": "2021-06-05T10:44:54.237554Z",
     "shell.execute_reply": "2021-06-05T10:44:54.237991Z",
     "shell.execute_reply.started": "2021-06-05T10:38:53.606879Z"
    },
    "papermill": {
     "duration": 0.144408,
     "end_time": "2021-06-05T10:44:54.238163",
     "exception": false,
     "start_time": "2021-06-05T10:44:54.093755",
     "status": "completed"
    },
    "tags": []
   },
   "outputs": [
    {
     "data": {
      "text/html": [
       "<div>\n",
       "<style scoped>\n",
       "    .dataframe tbody tr th:only-of-type {\n",
       "        vertical-align: middle;\n",
       "    }\n",
       "\n",
       "    .dataframe tbody tr th {\n",
       "        vertical-align: top;\n",
       "    }\n",
       "\n",
       "    .dataframe thead th {\n",
       "        text-align: right;\n",
       "    }\n",
       "</style>\n",
       "<table border=\"1\" class=\"dataframe\">\n",
       "  <thead>\n",
       "    <tr style=\"text-align: right;\">\n",
       "      <th></th>\n",
       "      <th>ID</th>\n",
       "      <th>CODE_GENDER</th>\n",
       "      <th>FLAG_OWN_CAR</th>\n",
       "      <th>FLAG_OWN_REALTY</th>\n",
       "      <th>CNT_CHILDREN</th>\n",
       "      <th>AMT_INCOME_TOTAL</th>\n",
       "      <th>NAME_INCOME_TYPE</th>\n",
       "      <th>NAME_EDUCATION_TYPE</th>\n",
       "      <th>NAME_FAMILY_STATUS</th>\n",
       "      <th>NAME_HOUSING_TYPE</th>\n",
       "      <th>AGE_YEARS</th>\n",
       "      <th>YEARS_EMPLOYED</th>\n",
       "      <th>CNT_FAM_MEMBERS</th>\n",
       "      <th>STATUS</th>\n",
       "    </tr>\n",
       "  </thead>\n",
       "  <tbody>\n",
       "    <tr>\n",
       "      <th>0</th>\n",
       "      <td>5008804</td>\n",
       "      <td>M</td>\n",
       "      <td>Y</td>\n",
       "      <td>Y</td>\n",
       "      <td>0</td>\n",
       "      <td>427500.0</td>\n",
       "      <td>Working</td>\n",
       "      <td>Higher education</td>\n",
       "      <td>Civil marriage</td>\n",
       "      <td>Rented apartment</td>\n",
       "      <td>33.0</td>\n",
       "      <td>12.0</td>\n",
       "      <td>2.0</td>\n",
       "      <td>1</td>\n",
       "    </tr>\n",
       "    <tr>\n",
       "      <th>1</th>\n",
       "      <td>5008805</td>\n",
       "      <td>M</td>\n",
       "      <td>Y</td>\n",
       "      <td>Y</td>\n",
       "      <td>0</td>\n",
       "      <td>427500.0</td>\n",
       "      <td>Working</td>\n",
       "      <td>Higher education</td>\n",
       "      <td>Civil marriage</td>\n",
       "      <td>Rented apartment</td>\n",
       "      <td>33.0</td>\n",
       "      <td>12.0</td>\n",
       "      <td>2.0</td>\n",
       "      <td>1</td>\n",
       "    </tr>\n",
       "    <tr>\n",
       "      <th>2</th>\n",
       "      <td>5008806</td>\n",
       "      <td>M</td>\n",
       "      <td>Y</td>\n",
       "      <td>Y</td>\n",
       "      <td>0</td>\n",
       "      <td>112500.0</td>\n",
       "      <td>Working</td>\n",
       "      <td>Secondary / secondary special</td>\n",
       "      <td>Married</td>\n",
       "      <td>House / apartment</td>\n",
       "      <td>59.0</td>\n",
       "      <td>3.0</td>\n",
       "      <td>2.0</td>\n",
       "      <td>0</td>\n",
       "    </tr>\n",
       "    <tr>\n",
       "      <th>3</th>\n",
       "      <td>5008808</td>\n",
       "      <td>F</td>\n",
       "      <td>N</td>\n",
       "      <td>Y</td>\n",
       "      <td>0</td>\n",
       "      <td>270000.0</td>\n",
       "      <td>Commercial associate</td>\n",
       "      <td>Secondary / secondary special</td>\n",
       "      <td>Single / not married</td>\n",
       "      <td>House / apartment</td>\n",
       "      <td>52.0</td>\n",
       "      <td>8.0</td>\n",
       "      <td>1.0</td>\n",
       "      <td>0</td>\n",
       "    </tr>\n",
       "    <tr>\n",
       "      <th>4</th>\n",
       "      <td>5008809</td>\n",
       "      <td>F</td>\n",
       "      <td>N</td>\n",
       "      <td>Y</td>\n",
       "      <td>0</td>\n",
       "      <td>270000.0</td>\n",
       "      <td>Commercial associate</td>\n",
       "      <td>Secondary / secondary special</td>\n",
       "      <td>Single / not married</td>\n",
       "      <td>House / apartment</td>\n",
       "      <td>52.0</td>\n",
       "      <td>8.0</td>\n",
       "      <td>1.0</td>\n",
       "      <td>0</td>\n",
       "    </tr>\n",
       "  </tbody>\n",
       "</table>\n",
       "</div>"
      ],
      "text/plain": [
       "        ID CODE_GENDER FLAG_OWN_CAR FLAG_OWN_REALTY  CNT_CHILDREN  \\\n",
       "0  5008804           M            Y               Y             0   \n",
       "1  5008805           M            Y               Y             0   \n",
       "2  5008806           M            Y               Y             0   \n",
       "3  5008808           F            N               Y             0   \n",
       "4  5008809           F            N               Y             0   \n",
       "\n",
       "   AMT_INCOME_TOTAL      NAME_INCOME_TYPE            NAME_EDUCATION_TYPE  \\\n",
       "0          427500.0               Working               Higher education   \n",
       "1          427500.0               Working               Higher education   \n",
       "2          112500.0               Working  Secondary / secondary special   \n",
       "3          270000.0  Commercial associate  Secondary / secondary special   \n",
       "4          270000.0  Commercial associate  Secondary / secondary special   \n",
       "\n",
       "     NAME_FAMILY_STATUS  NAME_HOUSING_TYPE  AGE_YEARS  YEARS_EMPLOYED  \\\n",
       "0        Civil marriage   Rented apartment       33.0            12.0   \n",
       "1        Civil marriage   Rented apartment       33.0            12.0   \n",
       "2               Married  House / apartment       59.0             3.0   \n",
       "3  Single / not married  House / apartment       52.0             8.0   \n",
       "4  Single / not married  House / apartment       52.0             8.0   \n",
       "\n",
       "   CNT_FAM_MEMBERS  STATUS  \n",
       "0              2.0       1  \n",
       "1              2.0       1  \n",
       "2              2.0       0  \n",
       "3              1.0       0  \n",
       "4              1.0       0  "
      ]
     },
     "execution_count": 62,
     "metadata": {},
     "output_type": "execute_result"
    }
   ],
   "source": [
    "final_df.head()"
   ]
  },
  {
   "cell_type": "code",
   "execution_count": 63,
   "metadata": {
    "execution": {
     "iopub.execute_input": "2021-06-05T10:44:54.490662Z",
     "iopub.status.busy": "2021-06-05T10:44:54.489783Z",
     "iopub.status.idle": "2021-06-05T10:44:55.034124Z",
     "shell.execute_reply": "2021-06-05T10:44:55.033620Z",
     "shell.execute_reply.started": "2021-06-05T10:38:53.638518Z"
    },
    "papermill": {
     "duration": 0.673074,
     "end_time": "2021-06-05T10:44:55.034263",
     "exception": false,
     "start_time": "2021-06-05T10:44:54.361189",
     "status": "completed"
    },
    "tags": []
   },
   "outputs": [
    {
     "data": {
      "image/png": "[encoded data removed]",
      "text/plain": [
       "<Figure size 576x576 with 2 Axes>"
      ]
     },
     "metadata": {
      "needs_background": "light"
     },
     "output_type": "display_data"
    }
   ],
   "source": [
    "# This graph shows that, there is no column (Feature) which is highly co-related with 'Status'\n",
    "plt.figure(figsize = (8,8))\n",
    "sns.heatmap(final_df.corr(), annot=True)\n",
    "plt.show()"
   ]
  },
  {
   "cell_type": "code",
   "execution_count": 64,
   "metadata": {
    "execution": {
     "iopub.execute_input": "2021-06-05T10:44:55.632393Z",
     "iopub.status.busy": "2021-06-05T10:44:55.631731Z",
     "iopub.status.idle": "2021-06-05T10:44:55.715667Z",
     "shell.execute_reply": "2021-06-05T10:44:55.716109Z",
     "shell.execute_reply.started": "2021-06-05T10:38:54.254523Z"
    },
    "papermill": {
     "duration": 0.214839,
     "end_time": "2021-06-05T10:44:55.716279",
     "exception": false,
     "start_time": "2021-06-05T10:44:55.501440",
     "status": "completed"
    },
    "tags": []
   },
   "outputs": [
    {
     "data": {
      "image/png": "[encoded data removed]",
      "text/plain": [
       "<Figure size 432x288 with 1 Axes>"
      ]
     },
     "metadata": {},
     "output_type": "display_data"
    }
   ],
   "source": [
    "# This graph shows that, majority of application are approved for Female's\n",
    "plt.pie(final_df[final_df['STATUS']==0]['CODE_GENDER'].value_counts(), labels=['Female', 'Male'], autopct='%1.2f%%')\n",
    "plt.title('% of Applications Approved based on Gender')\n",
    "plt.show()"
   ]
  },
  {
   "cell_type": "code",
   "execution_count": 65,
   "metadata": {
    "execution": {
     "iopub.execute_input": "2021-06-05T10:44:56.001931Z",
     "iopub.status.busy": "2021-06-05T10:44:55.999658Z",
     "iopub.status.idle": "2021-06-05T10:44:56.061370Z",
     "shell.execute_reply": "2021-06-05T10:44:56.061859Z",
     "shell.execute_reply.started": "2021-06-05T10:38:54.346052Z"
    },
    "papermill": {
     "duration": 0.22143,
     "end_time": "2021-06-05T10:44:56.062041",
     "exception": false,
     "start_time": "2021-06-05T10:44:55.840611",
     "status": "completed"
    },
    "tags": []
   },
   "outputs": [
    {
     "data": {
      "image/png": "[encoded data removed]",
      "text/plain": [
       "<Figure size 432x288 with 1 Axes>"
      ]
     },
     "metadata": {},
     "output_type": "display_data"
    }
   ],
   "source": [
    "# This graph shows that, majority of applicant's dont own a car\n",
    "plt.pie(final_df['FLAG_OWN_CAR'].value_counts(), labels=['No', 'Yes'], autopct='%1.2f%%')\n",
    "plt.title('% of Applications submitted based on owning a Car')\n",
    "plt.show()"
   ]
  },
  {
   "cell_type": "code",
   "execution_count": 66,
   "metadata": {
    "execution": {
     "iopub.execute_input": "2021-06-05T10:44:56.343207Z",
     "iopub.status.busy": "2021-06-05T10:44:56.342453Z",
     "iopub.status.idle": "2021-06-05T10:44:56.409438Z",
     "shell.execute_reply": "2021-06-05T10:44:56.408943Z",
     "shell.execute_reply.started": "2021-06-05T10:38:54.444195Z"
    },
    "papermill": {
     "duration": 0.221766,
     "end_time": "2021-06-05T10:44:56.409589",
     "exception": false,
     "start_time": "2021-06-05T10:44:56.187823",
     "status": "completed"
    },
    "tags": []
   },
   "outputs": [
    {
     "data": {
      "image/png": "[encoded data removed]",
      "text/plain": [
       "<Figure size 432x288 with 1 Axes>"
      ]
     },
     "metadata": {},
     "output_type": "display_data"
    }
   ],
   "source": [
    "# This graph shows that, majority of applicant's own a Real Estate property / House\n",
    "plt.pie(final_df['FLAG_OWN_REALTY'].value_counts(), labels=['Yes','No'], autopct='%1.2f%%')\n",
    "plt.title('% of Applications submitted based on owning a Real estate property')\n",
    "plt.show()"
   ]
  },
  {
   "cell_type": "code",
   "execution_count": 67,
   "metadata": {
    "execution": {
     "iopub.execute_input": "2021-06-05T10:44:56.685673Z",
     "iopub.status.busy": "2021-06-05T10:44:56.671914Z",
     "iopub.status.idle": "2021-06-05T10:44:56.880843Z",
     "shell.execute_reply": "2021-06-05T10:44:56.880218Z",
     "shell.execute_reply.started": "2021-06-05T10:38:54.545471Z"
    },
    "papermill": {
     "duration": 0.344123,
     "end_time": "2021-06-05T10:44:56.880985",
     "exception": false,
     "start_time": "2021-06-05T10:44:56.536862",
     "status": "completed"
    },
    "tags": []
   },
   "outputs": [
    {
     "data": {
      "image/png": "[encoded data removed]",
      "text/plain": [
       "<Figure size 576x576 with 1 Axes>"
      ]
     },
     "metadata": {},
     "output_type": "display_data"
    }
   ],
   "source": [
    "# This graph shows that, majority of applicant's don't have any children\n",
    "plt.figure(figsize = (8,8))\n",
    "plt.pie(final_df['CNT_CHILDREN'].value_counts(), labels=final_df['CNT_CHILDREN'].value_counts().index, autopct='%1.2f%%')\n",
    "plt.title('% of Applications submitted based on Children count')\n",
    "plt.legend()\n",
    "plt.show()"
   ]
  },
  {
   "cell_type": "code",
   "execution_count": 68,
   "metadata": {
    "execution": {
     "iopub.execute_input": "2021-06-05T10:44:57.163535Z",
     "iopub.status.busy": "2021-06-05T10:44:57.162846Z",
     "iopub.status.idle": "2021-06-05T10:44:57.301785Z",
     "shell.execute_reply": "2021-06-05T10:44:57.301149Z",
     "shell.execute_reply.started": "2021-06-05T10:38:54.771849Z"
    },
    "papermill": {
     "duration": 0.293477,
     "end_time": "2021-06-05T10:44:57.301932",
     "exception": false,
     "start_time": "2021-06-05T10:44:57.008455",
     "status": "completed"
    },
    "tags": []
   },
   "outputs": [
    {
     "data": {
      "image/png": "[encoded data removed]",
      "text/plain": [
       "<Figure size 432x288 with 1 Axes>"
      ]
     },
     "metadata": {
      "needs_background": "light"
     },
     "output_type": "display_data"
    }
   ],
   "source": [
    "# This graph shows majority of applicant's income \n",
    "income_plot = pd.Series(final_df.AMT_INCOME_TOTAL, name=\"income\")\n",
    "plt.ylabel('Percentage Of Applicants')\n",
    "sns.distplot(income_plot)\n",
    "plt.show()\n"
   ]
  },
  {
   "cell_type": "code",
   "execution_count": 69,
   "metadata": {},
   "outputs": [
    {
     "data": {
      "image/png": "[encoded data removed]",
      "text/plain": [
       "<Figure size 432x288 with 1 Axes>"
      ]
     },
     "metadata": {
      "needs_background": "light"
     },
     "output_type": "display_data"
    }
   ],
   "source": [
    "#We can notice that most applicants' income is lower than 40000. So we select these applicants to get box plot.\n",
    "sns.boxplot(x=\"STATUS\", y=\"AMT_INCOME_TOTAL\", data=final_df[final_df.AMT_INCOME_TOTAL<=400000])\n",
    "plt.show()"
   ]
  },
  {
   "cell_type": "code",
   "execution_count": 70,
   "metadata": {
    "execution": {
     "iopub.execute_input": "2021-06-05T10:44:57.600336Z",
     "iopub.status.busy": "2021-06-05T10:44:57.593395Z",
     "iopub.status.idle": "2021-06-05T10:44:57.794257Z",
     "shell.execute_reply": "2021-06-05T10:44:57.793751Z",
     "shell.execute_reply.started": "2021-06-05T10:38:54.942203Z"
    },
    "papermill": {
     "duration": 0.366347,
     "end_time": "2021-06-05T10:44:57.794416",
     "exception": false,
     "start_time": "2021-06-05T10:44:57.428069",
     "status": "completed"
    },
    "tags": []
   },
   "outputs": [
    {
     "data": {
      "image/png": "[encoded data removed]",
      "text/plain": [
       "<Figure size 576x576 with 1 Axes>"
      ]
     },
     "metadata": {},
     "output_type": "display_data"
    }
   ],
   "source": [
    "# This graph shows that, majority of applicant's are working professional\n",
    "plt.figure(figsize = (8,8))\n",
    "plt.pie(final_df['NAME_INCOME_TYPE'].value_counts(), labels=final_df['NAME_INCOME_TYPE'].value_counts().index, autopct='%1.2f%%')\n",
    "plt.title('% of Applications submitted based on Income Type')\n",
    "plt.legend()\n",
    "plt.show()"
   ]
  },
  {
   "cell_type": "code",
   "execution_count": 71,
   "metadata": {
    "execution": {
     "iopub.execute_input": "2021-06-05T10:44:58.090990Z",
     "iopub.status.busy": "2021-06-05T10:44:58.090320Z",
     "iopub.status.idle": "2021-06-05T10:44:58.310834Z",
     "shell.execute_reply": "2021-06-05T10:44:58.311328Z",
     "shell.execute_reply.started": "2021-06-05T10:38:55.184635Z"
    },
    "papermill": {
     "duration": 0.386909,
     "end_time": "2021-06-05T10:44:58.311512",
     "exception": false,
     "start_time": "2021-06-05T10:44:57.924603",
     "status": "completed"
    },
    "tags": []
   },
   "outputs": [
    {
     "data": {
      "image/png": "[encoded data removed]",
      "text/plain": [
       "<Figure size 576x576 with 1 Axes>"
      ]
     },
     "metadata": {},
     "output_type": "display_data"
    }
   ],
   "source": [
    "# This graph shows that, majority of applicant's completed the Secondary Education\n",
    "plt.figure(figsize=(8,8))\n",
    "plt.pie(final_df['NAME_EDUCATION_TYPE'].value_counts(), labels=final_df['NAME_EDUCATION_TYPE'].value_counts().index, autopct='%1.2f%%')\n",
    "plt.title('% of Applications submitted based on Education')\n",
    "plt.legend()\n",
    "plt.show()"
   ]
  },
  {
   "cell_type": "code",
   "execution_count": 72,
   "metadata": {
    "execution": {
     "iopub.execute_input": "2021-06-05T10:44:58.593470Z",
     "iopub.status.busy": "2021-06-05T10:44:58.592814Z",
     "iopub.status.idle": "2021-06-05T10:44:58.736965Z",
     "shell.execute_reply": "2021-06-05T10:44:58.736464Z",
     "shell.execute_reply.started": "2021-06-05T10:38:55.445194Z"
    },
    "papermill": {
     "duration": 0.29561,
     "end_time": "2021-06-05T10:44:58.737110",
     "exception": false,
     "start_time": "2021-06-05T10:44:58.441500",
     "status": "completed"
    },
    "tags": []
   },
   "outputs": [
    {
     "data": {
      "image/png": "[encoded data removed]",
      "text/plain": [
       "<Figure size 576x576 with 1 Axes>"
      ]
     },
     "metadata": {
      "needs_background": "light"
     },
     "output_type": "display_data"
    }
   ],
   "source": [
    "# This graph shows that, majority of applicant's are married\n",
    "plt.figure(figsize=(8,8))\n",
    "sns.barplot(final_df['NAME_FAMILY_STATUS'].value_counts().index, final_df['NAME_FAMILY_STATUS'].value_counts().values)\n",
    "plt.title('No of Applications submitted based on Family Status')\n",
    "plt.show()"
   ]
  },
  {
   "cell_type": "code",
   "execution_count": 73,
   "metadata": {
    "execution": {
     "iopub.execute_input": "2021-06-05T10:44:59.079462Z",
     "iopub.status.busy": "2021-06-05T10:44:59.078798Z",
     "iopub.status.idle": "2021-06-05T10:44:59.212986Z",
     "shell.execute_reply": "2021-06-05T10:44:59.213488Z",
     "shell.execute_reply.started": "2021-06-05T10:38:55.612544Z"
    },
    "papermill": {
     "duration": 0.302869,
     "end_time": "2021-06-05T10:44:59.213707",
     "exception": false,
     "start_time": "2021-06-05T10:44:58.910838",
     "status": "completed"
    },
    "tags": []
   },
   "outputs": [
    {
     "data": {
      "image/png": "[encoded data removed]",
      "text/plain": [
       "<Figure size 864x360 with 1 Axes>"
      ]
     },
     "metadata": {
      "needs_background": "light"
     },
     "output_type": "display_data"
    }
   ],
   "source": [
    "# This graph shows that, majority of applicant's lives in House / Apartment\n",
    "plt.figure(figsize=(12,5))\n",
    "sns.barplot(final_df['NAME_HOUSING_TYPE'].value_counts().index, final_df['NAME_HOUSING_TYPE'].value_counts().values)\n",
    "plt.title('No of Applications submitted based on Housing Type')\n",
    "plt.show()"
   ]
  },
  {
   "cell_type": "code",
   "execution_count": 74,
   "metadata": {
    "execution": {
     "iopub.execute_input": "2021-06-05T10:44:59.480608Z",
     "iopub.status.busy": "2021-06-05T10:44:59.479978Z",
     "iopub.status.idle": "2021-06-05T10:44:59.641942Z",
     "shell.execute_reply": "2021-06-05T10:44:59.641411Z",
     "shell.execute_reply.started": "2021-06-05T10:38:55.786113Z"
    },
    "papermill": {
     "duration": 0.296475,
     "end_time": "2021-06-05T10:44:59.642088",
     "exception": false,
     "start_time": "2021-06-05T10:44:59.345613",
     "status": "completed"
    },
    "scrolled": true,
    "tags": []
   },
   "outputs": [
    {
     "data": {
      "image/png": "[encoded data removed]",
      "text/plain": [
       "<Figure size 432x288 with 1 Axes>"
      ]
     },
     "metadata": {
      "needs_background": "light"
     },
     "output_type": "display_data"
    }
   ],
   "source": [
    "# This graph shows that, majority of applicant's are 25 to 65 years old\n",
    "plt.hist(final_df['AGE_YEARS'], bins=20)\n",
    "plt.xlabel('Age')\n",
    "plt.title('Histogram')\n",
    "plt.show()"
   ]
  },
  {
   "cell_type": "code",
   "execution_count": 75,
   "metadata": {
    "execution": {
     "iopub.execute_input": "2021-06-05T10:44:59.934354Z",
     "iopub.status.busy": "2021-06-05T10:44:59.933666Z",
     "iopub.status.idle": "2021-06-05T10:45:00.089335Z",
     "shell.execute_reply": "2021-06-05T10:45:00.089885Z",
     "shell.execute_reply.started": "2021-06-05T10:38:55.955591Z"
    },
    "papermill": {
     "duration": 0.314465,
     "end_time": "2021-06-05T10:45:00.090067",
     "exception": false,
     "start_time": "2021-06-05T10:44:59.775602",
     "status": "completed"
    },
    "tags": []
   },
   "outputs": [
    {
     "data": {
      "image/png": "[encoded data removed]",
      "text/plain": [
       "<Figure size 432x288 with 1 Axes>"
      ]
     },
     "metadata": {
      "needs_background": "light"
     },
     "output_type": "display_data"
    }
   ],
   "source": [
    "# This graph shows that, majority of applicant's are Employed for 0 to 7 years\n",
    "plt.hist(final_df['YEARS_EMPLOYED'], bins=20)\n",
    "plt.xlabel('No of Years Employed')\n",
    "plt.title('Histogram')\n",
    "plt.show()"
   ]
  },
  {
   "cell_type": "code",
   "execution_count": 76,
   "metadata": {
    "execution": {
     "iopub.execute_input": "2021-06-05T10:45:00.365365Z",
     "iopub.status.busy": "2021-06-05T10:45:00.364227Z",
     "iopub.status.idle": "2021-06-05T10:45:00.900049Z",
     "shell.execute_reply": "2021-06-05T10:45:00.900589Z",
     "shell.execute_reply.started": "2021-06-05T10:38:56.154476Z"
    },
    "papermill": {
     "duration": 0.676304,
     "end_time": "2021-06-05T10:45:00.900758",
     "exception": false,
     "start_time": "2021-06-05T10:45:00.224454",
     "status": "completed"
    },
    "scrolled": true,
    "tags": []
   },
   "outputs": [
    {
     "data": {
      "image/png": "[encoded data removed]",
      "text/plain": [
       "<Figure size 432x288 with 1 Axes>"
      ]
     },
     "metadata": {
      "needs_background": "light"
     },
     "output_type": "display_data"
    }
   ],
   "source": [
    "# This graph shows that, majority of applications are rejected if Total income & years of Employment is less\n",
    "sns.scatterplot(final_df['YEARS_EMPLOYED'], final_df['AMT_INCOME_TOTAL'], hue=final_df['STATUS'])\n",
    "plt.title('Scatter Plot')\n",
    "plt.show()"
   ]
  },
  {
   "cell_type": "code",
   "execution_count": 77,
   "metadata": {},
   "outputs": [
    {
     "data": {
      "image/png": "[encoded data removed]",
      "text/plain": [
       "<Figure size 432x288 with 1 Axes>"
      ]
     },
     "metadata": {
      "needs_background": "light"
     },
     "output_type": "display_data"
    }
   ],
   "source": [
    "# This graph shows that, majority of applications might be rejected if Total income is less, Age based rejection is equally distributed\n",
    "sns.scatterplot(final_df['AGE_YEARS'], final_df['AMT_INCOME_TOTAL'], hue=final_df['STATUS'])\n",
    "plt.title('Scatter Plot')\n",
    "plt.show()"
   ]
  },
  {
   "cell_type": "markdown",
   "metadata": {},
   "source": [
    "There are 7 binary features in the dataset Gender, Car, Realty, Mobile, Work_phone, Phone and Email. We find every applicant has a mobile, work phone and email. So we drop these columns Mobile."
   ]
  },
  {
   "cell_type": "markdown",
   "metadata": {
    "papermill": {
     "duration": 0.137271,
     "end_time": "2021-06-05T10:45:01.176203",
     "exception": false,
     "start_time": "2021-06-05T10:45:01.038932",
     "status": "completed"
    },
    "tags": []
   },
   "source": [
    "# Feature Selection"
   ]
  },
  {
   "cell_type": "code",
   "execution_count": 80,
   "metadata": {
    "execution": {
     "iopub.execute_input": "2021-06-05T10:45:01.469776Z",
     "iopub.status.busy": "2021-06-05T10:45:01.468859Z",
     "iopub.status.idle": "2021-06-05T10:45:01.473384Z",
     "shell.execute_reply": "2021-06-05T10:45:01.472859Z",
     "shell.execute_reply.started": "2021-06-05T10:38:56.704676Z"
    },
    "papermill": {
     "duration": 0.159875,
     "end_time": "2021-06-05T10:45:01.473521",
     "exception": false,
     "start_time": "2021-06-05T10:45:01.313646",
     "status": "completed"
    },
    "tags": []
   },
   "outputs": [
    {
     "data": {
      "text/html": [
       "<div>\n",
       "<style scoped>\n",
       "    .dataframe tbody tr th:only-of-type {\n",
       "        vertical-align: middle;\n",
       "    }\n",
       "\n",
       "    .dataframe tbody tr th {\n",
       "        vertical-align: top;\n",
       "    }\n",
       "\n",
       "    .dataframe thead th {\n",
       "        text-align: right;\n",
       "    }\n",
       "</style>\n",
       "<table border=\"1\" class=\"dataframe\">\n",
       "  <thead>\n",
       "    <tr style=\"text-align: right;\">\n",
       "      <th></th>\n",
       "      <th>ID</th>\n",
       "      <th>CODE_GENDER</th>\n",
       "      <th>FLAG_OWN_CAR</th>\n",
       "      <th>FLAG_OWN_REALTY</th>\n",
       "      <th>CNT_CHILDREN</th>\n",
       "      <th>AMT_INCOME_TOTAL</th>\n",
       "      <th>NAME_INCOME_TYPE</th>\n",
       "      <th>NAME_EDUCATION_TYPE</th>\n",
       "      <th>NAME_FAMILY_STATUS</th>\n",
       "      <th>NAME_HOUSING_TYPE</th>\n",
       "      <th>AGE_YEARS</th>\n",
       "      <th>YEARS_EMPLOYED</th>\n",
       "      <th>CNT_FAM_MEMBERS</th>\n",
       "      <th>STATUS</th>\n",
       "    </tr>\n",
       "  </thead>\n",
       "  <tbody>\n",
       "    <tr>\n",
       "      <th>0</th>\n",
       "      <td>5008804</td>\n",
       "      <td>M</td>\n",
       "      <td>Y</td>\n",
       "      <td>Y</td>\n",
       "      <td>0</td>\n",
       "      <td>427500.0</td>\n",
       "      <td>Working</td>\n",
       "      <td>Higher education</td>\n",
       "      <td>Civil marriage</td>\n",
       "      <td>Rented apartment</td>\n",
       "      <td>33.0</td>\n",
       "      <td>12.0</td>\n",
       "      <td>2.0</td>\n",
       "      <td>1</td>\n",
       "    </tr>\n",
       "    <tr>\n",
       "      <th>1</th>\n",
       "      <td>5008805</td>\n",
       "      <td>M</td>\n",
       "      <td>Y</td>\n",
       "      <td>Y</td>\n",
       "      <td>0</td>\n",
       "      <td>427500.0</td>\n",
       "      <td>Working</td>\n",
       "      <td>Higher education</td>\n",
       "      <td>Civil marriage</td>\n",
       "      <td>Rented apartment</td>\n",
       "      <td>33.0</td>\n",
       "      <td>12.0</td>\n",
       "      <td>2.0</td>\n",
       "      <td>1</td>\n",
       "    </tr>\n",
       "    <tr>\n",
       "      <th>2</th>\n",
       "      <td>5008806</td>\n",
       "      <td>M</td>\n",
       "      <td>Y</td>\n",
       "      <td>Y</td>\n",
       "      <td>0</td>\n",
       "      <td>112500.0</td>\n",
       "      <td>Working</td>\n",
       "      <td>Secondary / secondary special</td>\n",
       "      <td>Married</td>\n",
       "      <td>House / apartment</td>\n",
       "      <td>59.0</td>\n",
       "      <td>3.0</td>\n",
       "      <td>2.0</td>\n",
       "      <td>0</td>\n",
       "    </tr>\n",
       "    <tr>\n",
       "      <th>3</th>\n",
       "      <td>5008808</td>\n",
       "      <td>F</td>\n",
       "      <td>N</td>\n",
       "      <td>Y</td>\n",
       "      <td>0</td>\n",
       "      <td>270000.0</td>\n",
       "      <td>Commercial associate</td>\n",
       "      <td>Secondary / secondary special</td>\n",
       "      <td>Single / not married</td>\n",
       "      <td>House / apartment</td>\n",
       "      <td>52.0</td>\n",
       "      <td>8.0</td>\n",
       "      <td>1.0</td>\n",
       "      <td>0</td>\n",
       "    </tr>\n",
       "    <tr>\n",
       "      <th>4</th>\n",
       "      <td>5008809</td>\n",
       "      <td>F</td>\n",
       "      <td>N</td>\n",
       "      <td>Y</td>\n",
       "      <td>0</td>\n",
       "      <td>270000.0</td>\n",
       "      <td>Commercial associate</td>\n",
       "      <td>Secondary / secondary special</td>\n",
       "      <td>Single / not married</td>\n",
       "      <td>House / apartment</td>\n",
       "      <td>52.0</td>\n",
       "      <td>8.0</td>\n",
       "      <td>1.0</td>\n",
       "      <td>0</td>\n",
       "    </tr>\n",
       "  </tbody>\n",
       "</table>\n",
       "</div>"
      ],
      "text/plain": [
       "        ID CODE_GENDER FLAG_OWN_CAR FLAG_OWN_REALTY  CNT_CHILDREN  \\\n",
       "0  5008804           M            Y               Y             0   \n",
       "1  5008805           M            Y               Y             0   \n",
       "2  5008806           M            Y               Y             0   \n",
       "3  5008808           F            N               Y             0   \n",
       "4  5008809           F            N               Y             0   \n",
       "\n",
       "   AMT_INCOME_TOTAL      NAME_INCOME_TYPE            NAME_EDUCATION_TYPE  \\\n",
       "0          427500.0               Working               Higher education   \n",
       "1          427500.0               Working               Higher education   \n",
       "2          112500.0               Working  Secondary / secondary special   \n",
       "3          270000.0  Commercial associate  Secondary / secondary special   \n",
       "4          270000.0  Commercial associate  Secondary / secondary special   \n",
       "\n",
       "     NAME_FAMILY_STATUS  NAME_HOUSING_TYPE  AGE_YEARS  YEARS_EMPLOYED  \\\n",
       "0        Civil marriage   Rented apartment       33.0            12.0   \n",
       "1        Civil marriage   Rented apartment       33.0            12.0   \n",
       "2               Married  House / apartment       59.0             3.0   \n",
       "3  Single / not married  House / apartment       52.0             8.0   \n",
       "4  Single / not married  House / apartment       52.0             8.0   \n",
       "\n",
       "   CNT_FAM_MEMBERS  STATUS  \n",
       "0              2.0       1  \n",
       "1              2.0       1  \n",
       "2              2.0       0  \n",
       "3              1.0       0  \n",
       "4              1.0       0  "
      ]
     },
     "execution_count": 80,
     "metadata": {},
     "output_type": "execute_result"
    }
   ],
   "source": [
    "final_df.head()"
   ]
  },
  {
   "cell_type": "code",
   "execution_count": 81,
   "metadata": {
    "execution": {
     "iopub.execute_input": "2021-06-05T10:45:01.755953Z",
     "iopub.status.busy": "2021-06-05T10:45:01.755079Z",
     "iopub.status.idle": "2021-06-05T10:45:01.758881Z",
     "shell.execute_reply": "2021-06-05T10:45:01.759421Z",
     "shell.execute_reply.started": "2021-06-05T10:38:56.726758Z"
    },
    "papermill": {
     "duration": 0.148005,
     "end_time": "2021-06-05T10:45:01.759598",
     "exception": false,
     "start_time": "2021-06-05T10:45:01.611593",
     "status": "completed"
    },
    "tags": []
   },
   "outputs": [
    {
     "data": {
      "text/plain": [
       "['CODE_GENDER',\n",
       " 'FLAG_OWN_CAR',\n",
       " 'FLAG_OWN_REALTY',\n",
       " 'NAME_INCOME_TYPE',\n",
       " 'NAME_EDUCATION_TYPE',\n",
       " 'NAME_FAMILY_STATUS',\n",
       " 'NAME_HOUSING_TYPE']"
      ]
     },
     "execution_count": 81,
     "metadata": {},
     "output_type": "execute_result"
    }
   ],
   "source": [
    "cat_columns = final_df.columns[(final_df.dtypes =='object').values].tolist()\n",
    "cat_columns"
   ]
  },
  {
   "cell_type": "code",
   "execution_count": 82,
   "metadata": {
    "execution": {
     "iopub.execute_input": "2021-06-05T10:45:02.038697Z",
     "iopub.status.busy": "2021-06-05T10:45:02.037991Z",
     "iopub.status.idle": "2021-06-05T10:45:02.207702Z",
     "shell.execute_reply": "2021-06-05T10:45:02.208142Z",
     "shell.execute_reply.started": "2021-06-05T10:38:56.742121Z"
    },
    "papermill": {
     "duration": 0.311994,
     "end_time": "2021-06-05T10:45:02.208326",
     "exception": false,
     "start_time": "2021-06-05T10:45:01.896332",
     "status": "completed"
    },
    "tags": []
   },
   "outputs": [
    {
     "data": {
      "text/html": [
       "<div>\n",
       "<style scoped>\n",
       "    .dataframe tbody tr th:only-of-type {\n",
       "        vertical-align: middle;\n",
       "    }\n",
       "\n",
       "    .dataframe tbody tr th {\n",
       "        vertical-align: top;\n",
       "    }\n",
       "\n",
       "    .dataframe thead th {\n",
       "        text-align: right;\n",
       "    }\n",
       "</style>\n",
       "<table border=\"1\" class=\"dataframe\">\n",
       "  <thead>\n",
       "    <tr style=\"text-align: right;\">\n",
       "      <th></th>\n",
       "      <th>ID</th>\n",
       "      <th>CODE_GENDER</th>\n",
       "      <th>FLAG_OWN_CAR</th>\n",
       "      <th>FLAG_OWN_REALTY</th>\n",
       "      <th>CNT_CHILDREN</th>\n",
       "      <th>AMT_INCOME_TOTAL</th>\n",
       "      <th>NAME_INCOME_TYPE</th>\n",
       "      <th>NAME_EDUCATION_TYPE</th>\n",
       "      <th>NAME_FAMILY_STATUS</th>\n",
       "      <th>NAME_HOUSING_TYPE</th>\n",
       "      <th>AGE_YEARS</th>\n",
       "      <th>YEARS_EMPLOYED</th>\n",
       "      <th>CNT_FAM_MEMBERS</th>\n",
       "      <th>STATUS</th>\n",
       "    </tr>\n",
       "  </thead>\n",
       "  <tbody>\n",
       "    <tr>\n",
       "      <th>0</th>\n",
       "      <td>5008804</td>\n",
       "      <td>1</td>\n",
       "      <td>1</td>\n",
       "      <td>1</td>\n",
       "      <td>0</td>\n",
       "      <td>427500.0</td>\n",
       "      <td>4</td>\n",
       "      <td>1</td>\n",
       "      <td>0</td>\n",
       "      <td>4</td>\n",
       "      <td>33.0</td>\n",
       "      <td>12.0</td>\n",
       "      <td>2.0</td>\n",
       "      <td>1</td>\n",
       "    </tr>\n",
       "    <tr>\n",
       "      <th>1</th>\n",
       "      <td>5008805</td>\n",
       "      <td>1</td>\n",
       "      <td>1</td>\n",
       "      <td>1</td>\n",
       "      <td>0</td>\n",
       "      <td>427500.0</td>\n",
       "      <td>4</td>\n",
       "      <td>1</td>\n",
       "      <td>0</td>\n",
       "      <td>4</td>\n",
       "      <td>33.0</td>\n",
       "      <td>12.0</td>\n",
       "      <td>2.0</td>\n",
       "      <td>1</td>\n",
       "    </tr>\n",
       "    <tr>\n",
       "      <th>2</th>\n",
       "      <td>5008806</td>\n",
       "      <td>1</td>\n",
       "      <td>1</td>\n",
       "      <td>1</td>\n",
       "      <td>0</td>\n",
       "      <td>112500.0</td>\n",
       "      <td>4</td>\n",
       "      <td>4</td>\n",
       "      <td>1</td>\n",
       "      <td>1</td>\n",
       "      <td>59.0</td>\n",
       "      <td>3.0</td>\n",
       "      <td>2.0</td>\n",
       "      <td>0</td>\n",
       "    </tr>\n",
       "    <tr>\n",
       "      <th>3</th>\n",
       "      <td>5008808</td>\n",
       "      <td>0</td>\n",
       "      <td>0</td>\n",
       "      <td>1</td>\n",
       "      <td>0</td>\n",
       "      <td>270000.0</td>\n",
       "      <td>0</td>\n",
       "      <td>4</td>\n",
       "      <td>3</td>\n",
       "      <td>1</td>\n",
       "      <td>52.0</td>\n",
       "      <td>8.0</td>\n",
       "      <td>1.0</td>\n",
       "      <td>0</td>\n",
       "    </tr>\n",
       "    <tr>\n",
       "      <th>4</th>\n",
       "      <td>5008809</td>\n",
       "      <td>0</td>\n",
       "      <td>0</td>\n",
       "      <td>1</td>\n",
       "      <td>0</td>\n",
       "      <td>270000.0</td>\n",
       "      <td>0</td>\n",
       "      <td>4</td>\n",
       "      <td>3</td>\n",
       "      <td>1</td>\n",
       "      <td>52.0</td>\n",
       "      <td>8.0</td>\n",
       "      <td>1.0</td>\n",
       "      <td>0</td>\n",
       "    </tr>\n",
       "  </tbody>\n",
       "</table>\n",
       "</div>"
      ],
      "text/plain": [
       "        ID  CODE_GENDER  FLAG_OWN_CAR  FLAG_OWN_REALTY  CNT_CHILDREN  \\\n",
       "0  5008804            1             1                1             0   \n",
       "1  5008805            1             1                1             0   \n",
       "2  5008806            1             1                1             0   \n",
       "3  5008808            0             0                1             0   \n",
       "4  5008809            0             0                1             0   \n",
       "\n",
       "   AMT_INCOME_TOTAL  NAME_INCOME_TYPE  NAME_EDUCATION_TYPE  \\\n",
       "0          427500.0                 4                    1   \n",
       "1          427500.0                 4                    1   \n",
       "2          112500.0                 4                    4   \n",
       "3          270000.0                 0                    4   \n",
       "4          270000.0                 0                    4   \n",
       "\n",
       "   NAME_FAMILY_STATUS  NAME_HOUSING_TYPE  AGE_YEARS  YEARS_EMPLOYED  \\\n",
       "0                   0                  4       33.0            12.0   \n",
       "1                   0                  4       33.0            12.0   \n",
       "2                   1                  1       59.0             3.0   \n",
       "3                   3                  1       52.0             8.0   \n",
       "4                   3                  1       52.0             8.0   \n",
       "\n",
       "   CNT_FAM_MEMBERS  STATUS  \n",
       "0              2.0       1  \n",
       "1              2.0       1  \n",
       "2              2.0       0  \n",
       "3              1.0       0  \n",
       "4              1.0       0  "
      ]
     },
     "execution_count": 82,
     "metadata": {},
     "output_type": "execute_result"
    }
   ],
   "source": [
    "#Converting all Non-Numerical Columns to Numerical\n",
    "from sklearn.preprocessing import LabelEncoder\n",
    "\n",
    "for col in cat_columns:\n",
    "        globals()['LE_{}'.format(col)] = LabelEncoder()\n",
    "        final_df[col] = globals()['LE_{}'.format(col)].fit_transform(final_df[col])\n",
    "final_df.head()    "
   ]
  },
  {
   "cell_type": "code",
   "execution_count": 83,
   "metadata": {
    "execution": {
     "iopub.execute_input": "2021-06-05T10:45:02.484239Z",
     "iopub.status.busy": "2021-06-05T10:45:02.483652Z",
     "iopub.status.idle": "2021-06-05T10:45:02.492789Z",
     "shell.execute_reply": "2021-06-05T10:45:02.493456Z",
     "shell.execute_reply.started": "2021-06-05T10:38:56.839329Z"
    },
    "papermill": {
     "duration": 0.148571,
     "end_time": "2021-06-05T10:45:02.493678",
     "exception": false,
     "start_time": "2021-06-05T10:45:02.345107",
     "status": "completed"
    },
    "tags": []
   },
   "outputs": [
    {
     "name": "stdout",
     "output_type": "stream",
     "text": [
      "CODE_GENDER   :  ['F' 'M']\n",
      "FLAG_OWN_CAR   :  ['N' 'Y']\n",
      "FLAG_OWN_REALTY   :  ['N' 'Y']\n",
      "NAME_INCOME_TYPE   :  ['Commercial associate' 'Pensioner' 'State servant' 'Student' 'Working']\n",
      "NAME_EDUCATION_TYPE   :  ['Academic degree' 'Higher education' 'Incomplete higher'\n",
      " 'Lower secondary' 'Secondary / secondary special']\n",
      "NAME_FAMILY_STATUS   :  ['Civil marriage' 'Married' 'Separated' 'Single / not married' 'Widow']\n",
      "NAME_HOUSING_TYPE   :  ['Co-op apartment' 'House / apartment' 'Municipal apartment'\n",
      " 'Office apartment' 'Rented apartment' 'With parents']\n"
     ]
    }
   ],
   "source": [
    "for col in cat_columns:\n",
    "    print(col , \"  : \", globals()['LE_{}'.format(col)].classes_)"
   ]
  },
  {
   "cell_type": "code",
   "execution_count": 84,
   "metadata": {
    "execution": {
     "iopub.execute_input": "2021-06-05T10:45:02.771135Z",
     "iopub.status.busy": "2021-06-05T10:45:02.770453Z",
     "iopub.status.idle": "2021-06-05T10:45:02.799123Z",
     "shell.execute_reply": "2021-06-05T10:45:02.799594Z",
     "shell.execute_reply.started": "2021-06-05T10:38:56.849232Z"
    },
    "papermill": {
     "duration": 0.168314,
     "end_time": "2021-06-05T10:45:02.799761",
     "exception": false,
     "start_time": "2021-06-05T10:45:02.631447",
     "status": "completed"
    },
    "tags": []
   },
   "outputs": [
    {
     "data": {
      "text/html": [
       "<div>\n",
       "<style scoped>\n",
       "    .dataframe tbody tr th:only-of-type {\n",
       "        vertical-align: middle;\n",
       "    }\n",
       "\n",
       "    .dataframe tbody tr th {\n",
       "        vertical-align: top;\n",
       "    }\n",
       "\n",
       "    .dataframe thead th {\n",
       "        text-align: right;\n",
       "    }\n",
       "</style>\n",
       "<table border=\"1\" class=\"dataframe\">\n",
       "  <thead>\n",
       "    <tr style=\"text-align: right;\">\n",
       "      <th></th>\n",
       "      <th>ID</th>\n",
       "      <th>CODE_GENDER</th>\n",
       "      <th>FLAG_OWN_CAR</th>\n",
       "      <th>FLAG_OWN_REALTY</th>\n",
       "      <th>CNT_CHILDREN</th>\n",
       "      <th>AMT_INCOME_TOTAL</th>\n",
       "      <th>NAME_INCOME_TYPE</th>\n",
       "      <th>NAME_EDUCATION_TYPE</th>\n",
       "      <th>NAME_FAMILY_STATUS</th>\n",
       "      <th>NAME_HOUSING_TYPE</th>\n",
       "      <th>AGE_YEARS</th>\n",
       "      <th>YEARS_EMPLOYED</th>\n",
       "      <th>CNT_FAM_MEMBERS</th>\n",
       "      <th>STATUS</th>\n",
       "    </tr>\n",
       "  </thead>\n",
       "  <tbody>\n",
       "    <tr>\n",
       "      <th>ID</th>\n",
       "      <td>1.000000</td>\n",
       "      <td>0.012782</td>\n",
       "      <td>-0.010923</td>\n",
       "      <td>-0.099898</td>\n",
       "      <td>0.026873</td>\n",
       "      <td>-0.019037</td>\n",
       "      <td>0.023753</td>\n",
       "      <td>-0.010707</td>\n",
       "      <td>-0.003589</td>\n",
       "      <td>0.021229</td>\n",
       "      <td>-0.056460</td>\n",
       "      <td>-0.005298</td>\n",
       "      <td>0.024240</td>\n",
       "      <td>0.004663</td>\n",
       "    </tr>\n",
       "    <tr>\n",
       "      <th>CODE_GENDER</th>\n",
       "      <td>0.012782</td>\n",
       "      <td>1.000000</td>\n",
       "      <td>0.362094</td>\n",
       "      <td>-0.050535</td>\n",
       "      <td>0.078361</td>\n",
       "      <td>0.204059</td>\n",
       "      <td>0.105449</td>\n",
       "      <td>0.005662</td>\n",
       "      <td>-0.098816</td>\n",
       "      <td>0.070634</td>\n",
       "      <td>-0.202679</td>\n",
       "      <td>-0.029919</td>\n",
       "      <td>0.111307</td>\n",
       "      <td>0.020563</td>\n",
       "    </tr>\n",
       "    <tr>\n",
       "      <th>FLAG_OWN_CAR</th>\n",
       "      <td>-0.010923</td>\n",
       "      <td>0.362094</td>\n",
       "      <td>1.000000</td>\n",
       "      <td>-0.014779</td>\n",
       "      <td>0.108250</td>\n",
       "      <td>0.216689</td>\n",
       "      <td>0.055926</td>\n",
       "      <td>-0.100164</td>\n",
       "      <td>-0.123455</td>\n",
       "      <td>0.017069</td>\n",
       "      <td>-0.157385</td>\n",
       "      <td>0.003664</td>\n",
       "      <td>0.154944</td>\n",
       "      <td>-0.010983</td>\n",
       "    </tr>\n",
       "    <tr>\n",
       "      <th>FLAG_OWN_REALTY</th>\n",
       "      <td>-0.099898</td>\n",
       "      <td>-0.050535</td>\n",
       "      <td>-0.014779</td>\n",
       "      <td>1.000000</td>\n",
       "      <td>-0.003573</td>\n",
       "      <td>0.033809</td>\n",
       "      <td>-0.047336</td>\n",
       "      <td>0.011301</td>\n",
       "      <td>0.021899</td>\n",
       "      <td>-0.178403</td>\n",
       "      <td>0.130596</td>\n",
       "      <td>-0.035989</td>\n",
       "      <td>-0.007615</td>\n",
       "      <td>-0.027043</td>\n",
       "    </tr>\n",
       "    <tr>\n",
       "      <th>CNT_CHILDREN</th>\n",
       "      <td>0.026873</td>\n",
       "      <td>0.078361</td>\n",
       "      <td>0.108250</td>\n",
       "      <td>-0.003573</td>\n",
       "      <td>1.000000</td>\n",
       "      <td>0.033691</td>\n",
       "      <td>0.107570</td>\n",
       "      <td>-0.055582</td>\n",
       "      <td>-0.167775</td>\n",
       "      <td>0.027607</td>\n",
       "      <td>-0.347539</td>\n",
       "      <td>0.048711</td>\n",
       "      <td>0.884277</td>\n",
       "      <td>0.009454</td>\n",
       "    </tr>\n",
       "    <tr>\n",
       "      <th>AMT_INCOME_TOTAL</th>\n",
       "      <td>-0.019037</td>\n",
       "      <td>0.204059</td>\n",
       "      <td>0.216689</td>\n",
       "      <td>0.033809</td>\n",
       "      <td>0.033691</td>\n",
       "      <td>1.000000</td>\n",
       "      <td>-0.070153</td>\n",
       "      <td>-0.226431</td>\n",
       "      <td>-0.006435</td>\n",
       "      <td>-0.007724</td>\n",
       "      <td>-0.062982</td>\n",
       "      <td>0.091618</td>\n",
       "      <td>0.025650</td>\n",
       "      <td>0.018997</td>\n",
       "    </tr>\n",
       "    <tr>\n",
       "      <th>NAME_INCOME_TYPE</th>\n",
       "      <td>0.023753</td>\n",
       "      <td>0.105449</td>\n",
       "      <td>0.055926</td>\n",
       "      <td>-0.047336</td>\n",
       "      <td>0.107570</td>\n",
       "      <td>-0.070153</td>\n",
       "      <td>1.000000</td>\n",
       "      <td>0.056496</td>\n",
       "      <td>-0.048312</td>\n",
       "      <td>0.036497</td>\n",
       "      <td>-0.213406</td>\n",
       "      <td>0.195455</td>\n",
       "      <td>0.107155</td>\n",
       "      <td>-0.007078</td>\n",
       "    </tr>\n",
       "    <tr>\n",
       "      <th>NAME_EDUCATION_TYPE</th>\n",
       "      <td>-0.010707</td>\n",
       "      <td>0.005662</td>\n",
       "      <td>-0.100164</td>\n",
       "      <td>0.011301</td>\n",
       "      <td>-0.055582</td>\n",
       "      <td>-0.226431</td>\n",
       "      <td>0.056496</td>\n",
       "      <td>1.000000</td>\n",
       "      <td>0.009742</td>\n",
       "      <td>-0.036303</td>\n",
       "      <td>0.169358</td>\n",
       "      <td>-0.013560</td>\n",
       "      <td>-0.046496</td>\n",
       "      <td>-0.002247</td>\n",
       "    </tr>\n",
       "    <tr>\n",
       "      <th>NAME_FAMILY_STATUS</th>\n",
       "      <td>-0.003589</td>\n",
       "      <td>-0.098816</td>\n",
       "      <td>-0.123455</td>\n",
       "      <td>0.021899</td>\n",
       "      <td>-0.167775</td>\n",
       "      <td>-0.006435</td>\n",
       "      <td>-0.048312</td>\n",
       "      <td>0.009742</td>\n",
       "      <td>1.000000</td>\n",
       "      <td>0.010294</td>\n",
       "      <td>0.106987</td>\n",
       "      <td>-0.054172</td>\n",
       "      <td>-0.559744</td>\n",
       "      <td>0.001293</td>\n",
       "    </tr>\n",
       "    <tr>\n",
       "      <th>NAME_HOUSING_TYPE</th>\n",
       "      <td>0.021229</td>\n",
       "      <td>0.070634</td>\n",
       "      <td>0.017069</td>\n",
       "      <td>-0.178403</td>\n",
       "      <td>0.027607</td>\n",
       "      <td>-0.007724</td>\n",
       "      <td>0.036497</td>\n",
       "      <td>-0.036303</td>\n",
       "      <td>0.010294</td>\n",
       "      <td>1.000000</td>\n",
       "      <td>-0.211948</td>\n",
       "      <td>-0.019393</td>\n",
       "      <td>0.006497</td>\n",
       "      <td>0.012522</td>\n",
       "    </tr>\n",
       "    <tr>\n",
       "      <th>AGE_YEARS</th>\n",
       "      <td>-0.056460</td>\n",
       "      <td>-0.202679</td>\n",
       "      <td>-0.157385</td>\n",
       "      <td>0.130596</td>\n",
       "      <td>-0.347539</td>\n",
       "      <td>-0.062982</td>\n",
       "      <td>-0.213406</td>\n",
       "      <td>0.169358</td>\n",
       "      <td>0.106987</td>\n",
       "      <td>-0.211948</td>\n",
       "      <td>1.000000</td>\n",
       "      <td>-0.031078</td>\n",
       "      <td>-0.307699</td>\n",
       "      <td>-0.027949</td>\n",
       "    </tr>\n",
       "    <tr>\n",
       "      <th>YEARS_EMPLOYED</th>\n",
       "      <td>-0.005298</td>\n",
       "      <td>-0.029919</td>\n",
       "      <td>0.003664</td>\n",
       "      <td>-0.035989</td>\n",
       "      <td>0.048711</td>\n",
       "      <td>0.091618</td>\n",
       "      <td>0.195455</td>\n",
       "      <td>-0.013560</td>\n",
       "      <td>-0.054172</td>\n",
       "      <td>-0.019393</td>\n",
       "      <td>-0.031078</td>\n",
       "      <td>1.000000</td>\n",
       "      <td>0.060746</td>\n",
       "      <td>0.006432</td>\n",
       "    </tr>\n",
       "    <tr>\n",
       "      <th>CNT_FAM_MEMBERS</th>\n",
       "      <td>0.024240</td>\n",
       "      <td>0.111307</td>\n",
       "      <td>0.154944</td>\n",
       "      <td>-0.007615</td>\n",
       "      <td>0.884277</td>\n",
       "      <td>0.025650</td>\n",
       "      <td>0.107155</td>\n",
       "      <td>-0.046496</td>\n",
       "      <td>-0.559744</td>\n",
       "      <td>0.006497</td>\n",
       "      <td>-0.307699</td>\n",
       "      <td>0.060746</td>\n",
       "      <td>1.000000</td>\n",
       "      <td>0.007193</td>\n",
       "    </tr>\n",
       "    <tr>\n",
       "      <th>STATUS</th>\n",
       "      <td>0.004663</td>\n",
       "      <td>0.020563</td>\n",
       "      <td>-0.010983</td>\n",
       "      <td>-0.027043</td>\n",
       "      <td>0.009454</td>\n",
       "      <td>0.018997</td>\n",
       "      <td>-0.007078</td>\n",
       "      <td>-0.002247</td>\n",
       "      <td>0.001293</td>\n",
       "      <td>0.012522</td>\n",
       "      <td>-0.027949</td>\n",
       "      <td>0.006432</td>\n",
       "      <td>0.007193</td>\n",
       "      <td>1.000000</td>\n",
       "    </tr>\n",
       "  </tbody>\n",
       "</table>\n",
       "</div>"
      ],
      "text/plain": [
       "                           ID  CODE_GENDER  FLAG_OWN_CAR  FLAG_OWN_REALTY  \\\n",
       "ID                   1.000000     0.012782     -0.010923        -0.099898   \n",
       "CODE_GENDER          0.012782     1.000000      0.362094        -0.050535   \n",
       "FLAG_OWN_CAR        -0.010923     0.362094      1.000000        -0.014779   \n",
       "FLAG_OWN_REALTY     -0.099898    -0.050535     -0.014779         1.000000   \n",
       "CNT_CHILDREN         0.026873     0.078361      0.108250        -0.003573   \n",
       "AMT_INCOME_TOTAL    -0.019037     0.204059      0.216689         0.033809   \n",
       "NAME_INCOME_TYPE     0.023753     0.105449      0.055926        -0.047336   \n",
       "NAME_EDUCATION_TYPE -0.010707     0.005662     -0.100164         0.011301   \n",
       "NAME_FAMILY_STATUS  -0.003589    -0.098816     -0.123455         0.021899   \n",
       "NAME_HOUSING_TYPE    0.021229     0.070634      0.017069        -0.178403   \n",
       "AGE_YEARS           -0.056460    -0.202679     -0.157385         0.130596   \n",
       "YEARS_EMPLOYED      -0.005298    -0.029919      0.003664        -0.035989   \n",
       "CNT_FAM_MEMBERS      0.024240     0.111307      0.154944        -0.007615   \n",
       "STATUS               0.004663     0.020563     -0.010983        -0.027043   \n",
       "\n",
       "                     CNT_CHILDREN  AMT_INCOME_TOTAL  NAME_INCOME_TYPE  \\\n",
       "ID                       0.026873         -0.019037          0.023753   \n",
       "CODE_GENDER              0.078361          0.204059          0.105449   \n",
       "FLAG_OWN_CAR             0.108250          0.216689          0.055926   \n",
       "FLAG_OWN_REALTY         -0.003573          0.033809         -0.047336   \n",
       "CNT_CHILDREN             1.000000          0.033691          0.107570   \n",
       "AMT_INCOME_TOTAL         0.033691          1.000000         -0.070153   \n",
       "NAME_INCOME_TYPE         0.107570         -0.070153          1.000000   \n",
       "NAME_EDUCATION_TYPE     -0.055582         -0.226431          0.056496   \n",
       "NAME_FAMILY_STATUS      -0.167775         -0.006435         -0.048312   \n",
       "NAME_HOUSING_TYPE        0.027607         -0.007724          0.036497   \n",
       "AGE_YEARS               -0.347539         -0.062982         -0.213406   \n",
       "YEARS_EMPLOYED           0.048711          0.091618          0.195455   \n",
       "CNT_FAM_MEMBERS          0.884277          0.025650          0.107155   \n",
       "STATUS                   0.009454          0.018997         -0.007078   \n",
       "\n",
       "                     NAME_EDUCATION_TYPE  NAME_FAMILY_STATUS  \\\n",
       "ID                             -0.010707           -0.003589   \n",
       "CODE_GENDER                     0.005662           -0.098816   \n",
       "FLAG_OWN_CAR                   -0.100164           -0.123455   \n",
       "FLAG_OWN_REALTY                 0.011301            0.021899   \n",
       "CNT_CHILDREN                   -0.055582           -0.167775   \n",
       "AMT_INCOME_TOTAL               -0.226431           -0.006435   \n",
       "NAME_INCOME_TYPE                0.056496           -0.048312   \n",
       "NAME_EDUCATION_TYPE             1.000000            0.009742   \n",
       "NAME_FAMILY_STATUS              0.009742            1.000000   \n",
       "NAME_HOUSING_TYPE              -0.036303            0.010294   \n",
       "AGE_YEARS                       0.169358            0.106987   \n",
       "YEARS_EMPLOYED                 -0.013560           -0.054172   \n",
       "CNT_FAM_MEMBERS                -0.046496           -0.559744   \n",
       "STATUS                         -0.002247            0.001293   \n",
       "\n",
       "                     NAME_HOUSING_TYPE  AGE_YEARS  YEARS_EMPLOYED  \\\n",
       "ID                            0.021229  -0.056460       -0.005298   \n",
       "CODE_GENDER                   0.070634  -0.202679       -0.029919   \n",
       "FLAG_OWN_CAR                  0.017069  -0.157385        0.003664   \n",
       "FLAG_OWN_REALTY              -0.178403   0.130596       -0.035989   \n",
       "CNT_CHILDREN                  0.027607  -0.347539        0.048711   \n",
       "AMT_INCOME_TOTAL             -0.007724  -0.062982        0.091618   \n",
       "NAME_INCOME_TYPE              0.036497  -0.213406        0.195455   \n",
       "NAME_EDUCATION_TYPE          -0.036303   0.169358       -0.013560   \n",
       "NAME_FAMILY_STATUS            0.010294   0.106987       -0.054172   \n",
       "NAME_HOUSING_TYPE             1.000000  -0.211948       -0.019393   \n",
       "AGE_YEARS                    -0.211948   1.000000       -0.031078   \n",
       "YEARS_EMPLOYED               -0.019393  -0.031078        1.000000   \n",
       "CNT_FAM_MEMBERS               0.006497  -0.307699        0.060746   \n",
       "STATUS                        0.012522  -0.027949        0.006432   \n",
       "\n",
       "                     CNT_FAM_MEMBERS    STATUS  \n",
       "ID                          0.024240  0.004663  \n",
       "CODE_GENDER                 0.111307  0.020563  \n",
       "FLAG_OWN_CAR                0.154944 -0.010983  \n",
       "FLAG_OWN_REALTY            -0.007615 -0.027043  \n",
       "CNT_CHILDREN                0.884277  0.009454  \n",
       "AMT_INCOME_TOTAL            0.025650  0.018997  \n",
       "NAME_INCOME_TYPE            0.107155 -0.007078  \n",
       "NAME_EDUCATION_TYPE        -0.046496 -0.002247  \n",
       "NAME_FAMILY_STATUS         -0.559744  0.001293  \n",
       "NAME_HOUSING_TYPE           0.006497  0.012522  \n",
       "AGE_YEARS                  -0.307699 -0.027949  \n",
       "YEARS_EMPLOYED              0.060746  0.006432  \n",
       "CNT_FAM_MEMBERS             1.000000  0.007193  \n",
       "STATUS                      0.007193  1.000000  "
      ]
     },
     "execution_count": 84,
     "metadata": {},
     "output_type": "execute_result"
    }
   ],
   "source": [
    "final_df.corr()"
   ]
  },
  {
   "cell_type": "code",
   "execution_count": 85,
   "metadata": {
    "execution": {
     "iopub.execute_input": "2021-06-05T10:45:03.082089Z",
     "iopub.status.busy": "2021-06-05T10:45:03.081484Z",
     "iopub.status.idle": "2021-06-05T10:45:03.086255Z",
     "shell.execute_reply": "2021-06-05T10:45:03.085774Z",
     "shell.execute_reply.started": "2021-06-05T10:38:56.892131Z"
    },
    "papermill": {
     "duration": 0.149414,
     "end_time": "2021-06-05T10:45:03.086420",
     "exception": false,
     "start_time": "2021-06-05T10:45:02.937006",
     "status": "completed"
    },
    "tags": []
   },
   "outputs": [],
   "source": [
    "features = final_df.drop(['STATUS'], axis=1)\n",
    "label = final_df['STATUS']"
   ]
  },
  {
   "cell_type": "code",
   "execution_count": 86,
   "metadata": {
    "execution": {
     "iopub.execute_input": "2021-06-05T10:45:03.375261Z",
     "iopub.status.busy": "2021-06-05T10:45:03.374628Z",
     "iopub.status.idle": "2021-06-05T10:45:03.377371Z",
     "shell.execute_reply": "2021-06-05T10:45:03.377924Z",
     "shell.execute_reply.started": "2021-06-05T10:38:56.899021Z"
    },
    "papermill": {
     "duration": 0.153517,
     "end_time": "2021-06-05T10:45:03.378078",
     "exception": false,
     "start_time": "2021-06-05T10:45:03.224561",
     "status": "completed"
    },
    "tags": []
   },
   "outputs": [
    {
     "data": {
      "text/html": [
       "<div>\n",
       "<style scoped>\n",
       "    .dataframe tbody tr th:only-of-type {\n",
       "        vertical-align: middle;\n",
       "    }\n",
       "\n",
       "    .dataframe tbody tr th {\n",
       "        vertical-align: top;\n",
       "    }\n",
       "\n",
       "    .dataframe thead th {\n",
       "        text-align: right;\n",
       "    }\n",
       "</style>\n",
       "<table border=\"1\" class=\"dataframe\">\n",
       "  <thead>\n",
       "    <tr style=\"text-align: right;\">\n",
       "      <th></th>\n",
       "      <th>ID</th>\n",
       "      <th>CODE_GENDER</th>\n",
       "      <th>FLAG_OWN_CAR</th>\n",
       "      <th>FLAG_OWN_REALTY</th>\n",
       "      <th>CNT_CHILDREN</th>\n",
       "      <th>AMT_INCOME_TOTAL</th>\n",
       "      <th>NAME_INCOME_TYPE</th>\n",
       "      <th>NAME_EDUCATION_TYPE</th>\n",
       "      <th>NAME_FAMILY_STATUS</th>\n",
       "      <th>NAME_HOUSING_TYPE</th>\n",
       "      <th>AGE_YEARS</th>\n",
       "      <th>YEARS_EMPLOYED</th>\n",
       "      <th>CNT_FAM_MEMBERS</th>\n",
       "    </tr>\n",
       "  </thead>\n",
       "  <tbody>\n",
       "    <tr>\n",
       "      <th>0</th>\n",
       "      <td>5008804</td>\n",
       "      <td>1</td>\n",
       "      <td>1</td>\n",
       "      <td>1</td>\n",
       "      <td>0</td>\n",
       "      <td>427500.0</td>\n",
       "      <td>4</td>\n",
       "      <td>1</td>\n",
       "      <td>0</td>\n",
       "      <td>4</td>\n",
       "      <td>33.0</td>\n",
       "      <td>12.0</td>\n",
       "      <td>2.0</td>\n",
       "    </tr>\n",
       "    <tr>\n",
       "      <th>1</th>\n",
       "      <td>5008805</td>\n",
       "      <td>1</td>\n",
       "      <td>1</td>\n",
       "      <td>1</td>\n",
       "      <td>0</td>\n",
       "      <td>427500.0</td>\n",
       "      <td>4</td>\n",
       "      <td>1</td>\n",
       "      <td>0</td>\n",
       "      <td>4</td>\n",
       "      <td>33.0</td>\n",
       "      <td>12.0</td>\n",
       "      <td>2.0</td>\n",
       "    </tr>\n",
       "    <tr>\n",
       "      <th>2</th>\n",
       "      <td>5008806</td>\n",
       "      <td>1</td>\n",
       "      <td>1</td>\n",
       "      <td>1</td>\n",
       "      <td>0</td>\n",
       "      <td>112500.0</td>\n",
       "      <td>4</td>\n",
       "      <td>4</td>\n",
       "      <td>1</td>\n",
       "      <td>1</td>\n",
       "      <td>59.0</td>\n",
       "      <td>3.0</td>\n",
       "      <td>2.0</td>\n",
       "    </tr>\n",
       "    <tr>\n",
       "      <th>3</th>\n",
       "      <td>5008808</td>\n",
       "      <td>0</td>\n",
       "      <td>0</td>\n",
       "      <td>1</td>\n",
       "      <td>0</td>\n",
       "      <td>270000.0</td>\n",
       "      <td>0</td>\n",
       "      <td>4</td>\n",
       "      <td>3</td>\n",
       "      <td>1</td>\n",
       "      <td>52.0</td>\n",
       "      <td>8.0</td>\n",
       "      <td>1.0</td>\n",
       "    </tr>\n",
       "    <tr>\n",
       "      <th>4</th>\n",
       "      <td>5008809</td>\n",
       "      <td>0</td>\n",
       "      <td>0</td>\n",
       "      <td>1</td>\n",
       "      <td>0</td>\n",
       "      <td>270000.0</td>\n",
       "      <td>0</td>\n",
       "      <td>4</td>\n",
       "      <td>3</td>\n",
       "      <td>1</td>\n",
       "      <td>52.0</td>\n",
       "      <td>8.0</td>\n",
       "      <td>1.0</td>\n",
       "    </tr>\n",
       "  </tbody>\n",
       "</table>\n",
       "</div>"
      ],
      "text/plain": [
       "        ID  CODE_GENDER  FLAG_OWN_CAR  FLAG_OWN_REALTY  CNT_CHILDREN  \\\n",
       "0  5008804            1             1                1             0   \n",
       "1  5008805            1             1                1             0   \n",
       "2  5008806            1             1                1             0   \n",
       "3  5008808            0             0                1             0   \n",
       "4  5008809            0             0                1             0   \n",
       "\n",
       "   AMT_INCOME_TOTAL  NAME_INCOME_TYPE  NAME_EDUCATION_TYPE  \\\n",
       "0          427500.0                 4                    1   \n",
       "1          427500.0                 4                    1   \n",
       "2          112500.0                 4                    4   \n",
       "3          270000.0                 0                    4   \n",
       "4          270000.0                 0                    4   \n",
       "\n",
       "   NAME_FAMILY_STATUS  NAME_HOUSING_TYPE  AGE_YEARS  YEARS_EMPLOYED  \\\n",
       "0                   0                  4       33.0            12.0   \n",
       "1                   0                  4       33.0            12.0   \n",
       "2                   1                  1       59.0             3.0   \n",
       "3                   3                  1       52.0             8.0   \n",
       "4                   3                  1       52.0             8.0   \n",
       "\n",
       "   CNT_FAM_MEMBERS  \n",
       "0              2.0  \n",
       "1              2.0  \n",
       "2              2.0  \n",
       "3              1.0  \n",
       "4              1.0  "
      ]
     },
     "execution_count": 86,
     "metadata": {},
     "output_type": "execute_result"
    }
   ],
   "source": [
    "features.head()"
   ]
  },
  {
   "cell_type": "code",
   "execution_count": 87,
   "metadata": {
    "execution": {
     "iopub.execute_input": "2021-06-05T10:45:03.656325Z",
     "iopub.status.busy": "2021-06-05T10:45:03.655732Z",
     "iopub.status.idle": "2021-06-05T10:45:03.661779Z",
     "shell.execute_reply": "2021-06-05T10:45:03.661284Z",
     "shell.execute_reply.started": "2021-06-05T10:38:56.923891Z"
    },
    "papermill": {
     "duration": 0.14665,
     "end_time": "2021-06-05T10:45:03.661907",
     "exception": false,
     "start_time": "2021-06-05T10:45:03.515257",
     "status": "completed"
    },
    "tags": []
   },
   "outputs": [
    {
     "data": {
      "text/plain": [
       "0    1\n",
       "1    1\n",
       "2    0\n",
       "3    0\n",
       "4    0\n",
       "Name: STATUS, dtype: int64"
      ]
     },
     "execution_count": 87,
     "metadata": {},
     "output_type": "execute_result"
    }
   ],
   "source": [
    "label.head()"
   ]
  },
  {
   "cell_type": "markdown",
   "metadata": {
    "papermill": {
     "duration": 0.138376,
     "end_time": "2021-06-05T10:45:03.936664",
     "exception": false,
     "start_time": "2021-06-05T10:45:03.798288",
     "status": "completed"
    },
    "tags": []
   },
   "source": [
    "# Machine Learning Model"
   ]
  },
  {
   "cell_type": "code",
   "execution_count": 88,
   "metadata": {
    "execution": {
     "iopub.execute_input": "2021-06-05T10:45:04.244347Z",
     "iopub.status.busy": "2021-06-05T10:45:04.243615Z",
     "iopub.status.idle": "2021-06-05T10:45:04.304075Z",
     "shell.execute_reply": "2021-06-05T10:45:04.303527Z",
     "shell.execute_reply.started": "2021-06-05T10:38:56.937588Z"
    },
    "papermill": {
     "duration": 0.202433,
     "end_time": "2021-06-05T10:45:04.304210",
     "exception": false,
     "start_time": "2021-06-05T10:45:04.101777",
     "status": "completed"
    },
    "tags": []
   },
   "outputs": [],
   "source": [
    "from sklearn.model_selection import train_test_split\n",
    "x_train, x_test, y_train, y_test = train_test_split(features,\n",
    "                                                    label,\n",
    "                                                    test_size=0.2,\n",
    "                                                    random_state = 10)"
   ]
  },
  {
   "cell_type": "code",
   "execution_count": 89,
   "metadata": {
    "execution": {
     "iopub.execute_input": "2021-06-05T10:45:04.589555Z",
     "iopub.status.busy": "2021-06-05T10:45:04.588897Z",
     "iopub.status.idle": "2021-06-05T10:45:04.819191Z",
     "shell.execute_reply": "2021-06-05T10:45:04.820147Z",
     "shell.execute_reply.started": "2021-06-05T10:38:56.967496Z"
    },
    "papermill": {
     "duration": 0.37833,
     "end_time": "2021-06-05T10:45:04.820409",
     "exception": false,
     "start_time": "2021-06-05T10:45:04.442079",
     "status": "completed"
    },
    "tags": []
   },
   "outputs": [
    {
     "name": "stdout",
     "output_type": "stream",
     "text": [
      "Logistic Model Accuracy :  88.49435728048445 %\n",
      "\n",
      "Confusion matrix :\n",
      "[[6430    0]\n",
      " [ 836    0]]\n",
      "\n",
      "Classification report:\n",
      "              precision    recall  f1-score   support\n",
      "\n",
      "           0       0.88      1.00      0.94      6430\n",
      "           1       0.00      0.00      0.00       836\n",
      "\n",
      "    accuracy                           0.88      7266\n",
      "   macro avg       0.44      0.50      0.47      7266\n",
      "weighted avg       0.78      0.88      0.83      7266\n",
      "\n"
     ]
    }
   ],
   "source": [
    "# Logistic Regression\n",
    "\n",
    "from sklearn.linear_model import LogisticRegression\n",
    "from sklearn.metrics import classification_report, accuracy_score, confusion_matrix\n",
    "\n",
    "log_model = LogisticRegression()\n",
    "log_model.fit(x_train, y_train)\n",
    "\n",
    "print('Logistic Model Accuracy : ', log_model.score(x_test, y_test)*100, '%')\n",
    "\n",
    "prediction = log_model.predict(x_test)\n",
    "print('\\nConfusion matrix :')\n",
    "print(confusion_matrix(y_test, prediction))\n",
    "      \n",
    "print('\\nClassification report:')      \n",
    "print(classification_report(y_test, prediction))"
   ]
  },
  {
   "cell_type": "code",
   "execution_count": 90,
   "metadata": {
    "execution": {
     "iopub.execute_input": "2021-06-05T10:45:05.151751Z",
     "iopub.status.busy": "2021-06-05T10:45:05.151062Z",
     "iopub.status.idle": "2021-06-05T10:45:05.288639Z",
     "shell.execute_reply": "2021-06-05T10:45:05.289207Z",
     "shell.execute_reply.started": "2021-06-05T10:38:57.122151Z"
    },
    "papermill": {
     "duration": 0.287812,
     "end_time": "2021-06-05T10:45:05.289386",
     "exception": false,
     "start_time": "2021-06-05T10:45:05.001574",
     "status": "completed"
    },
    "tags": []
   },
   "outputs": [
    {
     "name": "stdout",
     "output_type": "stream",
     "text": [
      "Decision Tree Model Accuracy :  88.26039086154694 %\n",
      "\n",
      "Confusion matrix :\n",
      "[[6330  100]\n",
      " [ 753   83]]\n",
      "\n",
      "Classification report:\n",
      "              precision    recall  f1-score   support\n",
      "\n",
      "           0       0.89      0.98      0.94      6430\n",
      "           1       0.45      0.10      0.16       836\n",
      "\n",
      "    accuracy                           0.88      7266\n",
      "   macro avg       0.67      0.54      0.55      7266\n",
      "weighted avg       0.84      0.88      0.85      7266\n",
      "\n"
     ]
    }
   ],
   "source": [
    "# Decision Tree classification\n",
    "\n",
    "from sklearn.tree import DecisionTreeClassifier\n",
    "\n",
    "decision_model = DecisionTreeClassifier(max_depth=12,min_samples_split=8)\n",
    "\n",
    "decision_model.fit(x_train, y_train)\n",
    "\n",
    "print('Decision Tree Model Accuracy : ', decision_model.score(x_test, y_test)*100, '%')\n",
    "\n",
    "prediction = decision_model.predict(x_test)\n",
    "print('\\nConfusion matrix :')\n",
    "print(confusion_matrix(y_test, prediction))\n",
    "      \n",
    "print('\\nClassification report:')      \n",
    "print(classification_report(y_test, prediction))"
   ]
  },
  {
   "cell_type": "code",
   "execution_count": 91,
   "metadata": {
    "execution": {
     "iopub.execute_input": "2021-06-05T10:45:05.581896Z",
     "iopub.status.busy": "2021-06-05T10:45:05.581205Z",
     "iopub.status.idle": "2021-06-05T10:45:07.208691Z",
     "shell.execute_reply": "2021-06-05T10:45:07.208179Z",
     "shell.execute_reply.started": "2021-06-05T10:38:57.225951Z"
    },
    "papermill": {
     "duration": 1.778652,
     "end_time": "2021-06-05T10:45:07.208830",
     "exception": false,
     "start_time": "2021-06-05T10:45:05.430178",
     "status": "completed"
    },
    "tags": []
   },
   "outputs": [
    {
     "name": "stdout",
     "output_type": "stream",
     "text": [
      "Random Forest Model Accuracy :  88.49435728048445 %\n",
      "\n",
      "Confusion matrix :\n",
      "[[6430    0]\n",
      " [ 836    0]]\n",
      "\n",
      "Classification report:\n",
      "              precision    recall  f1-score   support\n",
      "\n",
      "           0       0.88      1.00      0.94      6430\n",
      "           1       0.00      0.00      0.00       836\n",
      "\n",
      "    accuracy                           0.88      7266\n",
      "   macro avg       0.44      0.50      0.47      7266\n",
      "weighted avg       0.78      0.88      0.83      7266\n",
      "\n"
     ]
    }
   ],
   "source": [
    "# Random Forest classification\n",
    "\n",
    "from sklearn.ensemble import RandomForestClassifier\n",
    "\n",
    "RandomForest_model = RandomForestClassifier(n_estimators=250,\n",
    "                                            max_depth=12,\n",
    "                                            min_samples_leaf=16)\n",
    "\n",
    "RandomForest_model.fit(x_train, y_train)\n",
    "\n",
    "print('Random Forest Model Accuracy : ', RandomForest_model.score(x_test, y_test)*100, '%')\n",
    "\n",
    "prediction = RandomForest_model.predict(x_test)\n",
    "print('\\nConfusion matrix :')\n",
    "print(confusion_matrix(y_test, prediction))\n",
    "      \n",
    "print('\\nClassification report:')      \n",
    "print(classification_report(y_test, prediction))"
   ]
  },
  {
   "cell_type": "code",
   "execution_count": 92,
   "metadata": {
    "execution": {
     "iopub.execute_input": "2021-06-05T10:45:07.499455Z",
     "iopub.status.busy": "2021-06-05T10:45:07.498509Z",
     "iopub.status.idle": "2021-06-05T10:45:10.781859Z",
     "shell.execute_reply": "2021-06-05T10:45:10.781198Z",
     "shell.execute_reply.started": "2021-06-05T10:38:59.083748Z"
    },
    "papermill": {
     "duration": 3.431711,
     "end_time": "2021-06-05T10:45:10.781997",
     "exception": false,
     "start_time": "2021-06-05T10:45:07.350286",
     "status": "completed"
    },
    "tags": []
   },
   "outputs": [
    {
     "name": "stdout",
     "output_type": "stream",
     "text": [
      "Support Vector Classifier Accuracy :  88.49435728048445 %\n",
      "\n",
      "Confusion matrix :\n",
      "[[6430    0]\n",
      " [ 836    0]]\n",
      "\n",
      "Classification report:\n",
      "              precision    recall  f1-score   support\n",
      "\n",
      "           0       0.88      1.00      0.94      6430\n",
      "           1       0.00      0.00      0.00       836\n",
      "\n",
      "    accuracy                           0.88      7266\n",
      "   macro avg       0.44      0.50      0.47      7266\n",
      "weighted avg       0.78      0.88      0.83      7266\n",
      "\n"
     ]
    }
   ],
   "source": [
    "# Support Vector Machine classification\n",
    "\n",
    "from sklearn.svm import SVC\n",
    "\n",
    "svc_model = SVC()\n",
    "\n",
    "svc_model.fit(x_train, y_train)\n",
    "\n",
    "print('Support Vector Classifier Accuracy : ', svc_model.score(x_test, y_test)*100, '%')\n",
    "\n",
    "prediction = svc_model.predict(x_test)\n",
    "print('\\nConfusion matrix :')\n",
    "print(confusion_matrix(y_test, prediction))\n",
    "      \n",
    "print('\\nClassification report:')      \n",
    "print(classification_report(y_test, prediction))"
   ]
  },
  {
   "cell_type": "code",
   "execution_count": 93,
   "metadata": {
    "execution": {
     "iopub.execute_input": "2021-06-05T10:45:11.077284Z",
     "iopub.status.busy": "2021-06-05T10:45:11.076621Z",
     "iopub.status.idle": "2021-06-05T10:45:11.327544Z",
     "shell.execute_reply": "2021-06-05T10:45:11.326980Z",
     "shell.execute_reply.started": "2021-06-05T10:39:02.349433Z"
    },
    "papermill": {
     "duration": 0.403598,
     "end_time": "2021-06-05T10:45:11.327687",
     "exception": false,
     "start_time": "2021-06-05T10:45:10.924089",
     "status": "completed"
    },
    "tags": []
   },
   "outputs": [
    {
     "name": "stdout",
     "output_type": "stream",
     "text": [
      "KNN Model Accuracy :  88.23286540049547 %\n",
      "\n",
      "Confusion matrix :\n",
      "[[6271  159]\n",
      " [ 696  140]]\n",
      "\n",
      "Classification report:\n",
      "              precision    recall  f1-score   support\n",
      "\n",
      "           0       0.90      0.98      0.94      6430\n",
      "           1       0.47      0.17      0.25       836\n",
      "\n",
      "    accuracy                           0.88      7266\n",
      "   macro avg       0.68      0.57      0.59      7266\n",
      "weighted avg       0.85      0.88      0.86      7266\n",
      "\n"
     ]
    }
   ],
   "source": [
    "# K Nearest Neighbor classification\n",
    "\n",
    "from sklearn.neighbors import KNeighborsClassifier\n",
    "\n",
    "knn_model = KNeighborsClassifier(n_neighbors = 7)\n",
    "\n",
    "knn_model.fit(x_train, y_train)\n",
    "\n",
    "print('KNN Model Accuracy : ', knn_model.score(x_test, y_test)*100, '%')\n",
    "\n",
    "prediction = knn_model.predict(x_test)\n",
    "print('\\nConfusion matrix :')\n",
    "print(confusion_matrix(y_test, prediction))\n",
    "      \n",
    "print('\\nClassification report:')      \n",
    "print(classification_report(y_test, prediction))"
   ]
  },
  {
   "cell_type": "code",
   "execution_count": 94,
   "metadata": {
    "execution": {
     "iopub.execute_input": "2021-06-05T10:45:11.620675Z",
     "iopub.status.busy": "2021-06-05T10:45:11.619797Z",
     "iopub.status.idle": "2021-06-05T10:45:12.089753Z",
     "shell.execute_reply": "2021-06-05T10:45:12.090536Z",
     "shell.execute_reply.started": "2021-06-05T10:39:02.607915Z"
    },
    "papermill": {
     "duration": 0.620352,
     "end_time": "2021-06-05T10:45:12.090777",
     "exception": false,
     "start_time": "2021-06-05T10:45:11.470425",
     "status": "completed"
    },
    "tags": []
   },
   "outputs": [
    {
     "name": "stdout",
     "output_type": "stream",
     "text": [
      "[10:37:43] WARNING: /Users/travis/build/dmlc/xgboost/src/learner.cc:1095: Starting in XGBoost 1.3.0, the default evaluation metric used with the objective 'binary:logistic' was changed from 'error' to 'logloss'. Explicitly set eval_metric if you'd like to restore the old behavior.\n",
      "XGBoost Model Accuracy :  88.76961189099917 %\n",
      "\n",
      "Confusion matrix :\n",
      "[[6373   57]\n",
      " [ 759   77]]\n",
      "\n",
      "Classification report:\n",
      "              precision    recall  f1-score   support\n",
      "\n",
      "           0       0.89      0.99      0.94      6430\n",
      "           1       0.57      0.09      0.16       836\n",
      "\n",
      "    accuracy                           0.89      7266\n",
      "   macro avg       0.73      0.54      0.55      7266\n",
      "weighted avg       0.86      0.89      0.85      7266\n",
      "\n"
     ]
    }
   ],
   "source": [
    "# XGBoost  classification\n",
    "\n",
    "from xgboost import XGBClassifier\n",
    "\n",
    "XGB_model = XGBClassifier()\n",
    "\n",
    "XGB_model.fit(x_train, y_train)\n",
    "\n",
    "print('XGBoost Model Accuracy : ', XGB_model.score(x_test, y_test)*100, '%')\n",
    "\n",
    "prediction = XGB_model.predict(x_test)\n",
    "print('\\nConfusion matrix :')\n",
    "print(confusion_matrix(y_test, prediction))\n",
    "      \n",
    "print('\\nClassification report:')      \n",
    "print(classification_report(y_test, prediction))"
   ]
  },
  {
   "cell_type": "raw",
   "metadata": {
    "papermill": {
     "duration": 0.142682,
     "end_time": "2021-06-05T10:45:12.376414",
     "exception": false,
     "start_time": "2021-06-05T10:45:12.233732",
     "status": "completed"
    },
    "tags": []
   },
   "source": [
    "Logistic Model Accuracy            :  78.84 %\n",
    "DecisionTree Model Accuracy        :  73.64 %\n",
    "Random Forest Model Accuracy       :  78.84 %\n",
    "Support Vector Classifier Accuracy :  78.84 %\n",
    "KNN Model Accuracy                 :  76.80 %\n",
    "XGBoost Model Accuracy             :  75.72 %"
   ]
  },
  {
   "cell_type": "markdown",
   "metadata": {
    "papermill": {
     "duration": 0.14262,
     "end_time": "2021-06-05T10:45:12.662116",
     "exception": false,
     "start_time": "2021-06-05T10:45:12.519496",
     "status": "completed"
    },
    "tags": []
   },
   "source": [
    "# Balancing dataset"
   ]
  },
  {
   "cell_type": "code",
   "execution_count": 95,
   "metadata": {
    "execution": {
     "iopub.execute_input": "2021-06-05T10:45:12.955902Z",
     "iopub.status.busy": "2021-06-05T10:45:12.954805Z",
     "iopub.status.idle": "2021-06-05T10:45:12.963249Z",
     "shell.execute_reply": "2021-06-05T10:45:12.963727Z",
     "shell.execute_reply.started": "2021-06-05T10:39:03.032533Z"
    },
    "papermill": {
     "duration": 0.160806,
     "end_time": "2021-06-05T10:45:12.963905",
     "exception": false,
     "start_time": "2021-06-05T10:45:12.803099",
     "status": "completed"
    },
    "tags": []
   },
   "outputs": [],
   "source": [
    "# scaling all features\n",
    "from sklearn.preprocessing import MinMaxScaler\n",
    "MMS = MinMaxScaler()\n",
    "x_train_scaled = pd.DataFrame(MMS.fit_transform(x_train), columns=x_train.columns)\n",
    "x_test_scaled = pd.DataFrame(MMS.transform(x_test), columns=x_test.columns)"
   ]
  },
  {
   "cell_type": "code",
   "execution_count": 96,
   "metadata": {
    "execution": {
     "iopub.execute_input": "2021-06-05T10:45:13.252652Z",
     "iopub.status.busy": "2021-06-05T10:45:13.251809Z",
     "iopub.status.idle": "2021-06-05T10:45:13.595297Z",
     "shell.execute_reply": "2021-06-05T10:45:13.595796Z",
     "shell.execute_reply.started": "2021-06-05T10:39:03.050447Z"
    },
    "papermill": {
     "duration": 0.490994,
     "end_time": "2021-06-05T10:45:13.595979",
     "exception": false,
     "start_time": "2021-06-05T10:45:13.104985",
     "status": "completed"
    },
    "tags": []
   },
   "outputs": [],
   "source": [
    "# adding samples to minority class using SMOTE\n",
    "from imblearn.over_sampling import SMOTE\n",
    "oversample = SMOTE()\n",
    "\n",
    "x_train_oversam, y_train_oversam = oversample.fit_resample(x_train_scaled, y_train)\n",
    "x_test_oversam, y_test_oversam = oversample.fit_resample(x_test_scaled, y_test)"
   ]
  },
  {
   "cell_type": "code",
   "execution_count": 97,
   "metadata": {
    "execution": {
     "iopub.execute_input": "2021-06-05T10:45:13.886978Z",
     "iopub.status.busy": "2021-06-05T10:45:13.886257Z",
     "iopub.status.idle": "2021-06-05T10:45:13.888815Z",
     "shell.execute_reply": "2021-06-05T10:45:13.889265Z",
     "shell.execute_reply.started": "2021-06-05T10:39:03.147583Z"
    },
    "papermill": {
     "duration": 0.151285,
     "end_time": "2021-06-05T10:45:13.889441",
     "exception": false,
     "start_time": "2021-06-05T10:45:13.738156",
     "status": "completed"
    },
    "tags": []
   },
   "outputs": [
    {
     "data": {
      "text/plain": [
       "0    88.169305\n",
       "1    11.830695\n",
       "Name: STATUS, dtype: float64"
      ]
     },
     "execution_count": 97,
     "metadata": {},
     "output_type": "execute_result"
    }
   ],
   "source": [
    "# Original majority and minority class\n",
    "y_train.value_counts(normalize=True)*100"
   ]
  },
  {
   "cell_type": "code",
   "execution_count": 98,
   "metadata": {
    "execution": {
     "iopub.execute_input": "2021-06-05T10:45:14.181597Z",
     "iopub.status.busy": "2021-06-05T10:45:14.180938Z",
     "iopub.status.idle": "2021-06-05T10:45:14.187802Z",
     "shell.execute_reply": "2021-06-05T10:45:14.188238Z",
     "shell.execute_reply.started": "2021-06-05T10:39:03.159605Z"
    },
    "papermill": {
     "duration": 0.153992,
     "end_time": "2021-06-05T10:45:14.188452",
     "exception": false,
     "start_time": "2021-06-05T10:45:14.034460",
     "status": "completed"
    },
    "tags": []
   },
   "outputs": [
    {
     "data": {
      "text/plain": [
       "1    50.0\n",
       "0    50.0\n",
       "Name: STATUS, dtype: float64"
      ]
     },
     "execution_count": 98,
     "metadata": {},
     "output_type": "execute_result"
    }
   ],
   "source": [
    "# after using SMOTE \n",
    "y_train_oversam.value_counts(normalize=True)*100"
   ]
  },
  {
   "cell_type": "markdown",
   "metadata": {
    "papermill": {
     "duration": 0.143421,
     "end_time": "2021-06-05T10:45:14.474065",
     "exception": false,
     "start_time": "2021-06-05T10:45:14.330644",
     "status": "completed"
    },
    "tags": []
   },
   "source": [
    "## Machine Learning Model after Balancing"
   ]
  },
  {
   "cell_type": "code",
   "execution_count": 99,
   "metadata": {
    "execution": {
     "iopub.execute_input": "2021-06-05T10:45:14.765300Z",
     "iopub.status.busy": "2021-06-05T10:45:14.764681Z",
     "iopub.status.idle": "2021-06-05T10:45:14.912081Z",
     "shell.execute_reply": "2021-06-05T10:45:14.913100Z",
     "shell.execute_reply.started": "2021-06-05T10:39:03.169548Z"
    },
    "papermill": {
     "duration": 0.294218,
     "end_time": "2021-06-05T10:45:14.913416",
     "exception": false,
     "start_time": "2021-06-05T10:45:14.619198",
     "status": "completed"
    },
    "tags": []
   },
   "outputs": [
    {
     "name": "stdout",
     "output_type": "stream",
     "text": [
      "Logistic Model Accuracy :  52.348367029548996 %\n",
      "\n",
      "Confusion matrix :\n",
      "[[3598 2832]\n",
      " [3296 3134]]\n",
      "\n",
      "Classification report:\n",
      "              precision    recall  f1-score   support\n",
      "\n",
      "           0       0.52      0.56      0.54      6430\n",
      "           1       0.53      0.49      0.51      6430\n",
      "\n",
      "    accuracy                           0.52     12860\n",
      "   macro avg       0.52      0.52      0.52     12860\n",
      "weighted avg       0.52      0.52      0.52     12860\n",
      "\n"
     ]
    }
   ],
   "source": [
    "# Logistic Regression\n",
    "\n",
    "from sklearn.linear_model import LogisticRegression\n",
    "from sklearn.metrics import classification_report, accuracy_score, confusion_matrix\n",
    "\n",
    "log_model = LogisticRegression()\n",
    "log_model.fit(x_train_oversam, y_train_oversam)\n",
    "\n",
    "print('Logistic Model Accuracy : ', log_model.score(x_test_oversam, y_test_oversam)*100, '%')\n",
    "\n",
    "prediction = log_model.predict(x_test_oversam)\n",
    "print('\\nConfusion matrix :')\n",
    "print(confusion_matrix(y_test_oversam, prediction))\n",
    "      \n",
    "print('\\nClassification report:')      \n",
    "print(classification_report(y_test_oversam, prediction))"
   ]
  },
  {
   "cell_type": "code",
   "execution_count": 100,
   "metadata": {
    "execution": {
     "iopub.execute_input": "2021-06-05T10:45:15.274930Z",
     "iopub.status.busy": "2021-06-05T10:45:15.274265Z",
     "iopub.status.idle": "2021-06-05T10:45:15.349777Z",
     "shell.execute_reply": "2021-06-05T10:45:15.350241Z",
     "shell.execute_reply.started": "2021-06-05T10:39:03.325308Z"
    },
    "papermill": {
     "duration": 0.227054,
     "end_time": "2021-06-05T10:45:15.350433",
     "exception": false,
     "start_time": "2021-06-05T10:45:15.123379",
     "status": "completed"
    },
    "tags": []
   },
   "outputs": [
    {
     "name": "stdout",
     "output_type": "stream",
     "text": [
      "Decision Tree Model Accuracy :  72.55832037325038 %\n",
      "\n",
      "Confusion matrix :\n",
      "[[3928 2502]\n",
      " [1027 5403]]\n",
      "\n",
      "Classification report:\n",
      "              precision    recall  f1-score   support\n",
      "\n",
      "           0       0.79      0.61      0.69      6430\n",
      "           1       0.68      0.84      0.75      6430\n",
      "\n",
      "    accuracy                           0.73     12860\n",
      "   macro avg       0.74      0.73      0.72     12860\n",
      "weighted avg       0.74      0.73      0.72     12860\n",
      "\n"
     ]
    }
   ],
   "source": [
    "# Decision Tree classification\n",
    "\n",
    "from sklearn.tree import DecisionTreeClassifier\n",
    "\n",
    "decision_model = DecisionTreeClassifier(max_depth=12,min_samples_split=8)\n",
    "\n",
    "decision_model.fit(x_train_oversam, y_train_oversam)\n",
    "\n",
    "print('Decision Tree Model Accuracy : ', decision_model.score(x_test_oversam, y_test_oversam)*100, '%')\n",
    "\n",
    "prediction = decision_model.predict(x_test_oversam)\n",
    "print('\\nConfusion matrix :')\n",
    "print(confusion_matrix(y_test_oversam, prediction))\n",
    "      \n",
    "print('\\nClassification report:')      \n",
    "print(classification_report(y_test_oversam, prediction))"
   ]
  },
  {
   "cell_type": "code",
   "execution_count": 101,
   "metadata": {
    "execution": {
     "iopub.execute_input": "2021-06-05T10:45:15.649420Z",
     "iopub.status.busy": "2021-06-05T10:45:15.648769Z",
     "iopub.status.idle": "2021-06-05T10:45:18.644795Z",
     "shell.execute_reply": "2021-06-05T10:45:18.643970Z",
     "shell.execute_reply.started": "2021-06-05T10:39:03.439170Z"
    },
    "papermill": {
     "duration": 3.149782,
     "end_time": "2021-06-05T10:45:18.644997",
     "exception": false,
     "start_time": "2021-06-05T10:45:15.495215",
     "status": "completed"
    },
    "tags": []
   },
   "outputs": [
    {
     "name": "stdout",
     "output_type": "stream",
     "text": [
      "Random Forest Model Accuracy :  82.89269051321928 %\n",
      "\n",
      "Confusion matrix :\n",
      "[[5531  899]\n",
      " [1301 5129]]\n",
      "\n",
      "Classification report:\n",
      "              precision    recall  f1-score   support\n",
      "\n",
      "           0       0.81      0.86      0.83      6430\n",
      "           1       0.85      0.80      0.82      6430\n",
      "\n",
      "    accuracy                           0.83     12860\n",
      "   macro avg       0.83      0.83      0.83     12860\n",
      "weighted avg       0.83      0.83      0.83     12860\n",
      "\n"
     ]
    }
   ],
   "source": [
    "# Random Forest classification\n",
    "\n",
    "from sklearn.ensemble import RandomForestClassifier\n",
    "\n",
    "RandomForest_model = RandomForestClassifier(n_estimators=250,\n",
    "                                            max_depth=12,\n",
    "                                            min_samples_leaf=16)\n",
    "\n",
    "RandomForest_model.fit(x_train_oversam, y_train_oversam)\n",
    "\n",
    "print('Random Forest Model Accuracy : ', RandomForest_model.score(x_test_oversam, y_test_oversam)*100, '%')\n",
    "\n",
    "prediction = RandomForest_model.predict(x_test_oversam)\n",
    "print('\\nConfusion matrix :')\n",
    "print(confusion_matrix(y_test_oversam, prediction))\n",
    "      \n",
    "print('\\nClassification report:')      \n",
    "print(classification_report(y_test_oversam, prediction))"
   ]
  },
  {
   "cell_type": "code",
   "execution_count": 102,
   "metadata": {
    "execution": {
     "iopub.execute_input": "2021-06-05T10:45:18.948522Z",
     "iopub.status.busy": "2021-06-05T10:45:18.947533Z",
     "iopub.status.idle": "2021-06-05T10:45:36.657585Z",
     "shell.execute_reply": "2021-06-05T10:45:36.658279Z",
     "shell.execute_reply.started": "2021-06-05T10:39:06.456258Z"
    },
    "papermill": {
     "duration": 17.866118,
     "end_time": "2021-06-05T10:45:36.658527",
     "exception": false,
     "start_time": "2021-06-05T10:45:18.792409",
     "status": "completed"
    },
    "tags": []
   },
   "outputs": [
    {
     "name": "stdout",
     "output_type": "stream",
     "text": [
      "Support Vector Classifier Accuracy :  58.4447900466563 %\n",
      "\n",
      "Confusion matrix :\n",
      "[[3612 2818]\n",
      " [2526 3904]]\n",
      "\n",
      "Classification report:\n",
      "              precision    recall  f1-score   support\n",
      "\n",
      "           0       0.59      0.56      0.57      6430\n",
      "           1       0.58      0.61      0.59      6430\n",
      "\n",
      "    accuracy                           0.58     12860\n",
      "   macro avg       0.58      0.58      0.58     12860\n",
      "weighted avg       0.58      0.58      0.58     12860\n",
      "\n"
     ]
    }
   ],
   "source": [
    "# Support Vector Machine classification\n",
    "\n",
    "from sklearn.svm import SVC\n",
    "\n",
    "svc_model = SVC()\n",
    "\n",
    "svc_model.fit(x_train_oversam, y_train_oversam)\n",
    "\n",
    "print('Support Vector Classifier Accuracy : ', svc_model.score(x_test_oversam, y_test_oversam)*100, '%')\n",
    "\n",
    "prediction = svc_model.predict(x_test_oversam)\n",
    "print('\\nConfusion matrix :')\n",
    "print(confusion_matrix(y_test_oversam, prediction))\n",
    "      \n",
    "print('\\nClassification report:')      \n",
    "print(classification_report(y_test_oversam, prediction))"
   ]
  },
  {
   "cell_type": "code",
   "execution_count": 103,
   "metadata": {
    "execution": {
     "iopub.execute_input": "2021-06-05T10:45:36.960069Z",
     "iopub.status.busy": "2021-06-05T10:45:36.958939Z",
     "iopub.status.idle": "2021-06-05T10:45:37.697735Z",
     "shell.execute_reply": "2021-06-05T10:45:37.698432Z",
     "shell.execute_reply.started": "2021-06-05T10:39:24.573561Z"
    },
    "papermill": {
     "duration": 0.893855,
     "end_time": "2021-06-05T10:45:37.698677",
     "exception": false,
     "start_time": "2021-06-05T10:45:36.804822",
     "status": "completed"
    },
    "tags": []
   },
   "outputs": [
    {
     "name": "stdout",
     "output_type": "stream",
     "text": [
      "KNN Model Accuracy :  68.94245723172628 %\n",
      "\n",
      "Confusion matrix :\n",
      "[[5066 1364]\n",
      " [2630 3800]]\n",
      "\n",
      "Classification report:\n",
      "              precision    recall  f1-score   support\n",
      "\n",
      "           0       0.66      0.79      0.72      6430\n",
      "           1       0.74      0.59      0.66      6430\n",
      "\n",
      "    accuracy                           0.69     12860\n",
      "   macro avg       0.70      0.69      0.69     12860\n",
      "weighted avg       0.70      0.69      0.69     12860\n",
      "\n"
     ]
    }
   ],
   "source": [
    "# K Nearest Neighbor classification\n",
    "\n",
    "from sklearn.neighbors import KNeighborsClassifier\n",
    "\n",
    "knn_model = KNeighborsClassifier(n_neighbors = 7)\n",
    "\n",
    "knn_model.fit(x_train_oversam, y_train_oversam)\n",
    "\n",
    "print('KNN Model Accuracy : ', knn_model.score(x_test_oversam, y_test_oversam)*100, '%')\n",
    "\n",
    "prediction = knn_model.predict(x_test_oversam)\n",
    "print('\\nConfusion matrix :')\n",
    "print(confusion_matrix(y_test_oversam, prediction))\n",
    "      \n",
    "print('\\nClassification report:')      \n",
    "print(classification_report(y_test_oversam, prediction))"
   ]
  },
  {
   "cell_type": "code",
   "execution_count": 104,
   "metadata": {
    "execution": {
     "iopub.execute_input": "2021-06-05T10:45:37.997230Z",
     "iopub.status.busy": "2021-06-05T10:45:37.996562Z",
     "iopub.status.idle": "2021-06-05T10:45:38.708599Z",
     "shell.execute_reply": "2021-06-05T10:45:38.707986Z",
     "shell.execute_reply.started": "2021-06-05T10:39:25.309142Z"
    },
    "papermill": {
     "duration": 0.864002,
     "end_time": "2021-06-05T10:45:38.708770",
     "exception": false,
     "start_time": "2021-06-05T10:45:37.844768",
     "status": "completed"
    },
    "tags": []
   },
   "outputs": [
    {
     "name": "stdout",
     "output_type": "stream",
     "text": [
      "[10:39:35] WARNING: /Users/travis/build/dmlc/xgboost/src/learner.cc:1095: Starting in XGBoost 1.3.0, the default evaluation metric used with the objective 'binary:logistic' was changed from 'error' to 'logloss'. Explicitly set eval_metric if you'd like to restore the old behavior.\n",
      "XGBoost Model Accuracy :  90.8398133748056 %\n",
      "\n",
      "Confusion matrix :\n",
      "[[6160  270]\n",
      " [ 908 5522]]\n",
      "\n",
      "Classification report:\n",
      "              precision    recall  f1-score   support\n",
      "\n",
      "           0       0.87      0.96      0.91      6430\n",
      "           1       0.95      0.86      0.90      6430\n",
      "\n",
      "    accuracy                           0.91     12860\n",
      "   macro avg       0.91      0.91      0.91     12860\n",
      "weighted avg       0.91      0.91      0.91     12860\n",
      "\n"
     ]
    }
   ],
   "source": [
    "# XGBoost  classification\n",
    "\n",
    "from xgboost import XGBClassifier\n",
    "\n",
    "XGB_model = XGBClassifier()\n",
    "\n",
    "XGB_model.fit(x_train_oversam, y_train_oversam)\n",
    "\n",
    "print('XGBoost Model Accuracy : ', XGB_model.score(x_test_oversam, y_test_oversam)*100, '%')\n",
    "\n",
    "prediction = XGB_model.predict(x_test_oversam)\n",
    "print('\\nConfusion matrix :')\n",
    "print(confusion_matrix(y_test_oversam, prediction))\n",
    "      \n",
    "print('\\nClassification report:')      \n",
    "print(classification_report(y_test_oversam, prediction))"
   ]
  },
  {
   "cell_type": "raw",
   "metadata": {
    "papermill": {
     "duration": 0.150767,
     "end_time": "2021-06-05T10:45:39.004900",
     "exception": false,
     "start_time": "2021-06-05T10:45:38.854133",
     "status": "completed"
    },
    "tags": []
   },
   "source": [
    "Logistic Model Accuracy            : 50.60  %\n",
    "DecisionTree Model Accuracy        : 69.55  %\n",
    "Random Forest Model Accuracy       : 76.00  %\n",
    "Support Vector Classifier Accuracy : 49.79  %\n",
    "KNN Model Accuracy                 : 45.98  %\n",
    "XGBoost Model Accuracy             : 84.14  %"
   ]
  },
  {
   "cell_type": "markdown",
   "metadata": {
    "papermill": {
     "duration": 0.145287,
     "end_time": "2021-06-05T10:45:39.297256",
     "exception": false,
     "start_time": "2021-06-05T10:45:39.151969",
     "status": "completed"
    },
    "tags": []
   },
   "source": [
    "# Validation"
   ]
  },
  {
   "cell_type": "markdown",
   "metadata": {
    "papermill": {
     "duration": 0.145286,
     "end_time": "2021-06-05T10:45:39.588426",
     "exception": false,
     "start_time": "2021-06-05T10:45:39.443140",
     "status": "completed"
    },
    "tags": []
   },
   "source": [
    "### K-Fold Cross Validation"
   ]
  },
  {
   "cell_type": "code",
   "execution_count": 105,
   "metadata": {
    "execution": {
     "iopub.execute_input": "2021-06-05T10:45:39.886182Z",
     "iopub.status.busy": "2021-06-05T10:45:39.885509Z",
     "iopub.status.idle": "2021-06-05T10:45:39.888271Z",
     "shell.execute_reply": "2021-06-05T10:45:39.887777Z",
     "shell.execute_reply.started": "2021-06-05T10:39:26.035579Z"
    },
    "papermill": {
     "duration": 0.152997,
     "end_time": "2021-06-05T10:45:39.888427",
     "exception": false,
     "start_time": "2021-06-05T10:45:39.735430",
     "status": "completed"
    },
    "tags": []
   },
   "outputs": [],
   "source": [
    "from sklearn.model_selection import KFold\n",
    "from sklearn.model_selection import cross_val_score\n",
    "kfold = KFold(5)"
   ]
  },
  {
   "cell_type": "code",
   "execution_count": 106,
   "metadata": {
    "execution": {
     "iopub.execute_input": "2021-06-05T10:45:40.188427Z",
     "iopub.status.busy": "2021-06-05T10:45:40.187741Z",
     "iopub.status.idle": "2021-06-05T10:45:40.549093Z",
     "shell.execute_reply": "2021-06-05T10:45:40.550118Z",
     "shell.execute_reply.started": "2021-06-05T10:39:26.040501Z"
    },
    "papermill": {
     "duration": 0.514707,
     "end_time": "2021-06-05T10:45:40.550407",
     "exception": false,
     "start_time": "2021-06-05T10:45:40.035700",
     "status": "completed"
    },
    "tags": []
   },
   "outputs": [
    {
     "name": "stdout",
     "output_type": "stream",
     "text": [
      "[88.94852739 90.29593944 88.49277357 89.24982794 84.18444597] \n",
      "\n",
      "88.234302862288\n"
     ]
    }
   ],
   "source": [
    "# Logistic Regression\n",
    "\n",
    "results=cross_val_score(log_model,features,label,cv=kfold)\n",
    "print(results*100,'\\n')\n",
    "\n",
    "print(np.mean(results)*100)"
   ]
  },
  {
   "cell_type": "code",
   "execution_count": 107,
   "metadata": {
    "execution": {
     "iopub.execute_input": "2021-06-05T10:45:40.899188Z",
     "iopub.status.busy": "2021-06-05T10:45:40.898130Z",
     "iopub.status.idle": "2021-06-05T10:45:41.041782Z",
     "shell.execute_reply": "2021-06-05T10:45:41.042337Z",
     "shell.execute_reply.started": "2021-06-05T10:39:26.412682Z"
    },
    "papermill": {
     "duration": 0.295283,
     "end_time": "2021-06-05T10:45:41.042506",
     "exception": false,
     "start_time": "2021-06-05T10:45:40.747223",
     "status": "completed"
    },
    "tags": []
   },
   "outputs": [
    {
     "name": "stdout",
     "output_type": "stream",
     "text": [
      "[13.23974677 57.56366139 63.39986235 82.07845836 78.77494838] \n",
      "\n",
      "59.011335450880495\n"
     ]
    }
   ],
   "source": [
    "# Decision Tree classification\n",
    "\n",
    "results=cross_val_score(decision_model,features,label,cv=kfold)\n",
    "print(results*100,'\\n')\n",
    "\n",
    "print(np.mean(results)*100)"
   ]
  },
  {
   "cell_type": "code",
   "execution_count": 108,
   "metadata": {
    "execution": {
     "iopub.execute_input": "2021-06-05T10:45:41.341453Z",
     "iopub.status.busy": "2021-06-05T10:45:41.340797Z",
     "iopub.status.idle": "2021-06-05T10:45:49.153026Z",
     "shell.execute_reply": "2021-06-05T10:45:49.153493Z",
     "shell.execute_reply.started": "2021-06-05T10:39:26.600762Z"
    },
    "papermill": {
     "duration": 7.96426,
     "end_time": "2021-06-05T10:45:49.153678",
     "exception": false,
     "start_time": "2021-06-05T10:45:41.189418",
     "status": "completed"
    },
    "tags": []
   },
   "outputs": [
    {
     "name": "stdout",
     "output_type": "stream",
     "text": [
      "[13.32232315 90.29593944 88.49277357 89.24982794 84.18444597] \n",
      "\n",
      "73.10906201450382\n"
     ]
    }
   ],
   "source": [
    "# Random Forest classification\n",
    "\n",
    "results=cross_val_score(RandomForest_model,features,label,cv=kfold)\n",
    "print(results*100,'\\n')\n",
    "\n",
    "print(np.mean(results)*100)"
   ]
  },
  {
   "cell_type": "code",
   "execution_count": 109,
   "metadata": {
    "execution": {
     "iopub.execute_input": "2021-06-05T10:45:49.451958Z",
     "iopub.status.busy": "2021-06-05T10:45:49.450993Z",
     "iopub.status.idle": "2021-06-05T10:46:02.230698Z",
     "shell.execute_reply": "2021-06-05T10:46:02.229977Z",
     "shell.execute_reply.started": "2021-06-05T10:39:34.345985Z"
    },
    "papermill": {
     "duration": 12.928808,
     "end_time": "2021-06-05T10:46:02.230905",
     "exception": false,
     "start_time": "2021-06-05T10:45:49.302097",
     "status": "completed"
    },
    "tags": []
   },
   "outputs": [
    {
     "name": "stdout",
     "output_type": "stream",
     "text": [
      "[88.94852739 90.29593944 88.49277357 89.24982794 84.18444597] \n",
      "\n",
      "88.234302862288\n"
     ]
    }
   ],
   "source": [
    "# Support Vector Machine classification\n",
    "\n",
    "results=cross_val_score(svc_model,features,label,cv=kfold)\n",
    "print(results*100,'\\n')\n",
    "\n",
    "print(np.mean(results)*100)"
   ]
  },
  {
   "cell_type": "code",
   "execution_count": 110,
   "metadata": {
    "execution": {
     "iopub.execute_input": "2021-06-05T10:46:02.530188Z",
     "iopub.status.busy": "2021-06-05T10:46:02.529214Z",
     "iopub.status.idle": "2021-06-05T10:46:03.154833Z",
     "shell.execute_reply": "2021-06-05T10:46:03.154348Z",
     "shell.execute_reply.started": "2021-06-05T10:39:47.306395Z"
    },
    "papermill": {
     "duration": 0.776901,
     "end_time": "2021-06-05T10:46:03.154974",
     "exception": false,
     "start_time": "2021-06-05T10:46:02.378073",
     "status": "completed"
    },
    "tags": []
   },
   "outputs": [
    {
     "name": "stdout",
     "output_type": "stream",
     "text": [
      "[43.76548307 56.95801789 79.65588438 76.91672402 80.06882312] \n",
      "\n",
      "67.47298649736899\n"
     ]
    }
   ],
   "source": [
    "# K Nearest Neighbor classification\n",
    "\n",
    "results=cross_val_score(knn_model,features,label,cv=kfold)\n",
    "print(results*100,'\\n')\n",
    "\n",
    "print(np.mean(results)*100)"
   ]
  },
  {
   "cell_type": "code",
   "execution_count": 111,
   "metadata": {
    "execution": {
     "iopub.execute_input": "2021-06-05T10:46:03.449503Z",
     "iopub.status.busy": "2021-06-05T10:46:03.448566Z",
     "iopub.status.idle": "2021-06-05T10:46:05.226570Z",
     "shell.execute_reply": "2021-06-05T10:46:05.227110Z",
     "shell.execute_reply.started": "2021-06-05T10:39:47.960415Z"
    },
    "papermill": {
     "duration": 1.929089,
     "end_time": "2021-06-05T10:46:05.227296",
     "exception": false,
     "start_time": "2021-06-05T10:46:03.298207",
     "status": "completed"
    },
    "tags": []
   },
   "outputs": [
    {
     "name": "stdout",
     "output_type": "stream",
     "text": [
      "[10:40:35] WARNING: /Users/travis/build/dmlc/xgboost/src/learner.cc:1095: Starting in XGBoost 1.3.0, the default evaluation metric used with the objective 'binary:logistic' was changed from 'error' to 'logloss'. Explicitly set eval_metric if you'd like to restore the old behavior.\n",
      "[10:40:36] WARNING: /Users/travis/build/dmlc/xgboost/src/learner.cc:1095: Starting in XGBoost 1.3.0, the default evaluation metric used with the objective 'binary:logistic' was changed from 'error' to 'logloss'. Explicitly set eval_metric if you'd like to restore the old behavior.\n",
      "[10:40:37] WARNING: /Users/travis/build/dmlc/xgboost/src/learner.cc:1095: Starting in XGBoost 1.3.0, the default evaluation metric used with the objective 'binary:logistic' was changed from 'error' to 'logloss'. Explicitly set eval_metric if you'd like to restore the old behavior.\n",
      "[10:40:38] WARNING: /Users/travis/build/dmlc/xgboost/src/learner.cc:1095: Starting in XGBoost 1.3.0, the default evaluation metric used with the objective 'binary:logistic' was changed from 'error' to 'logloss'. Explicitly set eval_metric if you'd like to restore the old behavior.\n",
      "[10:40:39] WARNING: /Users/travis/build/dmlc/xgboost/src/learner.cc:1095: Starting in XGBoost 1.3.0, the default evaluation metric used with the objective 'binary:logistic' was changed from 'error' to 'logloss'. Explicitly set eval_metric if you'd like to restore the old behavior.\n",
      "[13.28103496 15.19614591 61.89951824 43.8678596  83.39986235] \n",
      "\n",
      "43.52888421101287\n"
     ]
    }
   ],
   "source": [
    "# XGBoost classification\n",
    "\n",
    "results=cross_val_score(XGB_model,features,label,cv=kfold)\n",
    "print(results*100,'\\n')\n",
    "\n",
    "print(np.mean(results)*100)"
   ]
  },
  {
   "cell_type": "markdown",
   "metadata": {
    "papermill": {
     "duration": 0.151788,
     "end_time": "2021-06-05T10:46:29.636467",
     "exception": false,
     "start_time": "2021-06-05T10:46:29.484679",
     "status": "completed"
    },
    "tags": []
   },
   "source": [
    "# Conclusion"
   ]
  },
  {
   "cell_type": "raw",
   "metadata": {
    "papermill": {
     "duration": 0.149347,
     "end_time": "2021-06-05T10:46:29.939099",
     "exception": false,
     "start_time": "2021-06-05T10:46:29.789752",
     "status": "completed"
    },
    "tags": []
   },
   "source": [
    "After comparing all the classification algorithms, it is concluded that under various\n",
    "conditions, XGBoost Model is giving highest accuracy of 84.14 %, hence we will use XGBoost Model for predicion"
   ]
  }
 ],
 "metadata": {
  "kernelspec": {
   "display_name": "Python 3",
   "language": "python",
   "name": "python3"
  },
  "language_info": {
   "codemirror_mode": {
    "name": "ipython",
    "version": 3
   },
   "file_extension": ".py",
   "mimetype": "text/x-python",
   "name": "python",
   "nbconvert_exporter": "python",
   "pygments_lexer": "ipython3",
   "version": "3.8.5"
  },
  "papermill": {
   "default_parameters": {},
   "duration": 130.067901,
   "end_time": "2021-06-05T10:46:31.671426",
   "environment_variables": {},
   "exception": null,
   "input_path": "__notebook__.ipynb",
   "output_path": "__notebook__.ipynb",
   "parameters": {},
   "start_time": "2021-06-05T10:44:21.603525",
   "version": "2.3.3"
  }
 },
 "nbformat": 4,
 "nbformat_minor": 5
}
